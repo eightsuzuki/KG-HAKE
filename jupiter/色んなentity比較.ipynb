{
 "cells": [
  {
   "cell_type": "markdown",
   "metadata": {},
   "source": [
    "\t_hypernym\tdog.n.01 10\n",
    "\t_hypernym\tgenus.n.02 08108972 19\n",
    "\t_hypernym\tmammal_genus.n.01　01864707\n",
    "\t_hypernym\tplant_genus.n.01\n",
    "\t_hypernym\tcar.n.01\n",
    "\n",
    "\n",
    "genus.n.02 24\n",
    "mammal_genus.n.01 251     mammal 399\n",
    "fish_genus.n.01 214       fish 820\n",
    "reptile_genus.n.01　144\n",
    "bird_genus.n.01 278\n",
    "\n",
    "genus.n.02 24"
   ]
  },
  {
   "cell_type": "code",
   "execution_count": 5,
   "metadata": {},
   "outputs": [
    {
     "data": {
      "application/vnd.plotly.v1+json": {
       "config": {
        "plotlyServerURL": "https://plot.ly"
       },
       "data": [
        {
         "marker": {
          "color": "red",
          "size": 5
         },
         "mode": "markers",
         "name": "fern_genus.n.01",
         "opacity": 0.4,
         "type": "scatter",
         "x": [
          4.018837928771973
         ],
         "y": [
          -4.04686164855957
         ]
        },
        {
         "marker": {
          "color": "red",
          "size": 5
         },
         "mode": "markers",
         "name": "gymnosperm_genus.n.01",
         "opacity": 0.4,
         "type": "scatter",
         "x": [
          1.5961658954620361
         ],
         "y": [
          0.5568881630897522
         ]
        },
        {
         "marker": {
          "color": "red",
          "size": 5
         },
         "mode": "markers",
         "name": "mammal_genus.n.01",
         "opacity": 0.4,
         "type": "scatter",
         "x": [
          2.5924270153045654
         ],
         "y": [
          -1.561161994934082
         ]
        },
        {
         "marker": {
          "color": "red",
          "size": 5
         },
         "mode": "markers",
         "name": "monocot_genus.n.01",
         "opacity": 0.4,
         "type": "scatter",
         "x": [
          1.8098138570785522
         ],
         "y": [
          -1.9462610483169556
         ]
        },
        {
         "marker": {
          "color": "red",
          "size": 5
         },
         "mode": "markers",
         "name": "fungus_genus.n.01",
         "opacity": 0.4,
         "type": "scatter",
         "x": [
          4.123536586761475
         ],
         "y": [
          -2.2691755294799805
         ]
        },
        {
         "marker": {
          "color": "red",
          "size": 5
         },
         "mode": "markers",
         "name": "protoctist_genus.n.01",
         "opacity": 0.4,
         "type": "scatter",
         "x": [
          1.932614803314209
         ],
         "y": [
          2.347982168197632
         ]
        },
        {
         "marker": {
          "color": "red",
          "size": 5
         },
         "mode": "markers",
         "name": "mollusk_genus.n.01",
         "opacity": 0.4,
         "type": "scatter",
         "x": [
          2.668926239013672
         ],
         "y": [
          -3.9011597633361816
         ]
        },
        {
         "marker": {
          "color": "red",
          "size": 5
         },
         "mode": "markers",
         "name": "amphibian_genus.n.01",
         "opacity": 0.4,
         "type": "scatter",
         "x": [
          2.770975351333618
         ],
         "y": [
          -0.8405666351318359
         ]
        },
        {
         "marker": {
          "color": "red",
          "size": 5
         },
         "mode": "markers",
         "name": "fish_genus.n.01",
         "opacity": 0.4,
         "type": "scatter",
         "x": [
          2.954904794692993
         ],
         "y": [
          -2.140655040740967
         ]
        },
        {
         "marker": {
          "color": "red",
          "size": 5
         },
         "mode": "markers",
         "name": "bird_genus.n.01",
         "opacity": 0.4,
         "type": "scatter",
         "x": [
          2.1871109008789062
         ],
         "y": [
          -2.661365270614624
         ]
        },
        {
         "marker": {
          "color": "red",
          "size": 5
         },
         "mode": "markers",
         "name": "dicot_genus.n.01",
         "opacity": 0.4,
         "type": "scatter",
         "x": [
          2.3356802463531494
         ],
         "y": [
          -2.0811026096343994
         ]
        },
        {
         "marker": {
          "color": "red",
          "size": 5
         },
         "mode": "markers",
         "name": "arthropod_genus.n.01",
         "opacity": 0.4,
         "type": "scatter",
         "x": [
          2.647770643234253
         ],
         "y": [
          -3.189931869506836
         ]
        },
        {
         "marker": {
          "color": "red",
          "size": 5
         },
         "mode": "markers",
         "name": "reptile_genus.n.01",
         "opacity": 0.4,
         "type": "scatter",
         "x": [
          1.4815452098846436
         ],
         "y": [
          -2.6213648319244385
         ]
        },
        {
         "marker": {
          "color": "red",
          "size": 5
         },
         "mode": "markers",
         "name": "family.n.06",
         "opacity": 0.4,
         "type": "scatter",
         "x": [
          2.555969476699829
         ],
         "y": [
          -2.2676784992218018
         ]
        },
        {
         "marker": {
          "color": "red",
          "size": 5
         },
         "mode": "markers",
         "name": "echinoderm_genus.n.01",
         "opacity": 0.4,
         "type": "scatter",
         "x": [
          6.495835304260254
         ],
         "y": [
          -4.457673072814941
         ]
        },
        {
         "marker": {
          "color": "red",
          "size": 5
         },
         "mode": "markers",
         "name": "coelenterate_genus.n.01",
         "opacity": 0.4,
         "type": "scatter",
         "x": [
          0.18821404874324799
         ],
         "y": [
          -4.128281593322754
         ]
        },
        {
         "marker": {
          "color": "red",
          "size": 5
         },
         "mode": "markers",
         "name": "worm_genus.n.01",
         "opacity": 0.4,
         "type": "scatter",
         "x": [
          -0.19665510952472687
         ],
         "y": [
          -2.9083781242370605
         ]
        },
        {
         "marker": {
          "color": "red",
          "size": 5
         },
         "mode": "markers",
         "name": "bacteria_genus.n.01",
         "opacity": 0.4,
         "type": "scatter",
         "x": [
          4.630408763885498
         ],
         "y": [
          -3.3182320594787598
         ]
        },
        {
         "marker": {
          "color": "red",
          "size": 5
         },
         "mode": "markers",
         "name": "chordate_genus.n.01",
         "opacity": 0.4,
         "type": "scatter",
         "x": [
          -0.8481367230415344
         ],
         "y": [
          -3.806767463684082
         ]
        },
        {
         "marker": {
          "color": "red",
          "size": 5
         },
         "mode": "markers",
         "name": "ctenophore_genus.n.01",
         "opacity": 0.4,
         "type": "scatter",
         "x": [
          0.6040127873420715
         ],
         "y": [
          2.8423967361450195
         ]
        },
        {
         "marker": {
          "color": "blue",
          "size": 5
         },
         "mode": "markers",
         "name": "working_dog.n.01",
         "opacity": 0.4,
         "type": "scatter",
         "x": [
          7.202178955078125
         ],
         "y": [
          1.4824155569076538
         ]
        },
        {
         "marker": {
          "color": "blue",
          "size": 5
         },
         "mode": "markers",
         "name": "pack.n.06",
         "opacity": 0.4,
         "type": "scatter",
         "x": [
          4.240425109863281
         ],
         "y": [
          -0.47199583053588867
         ]
        },
        {
         "marker": {
          "color": "blue",
          "size": 5
         },
         "mode": "markers",
         "name": "canis.n.01",
         "opacity": 0.4,
         "type": "scatter",
         "x": [
          8.396965026855469
         ],
         "y": [
          2.3680331707000732
         ]
        },
        {
         "marker": {
          "color": "blue",
          "size": 5
         },
         "mode": "markers",
         "name": "hunting_dog.n.01",
         "opacity": 0.4,
         "type": "scatter",
         "x": [
          3.527531862258911
         ],
         "y": [
          -0.9734081625938416
         ]
        },
        {
         "marker": {
          "color": "blue",
          "size": 5
         },
         "mode": "markers",
         "name": "griffon.n.02",
         "opacity": 0.4,
         "type": "scatter",
         "x": [
          7.945897102355957
         ],
         "y": [
          3.187413215637207
         ]
        },
        {
         "marker": {
          "color": "blue",
          "size": 5
         },
         "mode": "markers",
         "name": "toy_dog.n.01",
         "opacity": 0.4,
         "type": "scatter",
         "x": [
          8.43902587890625
         ],
         "y": [
          1.5296143293380737
         ]
        },
        {
         "marker": {
          "color": "blue",
          "size": 5
         },
         "mode": "markers",
         "name": "cur.n.01",
         "opacity": 0.4,
         "type": "scatter",
         "x": [
          7.069026947021484
         ],
         "y": [
          2.804037094116211
         ]
        },
        {
         "marker": {
          "color": "blue",
          "size": 5
         },
         "mode": "markers",
         "name": "pooch.n.01",
         "opacity": 0.4,
         "type": "scatter",
         "x": [
          8.40764045715332
         ],
         "y": [
          0.4147130846977234
         ]
        },
        {
         "marker": {
          "color": "blue",
          "size": 5
         },
         "mode": "markers",
         "name": "corgi.n.01",
         "opacity": 0.4,
         "type": "scatter",
         "x": [
          8.38620376586914
         ],
         "y": [
          4.203350067138672
         ]
        },
        {
         "marker": {
          "color": "blue",
          "size": 5
         },
         "mode": "markers",
         "name": "dalmatian.n.02",
         "opacity": 0.4,
         "type": "scatter",
         "x": [
          9.809924125671387
         ],
         "y": [
          0.8696479797363281
         ]
        },
        {
         "marker": {
          "color": "blue",
          "size": 5
         },
         "mode": "markers",
         "name": "poodle.n.01",
         "opacity": 0.4,
         "type": "scatter",
         "x": [
          9.553197860717773
         ],
         "y": [
          2.1704599857330322
         ]
        },
        {
         "marker": {
          "color": "blue",
          "size": 5
         },
         "mode": "markers",
         "name": "spitz.n.01",
         "opacity": 0.4,
         "type": "scatter",
         "x": [
          9.397552490234375
         ],
         "y": [
          3.3921239376068115
         ]
        },
        {
         "marker": {
          "color": "orange",
          "size": 5
         },
         "mode": "markers",
         "name": "protective_garment.n.01",
         "opacity": 0.4,
         "type": "scatter",
         "x": [
          -1.6495254039764404
         ],
         "y": [
          1.5432302951812744
         ]
        },
        {
         "marker": {
          "color": "orange",
          "size": 5
         },
         "mode": "markers",
         "name": "dress.v.02",
         "opacity": 0.4,
         "type": "scatter",
         "x": [
          0.04168866574764252
         ],
         "y": [
          -0.8028638362884521
         ]
        },
        {
         "marker": {
          "color": "orange",
          "size": 5
         },
         "mode": "markers",
         "name": "attire.n.01",
         "opacity": 0.4,
         "type": "scatter",
         "x": [
          -0.18898680806159973
         ],
         "y": [
          -1.2062267065048218
         ]
        },
        {
         "marker": {
          "color": "orange",
          "size": 5
         },
         "mode": "markers",
         "name": "vest.v.05",
         "opacity": 0.4,
         "type": "scatter",
         "x": [
          -5.369163990020752
         ],
         "y": [
          1.25960373878479
         ]
        },
        {
         "marker": {
          "color": "orange",
          "size": 5
         },
         "mode": "markers",
         "name": "wear.v.09",
         "opacity": 0.4,
         "type": "scatter",
         "x": [
          -1.4609389305114746
         ],
         "y": [
          -0.01409236527979374
         ]
        },
        {
         "marker": {
          "color": "orange",
          "size": 5
         },
         "mode": "markers",
         "name": "headdress.n.01",
         "opacity": 0.4,
         "type": "scatter",
         "x": [
          -0.621864914894104
         ],
         "y": [
          0.6081268191337585
         ]
        },
        {
         "marker": {
          "color": "orange",
          "size": 5
         },
         "mode": "markers",
         "name": "garment.n.01",
         "opacity": 0.4,
         "type": "scatter",
         "x": [
          0.4412142336368561
         ],
         "y": [
          -1.0792385339736938
         ]
        },
        {
         "marker": {
          "color": "orange",
          "size": 5
         },
         "mode": "markers",
         "name": "ready-to-wear.n.01",
         "opacity": 0.4,
         "type": "scatter",
         "x": [
          -3.5710577964782715
         ],
         "y": [
          -1.8222005367279053
         ]
        },
        {
         "marker": {
          "color": "orange",
          "size": 5
         },
         "mode": "markers",
         "name": "apparel.n.01",
         "opacity": 0.4,
         "type": "scatter",
         "x": [
          -0.15674547851085663
         ],
         "y": [
          -0.7141664624214172
         ]
        },
        {
         "marker": {
          "color": "orange",
          "size": 5
         },
         "mode": "markers",
         "name": "change.n.07",
         "opacity": 0.4,
         "type": "scatter",
         "x": [
          -1.155239224433899
         ],
         "y": [
          -1.9515494108200073
         ]
        },
        {
         "marker": {
          "color": "orange",
          "size": 5
         },
         "mode": "markers",
         "name": "array.n.03",
         "opacity": 0.4,
         "type": "scatter",
         "x": [
          -4.010702610015869
         ],
         "y": [
          0.9136878252029419
         ]
        },
        {
         "marker": {
          "color": "orange",
          "size": 5
         },
         "mode": "markers",
         "name": "man's_clothing.n.01",
         "opacity": 0.4,
         "type": "scatter",
         "x": [
          -1.7379844188690186
         ],
         "y": [
          1.3311450481414795
         ]
        },
        {
         "marker": {
          "color": "orange",
          "size": 5
         },
         "mode": "markers",
         "name": "wear.v.01",
         "opacity": 0.4,
         "type": "scatter",
         "x": [
          -2.270129442214966
         ],
         "y": [
          0.33812999725341797
         ]
        },
        {
         "marker": {
          "color": "orange",
          "size": 5
         },
         "mode": "markers",
         "name": "nightwear.n.01",
         "opacity": 0.4,
         "type": "scatter",
         "x": [
          -0.29284051060676575
         ],
         "y": [
          1.5800669193267822
         ]
        },
        {
         "marker": {
          "color": "orange",
          "size": 5
         },
         "mode": "markers",
         "name": "handwear.n.01",
         "opacity": 0.4,
         "type": "scatter",
         "x": [
          -1.6062872409820557
         ],
         "y": [
          -0.962714433670044
         ]
        },
        {
         "marker": {
          "color": "orange",
          "size": 5
         },
         "mode": "markers",
         "name": "black.n.07",
         "opacity": 0.4,
         "type": "scatter",
         "x": [
          -4.034295082092285
         ],
         "y": [
          2.5210816860198975
         ]
        },
        {
         "marker": {
          "color": "orange",
          "size": 5
         },
         "mode": "markers",
         "name": "vestiary.a.01",
         "opacity": 0.4,
         "type": "scatter",
         "x": [
          -3.125140428543091
         ],
         "y": [
          2.4388091564178467
         ]
        },
        {
         "marker": {
          "color": "orange",
          "size": 5
         },
         "mode": "markers",
         "name": "footwear.n.01",
         "opacity": 0.4,
         "type": "scatter",
         "x": [
          1.494356632232666
         ],
         "y": [
          -0.43177464604377747
         ]
        },
        {
         "marker": {
          "color": "orange",
          "size": 5
         },
         "mode": "markers",
         "name": "wear.v.02",
         "opacity": 0.4,
         "type": "scatter",
         "x": [
          -0.7296748161315918
         ],
         "y": [
          -0.5090681910514832
         ]
        },
        {
         "marker": {
          "color": "orange",
          "size": 5
         },
         "mode": "markers",
         "name": "tailor-made.n.01",
         "opacity": 0.4,
         "type": "scatter",
         "x": [
          -3.9994869232177734
         ],
         "y": [
          4.176562786102295
         ]
        },
        {
         "marker": {
          "color": "orange",
          "size": 5
         },
         "mode": "markers",
         "name": "outerwear.n.01",
         "opacity": 0.4,
         "type": "scatter",
         "x": [
          -5.08819055557251
         ],
         "y": [
          1.134434461593628
         ]
        },
        {
         "marker": {
          "color": "orange",
          "size": 5
         },
         "mode": "markers",
         "name": "woman's_clothing.n.01",
         "opacity": 0.4,
         "type": "scatter",
         "x": [
          0.03209983929991722
         ],
         "y": [
          0.29058486223220825
         ]
        },
        {
         "marker": {
          "color": "orange",
          "size": 5
         },
         "mode": "markers",
         "name": "street_clothes.n.01",
         "opacity": 0.4,
         "type": "scatter",
         "x": [
          -4.627910137176514
         ],
         "y": [
          0.6469748616218567
         ]
        },
        {
         "marker": {
          "color": "orange",
          "size": 5
         },
         "mode": "markers",
         "name": "drag.n.04",
         "opacity": 0.4,
         "type": "scatter",
         "x": [
          -3.6285126209259033
         ],
         "y": [
          -0.08844135701656342
         ]
        },
        {
         "marker": {
          "color": "orange",
          "size": 5
         },
         "mode": "markers",
         "name": "vestiture.n.01",
         "opacity": 0.4,
         "type": "scatter",
         "x": [
          -5.533984184265137
         ],
         "y": [
          2.9671785831451416
         ]
        },
        {
         "marker": {
          "color": "orange",
          "size": 5
         },
         "mode": "markers",
         "name": "civilian_clothing.n.01",
         "opacity": 0.4,
         "type": "scatter",
         "x": [
          -2.3085455894470215
         ],
         "y": [
          -2.1043808460235596
         ]
        },
        {
         "marker": {
          "color": "orange",
          "size": 5
         },
         "mode": "markers",
         "name": "slip-on.n.01",
         "opacity": 0.4,
         "type": "scatter",
         "x": [
          -4.720141410827637
         ],
         "y": [
          -0.8127821087837219
         ]
        },
        {
         "marker": {
          "color": "orange",
          "size": 5
         },
         "mode": "markers",
         "name": "grey.n.06",
         "opacity": 0.4,
         "type": "scatter",
         "x": [
          -3.055448055267334
         ],
         "y": [
          1.3556101322174072
         ]
        },
        {
         "marker": {
          "color": "orange",
          "size": 5
         },
         "mode": "markers",
         "name": "accessory.n.01",
         "opacity": 0.4,
         "type": "scatter",
         "x": [
          -2.585798740386963
         ],
         "y": [
          -0.7240077257156372
         ]
        },
        {
         "marker": {
          "color": "orange",
          "size": 5
         },
         "mode": "markers",
         "name": "leisure_wear.n.01",
         "opacity": 0.4,
         "type": "scatter",
         "x": [
          -2.265638589859009
         ],
         "y": [
          -10.443708419799805
         ]
        },
        {
         "marker": {
          "color": "orange",
          "size": 5
         },
         "mode": "markers",
         "name": "blue.n.02",
         "opacity": 0.4,
         "type": "scatter",
         "x": [
          -6.024920463562012
         ],
         "y": [
          0.01354130357503891
         ]
        },
        {
         "marker": {
          "color": "orange",
          "size": 5
         },
         "mode": "markers",
         "name": "slops.n.02",
         "opacity": 0.4,
         "type": "scatter",
         "x": [
          -2.07362961769104
         ],
         "y": [
          2.7958340644836426
         ]
        },
        {
         "marker": {
          "color": "orange",
          "size": 5
         },
         "mode": "markers",
         "name": "beachwear.n.01",
         "opacity": 0.4,
         "type": "scatter",
         "x": [
          -0.8746403455734253
         ],
         "y": [
          3.19276762008667
         ]
        },
        {
         "marker": {
          "color": "orange",
          "size": 5
         },
         "mode": "markers",
         "name": "neckpiece.n.01",
         "opacity": 0.4,
         "type": "scatter",
         "x": [
          -2.569580078125
         ],
         "y": [
          3.9646854400634766
         ]
        },
        {
         "marker": {
          "color": "green",
          "size": 5
         },
         "mode": "markers",
         "name": "arrhenatherum.n.01",
         "opacity": 0.4,
         "type": "scatter",
         "x": [
          3.8842432498931885
         ],
         "y": [
          9.697383880615234
         ]
        },
        {
         "marker": {
          "color": "green",
          "size": 5
         },
         "mode": "markers",
         "name": "erythroxylon.n.01",
         "opacity": 0.4,
         "type": "scatter",
         "x": [
          4.178905487060547
         ],
         "y": [
          -9.69024658203125
         ]
        },
        {
         "marker": {
          "color": "green",
          "size": 5
         },
         "mode": "markers",
         "name": "cynoglossum.n.01",
         "opacity": 0.4,
         "type": "scatter",
         "x": [
          17.294044494628906
         ],
         "y": [
          18.79443359375
         ]
        },
        {
         "marker": {
          "color": "green",
          "size": 5
         },
         "mode": "markers",
         "name": "linum.n.01",
         "opacity": 0.4,
         "type": "scatter",
         "x": [
          -103.78779602050781
         ],
         "y": [
          65.58143615722656
         ]
        },
        {
         "marker": {
          "color": "green",
          "size": 5
         },
         "mode": "markers",
         "name": "tamus.n.01",
         "opacity": 0.4,
         "type": "scatter",
         "x": [
          0.827998697757721
         ],
         "y": [
          5.105725288391113
         ]
        },
        {
         "marker": {
          "color": "green",
          "size": 5
         },
         "mode": "markers",
         "name": "ribes.n.01",
         "opacity": 0.4,
         "type": "scatter",
         "x": [
          2.1175882816314697
         ],
         "y": [
          3.744968891143799
         ]
        },
        {
         "marker": {
          "color": "green",
          "size": 5
         },
         "mode": "markers",
         "name": "linanthus.n.01",
         "opacity": 0.4,
         "type": "scatter",
         "x": [
          4.544195652008057
         ],
         "y": [
          16.346086502075195
         ]
        },
        {
         "marker": {
          "color": "green",
          "size": 5
         },
         "mode": "markers",
         "name": "genus_geranium.n.01",
         "opacity": 0.4,
         "type": "scatter",
         "x": [
          3.9143049716949463
         ],
         "y": [
          -7.8957109451293945
         ]
        },
        {
         "marker": {
          "color": "green",
          "size": 5
         },
         "mode": "markers",
         "name": "arenga.n.01",
         "opacity": 0.4,
         "type": "scatter",
         "x": [
          1.8598681688308716
         ],
         "y": [
          7.6848273277282715
         ]
        },
        {
         "marker": {
          "color": "green",
          "size": 5
         },
         "mode": "markers",
         "name": "corylopsis.n.01",
         "opacity": 0.4,
         "type": "scatter",
         "x": [
          6.29353666305542
         ],
         "y": [
          21.039146423339844
         ]
        },
        {
         "marker": {
          "color": "green",
          "size": 5
         },
         "mode": "markers",
         "name": "myosotis.n.01",
         "opacity": 0.4,
         "type": "scatter",
         "x": [
          17.298053741455078
         ],
         "y": [
          18.743844985961914
         ]
        },
        {
         "marker": {
          "color": "green",
          "size": 5
         },
         "mode": "markers",
         "name": "aeonium.n.01",
         "opacity": 0.4,
         "type": "scatter",
         "x": [
          4.87081241607666
         ],
         "y": [
          12.46175479888916
         ]
        },
        {
         "marker": {
          "color": "green",
          "size": 5
         },
         "mode": "markers",
         "name": "pinguicula.n.01",
         "opacity": 0.4,
         "type": "scatter",
         "x": [
          7.367867469787598
         ],
         "y": [
          14.607088088989258
         ]
        },
        {
         "marker": {
          "color": "green",
          "size": 5
         },
         "mode": "markers",
         "name": "genus_sedum.n.01",
         "opacity": 0.4,
         "type": "scatter",
         "x": [
          4.873842239379883
         ],
         "y": [
          12.464286804199219
         ]
        },
        {
         "marker": {
          "color": "green",
          "size": 5
         },
         "mode": "markers",
         "name": "sequoiadendron.n.01",
         "opacity": 0.4,
         "type": "scatter",
         "x": [
          1.3757997751235962
         ],
         "y": [
          1.3604722023010254
         ]
        },
        {
         "marker": {
          "color": "green",
          "size": 5
         },
         "mode": "markers",
         "name": "hamamelis.n.01",
         "opacity": 0.4,
         "type": "scatter",
         "x": [
          6.104126930236816
         ],
         "y": [
          20.659326553344727
         ]
        },
        {
         "marker": {
          "color": "green",
          "size": 5
         },
         "mode": "markers",
         "name": "borago.n.01",
         "opacity": 0.4,
         "type": "scatter",
         "x": [
          17.67430305480957
         ],
         "y": [
          17.637775421142578
         ]
        },
        {
         "marker": {
          "color": "green",
          "size": 5
         },
         "mode": "markers",
         "name": "alpinia.n.01",
         "opacity": 0.4,
         "type": "scatter",
         "x": [
          9.578577995300293
         ],
         "y": [
          18.542495727539062
         ]
        },
        {
         "marker": {
          "color": "green",
          "size": 5
         },
         "mode": "markers",
         "name": "proboscidea.n.01",
         "opacity": 0.4,
         "type": "scatter",
         "x": [
          -1.3113930225372314
         ],
         "y": [
          7.082345008850098
         ]
        },
        {
         "marker": {
          "color": "green",
          "size": 5
         },
         "mode": "markers",
         "name": "avena.n.01",
         "opacity": 0.4,
         "type": "scatter",
         "x": [
          3.87454891204834
         ],
         "y": [
          9.684972763061523
         ]
        },
        {
         "marker": {
          "color": "green",
          "size": 5
         },
         "mode": "markers",
         "name": "lithospermum.n.01",
         "opacity": 0.4,
         "type": "scatter",
         "x": [
          18.413320541381836
         ],
         "y": [
          18.775066375732422
         ]
        },
        {
         "marker": {
          "color": "green",
          "size": 5
         },
         "mode": "markers",
         "name": "livistona.n.01",
         "opacity": 0.4,
         "type": "scatter",
         "x": [
          1.8856122493743896
         ],
         "y": [
          7.504790306091309
         ]
        },
        {
         "marker": {
          "color": "green",
          "size": 5
         },
         "mode": "markers",
         "name": "parrotia.n.01",
         "opacity": 0.4,
         "type": "scatter",
         "x": [
          6.536890029907227
         ],
         "y": [
          20.91741943359375
         ]
        },
        {
         "marker": {
          "color": "green",
          "size": 5
         },
         "mode": "markers",
         "name": "dioscorea.n.01",
         "opacity": 0.4,
         "type": "scatter",
         "x": [
          3.204644203186035
         ],
         "y": [
          2.8164026737213135
         ]
        },
        {
         "marker": {
          "color": "green",
          "size": 5
         },
         "mode": "markers",
         "name": "sesamum.n.01",
         "opacity": 0.4,
         "type": "scatter",
         "x": [
          -1.234521508216858
         ],
         "y": [
          5.612852573394775
         ]
        },
        {
         "marker": {
          "color": "green",
          "size": 5
         },
         "mode": "markers",
         "name": "symphytum.n.01",
         "opacity": 0.4,
         "type": "scatter",
         "x": [
          5.323134422302246
         ],
         "y": [
          -4.2632317543029785
         ]
        },
        {
         "marker": {
          "color": "green",
          "size": 5
         },
         "mode": "markers",
         "name": "genus_phlox.n.01",
         "opacity": 0.4,
         "type": "scatter",
         "x": [
          4.5495171546936035
         ],
         "y": [
          16.340911865234375
         ]
        },
        {
         "marker": {
          "color": "green",
          "size": 5
         },
         "mode": "markers",
         "name": "phytelephas.n.01",
         "opacity": 0.4,
         "type": "scatter",
         "x": [
          1.9638382196426392
         ],
         "y": [
          6.985639572143555
         ]
        },
        {
         "marker": {
          "color": "green",
          "size": 5
         },
         "mode": "markers",
         "name": "paris.n.02",
         "opacity": 0.4,
         "type": "scatter",
         "x": [
          0.8246840834617615
         ],
         "y": [
          4.865745544433594
         ]
        },
        {
         "marker": {
          "color": "green",
          "size": 5
         },
         "mode": "markers",
         "name": "genus_martynia.n.01",
         "opacity": 0.4,
         "type": "scatter",
         "x": [
          -1.3088549375534058
         ],
         "y": [
          7.02957820892334
         ]
        },
        {
         "marker": {
          "color": "green",
          "size": 5
         },
         "mode": "markers",
         "name": "hackelia.n.01",
         "opacity": 0.4,
         "type": "scatter",
         "x": [
          17.615591049194336
         ],
         "y": [
          19.855133056640625
         ]
        },
        {
         "marker": {
          "color": "green",
          "size": 5
         },
         "mode": "markers",
         "name": "echium.n.01",
         "opacity": 0.4,
         "type": "scatter",
         "x": [
          16.307641983032227
         ],
         "y": [
          19.45208168029785
         ]
        },
        {
         "marker": {
          "color": "green",
          "size": 5
         },
         "mode": "markers",
         "name": "aframomum.n.01",
         "opacity": 0.4,
         "type": "scatter",
         "x": [
          9.584650993347168
         ],
         "y": [
          18.541826248168945
         ]
        },
        {
         "marker": {
          "color": "green",
          "size": 5
         },
         "mode": "markers",
         "name": "genus_campanula.n.01",
         "opacity": 0.4,
         "type": "scatter",
         "x": [
          5.315583229064941
         ],
         "y": [
          -7.265590190887451
         ]
        },
        {
         "marker": {
          "color": "green",
          "size": 5
         },
         "mode": "markers",
         "name": "mertensia.n.01",
         "opacity": 0.4,
         "type": "scatter",
         "x": [
          16.474258422851562
         ],
         "y": [
          18.160417556762695
         ]
        },
        {
         "marker": {
          "color": "green",
          "size": 5
         },
         "mode": "markers",
         "name": "genus_fothergilla.n.01",
         "opacity": 0.4,
         "type": "scatter",
         "x": [
          6.277768135070801
         ],
         "y": [
          21.05743408203125
         ]
        },
        {
         "marker": {
          "color": "green",
          "size": 5
         },
         "mode": "markers",
         "name": "genus_liquidambar.n.01",
         "opacity": 0.4,
         "type": "scatter",
         "x": [
          6.085629940032959
         ],
         "y": [
          21.79770278930664
         ]
        },
        {
         "marker": {
          "color": "green",
          "size": 5
         },
         "mode": "markers",
         "name": "physostigma.n.01",
         "opacity": 0.4,
         "type": "scatter",
         "x": [
          5.918520450592041
         ],
         "y": [
          -1.1718926429748535
         ]
        },
        {
         "marker": {
          "color": "green",
          "size": 5
         },
         "mode": "markers",
         "name": "amsinckia.n.01",
         "opacity": 0.4,
         "type": "scatter",
         "x": [
          17.296491622924805
         ],
         "y": [
          18.81605339050293
         ]
        },
        {
         "marker": {
          "color": "green",
          "size": 5
         },
         "mode": "markers",
         "name": "laguncularia.n.01",
         "opacity": 0.4,
         "type": "scatter",
         "x": [
          7.491001605987549
         ],
         "y": [
          -3.256071090698242
         ]
        },
        {
         "marker": {
          "color": "green",
          "size": 5
         },
         "mode": "markers",
         "name": "utricularia.n.01",
         "opacity": 0.4,
         "type": "scatter",
         "x": [
          7.368541240692139
         ],
         "y": [
          14.607630729675293
         ]
        },
        {
         "marker": {
          "color": "green",
          "size": 5
         },
         "mode": "markers",
         "name": "lagerstroemia.n.01",
         "opacity": 0.4,
         "type": "scatter",
         "x": [
          7.233211517333984
         ],
         "y": [
          -5.468277454376221
         ]
        },
        {
         "marker": {
          "color": "green",
          "size": 5
         },
         "mode": "markers",
         "name": "agrostis.n.01",
         "opacity": 0.4,
         "type": "scatter",
         "x": [
          3.8814611434936523
         ],
         "y": [
          9.643082618713379
         ]
        },
        {
         "marker": {
          "color": "yellow",
          "size": 5
         },
         "mode": "markers",
         "name": "genus_tamandua.n.01",
         "opacity": 0.4,
         "type": "scatter",
         "x": [
          20.750240325927734
         ],
         "y": [
          6.369140625
         ]
        },
        {
         "marker": {
          "color": "yellow",
          "size": 5
         },
         "mode": "markers",
         "name": "antidorcas.n.01",
         "opacity": 0.4,
         "type": "scatter",
         "x": [
          14.109338760375977
         ],
         "y": [
          0.5204149484634399
         ]
        },
        {
         "marker": {
          "color": "yellow",
          "size": 5
         },
         "mode": "markers",
         "name": "felis.n.01",
         "opacity": 0.4,
         "type": "scatter",
         "x": [
          10.19790267944336
         ],
         "y": [
          -1.507121205329895
         ]
        },
        {
         "marker": {
          "color": "yellow",
          "size": 5
         },
         "mode": "markers",
         "name": "bos.n.01",
         "opacity": 0.4,
         "type": "scatter",
         "x": [
          5.422141075134277
         ],
         "y": [
          0.7170151472091675
         ]
        },
        {
         "marker": {
          "color": "yellow",
          "size": 5
         },
         "mode": "markers",
         "name": "lagidium.n.01",
         "opacity": 0.4,
         "type": "scatter",
         "x": [
          -6.603773593902588
         ],
         "y": [
          11.461568832397461
         ]
        },
        {
         "marker": {
          "color": "yellow",
          "size": 5
         },
         "mode": "markers",
         "name": "abrocoma.n.01",
         "opacity": 0.4,
         "type": "scatter",
         "x": [
          -6.611016750335693
         ],
         "y": [
          11.453141212463379
         ]
        },
        {
         "marker": {
          "color": "yellow",
          "size": 5
         },
         "mode": "markers",
         "name": "trichosurus.n.01",
         "opacity": 0.4,
         "type": "scatter",
         "x": [
          21.91004180908203
         ],
         "y": [
          1.568585991859436
         ]
        },
        {
         "marker": {
          "color": "yellow",
          "size": 5
         },
         "mode": "markers",
         "name": "tamias.n.01",
         "opacity": 0.4,
         "type": "scatter",
         "x": [
          -4.1312150955200195
         ],
         "y": [
          16.626779556274414
         ]
        },
        {
         "marker": {
          "color": "yellow",
          "size": 5
         },
         "mode": "markers",
         "name": "panthera.n.01",
         "opacity": 0.4,
         "type": "scatter",
         "x": [
          10.537322998046875
         ],
         "y": [
          -1.512925386428833
         ]
        },
        {
         "marker": {
          "color": "yellow",
          "size": 5
         },
         "mode": "markers",
         "name": "blarina.n.01",
         "opacity": 0.4,
         "type": "scatter",
         "x": [
          -17.04547691345215
         ],
         "y": [
          16.302730560302734
         ]
        },
        {
         "marker": {
          "color": "yellow",
          "size": 5
         },
         "mode": "markers",
         "name": "globicephala.n.01",
         "opacity": 0.4,
         "type": "scatter",
         "x": [
          24.690872192382812
         ],
         "y": [
          -3.0702872276306152
         ]
        },
        {
         "marker": {
          "color": "yellow",
          "size": 5
         },
         "mode": "markers",
         "name": "herpestes.n.01",
         "opacity": 0.4,
         "type": "scatter",
         "x": [
          3.9665110111236572
         ],
         "y": [
          30.735424041748047
         ]
        },
        {
         "marker": {
          "color": "yellow",
          "size": 5
         },
         "mode": "markers",
         "name": "mirounga.n.01",
         "opacity": 0.4,
         "type": "scatter",
         "x": [
          -21.984010696411133
         ],
         "y": [
          -1.1459403038024902
         ]
        },
        {
         "marker": {
          "color": "yellow",
          "size": 5
         },
         "mode": "markers",
         "name": "choloepus.n.01",
         "opacity": 0.4,
         "type": "scatter",
         "x": [
          19.906959533691406
         ],
         "y": [
          -2.038210391998291
         ]
        },
        {
         "marker": {
          "color": "yellow",
          "size": 5
         },
         "mode": "markers",
         "name": "vertebrata.n.01",
         "opacity": 0.4,
         "type": "scatter",
         "x": [
          3.2437102794647217
         ],
         "y": [
          -2.4483118057250977
         ]
        },
        {
         "marker": {
          "color": "yellow",
          "size": 5
         },
         "mode": "markers",
         "name": "pan.n.04",
         "opacity": 0.4,
         "type": "scatter",
         "x": [
          9.837361335754395
         ],
         "y": [
          11.025336265563965
         ]
        },
        {
         "marker": {
          "color": "yellow",
          "size": 5
         },
         "mode": "markers",
         "name": "budorcas.n.01",
         "opacity": 0.4,
         "type": "scatter",
         "x": [
          14.014424324035645
         ],
         "y": [
          5.716891765594482
         ]
        },
        {
         "marker": {
          "color": "yellow",
          "size": 5
         },
         "mode": "markers",
         "name": "genus_potamogale.n.01",
         "opacity": 0.4,
         "type": "scatter",
         "x": [
          -3.9700140953063965
         ],
         "y": [
          7.022894859313965
         ]
        },
        {
         "marker": {
          "color": "yellow",
          "size": 5
         },
         "mode": "markers",
         "name": "uintatherium.n.01",
         "opacity": 0.4,
         "type": "scatter",
         "x": [
          -108.92868041992188
         ],
         "y": [
          -19.812898635864258
         ]
        },
        {
         "marker": {
          "color": "yellow",
          "size": 5
         },
         "mode": "markers",
         "name": "canis.n.01",
         "opacity": 0.4,
         "type": "scatter",
         "x": [
          8.396964073181152
         ],
         "y": [
          2.3680334091186523
         ]
        },
        {
         "marker": {
          "color": "yellow",
          "size": 5
         },
         "mode": "markers",
         "name": "ornithorhynchus.n.01",
         "opacity": 0.4,
         "type": "scatter",
         "x": [
          17.064517974853516
         ],
         "y": [
          0.4391837418079376
         ]
        },
        {
         "marker": {
          "color": "yellow",
          "size": 5
         },
         "mode": "markers",
         "name": "loxodonta.n.01",
         "opacity": 0.4,
         "type": "scatter",
         "x": [
          20.215940475463867
         ],
         "y": [
          11.124732971191406
         ]
        },
        {
         "marker": {
          "color": "yellow",
          "size": 5
         },
         "mode": "markers",
         "name": "dama.n.01",
         "opacity": 0.4,
         "type": "scatter",
         "x": [
          6.737609386444092
         ],
         "y": [
          6.230109691619873
         ]
        },
        {
         "marker": {
          "color": "yellow",
          "size": 5
         },
         "mode": "markers",
         "name": "bradypus.n.01",
         "opacity": 0.4,
         "type": "scatter",
         "x": [
          19.906768798828125
         ],
         "y": [
          -2.0373616218566895
         ]
        },
        {
         "marker": {
          "color": "yellow",
          "size": 5
         },
         "mode": "markers",
         "name": "hylobates.n.01",
         "opacity": 0.4,
         "type": "scatter",
         "x": [
          7.402519226074219
         ],
         "y": [
          10.480581283569336
         ]
        },
        {
         "marker": {
          "color": "yellow",
          "size": 5
         },
         "mode": "markers",
         "name": "vespertilio.n.01",
         "opacity": 0.4,
         "type": "scatter",
         "x": [
          18.306283950805664
         ],
         "y": [
          -25.205734252929688
         ]
        },
        {
         "marker": {
          "color": "yellow",
          "size": 5
         },
         "mode": "markers",
         "name": "choeronycteris.n.01",
         "opacity": 0.4,
         "type": "scatter",
         "x": [
          14.202521324157715
         ],
         "y": [
          -20.031295776367188
         ]
        },
        {
         "marker": {
          "color": "yellow",
          "size": 5
         },
         "mode": "markers",
         "name": "paradoxurus.n.01",
         "opacity": 0.4,
         "type": "scatter",
         "x": [
          2.989703416824341
         ],
         "y": [
          31.386865615844727
         ]
        },
        {
         "marker": {
          "color": "yellow",
          "size": 5
         },
         "mode": "markers",
         "name": "ursus.n.01",
         "opacity": 0.4,
         "type": "scatter",
         "x": [
          16.058002471923828
         ],
         "y": [
          -9.498588562011719
         ]
        },
        {
         "marker": {
          "color": "yellow",
          "size": 5
         },
         "mode": "markers",
         "name": "potos.n.01",
         "opacity": 0.4,
         "type": "scatter",
         "x": [
          10.001523971557617
         ],
         "y": [
          -30.614778518676758
         ]
        },
        {
         "marker": {
          "color": "yellow",
          "size": 5
         },
         "mode": "markers",
         "name": "gulo.n.01",
         "opacity": 0.4,
         "type": "scatter",
         "x": [
          0.8355221748352051
         ],
         "y": [
          -2.3187620639801025
         ]
        },
        {
         "marker": {
          "color": "yellow",
          "size": 5
         },
         "mode": "markers",
         "name": "megaderma.n.01",
         "opacity": 0.4,
         "type": "scatter",
         "x": [
          15.639498710632324
         ],
         "y": [
          -24.10561752319336
         ]
        },
        {
         "marker": {
          "color": "yellow",
          "size": 5
         },
         "mode": "markers",
         "name": "micromyx.n.01",
         "opacity": 0.4,
         "type": "scatter",
         "x": [
          1.6042081117630005
         ],
         "y": [
          13.618349075317383
         ]
        },
        {
         "marker": {
          "color": "yellow",
          "size": 5
         },
         "mode": "markers",
         "name": "charronia.n.01",
         "opacity": 0.4,
         "type": "scatter",
         "x": [
          -14.633440971374512
         ],
         "y": [
          -10.929326057434082
         ]
        },
        {
         "marker": {
          "color": "yellow",
          "size": 5
         },
         "mode": "markers",
         "name": "erignathus.n.01",
         "opacity": 0.4,
         "type": "scatter",
         "x": [
          -21.708152770996094
         ],
         "y": [
          -1.600061297416687
         ]
        },
        {
         "marker": {
          "color": "yellow",
          "size": 5
         },
         "mode": "markers",
         "name": "sarcophilus.n.01",
         "opacity": 0.4,
         "type": "scatter",
         "x": [
          25.663240432739258
         ],
         "y": [
          15.528386116027832
         ]
        },
        {
         "marker": {
          "color": "yellow",
          "size": 5
         },
         "mode": "markers",
         "name": "ovis.n.01",
         "opacity": 0.4,
         "type": "scatter",
         "x": [
          10.220921516418457
         ],
         "y": [
          5.215198516845703
         ]
        },
        {
         "marker": {
          "color": "yellow",
          "size": 5
         },
         "mode": "markers",
         "name": "equus.n.01",
         "opacity": 0.4,
         "type": "scatter",
         "x": [
          3.9895882606506348
         ],
         "y": [
          -1.2011497020721436
         ]
        },
        {
         "marker": {
          "color": "yellow",
          "size": 5
         },
         "mode": "markers",
         "name": "eira.n.01",
         "opacity": 0.4,
         "type": "scatter",
         "x": [
          -13.194511413574219
         ],
         "y": [
          -11.113178253173828
         ]
        },
        {
         "marker": {
          "color": "yellow",
          "size": 5
         },
         "mode": "markers",
         "name": "balaenoptera.n.01",
         "opacity": 0.4,
         "type": "scatter",
         "x": [
          12.652549743652344
         ],
         "y": [
          -9.901432991027832
         ]
        },
        {
         "marker": {
          "color": "yellow",
          "size": 5
         },
         "mode": "markers",
         "name": "pitymys.n.01",
         "opacity": 0.4,
         "type": "scatter",
         "x": [
          -10.209528923034668
         ],
         "y": [
          25.439382553100586
         ]
        },
        {
         "marker": {
          "color": "yellow",
          "size": 5
         },
         "mode": "markers",
         "name": "alouatta.n.01",
         "opacity": 0.4,
         "type": "scatter",
         "x": [
          12.015881538391113
         ],
         "y": [
          -5.793649196624756
         ]
        },
        {
         "marker": {
          "color": "yellow",
          "size": 5
         },
         "mode": "markers",
         "name": "otaria.n.01",
         "opacity": 0.4,
         "type": "scatter",
         "x": [
          -22.16743278503418
         ],
         "y": [
          -6.446188449859619
         ]
        },
        {
         "marker": {
          "color": "yellow",
          "size": 5
         },
         "mode": "markers",
         "name": "odobenus.n.01",
         "opacity": 0.4,
         "type": "scatter",
         "x": [
          -20.038105010986328
         ],
         "y": [
          -2.3464603424072266
         ]
        },
        {
         "marker": {
          "color": "yellow",
          "size": 5
         },
         "mode": "markers",
         "name": "ammotragus.n.01",
         "opacity": 0.4,
         "type": "scatter",
         "x": [
          10.175751686096191
         ],
         "y": [
          5.773839473724365
         ]
        },
        {
         "marker": {
          "color": "yellow",
          "size": 5
         },
         "mode": "markers",
         "name": "cebuella.n.01",
         "opacity": 0.4,
         "type": "scatter",
         "x": [
          31.211748123168945
         ],
         "y": [
          -2.0976295471191406
         ]
        },
        {
         "marker": {
          "color": "yellow",
          "size": 5
         },
         "mode": "markers",
         "name": "arvicola.n.01",
         "opacity": 0.4,
         "type": "scatter",
         "x": [
          -10.84604263305664
         ],
         "y": [
          25.48531150817871
         ]
        },
        {
         "marker": {
          "color": "yellow",
          "size": 5
         },
         "mode": "markers",
         "name": "megaptera.n.01",
         "opacity": 0.4,
         "type": "scatter",
         "x": [
          12.61650276184082
         ],
         "y": [
          -9.858683586120605
         ]
        },
        {
         "marker": {
          "color": "yellow",
          "size": 5
         },
         "mode": "markers",
         "name": "aplodontia.n.01",
         "opacity": 0.4,
         "type": "scatter",
         "x": [
          -6.465904235839844
         ],
         "y": [
          19.457443237304688
         ]
        },
        {
         "marker": {
          "color": "yellow",
          "size": 5
         },
         "mode": "markers",
         "name": "diphylla.n.01",
         "opacity": 0.4,
         "type": "scatter",
         "x": [
          16.86688232421875
         ],
         "y": [
          -24.66330337524414
         ]
        },
        {
         "marker": {
          "color": "yellow",
          "size": 5
         },
         "mode": "markers",
         "name": "delphinapterus.n.01",
         "opacity": 0.4,
         "type": "scatter",
         "x": [
          36.08379364013672
         ],
         "y": [
          105.80908203125
         ]
        },
        {
         "marker": {
          "color": "yellow",
          "size": 5
         },
         "mode": "markers",
         "name": "antrozous.n.01",
         "opacity": 0.4,
         "type": "scatter",
         "x": [
          18.405986785888672
         ],
         "y": [
          -25.721765518188477
         ]
        },
        {
         "marker": {
          "color": "yellow",
          "size": 5
         },
         "mode": "markers",
         "name": "sorex.n.01",
         "opacity": 0.4,
         "type": "scatter",
         "x": [
          -17.04555320739746
         ],
         "y": [
          16.303361892700195
         ]
        },
        {
         "marker": {
          "color": "yellow",
          "size": 5
         },
         "mode": "markers",
         "name": "tachyglossus.n.01",
         "opacity": 0.4,
         "type": "scatter",
         "x": [
          17.20749282836914
         ],
         "y": [
          1.340040683746338
         ]
        },
        {
         "marker": {
          "color": "yellow",
          "size": 5
         },
         "mode": "markers",
         "name": "myocastor.n.01",
         "opacity": 0.4,
         "type": "scatter",
         "x": [
          -4.06759786605835
         ],
         "y": [
          8.611661911010742
         ]
        },
        {
         "marker": {
          "color": "yellow",
          "size": 5
         },
         "mode": "markers",
         "name": "pipistrellus.n.01",
         "opacity": 0.4,
         "type": "scatter",
         "x": [
          18.487409591674805
         ],
         "y": [
          -24.717966079711914
         ]
        },
        {
         "marker": {
          "color": "yellow",
          "size": 5
         },
         "mode": "markers",
         "name": "bibos.n.01",
         "opacity": 0.4,
         "type": "scatter",
         "x": [
          13.027350425720215
         ],
         "y": [
          6.097756862640381
         ]
        },
        {
         "marker": {
          "color": "yellow",
          "size": 5
         },
         "mode": "markers",
         "name": "petaurista.n.01",
         "opacity": 0.4,
         "type": "scatter",
         "x": [
          -4.019188404083252
         ],
         "y": [
          16.854557037353516
         ]
        },
        {
         "marker": {
          "color": "yellow",
          "size": 5
         },
         "mode": "markers",
         "name": "euarctos.n.01",
         "opacity": 0.4,
         "type": "scatter",
         "x": [
          18.30253028869629
         ],
         "y": [
          -11.059422492980957
         ]
        },
        {
         "marker": {
          "color": "yellow",
          "size": 5
         },
         "mode": "markers",
         "name": "viverra.n.01",
         "opacity": 0.4,
         "type": "scatter",
         "x": [
          2.9630444049835205
         ],
         "y": [
          30.627586364746094
         ]
        },
        {
         "marker": {
          "color": "yellow",
          "size": 5
         },
         "mode": "markers",
         "name": "rupicapra.n.01",
         "opacity": 0.4,
         "type": "scatter",
         "x": [
          16.04229164123535
         ],
         "y": [
          6.446662425994873
         ]
        },
        {
         "marker": {
          "color": "yellow",
          "size": 5
         },
         "mode": "markers",
         "name": "spilogale.n.01",
         "opacity": 0.4,
         "type": "scatter",
         "x": [
          -14.01116943359375
         ],
         "y": [
          -12.71532917022705
         ]
        },
        {
         "marker": {
          "color": "yellow",
          "size": 5
         },
         "mode": "markers",
         "name": "enhydra.n.01",
         "opacity": 0.4,
         "type": "scatter",
         "x": [
          -14.820820808410645
         ],
         "y": [
          -11.240675926208496
         ]
        },
        {
         "marker": {
          "color": "yellow",
          "size": 5
         },
         "mode": "markers",
         "name": "meriones.n.01",
         "opacity": 0.4,
         "type": "scatter",
         "x": [
          -9.79384994506836
         ],
         "y": [
          23.006454467773438
         ]
        },
        {
         "marker": {
          "color": "yellow",
          "size": 5
         },
         "mode": "markers",
         "name": "neotoma.n.01",
         "opacity": 0.4,
         "type": "scatter",
         "x": [
          -8.829235076904297
         ],
         "y": [
          21.276933670043945
         ]
        },
        {
         "marker": {
          "color": "yellow",
          "size": 5
         },
         "mode": "markers",
         "name": "draw.v.23",
         "opacity": 0.4,
         "type": "scatter",
         "x": [
          7.4073357582092285
         ],
         "y": [
          10.48042106628418
         ]
        },
        {
         "marker": {
          "color": "yellow",
          "size": 5
         },
         "mode": "markers",
         "name": "thomomys.n.01",
         "opacity": 0.4,
         "type": "scatter",
         "x": [
          1.4484686851501465
         ],
         "y": [
          19.108854293823242
         ]
        },
        {
         "marker": {
          "color": "yellow",
          "size": 5
         },
         "mode": "markers",
         "name": "neomys.n.01",
         "opacity": 0.4,
         "type": "scatter",
         "x": [
          -17.045757293701172
         ],
         "y": [
          16.30425453186035
         ]
        },
        {
         "marker": {
          "color": "yellow",
          "size": 5
         },
         "mode": "markers",
         "name": "cercopithecus.n.01",
         "opacity": 0.4,
         "type": "scatter",
         "x": [
          11.777022361755371
         ],
         "y": [
          15.041032791137695
         ]
        },
        {
         "marker": {
          "color": "yellow",
          "size": 5
         },
         "mode": "markers",
         "name": "erethizon.n.01",
         "opacity": 0.4,
         "type": "scatter",
         "x": [
          -5.5079193115234375
         ],
         "y": [
          8.314983367919922
         ]
        },
        {
         "marker": {
          "color": "yellow",
          "size": 5
         },
         "mode": "markers",
         "name": "zapus.n.01",
         "opacity": 0.4,
         "type": "scatter",
         "x": [
          1.4818239212036133
         ],
         "y": [
          -1.4404200315475464
         ]
        },
        {
         "marker": {
          "color": "yellow",
          "size": 5
         },
         "mode": "markers",
         "name": "tursiops.n.01",
         "opacity": 0.4,
         "type": "scatter",
         "x": [
          24.699235916137695
         ],
         "y": [
          -3.05897855758667
         ]
        },
        {
         "marker": {
          "color": "yellow",
          "size": 5
         },
         "mode": "markers",
         "name": "mustela.n.01",
         "opacity": 0.4,
         "type": "scatter",
         "x": [
          -13.721657752990723
         ],
         "y": [
          -10.626644134521484
         ]
        },
        {
         "marker": {
          "color": "yellow",
          "size": 5
         },
         "mode": "markers",
         "name": "geomys.n.01",
         "opacity": 0.4,
         "type": "scatter",
         "x": [
          1.4483221769332886
         ],
         "y": [
          19.10951805114746
         ]
        },
        {
         "marker": {
          "color": "yellow",
          "size": 5
         },
         "mode": "markers",
         "name": "sus.n.01",
         "opacity": 0.4,
         "type": "scatter",
         "x": [
          5.1770710945129395
         ],
         "y": [
          1.3457210063934326
         ]
        },
        {
         "marker": {
          "color": "yellow",
          "size": 5
         },
         "mode": "markers",
         "name": "ailuropoda.n.01",
         "opacity": 0.4,
         "type": "scatter",
         "x": [
          9.78390121459961
         ],
         "y": [
          -30.211233139038086
         ]
        },
        {
         "marker": {
          "color": "yellow",
          "size": 5
         },
         "mode": "markers",
         "name": "notoryctus.n.01",
         "opacity": 0.4,
         "type": "scatter",
         "x": [
          20.947158813476562
         ],
         "y": [
          2.2896807193756104
         ]
        },
        {
         "marker": {
          "color": "yellow",
          "size": 5
         },
         "mode": "markers",
         "name": "giraffa.n.01",
         "opacity": 0.4,
         "type": "scatter",
         "x": [
          -14.877567291259766
         ],
         "y": [
          9.36899185180664
         ]
        },
        {
         "marker": {
          "color": "yellow",
          "size": 5
         },
         "mode": "markers",
         "name": "dasyprocta.n.01",
         "opacity": 0.4,
         "type": "scatter",
         "x": [
          -5.679679870605469
         ],
         "y": [
          10.905881881713867
         ]
        },
        {
         "marker": {
          "color": "yellow",
          "size": 5
         },
         "mode": "markers",
         "name": "arctocebus.n.01",
         "opacity": 0.4,
         "type": "scatter",
         "x": [
          0.06212820112705231
         ],
         "y": [
          10.131172180175781
         ]
        },
        {
         "marker": {
          "color": "yellow",
          "size": 5
         },
         "mode": "markers",
         "name": "myrmecobius.n.01",
         "opacity": 0.4,
         "type": "scatter",
         "x": [
          25.204387664794922
         ],
         "y": [
          15.74244499206543
         ]
        },
        {
         "marker": {
          "color": "yellow",
          "size": 5
         },
         "mode": "markers",
         "name": "microtus.n.01",
         "opacity": 0.4,
         "type": "scatter",
         "x": [
          -10.081805229187012
         ],
         "y": [
          25.86355972290039
         ]
        },
        {
         "marker": {
          "color": "yellow",
          "size": 5
         },
         "mode": "markers",
         "name": "myopus.n.01",
         "opacity": 0.4,
         "type": "scatter",
         "x": [
          -8.96000862121582
         ],
         "y": [
          23.439586639404297
         ]
        },
        {
         "marker": {
          "color": "yellow",
          "size": 5
         },
         "mode": "markers",
         "name": "genus_galago.n.01",
         "opacity": 0.4,
         "type": "scatter",
         "x": [
          0.06317584216594696
         ],
         "y": [
          10.130070686340332
         ]
        },
        {
         "marker": {
          "color": "yellow",
          "size": 5
         },
         "mode": "markers",
         "name": "neurotrichus.n.01",
         "opacity": 0.4,
         "type": "scatter",
         "x": [
          -13.430159568786621
         ],
         "y": [
          6.387636184692383
         ]
        },
        {
         "marker": {
          "color": "yellow",
          "size": 5
         },
         "mode": "markers",
         "name": "pongo.n.01",
         "opacity": 0.4,
         "type": "scatter",
         "x": [
          9.927878379821777
         ],
         "y": [
          11.078569412231445
         ]
        },
        {
         "marker": {
          "color": "yellow",
          "size": 5
         },
         "mode": "markers",
         "name": "synercus.n.01",
         "opacity": 0.4,
         "type": "scatter",
         "x": [
          14.133573532104492
         ],
         "y": [
          8.599823951721191
         ]
        },
        {
         "marker": {
          "color": "yellow",
          "size": 5
         },
         "mode": "markers",
         "name": "genus_australopithecus.n.01",
         "opacity": 0.4,
         "type": "scatter",
         "x": [
          4.941374778747559
         ],
         "y": [
          -2.1916205883026123
         ]
        },
        {
         "marker": {
          "color": "yellow",
          "size": 5
         },
         "mode": "markers",
         "name": "mellivora.n.01",
         "opacity": 0.4,
         "type": "scatter",
         "x": [
          -4.940814971923828
         ],
         "y": [
          -5.295001983642578
         ]
        },
        {
         "marker": {
          "color": "yellow",
          "size": 5
         },
         "mode": "markers",
         "name": "gazella.n.01",
         "opacity": 0.4,
         "type": "scatter",
         "x": [
          13.921758651733398
         ],
         "y": [
          0.31469810009002686
         ]
        },
        {
         "marker": {
          "color": "yellow",
          "size": 5
         },
         "mode": "markers",
         "name": "physeter.n.01",
         "opacity": 0.4,
         "type": "scatter",
         "x": [
          22.95638656616211
         ],
         "y": [
          -6.594526290893555
         ]
        },
        {
         "marker": {
          "color": "yellow",
          "size": 5
         },
         "mode": "markers",
         "name": "crocuta.n.01",
         "opacity": 0.4,
         "type": "scatter",
         "x": [
          15.24329948425293
         ],
         "y": [
          12.653403282165527
         ]
        },
        {
         "marker": {
          "color": "yellow",
          "size": 5
         },
         "mode": "markers",
         "name": "genus_lemur.n.01",
         "opacity": 0.4,
         "type": "scatter",
         "x": [
          3.053203821182251
         ],
         "y": [
          -0.5895282030105591
         ]
        },
        {
         "marker": {
          "color": "yellow",
          "size": 5
         },
         "mode": "markers",
         "name": "arctictis.n.01",
         "opacity": 0.4,
         "type": "scatter",
         "x": [
          3.3560311794281006
         ],
         "y": [
          30.795602798461914
         ]
        },
        {
         "marker": {
          "color": "yellow",
          "size": 5
         },
         "mode": "markers",
         "name": "myrmecophaga.n.01",
         "opacity": 0.4,
         "type": "scatter",
         "x": [
          20.75010871887207
         ],
         "y": [
          6.3691887855529785
         ]
        },
        {
         "marker": {
          "color": "yellow",
          "size": 5
         },
         "mode": "markers",
         "name": "hyracotherium.n.01",
         "opacity": 0.4,
         "type": "scatter",
         "x": [
          4.281111240386963
         ],
         "y": [
          1.9761208295822144
         ]
        },
        {
         "marker": {
          "color": "yellow",
          "size": 5
         },
         "mode": "markers",
         "name": "genus_gorilla.n.01",
         "opacity": 0.4,
         "type": "scatter",
         "x": [
          9.91873550415039
         ],
         "y": [
          11.072385787963867
         ]
        },
        {
         "marker": {
          "color": "yellow",
          "size": 5
         },
         "mode": "markers",
         "name": "euphractus.n.01",
         "opacity": 0.4,
         "type": "scatter",
         "x": [
          26.114002227783203
         ],
         "y": [
          5.372979640960693
         ]
        },
        {
         "marker": {
          "color": "yellow",
          "size": 5
         },
         "mode": "markers",
         "name": "eumetopias.n.01",
         "opacity": 0.4,
         "type": "scatter",
         "x": [
          -22.167953491210938
         ],
         "y": [
          -6.445854663848877
         ]
        },
        {
         "marker": {
          "color": "yellow",
          "size": 5
         },
         "mode": "markers",
         "name": "cebus.n.01",
         "opacity": 0.4,
         "type": "scatter",
         "x": [
          30.66774559020996
         ],
         "y": [
          -1.2957160472869873
         ]
        },
        {
         "marker": {
          "color": "yellow",
          "size": 5
         },
         "mode": "markers",
         "name": "taurotragus.n.01",
         "opacity": 0.4,
         "type": "scatter",
         "x": [
          14.730740547180176
         ],
         "y": [
          6.684980392456055
         ]
        },
        {
         "marker": {
          "color": "yellow",
          "size": 5
         },
         "mode": "markers",
         "name": "sigmodon.n.01",
         "opacity": 0.4,
         "type": "scatter",
         "x": [
          -10.161662101745605
         ],
         "y": [
          23.42948341369629
         ]
        },
        {
         "marker": {
          "color": "yellow",
          "size": 5
         },
         "mode": "markers",
         "name": "apodemus.n.01",
         "opacity": 0.4,
         "type": "scatter",
         "x": [
          1.6121163368225098
         ],
         "y": [
          13.609928131103516
         ]
        },
        {
         "marker": {
          "color": "yellow",
          "size": 5
         },
         "mode": "markers",
         "name": "erythrocebus.n.01",
         "opacity": 0.4,
         "type": "scatter",
         "x": [
          11.77617073059082
         ],
         "y": [
          15.0447998046875
         ]
        },
        {
         "marker": {
          "color": "yellow",
          "size": 5
         },
         "mode": "markers",
         "name": "antilocapra.n.01",
         "opacity": 0.4,
         "type": "scatter",
         "x": [
          6.369503021240234
         ],
         "y": [
          0.4425264596939087
         ]
        },
        {
         "marker": {
          "color": "yellow",
          "size": 5
         },
         "mode": "markers",
         "name": "delphinus.n.02",
         "opacity": 0.4,
         "type": "scatter",
         "x": [
          24.695642471313477
         ],
         "y": [
          -3.0648672580718994
         ]
        },
        {
         "marker": {
          "color": "yellow",
          "size": 5
         },
         "mode": "markers",
         "name": "pseudoryx.n.01",
         "opacity": 0.4,
         "type": "scatter",
         "x": [
          15.375749588012695
         ],
         "y": [
          7.0721306800842285
         ]
        },
        {
         "marker": {
          "color": "yellow",
          "size": 5
         },
         "mode": "markers",
         "name": "mesocricetus.n.01",
         "opacity": 0.4,
         "type": "scatter",
         "x": [
          -9.580222129821777
         ],
         "y": [
          23.955490112304688
         ]
        },
        {
         "marker": {
          "color": "yellow",
          "size": 5
         },
         "mode": "markers",
         "name": "selenarctos.n.01",
         "opacity": 0.4,
         "type": "scatter",
         "x": [
          18.177898406982422
         ],
         "y": [
          -11.030862808227539
         ]
        },
        {
         "marker": {
          "color": "yellow",
          "size": 5
         },
         "mode": "markers",
         "name": "meles.n.01",
         "opacity": 0.4,
         "type": "scatter",
         "x": [
          -15.273723602294922
         ],
         "y": [
          -10.937810897827148
         ]
        },
        {
         "marker": {
          "color": "yellow",
          "size": 5
         },
         "mode": "markers",
         "name": "thalarctos.n.01",
         "opacity": 0.4,
         "type": "scatter",
         "x": [
          18.23345375061035
         ],
         "y": [
          -11.038558006286621
         ]
        },
        {
         "marker": {
          "color": "yellow",
          "size": 5
         },
         "mode": "markers",
         "name": "capreolus.n.01",
         "opacity": 0.4,
         "type": "scatter",
         "x": [
          5.731752872467041
         ],
         "y": [
          6.63734769821167
         ]
        },
        {
         "marker": {
          "color": "yellow",
          "size": 5
         },
         "mode": "markers",
         "name": "megatherium.n.01",
         "opacity": 0.4,
         "type": "scatter",
         "x": [
          8.329675674438477
         ],
         "y": [
          -1.6178913116455078
         ]
        },
        {
         "marker": {
          "color": "yellow",
          "size": 5
         },
         "mode": "markers",
         "name": "nasua.n.01",
         "opacity": 0.4,
         "type": "scatter",
         "x": [
          9.786174774169922
         ],
         "y": [
          -31.002695083618164
         ]
        },
        {
         "marker": {
          "color": "yellow",
          "size": 5
         },
         "mode": "markers",
         "name": "proteles.n.01",
         "opacity": 0.4,
         "type": "scatter",
         "x": [
          15.241737365722656
         ],
         "y": [
          12.653141975402832
         ]
        },
        {
         "marker": {
          "color": "yellow",
          "size": 5
         },
         "mode": "markers",
         "name": "odocoileus.n.01",
         "opacity": 0.4,
         "type": "scatter",
         "x": [
          5.63120698928833
         ],
         "y": [
          3.604037046432495
         ]
        },
        {
         "marker": {
          "color": "yellow",
          "size": 5
         },
         "mode": "markers",
         "name": "monodon.n.01",
         "opacity": 0.4,
         "type": "scatter",
         "x": [
          11.888703346252441
         ],
         "y": [
          -9.112318992614746
         ]
        },
        {
         "marker": {
          "color": "yellow",
          "size": 5
         },
         "mode": "markers",
         "name": "orcinus.n.01",
         "opacity": 0.4,
         "type": "scatter",
         "x": [
          24.696735382080078
         ],
         "y": [
          -3.063408851623535
         ]
        },
        {
         "marker": {
          "color": "yellow",
          "size": 5
         },
         "mode": "markers",
         "name": "bubalus.n.01",
         "opacity": 0.4,
         "type": "scatter",
         "x": [
          14.318467140197754
         ],
         "y": [
          8.543290138244629
         ]
        },
        {
         "marker": {
          "color": "yellow",
          "size": 5
         },
         "mode": "markers",
         "name": "genetta.n.01",
         "opacity": 0.4,
         "type": "scatter",
         "x": [
          2.727415084838867
         ],
         "y": [
          30.636669158935547
         ]
        },
        {
         "marker": {
          "color": "yellow",
          "size": 5
         },
         "mode": "markers",
         "name": "chlamyphorus.n.01",
         "opacity": 0.4,
         "type": "scatter",
         "x": [
          26.10451889038086
         ],
         "y": [
          5.434996604919434
         ]
        },
        {
         "marker": {
          "color": "yellow",
          "size": 5
         },
         "mode": "markers",
         "name": "kogia.n.01",
         "opacity": 0.4,
         "type": "scatter",
         "x": [
          22.956384658813477
         ],
         "y": [
          -6.594446659088135
         ]
        },
        {
         "marker": {
          "color": "yellow",
          "size": 5
         },
         "mode": "markers",
         "name": "genus_cabassous.n.01",
         "opacity": 0.4,
         "type": "scatter",
         "x": [
          -82.15535736083984
         ],
         "y": [
          67.52310180664062
         ]
        },
        {
         "marker": {
          "color": "yellow",
          "size": 5
         },
         "mode": "markers",
         "name": "phascogale.n.01",
         "opacity": 0.4,
         "type": "scatter",
         "x": [
          25.31009292602539
         ],
         "y": [
          15.327810287475586
         ]
        },
        {
         "marker": {
          "color": "yellow",
          "size": 5
         },
         "mode": "markers",
         "name": "avahi.n.01",
         "opacity": 0.4,
         "type": "scatter",
         "x": [
          16.23579216003418
         ],
         "y": [
          -3.1978726387023926
         ]
        },
        {
         "marker": {
          "color": "yellow",
          "size": 5
         },
         "mode": "markers",
         "name": "ondatra.n.01",
         "opacity": 0.4,
         "type": "scatter",
         "x": [
          -8.345968246459961
         ],
         "y": [
          22.070255279541016
         ]
        },
        {
         "marker": {
          "color": "yellow",
          "size": 5
         },
         "mode": "markers",
         "name": "lagostomus.n.01",
         "opacity": 0.4,
         "type": "scatter",
         "x": [
          -6.625895977020264
         ],
         "y": [
          11.45517349243164
         ]
        },
        {
         "marker": {
          "color": "yellow",
          "size": 5
         },
         "mode": "markers",
         "name": "presbytes.n.01",
         "opacity": 0.4,
         "type": "scatter",
         "x": [
          11.777793884277344
         ],
         "y": [
          15.038877487182617
         ]
        },
        {
         "marker": {
          "color": "yellow",
          "size": 5
         },
         "mode": "markers",
         "name": "genus_homo.n.01",
         "opacity": 0.4,
         "type": "scatter",
         "x": [
          1.6874860525131226
         ],
         "y": [
          -1.1245002746582031
         ]
        },
        {
         "marker": {
          "color": "yellow",
          "size": 5
         },
         "mode": "markers",
         "name": "martes.n.01",
         "opacity": 0.4,
         "type": "scatter",
         "x": [
          -10.694356918334961
         ],
         "y": [
          -10.632611274719238
         ]
        },
        {
         "marker": {
          "color": "yellow",
          "size": 5
         },
         "mode": "markers",
         "name": "trichys.n.01",
         "opacity": 0.4,
         "type": "scatter",
         "x": [
          -6.735616207122803
         ],
         "y": [
          8.515734672546387
         ]
        },
        {
         "marker": {
          "color": "yellow",
          "size": 5
         },
         "mode": "markers",
         "name": "procavia.n.01",
         "opacity": 0.4,
         "type": "scatter",
         "x": [
          7.003896713256836
         ],
         "y": [
          -2.071357011795044
         ]
        },
        {
         "marker": {
          "color": "yellow",
          "size": 5
         },
         "mode": "markers",
         "name": "melursus.n.01",
         "opacity": 0.4,
         "type": "scatter",
         "x": [
          18.208322525024414
         ],
         "y": [
          -11.020940780639648
         ]
        },
        {
         "marker": {
          "color": "yellow",
          "size": 5
         },
         "mode": "markers",
         "name": "cystophora.n.01",
         "opacity": 0.4,
         "type": "scatter",
         "x": [
          -22.354541778564453
         ],
         "y": [
          -1.6798361539840698
         ]
        },
        {
         "marker": {
          "color": "yellow",
          "size": 5
         },
         "mode": "markers",
         "name": "peromyscus.n.01",
         "opacity": 0.4,
         "type": "scatter",
         "x": [
          -10.099984169006348
         ],
         "y": [
          23.94164276123047
         ]
        },
        {
         "marker": {
          "color": "yellow",
          "size": 5
         },
         "mode": "markers",
         "name": "naemorhedus.n.01",
         "opacity": 0.4,
         "type": "scatter",
         "x": [
          14.675596237182617
         ],
         "y": [
          7.455101490020752
         ]
        },
        {
         "marker": {
          "color": "yellow",
          "size": 5
         },
         "mode": "markers",
         "name": "bassariscus.n.01",
         "opacity": 0.4,
         "type": "scatter",
         "x": [
          10.308361053466797
         ],
         "y": [
          -30.63134002685547
         ]
        },
        {
         "marker": {
          "color": "yellow",
          "size": 5
         },
         "mode": "markers",
         "name": "mus.n.01",
         "opacity": 0.4,
         "type": "scatter",
         "x": [
          1.60458505153656
         ],
         "y": [
          13.618536949157715
         ]
        },
        {
         "marker": {
          "color": "yellow",
          "size": 5
         },
         "mode": "markers",
         "name": "callicebus.n.01",
         "opacity": 0.4,
         "type": "scatter",
         "x": [
          30.897520065307617
         ],
         "y": [
          -0.9924441576004028
         ]
        },
        {
         "marker": {
          "color": "yellow",
          "size": 5
         },
         "mode": "markers",
         "name": "dryopithecus.n.01",
         "opacity": 0.4,
         "type": "scatter",
         "x": [
          5.680303573608398
         ],
         "y": [
          -2.2077462673187256
         ]
        },
        {
         "marker": {
          "color": "yellow",
          "size": 5
         },
         "mode": "markers",
         "name": "vicugna.n.01",
         "opacity": 0.4,
         "type": "scatter",
         "x": [
          14.977946281433105
         ],
         "y": [
          -6.432359218597412
         ]
        },
        {
         "marker": {
          "color": "yellow",
          "size": 5
         },
         "mode": "markers",
         "name": "daubentonia.n.01",
         "opacity": 0.4,
         "type": "scatter",
         "x": [
          16.646652221679688
         ],
         "y": [
          -3.185124158859253
         ]
        },
        {
         "marker": {
          "color": "yellow",
          "size": 5
         },
         "mode": "markers",
         "name": "okapia.n.01",
         "opacity": 0.4,
         "type": "scatter",
         "x": [
          -14.877728462219238
         ],
         "y": [
          9.368497848510742
         ]
        },
        {
         "marker": {
          "color": "yellow",
          "size": 5
         },
         "mode": "markers",
         "name": "lepus.n.02",
         "opacity": 0.4,
         "type": "scatter",
         "x": [
          4.07218599319458
         ],
         "y": [
          4.823126316070557
         ]
        },
        {
         "marker": {
          "color": "yellow",
          "size": 5
         },
         "mode": "markers",
         "name": "eschrichtius.n.01",
         "opacity": 0.4,
         "type": "scatter",
         "x": [
          13.242629051208496
         ],
         "y": [
          -9.875584602355957
         ]
        },
        {
         "marker": {
          "color": "yellow",
          "size": 5
         },
         "mode": "markers",
         "name": "sylvilagus.n.01",
         "opacity": 0.4,
         "type": "scatter",
         "x": [
          4.108584880828857
         ],
         "y": [
          4.792337417602539
         ]
        },
        {
         "marker": {
          "color": "yellow",
          "size": 5
         },
         "mode": "markers",
         "name": "liomys.n.01",
         "opacity": 0.4,
         "type": "scatter",
         "x": [
          -0.66161048412323
         ],
         "y": [
          22.74323844909668
         ]
        },
        {
         "marker": {
          "color": "yellow",
          "size": 5
         },
         "mode": "markers",
         "name": "arctonyx.n.01",
         "opacity": 0.4,
         "type": "scatter",
         "x": [
          9.626246452331543
         ],
         "y": [
          -5.574488639831543
         ]
        },
        {
         "marker": {
          "color": "yellow",
          "size": 5
         },
         "mode": "markers",
         "name": "onychogalea.n.01",
         "opacity": 0.4,
         "type": "scatter",
         "x": [
          32.184410095214844
         ],
         "y": [
          9.652312278747559
         ]
        },
        {
         "marker": {
          "color": "yellow",
          "size": 5
         },
         "mode": "markers",
         "name": "macrotis.n.01",
         "opacity": 0.4,
         "type": "scatter",
         "x": [
          20.408998489379883
         ],
         "y": [
          2.649956703186035
         ]
        },
        {
         "marker": {
          "color": "yellow",
          "size": 5
         },
         "mode": "markers",
         "name": "nyctereutes.n.01",
         "opacity": 0.4,
         "type": "scatter",
         "x": [
          11.042511940002441
         ],
         "y": [
          2.4742982387542725
         ]
        },
        {
         "marker": {
          "color": "yellow",
          "size": 5
         },
         "mode": "markers",
         "name": "procyon.n.02",
         "opacity": 0.4,
         "type": "scatter",
         "x": [
          9.757491111755371
         ],
         "y": [
          -29.6570987701416
         ]
        },
        {
         "marker": {
          "color": "yellow",
          "size": 5
         },
         "mode": "markers",
         "name": "lemmus.n.01",
         "opacity": 0.4,
         "type": "scatter",
         "x": [
          -9.012166976928711
         ],
         "y": [
          24.218154907226562
         ]
        },
        {
         "marker": {
          "color": "yellow",
          "size": 5
         },
         "mode": "markers",
         "name": "sciurus.n.01",
         "opacity": 0.4,
         "type": "scatter",
         "x": [
          -4.502189636230469
         ],
         "y": [
          15.964242935180664
         ]
        },
        {
         "marker": {
          "color": "yellow",
          "size": 5
         },
         "mode": "markers",
         "name": "suricata.n.01",
         "opacity": 0.4,
         "type": "scatter",
         "x": [
          3.746678113937378
         ],
         "y": [
          30.220317840576172
         ]
        },
        {
         "marker": {
          "color": "yellow",
          "size": 5
         },
         "mode": "markers",
         "name": "boselaphus.n.01",
         "opacity": 0.4,
         "type": "scatter",
         "x": [
          13.123750686645508
         ],
         "y": [
          -0.7645789980888367
         ]
        },
        {
         "marker": {
          "color": "yellow",
          "size": 5
         },
         "mode": "markers",
         "name": "rangifer.n.01",
         "opacity": 0.4,
         "type": "scatter",
         "x": [
          6.399811267852783
         ],
         "y": [
          5.229649066925049
         ]
        },
        {
         "marker": {
          "color": "yellow",
          "size": 5
         },
         "mode": "markers",
         "name": "cervus.n.01",
         "opacity": 0.4,
         "type": "scatter",
         "x": [
          6.923879623413086
         ],
         "y": [
          7.207372665405273
         ]
        },
        {
         "marker": {
          "color": "yellow",
          "size": 5
         },
         "mode": "markers",
         "name": "rhinonicteris.n.01",
         "opacity": 0.4,
         "type": "scatter",
         "x": [
          0.9539203643798828
         ],
         "y": [
          -8.71695613861084
         ]
        },
        {
         "marker": {
          "color": "yellow",
          "size": 5
         },
         "mode": "markers",
         "name": "castigate.v.02",
         "opacity": 0.4,
         "type": "scatter",
         "x": [
          16.1386775970459
         ],
         "y": [
          -3.1993985176086426
         ]
        },
        {
         "marker": {
          "color": "yellow",
          "size": 5
         },
         "mode": "markers",
         "name": "nyctimene.n.01",
         "opacity": 0.4,
         "type": "scatter",
         "x": [
          4.701727867126465
         ],
         "y": [
          -5.2356133460998535
         ]
        },
        {
         "marker": {
          "color": "yellow",
          "size": 5
         },
         "mode": "markers",
         "name": "orycteropus.n.01",
         "opacity": 0.4,
         "type": "scatter",
         "x": [
          -1.8618007898330688
         ],
         "y": [
          -3.3809330463409424
         ]
        },
        {
         "marker": {
          "color": "yellow",
          "size": 5
         },
         "mode": "markers",
         "name": "genus_bison.n.01",
         "opacity": 0.4,
         "type": "scatter",
         "x": [
          11.779653549194336
         ],
         "y": [
          5.05308198928833
         ]
        },
        {
         "marker": {
          "color": "yellow",
          "size": 5
         },
         "mode": "markers",
         "name": "ptilocercus.n.01",
         "opacity": 0.4,
         "type": "scatter",
         "x": [
          6.074464321136475
         ],
         "y": [
          -3.2583649158477783
         ]
        },
        {
         "marker": {
          "color": "yellow",
          "size": 5
         },
         "mode": "markers",
         "name": "tayassu.n.01",
         "opacity": 0.4,
         "type": "scatter",
         "x": [
          5.320541858673096
         ],
         "y": [
          -0.3552047312259674
         ]
        },
        {
         "marker": {
          "color": "yellow",
          "size": 5
         },
         "mode": "markers",
         "name": "alopex.n.01",
         "opacity": 0.4,
         "type": "scatter",
         "x": [
          11.965265274047852
         ],
         "y": [
          2.3618717193603516
         ]
        },
        {
         "marker": {
          "color": "yellow",
          "size": 5
         },
         "mode": "markers",
         "name": "ictonyx.n.01",
         "opacity": 0.4,
         "type": "scatter",
         "x": [
          -14.591360092163086
         ],
         "y": [
          -10.636770248413086
         ]
        },
        {
         "marker": {
          "color": "yellow",
          "size": 5
         },
         "mode": "markers",
         "name": "erinaceus.n.01",
         "opacity": 0.4,
         "type": "scatter",
         "x": [
          -4.284521579742432
         ],
         "y": [
          7.758816242218018
         ]
        },
        {
         "marker": {
          "color": "yellow",
          "size": 5
         },
         "mode": "markers",
         "name": "clethrionomys.n.01",
         "opacity": 0.4,
         "type": "scatter",
         "x": [
          -8.773072242736816
         ],
         "y": [
          24.467113494873047
         ]
        },
        {
         "marker": {
          "color": "yellow",
          "size": 5
         },
         "mode": "markers",
         "name": "hyperoodon.n.01",
         "opacity": 0.4,
         "type": "scatter",
         "x": [
          10.448775291442871
         ],
         "y": [
          -7.847925662994385
         ]
        },
        {
         "marker": {
          "color": "yellow",
          "size": 5
         },
         "mode": "markers",
         "name": "hemigalus.n.01",
         "opacity": 0.4,
         "type": "scatter",
         "x": [
          2.618798017501831
         ],
         "y": [
          31.13233757019043
         ]
        },
        {
         "marker": {
          "color": "yellow",
          "size": 5
         },
         "mode": "markers",
         "name": "bettongia.n.01",
         "opacity": 0.4,
         "type": "scatter",
         "x": [
          31.803194046020508
         ],
         "y": [
          10.689635276794434
         ]
        },
        {
         "marker": {
          "color": "yellow",
          "size": 5
         },
         "mode": "markers",
         "name": "genus_grison.n.01",
         "opacity": 0.4,
         "type": "scatter",
         "x": [
          -13.470520973205566
         ],
         "y": [
          -9.740425109863281
         ]
        },
        {
         "marker": {
          "color": "yellow",
          "size": 5
         },
         "mode": "markers",
         "name": "leontocebus.n.01",
         "opacity": 0.4,
         "type": "scatter",
         "x": [
          31.28158187866211
         ],
         "y": [
          -2.449970245361328
         ]
        },
        {
         "marker": {
          "color": "yellow",
          "size": 5
         },
         "mode": "markers",
         "name": "hydrodamalis.n.01",
         "opacity": 0.4,
         "type": "scatter",
         "x": [
          -8.807558059692383
         ],
         "y": [
          2.5744147300720215
         ]
        },
        {
         "marker": {
          "color": "yellow",
          "size": 5
         },
         "mode": "markers",
         "name": "hyemoschus.n.01",
         "opacity": 0.4,
         "type": "scatter",
         "x": [
          13.096637725830078
         ],
         "y": [
          -3.3670501708984375
         ]
        },
        {
         "marker": {
          "color": "yellow",
          "size": 5
         },
         "mode": "markers",
         "name": "vulpes.n.01",
         "opacity": 0.4,
         "type": "scatter",
         "x": [
          11.943014144897461
         ],
         "y": [
          2.3627843856811523
         ]
        },
        {
         "marker": {
          "color": "yellow",
          "size": 5
         },
         "mode": "markers",
         "name": "tragulus.n.01",
         "opacity": 0.4,
         "type": "scatter",
         "x": [
          13.096545219421387
         ],
         "y": [
          -3.367022752761841
         ]
        },
        {
         "marker": {
          "color": "yellow",
          "size": 5
         },
         "mode": "markers",
         "name": "alces.n.01",
         "opacity": 0.4,
         "type": "scatter",
         "x": [
          7.52366828918457
         ],
         "y": [
          6.0453782081604
         ]
        },
        {
         "marker": {
          "color": "yellow",
          "size": 5
         },
         "mode": "markers",
         "name": "eptesicus.n.01",
         "opacity": 0.4,
         "type": "scatter",
         "x": [
          18.79920196533203
         ],
         "y": [
          -25.257526397705078
         ]
        },
        {
         "marker": {
          "color": "yellow",
          "size": 5
         },
         "mode": "markers",
         "name": "ochotona.n.01",
         "opacity": 0.4,
         "type": "scatter",
         "x": [
          3.63904070854187
         ],
         "y": [
          5.448819160461426
         ]
        },
        {
         "marker": {
          "color": "yellow",
          "size": 5
         },
         "mode": "markers",
         "name": "dolichotis.n.01",
         "opacity": 0.4,
         "type": "scatter",
         "x": [
          -7.454711437225342
         ],
         "y": [
          12.088979721069336
         ]
        },
        {
         "marker": {
          "color": "yellow",
          "size": 5
         },
         "mode": "markers",
         "name": "aotus.n.01",
         "opacity": 0.4,
         "type": "scatter",
         "x": [
          31.254728317260742
         ],
         "y": [
          -1.2562698125839233
         ]
        },
        {
         "marker": {
          "color": "yellow",
          "size": 5
         },
         "mode": "markers",
         "name": "connochaetes.n.01",
         "opacity": 0.4,
         "type": "scatter",
         "x": [
          12.770564079284668
         ],
         "y": [
          7.22627067565918
         ]
        },
        {
         "marker": {
          "color": "yellow",
          "size": 5
         },
         "mode": "markers",
         "name": "lasiurus.n.01",
         "opacity": 0.4,
         "type": "scatter",
         "x": [
          18.503101348876953
         ],
         "y": [
          -25.092390060424805
         ]
        },
        {
         "marker": {
          "color": "yellow",
          "size": 5
         },
         "mode": "markers",
         "name": "hippotragus.n.01",
         "opacity": 0.4,
         "type": "scatter",
         "x": [
          15.543021202087402
         ],
         "y": [
          8.123534202575684
         ]
        },
        {
         "marker": {
          "color": "yellow",
          "size": 5
         },
         "mode": "markers",
         "name": "thylogale.n.01",
         "opacity": 0.4,
         "type": "scatter",
         "x": [
          32.37887954711914
         ],
         "y": [
          9.910264015197754
         ]
        },
        {
         "marker": {
          "color": "yellow",
          "size": 5
         },
         "mode": "markers",
         "name": "ateles.n.01",
         "opacity": 0.4,
         "type": "scatter",
         "x": [
          31.135976791381836
         ],
         "y": [
          -1.2304351329803467
         ]
        },
        {
         "marker": {
          "color": "yellow",
          "size": 5
         },
         "mode": "markers",
         "name": "tragelaphus.n.01",
         "opacity": 0.4,
         "type": "scatter",
         "x": [
          13.310188293457031
         ],
         "y": [
          -0.5406707525253296
         ]
        },
        {
         "marker": {
          "color": "yellow",
          "size": 5
         },
         "mode": "markers",
         "name": "capra.n.02",
         "opacity": 0.4,
         "type": "scatter",
         "x": [
          4.427605152130127
         ],
         "y": [
          0.5990316867828369
         ]
        },
        {
         "marker": {
          "color": "yellow",
          "size": 5
         },
         "mode": "markers",
         "name": "petrogale.n.01",
         "opacity": 0.4,
         "type": "scatter",
         "x": [
          11.539867401123047
         ],
         "y": [
          106.73226165771484
         ]
        },
        {
         "marker": {
          "color": "yellow",
          "size": 5
         },
         "mode": "markers",
         "name": "urocyon.n.01",
         "opacity": 0.4,
         "type": "scatter",
         "x": [
          11.020931243896484
         ],
         "y": [
          2.4953601360321045
         ]
        },
        {
         "marker": {
          "color": "yellow",
          "size": 5
         },
         "mode": "markers",
         "name": "genus_hippopotamus.n.01",
         "opacity": 0.4,
         "type": "scatter",
         "x": [
          8.332501411437988
         ],
         "y": [
          -4.462127685546875
         ]
        },
        {
         "marker": {
          "color": "yellow",
          "size": 5
         },
         "mode": "markers",
         "name": "mammut.n.01",
         "opacity": 0.4,
         "type": "scatter",
         "x": [
          20.321123123168945
         ],
         "y": [
          11.958844184875488
         ]
        },
        {
         "marker": {
          "color": "yellow",
          "size": 5
         },
         "mode": "markers",
         "name": "neofiber.n.01",
         "opacity": 0.4,
         "type": "scatter",
         "x": [
          -8.710466384887695
         ],
         "y": [
          22.19414710998535
         ]
        },
        {
         "marker": {
          "color": "yellow",
          "size": 5
         },
         "mode": "markers",
         "name": "macropus.n.01",
         "opacity": 0.4,
         "type": "scatter",
         "x": [
          -81.67737579345703
         ],
         "y": [
          90.65597534179688
         ]
        },
        {
         "marker": {
          "color": "yellow",
          "size": 5
         },
         "mode": "markers",
         "name": "petaurus.n.01",
         "opacity": 0.4,
         "type": "scatter",
         "x": [
          21.95950698852539
         ],
         "y": [
          1.5315829515457153
         ]
        },
        {
         "marker": {
          "color": "yellow",
          "size": 5
         },
         "mode": "markers",
         "name": "trichechus.n.01",
         "opacity": 0.4,
         "type": "scatter",
         "x": [
          -8.808592796325684
         ],
         "y": [
          2.574716091156006
         ]
        },
        {
         "marker": {
          "color": "yellow",
          "size": 5
         },
         "mode": "markers",
         "name": "nycticebus.n.01",
         "opacity": 0.4,
         "type": "scatter",
         "x": [
          0.06258784234523773
         ],
         "y": [
          10.130128860473633
         ]
        },
        {
         "marker": {
          "color": "yellow",
          "size": 5
         },
         "mode": "markers",
         "name": "phyllostomus.n.01",
         "opacity": 0.4,
         "type": "scatter",
         "x": [
          14.202470779418945
         ],
         "y": [
          -20.031221389770508
         ]
        },
        {
         "marker": {
          "color": "yellow",
          "size": 5
         },
         "mode": "markers",
         "name": "elephas.n.01",
         "opacity": 0.4,
         "type": "scatter",
         "x": [
          20.21715545654297
         ],
         "y": [
          11.135380744934082
         ]
        },
        {
         "marker": {
          "color": "yellow",
          "size": 5
         },
         "mode": "markers",
         "name": "diceros.n.01",
         "opacity": 0.4,
         "type": "scatter",
         "x": [
          7.119630813598633
         ],
         "y": [
          -0.7309525609016418
         ]
        },
        {
         "marker": {
          "color": "yellow",
          "size": 5
         },
         "mode": "markers",
         "name": "reithrodontomys.n.01",
         "opacity": 0.4,
         "type": "scatter",
         "x": [
          -8.516424179077148
         ],
         "y": [
          23.820789337158203
         ]
        },
        {
         "marker": {
          "color": "yellow",
          "size": 5
         },
         "mode": "markers",
         "name": "muntiacus.n.01",
         "opacity": 0.4,
         "type": "scatter",
         "x": [
          6.721187591552734
         ],
         "y": [
          6.291804313659668
         ]
        },
        {
         "marker": {
          "color": "yellow",
          "size": 5
         },
         "mode": "markers",
         "name": "dasyurus.n.01",
         "opacity": 0.4,
         "type": "scatter",
         "x": [
          25.552038192749023
         ],
         "y": [
          15.899470329284668
         ]
        },
        {
         "marker": {
          "color": "yellow",
          "size": 5
         },
         "mode": "markers",
         "name": "zalophus.n.01",
         "opacity": 0.4,
         "type": "scatter",
         "x": [
          -22.167247772216797
         ],
         "y": [
          -6.446876525878906
         ]
        },
        {
         "marker": {
          "color": "yellow",
          "size": 5
         },
         "mode": "markers",
         "name": "microdipodops.n.01",
         "opacity": 0.4,
         "type": "scatter",
         "x": [
          -0.6616955995559692
         ],
         "y": [
          22.74233055114746
         ]
        },
        {
         "marker": {
          "color": "yellow",
          "size": 5
         },
         "mode": "markers",
         "name": "hypsiprymnodon.n.01",
         "opacity": 0.4,
         "type": "scatter",
         "x": [
          32.31378173828125
         ],
         "y": [
          10.03573989868164
         ]
        },
        {
         "marker": {
          "color": "yellow",
          "size": 5
         },
         "mode": "markers",
         "name": "zaglossus.n.01",
         "opacity": 0.4,
         "type": "scatter",
         "x": [
          17.230865478515625
         ],
         "y": [
          1.4906797409057617
         ]
        },
        {
         "marker": {
          "color": "yellow",
          "size": 5
         },
         "mode": "markers",
         "name": "pagophilus.n.01",
         "opacity": 0.4,
         "type": "scatter",
         "x": [
          -21.80270004272461
         ],
         "y": [
          -1.5462250709533691
         ]
        },
        {
         "marker": {
          "color": "yellow",
          "size": 5
         },
         "mode": "markers",
         "name": "cynocephalus.n.01",
         "opacity": 0.4,
         "type": "scatter",
         "x": [
          8.362871170043945
         ],
         "y": [
          -6.538254737854004
         ]
        },
        {
         "marker": {
          "color": "yellow",
          "size": 5
         },
         "mode": "markers",
         "name": "tolypeutes.n.01",
         "opacity": 0.4,
         "type": "scatter",
         "x": [
          26.1148738861084
         ],
         "y": [
          5.360448360443115
         ]
        },
        {
         "marker": {
          "color": "yellow",
          "size": 5
         },
         "mode": "markers",
         "name": "dendrolagus.n.01",
         "opacity": 0.4,
         "type": "scatter",
         "x": [
          31.978891372680664
         ],
         "y": [
          9.815985679626465
         ]
        },
        {
         "marker": {
          "color": "yellow",
          "size": 5
         },
         "mode": "markers",
         "name": "oryzomys.n.01",
         "opacity": 0.4,
         "type": "scatter",
         "x": [
          -9.55843448638916
         ],
         "y": [
          24.44774627685547
         ]
        },
        {
         "marker": {
          "color": "yellow",
          "size": 5
         },
         "mode": "markers",
         "name": "balaena.n.01",
         "opacity": 0.4,
         "type": "scatter",
         "x": [
          12.643326759338379
         ],
         "y": [
          -10.490293502807617
         ]
        },
        {
         "marker": {
          "color": "yellow",
          "size": 5
         },
         "mode": "markers",
         "name": "aepyceros.n.01",
         "opacity": 0.4,
         "type": "scatter",
         "x": [
          14.111903190612793
         ],
         "y": [
          6.705438137054443
         ]
        },
        {
         "marker": {
          "color": "yellow",
          "size": 5
         },
         "mode": "markers",
         "name": "babyrousa.n.01",
         "opacity": 0.4,
         "type": "scatter",
         "x": [
          5.497830390930176
         ],
         "y": [
          2.139400005340576
         ]
        },
        {
         "marker": {
          "color": "yellow",
          "size": 5
         },
         "mode": "markers",
         "name": "ovibos.n.01",
         "opacity": 0.4,
         "type": "scatter",
         "x": [
          15.249876976013184
         ],
         "y": [
          5.2582879066467285
         ]
        },
        {
         "marker": {
          "color": "yellow",
          "size": 5
         },
         "mode": "markers",
         "name": "genus_anoa.n.01",
         "opacity": 0.4,
         "type": "scatter",
         "x": [
          13.964519500732422
         ],
         "y": [
          7.247298240661621
         ]
        },
        {
         "marker": {
          "color": "yellow",
          "size": 5
         },
         "mode": "markers",
         "name": "ailurus.n.01",
         "opacity": 0.4,
         "type": "scatter",
         "x": [
          9.685466766357422
         ],
         "y": [
          -30.472379684448242
         ]
        },
        {
         "marker": {
          "color": "yellow",
          "size": 5
         },
         "mode": "markers",
         "name": "perognathus.n.01",
         "opacity": 0.4,
         "type": "scatter",
         "x": [
          -0.6560402512550354
         ],
         "y": [
          22.74357032775879
         ]
        },
        {
         "marker": {
          "color": "yellow",
          "size": 5
         },
         "mode": "markers",
         "name": "glis.n.01",
         "opacity": 0.4,
         "type": "scatter",
         "x": [
          -9.675716400146484
         ],
         "y": [
          17.417957305908203
         ]
        },
        {
         "marker": {
          "color": "yellow",
          "size": 5
         },
         "mode": "markers",
         "name": "citellus.n.01",
         "opacity": 0.4,
         "type": "scatter",
         "x": [
          -4.327517032623291
         ],
         "y": [
          16.116750717163086
         ]
        },
        {
         "marker": {
          "color": "yellow",
          "size": 5
         },
         "mode": "markers",
         "name": "adenota.n.01",
         "opacity": 0.4,
         "type": "scatter",
         "x": [
          15.085477828979492
         ],
         "y": [
          6.226363658905029
         ]
        },
        {
         "marker": {
          "color": "yellow",
          "size": 5
         },
         "mode": "markers",
         "name": "viverricula.n.01",
         "opacity": 0.4,
         "type": "scatter",
         "x": [
          3.30829119682312
         ],
         "y": [
          31.292247772216797
         ]
        },
        {
         "marker": {
          "color": "yellow",
          "size": 5
         },
         "mode": "markers",
         "name": "elaphurus.n.01",
         "opacity": 0.4,
         "type": "scatter",
         "x": [
          9.174726486206055
         ],
         "y": [
          7.565870761871338
         ]
        },
        {
         "marker": {
          "color": "yellow",
          "size": 5
         },
         "mode": "markers",
         "name": "dasypus.n.01",
         "opacity": 0.4,
         "type": "scatter",
         "x": [
          26.095874786376953
         ],
         "y": [
          6.198268413543701
         ]
        },
        {
         "marker": {
          "color": "yellow",
          "size": 5
         },
         "mode": "markers",
         "name": "conepatus.n.01",
         "opacity": 0.4,
         "type": "scatter",
         "x": [
          -15.150970458984375
         ],
         "y": [
          -10.266921997070312
         ]
        },
        {
         "marker": {
          "color": "yellow",
          "size": 5
         },
         "mode": "markers",
         "name": "uropsilus.n.01",
         "opacity": 0.4,
         "type": "scatter",
         "x": [
          -13.428122520446777
         ],
         "y": [
          6.388354301452637
         ]
        },
        {
         "marker": {
          "color": "yellow",
          "size": 5
         },
         "mode": "markers",
         "name": "thylacinus.n.01",
         "opacity": 0.4,
         "type": "scatter",
         "x": [
          25.41131591796875
         ],
         "y": [
          15.637691497802734
         ]
        },
        {
         "marker": {
          "color": "yellow",
          "size": 5
         },
         "mode": "markers",
         "name": "phoca.n.01",
         "opacity": 0.4,
         "type": "scatter",
         "x": [
          -21.967018127441406
         ],
         "y": [
          -1.5991580486297607
         ]
        },
        {
         "marker": {
          "color": "yellow",
          "size": 5
         },
         "mode": "markers",
         "name": "myotis.n.01",
         "opacity": 0.4,
         "type": "scatter",
         "x": [
          18.077566146850586
         ],
         "y": [
          -25.22128677368164
         ]
        },
        {
         "marker": {
          "color": "yellow",
          "size": 5
         },
         "mode": "markers",
         "name": "lagorchestes.n.01",
         "opacity": 0.4,
         "type": "scatter",
         "x": [
          31.876585006713867
         ],
         "y": [
          9.84685230255127
         ]
        },
        {
         "marker": {
          "color": "yellow",
          "size": 5
         },
         "mode": "markers",
         "name": "muscardinus.n.01",
         "opacity": 0.4,
         "type": "scatter",
         "x": [
          -9.675801277160645
         ],
         "y": [
          17.41826629638672
         ]
        },
        {
         "marker": {
          "color": "yellow",
          "size": 5
         },
         "mode": "markers",
         "name": "atherurus.n.01",
         "opacity": 0.4,
         "type": "scatter",
         "x": [
          -6.733977317810059
         ],
         "y": [
          8.516161918640137
         ]
        },
        {
         "marker": {
          "color": "yellow",
          "size": 5
         },
         "mode": "markers",
         "name": "lama.n.02",
         "opacity": 0.4,
         "type": "scatter",
         "x": [
          14.978797912597656
         ],
         "y": [
          -6.432438373565674
         ]
        },
        {
         "marker": {
          "color": "yellow",
          "size": 5
         },
         "mode": "markers",
         "name": "mephitis.n.03",
         "opacity": 0.4,
         "type": "scatter",
         "x": [
          -13.962985038757324
         ],
         "y": [
          -13.024138450622559
         ]
        },
        {
         "marker": {
          "color": "yellow",
          "size": 5
         },
         "mode": "markers",
         "name": "taxidea.n.01",
         "opacity": 0.4,
         "type": "scatter",
         "x": [
          -59.32579803466797
         ],
         "y": [
          105.41829681396484
         ]
        },
        {
         "marker": {
          "color": "yellow",
          "size": 5
         },
         "mode": "markers",
         "name": "dipodomys.n.01",
         "opacity": 0.4,
         "type": "scatter",
         "x": [
          -0.6616932153701782
         ],
         "y": [
          22.742467880249023
         ]
        },
        {
         "marker": {
          "color": "yellow",
          "size": 5
         },
         "mode": "markers",
         "name": "oreamnos.n.01",
         "opacity": 0.4,
         "type": "scatter",
         "x": [
          15.882390022277832
         ],
         "y": [
          7.391974449157715
         ]
        },
        {
         "marker": {
          "color": "yellow",
          "size": 5
         },
         "mode": "markers",
         "name": "raphicerus.n.01",
         "opacity": 0.4,
         "type": "scatter",
         "x": [
          2.0609066486358643
         ],
         "y": [
          -0.9007755517959595
         ]
        },
        {
         "marker": {
          "color": "yellow",
          "size": 5
         },
         "mode": "markers",
         "name": "fossa.n.02",
         "opacity": 0.4,
         "type": "scatter",
         "x": [
          1.509809970855713
         ],
         "y": [
          -2.4626379013061523
         ]
        },
        {
         "marker": {
          "color": "yellow",
          "size": 5
         },
         "mode": "markers",
         "name": "archidiskidon.n.01",
         "opacity": 0.4,
         "type": "scatter",
         "x": [
          20.2158145904541
         ],
         "y": [
          11.12075424194336
         ]
        },
        {
         "marker": {
          "color": "yellow",
          "size": 5
         },
         "mode": "markers",
         "name": "burmeisteria.n.01",
         "opacity": 0.4,
         "type": "scatter",
         "x": [
          26.1131591796875
         ],
         "y": [
          5.398106098175049
         ]
        },
        {
         "marker": {
          "color": "yellow",
          "size": 5
         },
         "mode": "markers",
         "name": "cynomys.n.01",
         "opacity": 0.4,
         "type": "scatter",
         "x": [
          -5.105889320373535
         ],
         "y": [
          15.478270530700684
         ]
        },
        {
         "marker": {
          "color": "yellow",
          "size": 5
         },
         "mode": "markers",
         "name": "genus_macrotus.n.01",
         "opacity": 0.4,
         "type": "scatter",
         "x": [
          14.202089309692383
         ],
         "y": [
          -20.031269073486328
         ]
        },
        {
         "marker": {
          "color": "yellow",
          "size": 5
         },
         "mode": "markers",
         "name": "mandrillus.n.01",
         "opacity": 0.4,
         "type": "scatter",
         "x": [
          11.777077674865723
         ],
         "y": [
          15.041608810424805
         ]
        },
        {
         "marker": {
          "color": "yellow",
          "size": 5
         },
         "mode": "markers",
         "name": "nesokia.n.01",
         "opacity": 0.4,
         "type": "scatter",
         "x": [
          3.465291976928711
         ],
         "y": [
          -1.611221432685852
         ]
        },
        {
         "marker": {
          "color": "yellow",
          "size": 5
         },
         "mode": "markers",
         "name": "baiomys.n.01",
         "opacity": 0.4,
         "type": "scatter",
         "x": [
          -9.283980369567871
         ],
         "y": [
          23.43243408203125
         ]
        },
        {
         "marker": {
          "color": "yellow",
          "size": 5
         },
         "mode": "markers",
         "name": "antilope.n.01",
         "opacity": 0.4,
         "type": "scatter",
         "x": [
          -6.200474739074707
         ],
         "y": [
          121.27183532714844
         ]
        },
        {
         "marker": {
          "color": "purple",
          "size": 5
         },
         "mode": "markers",
         "name": "icteria.n.01",
         "opacity": 0.4,
         "type": "scatter",
         "x": [
          8.08007526397705
         ],
         "y": [
          -9.897073745727539
         ]
        },
        {
         "marker": {
          "color": "purple",
          "size": 5
         },
         "mode": "markers",
         "name": "zenaidura.n.01",
         "opacity": 0.4,
         "type": "scatter",
         "x": [
          -9.706326484680176
         ],
         "y": [
          -14.726255416870117
         ]
        },
        {
         "marker": {
          "color": "purple",
          "size": 5
         },
         "mode": "markers",
         "name": "plectrophenax.n.01",
         "opacity": 0.4,
         "type": "scatter",
         "x": [
          -26.191944122314453
         ],
         "y": [
          26.23578643798828
         ]
        },
        {
         "marker": {
          "color": "purple",
          "size": 5
         },
         "mode": "markers",
         "name": "porzana.n.01",
         "opacity": 0.4,
         "type": "scatter",
         "x": [
          -12.851580619812012
         ],
         "y": [
          2.3518083095550537
         ]
        },
        {
         "marker": {
          "color": "purple",
          "size": 5
         },
         "mode": "markers",
         "name": "elanoides.n.01",
         "opacity": 0.4,
         "type": "scatter",
         "x": [
          -11.610735893249512
         ],
         "y": [
          -26.68344497680664
         ]
        },
        {
         "marker": {
          "color": "purple",
          "size": 5
         },
         "mode": "markers",
         "name": "irena.n.01",
         "opacity": 0.4,
         "type": "scatter",
         "x": [
          -2.3029375076293945
         ],
         "y": [
          -5.29884672164917
         ]
        },
        {
         "marker": {
          "color": "purple",
          "size": 5
         },
         "mode": "markers",
         "name": "actitis.n.01",
         "opacity": 0.4,
         "type": "scatter",
         "x": [
          -33.06538772583008
         ],
         "y": [
          10.381674766540527
         ]
        },
        {
         "marker": {
          "color": "purple",
          "size": 5
         },
         "mode": "markers",
         "name": "vertebrata.n.01",
         "opacity": 0.4,
         "type": "scatter",
         "x": [
          3.243713855743408
         ],
         "y": [
          -2.44830060005188
         ]
        },
        {
         "marker": {
          "color": "purple",
          "size": 5
         },
         "mode": "markers",
         "name": "dendroica.n.01",
         "opacity": 0.4,
         "type": "scatter",
         "x": [
          7.550927639007568
         ],
         "y": [
          -8.924009323120117
         ]
        },
        {
         "marker": {
          "color": "purple",
          "size": 5
         },
         "mode": "markers",
         "name": "phalacrocorax.n.01",
         "opacity": 0.4,
         "type": "scatter",
         "x": [
          6.228285312652588
         ],
         "y": [
          -13.319818496704102
         ]
        },
        {
         "marker": {
          "color": "purple",
          "size": 5
         },
         "mode": "markers",
         "name": "passer.n.05",
         "opacity": 0.4,
         "type": "scatter",
         "x": [
          5.8169660568237305
         ],
         "y": [
          -5.806072235107422
         ]
        },
        {
         "marker": {
          "color": "purple",
          "size": 5
         },
         "mode": "markers",
         "name": "numida.n.01",
         "opacity": 0.4,
         "type": "scatter",
         "x": [
          -1.7376818656921387
         ],
         "y": [
          -20.678436279296875
         ]
        },
        {
         "marker": {
          "color": "purple",
          "size": 5
         },
         "mode": "markers",
         "name": "saxicola.n.01",
         "opacity": 0.4,
         "type": "scatter",
         "x": [
          -16.92778778076172
         ],
         "y": [
          -5.9325995445251465
         ]
        },
        {
         "marker": {
          "color": "purple",
          "size": 5
         },
         "mode": "markers",
         "name": "branta.n.01",
         "opacity": 0.4,
         "type": "scatter",
         "x": [
          27.165699005126953
         ],
         "y": [
          -13.367048263549805
         ]
        },
        {
         "marker": {
          "color": "purple",
          "size": 5
         },
         "mode": "markers",
         "name": "sagittarius.n.04",
         "opacity": 0.4,
         "type": "scatter",
         "x": [
          -9.167739868164062
         ],
         "y": [
          -23.78319549560547
         ]
        },
        {
         "marker": {
          "color": "purple",
          "size": 5
         },
         "mode": "markers",
         "name": "limnocryptes.n.01",
         "opacity": 0.4,
         "type": "scatter",
         "x": [
          -33.085262298583984
         ],
         "y": [
          9.246560096740723
         ]
        },
        {
         "marker": {
          "color": "purple",
          "size": 5
         },
         "mode": "markers",
         "name": "polyborus.n.01",
         "opacity": 0.4,
         "type": "scatter",
         "x": [
          -11.986117362976074
         ],
         "y": [
          -21.624683380126953
         ]
        },
        {
         "marker": {
          "color": "purple",
          "size": 5
         },
         "mode": "markers",
         "name": "athene.n.02",
         "opacity": 0.4,
         "type": "scatter",
         "x": [
          20.259061813354492
         ],
         "y": [
          -16.647981643676758
         ]
        },
        {
         "marker": {
          "color": "purple",
          "size": 5
         },
         "mode": "markers",
         "name": "bonasa.n.01",
         "opacity": 0.4,
         "type": "scatter",
         "x": [
          1.8178589344024658
         ],
         "y": [
          -25.934682846069336
         ]
        },
        {
         "marker": {
          "color": "purple",
          "size": 5
         },
         "mode": "markers",
         "name": "acanthisitta.n.01",
         "opacity": 0.4,
         "type": "scatter",
         "x": [
          -7.254281997680664
         ],
         "y": [
          -10.030101776123047
         ]
        },
        {
         "marker": {
          "color": "purple",
          "size": 5
         },
         "mode": "markers",
         "name": "certhia.n.01",
         "opacity": 0.4,
         "type": "scatter",
         "x": [
          -0.3722419738769531
         ],
         "y": [
          16.231735229492188
         ]
        },
        {
         "marker": {
          "color": "purple",
          "size": 5
         },
         "mode": "markers",
         "name": "genus_leipoa.n.01",
         "opacity": 0.4,
         "type": "scatter",
         "x": [
          -7.915320873260498
         ],
         "y": [
          -18.71190071105957
         ]
        },
        {
         "marker": {
          "color": "purple",
          "size": 5
         },
         "mode": "markers",
         "name": "passerina.n.01",
         "opacity": 0.4,
         "type": "scatter",
         "x": [
          -26.66321563720703
         ],
         "y": [
          26.44655990600586
         ]
        },
        {
         "marker": {
          "color": "purple",
          "size": 5
         },
         "mode": "markers",
         "name": "ortalis.n.01",
         "opacity": 0.4,
         "type": "scatter",
         "x": [
          -0.8342821598052979
         ],
         "y": [
          -5.555495738983154
         ]
        },
        {
         "marker": {
          "color": "purple",
          "size": 5
         },
         "mode": "markers",
         "name": "pandion.n.01",
         "opacity": 0.4,
         "type": "scatter",
         "x": [
          -9.912851333618164
         ],
         "y": [
          -25.432231903076172
         ]
        },
        {
         "marker": {
          "color": "purple",
          "size": 5
         },
         "mode": "markers",
         "name": "nyctanassa.n.01",
         "opacity": 0.4,
         "type": "scatter",
         "x": [
          -30.938337326049805
         ],
         "y": [
          -5.538041591644287
         ]
        },
        {
         "marker": {
          "color": "purple",
          "size": 5
         },
         "mode": "markers",
         "name": "cochlearius.n.01",
         "opacity": 0.4,
         "type": "scatter",
         "x": [
          -30.133724212646484
         ],
         "y": [
          -5.343999862670898
         ]
        },
        {
         "marker": {
          "color": "purple",
          "size": 5
         },
         "mode": "markers",
         "name": "botaurus.n.01",
         "opacity": 0.4,
         "type": "scatter",
         "x": [
          -30.16383934020996
         ],
         "y": [
          -5.613015651702881
         ]
        },
        {
         "marker": {
          "color": "purple",
          "size": 5
         },
         "mode": "markers",
         "name": "tetrao.n.01",
         "opacity": 0.4,
         "type": "scatter",
         "x": [
          1.9421929121017456
         ],
         "y": [
          -25.692827224731445
         ]
        },
        {
         "marker": {
          "color": "purple",
          "size": 5
         },
         "mode": "markers",
         "name": "gallinula.n.01",
         "opacity": 0.4,
         "type": "scatter",
         "x": [
          -8.122916221618652
         ],
         "y": [
          0.36696434020996094
         ]
        },
        {
         "marker": {
          "color": "purple",
          "size": 5
         },
         "mode": "markers",
         "name": "threskiornis.n.01",
         "opacity": 0.4,
         "type": "scatter",
         "x": [
          5.240322589874268
         ],
         "y": [
          -18.016565322875977
         ]
        },
        {
         "marker": {
          "color": "purple",
          "size": 5
         },
         "mode": "markers",
         "name": "burhinus.n.01",
         "opacity": 0.4,
         "type": "scatter",
         "x": [
          0.28265631198883057
         ],
         "y": [
          -14.156445503234863
         ]
        },
        {
         "marker": {
          "color": "purple",
          "size": 5
         },
         "mode": "markers",
         "name": "mergus.n.01",
         "opacity": 0.4,
         "type": "scatter",
         "x": [
          10.521712303161621
         ],
         "y": [
          -3.865715265274048
         ]
        },
        {
         "marker": {
          "color": "purple",
          "size": 5
         },
         "mode": "markers",
         "name": "sayornis.n.01",
         "opacity": 0.4,
         "type": "scatter",
         "x": [
          -1.5314805507659912
         ],
         "y": [
          -32.2917594909668
         ]
        },
        {
         "marker": {
          "color": "purple",
          "size": 5
         },
         "mode": "markers",
         "name": "charadrius.n.01",
         "opacity": 0.4,
         "type": "scatter",
         "x": [
          2.7364628314971924
         ],
         "y": [
          0.44719070196151733
         ]
        },
        {
         "marker": {
          "color": "purple",
          "size": 5
         },
         "mode": "markers",
         "name": "choriotis.n.01",
         "opacity": 0.4,
         "type": "scatter",
         "x": [
          -10.050600051879883
         ],
         "y": [
          -1.019720196723938
         ]
        },
        {
         "marker": {
          "color": "purple",
          "size": 5
         },
         "mode": "markers",
         "name": "erithacus.n.01",
         "opacity": 0.4,
         "type": "scatter",
         "x": [
          -16.93033218383789
         ],
         "y": [
          -5.932652950286865
         ]
        },
        {
         "marker": {
          "color": "purple",
          "size": 5
         },
         "mode": "markers",
         "name": "xenicus.n.01",
         "opacity": 0.4,
         "type": "scatter",
         "x": [
          -7.254030704498291
         ],
         "y": [
          -10.031244277954102
         ]
        },
        {
         "marker": {
          "color": "purple",
          "size": 5
         },
         "mode": "markers",
         "name": "elanus.n.01",
         "opacity": 0.4,
         "type": "scatter",
         "x": [
          -11.93907642364502
         ],
         "y": [
          -26.521717071533203
         ]
        },
        {
         "marker": {
          "color": "purple",
          "size": 5
         },
         "mode": "markers",
         "name": "chateura.n.01",
         "opacity": 0.4,
         "type": "scatter",
         "x": [
          -14.381075859069824
         ],
         "y": [
          -17.5233211517334
         ]
        },
        {
         "marker": {
          "color": "purple",
          "size": 5
         },
         "mode": "markers",
         "name": "richmondena.n.01",
         "opacity": 0.4,
         "type": "scatter",
         "x": [
          -27.071121215820312
         ],
         "y": [
          27.876548767089844
         ]
        },
        {
         "marker": {
          "color": "purple",
          "size": 5
         },
         "mode": "markers",
         "name": "tichodroma.n.01",
         "opacity": 0.4,
         "type": "scatter",
         "x": [
          -0.3708803057670593
         ],
         "y": [
          16.231550216674805
         ]
        },
        {
         "marker": {
          "color": "purple",
          "size": 5
         },
         "mode": "markers",
         "name": "muscicapa.n.01",
         "opacity": 0.4,
         "type": "scatter",
         "x": [
          -10.621660232543945
         ],
         "y": [
          9.327970504760742
         ]
        },
        {
         "marker": {
          "color": "purple",
          "size": 5
         },
         "mode": "markers",
         "name": "anas.n.01",
         "opacity": 0.4,
         "type": "scatter",
         "x": [
          25.938419342041016
         ],
         "y": [
          -11.788583755493164
         ]
        },
        {
         "marker": {
          "color": "purple",
          "size": 5
         },
         "mode": "markers",
         "name": "sterna.n.01",
         "opacity": 0.4,
         "type": "scatter",
         "x": [
          10.266319274902344
         ],
         "y": [
          -13.228299140930176
         ]
        },
        {
         "marker": {
          "color": "purple",
          "size": 5
         },
         "mode": "markers",
         "name": "ciconia.n.01",
         "opacity": 0.4,
         "type": "scatter",
         "x": [
          9.394838333129883
         ],
         "y": [
          -18.005945205688477
         ]
        },
        {
         "marker": {
          "color": "purple",
          "size": 5
         },
         "mode": "markers",
         "name": "seiurus.n.01",
         "opacity": 0.4,
         "type": "scatter",
         "x": [
          8.0634765625
         ],
         "y": [
          -9.81457233428955
         ]
        },
        {
         "marker": {
          "color": "purple",
          "size": 5
         },
         "mode": "markers",
         "name": "casmerodius.n.01",
         "opacity": 0.4,
         "type": "scatter",
         "x": [
          -30.514232635498047
         ],
         "y": [
          -4.703560829162598
         ]
        },
        {
         "marker": {
          "color": "purple",
          "size": 5
         },
         "mode": "markers",
         "name": "psittacus.n.01",
         "opacity": 0.4,
         "type": "scatter",
         "x": [
          14.3503999710083
         ],
         "y": [
          27.254623413085938
         ]
        },
        {
         "marker": {
          "color": "purple",
          "size": 5
         },
         "mode": "markers",
         "name": "pipilo.n.01",
         "opacity": 0.4,
         "type": "scatter",
         "x": [
          -25.97357749938965
         ],
         "y": [
          29.167070388793945
         ]
        },
        {
         "marker": {
          "color": "purple",
          "size": 5
         },
         "mode": "markers",
         "name": "alectura.n.01",
         "opacity": 0.4,
         "type": "scatter",
         "x": [
          -7.915557861328125
         ],
         "y": [
          -18.711977005004883
         ]
        },
        {
         "marker": {
          "color": "purple",
          "size": 5
         },
         "mode": "markers",
         "name": "caprimulgus.n.01",
         "opacity": 0.4,
         "type": "scatter",
         "x": [
          -9.3712739944458
         ],
         "y": [
          -8.16219425201416
         ]
        },
        {
         "marker": {
          "color": "purple",
          "size": 5
         },
         "mode": "markers",
         "name": "chlorophoneus.n.01",
         "opacity": 0.4,
         "type": "scatter",
         "x": [
          -6.737580299377441
         ],
         "y": [
          -6.731284141540527
         ]
        },
        {
         "marker": {
          "color": "purple",
          "size": 5
         },
         "mode": "markers",
         "name": "cygnus.n.02",
         "opacity": 0.4,
         "type": "scatter",
         "x": [
          27.977691650390625
         ],
         "y": [
          -13.557948112487793
         ]
        },
        {
         "marker": {
          "color": "purple",
          "size": 5
         },
         "mode": "markers",
         "name": "rupicola.n.01",
         "opacity": 0.4,
         "type": "scatter",
         "x": [
          -1.192654013633728
         ],
         "y": [
          -33.08155822753906
         ]
        },
        {
         "marker": {
          "color": "purple",
          "size": 5
         },
         "mode": "markers",
         "name": "pagophila.n.01",
         "opacity": 0.4,
         "type": "scatter",
         "x": [
          10.249836921691895
         ],
         "y": [
          -13.19215202331543
         ]
        },
        {
         "marker": {
          "color": "purple",
          "size": 5
         },
         "mode": "markers",
         "name": "timalia.n.01",
         "opacity": 0.4,
         "type": "scatter",
         "x": [
          -2.977665662765503
         ],
         "y": [
          -4.2836127281188965
         ]
        },
        {
         "marker": {
          "color": "purple",
          "size": 5
         },
         "mode": "markers",
         "name": "agriocharis.n.01",
         "opacity": 0.4,
         "type": "scatter",
         "x": [
          -1.0976327657699585
         ],
         "y": [
          -9.262749671936035
         ]
        },
        {
         "marker": {
          "color": "purple",
          "size": 5
         },
         "mode": "markers",
         "name": "pavo.n.02",
         "opacity": 0.4,
         "type": "scatter",
         "x": [
          -2.2829670906066895
         ],
         "y": [
          -19.64578628540039
         ]
        },
        {
         "marker": {
          "color": "purple",
          "size": 5
         },
         "mode": "markers",
         "name": "otus.n.01",
         "opacity": 0.4,
         "type": "scatter",
         "x": [
          19.41792106628418
         ],
         "y": [
          -17.065889358520508
         ]
        },
        {
         "marker": {
          "color": "purple",
          "size": 5
         },
         "mode": "markers",
         "name": "pterocles.n.01",
         "opacity": 0.4,
         "type": "scatter",
         "x": [
          -4.237824440002441
         ],
         "y": [
          -12.186460494995117
         ]
        },
        {
         "marker": {
          "color": "purple",
          "size": 5
         },
         "mode": "markers",
         "name": "nymphicus.n.01",
         "opacity": 0.4,
         "type": "scatter",
         "x": [
          14.437092781066895
         ],
         "y": [
          27.77967071533203
         ]
        },
        {
         "marker": {
          "color": "purple",
          "size": 5
         },
         "mode": "markers",
         "name": "vanellus.n.01",
         "opacity": 0.4,
         "type": "scatter",
         "x": [
          2.9240612983703613
         ],
         "y": [
          1.2880386114120483
         ]
        },
        {
         "marker": {
          "color": "purple",
          "size": 5
         },
         "mode": "markers",
         "name": "ephippiorhynchus.n.01",
         "opacity": 0.4,
         "type": "scatter",
         "x": [
          9.566482543945312
         ],
         "y": [
          -17.95695686340332
         ]
        },
        {
         "marker": {
          "color": "purple",
          "size": 5
         },
         "mode": "markers",
         "name": "melanerpes.n.01",
         "opacity": 0.4,
         "type": "scatter",
         "x": [
          19.030736923217773
         ],
         "y": [
          -6.404314041137695
         ]
        },
        {
         "marker": {
          "color": "purple",
          "size": 5
         },
         "mode": "markers",
         "name": "spizella.n.01",
         "opacity": 0.4,
         "type": "scatter",
         "x": [
          -25.34111213684082
         ],
         "y": [
          28.445009231567383
         ]
        },
        {
         "marker": {
          "color": "purple",
          "size": 5
         },
         "mode": "markers",
         "name": "tyto.n.01",
         "opacity": 0.4,
         "type": "scatter",
         "x": [
          20.876798629760742
         ],
         "y": [
          -17.89136505126953
         ]
        },
        {
         "marker": {
          "color": "purple",
          "size": 5
         },
         "mode": "markers",
         "name": "gallus.n.02",
         "opacity": 0.4,
         "type": "scatter",
         "x": [
          -0.4478381276130676
         ],
         "y": [
          -8.166293144226074
         ]
        },
        {
         "marker": {
          "color": "purple",
          "size": 5
         },
         "mode": "markers",
         "name": "dacelo.n.01",
         "opacity": 0.4,
         "type": "scatter",
         "x": [
          -11.400045394897461
         ],
         "y": [
          -5.0934343338012695
         ]
        },
        {
         "marker": {
          "color": "purple",
          "size": 5
         },
         "mode": "markers",
         "name": "pterocnemia.n.01",
         "opacity": 0.4,
         "type": "scatter",
         "x": [
          2.775986433029175
         ],
         "y": [
          -10.917678833007812
         ]
        },
        {
         "marker": {
          "color": "purple",
          "size": 5
         },
         "mode": "markers",
         "name": "philomachus.n.01",
         "opacity": 0.4,
         "type": "scatter",
         "x": [
          -34.10305404663086
         ],
         "y": [
          9.418997764587402
         ]
        },
        {
         "marker": {
          "color": "purple",
          "size": 5
         },
         "mode": "markers",
         "name": "mimus.n.01",
         "opacity": 0.4,
         "type": "scatter",
         "x": [
          -19.575422286987305
         ],
         "y": [
          10.891548156738281
         ]
        },
        {
         "marker": {
          "color": "purple",
          "size": 5
         },
         "mode": "markers",
         "name": "genus_archaeopteryx.n.01",
         "opacity": 0.4,
         "type": "scatter",
         "x": [
          0.7956690788269043
         ],
         "y": [
          -5.785029411315918
         ]
        },
        {
         "marker": {
          "color": "purple",
          "size": 5
         },
         "mode": "markers",
         "name": "melanitta.n.01",
         "opacity": 0.4,
         "type": "scatter",
         "x": [
          27.47100257873535
         ],
         "y": [
          -11.538095474243164
         ]
        },
        {
         "marker": {
          "color": "purple",
          "size": 5
         },
         "mode": "markers",
         "name": "perisoreus.n.01",
         "opacity": 0.4,
         "type": "scatter",
         "x": [
          -4.455155372619629
         ],
         "y": [
          -8.952624320983887
         ]
        },
        {
         "marker": {
          "color": "purple",
          "size": 5
         },
         "mode": "markers",
         "name": "lobipes.n.01",
         "opacity": 0.4,
         "type": "scatter",
         "x": [
          0.9510669112205505
         ],
         "y": [
          -16.845306396484375
         ]
        },
        {
         "marker": {
          "color": "purple",
          "size": 5
         },
         "mode": "markers",
         "name": "bubulcus.n.01",
         "opacity": 0.4,
         "type": "scatter",
         "x": [
          -30.855579376220703
         ],
         "y": [
          -5.4313578605651855
         ]
        },
        {
         "marker": {
          "color": "purple",
          "size": 5
         },
         "mode": "markers",
         "name": "fregata.n.01",
         "opacity": 0.4,
         "type": "scatter",
         "x": [
          6.627714157104492
         ],
         "y": [
          -13.031146049499512
         ]
        },
        {
         "marker": {
          "color": "purple",
          "size": 5
         },
         "mode": "markers",
         "name": "euphagus.n.01",
         "opacity": 0.4,
         "type": "scatter",
         "x": [
          -22.553621292114258
         ],
         "y": [
          -13.09708309173584
         ]
        },
        {
         "marker": {
          "color": "purple",
          "size": 5
         },
         "mode": "markers",
         "name": "alcedo.n.01",
         "opacity": 0.4,
         "type": "scatter",
         "x": [
          -11.39166259765625
         ],
         "y": [
          -5.092267990112305
         ]
        },
        {
         "marker": {
          "color": "purple",
          "size": 5
         },
         "mode": "markers",
         "name": "picus.n.01",
         "opacity": 0.4,
         "type": "scatter",
         "x": [
          19.030773162841797
         ],
         "y": [
          -6.404455184936523
         ]
        },
        {
         "marker": {
          "color": "purple",
          "size": 5
         },
         "mode": "markers",
         "name": "ceryle.n.01",
         "opacity": 0.4,
         "type": "scatter",
         "x": [
          -11.405670166015625
         ],
         "y": [
          -5.094510078430176
         ]
        },
        {
         "marker": {
          "color": "purple",
          "size": 5
         },
         "mode": "markers",
         "name": "canachites.n.01",
         "opacity": 0.4,
         "type": "scatter",
         "x": [
          2.0879173278808594
         ],
         "y": [
          -26.0521240234375
         ]
        },
        {
         "marker": {
          "color": "purple",
          "size": 5
         },
         "mode": "markers",
         "name": "pyrocephalus.n.01",
         "opacity": 0.4,
         "type": "scatter",
         "x": [
          -1.7902857065200806
         ],
         "y": [
          -32.40147018432617
         ]
        },
        {
         "marker": {
          "color": "purple",
          "size": 5
         },
         "mode": "markers",
         "name": "columba.n.02",
         "opacity": 0.4,
         "type": "scatter",
         "x": [
          -9.707244873046875
         ],
         "y": [
          -14.726778030395508
         ]
        },
        {
         "marker": {
          "color": "purple",
          "size": 5
         },
         "mode": "markers",
         "name": "balaeniceps.n.01",
         "opacity": 0.4,
         "type": "scatter",
         "x": [
          8.389326095581055
         ],
         "y": [
          -16.21885108947754
         ]
        },
        {
         "marker": {
          "color": "purple",
          "size": 5
         },
         "mode": "markers",
         "name": "coereba.n.01",
         "opacity": 0.4,
         "type": "scatter",
         "x": [
          2.8329081535339355
         ],
         "y": [
          -3.1577298641204834
         ]
        },
        {
         "marker": {
          "color": "purple",
          "size": 5
         },
         "mode": "markers",
         "name": "grus.n.02",
         "opacity": 0.4,
         "type": "scatter",
         "x": [
          -6.399102210998535
         ],
         "y": [
          -3.256654739379883
         ]
        },
        {
         "marker": {
          "color": "purple",
          "size": 5
         },
         "mode": "markers",
         "name": "conuropsis.n.01",
         "opacity": 0.4,
         "type": "scatter",
         "x": [
          15.239882469177246
         ],
         "y": [
          27.236812591552734
         ]
        },
        {
         "marker": {
          "color": "purple",
          "size": 5
         },
         "mode": "markers",
         "name": "aix.n.01",
         "opacity": 0.4,
         "type": "scatter",
         "x": [
          27.849750518798828
         ],
         "y": [
          -12.596900939941406
         ]
        },
        {
         "marker": {
          "color": "purple",
          "size": 5
         },
         "mode": "markers",
         "name": "genus_diomedea.n.01",
         "opacity": 0.4,
         "type": "scatter",
         "x": [
          -12.701241493225098
         ],
         "y": [
          -2.0658774375915527
         ]
        },
        {
         "marker": {
          "color": "purple",
          "size": 5
         },
         "mode": "markers",
         "name": "hesperiphona.n.01",
         "opacity": 0.4,
         "type": "scatter",
         "x": [
          -24.670488357543945
         ],
         "y": [
          28.537599563598633
         ]
        },
        {
         "marker": {
          "color": "purple",
          "size": 5
         },
         "mode": "markers",
         "name": "crex.n.01",
         "opacity": 0.4,
         "type": "scatter",
         "x": [
          -12.744354248046875
         ],
         "y": [
          2.1241869926452637
         ]
        },
        {
         "marker": {
          "color": "purple",
          "size": 5
         },
         "mode": "markers",
         "name": "toxostoma.n.01",
         "opacity": 0.4,
         "type": "scatter",
         "x": [
          -19.829116821289062
         ],
         "y": [
          10.736380577087402
         ]
        },
        {
         "marker": {
          "color": "purple",
          "size": 5
         },
         "mode": "markers",
         "name": "genus_ibis.n.01",
         "opacity": 0.4,
         "type": "scatter",
         "x": [
          5.240363121032715
         ],
         "y": [
          -18.01655387878418
         ]
        },
        {
         "marker": {
          "color": "purple",
          "size": 5
         },
         "mode": "markers",
         "name": "orthotomus.n.01",
         "opacity": 0.4,
         "type": "scatter",
         "x": [
          -10.194588661193848
         ],
         "y": [
          5.997380256652832
         ]
        },
        {
         "marker": {
          "color": "purple",
          "size": 5
         },
         "mode": "markers",
         "name": "vidua.n.01",
         "opacity": 0.4,
         "type": "scatter",
         "x": [
          -17.71272850036621
         ],
         "y": [
          3.9276721477508545
         ]
        },
        {
         "marker": {
          "color": "purple",
          "size": 5
         },
         "mode": "markers",
         "name": "strix.n.01",
         "opacity": 0.4,
         "type": "scatter",
         "x": [
          20.087339401245117
         ],
         "y": [
          -17.298561096191406
         ]
        },
        {
         "marker": {
          "color": "purple",
          "size": 5
         },
         "mode": "markers",
         "name": "auriparus.n.01",
         "opacity": 0.4,
         "type": "scatter",
         "x": [
          -23.329864501953125
         ],
         "y": [
          5.237826824188232
         ]
        },
        {
         "marker": {
          "color": "purple",
          "size": 5
         },
         "mode": "markers",
         "name": "spinus.n.01",
         "opacity": 0.4,
         "type": "scatter",
         "x": [
          -27.250091552734375
         ],
         "y": [
          28.917335510253906
         ]
        },
        {
         "marker": {
          "color": "purple",
          "size": 5
         },
         "mode": "markers",
         "name": "spheniscus.n.01",
         "opacity": 0.4,
         "type": "scatter",
         "x": [
          14.429174423217773
         ],
         "y": [
          -14.79917049407959
         ]
        },
        {
         "marker": {
          "color": "purple",
          "size": 5
         },
         "mode": "markers",
         "name": "aythya.n.01",
         "opacity": 0.4,
         "type": "scatter",
         "x": [
          23.738056182861328
         ],
         "y": [
          -11.021812438964844
         ]
        },
        {
         "marker": {
          "color": "purple",
          "size": 5
         },
         "mode": "markers",
         "name": "nycticorax.n.01",
         "opacity": 0.4,
         "type": "scatter",
         "x": [
          -30.286405563354492
         ],
         "y": [
          -6.049160003662109
         ]
        },
        {
         "marker": {
          "color": "purple",
          "size": 5
         },
         "mode": "markers",
         "name": "psittacula.n.01",
         "opacity": 0.4,
         "type": "scatter",
         "x": [
          14.956850051879883
         ],
         "y": [
          26.866933822631836
         ]
        },
        {
         "marker": {
          "color": "purple",
          "size": 5
         },
         "mode": "markers",
         "name": "loxia.n.01",
         "opacity": 0.4,
         "type": "scatter",
         "x": [
          -26.398897171020508
         ],
         "y": [
          29.52528953552246
         ]
        },
        {
         "marker": {
          "color": "purple",
          "size": 5
         },
         "mode": "markers",
         "name": "serinus.n.01",
         "opacity": 0.4,
         "type": "scatter",
         "x": [
          -27.248733520507812
         ],
         "y": [
          28.305307388305664
         ]
        },
        {
         "marker": {
          "color": "purple",
          "size": 5
         },
         "mode": "markers",
         "name": "plautus.n.02",
         "opacity": 0.4,
         "type": "scatter",
         "x": [
          7.744749069213867
         ],
         "y": [
          -23.1967830657959
         ]
        },
        {
         "marker": {
          "color": "purple",
          "size": 5
         },
         "mode": "markers",
         "name": "upupa.n.01",
         "opacity": 0.4,
         "type": "scatter",
         "x": [
          -8.85515022277832
         ],
         "y": [
          -4.754711151123047
         ]
        },
        {
         "marker": {
          "color": "purple",
          "size": 5
         },
         "mode": "markers",
         "name": "melanotis.n.01",
         "opacity": 0.4,
         "type": "scatter",
         "x": [
          -19.65340805053711
         ],
         "y": [
          10.668938636779785
         ]
        },
        {
         "marker": {
          "color": "purple",
          "size": 5
         },
         "mode": "markers",
         "name": "lunda.n.01",
         "opacity": 0.4,
         "type": "scatter",
         "x": [
          7.642340183258057
         ],
         "y": [
          -23.193878173828125
         ]
        },
        {
         "marker": {
          "color": "purple",
          "size": 5
         },
         "mode": "markers",
         "name": "parus.n.01",
         "opacity": 0.4,
         "type": "scatter",
         "x": [
          -23.32933807373047
         ],
         "y": [
          5.2370829582214355
         ]
        },
        {
         "marker": {
          "color": "purple",
          "size": 5
         },
         "mode": "markers",
         "name": "calidris.n.01",
         "opacity": 0.4,
         "type": "scatter",
         "x": [
          -33.71329116821289
         ],
         "y": [
          8.625018119812012
         ]
        },
        {
         "marker": {
          "color": "purple",
          "size": 5
         },
         "mode": "markers",
         "name": "geococcyx.n.01",
         "opacity": 0.4,
         "type": "scatter",
         "x": [
          2.5953147411346436
         ],
         "y": [
          -8.501936912536621
         ]
        },
        {
         "marker": {
          "color": "purple",
          "size": 5
         },
         "mode": "markers",
         "name": "macronectes.n.01",
         "opacity": 0.4,
         "type": "scatter",
         "x": [
          -15.167984962463379
         ],
         "y": [
          -1.597186803817749
         ]
        },
        {
         "marker": {
          "color": "purple",
          "size": 5
         },
         "mode": "markers",
         "name": "hylocichla.n.01",
         "opacity": 0.4,
         "type": "scatter",
         "x": [
          -16.92595100402832
         ],
         "y": [
          -5.933182239532471
         ]
        },
        {
         "marker": {
          "color": "purple",
          "size": 5
         },
         "mode": "markers",
         "name": "acridotheres.n.01",
         "opacity": 0.4,
         "type": "scatter",
         "x": [
          -2.382031202316284
         ],
         "y": [
          12.22286319732666
         ]
        },
        {
         "marker": {
          "color": "purple",
          "size": 5
         },
         "mode": "markers",
         "name": "cacicus.n.01",
         "opacity": 0.4,
         "type": "scatter",
         "x": [
          -22.256954193115234
         ],
         "y": [
          -14.349874496459961
         ]
        },
        {
         "marker": {
          "color": "purple",
          "size": 5
         },
         "mode": "markers",
         "name": "pooecetes.n.01",
         "opacity": 0.4,
         "type": "scatter",
         "x": [
          -25.5140323638916
         ],
         "y": [
          27.721187591552734
         ]
        },
        {
         "marker": {
          "color": "purple",
          "size": 5
         },
         "mode": "markers",
         "name": "larus.n.01",
         "opacity": 0.4,
         "type": "scatter",
         "x": [
          10.23518180847168
         ],
         "y": [
          -13.172056198120117
         ]
        },
        {
         "marker": {
          "color": "purple",
          "size": 5
         },
         "mode": "markers",
         "name": "aquila.n.03",
         "opacity": 0.4,
         "type": "scatter",
         "x": [
          -13.050166130065918
         ],
         "y": [
          -27.13266372680664
         ]
        },
        {
         "marker": {
          "color": "purple",
          "size": 5
         },
         "mode": "markers",
         "name": "phoenicurus.n.01",
         "opacity": 0.4,
         "type": "scatter",
         "x": [
          -16.926368713378906
         ],
         "y": [
          -5.933056831359863
         ]
        },
        {
         "marker": {
          "color": "purple",
          "size": 5
         },
         "mode": "markers",
         "name": "phalaenoptilus.n.01",
         "opacity": 0.4,
         "type": "scatter",
         "x": [
          -9.364150047302246
         ],
         "y": [
          -8.149202346801758
         ]
        },
        {
         "marker": {
          "color": "purple",
          "size": 5
         },
         "mode": "markers",
         "name": "pipile.n.01",
         "opacity": 0.4,
         "type": "scatter",
         "x": [
          -0.4425269663333893
         ],
         "y": [
          -5.152237415313721
         ]
        },
        {
         "marker": {
          "color": "purple",
          "size": 5
         },
         "mode": "markers",
         "name": "pachycephala.n.01",
         "opacity": 0.4,
         "type": "scatter",
         "x": [
          -10.621212005615234
         ],
         "y": [
          9.327816009521484
         ]
        },
        {
         "marker": {
          "color": "purple",
          "size": 5
         },
         "mode": "markers",
         "name": "macrocephalon.n.01",
         "opacity": 0.4,
         "type": "scatter",
         "x": [
          -7.915343761444092
         ],
         "y": [
          -18.711944580078125
         ]
        },
        {
         "marker": {
          "color": "purple",
          "size": 5
         },
         "mode": "markers",
         "name": "emberiza.n.01",
         "opacity": 0.4,
         "type": "scatter",
         "x": [
          -26.259517669677734
         ],
         "y": [
          26.762067794799805
         ]
        },
        {
         "marker": {
          "color": "purple",
          "size": 5
         },
         "mode": "markers",
         "name": "mycteria.n.01",
         "opacity": 0.4,
         "type": "scatter",
         "x": [
          9.318748474121094
         ],
         "y": [
          -18.046186447143555
         ]
        },
        {
         "marker": {
          "color": "purple",
          "size": 5
         },
         "mode": "markers",
         "name": "raphus.n.01",
         "opacity": 0.4,
         "type": "scatter",
         "x": [
          -7.072129249572754
         ],
         "y": [
          -13.101936340332031
         ]
        },
        {
         "marker": {
          "color": "purple",
          "size": 5
         },
         "mode": "markers",
         "name": "troglodytes.n.01",
         "opacity": 0.4,
         "type": "scatter",
         "x": [
          -12.368782043457031
         ],
         "y": [
          13.488030433654785
         ]
        },
        {
         "marker": {
          "color": "purple",
          "size": 5
         },
         "mode": "markers",
         "name": "meleagris.n.01",
         "opacity": 0.4,
         "type": "scatter",
         "x": [
          -0.8910062909126282
         ],
         "y": [
          -8.85982894897461
         ]
        },
        {
         "marker": {
          "color": "purple",
          "size": 5
         },
         "mode": "markers",
         "name": "chrysolophus.n.01",
         "opacity": 0.4,
         "type": "scatter",
         "x": [
          -2.6283607482910156
         ],
         "y": [
          -20.219680786132812
         ]
        },
        {
         "marker": {
          "color": "purple",
          "size": 5
         },
         "mode": "markers",
         "name": "alca.n.01",
         "opacity": 0.4,
         "type": "scatter",
         "x": [
          7.616148948669434
         ],
         "y": [
          -23.191768646240234
         ]
        },
        {
         "marker": {
          "color": "purple",
          "size": 5
         },
         "mode": "markers",
         "name": "harpia.n.01",
         "opacity": 0.4,
         "type": "scatter",
         "x": [
          -12.559286117553711
         ],
         "y": [
          -28.083284378051758
         ]
        },
        {
         "marker": {
          "color": "purple",
          "size": 5
         },
         "mode": "markers",
         "name": "estrilda.n.01",
         "opacity": 0.4,
         "type": "scatter",
         "x": [
          -17.713239669799805
         ],
         "y": [
          3.925628900527954
         ]
        },
        {
         "marker": {
          "color": "purple",
          "size": 5
         },
         "mode": "markers",
         "name": "agelaius.n.01",
         "opacity": 0.4,
         "type": "scatter",
         "x": [
          -20.919771194458008
         ],
         "y": [
          -14.35364818572998
         ]
        },
        {
         "marker": {
          "color": "purple",
          "size": 5
         },
         "mode": "markers",
         "name": "sula.n.01",
         "opacity": 0.4,
         "type": "scatter",
         "x": [
          6.03877592086792
         ],
         "y": [
          -12.275727272033691
         ]
        },
        {
         "marker": {
          "color": "purple",
          "size": 5
         },
         "mode": "markers",
         "name": "genus_chunga.n.01",
         "opacity": 0.4,
         "type": "scatter",
         "x": [
          -7.993671417236328
         ],
         "y": [
          -2.2928740978240967
         ]
        },
        {
         "marker": {
          "color": "purple",
          "size": 5
         },
         "mode": "markers",
         "name": "podilymbus.n.01",
         "opacity": 0.4,
         "type": "scatter",
         "x": [
          -112.04247283935547
         ],
         "y": [
          30.241979598999023
         ]
        },
        {
         "marker": {
          "color": "purple",
          "size": 5
         },
         "mode": "markers",
         "name": "fratercula.n.01",
         "opacity": 0.4,
         "type": "scatter",
         "x": [
          7.707635879516602
         ],
         "y": [
          -23.197982788085938
         ]
        },
        {
         "marker": {
          "color": "purple",
          "size": 5
         },
         "mode": "markers",
         "name": "carpodacus.n.01",
         "opacity": 0.4,
         "type": "scatter",
         "x": [
          -61.69168472290039
         ],
         "y": [
          83.04277801513672
         ]
        },
        {
         "marker": {
          "color": "purple",
          "size": 5
         },
         "mode": "markers",
         "name": "centrocercus.n.01",
         "opacity": 0.4,
         "type": "scatter",
         "x": [
          1.9271349906921387
         ],
         "y": [
          -26.0859432220459
         ]
        },
        {
         "marker": {
          "color": "purple",
          "size": 5
         },
         "mode": "markers",
         "name": "himantopus.n.01",
         "opacity": 0.4,
         "type": "scatter",
         "x": [
          0.17195147275924683
         ],
         "y": [
          -13.38444709777832
         ]
        },
        {
         "marker": {
          "color": "purple",
          "size": 5
         },
         "mode": "markers",
         "name": "falco.n.01",
         "opacity": 0.4,
         "type": "scatter",
         "x": [
          -11.990801811218262
         ],
         "y": [
          -21.6014347076416
         ]
        },
        {
         "marker": {
          "color": "purple",
          "size": 5
         },
         "mode": "markers",
         "name": "cairina.n.01",
         "opacity": 0.4,
         "type": "scatter",
         "x": [
          28.163930892944336
         ],
         "y": [
          -12.632919311523438
         ]
        },
        {
         "marker": {
          "color": "purple",
          "size": 5
         },
         "mode": "markers",
         "name": "apus.n.02",
         "opacity": 0.4,
         "type": "scatter",
         "x": [
          -14.380541801452637
         ],
         "y": [
          -17.52325439453125
         ]
        },
        {
         "marker": {
          "color": "purple",
          "size": 5
         },
         "mode": "markers",
         "name": "bucephala.n.01",
         "opacity": 0.4,
         "type": "scatter",
         "x": [
          26.315509796142578
         ],
         "y": [
          -11.622908592224121
         ]
        },
        {
         "marker": {
          "color": "purple",
          "size": 5
         },
         "mode": "markers",
         "name": "philohela.n.01",
         "opacity": 0.4,
         "type": "scatter",
         "x": [
          -32.96096420288086
         ],
         "y": [
          9.967568397521973
         ]
        },
        {
         "marker": {
          "color": "purple",
          "size": 5
         },
         "mode": "markers",
         "name": "aegypius.n.01",
         "opacity": 0.4,
         "type": "scatter",
         "x": [
          -11.77151107788086
         ],
         "y": [
          -27.743677139282227
         ]
        },
        {
         "marker": {
          "color": "purple",
          "size": 5
         },
         "mode": "markers",
         "name": "carduelis.n.01",
         "opacity": 0.4,
         "type": "scatter",
         "x": [
          -24.9455509185791
         ],
         "y": [
          27.717126846313477
         ]
        },
        {
         "marker": {
          "color": "purple",
          "size": 5
         },
         "mode": "markers",
         "name": "poephila.n.01",
         "opacity": 0.4,
         "type": "scatter",
         "x": [
          -17.71396255493164
         ],
         "y": [
          3.9258182048797607
         ]
        },
        {
         "marker": {
          "color": "purple",
          "size": 5
         },
         "mode": "markers",
         "name": "campylorhynchus.n.01",
         "opacity": 0.4,
         "type": "scatter",
         "x": [
          -12.36893367767334
         ],
         "y": [
          13.487823486328125
         ]
        },
        {
         "marker": {
          "color": "purple",
          "size": 5
         },
         "mode": "markers",
         "name": "hylophylax.n.01",
         "opacity": 0.4,
         "type": "scatter",
         "x": [
          -2.768869161605835
         ],
         "y": [
          -33.05418014526367
         ]
        },
        {
         "marker": {
          "color": "purple",
          "size": 5
         },
         "mode": "markers",
         "name": "ectopistes.n.01",
         "opacity": 0.4,
         "type": "scatter",
         "x": [
          -9.706154823303223
         ],
         "y": [
          -14.726062774658203
         ]
        },
        {
         "marker": {
          "color": "purple",
          "size": 5
         },
         "mode": "markers",
         "name": "gallinago.n.01",
         "opacity": 0.4,
         "type": "scatter",
         "x": [
          -33.80599594116211
         ],
         "y": [
          11.28889274597168
         ]
        },
        {
         "marker": {
          "color": "purple",
          "size": 5
         },
         "mode": "markers",
         "name": "cladorhyncus.n.01",
         "opacity": 0.4,
         "type": "scatter",
         "x": [
          0.1595131754875183
         ],
         "y": [
          -13.482575416564941
         ]
        },
        {
         "marker": {
          "color": "purple",
          "size": 5
         },
         "mode": "markers",
         "name": "accipiter.n.01",
         "opacity": 0.4,
         "type": "scatter",
         "x": [
          -11.393962860107422
         ],
         "y": [
          -27.57170867919922
         ]
        },
        {
         "marker": {
          "color": "purple",
          "size": 5
         },
         "mode": "markers",
         "name": "gavia.n.01",
         "opacity": 0.4,
         "type": "scatter",
         "x": [
          8.893156051635742
         ],
         "y": [
          -23.2759952545166
         ]
        },
        {
         "marker": {
          "color": "purple",
          "size": 5
         },
         "mode": "markers",
         "name": "syrrhaptes.n.01",
         "opacity": 0.4,
         "type": "scatter",
         "x": [
          -4.237847805023193
         ],
         "y": [
          -12.18659496307373
         ]
        },
        {
         "marker": {
          "color": "purple",
          "size": 5
         },
         "mode": "markers",
         "name": "otis.n.02",
         "opacity": 0.4,
         "type": "scatter",
         "x": [
          -10.050724029541016
         ],
         "y": [
          -1.0226975679397583
         ]
        },
        {
         "marker": {
          "color": "purple",
          "size": 5
         },
         "mode": "markers",
         "name": "fringilla.n.01",
         "opacity": 0.4,
         "type": "scatter",
         "x": [
          -25.383071899414062
         ],
         "y": [
          29.57646369934082
         ]
        },
        {
         "marker": {
          "color": "purple",
          "size": 5
         },
         "mode": "markers",
         "name": "chen.n.01",
         "opacity": 0.4,
         "type": "scatter",
         "x": [
          29.296615600585938
         ],
         "y": [
          -12.783263206481934
         ]
        },
        {
         "marker": {
          "color": "purple",
          "size": 5
         },
         "mode": "markers",
         "name": "ladle.v.02",
         "opacity": 0.4,
         "type": "scatter",
         "x": [
          -4.2791266441345215
         ],
         "y": [
          -8.768531799316406
         ]
        },
        {
         "marker": {
          "color": "purple",
          "size": 5
         },
         "mode": "markers",
         "name": "lophodytes.n.01",
         "opacity": 0.4,
         "type": "scatter",
         "x": [
          28.28538703918457
         ],
         "y": [
          -11.454333305358887
         ]
        },
        {
         "marker": {
          "color": "purple",
          "size": 5
         },
         "mode": "markers",
         "name": "tringa.n.01",
         "opacity": 0.4,
         "type": "scatter",
         "x": [
          -33.11371612548828
         ],
         "y": [
          8.554993629455566
         ]
        },
        {
         "marker": {
          "color": "purple",
          "size": 5
         },
         "mode": "markers",
         "name": "hirundo.n.01",
         "opacity": 0.4,
         "type": "scatter",
         "x": [
          -7.192594528198242
         ],
         "y": [
          5.181388854980469
         ]
        },
        {
         "marker": {
          "color": "purple",
          "size": 5
         },
         "mode": "markers",
         "name": "perdix.n.01",
         "opacity": 0.4,
         "type": "scatter",
         "x": [
          -3.1909117698669434
         ],
         "y": [
          -21.84117317199707
         ]
        },
        {
         "marker": {
          "color": "purple",
          "size": 5
         },
         "mode": "markers",
         "name": "hydrobates.n.01",
         "opacity": 0.4,
         "type": "scatter",
         "x": [
          -34.77752685546875
         ],
         "y": [
          116.79158782958984
         ]
        },
        {
         "marker": {
          "color": "purple",
          "size": 5
         },
         "mode": "markers",
         "name": "colinus.n.01",
         "opacity": 0.4,
         "type": "scatter",
         "x": [
          -3.5512685775756836
         ],
         "y": [
          -19.390865325927734
         ]
        },
        {
         "marker": {
          "color": "purple",
          "size": 5
         },
         "mode": "markers",
         "name": "parula.n.01",
         "opacity": 0.4,
         "type": "scatter",
         "x": [
          8.266481399536133
         ],
         "y": [
          -8.8494234085083
         ]
        },
        {
         "marker": {
          "color": "purple",
          "size": 5
         },
         "mode": "markers",
         "name": "padda.n.01",
         "opacity": 0.4,
         "type": "scatter",
         "x": [
          -17.713558197021484
         ],
         "y": [
          3.9253854751586914
         ]
        },
        {
         "marker": {
          "color": "purple",
          "size": 5
         },
         "mode": "markers",
         "name": "struthio.n.01",
         "opacity": 0.4,
         "type": "scatter",
         "x": [
          1.2513617277145386
         ],
         "y": [
          -10.599420547485352
         ]
        },
        {
         "marker": {
          "color": "purple",
          "size": 5
         },
         "mode": "markers",
         "name": "somateria.n.01",
         "opacity": 0.4,
         "type": "scatter",
         "x": [
          28.083940505981445
         ],
         "y": [
          -12.823277473449707
         ]
        },
        {
         "marker": {
          "color": "purple",
          "size": 5
         },
         "mode": "markers",
         "name": "dolichonyx.n.01",
         "opacity": 0.4,
         "type": "scatter",
         "x": [
          -22.304100036621094
         ],
         "y": [
          -14.304670333862305
         ]
        },
        {
         "marker": {
          "color": "purple",
          "size": 5
         },
         "mode": "markers",
         "name": "glossopsitta.n.01",
         "opacity": 0.4,
         "type": "scatter",
         "x": [
          13.625653266906738
         ],
         "y": [
          28.146190643310547
         ]
        },
        {
         "marker": {
          "color": "purple",
          "size": 5
         },
         "mode": "markers",
         "name": "ixobrychus.n.01",
         "opacity": 0.4,
         "type": "scatter",
         "x": [
          -30.744544982910156
         ],
         "y": [
          -5.967765808105469
         ]
        },
        {
         "marker": {
          "color": "purple",
          "size": 5
         },
         "mode": "markers",
         "name": "sturnus.n.01",
         "opacity": 0.4,
         "type": "scatter",
         "x": [
          -2.382322072982788
         ],
         "y": [
          12.214709281921387
         ]
        },
        {
         "marker": {
          "color": "purple",
          "size": 5
         },
         "mode": "markers",
         "name": "asio.n.01",
         "opacity": 0.4,
         "type": "scatter",
         "x": [
          19.54688262939453
         ],
         "y": [
          -16.33966064453125
         ]
        },
        {
         "marker": {
          "color": "purple",
          "size": 5
         },
         "mode": "markers",
         "name": "anthus.n.01",
         "opacity": 0.4,
         "type": "scatter",
         "x": [
          5.463338851928711
         ],
         "y": [
          -8.809700965881348
         ]
        },
        {
         "marker": {
          "color": "purple",
          "size": 5
         },
         "mode": "markers",
         "name": "icterus.n.02",
         "opacity": 0.4,
         "type": "scatter",
         "x": [
          -21.852645874023438
         ],
         "y": [
          -14.122835159301758
         ]
        },
        {
         "marker": {
          "color": "purple",
          "size": 5
         },
         "mode": "markers",
         "name": "pastor.n.02",
         "opacity": 0.4,
         "type": "scatter",
         "x": [
          -2.3813161849975586
         ],
         "y": [
          12.231756210327148
         ]
        },
        {
         "marker": {
          "color": "purple",
          "size": 5
         },
         "mode": "markers",
         "name": "pinicola.n.01",
         "opacity": 0.4,
         "type": "scatter",
         "x": [
          -25.871471405029297
         ],
         "y": [
          28.581775665283203
         ]
        },
        {
         "marker": {
          "color": "purple",
          "size": 5
         },
         "mode": "markers",
         "name": "leptoptilus.n.01",
         "opacity": 0.4,
         "type": "scatter",
         "x": [
          9.042080879211426
         ],
         "y": [
          -17.418689727783203
         ]
        },
        {
         "marker": {
          "color": "purple",
          "size": 5
         },
         "mode": "markers",
         "name": "piranga.n.01",
         "opacity": 0.4,
         "type": "scatter",
         "x": [
          4.251532077789307
         ],
         "y": [
          -6.447652339935303
         ]
        },
        {
         "marker": {
          "color": "purple",
          "size": 5
         },
         "mode": "markers",
         "name": "sarcorhamphus.n.01",
         "opacity": 0.4,
         "type": "scatter",
         "x": [
          -19.12318992614746
         ],
         "y": [
          -22.4036808013916
         ]
        },
        {
         "marker": {
          "color": "purple",
          "size": 5
         },
         "mode": "markers",
         "name": "campephilus.n.01",
         "opacity": 0.4,
         "type": "scatter",
         "x": [
          19.030426025390625
         ],
         "y": [
          -6.40454626083374
         ]
        },
        {
         "marker": {
          "color": "purple",
          "size": 5
         },
         "mode": "markers",
         "name": "tympanuchus.n.01",
         "opacity": 0.4,
         "type": "scatter",
         "x": [
          1.5344711542129517
         ],
         "y": [
          -25.854040145874023
         ]
        },
        {
         "marker": {
          "color": "purple",
          "size": 5
         },
         "mode": "markers",
         "name": "stercorarius.n.01",
         "opacity": 0.4,
         "type": "scatter",
         "x": [
          3.6329565048217773
         ],
         "y": [
          -14.907901763916016
         ]
        },
        {
         "marker": {
          "color": "purple",
          "size": 5
         },
         "mode": "markers",
         "name": "procellaria.n.01",
         "opacity": 0.4,
         "type": "scatter",
         "x": [
          -15.16978645324707
         ],
         "y": [
          -1.598931074142456
         ]
        },
        {
         "marker": {
          "color": "purple",
          "size": 5
         },
         "mode": "markers",
         "name": "scolopax.n.01",
         "opacity": 0.4,
         "type": "scatter",
         "x": [
          -33.47134017944336
         ],
         "y": [
          9.896770477294922
         ]
        },
        {
         "marker": {
          "color": "purple",
          "size": 5
         },
         "mode": "markers",
         "name": "kakatoe.n.01",
         "opacity": 0.4,
         "type": "scatter",
         "x": [
          13.9491605758667
         ],
         "y": [
          27.304494857788086
         ]
        },
        {
         "marker": {
          "color": "purple",
          "size": 5
         },
         "mode": "markers",
         "name": "contopus.n.01",
         "opacity": 0.4,
         "type": "scatter",
         "x": [
          -1.9172234535217285
         ],
         "y": [
          -31.68425941467285
         ]
        },
        {
         "marker": {
          "color": "purple",
          "size": 5
         },
         "mode": "markers",
         "name": "chlamydera.n.01",
         "opacity": 0.4,
         "type": "scatter",
         "x": [
          -3.6679041385650635
         ],
         "y": [
          -6.201587200164795
         ]
        },
        {
         "marker": {
          "color": "purple",
          "size": 5
         },
         "mode": "markers",
         "name": "oreortyx.n.01",
         "opacity": 0.4,
         "type": "scatter",
         "x": [
          -3.1521708965301514
         ],
         "y": [
          -21.738521575927734
         ]
        },
        {
         "marker": {
          "color": "purple",
          "size": 5
         },
         "mode": "markers",
         "name": "melopsittacus.n.01",
         "opacity": 0.4,
         "type": "scatter",
         "x": [
          14.55042552947998
         ],
         "y": [
          27.842483520507812
         ]
        },
        {
         "marker": {
          "color": "purple",
          "size": 5
         },
         "mode": "markers",
         "name": "egretta.n.01",
         "opacity": 0.4,
         "type": "scatter",
         "x": [
          -30.535341262817383
         ],
         "y": [
          -4.6854095458984375
         ]
        },
        {
         "marker": {
          "color": "purple",
          "size": 5
         },
         "mode": "markers",
         "name": "pelecanus.n.01",
         "opacity": 0.4,
         "type": "scatter",
         "x": [
          5.554621696472168
         ],
         "y": [
          -12.653923034667969
         ]
        },
        {
         "marker": {
          "color": "purple",
          "size": 5
         },
         "mode": "markers",
         "name": "pezophaps.n.01",
         "opacity": 0.4,
         "type": "scatter",
         "x": [
          -7.072027683258057
         ],
         "y": [
          -13.099175453186035
         ]
        },
        {
         "marker": {
          "color": "purple",
          "size": 5
         },
         "mode": "markers",
         "name": "surnia.n.01",
         "opacity": 0.4,
         "type": "scatter",
         "x": [
          20.017515182495117
         ],
         "y": [
          -16.89510726928711
         ]
        },
        {
         "marker": {
          "color": "purple",
          "size": 5
         },
         "mode": "markers",
         "name": "delichon.n.01",
         "opacity": 0.4,
         "type": "scatter",
         "x": [
          -7.192755699157715
         ],
         "y": [
          5.181430816650391
         ]
        },
        {
         "marker": {
          "color": "purple",
          "size": 5
         },
         "mode": "markers",
         "name": "catoptrophorus.n.01",
         "opacity": 0.4,
         "type": "scatter",
         "x": [
          -32.50082015991211
         ],
         "y": [
          9.511058807373047
         ]
        },
        {
         "marker": {
          "color": "purple",
          "size": 5
         },
         "mode": "markers",
         "name": "oxyura.n.01",
         "opacity": 0.4,
         "type": "scatter",
         "x": [
          27.80862045288086
         ],
         "y": [
          -12.561704635620117
         ]
        },
        {
         "marker": {
          "color": "purple",
          "size": 5
         },
         "mode": "markers",
         "name": "pharomacrus.n.01",
         "opacity": 0.4,
         "type": "scatter",
         "x": [
          -111.0594482421875
         ],
         "y": [
          7.005534648895264
         ]
        },
        {
         "marker": {
          "color": "purple",
          "size": 5
         },
         "mode": "markers",
         "name": "oriolus.n.01",
         "opacity": 0.4,
         "type": "scatter",
         "x": [
          -3.538419485092163
         ],
         "y": [
          -4.157663345336914
         ]
        },
        {
         "marker": {
          "color": "purple",
          "size": 5
         },
         "mode": "markers",
         "name": "genus_notornis.n.01",
         "opacity": 0.4,
         "type": "scatter",
         "x": [
          -12.46640396118164
         ],
         "y": [
          2.159931182861328
         ]
        },
        {
         "marker": {
          "color": "purple",
          "size": 5
         },
         "mode": "markers",
         "name": "riparia.n.01",
         "opacity": 0.4,
         "type": "scatter",
         "x": [
          -7.1923418045043945
         ],
         "y": [
          5.181290149688721
         ]
        },
        {
         "marker": {
          "color": "purple",
          "size": 5
         },
         "mode": "markers",
         "name": "cinclus.n.01",
         "opacity": 0.4,
         "type": "scatter",
         "x": [
          -39.334564208984375
         ],
         "y": [
          95.58844757080078
         ]
        },
        {
         "marker": {
          "color": "purple",
          "size": 5
         },
         "mode": "markers",
         "name": "atrichornis.n.01",
         "opacity": 0.4,
         "type": "scatter",
         "x": [
          0.20839528739452362
         ],
         "y": [
          -6.790005207061768
         ]
        },
        {
         "marker": {
          "color": "purple",
          "size": 5
         },
         "mode": "markers",
         "name": "steganopus.n.01",
         "opacity": 0.4,
         "type": "scatter",
         "x": [
          0.9515921473503113
         ],
         "y": [
          -16.847654342651367
         ]
        },
        {
         "marker": {
          "color": "purple",
          "size": 5
         },
         "mode": "markers",
         "name": "phasianus.n.01",
         "opacity": 0.4,
         "type": "scatter",
         "x": [
          1.2019473314285278
         ],
         "y": [
          -4.721665382385254
         ]
        },
        {
         "marker": {
          "color": "purple",
          "size": 5
         },
         "mode": "markers",
         "name": "dumetella.n.01",
         "opacity": 0.4,
         "type": "scatter",
         "x": [
          -19.557588577270508
         ],
         "y": [
          10.408442497253418
         ]
        },
        {
         "marker": {
          "color": "purple",
          "size": 5
         },
         "mode": "markers",
         "name": "cephalopterus.n.01",
         "opacity": 0.4,
         "type": "scatter",
         "x": [
          -1.2141646146774292
         ],
         "y": [
          -33.077022552490234
         ]
        },
        {
         "marker": {
          "color": "purple",
          "size": 5
         },
         "mode": "markers",
         "name": "sturnella.n.01",
         "opacity": 0.4,
         "type": "scatter",
         "x": [
          -22.84600830078125
         ],
         "y": [
          -15.184576988220215
         ]
        },
        {
         "marker": {
          "color": "purple",
          "size": 5
         },
         "mode": "markers",
         "name": "vultur.n.01",
         "opacity": 0.4,
         "type": "scatter",
         "x": [
          -19.122777938842773
         ],
         "y": [
          -22.404056549072266
         ]
        },
        {
         "marker": {
          "color": "purple",
          "size": 5
         },
         "mode": "markers",
         "name": "lophophorus.n.01",
         "opacity": 0.4,
         "type": "scatter",
         "x": [
          -2.687941789627075
         ],
         "y": [
          -20.25518798828125
         ]
        },
        {
         "marker": {
          "color": "purple",
          "size": 5
         },
         "mode": "markers",
         "name": "porphyrula.n.01",
         "opacity": 0.4,
         "type": "scatter",
         "x": [
          -12.41162109375
         ],
         "y": [
          2.383063316345215
         ]
        },
        {
         "marker": {
          "color": "purple",
          "size": 5
         },
         "mode": "markers",
         "name": "turnix.n.01",
         "opacity": 0.4,
         "type": "scatter",
         "x": [
          -5.818568229675293
         ],
         "y": [
          -3.1997435092926025
         ]
        },
        {
         "marker": {
          "color": "purple",
          "size": 5
         },
         "mode": "markers",
         "name": "thryothorus.n.01",
         "opacity": 0.4,
         "type": "scatter",
         "x": [
          -12.368966102600098
         ],
         "y": [
          13.487282752990723
         ]
        },
        {
         "marker": {
          "color": "purple",
          "size": 5
         },
         "mode": "markers",
         "name": "circaetus.n.01",
         "opacity": 0.4,
         "type": "scatter",
         "x": [
          -12.282135963439941
         ],
         "y": [
          -26.741256713867188
         ]
        },
        {
         "marker": {
          "color": "purple",
          "size": 5
         },
         "mode": "markers",
         "name": "salpinctes.n.01",
         "opacity": 0.4,
         "type": "scatter",
         "x": [
          -12.368804931640625
         ],
         "y": [
          13.487873077392578
         ]
        },
        {
         "marker": {
          "color": "purple",
          "size": 5
         },
         "mode": "markers",
         "name": "circus.n.06",
         "opacity": 0.4,
         "type": "scatter",
         "x": [
          -10.150602340698242
         ],
         "y": [
          -25.0241756439209
         ]
        },
        {
         "marker": {
          "color": "purple",
          "size": 5
         },
         "mode": "markers",
         "name": "quiscalus.n.01",
         "opacity": 0.4,
         "type": "scatter",
         "x": [
          -22.307222366333008
         ],
         "y": [
          -14.064687728881836
         ]
        },
        {
         "marker": {
          "color": "purple",
          "size": 5
         },
         "mode": "markers",
         "name": "tyrannus.n.01",
         "opacity": 0.4,
         "type": "scatter",
         "x": [
          -1.625017762184143
         ],
         "y": [
          -31.02732276916504
         ]
        },
        {
         "marker": {
          "color": "purple",
          "size": 5
         },
         "mode": "markers",
         "name": "chamaea.n.01",
         "opacity": 0.4,
         "type": "scatter",
         "x": [
          -23.328813552856445
         ],
         "y": [
          5.235269546508789
         ]
        },
        {
         "marker": {
          "color": "purple",
          "size": 5
         },
         "mode": "markers",
         "name": "artamus.n.01",
         "opacity": 0.4,
         "type": "scatter",
         "x": [
          1.4236702919006348
         ],
         "y": [
          -7.383759021759033
         ]
        },
        {
         "marker": {
          "color": "purple",
          "size": 5
         },
         "mode": "markers",
         "name": "xenorhyncus.n.01",
         "opacity": 0.4,
         "type": "scatter",
         "x": [
          9.214073181152344
         ],
         "y": [
          -18.213144302368164
         ]
        },
        {
         "marker": {
          "color": "purple",
          "size": 5
         },
         "mode": "markers",
         "name": "oceanites.n.01",
         "opacity": 0.4,
         "type": "scatter",
         "x": [
          -13.686159133911133
         ],
         "y": [
          -1.9536021947860718
         ]
        },
        {
         "marker": {
          "color": "purple",
          "size": 5
         },
         "mode": "markers",
         "name": "catharacta.n.01",
         "opacity": 0.4,
         "type": "scatter",
         "x": [
          3.6335196495056152
         ],
         "y": [
          -14.907833099365234
         ]
        },
        {
         "marker": {
          "color": "purple",
          "size": 5
         },
         "mode": "markers",
         "name": "erolia.n.01",
         "opacity": 0.4,
         "type": "scatter",
         "x": [
          -33.49433135986328
         ],
         "y": [
          9.322159767150879
         ]
        },
        {
         "marker": {
          "color": "purple",
          "size": 5
         },
         "mode": "markers",
         "name": "cursorius.n.01",
         "opacity": 0.4,
         "type": "scatter",
         "x": [
          -2.0576398372650146
         ],
         "y": [
          -14.684812545776367
         ]
        },
        {
         "marker": {
          "color": "purple",
          "size": 5
         },
         "mode": "markers",
         "name": "collocalia.n.01",
         "opacity": 0.4,
         "type": "scatter",
         "x": [
          -14.381096839904785
         ],
         "y": [
          -17.523319244384766
         ]
        },
        {
         "marker": {
          "color": "purple",
          "size": 5
         },
         "mode": "markers",
         "name": "genus_anhinga.n.01",
         "opacity": 0.4,
         "type": "scatter",
         "x": [
          5.724224090576172
         ],
         "y": [
          -12.060720443725586
         ]
        },
        {
         "marker": {
          "color": "purple",
          "size": 5
         },
         "mode": "markers",
         "name": "dromaius.n.01",
         "opacity": 0.4,
         "type": "scatter",
         "x": [
          6.704424858093262
         ],
         "y": [
          -7.105381965637207
         ]
        },
        {
         "marker": {
          "color": "purple",
          "size": 5
         },
         "mode": "markers",
         "name": "gyps.n.01",
         "opacity": 0.4,
         "type": "scatter",
         "x": [
          2.3260700702667236
         ],
         "y": [
          -1.7777175903320312
         ]
        },
        {
         "marker": {
          "color": "purple",
          "size": 5
         },
         "mode": "markers",
         "name": "psophia.n.01",
         "opacity": 0.4,
         "type": "scatter",
         "x": [
          -5.141418933868408
         ],
         "y": [
          -3.098484754562378
         ]
        },
        {
         "marker": {
          "color": "purple",
          "size": 5
         },
         "mode": "markers",
         "name": "platalea.n.01",
         "opacity": 0.4,
         "type": "scatter",
         "x": [
          -5.044128894805908
         ],
         "y": [
          -15.61302375793457
         ]
        },
        {
         "marker": {
          "color": "purple",
          "size": 5
         },
         "mode": "markers",
         "name": "chordeiles.n.01",
         "opacity": 0.4,
         "type": "scatter",
         "x": [
          -9.364381790161133
         ],
         "y": [
          -8.161664962768555
         ]
        },
        {
         "marker": {
          "color": "purple",
          "size": 5
         },
         "mode": "markers",
         "name": "strepera.n.01",
         "opacity": 0.4,
         "type": "scatter",
         "x": [
          2.6589531898498535
         ],
         "y": [
          -20.608776092529297
         ]
        },
        {
         "marker": {
          "color": "purple",
          "size": 5
         },
         "mode": "markers",
         "name": "chlorura.n.01",
         "opacity": 0.4,
         "type": "scatter",
         "x": [
          -26.384275436401367
         ],
         "y": [
          28.795528411865234
         ]
        },
        {
         "marker": {
          "color": "purple",
          "size": 5
         },
         "mode": "markers",
         "name": "nestor.n.02",
         "opacity": 0.4,
         "type": "scatter",
         "x": [
          14.289698600769043
         ],
         "y": [
          27.48027229309082
         ]
        },
        {
         "marker": {
          "color": "purple",
          "size": 5
         },
         "mode": "markers",
         "name": "aphriza.n.01",
         "opacity": 0.4,
         "type": "scatter",
         "x": [
          -33.86204528808594
         ],
         "y": [
          10.021312713623047
         ]
        },
        {
         "marker": {
          "color": "purple",
          "size": 5
         },
         "mode": "markers",
         "name": "neophron.n.01",
         "opacity": 0.4,
         "type": "scatter",
         "x": [
          -12.268106460571289
         ],
         "y": [
          -27.190406799316406
         ]
        },
        {
         "marker": {
          "color": "purple",
          "size": 5
         },
         "mode": "markers",
         "name": "cathartes.n.01",
         "opacity": 0.4,
         "type": "scatter",
         "x": [
          -19.11729621887207
         ],
         "y": [
          -22.409923553466797
         ]
        },
        {
         "marker": {
          "color": "purple",
          "size": 5
         },
         "mode": "markers",
         "name": "pluvianus.n.01",
         "opacity": 0.4,
         "type": "scatter",
         "x": [
          -2.0576016902923584
         ],
         "y": [
          -14.684685707092285
         ]
        },
        {
         "marker": {
          "color": "purple",
          "size": 5
         },
         "mode": "markers",
         "name": "muscivora.n.01",
         "opacity": 0.4,
         "type": "scatter",
         "x": [
          -1.6582591533660889
         ],
         "y": [
          -32.282989501953125
         ]
        },
        {
         "marker": {
          "color": "purple",
          "size": 5
         },
         "mode": "markers",
         "name": "argusianus.n.01",
         "opacity": 0.4,
         "type": "scatter",
         "x": [
          -2.768517017364502
         ],
         "y": [
          -20.114418029785156
         ]
        },
        {
         "marker": {
          "color": "purple",
          "size": 5
         },
         "mode": "markers",
         "name": "gymnorhina.n.01",
         "opacity": 0.4,
         "type": "scatter",
         "x": [
          2.6588995456695557
         ],
         "y": [
          -20.60883140563965
         ]
        },
        {
         "marker": {
          "color": "purple",
          "size": 5
         },
         "mode": "markers",
         "name": "heteroscelus.n.01",
         "opacity": 0.4,
         "type": "scatter",
         "x": [
          -32.32463073730469
         ],
         "y": [
          10.07093620300293
         ]
        },
        {
         "marker": {
          "color": "purple",
          "size": 5
         },
         "mode": "markers",
         "name": "phaethon.n.02",
         "opacity": 0.4,
         "type": "scatter",
         "x": [
          -1.4277784824371338
         ],
         "y": [
          -6.777383327484131
         ]
        },
        {
         "marker": {
          "color": "purple",
          "size": 5
         },
         "mode": "markers",
         "name": "phalaropus.n.01",
         "opacity": 0.4,
         "type": "scatter",
         "x": [
          0.9512171745300293
         ],
         "y": [
          -16.845075607299805
         ]
        },
        {
         "marker": {
          "color": "purple",
          "size": 5
         },
         "mode": "markers",
         "name": "anhima.n.01",
         "opacity": 0.4,
         "type": "scatter",
         "x": [
          12.033225059509277
         ],
         "y": [
          -5.812913417816162
         ]
        },
        {
         "marker": {
          "color": "purple",
          "size": 5
         },
         "mode": "markers",
         "name": "alectoris.n.01",
         "opacity": 0.4,
         "type": "scatter",
         "x": [
          -3.1441051959991455
         ],
         "y": [
          -21.730384826660156
         ]
        },
        {
         "marker": {
          "color": "purple",
          "size": 5
         },
         "mode": "markers",
         "name": "coracias.n.01",
         "opacity": 0.4,
         "type": "scatter",
         "x": [
          -9.606659889221191
         ],
         "y": [
          -4.846365451812744
         ]
        },
        {
         "marker": {
          "color": "purple",
          "size": 5
         },
         "mode": "markers",
         "name": "sitta.n.01",
         "opacity": 0.4,
         "type": "scatter",
         "x": [
          -2.6367807388305664
         ],
         "y": [
          -7.304605007171631
         ]
        },
        {
         "marker": {
          "color": "purple",
          "size": 5
         },
         "mode": "markers",
         "name": "gallirallus.n.01",
         "opacity": 0.4,
         "type": "scatter",
         "x": [
          -12.666044235229492
         ],
         "y": [
          2.557215690612793
         ]
        },
        {
         "marker": {
          "color": "purple",
          "size": 5
         },
         "mode": "markers",
         "name": "crocethia.n.01",
         "opacity": 0.4,
         "type": "scatter",
         "x": [
          -32.44818878173828
         ],
         "y": [
          8.980989456176758
         ]
        },
        {
         "marker": {
          "color": "purple",
          "size": 5
         },
         "mode": "markers",
         "name": "luscinia.n.01",
         "opacity": 0.4,
         "type": "scatter",
         "x": [
          -96.30847930908203
         ],
         "y": [
          44.82624435424805
         ]
        },
        {
         "marker": {
          "color": "purple",
          "size": 5
         },
         "mode": "markers",
         "name": "cyanocitta.n.01",
         "opacity": 0.4,
         "type": "scatter",
         "x": [
          -4.552063941955566
         ],
         "y": [
          -9.05225944519043
         ]
        },
        {
         "marker": {
          "color": "purple",
          "size": 5
         },
         "mode": "markers",
         "name": "aptenodytes.n.01",
         "opacity": 0.4,
         "type": "scatter",
         "x": [
          14.429430961608887
         ],
         "y": [
          -14.799574851989746
         ]
        },
        {
         "marker": {
          "color": "purple",
          "size": 5
         },
         "mode": "markers",
         "name": "coragyps.n.01",
         "opacity": 0.4,
         "type": "scatter",
         "x": [
          -19.116962432861328
         ],
         "y": [
          -22.41025161743164
         ]
        },
        {
         "marker": {
          "color": "purple",
          "size": 5
         },
         "mode": "markers",
         "name": "melospiza.n.01",
         "opacity": 0.4,
         "type": "scatter",
         "x": [
          -25.194263458251953
         ],
         "y": [
          28.978384017944336
         ]
        },
        {
         "marker": {
          "color": "purple",
          "size": 5
         },
         "mode": "markers",
         "name": "pernis.n.01",
         "opacity": 0.4,
         "type": "scatter",
         "x": [
          -11.929665565490723
         ],
         "y": [
          -27.358800888061523
         ]
        },
        {
         "marker": {
          "color": "purple",
          "size": 5
         },
         "mode": "markers",
         "name": "glareola.n.01",
         "opacity": 0.4,
         "type": "scatter",
         "x": [
          -0.07193207740783691
         ],
         "y": [
          -12.685596466064453
         ]
        },
        {
         "marker": {
          "color": "purple",
          "size": 5
         },
         "mode": "markers",
         "name": "pedionomus.n.01",
         "opacity": 0.4,
         "type": "scatter",
         "x": [
          9.072778701782227
         ],
         "y": [
          -3.0848007202148438
         ]
        },
        {
         "marker": {
          "color": "purple",
          "size": 5
         },
         "mode": "markers",
         "name": "coccothraustes.n.01",
         "opacity": 0.4,
         "type": "scatter",
         "x": [
          -26.302587509155273
         ],
         "y": [
          28.085718154907227
         ]
        },
        {
         "marker": {
          "color": "purple",
          "size": 5
         },
         "mode": "markers",
         "name": "fulmarus.n.01",
         "opacity": 0.4,
         "type": "scatter",
         "x": [
          -15.14761734008789
         ],
         "y": [
          -1.6028951406478882
         ]
        },
        {
         "marker": {
          "color": "purple",
          "size": 5
         },
         "mode": "markers",
         "name": "cariama.n.01",
         "opacity": 0.4,
         "type": "scatter",
         "x": [
          -7.992328643798828
         ],
         "y": [
          -2.292536497116089
         ]
        },
        {
         "marker": {
          "color": "purple",
          "size": 5
         },
         "mode": "markers",
         "name": "ajaia.n.01",
         "opacity": 0.4,
         "type": "scatter",
         "x": [
          -5.045010566711426
         ],
         "y": [
          -15.617926597595215
         ]
        },
        {
         "marker": {
          "color": "purple",
          "size": 5
         },
         "mode": "markers",
         "name": "dinornis.n.01",
         "opacity": 0.4,
         "type": "scatter",
         "x": [
          2.012739658355713
         ],
         "y": [
          -10.51142406463623
         ]
        },
        {
         "marker": {
          "color": "purple",
          "size": 5
         },
         "mode": "markers",
         "name": "alauda.n.01",
         "opacity": 0.4,
         "type": "scatter",
         "x": [
          -15.643864631652832
         ],
         "y": [
          102.46107482910156
         ]
        },
        {
         "marker": {
          "color": "purple",
          "size": 5
         },
         "mode": "markers",
         "name": "pyrrhula.n.01",
         "opacity": 0.4,
         "type": "scatter",
         "x": [
          -25.95207405090332
         ],
         "y": [
          27.92934799194336
         ]
        },
        {
         "marker": {
          "color": "purple",
          "size": 5
         },
         "mode": "markers",
         "name": "silvia.n.01",
         "opacity": 0.4,
         "type": "scatter",
         "x": [
          -10.194807052612305
         ],
         "y": [
          5.9976420402526855
         ]
        },
        {
         "marker": {
          "color": "purple",
          "size": 5
         },
         "mode": "markers",
         "name": "psaltriparus.n.01",
         "opacity": 0.4,
         "type": "scatter",
         "x": [
          -23.32868766784668
         ],
         "y": [
          5.235011577606201
         ]
        },
        {
         "marker": {
          "color": "purple",
          "size": 5
         },
         "mode": "markers",
         "name": "haematopus.n.01",
         "opacity": 0.4,
         "type": "scatter",
         "x": [
          1.0648716688156128
         ],
         "y": [
          -3.673231601715088
         ]
        },
        {
         "marker": {
          "color": "purple",
          "size": 5
         },
         "mode": "markers",
         "name": "pinguinus.n.01",
         "opacity": 0.4,
         "type": "scatter",
         "x": [
          1.5197035074234009
         ],
         "y": [
          -3.2458877563476562
         ]
        },
        {
         "marker": {
          "color": "purple",
          "size": 5
         },
         "mode": "markers",
         "name": "buteo.n.01",
         "opacity": 0.4,
         "type": "scatter",
         "x": [
          -11.130891799926758
         ],
         "y": [
          -27.00079917907715
         ]
        },
        {
         "marker": {
          "color": "purple",
          "size": 5
         },
         "mode": "markers",
         "name": "lanius.n.01",
         "opacity": 0.4,
         "type": "scatter",
         "x": [
          -6.73084020614624
         ],
         "y": [
          -6.72756290435791
         ]
        },
        {
         "marker": {
          "color": "purple",
          "size": 5
         },
         "mode": "markers",
         "name": "pygoscelis.n.01",
         "opacity": 0.4,
         "type": "scatter",
         "x": [
          14.429186820983887
         ],
         "y": [
          -14.799369812011719
         ]
        },
        {
         "marker": {
          "color": "gray",
          "size": 5
         },
         "mode": "markers",
         "name": "garden_centipede.n.01",
         "opacity": 0.4,
         "type": "scatter",
         "x": [
          3.2438671588897705
         ],
         "y": [
          -5.837557315826416
         ]
        },
        {
         "marker": {
          "color": "gray",
          "size": 5
         },
         "mode": "markers",
         "name": "crustacean.n.01",
         "opacity": 0.4,
         "type": "scatter",
         "x": [
          3.3232431411743164
         ],
         "y": [
          -3.340174674987793
         ]
        },
        {
         "marker": {
          "color": "gray",
          "size": 5
         },
         "mode": "markers",
         "name": "arthropoda.n.01",
         "opacity": 0.4,
         "type": "scatter",
         "x": [
          2.0558836460113525
         ],
         "y": [
          -3.7280611991882324
         ]
        },
        {
         "marker": {
          "color": "gray",
          "size": 5
         },
         "mode": "markers",
         "name": "insect.n.01",
         "opacity": 0.4,
         "type": "scatter",
         "x": [
          2.25998854637146
         ],
         "y": [
          -3.1763837337493896
         ]
        },
        {
         "marker": {
          "color": "gray",
          "size": 5
         },
         "mode": "markers",
         "name": "arachnid.n.01",
         "opacity": 0.4,
         "type": "scatter",
         "x": [
          2.3499746322631836
         ],
         "y": [
          -5.027643203735352
         ]
        },
        {
         "marker": {
          "color": "gray",
          "size": 5
         },
         "mode": "markers",
         "name": "merostomata.n.01",
         "opacity": 0.4,
         "type": "scatter",
         "x": [
          3.3712289333343506
         ],
         "y": [
          -4.900002479553223
         ]
        },
        {
         "marker": {
          "color": "gray",
          "size": 5
         },
         "mode": "markers",
         "name": "millipede.n.01",
         "opacity": 0.4,
         "type": "scatter",
         "x": [
          2.725661516189575
         ],
         "y": [
          -6.890619277954102
         ]
        },
        {
         "marker": {
          "color": "gray",
          "size": 5
         },
         "mode": "markers",
         "name": "onychophoran.n.01",
         "opacity": 0.4,
         "type": "scatter",
         "x": [
          1.8604813814163208
         ],
         "y": [
          -5.946122646331787
         ]
        }
       ],
       "layout": {
        "annotations": [
         {
          "font": {
           "color": "red",
           "size": 12
          },
          "showarrow": false,
          "text": "_hypernym\tgenus.n.02",
          "x": 0.95,
          "xref": "paper",
          "y": 0.95,
          "yref": "paper"
         },
         {
          "font": {
           "color": "blue",
           "size": 12
          },
          "showarrow": false,
          "text": "_hypernym\tdog.n.01",
          "x": 0.95,
          "xref": "paper",
          "y": 0.8999999999999999,
          "yref": "paper"
         },
         {
          "font": {
           "color": "orange",
           "size": 12
          },
          "showarrow": false,
          "text": "_hypernym\tclothing.n.01",
          "x": 0.95,
          "xref": "paper",
          "y": 0.85,
          "yref": "paper"
         },
         {
          "font": {
           "color": "green",
           "size": 12
          },
          "showarrow": false,
          "text": "_hypernym\tplant_genus.n.01",
          "x": 0.95,
          "xref": "paper",
          "y": 0.7999999999999999,
          "yref": "paper"
         },
         {
          "font": {
           "color": "yellow",
           "size": 12
          },
          "showarrow": false,
          "text": "_hypernym\tmammal_genus.n.01",
          "x": 0.95,
          "xref": "paper",
          "y": 0.75,
          "yref": "paper"
         },
         {
          "font": {
           "color": "purple",
           "size": 12
          },
          "showarrow": false,
          "text": "_hypernym\tbird_genus.n.01",
          "x": 0.95,
          "xref": "paper",
          "y": 0.7,
          "yref": "paper"
         },
         {
          "font": {
           "color": "gray",
           "size": 12
          },
          "showarrow": false,
          "text": "_hypernym\tarthropod.n.01",
          "x": 0.95,
          "xref": "paper",
          "y": 0.6499999999999999,
          "yref": "paper"
         },
         {
          "font": {
           "size": 20
          },
          "showarrow": false,
          "text": "HAKE",
          "x": 0.5,
          "xref": "paper",
          "y": 1.1,
          "yref": "paper"
         }
        ],
        "height": 500,
        "showlegend": false,
        "template": {
         "data": {
          "bar": [
           {
            "error_x": {
             "color": "#2a3f5f"
            },
            "error_y": {
             "color": "#2a3f5f"
            },
            "marker": {
             "line": {
              "color": "#E5ECF6",
              "width": 0.5
             },
             "pattern": {
              "fillmode": "overlay",
              "size": 10,
              "solidity": 0.2
             }
            },
            "type": "bar"
           }
          ],
          "barpolar": [
           {
            "marker": {
             "line": {
              "color": "#E5ECF6",
              "width": 0.5
             },
             "pattern": {
              "fillmode": "overlay",
              "size": 10,
              "solidity": 0.2
             }
            },
            "type": "barpolar"
           }
          ],
          "carpet": [
           {
            "aaxis": {
             "endlinecolor": "#2a3f5f",
             "gridcolor": "white",
             "linecolor": "white",
             "minorgridcolor": "white",
             "startlinecolor": "#2a3f5f"
            },
            "baxis": {
             "endlinecolor": "#2a3f5f",
             "gridcolor": "white",
             "linecolor": "white",
             "minorgridcolor": "white",
             "startlinecolor": "#2a3f5f"
            },
            "type": "carpet"
           }
          ],
          "choropleth": [
           {
            "colorbar": {
             "outlinewidth": 0,
             "ticks": ""
            },
            "type": "choropleth"
           }
          ],
          "contour": [
           {
            "colorbar": {
             "outlinewidth": 0,
             "ticks": ""
            },
            "colorscale": [
             [
              0,
              "#0d0887"
             ],
             [
              0.1111111111111111,
              "#46039f"
             ],
             [
              0.2222222222222222,
              "#7201a8"
             ],
             [
              0.3333333333333333,
              "#9c179e"
             ],
             [
              0.4444444444444444,
              "#bd3786"
             ],
             [
              0.5555555555555556,
              "#d8576b"
             ],
             [
              0.6666666666666666,
              "#ed7953"
             ],
             [
              0.7777777777777778,
              "#fb9f3a"
             ],
             [
              0.8888888888888888,
              "#fdca26"
             ],
             [
              1,
              "#f0f921"
             ]
            ],
            "type": "contour"
           }
          ],
          "contourcarpet": [
           {
            "colorbar": {
             "outlinewidth": 0,
             "ticks": ""
            },
            "type": "contourcarpet"
           }
          ],
          "heatmap": [
           {
            "colorbar": {
             "outlinewidth": 0,
             "ticks": ""
            },
            "colorscale": [
             [
              0,
              "#0d0887"
             ],
             [
              0.1111111111111111,
              "#46039f"
             ],
             [
              0.2222222222222222,
              "#7201a8"
             ],
             [
              0.3333333333333333,
              "#9c179e"
             ],
             [
              0.4444444444444444,
              "#bd3786"
             ],
             [
              0.5555555555555556,
              "#d8576b"
             ],
             [
              0.6666666666666666,
              "#ed7953"
             ],
             [
              0.7777777777777778,
              "#fb9f3a"
             ],
             [
              0.8888888888888888,
              "#fdca26"
             ],
             [
              1,
              "#f0f921"
             ]
            ],
            "type": "heatmap"
           }
          ],
          "heatmapgl": [
           {
            "colorbar": {
             "outlinewidth": 0,
             "ticks": ""
            },
            "colorscale": [
             [
              0,
              "#0d0887"
             ],
             [
              0.1111111111111111,
              "#46039f"
             ],
             [
              0.2222222222222222,
              "#7201a8"
             ],
             [
              0.3333333333333333,
              "#9c179e"
             ],
             [
              0.4444444444444444,
              "#bd3786"
             ],
             [
              0.5555555555555556,
              "#d8576b"
             ],
             [
              0.6666666666666666,
              "#ed7953"
             ],
             [
              0.7777777777777778,
              "#fb9f3a"
             ],
             [
              0.8888888888888888,
              "#fdca26"
             ],
             [
              1,
              "#f0f921"
             ]
            ],
            "type": "heatmapgl"
           }
          ],
          "histogram": [
           {
            "marker": {
             "pattern": {
              "fillmode": "overlay",
              "size": 10,
              "solidity": 0.2
             }
            },
            "type": "histogram"
           }
          ],
          "histogram2d": [
           {
            "colorbar": {
             "outlinewidth": 0,
             "ticks": ""
            },
            "colorscale": [
             [
              0,
              "#0d0887"
             ],
             [
              0.1111111111111111,
              "#46039f"
             ],
             [
              0.2222222222222222,
              "#7201a8"
             ],
             [
              0.3333333333333333,
              "#9c179e"
             ],
             [
              0.4444444444444444,
              "#bd3786"
             ],
             [
              0.5555555555555556,
              "#d8576b"
             ],
             [
              0.6666666666666666,
              "#ed7953"
             ],
             [
              0.7777777777777778,
              "#fb9f3a"
             ],
             [
              0.8888888888888888,
              "#fdca26"
             ],
             [
              1,
              "#f0f921"
             ]
            ],
            "type": "histogram2d"
           }
          ],
          "histogram2dcontour": [
           {
            "colorbar": {
             "outlinewidth": 0,
             "ticks": ""
            },
            "colorscale": [
             [
              0,
              "#0d0887"
             ],
             [
              0.1111111111111111,
              "#46039f"
             ],
             [
              0.2222222222222222,
              "#7201a8"
             ],
             [
              0.3333333333333333,
              "#9c179e"
             ],
             [
              0.4444444444444444,
              "#bd3786"
             ],
             [
              0.5555555555555556,
              "#d8576b"
             ],
             [
              0.6666666666666666,
              "#ed7953"
             ],
             [
              0.7777777777777778,
              "#fb9f3a"
             ],
             [
              0.8888888888888888,
              "#fdca26"
             ],
             [
              1,
              "#f0f921"
             ]
            ],
            "type": "histogram2dcontour"
           }
          ],
          "mesh3d": [
           {
            "colorbar": {
             "outlinewidth": 0,
             "ticks": ""
            },
            "type": "mesh3d"
           }
          ],
          "parcoords": [
           {
            "line": {
             "colorbar": {
              "outlinewidth": 0,
              "ticks": ""
             }
            },
            "type": "parcoords"
           }
          ],
          "pie": [
           {
            "automargin": true,
            "type": "pie"
           }
          ],
          "scatter": [
           {
            "fillpattern": {
             "fillmode": "overlay",
             "size": 10,
             "solidity": 0.2
            },
            "type": "scatter"
           }
          ],
          "scatter3d": [
           {
            "line": {
             "colorbar": {
              "outlinewidth": 0,
              "ticks": ""
             }
            },
            "marker": {
             "colorbar": {
              "outlinewidth": 0,
              "ticks": ""
             }
            },
            "type": "scatter3d"
           }
          ],
          "scattercarpet": [
           {
            "marker": {
             "colorbar": {
              "outlinewidth": 0,
              "ticks": ""
             }
            },
            "type": "scattercarpet"
           }
          ],
          "scattergeo": [
           {
            "marker": {
             "colorbar": {
              "outlinewidth": 0,
              "ticks": ""
             }
            },
            "type": "scattergeo"
           }
          ],
          "scattergl": [
           {
            "marker": {
             "colorbar": {
              "outlinewidth": 0,
              "ticks": ""
             }
            },
            "type": "scattergl"
           }
          ],
          "scattermapbox": [
           {
            "marker": {
             "colorbar": {
              "outlinewidth": 0,
              "ticks": ""
             }
            },
            "type": "scattermapbox"
           }
          ],
          "scatterpolar": [
           {
            "marker": {
             "colorbar": {
              "outlinewidth": 0,
              "ticks": ""
             }
            },
            "type": "scatterpolar"
           }
          ],
          "scatterpolargl": [
           {
            "marker": {
             "colorbar": {
              "outlinewidth": 0,
              "ticks": ""
             }
            },
            "type": "scatterpolargl"
           }
          ],
          "scatterternary": [
           {
            "marker": {
             "colorbar": {
              "outlinewidth": 0,
              "ticks": ""
             }
            },
            "type": "scatterternary"
           }
          ],
          "surface": [
           {
            "colorbar": {
             "outlinewidth": 0,
             "ticks": ""
            },
            "colorscale": [
             [
              0,
              "#0d0887"
             ],
             [
              0.1111111111111111,
              "#46039f"
             ],
             [
              0.2222222222222222,
              "#7201a8"
             ],
             [
              0.3333333333333333,
              "#9c179e"
             ],
             [
              0.4444444444444444,
              "#bd3786"
             ],
             [
              0.5555555555555556,
              "#d8576b"
             ],
             [
              0.6666666666666666,
              "#ed7953"
             ],
             [
              0.7777777777777778,
              "#fb9f3a"
             ],
             [
              0.8888888888888888,
              "#fdca26"
             ],
             [
              1,
              "#f0f921"
             ]
            ],
            "type": "surface"
           }
          ],
          "table": [
           {
            "cells": {
             "fill": {
              "color": "#EBF0F8"
             },
             "line": {
              "color": "white"
             }
            },
            "header": {
             "fill": {
              "color": "#C8D4E3"
             },
             "line": {
              "color": "white"
             }
            },
            "type": "table"
           }
          ]
         },
         "layout": {
          "annotationdefaults": {
           "arrowcolor": "#2a3f5f",
           "arrowhead": 0,
           "arrowwidth": 1
          },
          "autotypenumbers": "strict",
          "coloraxis": {
           "colorbar": {
            "outlinewidth": 0,
            "ticks": ""
           }
          },
          "colorscale": {
           "diverging": [
            [
             0,
             "#8e0152"
            ],
            [
             0.1,
             "#c51b7d"
            ],
            [
             0.2,
             "#de77ae"
            ],
            [
             0.3,
             "#f1b6da"
            ],
            [
             0.4,
             "#fde0ef"
            ],
            [
             0.5,
             "#f7f7f7"
            ],
            [
             0.6,
             "#e6f5d0"
            ],
            [
             0.7,
             "#b8e186"
            ],
            [
             0.8,
             "#7fbc41"
            ],
            [
             0.9,
             "#4d9221"
            ],
            [
             1,
             "#276419"
            ]
           ],
           "sequential": [
            [
             0,
             "#0d0887"
            ],
            [
             0.1111111111111111,
             "#46039f"
            ],
            [
             0.2222222222222222,
             "#7201a8"
            ],
            [
             0.3333333333333333,
             "#9c179e"
            ],
            [
             0.4444444444444444,
             "#bd3786"
            ],
            [
             0.5555555555555556,
             "#d8576b"
            ],
            [
             0.6666666666666666,
             "#ed7953"
            ],
            [
             0.7777777777777778,
             "#fb9f3a"
            ],
            [
             0.8888888888888888,
             "#fdca26"
            ],
            [
             1,
             "#f0f921"
            ]
           ],
           "sequentialminus": [
            [
             0,
             "#0d0887"
            ],
            [
             0.1111111111111111,
             "#46039f"
            ],
            [
             0.2222222222222222,
             "#7201a8"
            ],
            [
             0.3333333333333333,
             "#9c179e"
            ],
            [
             0.4444444444444444,
             "#bd3786"
            ],
            [
             0.5555555555555556,
             "#d8576b"
            ],
            [
             0.6666666666666666,
             "#ed7953"
            ],
            [
             0.7777777777777778,
             "#fb9f3a"
            ],
            [
             0.8888888888888888,
             "#fdca26"
            ],
            [
             1,
             "#f0f921"
            ]
           ]
          },
          "colorway": [
           "#636efa",
           "#EF553B",
           "#00cc96",
           "#ab63fa",
           "#FFA15A",
           "#19d3f3",
           "#FF6692",
           "#B6E880",
           "#FF97FF",
           "#FECB52"
          ],
          "font": {
           "color": "#2a3f5f"
          },
          "geo": {
           "bgcolor": "white",
           "lakecolor": "white",
           "landcolor": "#E5ECF6",
           "showlakes": true,
           "showland": true,
           "subunitcolor": "white"
          },
          "hoverlabel": {
           "align": "left"
          },
          "hovermode": "closest",
          "mapbox": {
           "style": "light"
          },
          "paper_bgcolor": "white",
          "plot_bgcolor": "#E5ECF6",
          "polar": {
           "angularaxis": {
            "gridcolor": "white",
            "linecolor": "white",
            "ticks": ""
           },
           "bgcolor": "#E5ECF6",
           "radialaxis": {
            "gridcolor": "white",
            "linecolor": "white",
            "ticks": ""
           }
          },
          "scene": {
           "xaxis": {
            "backgroundcolor": "#E5ECF6",
            "gridcolor": "white",
            "gridwidth": 2,
            "linecolor": "white",
            "showbackground": true,
            "ticks": "",
            "zerolinecolor": "white"
           },
           "yaxis": {
            "backgroundcolor": "#E5ECF6",
            "gridcolor": "white",
            "gridwidth": 2,
            "linecolor": "white",
            "showbackground": true,
            "ticks": "",
            "zerolinecolor": "white"
           },
           "zaxis": {
            "backgroundcolor": "#E5ECF6",
            "gridcolor": "white",
            "gridwidth": 2,
            "linecolor": "white",
            "showbackground": true,
            "ticks": "",
            "zerolinecolor": "white"
           }
          },
          "shapedefaults": {
           "line": {
            "color": "#2a3f5f"
           }
          },
          "ternary": {
           "aaxis": {
            "gridcolor": "white",
            "linecolor": "white",
            "ticks": ""
           },
           "baxis": {
            "gridcolor": "white",
            "linecolor": "white",
            "ticks": ""
           },
           "bgcolor": "#E5ECF6",
           "caxis": {
            "gridcolor": "white",
            "linecolor": "white",
            "ticks": ""
           }
          },
          "title": {
           "x": 0.05
          },
          "xaxis": {
           "automargin": true,
           "gridcolor": "white",
           "linecolor": "white",
           "ticks": "",
           "title": {
            "standoff": 15
           },
           "zerolinecolor": "white",
           "zerolinewidth": 2
          },
          "yaxis": {
           "automargin": true,
           "gridcolor": "white",
           "linecolor": "white",
           "ticks": "",
           "title": {
            "standoff": 15
           },
           "zerolinecolor": "white",
           "zerolinewidth": 2
          }
         }
        },
        "title": {
         "text": ""
        },
        "width": 550,
        "xaxis": {
         "scaleanchor": "y",
         "scaleratio": 1
        },
        "yaxis": {
         "scaleanchor": "x",
         "scaleratio": 1,
         "title": {
          "text": " "
         }
        }
       }
      },
      "text/html": [
       "<div>                            <div id=\"42eed70a-e2c2-4221-8fd8-60c66d7e6557\" class=\"plotly-graph-div\" style=\"height:500px; width:550px;\"></div>            <script type=\"text/javascript\">                require([\"plotly\"], function(Plotly) {                    window.PLOTLYENV=window.PLOTLYENV || {};                                    if (document.getElementById(\"42eed70a-e2c2-4221-8fd8-60c66d7e6557\")) {                    Plotly.newPlot(                        \"42eed70a-e2c2-4221-8fd8-60c66d7e6557\",                        [{\"marker\":{\"color\":\"red\",\"size\":5},\"mode\":\"markers\",\"name\":\"fern_genus.n.01\",\"opacity\":0.4,\"x\":[4.018837928771973],\"y\":[-4.04686164855957],\"type\":\"scatter\"},{\"marker\":{\"color\":\"red\",\"size\":5},\"mode\":\"markers\",\"name\":\"gymnosperm_genus.n.01\",\"opacity\":0.4,\"x\":[1.5961658954620361],\"y\":[0.5568881630897522],\"type\":\"scatter\"},{\"marker\":{\"color\":\"red\",\"size\":5},\"mode\":\"markers\",\"name\":\"mammal_genus.n.01\",\"opacity\":0.4,\"x\":[2.5924270153045654],\"y\":[-1.561161994934082],\"type\":\"scatter\"},{\"marker\":{\"color\":\"red\",\"size\":5},\"mode\":\"markers\",\"name\":\"monocot_genus.n.01\",\"opacity\":0.4,\"x\":[1.8098138570785522],\"y\":[-1.9462610483169556],\"type\":\"scatter\"},{\"marker\":{\"color\":\"red\",\"size\":5},\"mode\":\"markers\",\"name\":\"fungus_genus.n.01\",\"opacity\":0.4,\"x\":[4.123536586761475],\"y\":[-2.2691755294799805],\"type\":\"scatter\"},{\"marker\":{\"color\":\"red\",\"size\":5},\"mode\":\"markers\",\"name\":\"protoctist_genus.n.01\",\"opacity\":0.4,\"x\":[1.932614803314209],\"y\":[2.347982168197632],\"type\":\"scatter\"},{\"marker\":{\"color\":\"red\",\"size\":5},\"mode\":\"markers\",\"name\":\"mollusk_genus.n.01\",\"opacity\":0.4,\"x\":[2.668926239013672],\"y\":[-3.9011597633361816],\"type\":\"scatter\"},{\"marker\":{\"color\":\"red\",\"size\":5},\"mode\":\"markers\",\"name\":\"amphibian_genus.n.01\",\"opacity\":0.4,\"x\":[2.770975351333618],\"y\":[-0.8405666351318359],\"type\":\"scatter\"},{\"marker\":{\"color\":\"red\",\"size\":5},\"mode\":\"markers\",\"name\":\"fish_genus.n.01\",\"opacity\":0.4,\"x\":[2.954904794692993],\"y\":[-2.140655040740967],\"type\":\"scatter\"},{\"marker\":{\"color\":\"red\",\"size\":5},\"mode\":\"markers\",\"name\":\"bird_genus.n.01\",\"opacity\":0.4,\"x\":[2.1871109008789062],\"y\":[-2.661365270614624],\"type\":\"scatter\"},{\"marker\":{\"color\":\"red\",\"size\":5},\"mode\":\"markers\",\"name\":\"dicot_genus.n.01\",\"opacity\":0.4,\"x\":[2.3356802463531494],\"y\":[-2.0811026096343994],\"type\":\"scatter\"},{\"marker\":{\"color\":\"red\",\"size\":5},\"mode\":\"markers\",\"name\":\"arthropod_genus.n.01\",\"opacity\":0.4,\"x\":[2.647770643234253],\"y\":[-3.189931869506836],\"type\":\"scatter\"},{\"marker\":{\"color\":\"red\",\"size\":5},\"mode\":\"markers\",\"name\":\"reptile_genus.n.01\",\"opacity\":0.4,\"x\":[1.4815452098846436],\"y\":[-2.6213648319244385],\"type\":\"scatter\"},{\"marker\":{\"color\":\"red\",\"size\":5},\"mode\":\"markers\",\"name\":\"family.n.06\",\"opacity\":0.4,\"x\":[2.555969476699829],\"y\":[-2.2676784992218018],\"type\":\"scatter\"},{\"marker\":{\"color\":\"red\",\"size\":5},\"mode\":\"markers\",\"name\":\"echinoderm_genus.n.01\",\"opacity\":0.4,\"x\":[6.495835304260254],\"y\":[-4.457673072814941],\"type\":\"scatter\"},{\"marker\":{\"color\":\"red\",\"size\":5},\"mode\":\"markers\",\"name\":\"coelenterate_genus.n.01\",\"opacity\":0.4,\"x\":[0.18821404874324799],\"y\":[-4.128281593322754],\"type\":\"scatter\"},{\"marker\":{\"color\":\"red\",\"size\":5},\"mode\":\"markers\",\"name\":\"worm_genus.n.01\",\"opacity\":0.4,\"x\":[-0.19665510952472687],\"y\":[-2.9083781242370605],\"type\":\"scatter\"},{\"marker\":{\"color\":\"red\",\"size\":5},\"mode\":\"markers\",\"name\":\"bacteria_genus.n.01\",\"opacity\":0.4,\"x\":[4.630408763885498],\"y\":[-3.3182320594787598],\"type\":\"scatter\"},{\"marker\":{\"color\":\"red\",\"size\":5},\"mode\":\"markers\",\"name\":\"chordate_genus.n.01\",\"opacity\":0.4,\"x\":[-0.8481367230415344],\"y\":[-3.806767463684082],\"type\":\"scatter\"},{\"marker\":{\"color\":\"red\",\"size\":5},\"mode\":\"markers\",\"name\":\"ctenophore_genus.n.01\",\"opacity\":0.4,\"x\":[0.6040127873420715],\"y\":[2.8423967361450195],\"type\":\"scatter\"},{\"marker\":{\"color\":\"blue\",\"size\":5},\"mode\":\"markers\",\"name\":\"working_dog.n.01\",\"opacity\":0.4,\"x\":[7.202178955078125],\"y\":[1.4824155569076538],\"type\":\"scatter\"},{\"marker\":{\"color\":\"blue\",\"size\":5},\"mode\":\"markers\",\"name\":\"pack.n.06\",\"opacity\":0.4,\"x\":[4.240425109863281],\"y\":[-0.47199583053588867],\"type\":\"scatter\"},{\"marker\":{\"color\":\"blue\",\"size\":5},\"mode\":\"markers\",\"name\":\"canis.n.01\",\"opacity\":0.4,\"x\":[8.396965026855469],\"y\":[2.3680331707000732],\"type\":\"scatter\"},{\"marker\":{\"color\":\"blue\",\"size\":5},\"mode\":\"markers\",\"name\":\"hunting_dog.n.01\",\"opacity\":0.4,\"x\":[3.527531862258911],\"y\":[-0.9734081625938416],\"type\":\"scatter\"},{\"marker\":{\"color\":\"blue\",\"size\":5},\"mode\":\"markers\",\"name\":\"griffon.n.02\",\"opacity\":0.4,\"x\":[7.945897102355957],\"y\":[3.187413215637207],\"type\":\"scatter\"},{\"marker\":{\"color\":\"blue\",\"size\":5},\"mode\":\"markers\",\"name\":\"toy_dog.n.01\",\"opacity\":0.4,\"x\":[8.43902587890625],\"y\":[1.5296143293380737],\"type\":\"scatter\"},{\"marker\":{\"color\":\"blue\",\"size\":5},\"mode\":\"markers\",\"name\":\"cur.n.01\",\"opacity\":0.4,\"x\":[7.069026947021484],\"y\":[2.804037094116211],\"type\":\"scatter\"},{\"marker\":{\"color\":\"blue\",\"size\":5},\"mode\":\"markers\",\"name\":\"pooch.n.01\",\"opacity\":0.4,\"x\":[8.40764045715332],\"y\":[0.4147130846977234],\"type\":\"scatter\"},{\"marker\":{\"color\":\"blue\",\"size\":5},\"mode\":\"markers\",\"name\":\"corgi.n.01\",\"opacity\":0.4,\"x\":[8.38620376586914],\"y\":[4.203350067138672],\"type\":\"scatter\"},{\"marker\":{\"color\":\"blue\",\"size\":5},\"mode\":\"markers\",\"name\":\"dalmatian.n.02\",\"opacity\":0.4,\"x\":[9.809924125671387],\"y\":[0.8696479797363281],\"type\":\"scatter\"},{\"marker\":{\"color\":\"blue\",\"size\":5},\"mode\":\"markers\",\"name\":\"poodle.n.01\",\"opacity\":0.4,\"x\":[9.553197860717773],\"y\":[2.1704599857330322],\"type\":\"scatter\"},{\"marker\":{\"color\":\"blue\",\"size\":5},\"mode\":\"markers\",\"name\":\"spitz.n.01\",\"opacity\":0.4,\"x\":[9.397552490234375],\"y\":[3.3921239376068115],\"type\":\"scatter\"},{\"marker\":{\"color\":\"orange\",\"size\":5},\"mode\":\"markers\",\"name\":\"protective_garment.n.01\",\"opacity\":0.4,\"x\":[-1.6495254039764404],\"y\":[1.5432302951812744],\"type\":\"scatter\"},{\"marker\":{\"color\":\"orange\",\"size\":5},\"mode\":\"markers\",\"name\":\"dress.v.02\",\"opacity\":0.4,\"x\":[0.04168866574764252],\"y\":[-0.8028638362884521],\"type\":\"scatter\"},{\"marker\":{\"color\":\"orange\",\"size\":5},\"mode\":\"markers\",\"name\":\"attire.n.01\",\"opacity\":0.4,\"x\":[-0.18898680806159973],\"y\":[-1.2062267065048218],\"type\":\"scatter\"},{\"marker\":{\"color\":\"orange\",\"size\":5},\"mode\":\"markers\",\"name\":\"vest.v.05\",\"opacity\":0.4,\"x\":[-5.369163990020752],\"y\":[1.25960373878479],\"type\":\"scatter\"},{\"marker\":{\"color\":\"orange\",\"size\":5},\"mode\":\"markers\",\"name\":\"wear.v.09\",\"opacity\":0.4,\"x\":[-1.4609389305114746],\"y\":[-0.01409236527979374],\"type\":\"scatter\"},{\"marker\":{\"color\":\"orange\",\"size\":5},\"mode\":\"markers\",\"name\":\"headdress.n.01\",\"opacity\":0.4,\"x\":[-0.621864914894104],\"y\":[0.6081268191337585],\"type\":\"scatter\"},{\"marker\":{\"color\":\"orange\",\"size\":5},\"mode\":\"markers\",\"name\":\"garment.n.01\",\"opacity\":0.4,\"x\":[0.4412142336368561],\"y\":[-1.0792385339736938],\"type\":\"scatter\"},{\"marker\":{\"color\":\"orange\",\"size\":5},\"mode\":\"markers\",\"name\":\"ready-to-wear.n.01\",\"opacity\":0.4,\"x\":[-3.5710577964782715],\"y\":[-1.8222005367279053],\"type\":\"scatter\"},{\"marker\":{\"color\":\"orange\",\"size\":5},\"mode\":\"markers\",\"name\":\"apparel.n.01\",\"opacity\":0.4,\"x\":[-0.15674547851085663],\"y\":[-0.7141664624214172],\"type\":\"scatter\"},{\"marker\":{\"color\":\"orange\",\"size\":5},\"mode\":\"markers\",\"name\":\"change.n.07\",\"opacity\":0.4,\"x\":[-1.155239224433899],\"y\":[-1.9515494108200073],\"type\":\"scatter\"},{\"marker\":{\"color\":\"orange\",\"size\":5},\"mode\":\"markers\",\"name\":\"array.n.03\",\"opacity\":0.4,\"x\":[-4.010702610015869],\"y\":[0.9136878252029419],\"type\":\"scatter\"},{\"marker\":{\"color\":\"orange\",\"size\":5},\"mode\":\"markers\",\"name\":\"man's_clothing.n.01\",\"opacity\":0.4,\"x\":[-1.7379844188690186],\"y\":[1.3311450481414795],\"type\":\"scatter\"},{\"marker\":{\"color\":\"orange\",\"size\":5},\"mode\":\"markers\",\"name\":\"wear.v.01\",\"opacity\":0.4,\"x\":[-2.270129442214966],\"y\":[0.33812999725341797],\"type\":\"scatter\"},{\"marker\":{\"color\":\"orange\",\"size\":5},\"mode\":\"markers\",\"name\":\"nightwear.n.01\",\"opacity\":0.4,\"x\":[-0.29284051060676575],\"y\":[1.5800669193267822],\"type\":\"scatter\"},{\"marker\":{\"color\":\"orange\",\"size\":5},\"mode\":\"markers\",\"name\":\"handwear.n.01\",\"opacity\":0.4,\"x\":[-1.6062872409820557],\"y\":[-0.962714433670044],\"type\":\"scatter\"},{\"marker\":{\"color\":\"orange\",\"size\":5},\"mode\":\"markers\",\"name\":\"black.n.07\",\"opacity\":0.4,\"x\":[-4.034295082092285],\"y\":[2.5210816860198975],\"type\":\"scatter\"},{\"marker\":{\"color\":\"orange\",\"size\":5},\"mode\":\"markers\",\"name\":\"vestiary.a.01\",\"opacity\":0.4,\"x\":[-3.125140428543091],\"y\":[2.4388091564178467],\"type\":\"scatter\"},{\"marker\":{\"color\":\"orange\",\"size\":5},\"mode\":\"markers\",\"name\":\"footwear.n.01\",\"opacity\":0.4,\"x\":[1.494356632232666],\"y\":[-0.43177464604377747],\"type\":\"scatter\"},{\"marker\":{\"color\":\"orange\",\"size\":5},\"mode\":\"markers\",\"name\":\"wear.v.02\",\"opacity\":0.4,\"x\":[-0.7296748161315918],\"y\":[-0.5090681910514832],\"type\":\"scatter\"},{\"marker\":{\"color\":\"orange\",\"size\":5},\"mode\":\"markers\",\"name\":\"tailor-made.n.01\",\"opacity\":0.4,\"x\":[-3.9994869232177734],\"y\":[4.176562786102295],\"type\":\"scatter\"},{\"marker\":{\"color\":\"orange\",\"size\":5},\"mode\":\"markers\",\"name\":\"outerwear.n.01\",\"opacity\":0.4,\"x\":[-5.08819055557251],\"y\":[1.134434461593628],\"type\":\"scatter\"},{\"marker\":{\"color\":\"orange\",\"size\":5},\"mode\":\"markers\",\"name\":\"woman's_clothing.n.01\",\"opacity\":0.4,\"x\":[0.03209983929991722],\"y\":[0.29058486223220825],\"type\":\"scatter\"},{\"marker\":{\"color\":\"orange\",\"size\":5},\"mode\":\"markers\",\"name\":\"street_clothes.n.01\",\"opacity\":0.4,\"x\":[-4.627910137176514],\"y\":[0.6469748616218567],\"type\":\"scatter\"},{\"marker\":{\"color\":\"orange\",\"size\":5},\"mode\":\"markers\",\"name\":\"drag.n.04\",\"opacity\":0.4,\"x\":[-3.6285126209259033],\"y\":[-0.08844135701656342],\"type\":\"scatter\"},{\"marker\":{\"color\":\"orange\",\"size\":5},\"mode\":\"markers\",\"name\":\"vestiture.n.01\",\"opacity\":0.4,\"x\":[-5.533984184265137],\"y\":[2.9671785831451416],\"type\":\"scatter\"},{\"marker\":{\"color\":\"orange\",\"size\":5},\"mode\":\"markers\",\"name\":\"civilian_clothing.n.01\",\"opacity\":0.4,\"x\":[-2.3085455894470215],\"y\":[-2.1043808460235596],\"type\":\"scatter\"},{\"marker\":{\"color\":\"orange\",\"size\":5},\"mode\":\"markers\",\"name\":\"slip-on.n.01\",\"opacity\":0.4,\"x\":[-4.720141410827637],\"y\":[-0.8127821087837219],\"type\":\"scatter\"},{\"marker\":{\"color\":\"orange\",\"size\":5},\"mode\":\"markers\",\"name\":\"grey.n.06\",\"opacity\":0.4,\"x\":[-3.055448055267334],\"y\":[1.3556101322174072],\"type\":\"scatter\"},{\"marker\":{\"color\":\"orange\",\"size\":5},\"mode\":\"markers\",\"name\":\"accessory.n.01\",\"opacity\":0.4,\"x\":[-2.585798740386963],\"y\":[-0.7240077257156372],\"type\":\"scatter\"},{\"marker\":{\"color\":\"orange\",\"size\":5},\"mode\":\"markers\",\"name\":\"leisure_wear.n.01\",\"opacity\":0.4,\"x\":[-2.265638589859009],\"y\":[-10.443708419799805],\"type\":\"scatter\"},{\"marker\":{\"color\":\"orange\",\"size\":5},\"mode\":\"markers\",\"name\":\"blue.n.02\",\"opacity\":0.4,\"x\":[-6.024920463562012],\"y\":[0.01354130357503891],\"type\":\"scatter\"},{\"marker\":{\"color\":\"orange\",\"size\":5},\"mode\":\"markers\",\"name\":\"slops.n.02\",\"opacity\":0.4,\"x\":[-2.07362961769104],\"y\":[2.7958340644836426],\"type\":\"scatter\"},{\"marker\":{\"color\":\"orange\",\"size\":5},\"mode\":\"markers\",\"name\":\"beachwear.n.01\",\"opacity\":0.4,\"x\":[-0.8746403455734253],\"y\":[3.19276762008667],\"type\":\"scatter\"},{\"marker\":{\"color\":\"orange\",\"size\":5},\"mode\":\"markers\",\"name\":\"neckpiece.n.01\",\"opacity\":0.4,\"x\":[-2.569580078125],\"y\":[3.9646854400634766],\"type\":\"scatter\"},{\"marker\":{\"color\":\"green\",\"size\":5},\"mode\":\"markers\",\"name\":\"arrhenatherum.n.01\",\"opacity\":0.4,\"x\":[3.8842432498931885],\"y\":[9.697383880615234],\"type\":\"scatter\"},{\"marker\":{\"color\":\"green\",\"size\":5},\"mode\":\"markers\",\"name\":\"erythroxylon.n.01\",\"opacity\":0.4,\"x\":[4.178905487060547],\"y\":[-9.69024658203125],\"type\":\"scatter\"},{\"marker\":{\"color\":\"green\",\"size\":5},\"mode\":\"markers\",\"name\":\"cynoglossum.n.01\",\"opacity\":0.4,\"x\":[17.294044494628906],\"y\":[18.79443359375],\"type\":\"scatter\"},{\"marker\":{\"color\":\"green\",\"size\":5},\"mode\":\"markers\",\"name\":\"linum.n.01\",\"opacity\":0.4,\"x\":[-103.78779602050781],\"y\":[65.58143615722656],\"type\":\"scatter\"},{\"marker\":{\"color\":\"green\",\"size\":5},\"mode\":\"markers\",\"name\":\"tamus.n.01\",\"opacity\":0.4,\"x\":[0.827998697757721],\"y\":[5.105725288391113],\"type\":\"scatter\"},{\"marker\":{\"color\":\"green\",\"size\":5},\"mode\":\"markers\",\"name\":\"ribes.n.01\",\"opacity\":0.4,\"x\":[2.1175882816314697],\"y\":[3.744968891143799],\"type\":\"scatter\"},{\"marker\":{\"color\":\"green\",\"size\":5},\"mode\":\"markers\",\"name\":\"linanthus.n.01\",\"opacity\":0.4,\"x\":[4.544195652008057],\"y\":[16.346086502075195],\"type\":\"scatter\"},{\"marker\":{\"color\":\"green\",\"size\":5},\"mode\":\"markers\",\"name\":\"genus_geranium.n.01\",\"opacity\":0.4,\"x\":[3.9143049716949463],\"y\":[-7.8957109451293945],\"type\":\"scatter\"},{\"marker\":{\"color\":\"green\",\"size\":5},\"mode\":\"markers\",\"name\":\"arenga.n.01\",\"opacity\":0.4,\"x\":[1.8598681688308716],\"y\":[7.6848273277282715],\"type\":\"scatter\"},{\"marker\":{\"color\":\"green\",\"size\":5},\"mode\":\"markers\",\"name\":\"corylopsis.n.01\",\"opacity\":0.4,\"x\":[6.29353666305542],\"y\":[21.039146423339844],\"type\":\"scatter\"},{\"marker\":{\"color\":\"green\",\"size\":5},\"mode\":\"markers\",\"name\":\"myosotis.n.01\",\"opacity\":0.4,\"x\":[17.298053741455078],\"y\":[18.743844985961914],\"type\":\"scatter\"},{\"marker\":{\"color\":\"green\",\"size\":5},\"mode\":\"markers\",\"name\":\"aeonium.n.01\",\"opacity\":0.4,\"x\":[4.87081241607666],\"y\":[12.46175479888916],\"type\":\"scatter\"},{\"marker\":{\"color\":\"green\",\"size\":5},\"mode\":\"markers\",\"name\":\"pinguicula.n.01\",\"opacity\":0.4,\"x\":[7.367867469787598],\"y\":[14.607088088989258],\"type\":\"scatter\"},{\"marker\":{\"color\":\"green\",\"size\":5},\"mode\":\"markers\",\"name\":\"genus_sedum.n.01\",\"opacity\":0.4,\"x\":[4.873842239379883],\"y\":[12.464286804199219],\"type\":\"scatter\"},{\"marker\":{\"color\":\"green\",\"size\":5},\"mode\":\"markers\",\"name\":\"sequoiadendron.n.01\",\"opacity\":0.4,\"x\":[1.3757997751235962],\"y\":[1.3604722023010254],\"type\":\"scatter\"},{\"marker\":{\"color\":\"green\",\"size\":5},\"mode\":\"markers\",\"name\":\"hamamelis.n.01\",\"opacity\":0.4,\"x\":[6.104126930236816],\"y\":[20.659326553344727],\"type\":\"scatter\"},{\"marker\":{\"color\":\"green\",\"size\":5},\"mode\":\"markers\",\"name\":\"borago.n.01\",\"opacity\":0.4,\"x\":[17.67430305480957],\"y\":[17.637775421142578],\"type\":\"scatter\"},{\"marker\":{\"color\":\"green\",\"size\":5},\"mode\":\"markers\",\"name\":\"alpinia.n.01\",\"opacity\":0.4,\"x\":[9.578577995300293],\"y\":[18.542495727539062],\"type\":\"scatter\"},{\"marker\":{\"color\":\"green\",\"size\":5},\"mode\":\"markers\",\"name\":\"proboscidea.n.01\",\"opacity\":0.4,\"x\":[-1.3113930225372314],\"y\":[7.082345008850098],\"type\":\"scatter\"},{\"marker\":{\"color\":\"green\",\"size\":5},\"mode\":\"markers\",\"name\":\"avena.n.01\",\"opacity\":0.4,\"x\":[3.87454891204834],\"y\":[9.684972763061523],\"type\":\"scatter\"},{\"marker\":{\"color\":\"green\",\"size\":5},\"mode\":\"markers\",\"name\":\"lithospermum.n.01\",\"opacity\":0.4,\"x\":[18.413320541381836],\"y\":[18.775066375732422],\"type\":\"scatter\"},{\"marker\":{\"color\":\"green\",\"size\":5},\"mode\":\"markers\",\"name\":\"livistona.n.01\",\"opacity\":0.4,\"x\":[1.8856122493743896],\"y\":[7.504790306091309],\"type\":\"scatter\"},{\"marker\":{\"color\":\"green\",\"size\":5},\"mode\":\"markers\",\"name\":\"parrotia.n.01\",\"opacity\":0.4,\"x\":[6.536890029907227],\"y\":[20.91741943359375],\"type\":\"scatter\"},{\"marker\":{\"color\":\"green\",\"size\":5},\"mode\":\"markers\",\"name\":\"dioscorea.n.01\",\"opacity\":0.4,\"x\":[3.204644203186035],\"y\":[2.8164026737213135],\"type\":\"scatter\"},{\"marker\":{\"color\":\"green\",\"size\":5},\"mode\":\"markers\",\"name\":\"sesamum.n.01\",\"opacity\":0.4,\"x\":[-1.234521508216858],\"y\":[5.612852573394775],\"type\":\"scatter\"},{\"marker\":{\"color\":\"green\",\"size\":5},\"mode\":\"markers\",\"name\":\"symphytum.n.01\",\"opacity\":0.4,\"x\":[5.323134422302246],\"y\":[-4.2632317543029785],\"type\":\"scatter\"},{\"marker\":{\"color\":\"green\",\"size\":5},\"mode\":\"markers\",\"name\":\"genus_phlox.n.01\",\"opacity\":0.4,\"x\":[4.5495171546936035],\"y\":[16.340911865234375],\"type\":\"scatter\"},{\"marker\":{\"color\":\"green\",\"size\":5},\"mode\":\"markers\",\"name\":\"phytelephas.n.01\",\"opacity\":0.4,\"x\":[1.9638382196426392],\"y\":[6.985639572143555],\"type\":\"scatter\"},{\"marker\":{\"color\":\"green\",\"size\":5},\"mode\":\"markers\",\"name\":\"paris.n.02\",\"opacity\":0.4,\"x\":[0.8246840834617615],\"y\":[4.865745544433594],\"type\":\"scatter\"},{\"marker\":{\"color\":\"green\",\"size\":5},\"mode\":\"markers\",\"name\":\"genus_martynia.n.01\",\"opacity\":0.4,\"x\":[-1.3088549375534058],\"y\":[7.02957820892334],\"type\":\"scatter\"},{\"marker\":{\"color\":\"green\",\"size\":5},\"mode\":\"markers\",\"name\":\"hackelia.n.01\",\"opacity\":0.4,\"x\":[17.615591049194336],\"y\":[19.855133056640625],\"type\":\"scatter\"},{\"marker\":{\"color\":\"green\",\"size\":5},\"mode\":\"markers\",\"name\":\"echium.n.01\",\"opacity\":0.4,\"x\":[16.307641983032227],\"y\":[19.45208168029785],\"type\":\"scatter\"},{\"marker\":{\"color\":\"green\",\"size\":5},\"mode\":\"markers\",\"name\":\"aframomum.n.01\",\"opacity\":0.4,\"x\":[9.584650993347168],\"y\":[18.541826248168945],\"type\":\"scatter\"},{\"marker\":{\"color\":\"green\",\"size\":5},\"mode\":\"markers\",\"name\":\"genus_campanula.n.01\",\"opacity\":0.4,\"x\":[5.315583229064941],\"y\":[-7.265590190887451],\"type\":\"scatter\"},{\"marker\":{\"color\":\"green\",\"size\":5},\"mode\":\"markers\",\"name\":\"mertensia.n.01\",\"opacity\":0.4,\"x\":[16.474258422851562],\"y\":[18.160417556762695],\"type\":\"scatter\"},{\"marker\":{\"color\":\"green\",\"size\":5},\"mode\":\"markers\",\"name\":\"genus_fothergilla.n.01\",\"opacity\":0.4,\"x\":[6.277768135070801],\"y\":[21.05743408203125],\"type\":\"scatter\"},{\"marker\":{\"color\":\"green\",\"size\":5},\"mode\":\"markers\",\"name\":\"genus_liquidambar.n.01\",\"opacity\":0.4,\"x\":[6.085629940032959],\"y\":[21.79770278930664],\"type\":\"scatter\"},{\"marker\":{\"color\":\"green\",\"size\":5},\"mode\":\"markers\",\"name\":\"physostigma.n.01\",\"opacity\":0.4,\"x\":[5.918520450592041],\"y\":[-1.1718926429748535],\"type\":\"scatter\"},{\"marker\":{\"color\":\"green\",\"size\":5},\"mode\":\"markers\",\"name\":\"amsinckia.n.01\",\"opacity\":0.4,\"x\":[17.296491622924805],\"y\":[18.81605339050293],\"type\":\"scatter\"},{\"marker\":{\"color\":\"green\",\"size\":5},\"mode\":\"markers\",\"name\":\"laguncularia.n.01\",\"opacity\":0.4,\"x\":[7.491001605987549],\"y\":[-3.256071090698242],\"type\":\"scatter\"},{\"marker\":{\"color\":\"green\",\"size\":5},\"mode\":\"markers\",\"name\":\"utricularia.n.01\",\"opacity\":0.4,\"x\":[7.368541240692139],\"y\":[14.607630729675293],\"type\":\"scatter\"},{\"marker\":{\"color\":\"green\",\"size\":5},\"mode\":\"markers\",\"name\":\"lagerstroemia.n.01\",\"opacity\":0.4,\"x\":[7.233211517333984],\"y\":[-5.468277454376221],\"type\":\"scatter\"},{\"marker\":{\"color\":\"green\",\"size\":5},\"mode\":\"markers\",\"name\":\"agrostis.n.01\",\"opacity\":0.4,\"x\":[3.8814611434936523],\"y\":[9.643082618713379],\"type\":\"scatter\"},{\"marker\":{\"color\":\"yellow\",\"size\":5},\"mode\":\"markers\",\"name\":\"genus_tamandua.n.01\",\"opacity\":0.4,\"x\":[20.750240325927734],\"y\":[6.369140625],\"type\":\"scatter\"},{\"marker\":{\"color\":\"yellow\",\"size\":5},\"mode\":\"markers\",\"name\":\"antidorcas.n.01\",\"opacity\":0.4,\"x\":[14.109338760375977],\"y\":[0.5204149484634399],\"type\":\"scatter\"},{\"marker\":{\"color\":\"yellow\",\"size\":5},\"mode\":\"markers\",\"name\":\"felis.n.01\",\"opacity\":0.4,\"x\":[10.19790267944336],\"y\":[-1.507121205329895],\"type\":\"scatter\"},{\"marker\":{\"color\":\"yellow\",\"size\":5},\"mode\":\"markers\",\"name\":\"bos.n.01\",\"opacity\":0.4,\"x\":[5.422141075134277],\"y\":[0.7170151472091675],\"type\":\"scatter\"},{\"marker\":{\"color\":\"yellow\",\"size\":5},\"mode\":\"markers\",\"name\":\"lagidium.n.01\",\"opacity\":0.4,\"x\":[-6.603773593902588],\"y\":[11.461568832397461],\"type\":\"scatter\"},{\"marker\":{\"color\":\"yellow\",\"size\":5},\"mode\":\"markers\",\"name\":\"abrocoma.n.01\",\"opacity\":0.4,\"x\":[-6.611016750335693],\"y\":[11.453141212463379],\"type\":\"scatter\"},{\"marker\":{\"color\":\"yellow\",\"size\":5},\"mode\":\"markers\",\"name\":\"trichosurus.n.01\",\"opacity\":0.4,\"x\":[21.91004180908203],\"y\":[1.568585991859436],\"type\":\"scatter\"},{\"marker\":{\"color\":\"yellow\",\"size\":5},\"mode\":\"markers\",\"name\":\"tamias.n.01\",\"opacity\":0.4,\"x\":[-4.1312150955200195],\"y\":[16.626779556274414],\"type\":\"scatter\"},{\"marker\":{\"color\":\"yellow\",\"size\":5},\"mode\":\"markers\",\"name\":\"panthera.n.01\",\"opacity\":0.4,\"x\":[10.537322998046875],\"y\":[-1.512925386428833],\"type\":\"scatter\"},{\"marker\":{\"color\":\"yellow\",\"size\":5},\"mode\":\"markers\",\"name\":\"blarina.n.01\",\"opacity\":0.4,\"x\":[-17.04547691345215],\"y\":[16.302730560302734],\"type\":\"scatter\"},{\"marker\":{\"color\":\"yellow\",\"size\":5},\"mode\":\"markers\",\"name\":\"globicephala.n.01\",\"opacity\":0.4,\"x\":[24.690872192382812],\"y\":[-3.0702872276306152],\"type\":\"scatter\"},{\"marker\":{\"color\":\"yellow\",\"size\":5},\"mode\":\"markers\",\"name\":\"herpestes.n.01\",\"opacity\":0.4,\"x\":[3.9665110111236572],\"y\":[30.735424041748047],\"type\":\"scatter\"},{\"marker\":{\"color\":\"yellow\",\"size\":5},\"mode\":\"markers\",\"name\":\"mirounga.n.01\",\"opacity\":0.4,\"x\":[-21.984010696411133],\"y\":[-1.1459403038024902],\"type\":\"scatter\"},{\"marker\":{\"color\":\"yellow\",\"size\":5},\"mode\":\"markers\",\"name\":\"choloepus.n.01\",\"opacity\":0.4,\"x\":[19.906959533691406],\"y\":[-2.038210391998291],\"type\":\"scatter\"},{\"marker\":{\"color\":\"yellow\",\"size\":5},\"mode\":\"markers\",\"name\":\"vertebrata.n.01\",\"opacity\":0.4,\"x\":[3.2437102794647217],\"y\":[-2.4483118057250977],\"type\":\"scatter\"},{\"marker\":{\"color\":\"yellow\",\"size\":5},\"mode\":\"markers\",\"name\":\"pan.n.04\",\"opacity\":0.4,\"x\":[9.837361335754395],\"y\":[11.025336265563965],\"type\":\"scatter\"},{\"marker\":{\"color\":\"yellow\",\"size\":5},\"mode\":\"markers\",\"name\":\"budorcas.n.01\",\"opacity\":0.4,\"x\":[14.014424324035645],\"y\":[5.716891765594482],\"type\":\"scatter\"},{\"marker\":{\"color\":\"yellow\",\"size\":5},\"mode\":\"markers\",\"name\":\"genus_potamogale.n.01\",\"opacity\":0.4,\"x\":[-3.9700140953063965],\"y\":[7.022894859313965],\"type\":\"scatter\"},{\"marker\":{\"color\":\"yellow\",\"size\":5},\"mode\":\"markers\",\"name\":\"uintatherium.n.01\",\"opacity\":0.4,\"x\":[-108.92868041992188],\"y\":[-19.812898635864258],\"type\":\"scatter\"},{\"marker\":{\"color\":\"yellow\",\"size\":5},\"mode\":\"markers\",\"name\":\"canis.n.01\",\"opacity\":0.4,\"x\":[8.396964073181152],\"y\":[2.3680334091186523],\"type\":\"scatter\"},{\"marker\":{\"color\":\"yellow\",\"size\":5},\"mode\":\"markers\",\"name\":\"ornithorhynchus.n.01\",\"opacity\":0.4,\"x\":[17.064517974853516],\"y\":[0.4391837418079376],\"type\":\"scatter\"},{\"marker\":{\"color\":\"yellow\",\"size\":5},\"mode\":\"markers\",\"name\":\"loxodonta.n.01\",\"opacity\":0.4,\"x\":[20.215940475463867],\"y\":[11.124732971191406],\"type\":\"scatter\"},{\"marker\":{\"color\":\"yellow\",\"size\":5},\"mode\":\"markers\",\"name\":\"dama.n.01\",\"opacity\":0.4,\"x\":[6.737609386444092],\"y\":[6.230109691619873],\"type\":\"scatter\"},{\"marker\":{\"color\":\"yellow\",\"size\":5},\"mode\":\"markers\",\"name\":\"bradypus.n.01\",\"opacity\":0.4,\"x\":[19.906768798828125],\"y\":[-2.0373616218566895],\"type\":\"scatter\"},{\"marker\":{\"color\":\"yellow\",\"size\":5},\"mode\":\"markers\",\"name\":\"hylobates.n.01\",\"opacity\":0.4,\"x\":[7.402519226074219],\"y\":[10.480581283569336],\"type\":\"scatter\"},{\"marker\":{\"color\":\"yellow\",\"size\":5},\"mode\":\"markers\",\"name\":\"vespertilio.n.01\",\"opacity\":0.4,\"x\":[18.306283950805664],\"y\":[-25.205734252929688],\"type\":\"scatter\"},{\"marker\":{\"color\":\"yellow\",\"size\":5},\"mode\":\"markers\",\"name\":\"choeronycteris.n.01\",\"opacity\":0.4,\"x\":[14.202521324157715],\"y\":[-20.031295776367188],\"type\":\"scatter\"},{\"marker\":{\"color\":\"yellow\",\"size\":5},\"mode\":\"markers\",\"name\":\"paradoxurus.n.01\",\"opacity\":0.4,\"x\":[2.989703416824341],\"y\":[31.386865615844727],\"type\":\"scatter\"},{\"marker\":{\"color\":\"yellow\",\"size\":5},\"mode\":\"markers\",\"name\":\"ursus.n.01\",\"opacity\":0.4,\"x\":[16.058002471923828],\"y\":[-9.498588562011719],\"type\":\"scatter\"},{\"marker\":{\"color\":\"yellow\",\"size\":5},\"mode\":\"markers\",\"name\":\"potos.n.01\",\"opacity\":0.4,\"x\":[10.001523971557617],\"y\":[-30.614778518676758],\"type\":\"scatter\"},{\"marker\":{\"color\":\"yellow\",\"size\":5},\"mode\":\"markers\",\"name\":\"gulo.n.01\",\"opacity\":0.4,\"x\":[0.8355221748352051],\"y\":[-2.3187620639801025],\"type\":\"scatter\"},{\"marker\":{\"color\":\"yellow\",\"size\":5},\"mode\":\"markers\",\"name\":\"megaderma.n.01\",\"opacity\":0.4,\"x\":[15.639498710632324],\"y\":[-24.10561752319336],\"type\":\"scatter\"},{\"marker\":{\"color\":\"yellow\",\"size\":5},\"mode\":\"markers\",\"name\":\"micromyx.n.01\",\"opacity\":0.4,\"x\":[1.6042081117630005],\"y\":[13.618349075317383],\"type\":\"scatter\"},{\"marker\":{\"color\":\"yellow\",\"size\":5},\"mode\":\"markers\",\"name\":\"charronia.n.01\",\"opacity\":0.4,\"x\":[-14.633440971374512],\"y\":[-10.929326057434082],\"type\":\"scatter\"},{\"marker\":{\"color\":\"yellow\",\"size\":5},\"mode\":\"markers\",\"name\":\"erignathus.n.01\",\"opacity\":0.4,\"x\":[-21.708152770996094],\"y\":[-1.600061297416687],\"type\":\"scatter\"},{\"marker\":{\"color\":\"yellow\",\"size\":5},\"mode\":\"markers\",\"name\":\"sarcophilus.n.01\",\"opacity\":0.4,\"x\":[25.663240432739258],\"y\":[15.528386116027832],\"type\":\"scatter\"},{\"marker\":{\"color\":\"yellow\",\"size\":5},\"mode\":\"markers\",\"name\":\"ovis.n.01\",\"opacity\":0.4,\"x\":[10.220921516418457],\"y\":[5.215198516845703],\"type\":\"scatter\"},{\"marker\":{\"color\":\"yellow\",\"size\":5},\"mode\":\"markers\",\"name\":\"equus.n.01\",\"opacity\":0.4,\"x\":[3.9895882606506348],\"y\":[-1.2011497020721436],\"type\":\"scatter\"},{\"marker\":{\"color\":\"yellow\",\"size\":5},\"mode\":\"markers\",\"name\":\"eira.n.01\",\"opacity\":0.4,\"x\":[-13.194511413574219],\"y\":[-11.113178253173828],\"type\":\"scatter\"},{\"marker\":{\"color\":\"yellow\",\"size\":5},\"mode\":\"markers\",\"name\":\"balaenoptera.n.01\",\"opacity\":0.4,\"x\":[12.652549743652344],\"y\":[-9.901432991027832],\"type\":\"scatter\"},{\"marker\":{\"color\":\"yellow\",\"size\":5},\"mode\":\"markers\",\"name\":\"pitymys.n.01\",\"opacity\":0.4,\"x\":[-10.209528923034668],\"y\":[25.439382553100586],\"type\":\"scatter\"},{\"marker\":{\"color\":\"yellow\",\"size\":5},\"mode\":\"markers\",\"name\":\"alouatta.n.01\",\"opacity\":0.4,\"x\":[12.015881538391113],\"y\":[-5.793649196624756],\"type\":\"scatter\"},{\"marker\":{\"color\":\"yellow\",\"size\":5},\"mode\":\"markers\",\"name\":\"otaria.n.01\",\"opacity\":0.4,\"x\":[-22.16743278503418],\"y\":[-6.446188449859619],\"type\":\"scatter\"},{\"marker\":{\"color\":\"yellow\",\"size\":5},\"mode\":\"markers\",\"name\":\"odobenus.n.01\",\"opacity\":0.4,\"x\":[-20.038105010986328],\"y\":[-2.3464603424072266],\"type\":\"scatter\"},{\"marker\":{\"color\":\"yellow\",\"size\":5},\"mode\":\"markers\",\"name\":\"ammotragus.n.01\",\"opacity\":0.4,\"x\":[10.175751686096191],\"y\":[5.773839473724365],\"type\":\"scatter\"},{\"marker\":{\"color\":\"yellow\",\"size\":5},\"mode\":\"markers\",\"name\":\"cebuella.n.01\",\"opacity\":0.4,\"x\":[31.211748123168945],\"y\":[-2.0976295471191406],\"type\":\"scatter\"},{\"marker\":{\"color\":\"yellow\",\"size\":5},\"mode\":\"markers\",\"name\":\"arvicola.n.01\",\"opacity\":0.4,\"x\":[-10.84604263305664],\"y\":[25.48531150817871],\"type\":\"scatter\"},{\"marker\":{\"color\":\"yellow\",\"size\":5},\"mode\":\"markers\",\"name\":\"megaptera.n.01\",\"opacity\":0.4,\"x\":[12.61650276184082],\"y\":[-9.858683586120605],\"type\":\"scatter\"},{\"marker\":{\"color\":\"yellow\",\"size\":5},\"mode\":\"markers\",\"name\":\"aplodontia.n.01\",\"opacity\":0.4,\"x\":[-6.465904235839844],\"y\":[19.457443237304688],\"type\":\"scatter\"},{\"marker\":{\"color\":\"yellow\",\"size\":5},\"mode\":\"markers\",\"name\":\"diphylla.n.01\",\"opacity\":0.4,\"x\":[16.86688232421875],\"y\":[-24.66330337524414],\"type\":\"scatter\"},{\"marker\":{\"color\":\"yellow\",\"size\":5},\"mode\":\"markers\",\"name\":\"delphinapterus.n.01\",\"opacity\":0.4,\"x\":[36.08379364013672],\"y\":[105.80908203125],\"type\":\"scatter\"},{\"marker\":{\"color\":\"yellow\",\"size\":5},\"mode\":\"markers\",\"name\":\"antrozous.n.01\",\"opacity\":0.4,\"x\":[18.405986785888672],\"y\":[-25.721765518188477],\"type\":\"scatter\"},{\"marker\":{\"color\":\"yellow\",\"size\":5},\"mode\":\"markers\",\"name\":\"sorex.n.01\",\"opacity\":0.4,\"x\":[-17.04555320739746],\"y\":[16.303361892700195],\"type\":\"scatter\"},{\"marker\":{\"color\":\"yellow\",\"size\":5},\"mode\":\"markers\",\"name\":\"tachyglossus.n.01\",\"opacity\":0.4,\"x\":[17.20749282836914],\"y\":[1.340040683746338],\"type\":\"scatter\"},{\"marker\":{\"color\":\"yellow\",\"size\":5},\"mode\":\"markers\",\"name\":\"myocastor.n.01\",\"opacity\":0.4,\"x\":[-4.06759786605835],\"y\":[8.611661911010742],\"type\":\"scatter\"},{\"marker\":{\"color\":\"yellow\",\"size\":5},\"mode\":\"markers\",\"name\":\"pipistrellus.n.01\",\"opacity\":0.4,\"x\":[18.487409591674805],\"y\":[-24.717966079711914],\"type\":\"scatter\"},{\"marker\":{\"color\":\"yellow\",\"size\":5},\"mode\":\"markers\",\"name\":\"bibos.n.01\",\"opacity\":0.4,\"x\":[13.027350425720215],\"y\":[6.097756862640381],\"type\":\"scatter\"},{\"marker\":{\"color\":\"yellow\",\"size\":5},\"mode\":\"markers\",\"name\":\"petaurista.n.01\",\"opacity\":0.4,\"x\":[-4.019188404083252],\"y\":[16.854557037353516],\"type\":\"scatter\"},{\"marker\":{\"color\":\"yellow\",\"size\":5},\"mode\":\"markers\",\"name\":\"euarctos.n.01\",\"opacity\":0.4,\"x\":[18.30253028869629],\"y\":[-11.059422492980957],\"type\":\"scatter\"},{\"marker\":{\"color\":\"yellow\",\"size\":5},\"mode\":\"markers\",\"name\":\"viverra.n.01\",\"opacity\":0.4,\"x\":[2.9630444049835205],\"y\":[30.627586364746094],\"type\":\"scatter\"},{\"marker\":{\"color\":\"yellow\",\"size\":5},\"mode\":\"markers\",\"name\":\"rupicapra.n.01\",\"opacity\":0.4,\"x\":[16.04229164123535],\"y\":[6.446662425994873],\"type\":\"scatter\"},{\"marker\":{\"color\":\"yellow\",\"size\":5},\"mode\":\"markers\",\"name\":\"spilogale.n.01\",\"opacity\":0.4,\"x\":[-14.01116943359375],\"y\":[-12.71532917022705],\"type\":\"scatter\"},{\"marker\":{\"color\":\"yellow\",\"size\":5},\"mode\":\"markers\",\"name\":\"enhydra.n.01\",\"opacity\":0.4,\"x\":[-14.820820808410645],\"y\":[-11.240675926208496],\"type\":\"scatter\"},{\"marker\":{\"color\":\"yellow\",\"size\":5},\"mode\":\"markers\",\"name\":\"meriones.n.01\",\"opacity\":0.4,\"x\":[-9.79384994506836],\"y\":[23.006454467773438],\"type\":\"scatter\"},{\"marker\":{\"color\":\"yellow\",\"size\":5},\"mode\":\"markers\",\"name\":\"neotoma.n.01\",\"opacity\":0.4,\"x\":[-8.829235076904297],\"y\":[21.276933670043945],\"type\":\"scatter\"},{\"marker\":{\"color\":\"yellow\",\"size\":5},\"mode\":\"markers\",\"name\":\"draw.v.23\",\"opacity\":0.4,\"x\":[7.4073357582092285],\"y\":[10.48042106628418],\"type\":\"scatter\"},{\"marker\":{\"color\":\"yellow\",\"size\":5},\"mode\":\"markers\",\"name\":\"thomomys.n.01\",\"opacity\":0.4,\"x\":[1.4484686851501465],\"y\":[19.108854293823242],\"type\":\"scatter\"},{\"marker\":{\"color\":\"yellow\",\"size\":5},\"mode\":\"markers\",\"name\":\"neomys.n.01\",\"opacity\":0.4,\"x\":[-17.045757293701172],\"y\":[16.30425453186035],\"type\":\"scatter\"},{\"marker\":{\"color\":\"yellow\",\"size\":5},\"mode\":\"markers\",\"name\":\"cercopithecus.n.01\",\"opacity\":0.4,\"x\":[11.777022361755371],\"y\":[15.041032791137695],\"type\":\"scatter\"},{\"marker\":{\"color\":\"yellow\",\"size\":5},\"mode\":\"markers\",\"name\":\"erethizon.n.01\",\"opacity\":0.4,\"x\":[-5.5079193115234375],\"y\":[8.314983367919922],\"type\":\"scatter\"},{\"marker\":{\"color\":\"yellow\",\"size\":5},\"mode\":\"markers\",\"name\":\"zapus.n.01\",\"opacity\":0.4,\"x\":[1.4818239212036133],\"y\":[-1.4404200315475464],\"type\":\"scatter\"},{\"marker\":{\"color\":\"yellow\",\"size\":5},\"mode\":\"markers\",\"name\":\"tursiops.n.01\",\"opacity\":0.4,\"x\":[24.699235916137695],\"y\":[-3.05897855758667],\"type\":\"scatter\"},{\"marker\":{\"color\":\"yellow\",\"size\":5},\"mode\":\"markers\",\"name\":\"mustela.n.01\",\"opacity\":0.4,\"x\":[-13.721657752990723],\"y\":[-10.626644134521484],\"type\":\"scatter\"},{\"marker\":{\"color\":\"yellow\",\"size\":5},\"mode\":\"markers\",\"name\":\"geomys.n.01\",\"opacity\":0.4,\"x\":[1.4483221769332886],\"y\":[19.10951805114746],\"type\":\"scatter\"},{\"marker\":{\"color\":\"yellow\",\"size\":5},\"mode\":\"markers\",\"name\":\"sus.n.01\",\"opacity\":0.4,\"x\":[5.1770710945129395],\"y\":[1.3457210063934326],\"type\":\"scatter\"},{\"marker\":{\"color\":\"yellow\",\"size\":5},\"mode\":\"markers\",\"name\":\"ailuropoda.n.01\",\"opacity\":0.4,\"x\":[9.78390121459961],\"y\":[-30.211233139038086],\"type\":\"scatter\"},{\"marker\":{\"color\":\"yellow\",\"size\":5},\"mode\":\"markers\",\"name\":\"notoryctus.n.01\",\"opacity\":0.4,\"x\":[20.947158813476562],\"y\":[2.2896807193756104],\"type\":\"scatter\"},{\"marker\":{\"color\":\"yellow\",\"size\":5},\"mode\":\"markers\",\"name\":\"giraffa.n.01\",\"opacity\":0.4,\"x\":[-14.877567291259766],\"y\":[9.36899185180664],\"type\":\"scatter\"},{\"marker\":{\"color\":\"yellow\",\"size\":5},\"mode\":\"markers\",\"name\":\"dasyprocta.n.01\",\"opacity\":0.4,\"x\":[-5.679679870605469],\"y\":[10.905881881713867],\"type\":\"scatter\"},{\"marker\":{\"color\":\"yellow\",\"size\":5},\"mode\":\"markers\",\"name\":\"arctocebus.n.01\",\"opacity\":0.4,\"x\":[0.06212820112705231],\"y\":[10.131172180175781],\"type\":\"scatter\"},{\"marker\":{\"color\":\"yellow\",\"size\":5},\"mode\":\"markers\",\"name\":\"myrmecobius.n.01\",\"opacity\":0.4,\"x\":[25.204387664794922],\"y\":[15.74244499206543],\"type\":\"scatter\"},{\"marker\":{\"color\":\"yellow\",\"size\":5},\"mode\":\"markers\",\"name\":\"microtus.n.01\",\"opacity\":0.4,\"x\":[-10.081805229187012],\"y\":[25.86355972290039],\"type\":\"scatter\"},{\"marker\":{\"color\":\"yellow\",\"size\":5},\"mode\":\"markers\",\"name\":\"myopus.n.01\",\"opacity\":0.4,\"x\":[-8.96000862121582],\"y\":[23.439586639404297],\"type\":\"scatter\"},{\"marker\":{\"color\":\"yellow\",\"size\":5},\"mode\":\"markers\",\"name\":\"genus_galago.n.01\",\"opacity\":0.4,\"x\":[0.06317584216594696],\"y\":[10.130070686340332],\"type\":\"scatter\"},{\"marker\":{\"color\":\"yellow\",\"size\":5},\"mode\":\"markers\",\"name\":\"neurotrichus.n.01\",\"opacity\":0.4,\"x\":[-13.430159568786621],\"y\":[6.387636184692383],\"type\":\"scatter\"},{\"marker\":{\"color\":\"yellow\",\"size\":5},\"mode\":\"markers\",\"name\":\"pongo.n.01\",\"opacity\":0.4,\"x\":[9.927878379821777],\"y\":[11.078569412231445],\"type\":\"scatter\"},{\"marker\":{\"color\":\"yellow\",\"size\":5},\"mode\":\"markers\",\"name\":\"synercus.n.01\",\"opacity\":0.4,\"x\":[14.133573532104492],\"y\":[8.599823951721191],\"type\":\"scatter\"},{\"marker\":{\"color\":\"yellow\",\"size\":5},\"mode\":\"markers\",\"name\":\"genus_australopithecus.n.01\",\"opacity\":0.4,\"x\":[4.941374778747559],\"y\":[-2.1916205883026123],\"type\":\"scatter\"},{\"marker\":{\"color\":\"yellow\",\"size\":5},\"mode\":\"markers\",\"name\":\"mellivora.n.01\",\"opacity\":0.4,\"x\":[-4.940814971923828],\"y\":[-5.295001983642578],\"type\":\"scatter\"},{\"marker\":{\"color\":\"yellow\",\"size\":5},\"mode\":\"markers\",\"name\":\"gazella.n.01\",\"opacity\":0.4,\"x\":[13.921758651733398],\"y\":[0.31469810009002686],\"type\":\"scatter\"},{\"marker\":{\"color\":\"yellow\",\"size\":5},\"mode\":\"markers\",\"name\":\"physeter.n.01\",\"opacity\":0.4,\"x\":[22.95638656616211],\"y\":[-6.594526290893555],\"type\":\"scatter\"},{\"marker\":{\"color\":\"yellow\",\"size\":5},\"mode\":\"markers\",\"name\":\"crocuta.n.01\",\"opacity\":0.4,\"x\":[15.24329948425293],\"y\":[12.653403282165527],\"type\":\"scatter\"},{\"marker\":{\"color\":\"yellow\",\"size\":5},\"mode\":\"markers\",\"name\":\"genus_lemur.n.01\",\"opacity\":0.4,\"x\":[3.053203821182251],\"y\":[-0.5895282030105591],\"type\":\"scatter\"},{\"marker\":{\"color\":\"yellow\",\"size\":5},\"mode\":\"markers\",\"name\":\"arctictis.n.01\",\"opacity\":0.4,\"x\":[3.3560311794281006],\"y\":[30.795602798461914],\"type\":\"scatter\"},{\"marker\":{\"color\":\"yellow\",\"size\":5},\"mode\":\"markers\",\"name\":\"myrmecophaga.n.01\",\"opacity\":0.4,\"x\":[20.75010871887207],\"y\":[6.3691887855529785],\"type\":\"scatter\"},{\"marker\":{\"color\":\"yellow\",\"size\":5},\"mode\":\"markers\",\"name\":\"hyracotherium.n.01\",\"opacity\":0.4,\"x\":[4.281111240386963],\"y\":[1.9761208295822144],\"type\":\"scatter\"},{\"marker\":{\"color\":\"yellow\",\"size\":5},\"mode\":\"markers\",\"name\":\"genus_gorilla.n.01\",\"opacity\":0.4,\"x\":[9.91873550415039],\"y\":[11.072385787963867],\"type\":\"scatter\"},{\"marker\":{\"color\":\"yellow\",\"size\":5},\"mode\":\"markers\",\"name\":\"euphractus.n.01\",\"opacity\":0.4,\"x\":[26.114002227783203],\"y\":[5.372979640960693],\"type\":\"scatter\"},{\"marker\":{\"color\":\"yellow\",\"size\":5},\"mode\":\"markers\",\"name\":\"eumetopias.n.01\",\"opacity\":0.4,\"x\":[-22.167953491210938],\"y\":[-6.445854663848877],\"type\":\"scatter\"},{\"marker\":{\"color\":\"yellow\",\"size\":5},\"mode\":\"markers\",\"name\":\"cebus.n.01\",\"opacity\":0.4,\"x\":[30.66774559020996],\"y\":[-1.2957160472869873],\"type\":\"scatter\"},{\"marker\":{\"color\":\"yellow\",\"size\":5},\"mode\":\"markers\",\"name\":\"taurotragus.n.01\",\"opacity\":0.4,\"x\":[14.730740547180176],\"y\":[6.684980392456055],\"type\":\"scatter\"},{\"marker\":{\"color\":\"yellow\",\"size\":5},\"mode\":\"markers\",\"name\":\"sigmodon.n.01\",\"opacity\":0.4,\"x\":[-10.161662101745605],\"y\":[23.42948341369629],\"type\":\"scatter\"},{\"marker\":{\"color\":\"yellow\",\"size\":5},\"mode\":\"markers\",\"name\":\"apodemus.n.01\",\"opacity\":0.4,\"x\":[1.6121163368225098],\"y\":[13.609928131103516],\"type\":\"scatter\"},{\"marker\":{\"color\":\"yellow\",\"size\":5},\"mode\":\"markers\",\"name\":\"erythrocebus.n.01\",\"opacity\":0.4,\"x\":[11.77617073059082],\"y\":[15.0447998046875],\"type\":\"scatter\"},{\"marker\":{\"color\":\"yellow\",\"size\":5},\"mode\":\"markers\",\"name\":\"antilocapra.n.01\",\"opacity\":0.4,\"x\":[6.369503021240234],\"y\":[0.4425264596939087],\"type\":\"scatter\"},{\"marker\":{\"color\":\"yellow\",\"size\":5},\"mode\":\"markers\",\"name\":\"delphinus.n.02\",\"opacity\":0.4,\"x\":[24.695642471313477],\"y\":[-3.0648672580718994],\"type\":\"scatter\"},{\"marker\":{\"color\":\"yellow\",\"size\":5},\"mode\":\"markers\",\"name\":\"pseudoryx.n.01\",\"opacity\":0.4,\"x\":[15.375749588012695],\"y\":[7.0721306800842285],\"type\":\"scatter\"},{\"marker\":{\"color\":\"yellow\",\"size\":5},\"mode\":\"markers\",\"name\":\"mesocricetus.n.01\",\"opacity\":0.4,\"x\":[-9.580222129821777],\"y\":[23.955490112304688],\"type\":\"scatter\"},{\"marker\":{\"color\":\"yellow\",\"size\":5},\"mode\":\"markers\",\"name\":\"selenarctos.n.01\",\"opacity\":0.4,\"x\":[18.177898406982422],\"y\":[-11.030862808227539],\"type\":\"scatter\"},{\"marker\":{\"color\":\"yellow\",\"size\":5},\"mode\":\"markers\",\"name\":\"meles.n.01\",\"opacity\":0.4,\"x\":[-15.273723602294922],\"y\":[-10.937810897827148],\"type\":\"scatter\"},{\"marker\":{\"color\":\"yellow\",\"size\":5},\"mode\":\"markers\",\"name\":\"thalarctos.n.01\",\"opacity\":0.4,\"x\":[18.23345375061035],\"y\":[-11.038558006286621],\"type\":\"scatter\"},{\"marker\":{\"color\":\"yellow\",\"size\":5},\"mode\":\"markers\",\"name\":\"capreolus.n.01\",\"opacity\":0.4,\"x\":[5.731752872467041],\"y\":[6.63734769821167],\"type\":\"scatter\"},{\"marker\":{\"color\":\"yellow\",\"size\":5},\"mode\":\"markers\",\"name\":\"megatherium.n.01\",\"opacity\":0.4,\"x\":[8.329675674438477],\"y\":[-1.6178913116455078],\"type\":\"scatter\"},{\"marker\":{\"color\":\"yellow\",\"size\":5},\"mode\":\"markers\",\"name\":\"nasua.n.01\",\"opacity\":0.4,\"x\":[9.786174774169922],\"y\":[-31.002695083618164],\"type\":\"scatter\"},{\"marker\":{\"color\":\"yellow\",\"size\":5},\"mode\":\"markers\",\"name\":\"proteles.n.01\",\"opacity\":0.4,\"x\":[15.241737365722656],\"y\":[12.653141975402832],\"type\":\"scatter\"},{\"marker\":{\"color\":\"yellow\",\"size\":5},\"mode\":\"markers\",\"name\":\"odocoileus.n.01\",\"opacity\":0.4,\"x\":[5.63120698928833],\"y\":[3.604037046432495],\"type\":\"scatter\"},{\"marker\":{\"color\":\"yellow\",\"size\":5},\"mode\":\"markers\",\"name\":\"monodon.n.01\",\"opacity\":0.4,\"x\":[11.888703346252441],\"y\":[-9.112318992614746],\"type\":\"scatter\"},{\"marker\":{\"color\":\"yellow\",\"size\":5},\"mode\":\"markers\",\"name\":\"orcinus.n.01\",\"opacity\":0.4,\"x\":[24.696735382080078],\"y\":[-3.063408851623535],\"type\":\"scatter\"},{\"marker\":{\"color\":\"yellow\",\"size\":5},\"mode\":\"markers\",\"name\":\"bubalus.n.01\",\"opacity\":0.4,\"x\":[14.318467140197754],\"y\":[8.543290138244629],\"type\":\"scatter\"},{\"marker\":{\"color\":\"yellow\",\"size\":5},\"mode\":\"markers\",\"name\":\"genetta.n.01\",\"opacity\":0.4,\"x\":[2.727415084838867],\"y\":[30.636669158935547],\"type\":\"scatter\"},{\"marker\":{\"color\":\"yellow\",\"size\":5},\"mode\":\"markers\",\"name\":\"chlamyphorus.n.01\",\"opacity\":0.4,\"x\":[26.10451889038086],\"y\":[5.434996604919434],\"type\":\"scatter\"},{\"marker\":{\"color\":\"yellow\",\"size\":5},\"mode\":\"markers\",\"name\":\"kogia.n.01\",\"opacity\":0.4,\"x\":[22.956384658813477],\"y\":[-6.594446659088135],\"type\":\"scatter\"},{\"marker\":{\"color\":\"yellow\",\"size\":5},\"mode\":\"markers\",\"name\":\"genus_cabassous.n.01\",\"opacity\":0.4,\"x\":[-82.15535736083984],\"y\":[67.52310180664062],\"type\":\"scatter\"},{\"marker\":{\"color\":\"yellow\",\"size\":5},\"mode\":\"markers\",\"name\":\"phascogale.n.01\",\"opacity\":0.4,\"x\":[25.31009292602539],\"y\":[15.327810287475586],\"type\":\"scatter\"},{\"marker\":{\"color\":\"yellow\",\"size\":5},\"mode\":\"markers\",\"name\":\"avahi.n.01\",\"opacity\":0.4,\"x\":[16.23579216003418],\"y\":[-3.1978726387023926],\"type\":\"scatter\"},{\"marker\":{\"color\":\"yellow\",\"size\":5},\"mode\":\"markers\",\"name\":\"ondatra.n.01\",\"opacity\":0.4,\"x\":[-8.345968246459961],\"y\":[22.070255279541016],\"type\":\"scatter\"},{\"marker\":{\"color\":\"yellow\",\"size\":5},\"mode\":\"markers\",\"name\":\"lagostomus.n.01\",\"opacity\":0.4,\"x\":[-6.625895977020264],\"y\":[11.45517349243164],\"type\":\"scatter\"},{\"marker\":{\"color\":\"yellow\",\"size\":5},\"mode\":\"markers\",\"name\":\"presbytes.n.01\",\"opacity\":0.4,\"x\":[11.777793884277344],\"y\":[15.038877487182617],\"type\":\"scatter\"},{\"marker\":{\"color\":\"yellow\",\"size\":5},\"mode\":\"markers\",\"name\":\"genus_homo.n.01\",\"opacity\":0.4,\"x\":[1.6874860525131226],\"y\":[-1.1245002746582031],\"type\":\"scatter\"},{\"marker\":{\"color\":\"yellow\",\"size\":5},\"mode\":\"markers\",\"name\":\"martes.n.01\",\"opacity\":0.4,\"x\":[-10.694356918334961],\"y\":[-10.632611274719238],\"type\":\"scatter\"},{\"marker\":{\"color\":\"yellow\",\"size\":5},\"mode\":\"markers\",\"name\":\"trichys.n.01\",\"opacity\":0.4,\"x\":[-6.735616207122803],\"y\":[8.515734672546387],\"type\":\"scatter\"},{\"marker\":{\"color\":\"yellow\",\"size\":5},\"mode\":\"markers\",\"name\":\"procavia.n.01\",\"opacity\":0.4,\"x\":[7.003896713256836],\"y\":[-2.071357011795044],\"type\":\"scatter\"},{\"marker\":{\"color\":\"yellow\",\"size\":5},\"mode\":\"markers\",\"name\":\"melursus.n.01\",\"opacity\":0.4,\"x\":[18.208322525024414],\"y\":[-11.020940780639648],\"type\":\"scatter\"},{\"marker\":{\"color\":\"yellow\",\"size\":5},\"mode\":\"markers\",\"name\":\"cystophora.n.01\",\"opacity\":0.4,\"x\":[-22.354541778564453],\"y\":[-1.6798361539840698],\"type\":\"scatter\"},{\"marker\":{\"color\":\"yellow\",\"size\":5},\"mode\":\"markers\",\"name\":\"peromyscus.n.01\",\"opacity\":0.4,\"x\":[-10.099984169006348],\"y\":[23.94164276123047],\"type\":\"scatter\"},{\"marker\":{\"color\":\"yellow\",\"size\":5},\"mode\":\"markers\",\"name\":\"naemorhedus.n.01\",\"opacity\":0.4,\"x\":[14.675596237182617],\"y\":[7.455101490020752],\"type\":\"scatter\"},{\"marker\":{\"color\":\"yellow\",\"size\":5},\"mode\":\"markers\",\"name\":\"bassariscus.n.01\",\"opacity\":0.4,\"x\":[10.308361053466797],\"y\":[-30.63134002685547],\"type\":\"scatter\"},{\"marker\":{\"color\":\"yellow\",\"size\":5},\"mode\":\"markers\",\"name\":\"mus.n.01\",\"opacity\":0.4,\"x\":[1.60458505153656],\"y\":[13.618536949157715],\"type\":\"scatter\"},{\"marker\":{\"color\":\"yellow\",\"size\":5},\"mode\":\"markers\",\"name\":\"callicebus.n.01\",\"opacity\":0.4,\"x\":[30.897520065307617],\"y\":[-0.9924441576004028],\"type\":\"scatter\"},{\"marker\":{\"color\":\"yellow\",\"size\":5},\"mode\":\"markers\",\"name\":\"dryopithecus.n.01\",\"opacity\":0.4,\"x\":[5.680303573608398],\"y\":[-2.2077462673187256],\"type\":\"scatter\"},{\"marker\":{\"color\":\"yellow\",\"size\":5},\"mode\":\"markers\",\"name\":\"vicugna.n.01\",\"opacity\":0.4,\"x\":[14.977946281433105],\"y\":[-6.432359218597412],\"type\":\"scatter\"},{\"marker\":{\"color\":\"yellow\",\"size\":5},\"mode\":\"markers\",\"name\":\"daubentonia.n.01\",\"opacity\":0.4,\"x\":[16.646652221679688],\"y\":[-3.185124158859253],\"type\":\"scatter\"},{\"marker\":{\"color\":\"yellow\",\"size\":5},\"mode\":\"markers\",\"name\":\"okapia.n.01\",\"opacity\":0.4,\"x\":[-14.877728462219238],\"y\":[9.368497848510742],\"type\":\"scatter\"},{\"marker\":{\"color\":\"yellow\",\"size\":5},\"mode\":\"markers\",\"name\":\"lepus.n.02\",\"opacity\":0.4,\"x\":[4.07218599319458],\"y\":[4.823126316070557],\"type\":\"scatter\"},{\"marker\":{\"color\":\"yellow\",\"size\":5},\"mode\":\"markers\",\"name\":\"eschrichtius.n.01\",\"opacity\":0.4,\"x\":[13.242629051208496],\"y\":[-9.875584602355957],\"type\":\"scatter\"},{\"marker\":{\"color\":\"yellow\",\"size\":5},\"mode\":\"markers\",\"name\":\"sylvilagus.n.01\",\"opacity\":0.4,\"x\":[4.108584880828857],\"y\":[4.792337417602539],\"type\":\"scatter\"},{\"marker\":{\"color\":\"yellow\",\"size\":5},\"mode\":\"markers\",\"name\":\"liomys.n.01\",\"opacity\":0.4,\"x\":[-0.66161048412323],\"y\":[22.74323844909668],\"type\":\"scatter\"},{\"marker\":{\"color\":\"yellow\",\"size\":5},\"mode\":\"markers\",\"name\":\"arctonyx.n.01\",\"opacity\":0.4,\"x\":[9.626246452331543],\"y\":[-5.574488639831543],\"type\":\"scatter\"},{\"marker\":{\"color\":\"yellow\",\"size\":5},\"mode\":\"markers\",\"name\":\"onychogalea.n.01\",\"opacity\":0.4,\"x\":[32.184410095214844],\"y\":[9.652312278747559],\"type\":\"scatter\"},{\"marker\":{\"color\":\"yellow\",\"size\":5},\"mode\":\"markers\",\"name\":\"macrotis.n.01\",\"opacity\":0.4,\"x\":[20.408998489379883],\"y\":[2.649956703186035],\"type\":\"scatter\"},{\"marker\":{\"color\":\"yellow\",\"size\":5},\"mode\":\"markers\",\"name\":\"nyctereutes.n.01\",\"opacity\":0.4,\"x\":[11.042511940002441],\"y\":[2.4742982387542725],\"type\":\"scatter\"},{\"marker\":{\"color\":\"yellow\",\"size\":5},\"mode\":\"markers\",\"name\":\"procyon.n.02\",\"opacity\":0.4,\"x\":[9.757491111755371],\"y\":[-29.6570987701416],\"type\":\"scatter\"},{\"marker\":{\"color\":\"yellow\",\"size\":5},\"mode\":\"markers\",\"name\":\"lemmus.n.01\",\"opacity\":0.4,\"x\":[-9.012166976928711],\"y\":[24.218154907226562],\"type\":\"scatter\"},{\"marker\":{\"color\":\"yellow\",\"size\":5},\"mode\":\"markers\",\"name\":\"sciurus.n.01\",\"opacity\":0.4,\"x\":[-4.502189636230469],\"y\":[15.964242935180664],\"type\":\"scatter\"},{\"marker\":{\"color\":\"yellow\",\"size\":5},\"mode\":\"markers\",\"name\":\"suricata.n.01\",\"opacity\":0.4,\"x\":[3.746678113937378],\"y\":[30.220317840576172],\"type\":\"scatter\"},{\"marker\":{\"color\":\"yellow\",\"size\":5},\"mode\":\"markers\",\"name\":\"boselaphus.n.01\",\"opacity\":0.4,\"x\":[13.123750686645508],\"y\":[-0.7645789980888367],\"type\":\"scatter\"},{\"marker\":{\"color\":\"yellow\",\"size\":5},\"mode\":\"markers\",\"name\":\"rangifer.n.01\",\"opacity\":0.4,\"x\":[6.399811267852783],\"y\":[5.229649066925049],\"type\":\"scatter\"},{\"marker\":{\"color\":\"yellow\",\"size\":5},\"mode\":\"markers\",\"name\":\"cervus.n.01\",\"opacity\":0.4,\"x\":[6.923879623413086],\"y\":[7.207372665405273],\"type\":\"scatter\"},{\"marker\":{\"color\":\"yellow\",\"size\":5},\"mode\":\"markers\",\"name\":\"rhinonicteris.n.01\",\"opacity\":0.4,\"x\":[0.9539203643798828],\"y\":[-8.71695613861084],\"type\":\"scatter\"},{\"marker\":{\"color\":\"yellow\",\"size\":5},\"mode\":\"markers\",\"name\":\"castigate.v.02\",\"opacity\":0.4,\"x\":[16.1386775970459],\"y\":[-3.1993985176086426],\"type\":\"scatter\"},{\"marker\":{\"color\":\"yellow\",\"size\":5},\"mode\":\"markers\",\"name\":\"nyctimene.n.01\",\"opacity\":0.4,\"x\":[4.701727867126465],\"y\":[-5.2356133460998535],\"type\":\"scatter\"},{\"marker\":{\"color\":\"yellow\",\"size\":5},\"mode\":\"markers\",\"name\":\"orycteropus.n.01\",\"opacity\":0.4,\"x\":[-1.8618007898330688],\"y\":[-3.3809330463409424],\"type\":\"scatter\"},{\"marker\":{\"color\":\"yellow\",\"size\":5},\"mode\":\"markers\",\"name\":\"genus_bison.n.01\",\"opacity\":0.4,\"x\":[11.779653549194336],\"y\":[5.05308198928833],\"type\":\"scatter\"},{\"marker\":{\"color\":\"yellow\",\"size\":5},\"mode\":\"markers\",\"name\":\"ptilocercus.n.01\",\"opacity\":0.4,\"x\":[6.074464321136475],\"y\":[-3.2583649158477783],\"type\":\"scatter\"},{\"marker\":{\"color\":\"yellow\",\"size\":5},\"mode\":\"markers\",\"name\":\"tayassu.n.01\",\"opacity\":0.4,\"x\":[5.320541858673096],\"y\":[-0.3552047312259674],\"type\":\"scatter\"},{\"marker\":{\"color\":\"yellow\",\"size\":5},\"mode\":\"markers\",\"name\":\"alopex.n.01\",\"opacity\":0.4,\"x\":[11.965265274047852],\"y\":[2.3618717193603516],\"type\":\"scatter\"},{\"marker\":{\"color\":\"yellow\",\"size\":5},\"mode\":\"markers\",\"name\":\"ictonyx.n.01\",\"opacity\":0.4,\"x\":[-14.591360092163086],\"y\":[-10.636770248413086],\"type\":\"scatter\"},{\"marker\":{\"color\":\"yellow\",\"size\":5},\"mode\":\"markers\",\"name\":\"erinaceus.n.01\",\"opacity\":0.4,\"x\":[-4.284521579742432],\"y\":[7.758816242218018],\"type\":\"scatter\"},{\"marker\":{\"color\":\"yellow\",\"size\":5},\"mode\":\"markers\",\"name\":\"clethrionomys.n.01\",\"opacity\":0.4,\"x\":[-8.773072242736816],\"y\":[24.467113494873047],\"type\":\"scatter\"},{\"marker\":{\"color\":\"yellow\",\"size\":5},\"mode\":\"markers\",\"name\":\"hyperoodon.n.01\",\"opacity\":0.4,\"x\":[10.448775291442871],\"y\":[-7.847925662994385],\"type\":\"scatter\"},{\"marker\":{\"color\":\"yellow\",\"size\":5},\"mode\":\"markers\",\"name\":\"hemigalus.n.01\",\"opacity\":0.4,\"x\":[2.618798017501831],\"y\":[31.13233757019043],\"type\":\"scatter\"},{\"marker\":{\"color\":\"yellow\",\"size\":5},\"mode\":\"markers\",\"name\":\"bettongia.n.01\",\"opacity\":0.4,\"x\":[31.803194046020508],\"y\":[10.689635276794434],\"type\":\"scatter\"},{\"marker\":{\"color\":\"yellow\",\"size\":5},\"mode\":\"markers\",\"name\":\"genus_grison.n.01\",\"opacity\":0.4,\"x\":[-13.470520973205566],\"y\":[-9.740425109863281],\"type\":\"scatter\"},{\"marker\":{\"color\":\"yellow\",\"size\":5},\"mode\":\"markers\",\"name\":\"leontocebus.n.01\",\"opacity\":0.4,\"x\":[31.28158187866211],\"y\":[-2.449970245361328],\"type\":\"scatter\"},{\"marker\":{\"color\":\"yellow\",\"size\":5},\"mode\":\"markers\",\"name\":\"hydrodamalis.n.01\",\"opacity\":0.4,\"x\":[-8.807558059692383],\"y\":[2.5744147300720215],\"type\":\"scatter\"},{\"marker\":{\"color\":\"yellow\",\"size\":5},\"mode\":\"markers\",\"name\":\"hyemoschus.n.01\",\"opacity\":0.4,\"x\":[13.096637725830078],\"y\":[-3.3670501708984375],\"type\":\"scatter\"},{\"marker\":{\"color\":\"yellow\",\"size\":5},\"mode\":\"markers\",\"name\":\"vulpes.n.01\",\"opacity\":0.4,\"x\":[11.943014144897461],\"y\":[2.3627843856811523],\"type\":\"scatter\"},{\"marker\":{\"color\":\"yellow\",\"size\":5},\"mode\":\"markers\",\"name\":\"tragulus.n.01\",\"opacity\":0.4,\"x\":[13.096545219421387],\"y\":[-3.367022752761841],\"type\":\"scatter\"},{\"marker\":{\"color\":\"yellow\",\"size\":5},\"mode\":\"markers\",\"name\":\"alces.n.01\",\"opacity\":0.4,\"x\":[7.52366828918457],\"y\":[6.0453782081604],\"type\":\"scatter\"},{\"marker\":{\"color\":\"yellow\",\"size\":5},\"mode\":\"markers\",\"name\":\"eptesicus.n.01\",\"opacity\":0.4,\"x\":[18.79920196533203],\"y\":[-25.257526397705078],\"type\":\"scatter\"},{\"marker\":{\"color\":\"yellow\",\"size\":5},\"mode\":\"markers\",\"name\":\"ochotona.n.01\",\"opacity\":0.4,\"x\":[3.63904070854187],\"y\":[5.448819160461426],\"type\":\"scatter\"},{\"marker\":{\"color\":\"yellow\",\"size\":5},\"mode\":\"markers\",\"name\":\"dolichotis.n.01\",\"opacity\":0.4,\"x\":[-7.454711437225342],\"y\":[12.088979721069336],\"type\":\"scatter\"},{\"marker\":{\"color\":\"yellow\",\"size\":5},\"mode\":\"markers\",\"name\":\"aotus.n.01\",\"opacity\":0.4,\"x\":[31.254728317260742],\"y\":[-1.2562698125839233],\"type\":\"scatter\"},{\"marker\":{\"color\":\"yellow\",\"size\":5},\"mode\":\"markers\",\"name\":\"connochaetes.n.01\",\"opacity\":0.4,\"x\":[12.770564079284668],\"y\":[7.22627067565918],\"type\":\"scatter\"},{\"marker\":{\"color\":\"yellow\",\"size\":5},\"mode\":\"markers\",\"name\":\"lasiurus.n.01\",\"opacity\":0.4,\"x\":[18.503101348876953],\"y\":[-25.092390060424805],\"type\":\"scatter\"},{\"marker\":{\"color\":\"yellow\",\"size\":5},\"mode\":\"markers\",\"name\":\"hippotragus.n.01\",\"opacity\":0.4,\"x\":[15.543021202087402],\"y\":[8.123534202575684],\"type\":\"scatter\"},{\"marker\":{\"color\":\"yellow\",\"size\":5},\"mode\":\"markers\",\"name\":\"thylogale.n.01\",\"opacity\":0.4,\"x\":[32.37887954711914],\"y\":[9.910264015197754],\"type\":\"scatter\"},{\"marker\":{\"color\":\"yellow\",\"size\":5},\"mode\":\"markers\",\"name\":\"ateles.n.01\",\"opacity\":0.4,\"x\":[31.135976791381836],\"y\":[-1.2304351329803467],\"type\":\"scatter\"},{\"marker\":{\"color\":\"yellow\",\"size\":5},\"mode\":\"markers\",\"name\":\"tragelaphus.n.01\",\"opacity\":0.4,\"x\":[13.310188293457031],\"y\":[-0.5406707525253296],\"type\":\"scatter\"},{\"marker\":{\"color\":\"yellow\",\"size\":5},\"mode\":\"markers\",\"name\":\"capra.n.02\",\"opacity\":0.4,\"x\":[4.427605152130127],\"y\":[0.5990316867828369],\"type\":\"scatter\"},{\"marker\":{\"color\":\"yellow\",\"size\":5},\"mode\":\"markers\",\"name\":\"petrogale.n.01\",\"opacity\":0.4,\"x\":[11.539867401123047],\"y\":[106.73226165771484],\"type\":\"scatter\"},{\"marker\":{\"color\":\"yellow\",\"size\":5},\"mode\":\"markers\",\"name\":\"urocyon.n.01\",\"opacity\":0.4,\"x\":[11.020931243896484],\"y\":[2.4953601360321045],\"type\":\"scatter\"},{\"marker\":{\"color\":\"yellow\",\"size\":5},\"mode\":\"markers\",\"name\":\"genus_hippopotamus.n.01\",\"opacity\":0.4,\"x\":[8.332501411437988],\"y\":[-4.462127685546875],\"type\":\"scatter\"},{\"marker\":{\"color\":\"yellow\",\"size\":5},\"mode\":\"markers\",\"name\":\"mammut.n.01\",\"opacity\":0.4,\"x\":[20.321123123168945],\"y\":[11.958844184875488],\"type\":\"scatter\"},{\"marker\":{\"color\":\"yellow\",\"size\":5},\"mode\":\"markers\",\"name\":\"neofiber.n.01\",\"opacity\":0.4,\"x\":[-8.710466384887695],\"y\":[22.19414710998535],\"type\":\"scatter\"},{\"marker\":{\"color\":\"yellow\",\"size\":5},\"mode\":\"markers\",\"name\":\"macropus.n.01\",\"opacity\":0.4,\"x\":[-81.67737579345703],\"y\":[90.65597534179688],\"type\":\"scatter\"},{\"marker\":{\"color\":\"yellow\",\"size\":5},\"mode\":\"markers\",\"name\":\"petaurus.n.01\",\"opacity\":0.4,\"x\":[21.95950698852539],\"y\":[1.5315829515457153],\"type\":\"scatter\"},{\"marker\":{\"color\":\"yellow\",\"size\":5},\"mode\":\"markers\",\"name\":\"trichechus.n.01\",\"opacity\":0.4,\"x\":[-8.808592796325684],\"y\":[2.574716091156006],\"type\":\"scatter\"},{\"marker\":{\"color\":\"yellow\",\"size\":5},\"mode\":\"markers\",\"name\":\"nycticebus.n.01\",\"opacity\":0.4,\"x\":[0.06258784234523773],\"y\":[10.130128860473633],\"type\":\"scatter\"},{\"marker\":{\"color\":\"yellow\",\"size\":5},\"mode\":\"markers\",\"name\":\"phyllostomus.n.01\",\"opacity\":0.4,\"x\":[14.202470779418945],\"y\":[-20.031221389770508],\"type\":\"scatter\"},{\"marker\":{\"color\":\"yellow\",\"size\":5},\"mode\":\"markers\",\"name\":\"elephas.n.01\",\"opacity\":0.4,\"x\":[20.21715545654297],\"y\":[11.135380744934082],\"type\":\"scatter\"},{\"marker\":{\"color\":\"yellow\",\"size\":5},\"mode\":\"markers\",\"name\":\"diceros.n.01\",\"opacity\":0.4,\"x\":[7.119630813598633],\"y\":[-0.7309525609016418],\"type\":\"scatter\"},{\"marker\":{\"color\":\"yellow\",\"size\":5},\"mode\":\"markers\",\"name\":\"reithrodontomys.n.01\",\"opacity\":0.4,\"x\":[-8.516424179077148],\"y\":[23.820789337158203],\"type\":\"scatter\"},{\"marker\":{\"color\":\"yellow\",\"size\":5},\"mode\":\"markers\",\"name\":\"muntiacus.n.01\",\"opacity\":0.4,\"x\":[6.721187591552734],\"y\":[6.291804313659668],\"type\":\"scatter\"},{\"marker\":{\"color\":\"yellow\",\"size\":5},\"mode\":\"markers\",\"name\":\"dasyurus.n.01\",\"opacity\":0.4,\"x\":[25.552038192749023],\"y\":[15.899470329284668],\"type\":\"scatter\"},{\"marker\":{\"color\":\"yellow\",\"size\":5},\"mode\":\"markers\",\"name\":\"zalophus.n.01\",\"opacity\":0.4,\"x\":[-22.167247772216797],\"y\":[-6.446876525878906],\"type\":\"scatter\"},{\"marker\":{\"color\":\"yellow\",\"size\":5},\"mode\":\"markers\",\"name\":\"microdipodops.n.01\",\"opacity\":0.4,\"x\":[-0.6616955995559692],\"y\":[22.74233055114746],\"type\":\"scatter\"},{\"marker\":{\"color\":\"yellow\",\"size\":5},\"mode\":\"markers\",\"name\":\"hypsiprymnodon.n.01\",\"opacity\":0.4,\"x\":[32.31378173828125],\"y\":[10.03573989868164],\"type\":\"scatter\"},{\"marker\":{\"color\":\"yellow\",\"size\":5},\"mode\":\"markers\",\"name\":\"zaglossus.n.01\",\"opacity\":0.4,\"x\":[17.230865478515625],\"y\":[1.4906797409057617],\"type\":\"scatter\"},{\"marker\":{\"color\":\"yellow\",\"size\":5},\"mode\":\"markers\",\"name\":\"pagophilus.n.01\",\"opacity\":0.4,\"x\":[-21.80270004272461],\"y\":[-1.5462250709533691],\"type\":\"scatter\"},{\"marker\":{\"color\":\"yellow\",\"size\":5},\"mode\":\"markers\",\"name\":\"cynocephalus.n.01\",\"opacity\":0.4,\"x\":[8.362871170043945],\"y\":[-6.538254737854004],\"type\":\"scatter\"},{\"marker\":{\"color\":\"yellow\",\"size\":5},\"mode\":\"markers\",\"name\":\"tolypeutes.n.01\",\"opacity\":0.4,\"x\":[26.1148738861084],\"y\":[5.360448360443115],\"type\":\"scatter\"},{\"marker\":{\"color\":\"yellow\",\"size\":5},\"mode\":\"markers\",\"name\":\"dendrolagus.n.01\",\"opacity\":0.4,\"x\":[31.978891372680664],\"y\":[9.815985679626465],\"type\":\"scatter\"},{\"marker\":{\"color\":\"yellow\",\"size\":5},\"mode\":\"markers\",\"name\":\"oryzomys.n.01\",\"opacity\":0.4,\"x\":[-9.55843448638916],\"y\":[24.44774627685547],\"type\":\"scatter\"},{\"marker\":{\"color\":\"yellow\",\"size\":5},\"mode\":\"markers\",\"name\":\"balaena.n.01\",\"opacity\":0.4,\"x\":[12.643326759338379],\"y\":[-10.490293502807617],\"type\":\"scatter\"},{\"marker\":{\"color\":\"yellow\",\"size\":5},\"mode\":\"markers\",\"name\":\"aepyceros.n.01\",\"opacity\":0.4,\"x\":[14.111903190612793],\"y\":[6.705438137054443],\"type\":\"scatter\"},{\"marker\":{\"color\":\"yellow\",\"size\":5},\"mode\":\"markers\",\"name\":\"babyrousa.n.01\",\"opacity\":0.4,\"x\":[5.497830390930176],\"y\":[2.139400005340576],\"type\":\"scatter\"},{\"marker\":{\"color\":\"yellow\",\"size\":5},\"mode\":\"markers\",\"name\":\"ovibos.n.01\",\"opacity\":0.4,\"x\":[15.249876976013184],\"y\":[5.2582879066467285],\"type\":\"scatter\"},{\"marker\":{\"color\":\"yellow\",\"size\":5},\"mode\":\"markers\",\"name\":\"genus_anoa.n.01\",\"opacity\":0.4,\"x\":[13.964519500732422],\"y\":[7.247298240661621],\"type\":\"scatter\"},{\"marker\":{\"color\":\"yellow\",\"size\":5},\"mode\":\"markers\",\"name\":\"ailurus.n.01\",\"opacity\":0.4,\"x\":[9.685466766357422],\"y\":[-30.472379684448242],\"type\":\"scatter\"},{\"marker\":{\"color\":\"yellow\",\"size\":5},\"mode\":\"markers\",\"name\":\"perognathus.n.01\",\"opacity\":0.4,\"x\":[-0.6560402512550354],\"y\":[22.74357032775879],\"type\":\"scatter\"},{\"marker\":{\"color\":\"yellow\",\"size\":5},\"mode\":\"markers\",\"name\":\"glis.n.01\",\"opacity\":0.4,\"x\":[-9.675716400146484],\"y\":[17.417957305908203],\"type\":\"scatter\"},{\"marker\":{\"color\":\"yellow\",\"size\":5},\"mode\":\"markers\",\"name\":\"citellus.n.01\",\"opacity\":0.4,\"x\":[-4.327517032623291],\"y\":[16.116750717163086],\"type\":\"scatter\"},{\"marker\":{\"color\":\"yellow\",\"size\":5},\"mode\":\"markers\",\"name\":\"adenota.n.01\",\"opacity\":0.4,\"x\":[15.085477828979492],\"y\":[6.226363658905029],\"type\":\"scatter\"},{\"marker\":{\"color\":\"yellow\",\"size\":5},\"mode\":\"markers\",\"name\":\"viverricula.n.01\",\"opacity\":0.4,\"x\":[3.30829119682312],\"y\":[31.292247772216797],\"type\":\"scatter\"},{\"marker\":{\"color\":\"yellow\",\"size\":5},\"mode\":\"markers\",\"name\":\"elaphurus.n.01\",\"opacity\":0.4,\"x\":[9.174726486206055],\"y\":[7.565870761871338],\"type\":\"scatter\"},{\"marker\":{\"color\":\"yellow\",\"size\":5},\"mode\":\"markers\",\"name\":\"dasypus.n.01\",\"opacity\":0.4,\"x\":[26.095874786376953],\"y\":[6.198268413543701],\"type\":\"scatter\"},{\"marker\":{\"color\":\"yellow\",\"size\":5},\"mode\":\"markers\",\"name\":\"conepatus.n.01\",\"opacity\":0.4,\"x\":[-15.150970458984375],\"y\":[-10.266921997070312],\"type\":\"scatter\"},{\"marker\":{\"color\":\"yellow\",\"size\":5},\"mode\":\"markers\",\"name\":\"uropsilus.n.01\",\"opacity\":0.4,\"x\":[-13.428122520446777],\"y\":[6.388354301452637],\"type\":\"scatter\"},{\"marker\":{\"color\":\"yellow\",\"size\":5},\"mode\":\"markers\",\"name\":\"thylacinus.n.01\",\"opacity\":0.4,\"x\":[25.41131591796875],\"y\":[15.637691497802734],\"type\":\"scatter\"},{\"marker\":{\"color\":\"yellow\",\"size\":5},\"mode\":\"markers\",\"name\":\"phoca.n.01\",\"opacity\":0.4,\"x\":[-21.967018127441406],\"y\":[-1.5991580486297607],\"type\":\"scatter\"},{\"marker\":{\"color\":\"yellow\",\"size\":5},\"mode\":\"markers\",\"name\":\"myotis.n.01\",\"opacity\":0.4,\"x\":[18.077566146850586],\"y\":[-25.22128677368164],\"type\":\"scatter\"},{\"marker\":{\"color\":\"yellow\",\"size\":5},\"mode\":\"markers\",\"name\":\"lagorchestes.n.01\",\"opacity\":0.4,\"x\":[31.876585006713867],\"y\":[9.84685230255127],\"type\":\"scatter\"},{\"marker\":{\"color\":\"yellow\",\"size\":5},\"mode\":\"markers\",\"name\":\"muscardinus.n.01\",\"opacity\":0.4,\"x\":[-9.675801277160645],\"y\":[17.41826629638672],\"type\":\"scatter\"},{\"marker\":{\"color\":\"yellow\",\"size\":5},\"mode\":\"markers\",\"name\":\"atherurus.n.01\",\"opacity\":0.4,\"x\":[-6.733977317810059],\"y\":[8.516161918640137],\"type\":\"scatter\"},{\"marker\":{\"color\":\"yellow\",\"size\":5},\"mode\":\"markers\",\"name\":\"lama.n.02\",\"opacity\":0.4,\"x\":[14.978797912597656],\"y\":[-6.432438373565674],\"type\":\"scatter\"},{\"marker\":{\"color\":\"yellow\",\"size\":5},\"mode\":\"markers\",\"name\":\"mephitis.n.03\",\"opacity\":0.4,\"x\":[-13.962985038757324],\"y\":[-13.024138450622559],\"type\":\"scatter\"},{\"marker\":{\"color\":\"yellow\",\"size\":5},\"mode\":\"markers\",\"name\":\"taxidea.n.01\",\"opacity\":0.4,\"x\":[-59.32579803466797],\"y\":[105.41829681396484],\"type\":\"scatter\"},{\"marker\":{\"color\":\"yellow\",\"size\":5},\"mode\":\"markers\",\"name\":\"dipodomys.n.01\",\"opacity\":0.4,\"x\":[-0.6616932153701782],\"y\":[22.742467880249023],\"type\":\"scatter\"},{\"marker\":{\"color\":\"yellow\",\"size\":5},\"mode\":\"markers\",\"name\":\"oreamnos.n.01\",\"opacity\":0.4,\"x\":[15.882390022277832],\"y\":[7.391974449157715],\"type\":\"scatter\"},{\"marker\":{\"color\":\"yellow\",\"size\":5},\"mode\":\"markers\",\"name\":\"raphicerus.n.01\",\"opacity\":0.4,\"x\":[2.0609066486358643],\"y\":[-0.9007755517959595],\"type\":\"scatter\"},{\"marker\":{\"color\":\"yellow\",\"size\":5},\"mode\":\"markers\",\"name\":\"fossa.n.02\",\"opacity\":0.4,\"x\":[1.509809970855713],\"y\":[-2.4626379013061523],\"type\":\"scatter\"},{\"marker\":{\"color\":\"yellow\",\"size\":5},\"mode\":\"markers\",\"name\":\"archidiskidon.n.01\",\"opacity\":0.4,\"x\":[20.2158145904541],\"y\":[11.12075424194336],\"type\":\"scatter\"},{\"marker\":{\"color\":\"yellow\",\"size\":5},\"mode\":\"markers\",\"name\":\"burmeisteria.n.01\",\"opacity\":0.4,\"x\":[26.1131591796875],\"y\":[5.398106098175049],\"type\":\"scatter\"},{\"marker\":{\"color\":\"yellow\",\"size\":5},\"mode\":\"markers\",\"name\":\"cynomys.n.01\",\"opacity\":0.4,\"x\":[-5.105889320373535],\"y\":[15.478270530700684],\"type\":\"scatter\"},{\"marker\":{\"color\":\"yellow\",\"size\":5},\"mode\":\"markers\",\"name\":\"genus_macrotus.n.01\",\"opacity\":0.4,\"x\":[14.202089309692383],\"y\":[-20.031269073486328],\"type\":\"scatter\"},{\"marker\":{\"color\":\"yellow\",\"size\":5},\"mode\":\"markers\",\"name\":\"mandrillus.n.01\",\"opacity\":0.4,\"x\":[11.777077674865723],\"y\":[15.041608810424805],\"type\":\"scatter\"},{\"marker\":{\"color\":\"yellow\",\"size\":5},\"mode\":\"markers\",\"name\":\"nesokia.n.01\",\"opacity\":0.4,\"x\":[3.465291976928711],\"y\":[-1.611221432685852],\"type\":\"scatter\"},{\"marker\":{\"color\":\"yellow\",\"size\":5},\"mode\":\"markers\",\"name\":\"baiomys.n.01\",\"opacity\":0.4,\"x\":[-9.283980369567871],\"y\":[23.43243408203125],\"type\":\"scatter\"},{\"marker\":{\"color\":\"yellow\",\"size\":5},\"mode\":\"markers\",\"name\":\"antilope.n.01\",\"opacity\":0.4,\"x\":[-6.200474739074707],\"y\":[121.27183532714844],\"type\":\"scatter\"},{\"marker\":{\"color\":\"purple\",\"size\":5},\"mode\":\"markers\",\"name\":\"icteria.n.01\",\"opacity\":0.4,\"x\":[8.08007526397705],\"y\":[-9.897073745727539],\"type\":\"scatter\"},{\"marker\":{\"color\":\"purple\",\"size\":5},\"mode\":\"markers\",\"name\":\"zenaidura.n.01\",\"opacity\":0.4,\"x\":[-9.706326484680176],\"y\":[-14.726255416870117],\"type\":\"scatter\"},{\"marker\":{\"color\":\"purple\",\"size\":5},\"mode\":\"markers\",\"name\":\"plectrophenax.n.01\",\"opacity\":0.4,\"x\":[-26.191944122314453],\"y\":[26.23578643798828],\"type\":\"scatter\"},{\"marker\":{\"color\":\"purple\",\"size\":5},\"mode\":\"markers\",\"name\":\"porzana.n.01\",\"opacity\":0.4,\"x\":[-12.851580619812012],\"y\":[2.3518083095550537],\"type\":\"scatter\"},{\"marker\":{\"color\":\"purple\",\"size\":5},\"mode\":\"markers\",\"name\":\"elanoides.n.01\",\"opacity\":0.4,\"x\":[-11.610735893249512],\"y\":[-26.68344497680664],\"type\":\"scatter\"},{\"marker\":{\"color\":\"purple\",\"size\":5},\"mode\":\"markers\",\"name\":\"irena.n.01\",\"opacity\":0.4,\"x\":[-2.3029375076293945],\"y\":[-5.29884672164917],\"type\":\"scatter\"},{\"marker\":{\"color\":\"purple\",\"size\":5},\"mode\":\"markers\",\"name\":\"actitis.n.01\",\"opacity\":0.4,\"x\":[-33.06538772583008],\"y\":[10.381674766540527],\"type\":\"scatter\"},{\"marker\":{\"color\":\"purple\",\"size\":5},\"mode\":\"markers\",\"name\":\"vertebrata.n.01\",\"opacity\":0.4,\"x\":[3.243713855743408],\"y\":[-2.44830060005188],\"type\":\"scatter\"},{\"marker\":{\"color\":\"purple\",\"size\":5},\"mode\":\"markers\",\"name\":\"dendroica.n.01\",\"opacity\":0.4,\"x\":[7.550927639007568],\"y\":[-8.924009323120117],\"type\":\"scatter\"},{\"marker\":{\"color\":\"purple\",\"size\":5},\"mode\":\"markers\",\"name\":\"phalacrocorax.n.01\",\"opacity\":0.4,\"x\":[6.228285312652588],\"y\":[-13.319818496704102],\"type\":\"scatter\"},{\"marker\":{\"color\":\"purple\",\"size\":5},\"mode\":\"markers\",\"name\":\"passer.n.05\",\"opacity\":0.4,\"x\":[5.8169660568237305],\"y\":[-5.806072235107422],\"type\":\"scatter\"},{\"marker\":{\"color\":\"purple\",\"size\":5},\"mode\":\"markers\",\"name\":\"numida.n.01\",\"opacity\":0.4,\"x\":[-1.7376818656921387],\"y\":[-20.678436279296875],\"type\":\"scatter\"},{\"marker\":{\"color\":\"purple\",\"size\":5},\"mode\":\"markers\",\"name\":\"saxicola.n.01\",\"opacity\":0.4,\"x\":[-16.92778778076172],\"y\":[-5.9325995445251465],\"type\":\"scatter\"},{\"marker\":{\"color\":\"purple\",\"size\":5},\"mode\":\"markers\",\"name\":\"branta.n.01\",\"opacity\":0.4,\"x\":[27.165699005126953],\"y\":[-13.367048263549805],\"type\":\"scatter\"},{\"marker\":{\"color\":\"purple\",\"size\":5},\"mode\":\"markers\",\"name\":\"sagittarius.n.04\",\"opacity\":0.4,\"x\":[-9.167739868164062],\"y\":[-23.78319549560547],\"type\":\"scatter\"},{\"marker\":{\"color\":\"purple\",\"size\":5},\"mode\":\"markers\",\"name\":\"limnocryptes.n.01\",\"opacity\":0.4,\"x\":[-33.085262298583984],\"y\":[9.246560096740723],\"type\":\"scatter\"},{\"marker\":{\"color\":\"purple\",\"size\":5},\"mode\":\"markers\",\"name\":\"polyborus.n.01\",\"opacity\":0.4,\"x\":[-11.986117362976074],\"y\":[-21.624683380126953],\"type\":\"scatter\"},{\"marker\":{\"color\":\"purple\",\"size\":5},\"mode\":\"markers\",\"name\":\"athene.n.02\",\"opacity\":0.4,\"x\":[20.259061813354492],\"y\":[-16.647981643676758],\"type\":\"scatter\"},{\"marker\":{\"color\":\"purple\",\"size\":5},\"mode\":\"markers\",\"name\":\"bonasa.n.01\",\"opacity\":0.4,\"x\":[1.8178589344024658],\"y\":[-25.934682846069336],\"type\":\"scatter\"},{\"marker\":{\"color\":\"purple\",\"size\":5},\"mode\":\"markers\",\"name\":\"acanthisitta.n.01\",\"opacity\":0.4,\"x\":[-7.254281997680664],\"y\":[-10.030101776123047],\"type\":\"scatter\"},{\"marker\":{\"color\":\"purple\",\"size\":5},\"mode\":\"markers\",\"name\":\"certhia.n.01\",\"opacity\":0.4,\"x\":[-0.3722419738769531],\"y\":[16.231735229492188],\"type\":\"scatter\"},{\"marker\":{\"color\":\"purple\",\"size\":5},\"mode\":\"markers\",\"name\":\"genus_leipoa.n.01\",\"opacity\":0.4,\"x\":[-7.915320873260498],\"y\":[-18.71190071105957],\"type\":\"scatter\"},{\"marker\":{\"color\":\"purple\",\"size\":5},\"mode\":\"markers\",\"name\":\"passerina.n.01\",\"opacity\":0.4,\"x\":[-26.66321563720703],\"y\":[26.44655990600586],\"type\":\"scatter\"},{\"marker\":{\"color\":\"purple\",\"size\":5},\"mode\":\"markers\",\"name\":\"ortalis.n.01\",\"opacity\":0.4,\"x\":[-0.8342821598052979],\"y\":[-5.555495738983154],\"type\":\"scatter\"},{\"marker\":{\"color\":\"purple\",\"size\":5},\"mode\":\"markers\",\"name\":\"pandion.n.01\",\"opacity\":0.4,\"x\":[-9.912851333618164],\"y\":[-25.432231903076172],\"type\":\"scatter\"},{\"marker\":{\"color\":\"purple\",\"size\":5},\"mode\":\"markers\",\"name\":\"nyctanassa.n.01\",\"opacity\":0.4,\"x\":[-30.938337326049805],\"y\":[-5.538041591644287],\"type\":\"scatter\"},{\"marker\":{\"color\":\"purple\",\"size\":5},\"mode\":\"markers\",\"name\":\"cochlearius.n.01\",\"opacity\":0.4,\"x\":[-30.133724212646484],\"y\":[-5.343999862670898],\"type\":\"scatter\"},{\"marker\":{\"color\":\"purple\",\"size\":5},\"mode\":\"markers\",\"name\":\"botaurus.n.01\",\"opacity\":0.4,\"x\":[-30.16383934020996],\"y\":[-5.613015651702881],\"type\":\"scatter\"},{\"marker\":{\"color\":\"purple\",\"size\":5},\"mode\":\"markers\",\"name\":\"tetrao.n.01\",\"opacity\":0.4,\"x\":[1.9421929121017456],\"y\":[-25.692827224731445],\"type\":\"scatter\"},{\"marker\":{\"color\":\"purple\",\"size\":5},\"mode\":\"markers\",\"name\":\"gallinula.n.01\",\"opacity\":0.4,\"x\":[-8.122916221618652],\"y\":[0.36696434020996094],\"type\":\"scatter\"},{\"marker\":{\"color\":\"purple\",\"size\":5},\"mode\":\"markers\",\"name\":\"threskiornis.n.01\",\"opacity\":0.4,\"x\":[5.240322589874268],\"y\":[-18.016565322875977],\"type\":\"scatter\"},{\"marker\":{\"color\":\"purple\",\"size\":5},\"mode\":\"markers\",\"name\":\"burhinus.n.01\",\"opacity\":0.4,\"x\":[0.28265631198883057],\"y\":[-14.156445503234863],\"type\":\"scatter\"},{\"marker\":{\"color\":\"purple\",\"size\":5},\"mode\":\"markers\",\"name\":\"mergus.n.01\",\"opacity\":0.4,\"x\":[10.521712303161621],\"y\":[-3.865715265274048],\"type\":\"scatter\"},{\"marker\":{\"color\":\"purple\",\"size\":5},\"mode\":\"markers\",\"name\":\"sayornis.n.01\",\"opacity\":0.4,\"x\":[-1.5314805507659912],\"y\":[-32.2917594909668],\"type\":\"scatter\"},{\"marker\":{\"color\":\"purple\",\"size\":5},\"mode\":\"markers\",\"name\":\"charadrius.n.01\",\"opacity\":0.4,\"x\":[2.7364628314971924],\"y\":[0.44719070196151733],\"type\":\"scatter\"},{\"marker\":{\"color\":\"purple\",\"size\":5},\"mode\":\"markers\",\"name\":\"choriotis.n.01\",\"opacity\":0.4,\"x\":[-10.050600051879883],\"y\":[-1.019720196723938],\"type\":\"scatter\"},{\"marker\":{\"color\":\"purple\",\"size\":5},\"mode\":\"markers\",\"name\":\"erithacus.n.01\",\"opacity\":0.4,\"x\":[-16.93033218383789],\"y\":[-5.932652950286865],\"type\":\"scatter\"},{\"marker\":{\"color\":\"purple\",\"size\":5},\"mode\":\"markers\",\"name\":\"xenicus.n.01\",\"opacity\":0.4,\"x\":[-7.254030704498291],\"y\":[-10.031244277954102],\"type\":\"scatter\"},{\"marker\":{\"color\":\"purple\",\"size\":5},\"mode\":\"markers\",\"name\":\"elanus.n.01\",\"opacity\":0.4,\"x\":[-11.93907642364502],\"y\":[-26.521717071533203],\"type\":\"scatter\"},{\"marker\":{\"color\":\"purple\",\"size\":5},\"mode\":\"markers\",\"name\":\"chateura.n.01\",\"opacity\":0.4,\"x\":[-14.381075859069824],\"y\":[-17.5233211517334],\"type\":\"scatter\"},{\"marker\":{\"color\":\"purple\",\"size\":5},\"mode\":\"markers\",\"name\":\"richmondena.n.01\",\"opacity\":0.4,\"x\":[-27.071121215820312],\"y\":[27.876548767089844],\"type\":\"scatter\"},{\"marker\":{\"color\":\"purple\",\"size\":5},\"mode\":\"markers\",\"name\":\"tichodroma.n.01\",\"opacity\":0.4,\"x\":[-0.3708803057670593],\"y\":[16.231550216674805],\"type\":\"scatter\"},{\"marker\":{\"color\":\"purple\",\"size\":5},\"mode\":\"markers\",\"name\":\"muscicapa.n.01\",\"opacity\":0.4,\"x\":[-10.621660232543945],\"y\":[9.327970504760742],\"type\":\"scatter\"},{\"marker\":{\"color\":\"purple\",\"size\":5},\"mode\":\"markers\",\"name\":\"anas.n.01\",\"opacity\":0.4,\"x\":[25.938419342041016],\"y\":[-11.788583755493164],\"type\":\"scatter\"},{\"marker\":{\"color\":\"purple\",\"size\":5},\"mode\":\"markers\",\"name\":\"sterna.n.01\",\"opacity\":0.4,\"x\":[10.266319274902344],\"y\":[-13.228299140930176],\"type\":\"scatter\"},{\"marker\":{\"color\":\"purple\",\"size\":5},\"mode\":\"markers\",\"name\":\"ciconia.n.01\",\"opacity\":0.4,\"x\":[9.394838333129883],\"y\":[-18.005945205688477],\"type\":\"scatter\"},{\"marker\":{\"color\":\"purple\",\"size\":5},\"mode\":\"markers\",\"name\":\"seiurus.n.01\",\"opacity\":0.4,\"x\":[8.0634765625],\"y\":[-9.81457233428955],\"type\":\"scatter\"},{\"marker\":{\"color\":\"purple\",\"size\":5},\"mode\":\"markers\",\"name\":\"casmerodius.n.01\",\"opacity\":0.4,\"x\":[-30.514232635498047],\"y\":[-4.703560829162598],\"type\":\"scatter\"},{\"marker\":{\"color\":\"purple\",\"size\":5},\"mode\":\"markers\",\"name\":\"psittacus.n.01\",\"opacity\":0.4,\"x\":[14.3503999710083],\"y\":[27.254623413085938],\"type\":\"scatter\"},{\"marker\":{\"color\":\"purple\",\"size\":5},\"mode\":\"markers\",\"name\":\"pipilo.n.01\",\"opacity\":0.4,\"x\":[-25.97357749938965],\"y\":[29.167070388793945],\"type\":\"scatter\"},{\"marker\":{\"color\":\"purple\",\"size\":5},\"mode\":\"markers\",\"name\":\"alectura.n.01\",\"opacity\":0.4,\"x\":[-7.915557861328125],\"y\":[-18.711977005004883],\"type\":\"scatter\"},{\"marker\":{\"color\":\"purple\",\"size\":5},\"mode\":\"markers\",\"name\":\"caprimulgus.n.01\",\"opacity\":0.4,\"x\":[-9.3712739944458],\"y\":[-8.16219425201416],\"type\":\"scatter\"},{\"marker\":{\"color\":\"purple\",\"size\":5},\"mode\":\"markers\",\"name\":\"chlorophoneus.n.01\",\"opacity\":0.4,\"x\":[-6.737580299377441],\"y\":[-6.731284141540527],\"type\":\"scatter\"},{\"marker\":{\"color\":\"purple\",\"size\":5},\"mode\":\"markers\",\"name\":\"cygnus.n.02\",\"opacity\":0.4,\"x\":[27.977691650390625],\"y\":[-13.557948112487793],\"type\":\"scatter\"},{\"marker\":{\"color\":\"purple\",\"size\":5},\"mode\":\"markers\",\"name\":\"rupicola.n.01\",\"opacity\":0.4,\"x\":[-1.192654013633728],\"y\":[-33.08155822753906],\"type\":\"scatter\"},{\"marker\":{\"color\":\"purple\",\"size\":5},\"mode\":\"markers\",\"name\":\"pagophila.n.01\",\"opacity\":0.4,\"x\":[10.249836921691895],\"y\":[-13.19215202331543],\"type\":\"scatter\"},{\"marker\":{\"color\":\"purple\",\"size\":5},\"mode\":\"markers\",\"name\":\"timalia.n.01\",\"opacity\":0.4,\"x\":[-2.977665662765503],\"y\":[-4.2836127281188965],\"type\":\"scatter\"},{\"marker\":{\"color\":\"purple\",\"size\":5},\"mode\":\"markers\",\"name\":\"agriocharis.n.01\",\"opacity\":0.4,\"x\":[-1.0976327657699585],\"y\":[-9.262749671936035],\"type\":\"scatter\"},{\"marker\":{\"color\":\"purple\",\"size\":5},\"mode\":\"markers\",\"name\":\"pavo.n.02\",\"opacity\":0.4,\"x\":[-2.2829670906066895],\"y\":[-19.64578628540039],\"type\":\"scatter\"},{\"marker\":{\"color\":\"purple\",\"size\":5},\"mode\":\"markers\",\"name\":\"otus.n.01\",\"opacity\":0.4,\"x\":[19.41792106628418],\"y\":[-17.065889358520508],\"type\":\"scatter\"},{\"marker\":{\"color\":\"purple\",\"size\":5},\"mode\":\"markers\",\"name\":\"pterocles.n.01\",\"opacity\":0.4,\"x\":[-4.237824440002441],\"y\":[-12.186460494995117],\"type\":\"scatter\"},{\"marker\":{\"color\":\"purple\",\"size\":5},\"mode\":\"markers\",\"name\":\"nymphicus.n.01\",\"opacity\":0.4,\"x\":[14.437092781066895],\"y\":[27.77967071533203],\"type\":\"scatter\"},{\"marker\":{\"color\":\"purple\",\"size\":5},\"mode\":\"markers\",\"name\":\"vanellus.n.01\",\"opacity\":0.4,\"x\":[2.9240612983703613],\"y\":[1.2880386114120483],\"type\":\"scatter\"},{\"marker\":{\"color\":\"purple\",\"size\":5},\"mode\":\"markers\",\"name\":\"ephippiorhynchus.n.01\",\"opacity\":0.4,\"x\":[9.566482543945312],\"y\":[-17.95695686340332],\"type\":\"scatter\"},{\"marker\":{\"color\":\"purple\",\"size\":5},\"mode\":\"markers\",\"name\":\"melanerpes.n.01\",\"opacity\":0.4,\"x\":[19.030736923217773],\"y\":[-6.404314041137695],\"type\":\"scatter\"},{\"marker\":{\"color\":\"purple\",\"size\":5},\"mode\":\"markers\",\"name\":\"spizella.n.01\",\"opacity\":0.4,\"x\":[-25.34111213684082],\"y\":[28.445009231567383],\"type\":\"scatter\"},{\"marker\":{\"color\":\"purple\",\"size\":5},\"mode\":\"markers\",\"name\":\"tyto.n.01\",\"opacity\":0.4,\"x\":[20.876798629760742],\"y\":[-17.89136505126953],\"type\":\"scatter\"},{\"marker\":{\"color\":\"purple\",\"size\":5},\"mode\":\"markers\",\"name\":\"gallus.n.02\",\"opacity\":0.4,\"x\":[-0.4478381276130676],\"y\":[-8.166293144226074],\"type\":\"scatter\"},{\"marker\":{\"color\":\"purple\",\"size\":5},\"mode\":\"markers\",\"name\":\"dacelo.n.01\",\"opacity\":0.4,\"x\":[-11.400045394897461],\"y\":[-5.0934343338012695],\"type\":\"scatter\"},{\"marker\":{\"color\":\"purple\",\"size\":5},\"mode\":\"markers\",\"name\":\"pterocnemia.n.01\",\"opacity\":0.4,\"x\":[2.775986433029175],\"y\":[-10.917678833007812],\"type\":\"scatter\"},{\"marker\":{\"color\":\"purple\",\"size\":5},\"mode\":\"markers\",\"name\":\"philomachus.n.01\",\"opacity\":0.4,\"x\":[-34.10305404663086],\"y\":[9.418997764587402],\"type\":\"scatter\"},{\"marker\":{\"color\":\"purple\",\"size\":5},\"mode\":\"markers\",\"name\":\"mimus.n.01\",\"opacity\":0.4,\"x\":[-19.575422286987305],\"y\":[10.891548156738281],\"type\":\"scatter\"},{\"marker\":{\"color\":\"purple\",\"size\":5},\"mode\":\"markers\",\"name\":\"genus_archaeopteryx.n.01\",\"opacity\":0.4,\"x\":[0.7956690788269043],\"y\":[-5.785029411315918],\"type\":\"scatter\"},{\"marker\":{\"color\":\"purple\",\"size\":5},\"mode\":\"markers\",\"name\":\"melanitta.n.01\",\"opacity\":0.4,\"x\":[27.47100257873535],\"y\":[-11.538095474243164],\"type\":\"scatter\"},{\"marker\":{\"color\":\"purple\",\"size\":5},\"mode\":\"markers\",\"name\":\"perisoreus.n.01\",\"opacity\":0.4,\"x\":[-4.455155372619629],\"y\":[-8.952624320983887],\"type\":\"scatter\"},{\"marker\":{\"color\":\"purple\",\"size\":5},\"mode\":\"markers\",\"name\":\"lobipes.n.01\",\"opacity\":0.4,\"x\":[0.9510669112205505],\"y\":[-16.845306396484375],\"type\":\"scatter\"},{\"marker\":{\"color\":\"purple\",\"size\":5},\"mode\":\"markers\",\"name\":\"bubulcus.n.01\",\"opacity\":0.4,\"x\":[-30.855579376220703],\"y\":[-5.4313578605651855],\"type\":\"scatter\"},{\"marker\":{\"color\":\"purple\",\"size\":5},\"mode\":\"markers\",\"name\":\"fregata.n.01\",\"opacity\":0.4,\"x\":[6.627714157104492],\"y\":[-13.031146049499512],\"type\":\"scatter\"},{\"marker\":{\"color\":\"purple\",\"size\":5},\"mode\":\"markers\",\"name\":\"euphagus.n.01\",\"opacity\":0.4,\"x\":[-22.553621292114258],\"y\":[-13.09708309173584],\"type\":\"scatter\"},{\"marker\":{\"color\":\"purple\",\"size\":5},\"mode\":\"markers\",\"name\":\"alcedo.n.01\",\"opacity\":0.4,\"x\":[-11.39166259765625],\"y\":[-5.092267990112305],\"type\":\"scatter\"},{\"marker\":{\"color\":\"purple\",\"size\":5},\"mode\":\"markers\",\"name\":\"picus.n.01\",\"opacity\":0.4,\"x\":[19.030773162841797],\"y\":[-6.404455184936523],\"type\":\"scatter\"},{\"marker\":{\"color\":\"purple\",\"size\":5},\"mode\":\"markers\",\"name\":\"ceryle.n.01\",\"opacity\":0.4,\"x\":[-11.405670166015625],\"y\":[-5.094510078430176],\"type\":\"scatter\"},{\"marker\":{\"color\":\"purple\",\"size\":5},\"mode\":\"markers\",\"name\":\"canachites.n.01\",\"opacity\":0.4,\"x\":[2.0879173278808594],\"y\":[-26.0521240234375],\"type\":\"scatter\"},{\"marker\":{\"color\":\"purple\",\"size\":5},\"mode\":\"markers\",\"name\":\"pyrocephalus.n.01\",\"opacity\":0.4,\"x\":[-1.7902857065200806],\"y\":[-32.40147018432617],\"type\":\"scatter\"},{\"marker\":{\"color\":\"purple\",\"size\":5},\"mode\":\"markers\",\"name\":\"columba.n.02\",\"opacity\":0.4,\"x\":[-9.707244873046875],\"y\":[-14.726778030395508],\"type\":\"scatter\"},{\"marker\":{\"color\":\"purple\",\"size\":5},\"mode\":\"markers\",\"name\":\"balaeniceps.n.01\",\"opacity\":0.4,\"x\":[8.389326095581055],\"y\":[-16.21885108947754],\"type\":\"scatter\"},{\"marker\":{\"color\":\"purple\",\"size\":5},\"mode\":\"markers\",\"name\":\"coereba.n.01\",\"opacity\":0.4,\"x\":[2.8329081535339355],\"y\":[-3.1577298641204834],\"type\":\"scatter\"},{\"marker\":{\"color\":\"purple\",\"size\":5},\"mode\":\"markers\",\"name\":\"grus.n.02\",\"opacity\":0.4,\"x\":[-6.399102210998535],\"y\":[-3.256654739379883],\"type\":\"scatter\"},{\"marker\":{\"color\":\"purple\",\"size\":5},\"mode\":\"markers\",\"name\":\"conuropsis.n.01\",\"opacity\":0.4,\"x\":[15.239882469177246],\"y\":[27.236812591552734],\"type\":\"scatter\"},{\"marker\":{\"color\":\"purple\",\"size\":5},\"mode\":\"markers\",\"name\":\"aix.n.01\",\"opacity\":0.4,\"x\":[27.849750518798828],\"y\":[-12.596900939941406],\"type\":\"scatter\"},{\"marker\":{\"color\":\"purple\",\"size\":5},\"mode\":\"markers\",\"name\":\"genus_diomedea.n.01\",\"opacity\":0.4,\"x\":[-12.701241493225098],\"y\":[-2.0658774375915527],\"type\":\"scatter\"},{\"marker\":{\"color\":\"purple\",\"size\":5},\"mode\":\"markers\",\"name\":\"hesperiphona.n.01\",\"opacity\":0.4,\"x\":[-24.670488357543945],\"y\":[28.537599563598633],\"type\":\"scatter\"},{\"marker\":{\"color\":\"purple\",\"size\":5},\"mode\":\"markers\",\"name\":\"crex.n.01\",\"opacity\":0.4,\"x\":[-12.744354248046875],\"y\":[2.1241869926452637],\"type\":\"scatter\"},{\"marker\":{\"color\":\"purple\",\"size\":5},\"mode\":\"markers\",\"name\":\"toxostoma.n.01\",\"opacity\":0.4,\"x\":[-19.829116821289062],\"y\":[10.736380577087402],\"type\":\"scatter\"},{\"marker\":{\"color\":\"purple\",\"size\":5},\"mode\":\"markers\",\"name\":\"genus_ibis.n.01\",\"opacity\":0.4,\"x\":[5.240363121032715],\"y\":[-18.01655387878418],\"type\":\"scatter\"},{\"marker\":{\"color\":\"purple\",\"size\":5},\"mode\":\"markers\",\"name\":\"orthotomus.n.01\",\"opacity\":0.4,\"x\":[-10.194588661193848],\"y\":[5.997380256652832],\"type\":\"scatter\"},{\"marker\":{\"color\":\"purple\",\"size\":5},\"mode\":\"markers\",\"name\":\"vidua.n.01\",\"opacity\":0.4,\"x\":[-17.71272850036621],\"y\":[3.9276721477508545],\"type\":\"scatter\"},{\"marker\":{\"color\":\"purple\",\"size\":5},\"mode\":\"markers\",\"name\":\"strix.n.01\",\"opacity\":0.4,\"x\":[20.087339401245117],\"y\":[-17.298561096191406],\"type\":\"scatter\"},{\"marker\":{\"color\":\"purple\",\"size\":5},\"mode\":\"markers\",\"name\":\"auriparus.n.01\",\"opacity\":0.4,\"x\":[-23.329864501953125],\"y\":[5.237826824188232],\"type\":\"scatter\"},{\"marker\":{\"color\":\"purple\",\"size\":5},\"mode\":\"markers\",\"name\":\"spinus.n.01\",\"opacity\":0.4,\"x\":[-27.250091552734375],\"y\":[28.917335510253906],\"type\":\"scatter\"},{\"marker\":{\"color\":\"purple\",\"size\":5},\"mode\":\"markers\",\"name\":\"spheniscus.n.01\",\"opacity\":0.4,\"x\":[14.429174423217773],\"y\":[-14.79917049407959],\"type\":\"scatter\"},{\"marker\":{\"color\":\"purple\",\"size\":5},\"mode\":\"markers\",\"name\":\"aythya.n.01\",\"opacity\":0.4,\"x\":[23.738056182861328],\"y\":[-11.021812438964844],\"type\":\"scatter\"},{\"marker\":{\"color\":\"purple\",\"size\":5},\"mode\":\"markers\",\"name\":\"nycticorax.n.01\",\"opacity\":0.4,\"x\":[-30.286405563354492],\"y\":[-6.049160003662109],\"type\":\"scatter\"},{\"marker\":{\"color\":\"purple\",\"size\":5},\"mode\":\"markers\",\"name\":\"psittacula.n.01\",\"opacity\":0.4,\"x\":[14.956850051879883],\"y\":[26.866933822631836],\"type\":\"scatter\"},{\"marker\":{\"color\":\"purple\",\"size\":5},\"mode\":\"markers\",\"name\":\"loxia.n.01\",\"opacity\":0.4,\"x\":[-26.398897171020508],\"y\":[29.52528953552246],\"type\":\"scatter\"},{\"marker\":{\"color\":\"purple\",\"size\":5},\"mode\":\"markers\",\"name\":\"serinus.n.01\",\"opacity\":0.4,\"x\":[-27.248733520507812],\"y\":[28.305307388305664],\"type\":\"scatter\"},{\"marker\":{\"color\":\"purple\",\"size\":5},\"mode\":\"markers\",\"name\":\"plautus.n.02\",\"opacity\":0.4,\"x\":[7.744749069213867],\"y\":[-23.1967830657959],\"type\":\"scatter\"},{\"marker\":{\"color\":\"purple\",\"size\":5},\"mode\":\"markers\",\"name\":\"upupa.n.01\",\"opacity\":0.4,\"x\":[-8.85515022277832],\"y\":[-4.754711151123047],\"type\":\"scatter\"},{\"marker\":{\"color\":\"purple\",\"size\":5},\"mode\":\"markers\",\"name\":\"melanotis.n.01\",\"opacity\":0.4,\"x\":[-19.65340805053711],\"y\":[10.668938636779785],\"type\":\"scatter\"},{\"marker\":{\"color\":\"purple\",\"size\":5},\"mode\":\"markers\",\"name\":\"lunda.n.01\",\"opacity\":0.4,\"x\":[7.642340183258057],\"y\":[-23.193878173828125],\"type\":\"scatter\"},{\"marker\":{\"color\":\"purple\",\"size\":5},\"mode\":\"markers\",\"name\":\"parus.n.01\",\"opacity\":0.4,\"x\":[-23.32933807373047],\"y\":[5.2370829582214355],\"type\":\"scatter\"},{\"marker\":{\"color\":\"purple\",\"size\":5},\"mode\":\"markers\",\"name\":\"calidris.n.01\",\"opacity\":0.4,\"x\":[-33.71329116821289],\"y\":[8.625018119812012],\"type\":\"scatter\"},{\"marker\":{\"color\":\"purple\",\"size\":5},\"mode\":\"markers\",\"name\":\"geococcyx.n.01\",\"opacity\":0.4,\"x\":[2.5953147411346436],\"y\":[-8.501936912536621],\"type\":\"scatter\"},{\"marker\":{\"color\":\"purple\",\"size\":5},\"mode\":\"markers\",\"name\":\"macronectes.n.01\",\"opacity\":0.4,\"x\":[-15.167984962463379],\"y\":[-1.597186803817749],\"type\":\"scatter\"},{\"marker\":{\"color\":\"purple\",\"size\":5},\"mode\":\"markers\",\"name\":\"hylocichla.n.01\",\"opacity\":0.4,\"x\":[-16.92595100402832],\"y\":[-5.933182239532471],\"type\":\"scatter\"},{\"marker\":{\"color\":\"purple\",\"size\":5},\"mode\":\"markers\",\"name\":\"acridotheres.n.01\",\"opacity\":0.4,\"x\":[-2.382031202316284],\"y\":[12.22286319732666],\"type\":\"scatter\"},{\"marker\":{\"color\":\"purple\",\"size\":5},\"mode\":\"markers\",\"name\":\"cacicus.n.01\",\"opacity\":0.4,\"x\":[-22.256954193115234],\"y\":[-14.349874496459961],\"type\":\"scatter\"},{\"marker\":{\"color\":\"purple\",\"size\":5},\"mode\":\"markers\",\"name\":\"pooecetes.n.01\",\"opacity\":0.4,\"x\":[-25.5140323638916],\"y\":[27.721187591552734],\"type\":\"scatter\"},{\"marker\":{\"color\":\"purple\",\"size\":5},\"mode\":\"markers\",\"name\":\"larus.n.01\",\"opacity\":0.4,\"x\":[10.23518180847168],\"y\":[-13.172056198120117],\"type\":\"scatter\"},{\"marker\":{\"color\":\"purple\",\"size\":5},\"mode\":\"markers\",\"name\":\"aquila.n.03\",\"opacity\":0.4,\"x\":[-13.050166130065918],\"y\":[-27.13266372680664],\"type\":\"scatter\"},{\"marker\":{\"color\":\"purple\",\"size\":5},\"mode\":\"markers\",\"name\":\"phoenicurus.n.01\",\"opacity\":0.4,\"x\":[-16.926368713378906],\"y\":[-5.933056831359863],\"type\":\"scatter\"},{\"marker\":{\"color\":\"purple\",\"size\":5},\"mode\":\"markers\",\"name\":\"phalaenoptilus.n.01\",\"opacity\":0.4,\"x\":[-9.364150047302246],\"y\":[-8.149202346801758],\"type\":\"scatter\"},{\"marker\":{\"color\":\"purple\",\"size\":5},\"mode\":\"markers\",\"name\":\"pipile.n.01\",\"opacity\":0.4,\"x\":[-0.4425269663333893],\"y\":[-5.152237415313721],\"type\":\"scatter\"},{\"marker\":{\"color\":\"purple\",\"size\":5},\"mode\":\"markers\",\"name\":\"pachycephala.n.01\",\"opacity\":0.4,\"x\":[-10.621212005615234],\"y\":[9.327816009521484],\"type\":\"scatter\"},{\"marker\":{\"color\":\"purple\",\"size\":5},\"mode\":\"markers\",\"name\":\"macrocephalon.n.01\",\"opacity\":0.4,\"x\":[-7.915343761444092],\"y\":[-18.711944580078125],\"type\":\"scatter\"},{\"marker\":{\"color\":\"purple\",\"size\":5},\"mode\":\"markers\",\"name\":\"emberiza.n.01\",\"opacity\":0.4,\"x\":[-26.259517669677734],\"y\":[26.762067794799805],\"type\":\"scatter\"},{\"marker\":{\"color\":\"purple\",\"size\":5},\"mode\":\"markers\",\"name\":\"mycteria.n.01\",\"opacity\":0.4,\"x\":[9.318748474121094],\"y\":[-18.046186447143555],\"type\":\"scatter\"},{\"marker\":{\"color\":\"purple\",\"size\":5},\"mode\":\"markers\",\"name\":\"raphus.n.01\",\"opacity\":0.4,\"x\":[-7.072129249572754],\"y\":[-13.101936340332031],\"type\":\"scatter\"},{\"marker\":{\"color\":\"purple\",\"size\":5},\"mode\":\"markers\",\"name\":\"troglodytes.n.01\",\"opacity\":0.4,\"x\":[-12.368782043457031],\"y\":[13.488030433654785],\"type\":\"scatter\"},{\"marker\":{\"color\":\"purple\",\"size\":5},\"mode\":\"markers\",\"name\":\"meleagris.n.01\",\"opacity\":0.4,\"x\":[-0.8910062909126282],\"y\":[-8.85982894897461],\"type\":\"scatter\"},{\"marker\":{\"color\":\"purple\",\"size\":5},\"mode\":\"markers\",\"name\":\"chrysolophus.n.01\",\"opacity\":0.4,\"x\":[-2.6283607482910156],\"y\":[-20.219680786132812],\"type\":\"scatter\"},{\"marker\":{\"color\":\"purple\",\"size\":5},\"mode\":\"markers\",\"name\":\"alca.n.01\",\"opacity\":0.4,\"x\":[7.616148948669434],\"y\":[-23.191768646240234],\"type\":\"scatter\"},{\"marker\":{\"color\":\"purple\",\"size\":5},\"mode\":\"markers\",\"name\":\"harpia.n.01\",\"opacity\":0.4,\"x\":[-12.559286117553711],\"y\":[-28.083284378051758],\"type\":\"scatter\"},{\"marker\":{\"color\":\"purple\",\"size\":5},\"mode\":\"markers\",\"name\":\"estrilda.n.01\",\"opacity\":0.4,\"x\":[-17.713239669799805],\"y\":[3.925628900527954],\"type\":\"scatter\"},{\"marker\":{\"color\":\"purple\",\"size\":5},\"mode\":\"markers\",\"name\":\"agelaius.n.01\",\"opacity\":0.4,\"x\":[-20.919771194458008],\"y\":[-14.35364818572998],\"type\":\"scatter\"},{\"marker\":{\"color\":\"purple\",\"size\":5},\"mode\":\"markers\",\"name\":\"sula.n.01\",\"opacity\":0.4,\"x\":[6.03877592086792],\"y\":[-12.275727272033691],\"type\":\"scatter\"},{\"marker\":{\"color\":\"purple\",\"size\":5},\"mode\":\"markers\",\"name\":\"genus_chunga.n.01\",\"opacity\":0.4,\"x\":[-7.993671417236328],\"y\":[-2.2928740978240967],\"type\":\"scatter\"},{\"marker\":{\"color\":\"purple\",\"size\":5},\"mode\":\"markers\",\"name\":\"podilymbus.n.01\",\"opacity\":0.4,\"x\":[-112.04247283935547],\"y\":[30.241979598999023],\"type\":\"scatter\"},{\"marker\":{\"color\":\"purple\",\"size\":5},\"mode\":\"markers\",\"name\":\"fratercula.n.01\",\"opacity\":0.4,\"x\":[7.707635879516602],\"y\":[-23.197982788085938],\"type\":\"scatter\"},{\"marker\":{\"color\":\"purple\",\"size\":5},\"mode\":\"markers\",\"name\":\"carpodacus.n.01\",\"opacity\":0.4,\"x\":[-61.69168472290039],\"y\":[83.04277801513672],\"type\":\"scatter\"},{\"marker\":{\"color\":\"purple\",\"size\":5},\"mode\":\"markers\",\"name\":\"centrocercus.n.01\",\"opacity\":0.4,\"x\":[1.9271349906921387],\"y\":[-26.0859432220459],\"type\":\"scatter\"},{\"marker\":{\"color\":\"purple\",\"size\":5},\"mode\":\"markers\",\"name\":\"himantopus.n.01\",\"opacity\":0.4,\"x\":[0.17195147275924683],\"y\":[-13.38444709777832],\"type\":\"scatter\"},{\"marker\":{\"color\":\"purple\",\"size\":5},\"mode\":\"markers\",\"name\":\"falco.n.01\",\"opacity\":0.4,\"x\":[-11.990801811218262],\"y\":[-21.6014347076416],\"type\":\"scatter\"},{\"marker\":{\"color\":\"purple\",\"size\":5},\"mode\":\"markers\",\"name\":\"cairina.n.01\",\"opacity\":0.4,\"x\":[28.163930892944336],\"y\":[-12.632919311523438],\"type\":\"scatter\"},{\"marker\":{\"color\":\"purple\",\"size\":5},\"mode\":\"markers\",\"name\":\"apus.n.02\",\"opacity\":0.4,\"x\":[-14.380541801452637],\"y\":[-17.52325439453125],\"type\":\"scatter\"},{\"marker\":{\"color\":\"purple\",\"size\":5},\"mode\":\"markers\",\"name\":\"bucephala.n.01\",\"opacity\":0.4,\"x\":[26.315509796142578],\"y\":[-11.622908592224121],\"type\":\"scatter\"},{\"marker\":{\"color\":\"purple\",\"size\":5},\"mode\":\"markers\",\"name\":\"philohela.n.01\",\"opacity\":0.4,\"x\":[-32.96096420288086],\"y\":[9.967568397521973],\"type\":\"scatter\"},{\"marker\":{\"color\":\"purple\",\"size\":5},\"mode\":\"markers\",\"name\":\"aegypius.n.01\",\"opacity\":0.4,\"x\":[-11.77151107788086],\"y\":[-27.743677139282227],\"type\":\"scatter\"},{\"marker\":{\"color\":\"purple\",\"size\":5},\"mode\":\"markers\",\"name\":\"carduelis.n.01\",\"opacity\":0.4,\"x\":[-24.9455509185791],\"y\":[27.717126846313477],\"type\":\"scatter\"},{\"marker\":{\"color\":\"purple\",\"size\":5},\"mode\":\"markers\",\"name\":\"poephila.n.01\",\"opacity\":0.4,\"x\":[-17.71396255493164],\"y\":[3.9258182048797607],\"type\":\"scatter\"},{\"marker\":{\"color\":\"purple\",\"size\":5},\"mode\":\"markers\",\"name\":\"campylorhynchus.n.01\",\"opacity\":0.4,\"x\":[-12.36893367767334],\"y\":[13.487823486328125],\"type\":\"scatter\"},{\"marker\":{\"color\":\"purple\",\"size\":5},\"mode\":\"markers\",\"name\":\"hylophylax.n.01\",\"opacity\":0.4,\"x\":[-2.768869161605835],\"y\":[-33.05418014526367],\"type\":\"scatter\"},{\"marker\":{\"color\":\"purple\",\"size\":5},\"mode\":\"markers\",\"name\":\"ectopistes.n.01\",\"opacity\":0.4,\"x\":[-9.706154823303223],\"y\":[-14.726062774658203],\"type\":\"scatter\"},{\"marker\":{\"color\":\"purple\",\"size\":5},\"mode\":\"markers\",\"name\":\"gallinago.n.01\",\"opacity\":0.4,\"x\":[-33.80599594116211],\"y\":[11.28889274597168],\"type\":\"scatter\"},{\"marker\":{\"color\":\"purple\",\"size\":5},\"mode\":\"markers\",\"name\":\"cladorhyncus.n.01\",\"opacity\":0.4,\"x\":[0.1595131754875183],\"y\":[-13.482575416564941],\"type\":\"scatter\"},{\"marker\":{\"color\":\"purple\",\"size\":5},\"mode\":\"markers\",\"name\":\"accipiter.n.01\",\"opacity\":0.4,\"x\":[-11.393962860107422],\"y\":[-27.57170867919922],\"type\":\"scatter\"},{\"marker\":{\"color\":\"purple\",\"size\":5},\"mode\":\"markers\",\"name\":\"gavia.n.01\",\"opacity\":0.4,\"x\":[8.893156051635742],\"y\":[-23.2759952545166],\"type\":\"scatter\"},{\"marker\":{\"color\":\"purple\",\"size\":5},\"mode\":\"markers\",\"name\":\"syrrhaptes.n.01\",\"opacity\":0.4,\"x\":[-4.237847805023193],\"y\":[-12.18659496307373],\"type\":\"scatter\"},{\"marker\":{\"color\":\"purple\",\"size\":5},\"mode\":\"markers\",\"name\":\"otis.n.02\",\"opacity\":0.4,\"x\":[-10.050724029541016],\"y\":[-1.0226975679397583],\"type\":\"scatter\"},{\"marker\":{\"color\":\"purple\",\"size\":5},\"mode\":\"markers\",\"name\":\"fringilla.n.01\",\"opacity\":0.4,\"x\":[-25.383071899414062],\"y\":[29.57646369934082],\"type\":\"scatter\"},{\"marker\":{\"color\":\"purple\",\"size\":5},\"mode\":\"markers\",\"name\":\"chen.n.01\",\"opacity\":0.4,\"x\":[29.296615600585938],\"y\":[-12.783263206481934],\"type\":\"scatter\"},{\"marker\":{\"color\":\"purple\",\"size\":5},\"mode\":\"markers\",\"name\":\"ladle.v.02\",\"opacity\":0.4,\"x\":[-4.2791266441345215],\"y\":[-8.768531799316406],\"type\":\"scatter\"},{\"marker\":{\"color\":\"purple\",\"size\":5},\"mode\":\"markers\",\"name\":\"lophodytes.n.01\",\"opacity\":0.4,\"x\":[28.28538703918457],\"y\":[-11.454333305358887],\"type\":\"scatter\"},{\"marker\":{\"color\":\"purple\",\"size\":5},\"mode\":\"markers\",\"name\":\"tringa.n.01\",\"opacity\":0.4,\"x\":[-33.11371612548828],\"y\":[8.554993629455566],\"type\":\"scatter\"},{\"marker\":{\"color\":\"purple\",\"size\":5},\"mode\":\"markers\",\"name\":\"hirundo.n.01\",\"opacity\":0.4,\"x\":[-7.192594528198242],\"y\":[5.181388854980469],\"type\":\"scatter\"},{\"marker\":{\"color\":\"purple\",\"size\":5},\"mode\":\"markers\",\"name\":\"perdix.n.01\",\"opacity\":0.4,\"x\":[-3.1909117698669434],\"y\":[-21.84117317199707],\"type\":\"scatter\"},{\"marker\":{\"color\":\"purple\",\"size\":5},\"mode\":\"markers\",\"name\":\"hydrobates.n.01\",\"opacity\":0.4,\"x\":[-34.77752685546875],\"y\":[116.79158782958984],\"type\":\"scatter\"},{\"marker\":{\"color\":\"purple\",\"size\":5},\"mode\":\"markers\",\"name\":\"colinus.n.01\",\"opacity\":0.4,\"x\":[-3.5512685775756836],\"y\":[-19.390865325927734],\"type\":\"scatter\"},{\"marker\":{\"color\":\"purple\",\"size\":5},\"mode\":\"markers\",\"name\":\"parula.n.01\",\"opacity\":0.4,\"x\":[8.266481399536133],\"y\":[-8.8494234085083],\"type\":\"scatter\"},{\"marker\":{\"color\":\"purple\",\"size\":5},\"mode\":\"markers\",\"name\":\"padda.n.01\",\"opacity\":0.4,\"x\":[-17.713558197021484],\"y\":[3.9253854751586914],\"type\":\"scatter\"},{\"marker\":{\"color\":\"purple\",\"size\":5},\"mode\":\"markers\",\"name\":\"struthio.n.01\",\"opacity\":0.4,\"x\":[1.2513617277145386],\"y\":[-10.599420547485352],\"type\":\"scatter\"},{\"marker\":{\"color\":\"purple\",\"size\":5},\"mode\":\"markers\",\"name\":\"somateria.n.01\",\"opacity\":0.4,\"x\":[28.083940505981445],\"y\":[-12.823277473449707],\"type\":\"scatter\"},{\"marker\":{\"color\":\"purple\",\"size\":5},\"mode\":\"markers\",\"name\":\"dolichonyx.n.01\",\"opacity\":0.4,\"x\":[-22.304100036621094],\"y\":[-14.304670333862305],\"type\":\"scatter\"},{\"marker\":{\"color\":\"purple\",\"size\":5},\"mode\":\"markers\",\"name\":\"glossopsitta.n.01\",\"opacity\":0.4,\"x\":[13.625653266906738],\"y\":[28.146190643310547],\"type\":\"scatter\"},{\"marker\":{\"color\":\"purple\",\"size\":5},\"mode\":\"markers\",\"name\":\"ixobrychus.n.01\",\"opacity\":0.4,\"x\":[-30.744544982910156],\"y\":[-5.967765808105469],\"type\":\"scatter\"},{\"marker\":{\"color\":\"purple\",\"size\":5},\"mode\":\"markers\",\"name\":\"sturnus.n.01\",\"opacity\":0.4,\"x\":[-2.382322072982788],\"y\":[12.214709281921387],\"type\":\"scatter\"},{\"marker\":{\"color\":\"purple\",\"size\":5},\"mode\":\"markers\",\"name\":\"asio.n.01\",\"opacity\":0.4,\"x\":[19.54688262939453],\"y\":[-16.33966064453125],\"type\":\"scatter\"},{\"marker\":{\"color\":\"purple\",\"size\":5},\"mode\":\"markers\",\"name\":\"anthus.n.01\",\"opacity\":0.4,\"x\":[5.463338851928711],\"y\":[-8.809700965881348],\"type\":\"scatter\"},{\"marker\":{\"color\":\"purple\",\"size\":5},\"mode\":\"markers\",\"name\":\"icterus.n.02\",\"opacity\":0.4,\"x\":[-21.852645874023438],\"y\":[-14.122835159301758],\"type\":\"scatter\"},{\"marker\":{\"color\":\"purple\",\"size\":5},\"mode\":\"markers\",\"name\":\"pastor.n.02\",\"opacity\":0.4,\"x\":[-2.3813161849975586],\"y\":[12.231756210327148],\"type\":\"scatter\"},{\"marker\":{\"color\":\"purple\",\"size\":5},\"mode\":\"markers\",\"name\":\"pinicola.n.01\",\"opacity\":0.4,\"x\":[-25.871471405029297],\"y\":[28.581775665283203],\"type\":\"scatter\"},{\"marker\":{\"color\":\"purple\",\"size\":5},\"mode\":\"markers\",\"name\":\"leptoptilus.n.01\",\"opacity\":0.4,\"x\":[9.042080879211426],\"y\":[-17.418689727783203],\"type\":\"scatter\"},{\"marker\":{\"color\":\"purple\",\"size\":5},\"mode\":\"markers\",\"name\":\"piranga.n.01\",\"opacity\":0.4,\"x\":[4.251532077789307],\"y\":[-6.447652339935303],\"type\":\"scatter\"},{\"marker\":{\"color\":\"purple\",\"size\":5},\"mode\":\"markers\",\"name\":\"sarcorhamphus.n.01\",\"opacity\":0.4,\"x\":[-19.12318992614746],\"y\":[-22.4036808013916],\"type\":\"scatter\"},{\"marker\":{\"color\":\"purple\",\"size\":5},\"mode\":\"markers\",\"name\":\"campephilus.n.01\",\"opacity\":0.4,\"x\":[19.030426025390625],\"y\":[-6.40454626083374],\"type\":\"scatter\"},{\"marker\":{\"color\":\"purple\",\"size\":5},\"mode\":\"markers\",\"name\":\"tympanuchus.n.01\",\"opacity\":0.4,\"x\":[1.5344711542129517],\"y\":[-25.854040145874023],\"type\":\"scatter\"},{\"marker\":{\"color\":\"purple\",\"size\":5},\"mode\":\"markers\",\"name\":\"stercorarius.n.01\",\"opacity\":0.4,\"x\":[3.6329565048217773],\"y\":[-14.907901763916016],\"type\":\"scatter\"},{\"marker\":{\"color\":\"purple\",\"size\":5},\"mode\":\"markers\",\"name\":\"procellaria.n.01\",\"opacity\":0.4,\"x\":[-15.16978645324707],\"y\":[-1.598931074142456],\"type\":\"scatter\"},{\"marker\":{\"color\":\"purple\",\"size\":5},\"mode\":\"markers\",\"name\":\"scolopax.n.01\",\"opacity\":0.4,\"x\":[-33.47134017944336],\"y\":[9.896770477294922],\"type\":\"scatter\"},{\"marker\":{\"color\":\"purple\",\"size\":5},\"mode\":\"markers\",\"name\":\"kakatoe.n.01\",\"opacity\":0.4,\"x\":[13.9491605758667],\"y\":[27.304494857788086],\"type\":\"scatter\"},{\"marker\":{\"color\":\"purple\",\"size\":5},\"mode\":\"markers\",\"name\":\"contopus.n.01\",\"opacity\":0.4,\"x\":[-1.9172234535217285],\"y\":[-31.68425941467285],\"type\":\"scatter\"},{\"marker\":{\"color\":\"purple\",\"size\":5},\"mode\":\"markers\",\"name\":\"chlamydera.n.01\",\"opacity\":0.4,\"x\":[-3.6679041385650635],\"y\":[-6.201587200164795],\"type\":\"scatter\"},{\"marker\":{\"color\":\"purple\",\"size\":5},\"mode\":\"markers\",\"name\":\"oreortyx.n.01\",\"opacity\":0.4,\"x\":[-3.1521708965301514],\"y\":[-21.738521575927734],\"type\":\"scatter\"},{\"marker\":{\"color\":\"purple\",\"size\":5},\"mode\":\"markers\",\"name\":\"melopsittacus.n.01\",\"opacity\":0.4,\"x\":[14.55042552947998],\"y\":[27.842483520507812],\"type\":\"scatter\"},{\"marker\":{\"color\":\"purple\",\"size\":5},\"mode\":\"markers\",\"name\":\"egretta.n.01\",\"opacity\":0.4,\"x\":[-30.535341262817383],\"y\":[-4.6854095458984375],\"type\":\"scatter\"},{\"marker\":{\"color\":\"purple\",\"size\":5},\"mode\":\"markers\",\"name\":\"pelecanus.n.01\",\"opacity\":0.4,\"x\":[5.554621696472168],\"y\":[-12.653923034667969],\"type\":\"scatter\"},{\"marker\":{\"color\":\"purple\",\"size\":5},\"mode\":\"markers\",\"name\":\"pezophaps.n.01\",\"opacity\":0.4,\"x\":[-7.072027683258057],\"y\":[-13.099175453186035],\"type\":\"scatter\"},{\"marker\":{\"color\":\"purple\",\"size\":5},\"mode\":\"markers\",\"name\":\"surnia.n.01\",\"opacity\":0.4,\"x\":[20.017515182495117],\"y\":[-16.89510726928711],\"type\":\"scatter\"},{\"marker\":{\"color\":\"purple\",\"size\":5},\"mode\":\"markers\",\"name\":\"delichon.n.01\",\"opacity\":0.4,\"x\":[-7.192755699157715],\"y\":[5.181430816650391],\"type\":\"scatter\"},{\"marker\":{\"color\":\"purple\",\"size\":5},\"mode\":\"markers\",\"name\":\"catoptrophorus.n.01\",\"opacity\":0.4,\"x\":[-32.50082015991211],\"y\":[9.511058807373047],\"type\":\"scatter\"},{\"marker\":{\"color\":\"purple\",\"size\":5},\"mode\":\"markers\",\"name\":\"oxyura.n.01\",\"opacity\":0.4,\"x\":[27.80862045288086],\"y\":[-12.561704635620117],\"type\":\"scatter\"},{\"marker\":{\"color\":\"purple\",\"size\":5},\"mode\":\"markers\",\"name\":\"pharomacrus.n.01\",\"opacity\":0.4,\"x\":[-111.0594482421875],\"y\":[7.005534648895264],\"type\":\"scatter\"},{\"marker\":{\"color\":\"purple\",\"size\":5},\"mode\":\"markers\",\"name\":\"oriolus.n.01\",\"opacity\":0.4,\"x\":[-3.538419485092163],\"y\":[-4.157663345336914],\"type\":\"scatter\"},{\"marker\":{\"color\":\"purple\",\"size\":5},\"mode\":\"markers\",\"name\":\"genus_notornis.n.01\",\"opacity\":0.4,\"x\":[-12.46640396118164],\"y\":[2.159931182861328],\"type\":\"scatter\"},{\"marker\":{\"color\":\"purple\",\"size\":5},\"mode\":\"markers\",\"name\":\"riparia.n.01\",\"opacity\":0.4,\"x\":[-7.1923418045043945],\"y\":[5.181290149688721],\"type\":\"scatter\"},{\"marker\":{\"color\":\"purple\",\"size\":5},\"mode\":\"markers\",\"name\":\"cinclus.n.01\",\"opacity\":0.4,\"x\":[-39.334564208984375],\"y\":[95.58844757080078],\"type\":\"scatter\"},{\"marker\":{\"color\":\"purple\",\"size\":5},\"mode\":\"markers\",\"name\":\"atrichornis.n.01\",\"opacity\":0.4,\"x\":[0.20839528739452362],\"y\":[-6.790005207061768],\"type\":\"scatter\"},{\"marker\":{\"color\":\"purple\",\"size\":5},\"mode\":\"markers\",\"name\":\"steganopus.n.01\",\"opacity\":0.4,\"x\":[0.9515921473503113],\"y\":[-16.847654342651367],\"type\":\"scatter\"},{\"marker\":{\"color\":\"purple\",\"size\":5},\"mode\":\"markers\",\"name\":\"phasianus.n.01\",\"opacity\":0.4,\"x\":[1.2019473314285278],\"y\":[-4.721665382385254],\"type\":\"scatter\"},{\"marker\":{\"color\":\"purple\",\"size\":5},\"mode\":\"markers\",\"name\":\"dumetella.n.01\",\"opacity\":0.4,\"x\":[-19.557588577270508],\"y\":[10.408442497253418],\"type\":\"scatter\"},{\"marker\":{\"color\":\"purple\",\"size\":5},\"mode\":\"markers\",\"name\":\"cephalopterus.n.01\",\"opacity\":0.4,\"x\":[-1.2141646146774292],\"y\":[-33.077022552490234],\"type\":\"scatter\"},{\"marker\":{\"color\":\"purple\",\"size\":5},\"mode\":\"markers\",\"name\":\"sturnella.n.01\",\"opacity\":0.4,\"x\":[-22.84600830078125],\"y\":[-15.184576988220215],\"type\":\"scatter\"},{\"marker\":{\"color\":\"purple\",\"size\":5},\"mode\":\"markers\",\"name\":\"vultur.n.01\",\"opacity\":0.4,\"x\":[-19.122777938842773],\"y\":[-22.404056549072266],\"type\":\"scatter\"},{\"marker\":{\"color\":\"purple\",\"size\":5},\"mode\":\"markers\",\"name\":\"lophophorus.n.01\",\"opacity\":0.4,\"x\":[-2.687941789627075],\"y\":[-20.25518798828125],\"type\":\"scatter\"},{\"marker\":{\"color\":\"purple\",\"size\":5},\"mode\":\"markers\",\"name\":\"porphyrula.n.01\",\"opacity\":0.4,\"x\":[-12.41162109375],\"y\":[2.383063316345215],\"type\":\"scatter\"},{\"marker\":{\"color\":\"purple\",\"size\":5},\"mode\":\"markers\",\"name\":\"turnix.n.01\",\"opacity\":0.4,\"x\":[-5.818568229675293],\"y\":[-3.1997435092926025],\"type\":\"scatter\"},{\"marker\":{\"color\":\"purple\",\"size\":5},\"mode\":\"markers\",\"name\":\"thryothorus.n.01\",\"opacity\":0.4,\"x\":[-12.368966102600098],\"y\":[13.487282752990723],\"type\":\"scatter\"},{\"marker\":{\"color\":\"purple\",\"size\":5},\"mode\":\"markers\",\"name\":\"circaetus.n.01\",\"opacity\":0.4,\"x\":[-12.282135963439941],\"y\":[-26.741256713867188],\"type\":\"scatter\"},{\"marker\":{\"color\":\"purple\",\"size\":5},\"mode\":\"markers\",\"name\":\"salpinctes.n.01\",\"opacity\":0.4,\"x\":[-12.368804931640625],\"y\":[13.487873077392578],\"type\":\"scatter\"},{\"marker\":{\"color\":\"purple\",\"size\":5},\"mode\":\"markers\",\"name\":\"circus.n.06\",\"opacity\":0.4,\"x\":[-10.150602340698242],\"y\":[-25.0241756439209],\"type\":\"scatter\"},{\"marker\":{\"color\":\"purple\",\"size\":5},\"mode\":\"markers\",\"name\":\"quiscalus.n.01\",\"opacity\":0.4,\"x\":[-22.307222366333008],\"y\":[-14.064687728881836],\"type\":\"scatter\"},{\"marker\":{\"color\":\"purple\",\"size\":5},\"mode\":\"markers\",\"name\":\"tyrannus.n.01\",\"opacity\":0.4,\"x\":[-1.625017762184143],\"y\":[-31.02732276916504],\"type\":\"scatter\"},{\"marker\":{\"color\":\"purple\",\"size\":5},\"mode\":\"markers\",\"name\":\"chamaea.n.01\",\"opacity\":0.4,\"x\":[-23.328813552856445],\"y\":[5.235269546508789],\"type\":\"scatter\"},{\"marker\":{\"color\":\"purple\",\"size\":5},\"mode\":\"markers\",\"name\":\"artamus.n.01\",\"opacity\":0.4,\"x\":[1.4236702919006348],\"y\":[-7.383759021759033],\"type\":\"scatter\"},{\"marker\":{\"color\":\"purple\",\"size\":5},\"mode\":\"markers\",\"name\":\"xenorhyncus.n.01\",\"opacity\":0.4,\"x\":[9.214073181152344],\"y\":[-18.213144302368164],\"type\":\"scatter\"},{\"marker\":{\"color\":\"purple\",\"size\":5},\"mode\":\"markers\",\"name\":\"oceanites.n.01\",\"opacity\":0.4,\"x\":[-13.686159133911133],\"y\":[-1.9536021947860718],\"type\":\"scatter\"},{\"marker\":{\"color\":\"purple\",\"size\":5},\"mode\":\"markers\",\"name\":\"catharacta.n.01\",\"opacity\":0.4,\"x\":[3.6335196495056152],\"y\":[-14.907833099365234],\"type\":\"scatter\"},{\"marker\":{\"color\":\"purple\",\"size\":5},\"mode\":\"markers\",\"name\":\"erolia.n.01\",\"opacity\":0.4,\"x\":[-33.49433135986328],\"y\":[9.322159767150879],\"type\":\"scatter\"},{\"marker\":{\"color\":\"purple\",\"size\":5},\"mode\":\"markers\",\"name\":\"cursorius.n.01\",\"opacity\":0.4,\"x\":[-2.0576398372650146],\"y\":[-14.684812545776367],\"type\":\"scatter\"},{\"marker\":{\"color\":\"purple\",\"size\":5},\"mode\":\"markers\",\"name\":\"collocalia.n.01\",\"opacity\":0.4,\"x\":[-14.381096839904785],\"y\":[-17.523319244384766],\"type\":\"scatter\"},{\"marker\":{\"color\":\"purple\",\"size\":5},\"mode\":\"markers\",\"name\":\"genus_anhinga.n.01\",\"opacity\":0.4,\"x\":[5.724224090576172],\"y\":[-12.060720443725586],\"type\":\"scatter\"},{\"marker\":{\"color\":\"purple\",\"size\":5},\"mode\":\"markers\",\"name\":\"dromaius.n.01\",\"opacity\":0.4,\"x\":[6.704424858093262],\"y\":[-7.105381965637207],\"type\":\"scatter\"},{\"marker\":{\"color\":\"purple\",\"size\":5},\"mode\":\"markers\",\"name\":\"gyps.n.01\",\"opacity\":0.4,\"x\":[2.3260700702667236],\"y\":[-1.7777175903320312],\"type\":\"scatter\"},{\"marker\":{\"color\":\"purple\",\"size\":5},\"mode\":\"markers\",\"name\":\"psophia.n.01\",\"opacity\":0.4,\"x\":[-5.141418933868408],\"y\":[-3.098484754562378],\"type\":\"scatter\"},{\"marker\":{\"color\":\"purple\",\"size\":5},\"mode\":\"markers\",\"name\":\"platalea.n.01\",\"opacity\":0.4,\"x\":[-5.044128894805908],\"y\":[-15.61302375793457],\"type\":\"scatter\"},{\"marker\":{\"color\":\"purple\",\"size\":5},\"mode\":\"markers\",\"name\":\"chordeiles.n.01\",\"opacity\":0.4,\"x\":[-9.364381790161133],\"y\":[-8.161664962768555],\"type\":\"scatter\"},{\"marker\":{\"color\":\"purple\",\"size\":5},\"mode\":\"markers\",\"name\":\"strepera.n.01\",\"opacity\":0.4,\"x\":[2.6589531898498535],\"y\":[-20.608776092529297],\"type\":\"scatter\"},{\"marker\":{\"color\":\"purple\",\"size\":5},\"mode\":\"markers\",\"name\":\"chlorura.n.01\",\"opacity\":0.4,\"x\":[-26.384275436401367],\"y\":[28.795528411865234],\"type\":\"scatter\"},{\"marker\":{\"color\":\"purple\",\"size\":5},\"mode\":\"markers\",\"name\":\"nestor.n.02\",\"opacity\":0.4,\"x\":[14.289698600769043],\"y\":[27.48027229309082],\"type\":\"scatter\"},{\"marker\":{\"color\":\"purple\",\"size\":5},\"mode\":\"markers\",\"name\":\"aphriza.n.01\",\"opacity\":0.4,\"x\":[-33.86204528808594],\"y\":[10.021312713623047],\"type\":\"scatter\"},{\"marker\":{\"color\":\"purple\",\"size\":5},\"mode\":\"markers\",\"name\":\"neophron.n.01\",\"opacity\":0.4,\"x\":[-12.268106460571289],\"y\":[-27.190406799316406],\"type\":\"scatter\"},{\"marker\":{\"color\":\"purple\",\"size\":5},\"mode\":\"markers\",\"name\":\"cathartes.n.01\",\"opacity\":0.4,\"x\":[-19.11729621887207],\"y\":[-22.409923553466797],\"type\":\"scatter\"},{\"marker\":{\"color\":\"purple\",\"size\":5},\"mode\":\"markers\",\"name\":\"pluvianus.n.01\",\"opacity\":0.4,\"x\":[-2.0576016902923584],\"y\":[-14.684685707092285],\"type\":\"scatter\"},{\"marker\":{\"color\":\"purple\",\"size\":5},\"mode\":\"markers\",\"name\":\"muscivora.n.01\",\"opacity\":0.4,\"x\":[-1.6582591533660889],\"y\":[-32.282989501953125],\"type\":\"scatter\"},{\"marker\":{\"color\":\"purple\",\"size\":5},\"mode\":\"markers\",\"name\":\"argusianus.n.01\",\"opacity\":0.4,\"x\":[-2.768517017364502],\"y\":[-20.114418029785156],\"type\":\"scatter\"},{\"marker\":{\"color\":\"purple\",\"size\":5},\"mode\":\"markers\",\"name\":\"gymnorhina.n.01\",\"opacity\":0.4,\"x\":[2.6588995456695557],\"y\":[-20.60883140563965],\"type\":\"scatter\"},{\"marker\":{\"color\":\"purple\",\"size\":5},\"mode\":\"markers\",\"name\":\"heteroscelus.n.01\",\"opacity\":0.4,\"x\":[-32.32463073730469],\"y\":[10.07093620300293],\"type\":\"scatter\"},{\"marker\":{\"color\":\"purple\",\"size\":5},\"mode\":\"markers\",\"name\":\"phaethon.n.02\",\"opacity\":0.4,\"x\":[-1.4277784824371338],\"y\":[-6.777383327484131],\"type\":\"scatter\"},{\"marker\":{\"color\":\"purple\",\"size\":5},\"mode\":\"markers\",\"name\":\"phalaropus.n.01\",\"opacity\":0.4,\"x\":[0.9512171745300293],\"y\":[-16.845075607299805],\"type\":\"scatter\"},{\"marker\":{\"color\":\"purple\",\"size\":5},\"mode\":\"markers\",\"name\":\"anhima.n.01\",\"opacity\":0.4,\"x\":[12.033225059509277],\"y\":[-5.812913417816162],\"type\":\"scatter\"},{\"marker\":{\"color\":\"purple\",\"size\":5},\"mode\":\"markers\",\"name\":\"alectoris.n.01\",\"opacity\":0.4,\"x\":[-3.1441051959991455],\"y\":[-21.730384826660156],\"type\":\"scatter\"},{\"marker\":{\"color\":\"purple\",\"size\":5},\"mode\":\"markers\",\"name\":\"coracias.n.01\",\"opacity\":0.4,\"x\":[-9.606659889221191],\"y\":[-4.846365451812744],\"type\":\"scatter\"},{\"marker\":{\"color\":\"purple\",\"size\":5},\"mode\":\"markers\",\"name\":\"sitta.n.01\",\"opacity\":0.4,\"x\":[-2.6367807388305664],\"y\":[-7.304605007171631],\"type\":\"scatter\"},{\"marker\":{\"color\":\"purple\",\"size\":5},\"mode\":\"markers\",\"name\":\"gallirallus.n.01\",\"opacity\":0.4,\"x\":[-12.666044235229492],\"y\":[2.557215690612793],\"type\":\"scatter\"},{\"marker\":{\"color\":\"purple\",\"size\":5},\"mode\":\"markers\",\"name\":\"crocethia.n.01\",\"opacity\":0.4,\"x\":[-32.44818878173828],\"y\":[8.980989456176758],\"type\":\"scatter\"},{\"marker\":{\"color\":\"purple\",\"size\":5},\"mode\":\"markers\",\"name\":\"luscinia.n.01\",\"opacity\":0.4,\"x\":[-96.30847930908203],\"y\":[44.82624435424805],\"type\":\"scatter\"},{\"marker\":{\"color\":\"purple\",\"size\":5},\"mode\":\"markers\",\"name\":\"cyanocitta.n.01\",\"opacity\":0.4,\"x\":[-4.552063941955566],\"y\":[-9.05225944519043],\"type\":\"scatter\"},{\"marker\":{\"color\":\"purple\",\"size\":5},\"mode\":\"markers\",\"name\":\"aptenodytes.n.01\",\"opacity\":0.4,\"x\":[14.429430961608887],\"y\":[-14.799574851989746],\"type\":\"scatter\"},{\"marker\":{\"color\":\"purple\",\"size\":5},\"mode\":\"markers\",\"name\":\"coragyps.n.01\",\"opacity\":0.4,\"x\":[-19.116962432861328],\"y\":[-22.41025161743164],\"type\":\"scatter\"},{\"marker\":{\"color\":\"purple\",\"size\":5},\"mode\":\"markers\",\"name\":\"melospiza.n.01\",\"opacity\":0.4,\"x\":[-25.194263458251953],\"y\":[28.978384017944336],\"type\":\"scatter\"},{\"marker\":{\"color\":\"purple\",\"size\":5},\"mode\":\"markers\",\"name\":\"pernis.n.01\",\"opacity\":0.4,\"x\":[-11.929665565490723],\"y\":[-27.358800888061523],\"type\":\"scatter\"},{\"marker\":{\"color\":\"purple\",\"size\":5},\"mode\":\"markers\",\"name\":\"glareola.n.01\",\"opacity\":0.4,\"x\":[-0.07193207740783691],\"y\":[-12.685596466064453],\"type\":\"scatter\"},{\"marker\":{\"color\":\"purple\",\"size\":5},\"mode\":\"markers\",\"name\":\"pedionomus.n.01\",\"opacity\":0.4,\"x\":[9.072778701782227],\"y\":[-3.0848007202148438],\"type\":\"scatter\"},{\"marker\":{\"color\":\"purple\",\"size\":5},\"mode\":\"markers\",\"name\":\"coccothraustes.n.01\",\"opacity\":0.4,\"x\":[-26.302587509155273],\"y\":[28.085718154907227],\"type\":\"scatter\"},{\"marker\":{\"color\":\"purple\",\"size\":5},\"mode\":\"markers\",\"name\":\"fulmarus.n.01\",\"opacity\":0.4,\"x\":[-15.14761734008789],\"y\":[-1.6028951406478882],\"type\":\"scatter\"},{\"marker\":{\"color\":\"purple\",\"size\":5},\"mode\":\"markers\",\"name\":\"cariama.n.01\",\"opacity\":0.4,\"x\":[-7.992328643798828],\"y\":[-2.292536497116089],\"type\":\"scatter\"},{\"marker\":{\"color\":\"purple\",\"size\":5},\"mode\":\"markers\",\"name\":\"ajaia.n.01\",\"opacity\":0.4,\"x\":[-5.045010566711426],\"y\":[-15.617926597595215],\"type\":\"scatter\"},{\"marker\":{\"color\":\"purple\",\"size\":5},\"mode\":\"markers\",\"name\":\"dinornis.n.01\",\"opacity\":0.4,\"x\":[2.012739658355713],\"y\":[-10.51142406463623],\"type\":\"scatter\"},{\"marker\":{\"color\":\"purple\",\"size\":5},\"mode\":\"markers\",\"name\":\"alauda.n.01\",\"opacity\":0.4,\"x\":[-15.643864631652832],\"y\":[102.46107482910156],\"type\":\"scatter\"},{\"marker\":{\"color\":\"purple\",\"size\":5},\"mode\":\"markers\",\"name\":\"pyrrhula.n.01\",\"opacity\":0.4,\"x\":[-25.95207405090332],\"y\":[27.92934799194336],\"type\":\"scatter\"},{\"marker\":{\"color\":\"purple\",\"size\":5},\"mode\":\"markers\",\"name\":\"silvia.n.01\",\"opacity\":0.4,\"x\":[-10.194807052612305],\"y\":[5.9976420402526855],\"type\":\"scatter\"},{\"marker\":{\"color\":\"purple\",\"size\":5},\"mode\":\"markers\",\"name\":\"psaltriparus.n.01\",\"opacity\":0.4,\"x\":[-23.32868766784668],\"y\":[5.235011577606201],\"type\":\"scatter\"},{\"marker\":{\"color\":\"purple\",\"size\":5},\"mode\":\"markers\",\"name\":\"haematopus.n.01\",\"opacity\":0.4,\"x\":[1.0648716688156128],\"y\":[-3.673231601715088],\"type\":\"scatter\"},{\"marker\":{\"color\":\"purple\",\"size\":5},\"mode\":\"markers\",\"name\":\"pinguinus.n.01\",\"opacity\":0.4,\"x\":[1.5197035074234009],\"y\":[-3.2458877563476562],\"type\":\"scatter\"},{\"marker\":{\"color\":\"purple\",\"size\":5},\"mode\":\"markers\",\"name\":\"buteo.n.01\",\"opacity\":0.4,\"x\":[-11.130891799926758],\"y\":[-27.00079917907715],\"type\":\"scatter\"},{\"marker\":{\"color\":\"purple\",\"size\":5},\"mode\":\"markers\",\"name\":\"lanius.n.01\",\"opacity\":0.4,\"x\":[-6.73084020614624],\"y\":[-6.72756290435791],\"type\":\"scatter\"},{\"marker\":{\"color\":\"purple\",\"size\":5},\"mode\":\"markers\",\"name\":\"pygoscelis.n.01\",\"opacity\":0.4,\"x\":[14.429186820983887],\"y\":[-14.799369812011719],\"type\":\"scatter\"},{\"marker\":{\"color\":\"gray\",\"size\":5},\"mode\":\"markers\",\"name\":\"garden_centipede.n.01\",\"opacity\":0.4,\"x\":[3.2438671588897705],\"y\":[-5.837557315826416],\"type\":\"scatter\"},{\"marker\":{\"color\":\"gray\",\"size\":5},\"mode\":\"markers\",\"name\":\"crustacean.n.01\",\"opacity\":0.4,\"x\":[3.3232431411743164],\"y\":[-3.340174674987793],\"type\":\"scatter\"},{\"marker\":{\"color\":\"gray\",\"size\":5},\"mode\":\"markers\",\"name\":\"arthropoda.n.01\",\"opacity\":0.4,\"x\":[2.0558836460113525],\"y\":[-3.7280611991882324],\"type\":\"scatter\"},{\"marker\":{\"color\":\"gray\",\"size\":5},\"mode\":\"markers\",\"name\":\"insect.n.01\",\"opacity\":0.4,\"x\":[2.25998854637146],\"y\":[-3.1763837337493896],\"type\":\"scatter\"},{\"marker\":{\"color\":\"gray\",\"size\":5},\"mode\":\"markers\",\"name\":\"arachnid.n.01\",\"opacity\":0.4,\"x\":[2.3499746322631836],\"y\":[-5.027643203735352],\"type\":\"scatter\"},{\"marker\":{\"color\":\"gray\",\"size\":5},\"mode\":\"markers\",\"name\":\"merostomata.n.01\",\"opacity\":0.4,\"x\":[3.3712289333343506],\"y\":[-4.900002479553223],\"type\":\"scatter\"},{\"marker\":{\"color\":\"gray\",\"size\":5},\"mode\":\"markers\",\"name\":\"millipede.n.01\",\"opacity\":0.4,\"x\":[2.725661516189575],\"y\":[-6.890619277954102],\"type\":\"scatter\"},{\"marker\":{\"color\":\"gray\",\"size\":5},\"mode\":\"markers\",\"name\":\"onychophoran.n.01\",\"opacity\":0.4,\"x\":[1.8604813814163208],\"y\":[-5.946122646331787],\"type\":\"scatter\"}],                        {\"template\":{\"data\":{\"histogram2dcontour\":[{\"type\":\"histogram2dcontour\",\"colorbar\":{\"outlinewidth\":0,\"ticks\":\"\"},\"colorscale\":[[0.0,\"#0d0887\"],[0.1111111111111111,\"#46039f\"],[0.2222222222222222,\"#7201a8\"],[0.3333333333333333,\"#9c179e\"],[0.4444444444444444,\"#bd3786\"],[0.5555555555555556,\"#d8576b\"],[0.6666666666666666,\"#ed7953\"],[0.7777777777777778,\"#fb9f3a\"],[0.8888888888888888,\"#fdca26\"],[1.0,\"#f0f921\"]]}],\"choropleth\":[{\"type\":\"choropleth\",\"colorbar\":{\"outlinewidth\":0,\"ticks\":\"\"}}],\"histogram2d\":[{\"type\":\"histogram2d\",\"colorbar\":{\"outlinewidth\":0,\"ticks\":\"\"},\"colorscale\":[[0.0,\"#0d0887\"],[0.1111111111111111,\"#46039f\"],[0.2222222222222222,\"#7201a8\"],[0.3333333333333333,\"#9c179e\"],[0.4444444444444444,\"#bd3786\"],[0.5555555555555556,\"#d8576b\"],[0.6666666666666666,\"#ed7953\"],[0.7777777777777778,\"#fb9f3a\"],[0.8888888888888888,\"#fdca26\"],[1.0,\"#f0f921\"]]}],\"heatmap\":[{\"type\":\"heatmap\",\"colorbar\":{\"outlinewidth\":0,\"ticks\":\"\"},\"colorscale\":[[0.0,\"#0d0887\"],[0.1111111111111111,\"#46039f\"],[0.2222222222222222,\"#7201a8\"],[0.3333333333333333,\"#9c179e\"],[0.4444444444444444,\"#bd3786\"],[0.5555555555555556,\"#d8576b\"],[0.6666666666666666,\"#ed7953\"],[0.7777777777777778,\"#fb9f3a\"],[0.8888888888888888,\"#fdca26\"],[1.0,\"#f0f921\"]]}],\"heatmapgl\":[{\"type\":\"heatmapgl\",\"colorbar\":{\"outlinewidth\":0,\"ticks\":\"\"},\"colorscale\":[[0.0,\"#0d0887\"],[0.1111111111111111,\"#46039f\"],[0.2222222222222222,\"#7201a8\"],[0.3333333333333333,\"#9c179e\"],[0.4444444444444444,\"#bd3786\"],[0.5555555555555556,\"#d8576b\"],[0.6666666666666666,\"#ed7953\"],[0.7777777777777778,\"#fb9f3a\"],[0.8888888888888888,\"#fdca26\"],[1.0,\"#f0f921\"]]}],\"contourcarpet\":[{\"type\":\"contourcarpet\",\"colorbar\":{\"outlinewidth\":0,\"ticks\":\"\"}}],\"contour\":[{\"type\":\"contour\",\"colorbar\":{\"outlinewidth\":0,\"ticks\":\"\"},\"colorscale\":[[0.0,\"#0d0887\"],[0.1111111111111111,\"#46039f\"],[0.2222222222222222,\"#7201a8\"],[0.3333333333333333,\"#9c179e\"],[0.4444444444444444,\"#bd3786\"],[0.5555555555555556,\"#d8576b\"],[0.6666666666666666,\"#ed7953\"],[0.7777777777777778,\"#fb9f3a\"],[0.8888888888888888,\"#fdca26\"],[1.0,\"#f0f921\"]]}],\"surface\":[{\"type\":\"surface\",\"colorbar\":{\"outlinewidth\":0,\"ticks\":\"\"},\"colorscale\":[[0.0,\"#0d0887\"],[0.1111111111111111,\"#46039f\"],[0.2222222222222222,\"#7201a8\"],[0.3333333333333333,\"#9c179e\"],[0.4444444444444444,\"#bd3786\"],[0.5555555555555556,\"#d8576b\"],[0.6666666666666666,\"#ed7953\"],[0.7777777777777778,\"#fb9f3a\"],[0.8888888888888888,\"#fdca26\"],[1.0,\"#f0f921\"]]}],\"mesh3d\":[{\"type\":\"mesh3d\",\"colorbar\":{\"outlinewidth\":0,\"ticks\":\"\"}}],\"scatter\":[{\"fillpattern\":{\"fillmode\":\"overlay\",\"size\":10,\"solidity\":0.2},\"type\":\"scatter\"}],\"parcoords\":[{\"type\":\"parcoords\",\"line\":{\"colorbar\":{\"outlinewidth\":0,\"ticks\":\"\"}}}],\"scatterpolargl\":[{\"type\":\"scatterpolargl\",\"marker\":{\"colorbar\":{\"outlinewidth\":0,\"ticks\":\"\"}}}],\"bar\":[{\"error_x\":{\"color\":\"#2a3f5f\"},\"error_y\":{\"color\":\"#2a3f5f\"},\"marker\":{\"line\":{\"color\":\"#E5ECF6\",\"width\":0.5},\"pattern\":{\"fillmode\":\"overlay\",\"size\":10,\"solidity\":0.2}},\"type\":\"bar\"}],\"scattergeo\":[{\"type\":\"scattergeo\",\"marker\":{\"colorbar\":{\"outlinewidth\":0,\"ticks\":\"\"}}}],\"scatterpolar\":[{\"type\":\"scatterpolar\",\"marker\":{\"colorbar\":{\"outlinewidth\":0,\"ticks\":\"\"}}}],\"histogram\":[{\"marker\":{\"pattern\":{\"fillmode\":\"overlay\",\"size\":10,\"solidity\":0.2}},\"type\":\"histogram\"}],\"scattergl\":[{\"type\":\"scattergl\",\"marker\":{\"colorbar\":{\"outlinewidth\":0,\"ticks\":\"\"}}}],\"scatter3d\":[{\"type\":\"scatter3d\",\"line\":{\"colorbar\":{\"outlinewidth\":0,\"ticks\":\"\"}},\"marker\":{\"colorbar\":{\"outlinewidth\":0,\"ticks\":\"\"}}}],\"scattermapbox\":[{\"type\":\"scattermapbox\",\"marker\":{\"colorbar\":{\"outlinewidth\":0,\"ticks\":\"\"}}}],\"scatterternary\":[{\"type\":\"scatterternary\",\"marker\":{\"colorbar\":{\"outlinewidth\":0,\"ticks\":\"\"}}}],\"scattercarpet\":[{\"type\":\"scattercarpet\",\"marker\":{\"colorbar\":{\"outlinewidth\":0,\"ticks\":\"\"}}}],\"carpet\":[{\"aaxis\":{\"endlinecolor\":\"#2a3f5f\",\"gridcolor\":\"white\",\"linecolor\":\"white\",\"minorgridcolor\":\"white\",\"startlinecolor\":\"#2a3f5f\"},\"baxis\":{\"endlinecolor\":\"#2a3f5f\",\"gridcolor\":\"white\",\"linecolor\":\"white\",\"minorgridcolor\":\"white\",\"startlinecolor\":\"#2a3f5f\"},\"type\":\"carpet\"}],\"table\":[{\"cells\":{\"fill\":{\"color\":\"#EBF0F8\"},\"line\":{\"color\":\"white\"}},\"header\":{\"fill\":{\"color\":\"#C8D4E3\"},\"line\":{\"color\":\"white\"}},\"type\":\"table\"}],\"barpolar\":[{\"marker\":{\"line\":{\"color\":\"#E5ECF6\",\"width\":0.5},\"pattern\":{\"fillmode\":\"overlay\",\"size\":10,\"solidity\":0.2}},\"type\":\"barpolar\"}],\"pie\":[{\"automargin\":true,\"type\":\"pie\"}]},\"layout\":{\"autotypenumbers\":\"strict\",\"colorway\":[\"#636efa\",\"#EF553B\",\"#00cc96\",\"#ab63fa\",\"#FFA15A\",\"#19d3f3\",\"#FF6692\",\"#B6E880\",\"#FF97FF\",\"#FECB52\"],\"font\":{\"color\":\"#2a3f5f\"},\"hovermode\":\"closest\",\"hoverlabel\":{\"align\":\"left\"},\"paper_bgcolor\":\"white\",\"plot_bgcolor\":\"#E5ECF6\",\"polar\":{\"bgcolor\":\"#E5ECF6\",\"angularaxis\":{\"gridcolor\":\"white\",\"linecolor\":\"white\",\"ticks\":\"\"},\"radialaxis\":{\"gridcolor\":\"white\",\"linecolor\":\"white\",\"ticks\":\"\"}},\"ternary\":{\"bgcolor\":\"#E5ECF6\",\"aaxis\":{\"gridcolor\":\"white\",\"linecolor\":\"white\",\"ticks\":\"\"},\"baxis\":{\"gridcolor\":\"white\",\"linecolor\":\"white\",\"ticks\":\"\"},\"caxis\":{\"gridcolor\":\"white\",\"linecolor\":\"white\",\"ticks\":\"\"}},\"coloraxis\":{\"colorbar\":{\"outlinewidth\":0,\"ticks\":\"\"}},\"colorscale\":{\"sequential\":[[0.0,\"#0d0887\"],[0.1111111111111111,\"#46039f\"],[0.2222222222222222,\"#7201a8\"],[0.3333333333333333,\"#9c179e\"],[0.4444444444444444,\"#bd3786\"],[0.5555555555555556,\"#d8576b\"],[0.6666666666666666,\"#ed7953\"],[0.7777777777777778,\"#fb9f3a\"],[0.8888888888888888,\"#fdca26\"],[1.0,\"#f0f921\"]],\"sequentialminus\":[[0.0,\"#0d0887\"],[0.1111111111111111,\"#46039f\"],[0.2222222222222222,\"#7201a8\"],[0.3333333333333333,\"#9c179e\"],[0.4444444444444444,\"#bd3786\"],[0.5555555555555556,\"#d8576b\"],[0.6666666666666666,\"#ed7953\"],[0.7777777777777778,\"#fb9f3a\"],[0.8888888888888888,\"#fdca26\"],[1.0,\"#f0f921\"]],\"diverging\":[[0,\"#8e0152\"],[0.1,\"#c51b7d\"],[0.2,\"#de77ae\"],[0.3,\"#f1b6da\"],[0.4,\"#fde0ef\"],[0.5,\"#f7f7f7\"],[0.6,\"#e6f5d0\"],[0.7,\"#b8e186\"],[0.8,\"#7fbc41\"],[0.9,\"#4d9221\"],[1,\"#276419\"]]},\"xaxis\":{\"gridcolor\":\"white\",\"linecolor\":\"white\",\"ticks\":\"\",\"title\":{\"standoff\":15},\"zerolinecolor\":\"white\",\"automargin\":true,\"zerolinewidth\":2},\"yaxis\":{\"gridcolor\":\"white\",\"linecolor\":\"white\",\"ticks\":\"\",\"title\":{\"standoff\":15},\"zerolinecolor\":\"white\",\"automargin\":true,\"zerolinewidth\":2},\"scene\":{\"xaxis\":{\"backgroundcolor\":\"#E5ECF6\",\"gridcolor\":\"white\",\"linecolor\":\"white\",\"showbackground\":true,\"ticks\":\"\",\"zerolinecolor\":\"white\",\"gridwidth\":2},\"yaxis\":{\"backgroundcolor\":\"#E5ECF6\",\"gridcolor\":\"white\",\"linecolor\":\"white\",\"showbackground\":true,\"ticks\":\"\",\"zerolinecolor\":\"white\",\"gridwidth\":2},\"zaxis\":{\"backgroundcolor\":\"#E5ECF6\",\"gridcolor\":\"white\",\"linecolor\":\"white\",\"showbackground\":true,\"ticks\":\"\",\"zerolinecolor\":\"white\",\"gridwidth\":2}},\"shapedefaults\":{\"line\":{\"color\":\"#2a3f5f\"}},\"annotationdefaults\":{\"arrowcolor\":\"#2a3f5f\",\"arrowhead\":0,\"arrowwidth\":1},\"geo\":{\"bgcolor\":\"white\",\"landcolor\":\"#E5ECF6\",\"subunitcolor\":\"white\",\"showland\":true,\"showlakes\":true,\"lakecolor\":\"white\"},\"title\":{\"x\":0.05},\"mapbox\":{\"style\":\"light\"}}},\"annotations\":[{\"font\":{\"color\":\"red\",\"size\":12},\"showarrow\":false,\"text\":\"_hypernym\\tgenus.n.02\",\"x\":0.95,\"xref\":\"paper\",\"y\":0.95,\"yref\":\"paper\"},{\"font\":{\"color\":\"blue\",\"size\":12},\"showarrow\":false,\"text\":\"_hypernym\\tdog.n.01\",\"x\":0.95,\"xref\":\"paper\",\"y\":0.8999999999999999,\"yref\":\"paper\"},{\"font\":{\"color\":\"orange\",\"size\":12},\"showarrow\":false,\"text\":\"_hypernym\\tclothing.n.01\",\"x\":0.95,\"xref\":\"paper\",\"y\":0.85,\"yref\":\"paper\"},{\"font\":{\"color\":\"green\",\"size\":12},\"showarrow\":false,\"text\":\"_hypernym\\tplant_genus.n.01\",\"x\":0.95,\"xref\":\"paper\",\"y\":0.7999999999999999,\"yref\":\"paper\"},{\"font\":{\"color\":\"yellow\",\"size\":12},\"showarrow\":false,\"text\":\"_hypernym\\tmammal_genus.n.01\",\"x\":0.95,\"xref\":\"paper\",\"y\":0.75,\"yref\":\"paper\"},{\"font\":{\"color\":\"purple\",\"size\":12},\"showarrow\":false,\"text\":\"_hypernym\\tbird_genus.n.01\",\"x\":0.95,\"xref\":\"paper\",\"y\":0.7,\"yref\":\"paper\"},{\"font\":{\"color\":\"gray\",\"size\":12},\"showarrow\":false,\"text\":\"_hypernym\\tarthropod.n.01\",\"x\":0.95,\"xref\":\"paper\",\"y\":0.6499999999999999,\"yref\":\"paper\"},{\"font\":{\"size\":20},\"showarrow\":false,\"text\":\"HAKE\",\"x\":0.5,\"xref\":\"paper\",\"y\":1.1,\"yref\":\"paper\"}],\"xaxis\":{\"scaleanchor\":\"y\",\"scaleratio\":1},\"yaxis\":{\"title\":{\"text\":\" \"},\"scaleanchor\":\"x\",\"scaleratio\":1},\"title\":{\"text\":\"\"},\"showlegend\":false,\"width\":550,\"height\":500},                        {\"responsive\": true}                    ).then(function(){\n",
       "                            \n",
       "var gd = document.getElementById('42eed70a-e2c2-4221-8fd8-60c66d7e6557');\n",
       "var x = new MutationObserver(function (mutations, observer) {{\n",
       "        var display = window.getComputedStyle(gd).display;\n",
       "        if (!display || display === 'none') {{\n",
       "            console.log([gd, 'removed!']);\n",
       "            Plotly.purge(gd);\n",
       "            observer.disconnect();\n",
       "        }}\n",
       "}});\n",
       "\n",
       "// Listen for the removal of the full notebook cells\n",
       "var notebookContainer = gd.closest('#notebook-container');\n",
       "if (notebookContainer) {{\n",
       "    x.observe(notebookContainer, {childList: true});\n",
       "}}\n",
       "\n",
       "// Listen for the clearing of the current output cell\n",
       "var outputEl = gd.closest('.output');\n",
       "if (outputEl) {{\n",
       "    x.observe(outputEl, {childList: true});\n",
       "}}\n",
       "\n",
       "                        })                };                });            </script>        </div>"
      ]
     },
     "metadata": {},
     "output_type": "display_data"
    }
   ],
   "source": [
    "import plotly.graph_objects as go\n",
    "import numpy as np\n",
    "import os\n",
    "from sklearn.manifold import TSNE\n",
    "\n",
    "# モデルのパスや埋め込み範囲などのパラメータの設定\n",
    "model_path = '/home/lab/eight/KGE-HAKE/models/HAKE_wn18rr_0'\n",
    "embedding_range = 0.01\n",
    "model = 'HAKE'\n",
    "entities_dict_text_file = '/home/lab/eight/KGE-HAKE/data/wn18rr_text/entities.dict'\n",
    "entities_dict_number_file = '/home/lab/eight/KGE-HAKE/data/wn18rr/entities.dict'\n",
    "train_file = '/home/lab/eight/KGE-HAKE/data/wn18rr/train.txt'\n",
    "# 対象の値とファイルパスを指定して関数を実行\n",
    "target_values = [[\"genus.n.02\", 'red'], [\"dog.n.01\", 'blue'], [\"clothing.n.01\", 'orange'], [\"plant_genus.n.01\", 'green'],[\"mammal_genus.n.01\", 'yellow'], [\"bird_genus.n.01\", 'purple'], [\"arthropod.n.01\", 'gray']]\n",
    "\n",
    "fig = go.Figure()\n",
    "# エンティティの埋め込みをロード\n",
    "entity_embedding = np.load(os.path.join(model_path, 'entity_embedding.npy'))\n",
    "\n",
    "def load_entities_dict_number(file_path):\n",
    "    entities_dict_number = {}\n",
    "    with open(file_path, 'r', encoding='utf-8') as f:\n",
    "        for line in f:\n",
    "            parts = line.strip().split('\\t')\n",
    "            entities_dict_number[int(parts[0])] = parts[1]\n",
    "    return entities_dict_number\n",
    "\n",
    "# エンティティ名のtext辞書読み込み\n",
    "entities_dict_text = load_entities_dict_number(entities_dict_text_file)\n",
    "# エンティティ名のnumber辞書読み込み\n",
    "entities_dict_number = load_entities_dict_number(entities_dict_number_file)\n",
    "\n",
    "def extract_and_search_data(target_value, train_file_path, entities_dict_text_file, entities_dict_number_file):\n",
    "    # エンティティ名のtext辞書読み込み\n",
    "    def load_entities_dict(file_path):\n",
    "        entities_dict = {}\n",
    "        with open(file_path, 'r', encoding='utf-8') as f:\n",
    "            for line in f:\n",
    "                parts = line.strip().split('\\t')\n",
    "                entities_dict[int(parts[0])] = parts[1]\n",
    "        return entities_dict\n",
    "\n",
    "    entities_dict_text = load_entities_dict(entities_dict_text_file)\n",
    "    entities_dict_number = load_entities_dict(entities_dict_number_file)\n",
    "\n",
    "    # エンティティ名からインデックスを取得する関数\n",
    "    def text_to_num(target_value):\n",
    "        for index, value in entities_dict_text.items():\n",
    "            if value == target_value:\n",
    "                return entities_dict_number[index]\n",
    "\n",
    "    # 対象の値からインデックスを取得\n",
    "    num = text_to_num(target_value)\n",
    "\n",
    "    # ファイルからデータを抽出する関数\n",
    "    def extract_data(file_path, target_value):\n",
    "        target_value = \"\\t\" + target_value\n",
    "        extracted_data = []\n",
    "        with open(file_path, 'r', encoding='utf-8') as f:\n",
    "            for line in f:\n",
    "                if target_value in line:\n",
    "                    parts = line.strip().split('\\t')\n",
    "                    extracted_data.append(parts[0])\n",
    "        return extracted_data\n",
    "\n",
    "    # ファイルからデータを検索する関数\n",
    "    def search_num(extracted_data, file_path):\n",
    "        data = []\n",
    "        with open(file_path, 'r', encoding='utf-8') as f:\n",
    "            for line in f:\n",
    "                for i in extracted_data:\n",
    "                    if i in line:\n",
    "                        parts = line.strip().split('\\t')\n",
    "                        data.append(parts[0])\n",
    "        return data\n",
    "\n",
    "    # データを抽出\n",
    "    extracted_data = extract_data(train_file_path, num)\n",
    "\n",
    "    # データを検索\n",
    "    searched_data = search_num(extracted_data, entities_dict_number_file)\n",
    "\n",
    "    return searched_data\n",
    "\n",
    "def calculate_tsne_coordinates(extracted_data, entity_embedding):\n",
    "    # Get embeddings for extracted data\n",
    "    data_embeddings = [entity_embedding[int(entity_id_str)] for entity_id_str in extracted_data]\n",
    "    \n",
    "    # Apply t-SNE to reduce dimensionality to 2D\n",
    "    tsne = TSNE(n_components=2, random_state=0)\n",
    "    tsne_coordinates = tsne.fit_transform(data_embeddings)\n",
    "    \n",
    "    return tsne_coordinates.tolist()\n",
    "\n",
    "# 全データを格納するリスト\n",
    "all_extracted_data = []\n",
    "all_target_colors = []\n",
    "\n",
    "# 対象の値と色を指定してデータをロードし、リストに追加するループ\n",
    "for target_value, target_color in target_values:\n",
    "    extracted_data = extract_and_search_data(target_value, train_file, entities_dict_text_file, entities_dict_number_file)\n",
    "    all_extracted_data.extend(extracted_data)\n",
    "    all_target_colors.extend([target_color] * len(extracted_data))\n",
    "\n",
    "# t-SNE座標を計算\n",
    "tsne_coordinates = calculate_tsne_coordinates(all_extracted_data, entity_embedding)\n",
    "\n",
    "# プロットにトレースを追加するループ\n",
    "for (x, y), color, entity_id_str in zip(tsne_coordinates, all_target_colors, all_extracted_data):\n",
    "    entity_id = int(entity_id_str)\n",
    "    entity_name = entities_dict_text[entity_id]\n",
    "    fig.add_trace(go.Scatter(x=[x], y=[y], mode='markers', marker=dict(color=color, size=5), opacity=0.4, name=entity_name))\n",
    "\n",
    "\n",
    "# 色と対応するエンティティの説明を右上に追加\n",
    "for i, (target_value, target_color) in enumerate(target_values):\n",
    "    fig.add_annotation(\n",
    "        text=\"_hypernym\t\" + target_value,\n",
    "        x=0.95,  # テキストのx座標 (0.95は図の右端から5%左)\n",
    "        y=0.95 - i * 0.05,  # テキストのy座標 (0.95は図の上端から5%下)\n",
    "        xref=\"paper\",  # x座標の参照元 (paperは図の左端、dataはデータ座標)\n",
    "        yref=\"paper\",  # y座標の参照元 (paperは図の下端、dataはデータ座標)\n",
    "        showarrow=False,  # 矢印を非表示にする\n",
    "        font=dict(size=12, color=target_color),  # テキストのフォントサイズと色\n",
    "    )\n",
    "\n",
    "# HAKEテキストの追加\n",
    "fig.add_annotation(\n",
    "    text=model,  # 表示するテキスト\n",
    "    xref=\"paper\",  # x座標の参照元 (paperは図の左端、dataはデータ座標)\n",
    "    yref=\"paper\",  # y座標の参照元 (paperは図の下端、dataはデータ座標)\n",
    "    x=0.5,  # x座標 (0.5は図の中央)\n",
    "    y=1.1,  # y座標 (1.05は図の上端から5%上)\n",
    "    showarrow=False,  # 矢印を非表示にする\n",
    "    font=dict(size=20),  # テキストのフォントサイズ\n",
    ")\n",
    "# レイアウトの設定\n",
    "fig.update_layout(\n",
    "    title=\"\",\n",
    "    yaxis_title=\" \",\n",
    "    showlegend=False,\n",
    "    width=550,  # 幅\n",
    "    height=500,  # 高さ\n",
    "    xaxis=dict(scaleanchor=\"y\", scaleratio=1),  # x軸のアスペクト比を1:1に設定\n",
    "    yaxis=dict(scaleanchor=\"x\", scaleratio=1),  # y軸のアスペクト比を1:1に設定\n",
    ")\n",
    "\n",
    "fig.show()\n"
   ]
  },
  {
   "cell_type": "code",
   "execution_count": 6,
   "metadata": {},
   "outputs": [
    {
     "name": "stdout",
     "output_type": "stream",
     "text": [
      "genus.n.02 num: 19 ['21', '81', '265', '284', '427', '542', '692', '716', '883', '1244', '1929', '2110', '4550', '9626', '10288', '13047', '17252', '17504', '23662']\n",
      "dog.n.01 num: 10 ['26', '10149', '16530', '20201', '21324', '22898', '26628', '37881', '39316', '39907']\n",
      "clothing.n.01 num: 28 ['2796', '3006', '4190', '4694', '5177', '9874', '13161', '13202', '14106', '18788', '18942', '19381', '22328', '30766', '31424', '31804', '34237', '34531', '34735', '35184', '35395', '36895', '37025', '37875', '40077', '40205', '40444', '40557']\n",
      "plant_genus.n.01 num: 43 ['106', '1293', '3113', '4676', '5014', '5561', '7242', '7263', '7923', '9198', '9933', '10237', '11960', '12834', '14320', '14784', '14851', '16653', '17648', '18657', '19239', '19946', '20969', '21215', '23565', '24038', '24211', '25370', '25662', '26971', '28245', '28599', '29700', '29704', '30492', '31536', '32257', '32820', '34894', '35638', '36586', '37440', '39290']\n",
      "mammal_genus.n.01 num: 249 ['223', '264', '354', '598', '679', '988', '1546', '1797', '2298', '2352', '2442', '2627', '2685', '2819', '3389', '3589', '3964', '4134', '4242', '5025', '5217', '5465', '5602', '6189', '6280', '6395', '6609', '6643', '6874', '6925', '6928', '7260', '7289', '7377', '7861', '8125', '8449', '8715', '9116', '9323', '9488', '9508', '9938', '10005', '10214', '10248', '10439', '10573', '10656', '10657', '10828', '11026', '11292', '11551', '11653', '11756', '12106', '12481', '12499', '12506', '13062', '13297', '13618', '13739', '13806', '13981', '14313', '14478', '14828', '14837', '14922', '15212', '15678', '15744', '16115', '16117', '16216', '16239', '16310', '16407', '16532', '16713', '16823', '16964', '17028', '17084', '17350', '17377', '17381', '17564', '17624', '17835', '17863', '17898', '18025', '18212', '18324', '18343', '18681', '18827', '18844', '18871', '19464', '19524', '19588', '19786', '19796', '19814', '19829', '19953', '20000', '20094', '20303', '20659', '20757', '20871', '21159', '21265', '21313', '21994', '22114', '22304', '22388', '22712', '23013', '23178', '23375', '23613', '23639', '23643', '23688', '23750', '23928', '24091', '24202', '24204', '24232', '24463', '24661', '24733', '24750', '24882', '24998', '25226', '25282', '25287', '25551', '25638', '25749', '25905', '25950', '25954', '26116', '26193', '26221', '26281', '26425', '26499', '27026', '27084', '27102', '27152', '27294', '27963', '28034', '28337', '28364', '28642', '28831', '28906', '29041', '29131', '29150', '29247', '29279', '29490', '29592', '29655', '29897', '29979', '29996', '30000', '30175', '30285', '30332', '30559', '30638', '31024', '31508', '31532', '31609', '31852', '32190', '32402', '32437', '32513', '32592', '32698', '33172', '33177', '33201', '33418', '33651', '33966', '34043', '34103', '34141', '34372', '34489', '34518', '34574', '34580', '34697', '34737', '34778', '34795', '34828', '34942', '35038', '35159', '35318', '35368', '35481', '35589', '35620', '35651', '35704', '35769', '35907', '36058', '36788', '36913', '37056', '37093', '37204', '37207', '37669', '37759', '38065', '38184', '38587', '38755', '39084', '39136', '39264', '39613', '39635', '40114', '40324']\n",
      "bird_genus.n.01 num: 276 ['581', '1243', '1692', '2254', '2353', '2710', '2765', '3185', '3417', '3524', '3880', '4241', '4325', '4693', '4980', '5075', '5521', '5564', '5659', '6083', '6269', '6421', '6492', '6624', '7091', '7227', '7253', '7962', '8042', '8284', '8358', '8674', '8824', '9044', '9618', '9865', '9913', '9982', '10463', '10484', '10751', '11215', '11319', '11348', '11351', '11496', '11698', '11906', '11989', '12372', '12501', '12678', '12954', '13131', '13384', '13498', '13501', '13650', '13672', '13685', '13797', '13839', '14135', '14169', '14368', '14520', '14575', '14779', '14862', '14992', '15291', '15356', '15442', '15465', '15852', '15880', '16086', '16149', '16231', '16345', '16462', '16463', '16584', '16657', '16849', '16906', '17075', '17143', '17153', '17242', '17298', '17553', '17637', '17668', '17765', '18006', '18341', '18447', '18689', '18691', '18912', '19002', '19077', '19212', '19255', '19276', '19393', '19603', '19624', '19695', '19734', '19965', '19978', '19982', '20002', '20034', '20048', '20363', '20510', '20696', '21337', '21430', '21609', '21635', '21670', '21712', '21730', '21859', '21882', '21895', '21970', '22127', '22138', '22369', '22435', '22547', '22809', '22845', '23128', '23204', '23429', '23469', '23494', '23600', '23607', '23648', '23663', '23873', '24049', '24223', '24373', '24497', '24608', '24670', '24678', '24746', '24794', '24825', '25056', '25266', '25572', '25601', '25634', '25984', '26117', '26177', '26263', '26314', '26396', '26553', '26558', '26794', '26997', '27060', '27101', '27176', '27393', '27680', '27735', '27897', '27916', '27997', '28038', '28218', '28276', '28323', '28493', '28589', '28608', '28649', '28666', '28761', '28947', '29004', '29162', '29182', '29534', '29546', '29548', '29603', '29662', '29820', '29859', '30013', '30061', '30322', '30462', '30851', '30866', '30914', '31100', '31133', '31142', '31250', '31398', '31557', '31637', '31681', '32107', '32112', '32153', '32202', '32210', '32618', '32636', '32891', '33027', '33078', '33165', '33206', '33227', '33522', '33530', '33581', '33829', '34186', '34358', '34452', '34514', '34813', '35141', '35257', '35778', '35817', '36100', '36260', '36629', '36644', '36729', '36767', '36853', '36962', '37035', '37065', '37085', '37475', '37667', '37753', '37774', '37885', '38228', '38282', '38406', '38507', '38648', '38695', '39109', '39269', '39274', '39296', '39463', '39579', '39692', '39732', '39781', '40058']\n",
      "arthropod.n.01 num: 7 ['245', '3763', '9557', '12596', '17102', '30120', '37769']\n"
     ]
    },
    {
     "data": {
      "application/vnd.plotly.v1+json": {
       "config": {
        "plotlyServerURL": "https://plot.ly"
       },
       "data": [
        {
         "marker": {
          "color": "red",
          "size": 5
         },
         "mode": "markers",
         "name": "fern_genus.n.01",
         "opacity": 0.4,
         "text": [
          "fern_genus.n.01"
         ],
         "type": "scatter",
         "x": [
          4.6193318367004395
         ],
         "y": [
          0.4194396436214447
         ]
        },
        {
         "marker": {
          "color": "red",
          "size": 5
         },
         "mode": "markers",
         "name": "gymnosperm_genus.n.01",
         "opacity": 0.4,
         "text": [
          "gymnosperm_genus.n.01"
         ],
         "type": "scatter",
         "x": [
          4.830246448516846
         ],
         "y": [
          -0.1730724424123764
         ]
        },
        {
         "marker": {
          "color": "red",
          "size": 5
         },
         "mode": "markers",
         "name": "mammal_genus.n.01",
         "opacity": 0.4,
         "text": [
          "mammal_genus.n.01"
         ],
         "type": "scatter",
         "x": [
          6.198640823364258
         ],
         "y": [
          0.6886889338493347
         ]
        },
        {
         "marker": {
          "color": "red",
          "size": 5
         },
         "mode": "markers",
         "name": "monocot_genus.n.01",
         "opacity": 0.4,
         "text": [
          "monocot_genus.n.01"
         ],
         "type": "scatter",
         "x": [
          5.355434417724609
         ],
         "y": [
          -0.27850326895713806
         ]
        },
        {
         "marker": {
          "color": "red",
          "size": 5
         },
         "mode": "markers",
         "name": "fungus_genus.n.01",
         "opacity": 0.4,
         "text": [
          "fungus_genus.n.01"
         ],
         "type": "scatter",
         "x": [
          4.732311248779297
         ],
         "y": [
          -1.0651057958602905
         ]
        },
        {
         "marker": {
          "color": "red",
          "size": 5
         },
         "mode": "markers",
         "name": "protoctist_genus.n.01",
         "opacity": 0.4,
         "text": [
          "protoctist_genus.n.01"
         ],
         "type": "scatter",
         "x": [
          3.9138989448547363
         ],
         "y": [
          1.34881591796875
         ]
        },
        {
         "marker": {
          "color": "red",
          "size": 5
         },
         "mode": "markers",
         "name": "mollusk_genus.n.01",
         "opacity": 0.4,
         "text": [
          "mollusk_genus.n.01"
         ],
         "type": "scatter",
         "x": [
          4.7417826652526855
         ],
         "y": [
          -1.8245872259140015
         ]
        },
        {
         "marker": {
          "color": "red",
          "size": 5
         },
         "mode": "markers",
         "name": "amphibian_genus.n.01",
         "opacity": 0.4,
         "text": [
          "amphibian_genus.n.01"
         ],
         "type": "scatter",
         "x": [
          4.917216777801514
         ],
         "y": [
          -0.19753576815128326
         ]
        },
        {
         "marker": {
          "color": "red",
          "size": 5
         },
         "mode": "markers",
         "name": "fish_genus.n.01",
         "opacity": 0.4,
         "text": [
          "fish_genus.n.01"
         ],
         "type": "scatter",
         "x": [
          5.788489818572998
         ],
         "y": [
          0.40829044580459595
         ]
        },
        {
         "marker": {
          "color": "red",
          "size": 5
         },
         "mode": "markers",
         "name": "bird_genus.n.01",
         "opacity": 0.4,
         "text": [
          "bird_genus.n.01"
         ],
         "type": "scatter",
         "x": [
          6.055827617645264
         ],
         "y": [
          -0.5912803411483765
         ]
        },
        {
         "marker": {
          "color": "red",
          "size": 5
         },
         "mode": "markers",
         "name": "dicot_genus.n.01",
         "opacity": 0.4,
         "text": [
          "dicot_genus.n.01"
         ],
         "type": "scatter",
         "x": [
          6.553848743438721
         ],
         "y": [
          1.2411715984344482
         ]
        },
        {
         "marker": {
          "color": "red",
          "size": 5
         },
         "mode": "markers",
         "name": "arthropod_genus.n.01",
         "opacity": 0.4,
         "text": [
          "arthropod_genus.n.01"
         ],
         "type": "scatter",
         "x": [
          5.64391565322876
         ],
         "y": [
          -0.7238948941230774
         ]
        },
        {
         "marker": {
          "color": "red",
          "size": 5
         },
         "mode": "markers",
         "name": "reptile_genus.n.01",
         "opacity": 0.4,
         "text": [
          "reptile_genus.n.01"
         ],
         "type": "scatter",
         "x": [
          5.274801731109619
         ],
         "y": [
          -0.7320050597190857
         ]
        },
        {
         "marker": {
          "color": "red",
          "size": 5
         },
         "mode": "markers",
         "name": "echinoderm_genus.n.01",
         "opacity": 0.4,
         "text": [
          "echinoderm_genus.n.01"
         ],
         "type": "scatter",
         "x": [
          3.797030448913574
         ],
         "y": [
          -0.842170000076294
         ]
        },
        {
         "marker": {
          "color": "red",
          "size": 5
         },
         "mode": "markers",
         "name": "coelenterate_genus.n.01",
         "opacity": 0.4,
         "text": [
          "coelenterate_genus.n.01"
         ],
         "type": "scatter",
         "x": [
          4.263830184936523
         ],
         "y": [
          0.03676137700676918
         ]
        },
        {
         "marker": {
          "color": "red",
          "size": 5
         },
         "mode": "markers",
         "name": "worm_genus.n.01",
         "opacity": 0.4,
         "text": [
          "worm_genus.n.01"
         ],
         "type": "scatter",
         "x": [
          4.45510721206665
         ],
         "y": [
          0.5508966445922852
         ]
        },
        {
         "marker": {
          "color": "red",
          "size": 5
         },
         "mode": "markers",
         "name": "bacteria_genus.n.01",
         "opacity": 0.4,
         "text": [
          "bacteria_genus.n.01"
         ],
         "type": "scatter",
         "x": [
          4.518492698669434
         ],
         "y": [
          0.13542672991752625
         ]
        },
        {
         "marker": {
          "color": "red",
          "size": 5
         },
         "mode": "markers",
         "name": "chordate_genus.n.01",
         "opacity": 0.4,
         "text": [
          "chordate_genus.n.01"
         ],
         "type": "scatter",
         "x": [
          4.06186056137085
         ],
         "y": [
          0.6011813879013062
         ]
        },
        {
         "marker": {
          "color": "red",
          "size": 5
         },
         "mode": "markers",
         "name": "ctenophore_genus.n.01",
         "opacity": 0.4,
         "text": [
          "ctenophore_genus.n.01"
         ],
         "type": "scatter",
         "x": [
          3.896160364151001
         ],
         "y": [
          0.0913359597325325
         ]
        },
        {
         "marker": {
          "color": "blue",
          "size": 5
         },
         "mode": "markers",
         "name": "working_dog.n.01",
         "opacity": 0.4,
         "text": [
          "working_dog.n.01"
         ],
         "type": "scatter",
         "x": [
          3.4367194175720215
         ],
         "y": [
          1.2038847208023071
         ]
        },
        {
         "marker": {
          "color": "blue",
          "size": 5
         },
         "mode": "markers",
         "name": "hunting_dog.n.01",
         "opacity": 0.4,
         "text": [
          "hunting_dog.n.01"
         ],
         "type": "scatter",
         "x": [
          5.3864288330078125
         ],
         "y": [
          0.9049273729324341
         ]
        },
        {
         "marker": {
          "color": "blue",
          "size": 5
         },
         "mode": "markers",
         "name": "griffon.n.02",
         "opacity": 0.4,
         "text": [
          "griffon.n.02"
         ],
         "type": "scatter",
         "x": [
          2.876943349838257
         ],
         "y": [
          0.7432229518890381
         ]
        },
        {
         "marker": {
          "color": "blue",
          "size": 5
         },
         "mode": "markers",
         "name": "toy_dog.n.01",
         "opacity": 0.4,
         "text": [
          "toy_dog.n.01"
         ],
         "type": "scatter",
         "x": [
          2.87754487991333
         ],
         "y": [
          -0.3149154782295227
         ]
        },
        {
         "marker": {
          "color": "blue",
          "size": 5
         },
         "mode": "markers",
         "name": "cur.n.01",
         "opacity": 0.4,
         "text": [
          "cur.n.01"
         ],
         "type": "scatter",
         "x": [
          3.416640281677246
         ],
         "y": [
          0.3609273433685303
         ]
        },
        {
         "marker": {
          "color": "blue",
          "size": 5
         },
         "mode": "markers",
         "name": "pooch.n.01",
         "opacity": 0.4,
         "text": [
          "pooch.n.01"
         ],
         "type": "scatter",
         "x": [
          3.7309889793395996
         ],
         "y": [
          1.1344010829925537
         ]
        },
        {
         "marker": {
          "color": "blue",
          "size": 5
         },
         "mode": "markers",
         "name": "corgi.n.01",
         "opacity": 0.4,
         "text": [
          "corgi.n.01"
         ],
         "type": "scatter",
         "x": [
          2.821420669555664
         ],
         "y": [
          -0.5445311069488525
         ]
        },
        {
         "marker": {
          "color": "blue",
          "size": 5
         },
         "mode": "markers",
         "name": "dalmatian.n.02",
         "opacity": 0.4,
         "text": [
          "dalmatian.n.02"
         ],
         "type": "scatter",
         "x": [
          2.8438804149627686
         ],
         "y": [
          0.1461338847875595
         ]
        },
        {
         "marker": {
          "color": "blue",
          "size": 5
         },
         "mode": "markers",
         "name": "poodle.n.01",
         "opacity": 0.4,
         "text": [
          "poodle.n.01"
         ],
         "type": "scatter",
         "x": [
          2.7979187965393066
         ],
         "y": [
          0.6049323081970215
         ]
        },
        {
         "marker": {
          "color": "blue",
          "size": 5
         },
         "mode": "markers",
         "name": "spitz.n.01",
         "opacity": 0.4,
         "text": [
          "spitz.n.01"
         ],
         "type": "scatter",
         "x": [
          2.976341724395752
         ],
         "y": [
          -0.32197046279907227
         ]
        },
        {
         "marker": {
          "color": "orange",
          "size": 5
         },
         "mode": "markers",
         "name": "protective_garment.n.01",
         "opacity": 0.4,
         "text": [
          "protective_garment.n.01"
         ],
         "type": "scatter",
         "x": [
          4.006371974945068
         ],
         "y": [
          0.367766410112381
         ]
        },
        {
         "marker": {
          "color": "orange",
          "size": 5
         },
         "mode": "markers",
         "name": "attire.n.01",
         "opacity": 0.4,
         "text": [
          "attire.n.01"
         ],
         "type": "scatter",
         "x": [
          5.15187931060791
         ],
         "y": [
          -0.19329415261745453
         ]
        },
        {
         "marker": {
          "color": "orange",
          "size": 5
         },
         "mode": "markers",
         "name": "headdress.n.01",
         "opacity": 0.4,
         "text": [
          "headdress.n.01"
         ],
         "type": "scatter",
         "x": [
          4.545641899108887
         ],
         "y": [
          1.7165262699127197
         ]
        },
        {
         "marker": {
          "color": "orange",
          "size": 5
         },
         "mode": "markers",
         "name": "garment.n.01",
         "opacity": 0.4,
         "text": [
          "garment.n.01"
         ],
         "type": "scatter",
         "x": [
          4.846829891204834
         ],
         "y": [
          1.5530335903167725
         ]
        },
        {
         "marker": {
          "color": "orange",
          "size": 5
         },
         "mode": "markers",
         "name": "ready-to-wear.n.01",
         "opacity": 0.4,
         "text": [
          "ready-to-wear.n.01"
         ],
         "type": "scatter",
         "x": [
          2.6035587787628174
         ],
         "y": [
          0.057243432849645615
         ]
        },
        {
         "marker": {
          "color": "orange",
          "size": 5
         },
         "mode": "markers",
         "name": "apparel.n.01",
         "opacity": 0.4,
         "text": [
          "apparel.n.01"
         ],
         "type": "scatter",
         "x": [
          5.136193752288818
         ],
         "y": [
          0.3720763623714447
         ]
        },
        {
         "marker": {
          "color": "orange",
          "size": 5
         },
         "mode": "markers",
         "name": "change.n.07",
         "opacity": 0.4,
         "text": [
          "change.n.07"
         ],
         "type": "scatter",
         "x": [
          4.045510768890381
         ],
         "y": [
          0.7507399916648865
         ]
        },
        {
         "marker": {
          "color": "orange",
          "size": 5
         },
         "mode": "markers",
         "name": "array.n.03",
         "opacity": 0.4,
         "text": [
          "array.n.03"
         ],
         "type": "scatter",
         "x": [
          4.173712730407715
         ],
         "y": [
          -0.385390967130661
         ]
        },
        {
         "marker": {
          "color": "orange",
          "size": 5
         },
         "mode": "markers",
         "name": "man's_clothing.n.01",
         "opacity": 0.4,
         "text": [
          "man's_clothing.n.01"
         ],
         "type": "scatter",
         "x": [
          3.8257133960723877
         ],
         "y": [
          -1.8217780590057373
         ]
        },
        {
         "marker": {
          "color": "orange",
          "size": 5
         },
         "mode": "markers",
         "name": "nightwear.n.01",
         "opacity": 0.4,
         "text": [
          "nightwear.n.01"
         ],
         "type": "scatter",
         "x": [
          4.023809432983398
         ],
         "y": [
          0.16905125975608826
         ]
        },
        {
         "marker": {
          "color": "orange",
          "size": 5
         },
         "mode": "markers",
         "name": "handwear.n.01",
         "opacity": 0.4,
         "text": [
          "handwear.n.01"
         ],
         "type": "scatter",
         "x": [
          4.17677640914917
         ],
         "y": [
          1.2043946981430054
         ]
        },
        {
         "marker": {
          "color": "orange",
          "size": 5
         },
         "mode": "markers",
         "name": "black.n.07",
         "opacity": 0.4,
         "text": [
          "black.n.07"
         ],
         "type": "scatter",
         "x": [
          2.561368465423584
         ],
         "y": [
          -0.15408770740032196
         ]
        },
        {
         "marker": {
          "color": "orange",
          "size": 5
         },
         "mode": "markers",
         "name": "footwear.n.01",
         "opacity": 0.4,
         "text": [
          "footwear.n.01"
         ],
         "type": "scatter",
         "x": [
          4.763676643371582
         ],
         "y": [
          0.35177919268608093
         ]
        },
        {
         "marker": {
          "color": "orange",
          "size": 5
         },
         "mode": "markers",
         "name": "tailor-made.n.01",
         "opacity": 0.4,
         "text": [
          "tailor-made.n.01"
         ],
         "type": "scatter",
         "x": [
          2.5705885887145996
         ],
         "y": [
          0.474793016910553
         ]
        },
        {
         "marker": {
          "color": "orange",
          "size": 5
         },
         "mode": "markers",
         "name": "outerwear.n.01",
         "opacity": 0.4,
         "text": [
          "outerwear.n.01"
         ],
         "type": "scatter",
         "x": [
          3.8804309368133545
         ],
         "y": [
          0.3697245419025421
         ]
        },
        {
         "marker": {
          "color": "orange",
          "size": 5
         },
         "mode": "markers",
         "name": "woman's_clothing.n.01",
         "opacity": 0.4,
         "text": [
          "woman's_clothing.n.01"
         ],
         "type": "scatter",
         "x": [
          4.436648845672607
         ],
         "y": [
          -1.5200226306915283
         ]
        },
        {
         "marker": {
          "color": "orange",
          "size": 5
         },
         "mode": "markers",
         "name": "street_clothes.n.01",
         "opacity": 0.4,
         "text": [
          "street_clothes.n.01"
         ],
         "type": "scatter",
         "x": [
          3.7975032329559326
         ],
         "y": [
          -0.5779514908790588
         ]
        },
        {
         "marker": {
          "color": "orange",
          "size": 5
         },
         "mode": "markers",
         "name": "drag.n.04",
         "opacity": 0.4,
         "text": [
          "drag.n.04"
         ],
         "type": "scatter",
         "x": [
          2.558922529220581
         ],
         "y": [
          -0.20508119463920593
         ]
        },
        {
         "marker": {
          "color": "orange",
          "size": 5
         },
         "mode": "markers",
         "name": "vestiture.n.01",
         "opacity": 0.4,
         "text": [
          "vestiture.n.01"
         ],
         "type": "scatter",
         "x": [
          2.5396015644073486
         ],
         "y": [
          0.15521648526191711
         ]
        },
        {
         "marker": {
          "color": "orange",
          "size": 5
         },
         "mode": "markers",
         "name": "civilian_clothing.n.01",
         "opacity": 0.4,
         "text": [
          "civilian_clothing.n.01"
         ],
         "type": "scatter",
         "x": [
          3.4671220779418945
         ],
         "y": [
          0.430165559053421
         ]
        },
        {
         "marker": {
          "color": "orange",
          "size": 5
         },
         "mode": "markers",
         "name": "slip-on.n.01",
         "opacity": 0.4,
         "text": [
          "slip-on.n.01"
         ],
         "type": "scatter",
         "x": [
          2.8962297439575195
         ],
         "y": [
          0.5920319557189941
         ]
        },
        {
         "marker": {
          "color": "orange",
          "size": 5
         },
         "mode": "markers",
         "name": "grey.n.06",
         "opacity": 0.4,
         "text": [
          "grey.n.06"
         ],
         "type": "scatter",
         "x": [
          2.676053762435913
         ],
         "y": [
          0.16651950776576996
         ]
        },
        {
         "marker": {
          "color": "orange",
          "size": 5
         },
         "mode": "markers",
         "name": "accessory.n.01",
         "opacity": 0.4,
         "text": [
          "accessory.n.01"
         ],
         "type": "scatter",
         "x": [
          4.249513626098633
         ],
         "y": [
          -0.06972678750753403
         ]
        },
        {
         "marker": {
          "color": "orange",
          "size": 5
         },
         "mode": "markers",
         "name": "leisure_wear.n.01",
         "opacity": 0.4,
         "text": [
          "leisure_wear.n.01"
         ],
         "type": "scatter",
         "x": [
          2.5165884494781494
         ],
         "y": [
          0.7296229600906372
         ]
        },
        {
         "marker": {
          "color": "orange",
          "size": 5
         },
         "mode": "markers",
         "name": "blue.n.02",
         "opacity": 0.4,
         "text": [
          "blue.n.02"
         ],
         "type": "scatter",
         "x": [
          2.582063913345337
         ],
         "y": [
          0.36795634031295776
         ]
        },
        {
         "marker": {
          "color": "orange",
          "size": 5
         },
         "mode": "markers",
         "name": "slops.n.02",
         "opacity": 0.4,
         "text": [
          "slops.n.02"
         ],
         "type": "scatter",
         "x": [
          2.539350986480713
         ],
         "y": [
          0.3118949830532074
         ]
        },
        {
         "marker": {
          "color": "orange",
          "size": 5
         },
         "mode": "markers",
         "name": "beachwear.n.01",
         "opacity": 0.4,
         "text": [
          "beachwear.n.01"
         ],
         "type": "scatter",
         "x": [
          2.529306650161743
         ],
         "y": [
          0.1020541787147522
         ]
        },
        {
         "marker": {
          "color": "orange",
          "size": 5
         },
         "mode": "markers",
         "name": "neckpiece.n.01",
         "opacity": 0.4,
         "text": [
          "neckpiece.n.01"
         ],
         "type": "scatter",
         "x": [
          2.611482858657837
         ],
         "y": [
          0.2117384374141693
         ]
        },
        {
         "marker": {
          "color": "green",
          "size": 5
         },
         "mode": "markers",
         "name": "arrhenatherum.n.01",
         "opacity": 0.4,
         "text": [
          "arrhenatherum.n.01"
         ],
         "type": "scatter",
         "x": [
          3.805551290512085
         ],
         "y": [
          0.463646799325943
         ]
        },
        {
         "marker": {
          "color": "green",
          "size": 5
         },
         "mode": "markers",
         "name": "erythroxylon.n.01",
         "opacity": 0.4,
         "text": [
          "erythroxylon.n.01"
         ],
         "type": "scatter",
         "x": [
          3.4214847087860107
         ],
         "y": [
          -0.17398542165756226
         ]
        },
        {
         "marker": {
          "color": "green",
          "size": 5
         },
         "mode": "markers",
         "name": "cynoglossum.n.01",
         "opacity": 0.4,
         "text": [
          "cynoglossum.n.01"
         ],
         "type": "scatter",
         "x": [
          3.3175880908966064
         ],
         "y": [
          0.16004332900047302
         ]
        },
        {
         "marker": {
          "color": "green",
          "size": 5
         },
         "mode": "markers",
         "name": "linum.n.01",
         "opacity": 0.4,
         "text": [
          "linum.n.01"
         ],
         "type": "scatter",
         "x": [
          2.7531938552856445
         ],
         "y": [
          -0.20920014381408691
         ]
        },
        {
         "marker": {
          "color": "green",
          "size": 5
         },
         "mode": "markers",
         "name": "tamus.n.01",
         "opacity": 0.4,
         "text": [
          "tamus.n.01"
         ],
         "type": "scatter",
         "x": [
          3.384422540664673
         ],
         "y": [
          -0.9105765223503113
         ]
        },
        {
         "marker": {
          "color": "green",
          "size": 5
         },
         "mode": "markers",
         "name": "ribes.n.01",
         "opacity": 0.4,
         "text": [
          "ribes.n.01"
         ],
         "type": "scatter",
         "x": [
          3.7089591026306152
         ],
         "y": [
          -0.4201643168926239
         ]
        },
        {
         "marker": {
          "color": "green",
          "size": 5
         },
         "mode": "markers",
         "name": "linanthus.n.01",
         "opacity": 0.4,
         "text": [
          "linanthus.n.01"
         ],
         "type": "scatter",
         "x": [
          3.202021360397339
         ],
         "y": [
          -0.5842066407203674
         ]
        },
        {
         "marker": {
          "color": "green",
          "size": 5
         },
         "mode": "markers",
         "name": "genus_geranium.n.01",
         "opacity": 0.4,
         "text": [
          "genus_geranium.n.01"
         ],
         "type": "scatter",
         "x": [
          3.241417407989502
         ],
         "y": [
          -0.6396193504333496
         ]
        },
        {
         "marker": {
          "color": "green",
          "size": 5
         },
         "mode": "markers",
         "name": "arenga.n.01",
         "opacity": 0.4,
         "text": [
          "arenga.n.01"
         ],
         "type": "scatter",
         "x": [
          3.6621487140655518
         ],
         "y": [
          -0.30664682388305664
         ]
        },
        {
         "marker": {
          "color": "green",
          "size": 5
         },
         "mode": "markers",
         "name": "corylopsis.n.01",
         "opacity": 0.4,
         "text": [
          "corylopsis.n.01"
         ],
         "type": "scatter",
         "x": [
          3.549074172973633
         ],
         "y": [
          -0.9525002241134644
         ]
        },
        {
         "marker": {
          "color": "green",
          "size": 5
         },
         "mode": "markers",
         "name": "myosotis.n.01",
         "opacity": 0.4,
         "text": [
          "myosotis.n.01"
         ],
         "type": "scatter",
         "x": [
          3.2689950466156006
         ],
         "y": [
          -0.5587253570556641
         ]
        },
        {
         "marker": {
          "color": "green",
          "size": 5
         },
         "mode": "markers",
         "name": "aeonium.n.01",
         "opacity": 0.4,
         "text": [
          "aeonium.n.01"
         ],
         "type": "scatter",
         "x": [
          3.2669849395751953
         ],
         "y": [
          -0.39255771040916443
         ]
        },
        {
         "marker": {
          "color": "green",
          "size": 5
         },
         "mode": "markers",
         "name": "pinguicula.n.01",
         "opacity": 0.4,
         "text": [
          "pinguicula.n.01"
         ],
         "type": "scatter",
         "x": [
          3.2465453147888184
         ],
         "y": [
          -0.13298867642879486
         ]
        },
        {
         "marker": {
          "color": "green",
          "size": 5
         },
         "mode": "markers",
         "name": "genus_sedum.n.01",
         "opacity": 0.4,
         "text": [
          "genus_sedum.n.01"
         ],
         "type": "scatter",
         "x": [
          3.6465137004852295
         ],
         "y": [
          -0.6409701108932495
         ]
        },
        {
         "marker": {
          "color": "green",
          "size": 5
         },
         "mode": "markers",
         "name": "sequoiadendron.n.01",
         "opacity": 0.4,
         "text": [
          "sequoiadendron.n.01"
         ],
         "type": "scatter",
         "x": [
          3.3734700679779053
         ],
         "y": [
          -1.220831036567688
         ]
        },
        {
         "marker": {
          "color": "green",
          "size": 5
         },
         "mode": "markers",
         "name": "hamamelis.n.01",
         "opacity": 0.4,
         "text": [
          "hamamelis.n.01"
         ],
         "type": "scatter",
         "x": [
          3.6181280612945557
         ],
         "y": [
          -0.7460965514183044
         ]
        },
        {
         "marker": {
          "color": "green",
          "size": 5
         },
         "mode": "markers",
         "name": "borago.n.01",
         "opacity": 0.4,
         "text": [
          "borago.n.01"
         ],
         "type": "scatter",
         "x": [
          3.3551442623138428
         ],
         "y": [
          0.5152531862258911
         ]
        },
        {
         "marker": {
          "color": "green",
          "size": 5
         },
         "mode": "markers",
         "name": "alpinia.n.01",
         "opacity": 0.4,
         "text": [
          "alpinia.n.01"
         ],
         "type": "scatter",
         "x": [
          3.2624905109405518
         ],
         "y": [
          -0.18410055339336395
         ]
        },
        {
         "marker": {
          "color": "green",
          "size": 5
         },
         "mode": "markers",
         "name": "proboscidea.n.01",
         "opacity": 0.4,
         "text": [
          "proboscidea.n.01"
         ],
         "type": "scatter",
         "x": [
          3.3269999027252197
         ],
         "y": [
          -0.49836277961730957
         ]
        },
        {
         "marker": {
          "color": "green",
          "size": 5
         },
         "mode": "markers",
         "name": "avena.n.01",
         "opacity": 0.4,
         "text": [
          "avena.n.01"
         ],
         "type": "scatter",
         "x": [
          3.7967662811279297
         ],
         "y": [
          -1.1142945289611816
         ]
        },
        {
         "marker": {
          "color": "green",
          "size": 5
         },
         "mode": "markers",
         "name": "lithospermum.n.01",
         "opacity": 0.4,
         "text": [
          "lithospermum.n.01"
         ],
         "type": "scatter",
         "x": [
          3.356797456741333
         ],
         "y": [
          -0.03790469467639923
         ]
        },
        {
         "marker": {
          "color": "green",
          "size": 5
         },
         "mode": "markers",
         "name": "livistona.n.01",
         "opacity": 0.4,
         "text": [
          "livistona.n.01"
         ],
         "type": "scatter",
         "x": [
          3.833162784576416
         ],
         "y": [
          -0.19667641818523407
         ]
        },
        {
         "marker": {
          "color": "green",
          "size": 5
         },
         "mode": "markers",
         "name": "parrotia.n.01",
         "opacity": 0.4,
         "text": [
          "parrotia.n.01"
         ],
         "type": "scatter",
         "x": [
          3.6156251430511475
         ],
         "y": [
          -0.754683256149292
         ]
        },
        {
         "marker": {
          "color": "green",
          "size": 5
         },
         "mode": "markers",
         "name": "dioscorea.n.01",
         "opacity": 0.4,
         "text": [
          "dioscorea.n.01"
         ],
         "type": "scatter",
         "x": [
          3.9266488552093506
         ],
         "y": [
          0.2124774008989334
         ]
        },
        {
         "marker": {
          "color": "green",
          "size": 5
         },
         "mode": "markers",
         "name": "sesamum.n.01",
         "opacity": 0.4,
         "text": [
          "sesamum.n.01"
         ],
         "type": "scatter",
         "x": [
          3.8107657432556152
         ],
         "y": [
          -0.4882987439632416
         ]
        },
        {
         "marker": {
          "color": "green",
          "size": 5
         },
         "mode": "markers",
         "name": "symphytum.n.01",
         "opacity": 0.4,
         "text": [
          "symphytum.n.01"
         ],
         "type": "scatter",
         "x": [
          3.532904863357544
         ],
         "y": [
          -0.25111696124076843
         ]
        },
        {
         "marker": {
          "color": "green",
          "size": 5
         },
         "mode": "markers",
         "name": "genus_phlox.n.01",
         "opacity": 0.4,
         "text": [
          "genus_phlox.n.01"
         ],
         "type": "scatter",
         "x": [
          3.309284210205078
         ],
         "y": [
          -1.4140816926956177
         ]
        },
        {
         "marker": {
          "color": "green",
          "size": 5
         },
         "mode": "markers",
         "name": "phytelephas.n.01",
         "opacity": 0.4,
         "text": [
          "phytelephas.n.01"
         ],
         "type": "scatter",
         "x": [
          3.8818154335021973
         ],
         "y": [
          -0.28375235199928284
         ]
        },
        {
         "marker": {
          "color": "green",
          "size": 5
         },
         "mode": "markers",
         "name": "paris.n.02",
         "opacity": 0.4,
         "text": [
          "paris.n.02"
         ],
         "type": "scatter",
         "x": [
          3.6136462688446045
         ],
         "y": [
          -1.9751895666122437
         ]
        },
        {
         "marker": {
          "color": "green",
          "size": 5
         },
         "mode": "markers",
         "name": "genus_martynia.n.01",
         "opacity": 0.4,
         "text": [
          "genus_martynia.n.01"
         ],
         "type": "scatter",
         "x": [
          3.269318103790283
         ],
         "y": [
          -0.9719463586807251
         ]
        },
        {
         "marker": {
          "color": "green",
          "size": 5
         },
         "mode": "markers",
         "name": "hackelia.n.01",
         "opacity": 0.4,
         "text": [
          "hackelia.n.01"
         ],
         "type": "scatter",
         "x": [
          3.259568452835083
         ],
         "y": [
          0.26644501090049744
         ]
        },
        {
         "marker": {
          "color": "green",
          "size": 5
         },
         "mode": "markers",
         "name": "echium.n.01",
         "opacity": 0.4,
         "text": [
          "echium.n.01"
         ],
         "type": "scatter",
         "x": [
          3.2815775871276855
         ],
         "y": [
          0.6908915638923645
         ]
        },
        {
         "marker": {
          "color": "green",
          "size": 5
         },
         "mode": "markers",
         "name": "aframomum.n.01",
         "opacity": 0.4,
         "text": [
          "aframomum.n.01"
         ],
         "type": "scatter",
         "x": [
          3.5205814838409424
         ],
         "y": [
          -0.5179189443588257
         ]
        },
        {
         "marker": {
          "color": "green",
          "size": 5
         },
         "mode": "markers",
         "name": "genus_campanula.n.01",
         "opacity": 0.4,
         "text": [
          "genus_campanula.n.01"
         ],
         "type": "scatter",
         "x": [
          3.4595372676849365
         ],
         "y": [
          0.4535222351551056
         ]
        },
        {
         "marker": {
          "color": "green",
          "size": 5
         },
         "mode": "markers",
         "name": "mertensia.n.01",
         "opacity": 0.4,
         "text": [
          "mertensia.n.01"
         ],
         "type": "scatter",
         "x": [
          3.3674700260162354
         ],
         "y": [
          0.49889278411865234
         ]
        },
        {
         "marker": {
          "color": "green",
          "size": 5
         },
         "mode": "markers",
         "name": "genus_fothergilla.n.01",
         "opacity": 0.4,
         "text": [
          "genus_fothergilla.n.01"
         ],
         "type": "scatter",
         "x": [
          3.5694327354431152
         ],
         "y": [
          -0.8069212436676025
         ]
        },
        {
         "marker": {
          "color": "green",
          "size": 5
         },
         "mode": "markers",
         "name": "genus_liquidambar.n.01",
         "opacity": 0.4,
         "text": [
          "genus_liquidambar.n.01"
         ],
         "type": "scatter",
         "x": [
          3.6611697673797607
         ],
         "y": [
          -0.3028242886066437
         ]
        },
        {
         "marker": {
          "color": "green",
          "size": 5
         },
         "mode": "markers",
         "name": "physostigma.n.01",
         "opacity": 0.4,
         "text": [
          "physostigma.n.01"
         ],
         "type": "scatter",
         "x": [
          3.4481348991394043
         ],
         "y": [
          -0.4424384832382202
         ]
        },
        {
         "marker": {
          "color": "green",
          "size": 5
         },
         "mode": "markers",
         "name": "amsinckia.n.01",
         "opacity": 0.4,
         "text": [
          "amsinckia.n.01"
         ],
         "type": "scatter",
         "x": [
          3.3033814430236816
         ],
         "y": [
          -0.359680712223053
         ]
        },
        {
         "marker": {
          "color": "green",
          "size": 5
         },
         "mode": "markers",
         "name": "laguncularia.n.01",
         "opacity": 0.4,
         "text": [
          "laguncularia.n.01"
         ],
         "type": "scatter",
         "x": [
          2.9841041564941406
         ],
         "y": [
          0.5840036273002625
         ]
        },
        {
         "marker": {
          "color": "green",
          "size": 5
         },
         "mode": "markers",
         "name": "utricularia.n.01",
         "opacity": 0.4,
         "text": [
          "utricularia.n.01"
         ],
         "type": "scatter",
         "x": [
          3.2488698959350586
         ],
         "y": [
          -0.26204416155815125
         ]
        },
        {
         "marker": {
          "color": "green",
          "size": 5
         },
         "mode": "markers",
         "name": "lagerstroemia.n.01",
         "opacity": 0.4,
         "text": [
          "lagerstroemia.n.01"
         ],
         "type": "scatter",
         "x": [
          3.452115774154663
         ],
         "y": [
          0.06977301836013794
         ]
        },
        {
         "marker": {
          "color": "green",
          "size": 5
         },
         "mode": "markers",
         "name": "agrostis.n.01",
         "opacity": 0.4,
         "text": [
          "agrostis.n.01"
         ],
         "type": "scatter",
         "x": [
          4.045094966888428
         ],
         "y": [
          -0.44427281618118286
         ]
        },
        {
         "marker": {
          "color": "yellow",
          "size": 5
         },
         "mode": "markers",
         "name": "genus_tamandua.n.01",
         "opacity": 0.4,
         "text": [
          "genus_tamandua.n.01"
         ],
         "type": "scatter",
         "x": [
          3.3169569969177246
         ],
         "y": [
          0.5016133189201355
         ]
        },
        {
         "marker": {
          "color": "yellow",
          "size": 5
         },
         "mode": "markers",
         "name": "antidorcas.n.01",
         "opacity": 0.4,
         "text": [
          "antidorcas.n.01"
         ],
         "type": "scatter",
         "x": [
          3.5469486713409424
         ],
         "y": [
          0.3053997755050659
         ]
        },
        {
         "marker": {
          "color": "yellow",
          "size": 5
         },
         "mode": "markers",
         "name": "felis.n.01",
         "opacity": 0.4,
         "text": [
          "felis.n.01"
         ],
         "type": "scatter",
         "x": [
          3.9134416580200195
         ],
         "y": [
          -1.0061218738555908
         ]
        },
        {
         "marker": {
          "color": "yellow",
          "size": 5
         },
         "mode": "markers",
         "name": "bos.n.01",
         "opacity": 0.4,
         "text": [
          "bos.n.01"
         ],
         "type": "scatter",
         "x": [
          4.624337196350098
         ],
         "y": [
          0.3201042413711548
         ]
        },
        {
         "marker": {
          "color": "yellow",
          "size": 5
         },
         "mode": "markers",
         "name": "lagidium.n.01",
         "opacity": 0.4,
         "text": [
          "lagidium.n.01"
         ],
         "type": "scatter",
         "x": [
          3.2110555171966553
         ],
         "y": [
          0.020943792536854744
         ]
        },
        {
         "marker": {
          "color": "yellow",
          "size": 5
         },
         "mode": "markers",
         "name": "abrocoma.n.01",
         "opacity": 0.4,
         "text": [
          "abrocoma.n.01"
         ],
         "type": "scatter",
         "x": [
          3.3401081562042236
         ],
         "y": [
          0.21012583374977112
         ]
        },
        {
         "marker": {
          "color": "yellow",
          "size": 5
         },
         "mode": "markers",
         "name": "trichosurus.n.01",
         "opacity": 0.4,
         "text": [
          "trichosurus.n.01"
         ],
         "type": "scatter",
         "x": [
          3.2721853256225586
         ],
         "y": [
          0.2581186294555664
         ]
        },
        {
         "marker": {
          "color": "yellow",
          "size": 5
         },
         "mode": "markers",
         "name": "tamias.n.01",
         "opacity": 0.4,
         "text": [
          "tamias.n.01"
         ],
         "type": "scatter",
         "x": [
          3.4388012886047363
         ],
         "y": [
          0.7568564414978027
         ]
        },
        {
         "marker": {
          "color": "yellow",
          "size": 5
         },
         "mode": "markers",
         "name": "panthera.n.01",
         "opacity": 0.4,
         "text": [
          "panthera.n.01"
         ],
         "type": "scatter",
         "x": [
          3.270742654800415
         ],
         "y": [
          0.10269521921873093
         ]
        },
        {
         "marker": {
          "color": "yellow",
          "size": 5
         },
         "mode": "markers",
         "name": "blarina.n.01",
         "opacity": 0.4,
         "text": [
          "blarina.n.01"
         ],
         "type": "scatter",
         "x": [
          3.048877239227295
         ],
         "y": [
          0.37346991896629333
         ]
        },
        {
         "marker": {
          "color": "yellow",
          "size": 5
         },
         "mode": "markers",
         "name": "globicephala.n.01",
         "opacity": 0.4,
         "text": [
          "globicephala.n.01"
         ],
         "type": "scatter",
         "x": [
          3.3336150646209717
         ],
         "y": [
          0.3573518395423889
         ]
        },
        {
         "marker": {
          "color": "yellow",
          "size": 5
         },
         "mode": "markers",
         "name": "herpestes.n.01",
         "opacity": 0.4,
         "text": [
          "herpestes.n.01"
         ],
         "type": "scatter",
         "x": [
          3.4939889907836914
         ],
         "y": [
          -0.20265361666679382
         ]
        },
        {
         "marker": {
          "color": "yellow",
          "size": 5
         },
         "mode": "markers",
         "name": "mirounga.n.01",
         "opacity": 0.4,
         "text": [
          "mirounga.n.01"
         ],
         "type": "scatter",
         "x": [
          3.4697458744049072
         ],
         "y": [
          -0.11751510202884674
         ]
        },
        {
         "marker": {
          "color": "yellow",
          "size": 5
         },
         "mode": "markers",
         "name": "choloepus.n.01",
         "opacity": 0.4,
         "text": [
          "choloepus.n.01"
         ],
         "type": "scatter",
         "x": [
          3.0064399242401123
         ],
         "y": [
          -0.048374615609645844
         ]
        },
        {
         "marker": {
          "color": "yellow",
          "size": 5
         },
         "mode": "markers",
         "name": "pan.n.04",
         "opacity": 0.4,
         "text": [
          "pan.n.04"
         ],
         "type": "scatter",
         "x": [
          3.7999095916748047
         ],
         "y": [
          -0.40033799409866333
         ]
        },
        {
         "marker": {
          "color": "yellow",
          "size": 5
         },
         "mode": "markers",
         "name": "budorcas.n.01",
         "opacity": 0.4,
         "text": [
          "budorcas.n.01"
         ],
         "type": "scatter",
         "x": [
          3.526732921600342
         ],
         "y": [
          0.9761546850204468
         ]
        },
        {
         "marker": {
          "color": "yellow",
          "size": 5
         },
         "mode": "markers",
         "name": "genus_potamogale.n.01",
         "opacity": 0.4,
         "text": [
          "genus_potamogale.n.01"
         ],
         "type": "scatter",
         "x": [
          2.9145565032958984
         ],
         "y": [
          0.26526036858558655
         ]
        },
        {
         "marker": {
          "color": "yellow",
          "size": 5
         },
         "mode": "markers",
         "name": "uintatherium.n.01",
         "opacity": 0.4,
         "text": [
          "uintatherium.n.01"
         ],
         "type": "scatter",
         "x": [
          2.6315948963165283
         ],
         "y": [
          0.28856799006462097
         ]
        },
        {
         "marker": {
          "color": "yellow",
          "size": 5
         },
         "mode": "markers",
         "name": "canis.n.01",
         "opacity": 0.4,
         "text": [
          "canis.n.01"
         ],
         "type": "scatter",
         "x": [
          4.583456039428711
         ],
         "y": [
          0.020086579024791718
         ]
        },
        {
         "marker": {
          "color": "yellow",
          "size": 5
         },
         "mode": "markers",
         "name": "ornithorhynchus.n.01",
         "opacity": 0.4,
         "text": [
          "ornithorhynchus.n.01"
         ],
         "type": "scatter",
         "x": [
          2.7022666931152344
         ],
         "y": [
          0.9956080913543701
         ]
        },
        {
         "marker": {
          "color": "yellow",
          "size": 5
         },
         "mode": "markers",
         "name": "loxodonta.n.01",
         "opacity": 0.4,
         "text": [
          "loxodonta.n.01"
         ],
         "type": "scatter",
         "x": [
          3.4556188583374023
         ],
         "y": [
          0.0955977663397789
         ]
        },
        {
         "marker": {
          "color": "yellow",
          "size": 5
         },
         "mode": "markers",
         "name": "dama.n.01",
         "opacity": 0.4,
         "text": [
          "dama.n.01"
         ],
         "type": "scatter",
         "x": [
          3.6626036167144775
         ],
         "y": [
          -0.9116687178611755
         ]
        },
        {
         "marker": {
          "color": "yellow",
          "size": 5
         },
         "mode": "markers",
         "name": "bradypus.n.01",
         "opacity": 0.4,
         "text": [
          "bradypus.n.01"
         ],
         "type": "scatter",
         "x": [
          3.3375155925750732
         ],
         "y": [
          -0.41412678360939026
         ]
        },
        {
         "marker": {
          "color": "yellow",
          "size": 5
         },
         "mode": "markers",
         "name": "hylobates.n.01",
         "opacity": 0.4,
         "text": [
          "hylobates.n.01"
         ],
         "type": "scatter",
         "x": [
          3.546022891998291
         ],
         "y": [
          -0.07801536470651627
         ]
        },
        {
         "marker": {
          "color": "yellow",
          "size": 5
         },
         "mode": "markers",
         "name": "vespertilio.n.01",
         "opacity": 0.4,
         "text": [
          "vespertilio.n.01"
         ],
         "type": "scatter",
         "x": [
          3.350534200668335
         ],
         "y": [
          0.4472719728946686
         ]
        },
        {
         "marker": {
          "color": "yellow",
          "size": 5
         },
         "mode": "markers",
         "name": "choeronycteris.n.01",
         "opacity": 0.4,
         "text": [
          "choeronycteris.n.01"
         ],
         "type": "scatter",
         "x": [
          2.709787130355835
         ],
         "y": [
          0.9208219051361084
         ]
        },
        {
         "marker": {
          "color": "yellow",
          "size": 5
         },
         "mode": "markers",
         "name": "paradoxurus.n.01",
         "opacity": 0.4,
         "text": [
          "paradoxurus.n.01"
         ],
         "type": "scatter",
         "x": [
          3.1179661750793457
         ],
         "y": [
          -0.9202042818069458
         ]
        },
        {
         "marker": {
          "color": "yellow",
          "size": 5
         },
         "mode": "markers",
         "name": "ursus.n.01",
         "opacity": 0.4,
         "text": [
          "ursus.n.01"
         ],
         "type": "scatter",
         "x": [
          3.7067549228668213
         ],
         "y": [
          0.31524136662483215
         ]
        },
        {
         "marker": {
          "color": "yellow",
          "size": 5
         },
         "mode": "markers",
         "name": "potos.n.01",
         "opacity": 0.4,
         "text": [
          "potos.n.01"
         ],
         "type": "scatter",
         "x": [
          3.363201379776001
         ],
         "y": [
          0.8853761553764343
         ]
        },
        {
         "marker": {
          "color": "yellow",
          "size": 5
         },
         "mode": "markers",
         "name": "gulo.n.01",
         "opacity": 0.4,
         "text": [
          "gulo.n.01"
         ],
         "type": "scatter",
         "x": [
          4.798586845397949
         ],
         "y": [
          -1.0749742984771729
         ]
        },
        {
         "marker": {
          "color": "yellow",
          "size": 5
         },
         "mode": "markers",
         "name": "megaderma.n.01",
         "opacity": 0.4,
         "text": [
          "megaderma.n.01"
         ],
         "type": "scatter",
         "x": [
          2.6789052486419678
         ],
         "y": [
          0.9197270274162292
         ]
        },
        {
         "marker": {
          "color": "yellow",
          "size": 5
         },
         "mode": "markers",
         "name": "micromyx.n.01",
         "opacity": 0.4,
         "text": [
          "micromyx.n.01"
         ],
         "type": "scatter",
         "x": [
          3.160827159881592
         ],
         "y": [
          -0.3551533818244934
         ]
        },
        {
         "marker": {
          "color": "yellow",
          "size": 5
         },
         "mode": "markers",
         "name": "charronia.n.01",
         "opacity": 0.4,
         "text": [
          "charronia.n.01"
         ],
         "type": "scatter",
         "x": [
          3.5436737537384033
         ],
         "y": [
          -0.7404806017875671
         ]
        },
        {
         "marker": {
          "color": "yellow",
          "size": 5
         },
         "mode": "markers",
         "name": "erignathus.n.01",
         "opacity": 0.4,
         "text": [
          "erignathus.n.01"
         ],
         "type": "scatter",
         "x": [
          3.3182613849639893
         ],
         "y": [
          -0.8621050715446472
         ]
        },
        {
         "marker": {
          "color": "yellow",
          "size": 5
         },
         "mode": "markers",
         "name": "sarcophilus.n.01",
         "opacity": 0.4,
         "text": [
          "sarcophilus.n.01"
         ],
         "type": "scatter",
         "x": [
          3.3909554481506348
         ],
         "y": [
          -0.3406525254249573
         ]
        },
        {
         "marker": {
          "color": "yellow",
          "size": 5
         },
         "mode": "markers",
         "name": "ovis.n.01",
         "opacity": 0.4,
         "text": [
          "ovis.n.01"
         ],
         "type": "scatter",
         "x": [
          4.385476112365723
         ],
         "y": [
          -0.5136969685554504
         ]
        },
        {
         "marker": {
          "color": "yellow",
          "size": 5
         },
         "mode": "markers",
         "name": "equus.n.01",
         "opacity": 0.4,
         "text": [
          "equus.n.01"
         ],
         "type": "scatter",
         "x": [
          5.135104656219482
         ],
         "y": [
          0.19323883950710297
         ]
        },
        {
         "marker": {
          "color": "yellow",
          "size": 5
         },
         "mode": "markers",
         "name": "eira.n.01",
         "opacity": 0.4,
         "text": [
          "eira.n.01"
         ],
         "type": "scatter",
         "x": [
          3.463618755340576
         ],
         "y": [
          1.0104467868804932
         ]
        },
        {
         "marker": {
          "color": "yellow",
          "size": 5
         },
         "mode": "markers",
         "name": "balaenoptera.n.01",
         "opacity": 0.4,
         "text": [
          "balaenoptera.n.01"
         ],
         "type": "scatter",
         "x": [
          3.226867198944092
         ],
         "y": [
          -0.8646525740623474
         ]
        },
        {
         "marker": {
          "color": "yellow",
          "size": 5
         },
         "mode": "markers",
         "name": "pitymys.n.01",
         "opacity": 0.4,
         "text": [
          "pitymys.n.01"
         ],
         "type": "scatter",
         "x": [
          3.225142002105713
         ],
         "y": [
          -0.8650258183479309
         ]
        },
        {
         "marker": {
          "color": "yellow",
          "size": 5
         },
         "mode": "markers",
         "name": "alouatta.n.01",
         "opacity": 0.4,
         "text": [
          "alouatta.n.01"
         ],
         "type": "scatter",
         "x": [
          3.7319259643554688
         ],
         "y": [
          1.6769407987594604
         ]
        },
        {
         "marker": {
          "color": "yellow",
          "size": 5
         },
         "mode": "markers",
         "name": "otaria.n.01",
         "opacity": 0.4,
         "text": [
          "otaria.n.01"
         ],
         "type": "scatter",
         "x": [
          2.948188304901123
         ],
         "y": [
          1.220406174659729
         ]
        },
        {
         "marker": {
          "color": "yellow",
          "size": 5
         },
         "mode": "markers",
         "name": "odobenus.n.01",
         "opacity": 0.4,
         "text": [
          "odobenus.n.01"
         ],
         "type": "scatter",
         "x": [
          3.221198320388794
         ],
         "y": [
          -0.8549988865852356
         ]
        },
        {
         "marker": {
          "color": "yellow",
          "size": 5
         },
         "mode": "markers",
         "name": "ammotragus.n.01",
         "opacity": 0.4,
         "text": [
          "ammotragus.n.01"
         ],
         "type": "scatter",
         "x": [
          3.543938636779785
         ],
         "y": [
          0.2625763714313507
         ]
        },
        {
         "marker": {
          "color": "yellow",
          "size": 5
         },
         "mode": "markers",
         "name": "cebuella.n.01",
         "opacity": 0.4,
         "text": [
          "cebuella.n.01"
         ],
         "type": "scatter",
         "x": [
          3.1405978202819824
         ],
         "y": [
          0.5824450254440308
         ]
        },
        {
         "marker": {
          "color": "yellow",
          "size": 5
         },
         "mode": "markers",
         "name": "arvicola.n.01",
         "opacity": 0.4,
         "text": [
          "arvicola.n.01"
         ],
         "type": "scatter",
         "x": [
          3.1389389038085938
         ],
         "y": [
          0.966707170009613
         ]
        },
        {
         "marker": {
          "color": "yellow",
          "size": 5
         },
         "mode": "markers",
         "name": "megaptera.n.01",
         "opacity": 0.4,
         "text": [
          "megaptera.n.01"
         ],
         "type": "scatter",
         "x": [
          3.386645555496216
         ],
         "y": [
          0.11126461625099182
         ]
        },
        {
         "marker": {
          "color": "yellow",
          "size": 5
         },
         "mode": "markers",
         "name": "aplodontia.n.01",
         "opacity": 0.4,
         "text": [
          "aplodontia.n.01"
         ],
         "type": "scatter",
         "x": [
          3.071275234222412
         ],
         "y": [
          -0.9198991060256958
         ]
        },
        {
         "marker": {
          "color": "yellow",
          "size": 5
         },
         "mode": "markers",
         "name": "diphylla.n.01",
         "opacity": 0.4,
         "text": [
          "diphylla.n.01"
         ],
         "type": "scatter",
         "x": [
          3.1041324138641357
         ],
         "y": [
          -0.08592873811721802
         ]
        },
        {
         "marker": {
          "color": "yellow",
          "size": 5
         },
         "mode": "markers",
         "name": "delphinapterus.n.01",
         "opacity": 0.4,
         "text": [
          "delphinapterus.n.01"
         ],
         "type": "scatter",
         "x": [
          2.1730692386627197
         ],
         "y": [
          -0.20950794219970703
         ]
        },
        {
         "marker": {
          "color": "yellow",
          "size": 5
         },
         "mode": "markers",
         "name": "antrozous.n.01",
         "opacity": 0.4,
         "text": [
          "antrozous.n.01"
         ],
         "type": "scatter",
         "x": [
          3.348695755004883
         ],
         "y": [
          0.38045987486839294
         ]
        },
        {
         "marker": {
          "color": "yellow",
          "size": 5
         },
         "mode": "markers",
         "name": "sorex.n.01",
         "opacity": 0.4,
         "text": [
          "sorex.n.01"
         ],
         "type": "scatter",
         "x": [
          2.899158239364624
         ],
         "y": [
          0.9821083545684814
         ]
        },
        {
         "marker": {
          "color": "yellow",
          "size": 5
         },
         "mode": "markers",
         "name": "tachyglossus.n.01",
         "opacity": 0.4,
         "text": [
          "tachyglossus.n.01"
         ],
         "type": "scatter",
         "x": [
          3.035609483718872
         ],
         "y": [
          -0.020613498985767365
         ]
        },
        {
         "marker": {
          "color": "yellow",
          "size": 5
         },
         "mode": "markers",
         "name": "myocastor.n.01",
         "opacity": 0.4,
         "text": [
          "myocastor.n.01"
         ],
         "type": "scatter",
         "x": [
          3.174278974533081
         ],
         "y": [
          -0.10678686201572418
         ]
        },
        {
         "marker": {
          "color": "yellow",
          "size": 5
         },
         "mode": "markers",
         "name": "pipistrellus.n.01",
         "opacity": 0.4,
         "text": [
          "pipistrellus.n.01"
         ],
         "type": "scatter",
         "x": [
          3.340111494064331
         ],
         "y": [
          0.9009461402893066
         ]
        },
        {
         "marker": {
          "color": "yellow",
          "size": 5
         },
         "mode": "markers",
         "name": "bibos.n.01",
         "opacity": 0.4,
         "text": [
          "bibos.n.01"
         ],
         "type": "scatter",
         "x": [
          4.236819267272949
         ],
         "y": [
          0.05968717485666275
         ]
        },
        {
         "marker": {
          "color": "yellow",
          "size": 5
         },
         "mode": "markers",
         "name": "petaurista.n.01",
         "opacity": 0.4,
         "text": [
          "petaurista.n.01"
         ],
         "type": "scatter",
         "x": [
          3.2443816661834717
         ],
         "y": [
          1.0670863389968872
         ]
        },
        {
         "marker": {
          "color": "yellow",
          "size": 5
         },
         "mode": "markers",
         "name": "euarctos.n.01",
         "opacity": 0.4,
         "text": [
          "euarctos.n.01"
         ],
         "type": "scatter",
         "x": [
          3.365546941757202
         ],
         "y": [
          -0.39978665113449097
         ]
        },
        {
         "marker": {
          "color": "yellow",
          "size": 5
         },
         "mode": "markers",
         "name": "viverra.n.01",
         "opacity": 0.4,
         "text": [
          "viverra.n.01"
         ],
         "type": "scatter",
         "x": [
          3.1372201442718506
         ],
         "y": [
          0.7004675269126892
         ]
        },
        {
         "marker": {
          "color": "yellow",
          "size": 5
         },
         "mode": "markers",
         "name": "rupicapra.n.01",
         "opacity": 0.4,
         "text": [
          "rupicapra.n.01"
         ],
         "type": "scatter",
         "x": [
          3.5940890312194824
         ],
         "y": [
          0.31439122557640076
         ]
        },
        {
         "marker": {
          "color": "yellow",
          "size": 5
         },
         "mode": "markers",
         "name": "spilogale.n.01",
         "opacity": 0.4,
         "text": [
          "spilogale.n.01"
         ],
         "type": "scatter",
         "x": [
          3.416701078414917
         ],
         "y": [
          0.5212365388870239
         ]
        },
        {
         "marker": {
          "color": "yellow",
          "size": 5
         },
         "mode": "markers",
         "name": "enhydra.n.01",
         "opacity": 0.4,
         "text": [
          "enhydra.n.01"
         ],
         "type": "scatter",
         "x": [
          3.6532814502716064
         ],
         "y": [
          0.5965474843978882
         ]
        },
        {
         "marker": {
          "color": "yellow",
          "size": 5
         },
         "mode": "markers",
         "name": "meriones.n.01",
         "opacity": 0.4,
         "text": [
          "meriones.n.01"
         ],
         "type": "scatter",
         "x": [
          3.226881742477417
         ],
         "y": [
          -0.8979082703590393
         ]
        },
        {
         "marker": {
          "color": "yellow",
          "size": 5
         },
         "mode": "markers",
         "name": "neotoma.n.01",
         "opacity": 0.4,
         "text": [
          "neotoma.n.01"
         ],
         "type": "scatter",
         "x": [
          3.547145128250122
         ],
         "y": [
          -1.305160641670227
         ]
        },
        {
         "marker": {
          "color": "yellow",
          "size": 5
         },
         "mode": "markers",
         "name": "draw.v.23",
         "opacity": 0.4,
         "text": [
          "draw.v.23"
         ],
         "type": "scatter",
         "x": [
          3.7258481979370117
         ],
         "y": [
          -0.523988664150238
         ]
        },
        {
         "marker": {
          "color": "yellow",
          "size": 5
         },
         "mode": "markers",
         "name": "thomomys.n.01",
         "opacity": 0.4,
         "text": [
          "thomomys.n.01"
         ],
         "type": "scatter",
         "x": [
          3.2186498641967773
         ],
         "y": [
          0.34427544474601746
         ]
        },
        {
         "marker": {
          "color": "yellow",
          "size": 5
         },
         "mode": "markers",
         "name": "neomys.n.01",
         "opacity": 0.4,
         "text": [
          "neomys.n.01"
         ],
         "type": "scatter",
         "x": [
          3.0111937522888184
         ],
         "y": [
          0.5107120871543884
         ]
        },
        {
         "marker": {
          "color": "yellow",
          "size": 5
         },
         "mode": "markers",
         "name": "cercopithecus.n.01",
         "opacity": 0.4,
         "text": [
          "cercopithecus.n.01"
         ],
         "type": "scatter",
         "x": [
          3.375232219696045
         ],
         "y": [
          -0.3534485697746277
         ]
        },
        {
         "marker": {
          "color": "yellow",
          "size": 5
         },
         "mode": "markers",
         "name": "erethizon.n.01",
         "opacity": 0.4,
         "text": [
          "erethizon.n.01"
         ],
         "type": "scatter",
         "x": [
          2.9318675994873047
         ],
         "y": [
          0.5501282811164856
         ]
        },
        {
         "marker": {
          "color": "yellow",
          "size": 5
         },
         "mode": "markers",
         "name": "zapus.n.01",
         "opacity": 0.4,
         "text": [
          "zapus.n.01"
         ],
         "type": "scatter",
         "x": [
          2.7055821418762207
         ],
         "y": [
          -0.11059408634901047
         ]
        },
        {
         "marker": {
          "color": "yellow",
          "size": 5
         },
         "mode": "markers",
         "name": "tursiops.n.01",
         "opacity": 0.4,
         "text": [
          "tursiops.n.01"
         ],
         "type": "scatter",
         "x": [
          3.3942244052886963
         ],
         "y": [
          0.41422316431999207
         ]
        },
        {
         "marker": {
          "color": "yellow",
          "size": 5
         },
         "mode": "markers",
         "name": "mustela.n.01",
         "opacity": 0.4,
         "text": [
          "mustela.n.01"
         ],
         "type": "scatter",
         "x": [
          3.894425868988037
         ],
         "y": [
          -0.36874404549598694
         ]
        },
        {
         "marker": {
          "color": "yellow",
          "size": 5
         },
         "mode": "markers",
         "name": "geomys.n.01",
         "opacity": 0.4,
         "text": [
          "geomys.n.01"
         ],
         "type": "scatter",
         "x": [
          3.215867757797241
         ],
         "y": [
          0.10792525857686996
         ]
        },
        {
         "marker": {
          "color": "yellow",
          "size": 5
         },
         "mode": "markers",
         "name": "sus.n.01",
         "opacity": 0.4,
         "text": [
          "sus.n.01"
         ],
         "type": "scatter",
         "x": [
          4.4949870109558105
         ],
         "y": [
          1.3095778226852417
         ]
        },
        {
         "marker": {
          "color": "yellow",
          "size": 5
         },
         "mode": "markers",
         "name": "ailuropoda.n.01",
         "opacity": 0.4,
         "text": [
          "ailuropoda.n.01"
         ],
         "type": "scatter",
         "x": [
          3.5009889602661133
         ],
         "y": [
          0.1618589609861374
         ]
        },
        {
         "marker": {
          "color": "yellow",
          "size": 5
         },
         "mode": "markers",
         "name": "notoryctus.n.01",
         "opacity": 0.4,
         "text": [
          "notoryctus.n.01"
         ],
         "type": "scatter",
         "x": [
          3.483773708343506
         ],
         "y": [
          -0.10854732245206833
         ]
        },
        {
         "marker": {
          "color": "yellow",
          "size": 5
         },
         "mode": "markers",
         "name": "giraffa.n.01",
         "opacity": 0.4,
         "text": [
          "giraffa.n.01"
         ],
         "type": "scatter",
         "x": [
          3.4176385402679443
         ],
         "y": [
          1.0774385929107666
         ]
        },
        {
         "marker": {
          "color": "yellow",
          "size": 5
         },
         "mode": "markers",
         "name": "dasyprocta.n.01",
         "opacity": 0.4,
         "text": [
          "dasyprocta.n.01"
         ],
         "type": "scatter",
         "x": [
          2.7526426315307617
         ],
         "y": [
          0.34715306758880615
         ]
        },
        {
         "marker": {
          "color": "yellow",
          "size": 5
         },
         "mode": "markers",
         "name": "arctocebus.n.01",
         "opacity": 0.4,
         "text": [
          "arctocebus.n.01"
         ],
         "type": "scatter",
         "x": [
          3.031538486480713
         ],
         "y": [
          0.1205332800745964
         ]
        },
        {
         "marker": {
          "color": "yellow",
          "size": 5
         },
         "mode": "markers",
         "name": "myrmecobius.n.01",
         "opacity": 0.4,
         "text": [
          "myrmecobius.n.01"
         ],
         "type": "scatter",
         "x": [
          3.1931934356689453
         ],
         "y": [
          1.2127690315246582
         ]
        },
        {
         "marker": {
          "color": "yellow",
          "size": 5
         },
         "mode": "markers",
         "name": "microtus.n.01",
         "opacity": 0.4,
         "text": [
          "microtus.n.01"
         ],
         "type": "scatter",
         "x": [
          3.2380170822143555
         ],
         "y": [
          0.18861718475818634
         ]
        },
        {
         "marker": {
          "color": "yellow",
          "size": 5
         },
         "mode": "markers",
         "name": "myopus.n.01",
         "opacity": 0.4,
         "text": [
          "myopus.n.01"
         ],
         "type": "scatter",
         "x": [
          3.381852865219116
         ],
         "y": [
          -0.47802892327308655
         ]
        },
        {
         "marker": {
          "color": "yellow",
          "size": 5
         },
         "mode": "markers",
         "name": "genus_galago.n.01",
         "opacity": 0.4,
         "text": [
          "genus_galago.n.01"
         ],
         "type": "scatter",
         "x": [
          2.9991142749786377
         ],
         "y": [
          0.4700374901294708
         ]
        },
        {
         "marker": {
          "color": "yellow",
          "size": 5
         },
         "mode": "markers",
         "name": "neurotrichus.n.01",
         "opacity": 0.4,
         "text": [
          "neurotrichus.n.01"
         ],
         "type": "scatter",
         "x": [
          3.23648738861084
         ],
         "y": [
          0.21700023114681244
         ]
        },
        {
         "marker": {
          "color": "yellow",
          "size": 5
         },
         "mode": "markers",
         "name": "pongo.n.01",
         "opacity": 0.4,
         "text": [
          "pongo.n.01"
         ],
         "type": "scatter",
         "x": [
          3.3798227310180664
         ],
         "y": [
          -0.5605689287185669
         ]
        },
        {
         "marker": {
          "color": "yellow",
          "size": 5
         },
         "mode": "markers",
         "name": "synercus.n.01",
         "opacity": 0.4,
         "text": [
          "synercus.n.01"
         ],
         "type": "scatter",
         "x": [
          3.590864896774292
         ],
         "y": [
          -0.6157292127609253
         ]
        },
        {
         "marker": {
          "color": "yellow",
          "size": 5
         },
         "mode": "markers",
         "name": "genus_australopithecus.n.01",
         "opacity": 0.4,
         "text": [
          "genus_australopithecus.n.01"
         ],
         "type": "scatter",
         "x": [
          4.58803129196167
         ],
         "y": [
          -1.294950246810913
         ]
        },
        {
         "marker": {
          "color": "yellow",
          "size": 5
         },
         "mode": "markers",
         "name": "mellivora.n.01",
         "opacity": 0.4,
         "text": [
          "mellivora.n.01"
         ],
         "type": "scatter",
         "x": [
          3.4366931915283203
         ],
         "y": [
          -0.30488744378089905
         ]
        },
        {
         "marker": {
          "color": "yellow",
          "size": 5
         },
         "mode": "markers",
         "name": "gazella.n.01",
         "opacity": 0.4,
         "text": [
          "gazella.n.01"
         ],
         "type": "scatter",
         "x": [
          4.034573554992676
         ],
         "y": [
          0.3397614359855652
         ]
        },
        {
         "marker": {
          "color": "yellow",
          "size": 5
         },
         "mode": "markers",
         "name": "physeter.n.01",
         "opacity": 0.4,
         "text": [
          "physeter.n.01"
         ],
         "type": "scatter",
         "x": [
          2.8203177452087402
         ],
         "y": [
          1.0880643129348755
         ]
        },
        {
         "marker": {
          "color": "yellow",
          "size": 5
         },
         "mode": "markers",
         "name": "crocuta.n.01",
         "opacity": 0.4,
         "text": [
          "crocuta.n.01"
         ],
         "type": "scatter",
         "x": [
          3.307541847229004
         ],
         "y": [
          -0.3970416486263275
         ]
        },
        {
         "marker": {
          "color": "yellow",
          "size": 5
         },
         "mode": "markers",
         "name": "genus_lemur.n.01",
         "opacity": 0.4,
         "text": [
          "genus_lemur.n.01"
         ],
         "type": "scatter",
         "x": [
          2.1724679470062256
         ],
         "y": [
          0.09893195331096649
         ]
        },
        {
         "marker": {
          "color": "yellow",
          "size": 5
         },
         "mode": "markers",
         "name": "arctictis.n.01",
         "opacity": 0.4,
         "text": [
          "arctictis.n.01"
         ],
         "type": "scatter",
         "x": [
          3.272622585296631
         ],
         "y": [
          -0.41325679421424866
         ]
        },
        {
         "marker": {
          "color": "yellow",
          "size": 5
         },
         "mode": "markers",
         "name": "myrmecophaga.n.01",
         "opacity": 0.4,
         "text": [
          "myrmecophaga.n.01"
         ],
         "type": "scatter",
         "x": [
          3.3457303047180176
         ],
         "y": [
          0.31878578662872314
         ]
        },
        {
         "marker": {
          "color": "yellow",
          "size": 5
         },
         "mode": "markers",
         "name": "hyracotherium.n.01",
         "opacity": 0.4,
         "text": [
          "hyracotherium.n.01"
         ],
         "type": "scatter",
         "x": [
          4.130280494689941
         ],
         "y": [
          0.6001014709472656
         ]
        },
        {
         "marker": {
          "color": "yellow",
          "size": 5
         },
         "mode": "markers",
         "name": "genus_gorilla.n.01",
         "opacity": 0.4,
         "text": [
          "genus_gorilla.n.01"
         ],
         "type": "scatter",
         "x": [
          3.356740713119507
         ],
         "y": [
          -0.7714883685112
         ]
        },
        {
         "marker": {
          "color": "yellow",
          "size": 5
         },
         "mode": "markers",
         "name": "euphractus.n.01",
         "opacity": 0.4,
         "text": [
          "euphractus.n.01"
         ],
         "type": "scatter",
         "x": [
          3.073322057723999
         ],
         "y": [
          0.6085457801818848
         ]
        },
        {
         "marker": {
          "color": "yellow",
          "size": 5
         },
         "mode": "markers",
         "name": "eumetopias.n.01",
         "opacity": 0.4,
         "text": [
          "eumetopias.n.01"
         ],
         "type": "scatter",
         "x": [
          2.9178013801574707
         ],
         "y": [
          1.2562307119369507
         ]
        },
        {
         "marker": {
          "color": "yellow",
          "size": 5
         },
         "mode": "markers",
         "name": "cebus.n.01",
         "opacity": 0.4,
         "text": [
          "cebus.n.01"
         ],
         "type": "scatter",
         "x": [
          3.2303411960601807
         ],
         "y": [
          -0.7546370625495911
         ]
        },
        {
         "marker": {
          "color": "yellow",
          "size": 5
         },
         "mode": "markers",
         "name": "taurotragus.n.01",
         "opacity": 0.4,
         "text": [
          "taurotragus.n.01"
         ],
         "type": "scatter",
         "x": [
          3.5882601737976074
         ],
         "y": [
          0.18175557255744934
         ]
        },
        {
         "marker": {
          "color": "yellow",
          "size": 5
         },
         "mode": "markers",
         "name": "sigmodon.n.01",
         "opacity": 0.4,
         "text": [
          "sigmodon.n.01"
         ],
         "type": "scatter",
         "x": [
          3.3540492057800293
         ],
         "y": [
          -0.1530105024576187
         ]
        },
        {
         "marker": {
          "color": "yellow",
          "size": 5
         },
         "mode": "markers",
         "name": "apodemus.n.01",
         "opacity": 0.4,
         "text": [
          "apodemus.n.01"
         ],
         "type": "scatter",
         "x": [
          3.250223159790039
         ],
         "y": [
          0.7326478958129883
         ]
        },
        {
         "marker": {
          "color": "yellow",
          "size": 5
         },
         "mode": "markers",
         "name": "erythrocebus.n.01",
         "opacity": 0.4,
         "text": [
          "erythrocebus.n.01"
         ],
         "type": "scatter",
         "x": [
          3.2119202613830566
         ],
         "y": [
          0.9453312158584595
         ]
        },
        {
         "marker": {
          "color": "yellow",
          "size": 5
         },
         "mode": "markers",
         "name": "antilocapra.n.01",
         "opacity": 0.4,
         "text": [
          "antilocapra.n.01"
         ],
         "type": "scatter",
         "x": [
          3.548022508621216
         ],
         "y": [
          -0.4163491129875183
         ]
        },
        {
         "marker": {
          "color": "yellow",
          "size": 5
         },
         "mode": "markers",
         "name": "delphinus.n.02",
         "opacity": 0.4,
         "text": [
          "delphinus.n.02"
         ],
         "type": "scatter",
         "x": [
          3.3470661640167236
         ],
         "y": [
          0.019419953227043152
         ]
        },
        {
         "marker": {
          "color": "yellow",
          "size": 5
         },
         "mode": "markers",
         "name": "pseudoryx.n.01",
         "opacity": 0.4,
         "text": [
          "pseudoryx.n.01"
         ],
         "type": "scatter",
         "x": [
          3.5516741275787354
         ],
         "y": [
          0.02321680635213852
         ]
        },
        {
         "marker": {
          "color": "yellow",
          "size": 5
         },
         "mode": "markers",
         "name": "mesocricetus.n.01",
         "opacity": 0.4,
         "text": [
          "mesocricetus.n.01"
         ],
         "type": "scatter",
         "x": [
          3.254260778427124
         ],
         "y": [
          -0.5226607322692871
         ]
        },
        {
         "marker": {
          "color": "yellow",
          "size": 5
         },
         "mode": "markers",
         "name": "selenarctos.n.01",
         "opacity": 0.4,
         "text": [
          "selenarctos.n.01"
         ],
         "type": "scatter",
         "x": [
          3.228041887283325
         ],
         "y": [
          -0.8806520700454712
         ]
        },
        {
         "marker": {
          "color": "yellow",
          "size": 5
         },
         "mode": "markers",
         "name": "meles.n.01",
         "opacity": 0.4,
         "text": [
          "meles.n.01"
         ],
         "type": "scatter",
         "x": [
          3.437708616256714
         ],
         "y": [
          -0.930095911026001
         ]
        },
        {
         "marker": {
          "color": "yellow",
          "size": 5
         },
         "mode": "markers",
         "name": "thalarctos.n.01",
         "opacity": 0.4,
         "text": [
          "thalarctos.n.01"
         ],
         "type": "scatter",
         "x": [
          3.3389124870300293
         ],
         "y": [
          -0.30071911215782166
         ]
        },
        {
         "marker": {
          "color": "yellow",
          "size": 5
         },
         "mode": "markers",
         "name": "capreolus.n.01",
         "opacity": 0.4,
         "text": [
          "capreolus.n.01"
         ],
         "type": "scatter",
         "x": [
          3.6091232299804688
         ],
         "y": [
          0.513943076133728
         ]
        },
        {
         "marker": {
          "color": "yellow",
          "size": 5
         },
         "mode": "markers",
         "name": "megatherium.n.01",
         "opacity": 0.4,
         "text": [
          "megatherium.n.01"
         ],
         "type": "scatter",
         "x": [
          3.125274896621704
         ],
         "y": [
          -0.7078964114189148
         ]
        },
        {
         "marker": {
          "color": "yellow",
          "size": 5
         },
         "mode": "markers",
         "name": "nasua.n.01",
         "opacity": 0.4,
         "text": [
          "nasua.n.01"
         ],
         "type": "scatter",
         "x": [
          3.431131601333618
         ],
         "y": [
          -0.4886266887187958
         ]
        },
        {
         "marker": {
          "color": "yellow",
          "size": 5
         },
         "mode": "markers",
         "name": "proteles.n.01",
         "opacity": 0.4,
         "text": [
          "proteles.n.01"
         ],
         "type": "scatter",
         "x": [
          3.330785036087036
         ],
         "y": [
          -0.06400866061449051
         ]
        },
        {
         "marker": {
          "color": "yellow",
          "size": 5
         },
         "mode": "markers",
         "name": "odocoileus.n.01",
         "opacity": 0.4,
         "text": [
          "odocoileus.n.01"
         ],
         "type": "scatter",
         "x": [
          3.7997241020202637
         ],
         "y": [
          0.3312014639377594
         ]
        },
        {
         "marker": {
          "color": "yellow",
          "size": 5
         },
         "mode": "markers",
         "name": "monodon.n.01",
         "opacity": 0.4,
         "text": [
          "monodon.n.01"
         ],
         "type": "scatter",
         "x": [
          3.4000918865203857
         ],
         "y": [
          -1.0670160055160522
         ]
        },
        {
         "marker": {
          "color": "yellow",
          "size": 5
         },
         "mode": "markers",
         "name": "orcinus.n.01",
         "opacity": 0.4,
         "text": [
          "orcinus.n.01"
         ],
         "type": "scatter",
         "x": [
          3.279041051864624
         ],
         "y": [
          -0.5868756771087646
         ]
        },
        {
         "marker": {
          "color": "yellow",
          "size": 5
         },
         "mode": "markers",
         "name": "bubalus.n.01",
         "opacity": 0.4,
         "text": [
          "bubalus.n.01"
         ],
         "type": "scatter",
         "x": [
          3.478975296020508
         ],
         "y": [
          -0.7303179502487183
         ]
        },
        {
         "marker": {
          "color": "yellow",
          "size": 5
         },
         "mode": "markers",
         "name": "genetta.n.01",
         "opacity": 0.4,
         "text": [
          "genetta.n.01"
         ],
         "type": "scatter",
         "x": [
          3.264634847640991
         ],
         "y": [
          0.1779453307390213
         ]
        },
        {
         "marker": {
          "color": "yellow",
          "size": 5
         },
         "mode": "markers",
         "name": "chlamyphorus.n.01",
         "opacity": 0.4,
         "text": [
          "chlamyphorus.n.01"
         ],
         "type": "scatter",
         "x": [
          3.150988817214966
         ],
         "y": [
          -0.10982003808021545
         ]
        },
        {
         "marker": {
          "color": "yellow",
          "size": 5
         },
         "mode": "markers",
         "name": "kogia.n.01",
         "opacity": 0.4,
         "text": [
          "kogia.n.01"
         ],
         "type": "scatter",
         "x": [
          2.73909854888916
         ],
         "y": [
          1.2830219268798828
         ]
        },
        {
         "marker": {
          "color": "yellow",
          "size": 5
         },
         "mode": "markers",
         "name": "genus_cabassous.n.01",
         "opacity": 0.4,
         "text": [
          "genus_cabassous.n.01"
         ],
         "type": "scatter",
         "x": [
          2.16310977935791
         ],
         "y": [
          0.18430906534194946
         ]
        },
        {
         "marker": {
          "color": "yellow",
          "size": 5
         },
         "mode": "markers",
         "name": "phascogale.n.01",
         "opacity": 0.4,
         "text": [
          "phascogale.n.01"
         ],
         "type": "scatter",
         "x": [
          3.3465700149536133
         ],
         "y": [
          0.32068222761154175
         ]
        },
        {
         "marker": {
          "color": "yellow",
          "size": 5
         },
         "mode": "markers",
         "name": "avahi.n.01",
         "opacity": 0.4,
         "text": [
          "avahi.n.01"
         ],
         "type": "scatter",
         "x": [
          3.4512743949890137
         ],
         "y": [
          -0.6738484501838684
         ]
        },
        {
         "marker": {
          "color": "yellow",
          "size": 5
         },
         "mode": "markers",
         "name": "ondatra.n.01",
         "opacity": 0.4,
         "text": [
          "ondatra.n.01"
         ],
         "type": "scatter",
         "x": [
          3.545994758605957
         ],
         "y": [
          -0.6419339776039124
         ]
        },
        {
         "marker": {
          "color": "yellow",
          "size": 5
         },
         "mode": "markers",
         "name": "lagostomus.n.01",
         "opacity": 0.4,
         "text": [
          "lagostomus.n.01"
         ],
         "type": "scatter",
         "x": [
          3.351119041442871
         ],
         "y": [
          -0.29866039752960205
         ]
        },
        {
         "marker": {
          "color": "yellow",
          "size": 5
         },
         "mode": "markers",
         "name": "presbytes.n.01",
         "opacity": 0.4,
         "text": [
          "presbytes.n.01"
         ],
         "type": "scatter",
         "x": [
          3.392259359359741
         ],
         "y": [
          0.30553755164146423
         ]
        },
        {
         "marker": {
          "color": "yellow",
          "size": 5
         },
         "mode": "markers",
         "name": "genus_homo.n.01",
         "opacity": 0.4,
         "text": [
          "genus_homo.n.01"
         ],
         "type": "scatter",
         "x": [
          4.9244303703308105
         ],
         "y": [
          -0.23071278631687164
         ]
        },
        {
         "marker": {
          "color": "yellow",
          "size": 5
         },
         "mode": "markers",
         "name": "martes.n.01",
         "opacity": 0.4,
         "text": [
          "martes.n.01"
         ],
         "type": "scatter",
         "x": [
          3.6969356536865234
         ],
         "y": [
          -0.3006170988082886
         ]
        },
        {
         "marker": {
          "color": "yellow",
          "size": 5
         },
         "mode": "markers",
         "name": "trichys.n.01",
         "opacity": 0.4,
         "text": [
          "trichys.n.01"
         ],
         "type": "scatter",
         "x": [
          2.9134535789489746
         ],
         "y": [
          -0.3215361535549164
         ]
        },
        {
         "marker": {
          "color": "yellow",
          "size": 5
         },
         "mode": "markers",
         "name": "procavia.n.01",
         "opacity": 0.4,
         "text": [
          "procavia.n.01"
         ],
         "type": "scatter",
         "x": [
          3.152879238128662
         ],
         "y": [
          0.07163900882005692
         ]
        },
        {
         "marker": {
          "color": "yellow",
          "size": 5
         },
         "mode": "markers",
         "name": "melursus.n.01",
         "opacity": 0.4,
         "text": [
          "melursus.n.01"
         ],
         "type": "scatter",
         "x": [
          3.3455798625946045
         ],
         "y": [
          0.5019637942314148
         ]
        },
        {
         "marker": {
          "color": "yellow",
          "size": 5
         },
         "mode": "markers",
         "name": "cystophora.n.01",
         "opacity": 0.4,
         "text": [
          "cystophora.n.01"
         ],
         "type": "scatter",
         "x": [
          3.452821969985962
         ],
         "y": [
          0.12444008886814117
         ]
        },
        {
         "marker": {
          "color": "yellow",
          "size": 5
         },
         "mode": "markers",
         "name": "peromyscus.n.01",
         "opacity": 0.4,
         "text": [
          "peromyscus.n.01"
         ],
         "type": "scatter",
         "x": [
          3.3988656997680664
         ],
         "y": [
          0.29328951239585876
         ]
        },
        {
         "marker": {
          "color": "yellow",
          "size": 5
         },
         "mode": "markers",
         "name": "naemorhedus.n.01",
         "opacity": 0.4,
         "text": [
          "naemorhedus.n.01"
         ],
         "type": "scatter",
         "x": [
          3.5260188579559326
         ],
         "y": [
          -0.48527398705482483
         ]
        },
        {
         "marker": {
          "color": "yellow",
          "size": 5
         },
         "mode": "markers",
         "name": "bassariscus.n.01",
         "opacity": 0.4,
         "text": [
          "bassariscus.n.01"
         ],
         "type": "scatter",
         "x": [
          3.411027193069458
         ],
         "y": [
          -0.23025071620941162
         ]
        },
        {
         "marker": {
          "color": "yellow",
          "size": 5
         },
         "mode": "markers",
         "name": "mus.n.01",
         "opacity": 0.4,
         "text": [
          "mus.n.01"
         ],
         "type": "scatter",
         "x": [
          3.1321327686309814
         ],
         "y": [
          -0.5648764967918396
         ]
        },
        {
         "marker": {
          "color": "yellow",
          "size": 5
         },
         "mode": "markers",
         "name": "callicebus.n.01",
         "opacity": 0.4,
         "text": [
          "callicebus.n.01"
         ],
         "type": "scatter",
         "x": [
          3.4127769470214844
         ],
         "y": [
          0.37086501717567444
         ]
        },
        {
         "marker": {
          "color": "yellow",
          "size": 5
         },
         "mode": "markers",
         "name": "dryopithecus.n.01",
         "opacity": 0.4,
         "text": [
          "dryopithecus.n.01"
         ],
         "type": "scatter",
         "x": [
          3.9185495376586914
         ],
         "y": [
          0.31424015760421753
         ]
        },
        {
         "marker": {
          "color": "yellow",
          "size": 5
         },
         "mode": "markers",
         "name": "vicugna.n.01",
         "opacity": 0.4,
         "text": [
          "vicugna.n.01"
         ],
         "type": "scatter",
         "x": [
          3.4218177795410156
         ],
         "y": [
          -0.5425294041633606
         ]
        },
        {
         "marker": {
          "color": "yellow",
          "size": 5
         },
         "mode": "markers",
         "name": "daubentonia.n.01",
         "opacity": 0.4,
         "text": [
          "daubentonia.n.01"
         ],
         "type": "scatter",
         "x": [
          2.9501454830169678
         ],
         "y": [
          -1.0761135816574097
         ]
        },
        {
         "marker": {
          "color": "yellow",
          "size": 5
         },
         "mode": "markers",
         "name": "okapia.n.01",
         "opacity": 0.4,
         "text": [
          "okapia.n.01"
         ],
         "type": "scatter",
         "x": [
          2.819687604904175
         ],
         "y": [
          -1.300734043121338
         ]
        },
        {
         "marker": {
          "color": "yellow",
          "size": 5
         },
         "mode": "markers",
         "name": "lepus.n.02",
         "opacity": 0.4,
         "text": [
          "lepus.n.02"
         ],
         "type": "scatter",
         "x": [
          3.9809837341308594
         ],
         "y": [
          0.31578925251960754
         ]
        },
        {
         "marker": {
          "color": "yellow",
          "size": 5
         },
         "mode": "markers",
         "name": "eschrichtius.n.01",
         "opacity": 0.4,
         "text": [
          "eschrichtius.n.01"
         ],
         "type": "scatter",
         "x": [
          3.1843276023864746
         ],
         "y": [
          0.14012610912322998
         ]
        },
        {
         "marker": {
          "color": "yellow",
          "size": 5
         },
         "mode": "markers",
         "name": "sylvilagus.n.01",
         "opacity": 0.4,
         "text": [
          "sylvilagus.n.01"
         ],
         "type": "scatter",
         "x": [
          3.9254140853881836
         ],
         "y": [
          -0.7120393514633179
         ]
        },
        {
         "marker": {
          "color": "yellow",
          "size": 5
         },
         "mode": "markers",
         "name": "liomys.n.01",
         "opacity": 0.4,
         "text": [
          "liomys.n.01"
         ],
         "type": "scatter",
         "x": [
          2.8549604415893555
         ],
         "y": [
          0.41412580013275146
         ]
        },
        {
         "marker": {
          "color": "yellow",
          "size": 5
         },
         "mode": "markers",
         "name": "arctonyx.n.01",
         "opacity": 0.4,
         "text": [
          "arctonyx.n.01"
         ],
         "type": "scatter",
         "x": [
          3.125272512435913
         ],
         "y": [
          -0.36024293303489685
         ]
        },
        {
         "marker": {
          "color": "yellow",
          "size": 5
         },
         "mode": "markers",
         "name": "onychogalea.n.01",
         "opacity": 0.4,
         "text": [
          "onychogalea.n.01"
         ],
         "type": "scatter",
         "x": [
          3.0642812252044678
         ],
         "y": [
          1.1622885465621948
         ]
        },
        {
         "marker": {
          "color": "yellow",
          "size": 5
         },
         "mode": "markers",
         "name": "macrotis.n.01",
         "opacity": 0.4,
         "text": [
          "macrotis.n.01"
         ],
         "type": "scatter",
         "x": [
          2.983651638031006
         ],
         "y": [
          -0.09336008131504059
         ]
        },
        {
         "marker": {
          "color": "yellow",
          "size": 5
         },
         "mode": "markers",
         "name": "nyctereutes.n.01",
         "opacity": 0.4,
         "text": [
          "nyctereutes.n.01"
         ],
         "type": "scatter",
         "x": [
          3.5178415775299072
         ],
         "y": [
          -1.2711299657821655
         ]
        },
        {
         "marker": {
          "color": "yellow",
          "size": 5
         },
         "mode": "markers",
         "name": "procyon.n.02",
         "opacity": 0.4,
         "text": [
          "procyon.n.02"
         ],
         "type": "scatter",
         "x": [
          3.6470043659210205
         ],
         "y": [
          -0.2743774354457855
         ]
        },
        {
         "marker": {
          "color": "yellow",
          "size": 5
         },
         "mode": "markers",
         "name": "lemmus.n.01",
         "opacity": 0.4,
         "text": [
          "lemmus.n.01"
         ],
         "type": "scatter",
         "x": [
          3.29550838470459
         ],
         "y": [
          0.2351030558347702
         ]
        },
        {
         "marker": {
          "color": "yellow",
          "size": 5
         },
         "mode": "markers",
         "name": "sciurus.n.01",
         "opacity": 0.4,
         "text": [
          "sciurus.n.01"
         ],
         "type": "scatter",
         "x": [
          3.8294029235839844
         ],
         "y": [
          -0.6518678665161133
         ]
        },
        {
         "marker": {
          "color": "yellow",
          "size": 5
         },
         "mode": "markers",
         "name": "suricata.n.01",
         "opacity": 0.4,
         "text": [
          "suricata.n.01"
         ],
         "type": "scatter",
         "x": [
          3.461989641189575
         ],
         "y": [
          -0.06185195595026016
         ]
        },
        {
         "marker": {
          "color": "yellow",
          "size": 5
         },
         "mode": "markers",
         "name": "boselaphus.n.01",
         "opacity": 0.4,
         "text": [
          "boselaphus.n.01"
         ],
         "type": "scatter",
         "x": [
          3.5448763370513916
         ],
         "y": [
          0.6622871160507202
         ]
        },
        {
         "marker": {
          "color": "yellow",
          "size": 5
         },
         "mode": "markers",
         "name": "rangifer.n.01",
         "opacity": 0.4,
         "text": [
          "rangifer.n.01"
         ],
         "type": "scatter",
         "x": [
          3.7116987705230713
         ],
         "y": [
          0.34242111444473267
         ]
        },
        {
         "marker": {
          "color": "yellow",
          "size": 5
         },
         "mode": "markers",
         "name": "cervus.n.01",
         "opacity": 0.4,
         "text": [
          "cervus.n.01"
         ],
         "type": "scatter",
         "x": [
          3.566856622695923
         ],
         "y": [
          0.6336096525192261
         ]
        },
        {
         "marker": {
          "color": "yellow",
          "size": 5
         },
         "mode": "markers",
         "name": "rhinonicteris.n.01",
         "opacity": 0.4,
         "text": [
          "rhinonicteris.n.01"
         ],
         "type": "scatter",
         "x": [
          2.846407890319824
         ],
         "y": [
          0.9461962580680847
         ]
        },
        {
         "marker": {
          "color": "yellow",
          "size": 5
         },
         "mode": "markers",
         "name": "castigate.v.02",
         "opacity": 0.4,
         "text": [
          "castigate.v.02"
         ],
         "type": "scatter",
         "x": [
          3.8035311698913574
         ],
         "y": [
          0.15880459547042847
         ]
        },
        {
         "marker": {
          "color": "yellow",
          "size": 5
         },
         "mode": "markers",
         "name": "nyctimene.n.01",
         "opacity": 0.4,
         "text": [
          "nyctimene.n.01"
         ],
         "type": "scatter",
         "x": [
          3.418365955352783
         ],
         "y": [
          0.8687795400619507
         ]
        },
        {
         "marker": {
          "color": "yellow",
          "size": 5
         },
         "mode": "markers",
         "name": "orycteropus.n.01",
         "opacity": 0.4,
         "text": [
          "orycteropus.n.01"
         ],
         "type": "scatter",
         "x": [
          3.2496516704559326
         ],
         "y": [
          -0.43950116634368896
         ]
        },
        {
         "marker": {
          "color": "yellow",
          "size": 5
         },
         "mode": "markers",
         "name": "genus_bison.n.01",
         "opacity": 0.4,
         "text": [
          "genus_bison.n.01"
         ],
         "type": "scatter",
         "x": [
          3.8420469760894775
         ],
         "y": [
          -0.32852983474731445
         ]
        },
        {
         "marker": {
          "color": "yellow",
          "size": 5
         },
         "mode": "markers",
         "name": "ptilocercus.n.01",
         "opacity": 0.4,
         "text": [
          "ptilocercus.n.01"
         ],
         "type": "scatter",
         "x": [
          2.868332624435425
         ],
         "y": [
          -0.2260892540216446
         ]
        },
        {
         "marker": {
          "color": "yellow",
          "size": 5
         },
         "mode": "markers",
         "name": "tayassu.n.01",
         "opacity": 0.4,
         "text": [
          "tayassu.n.01"
         ],
         "type": "scatter",
         "x": [
          3.184063673019409
         ],
         "y": [
          1.000340461730957
         ]
        },
        {
         "marker": {
          "color": "yellow",
          "size": 5
         },
         "mode": "markers",
         "name": "alopex.n.01",
         "opacity": 0.4,
         "text": [
          "alopex.n.01"
         ],
         "type": "scatter",
         "x": [
          3.5017266273498535
         ],
         "y": [
          -0.34728196263313293
         ]
        },
        {
         "marker": {
          "color": "yellow",
          "size": 5
         },
         "mode": "markers",
         "name": "ictonyx.n.01",
         "opacity": 0.4,
         "text": [
          "ictonyx.n.01"
         ],
         "type": "scatter",
         "x": [
          3.5205724239349365
         ],
         "y": [
          -0.631169855594635
         ]
        },
        {
         "marker": {
          "color": "yellow",
          "size": 5
         },
         "mode": "markers",
         "name": "erinaceus.n.01",
         "opacity": 0.4,
         "text": [
          "erinaceus.n.01"
         ],
         "type": "scatter",
         "x": [
          3.9208669662475586
         ],
         "y": [
          0.5441088676452637
         ]
        },
        {
         "marker": {
          "color": "yellow",
          "size": 5
         },
         "mode": "markers",
         "name": "clethrionomys.n.01",
         "opacity": 0.4,
         "text": [
          "clethrionomys.n.01"
         ],
         "type": "scatter",
         "x": [
          3.3598344326019287
         ],
         "y": [
          0.6143938899040222
         ]
        },
        {
         "marker": {
          "color": "yellow",
          "size": 5
         },
         "mode": "markers",
         "name": "hyperoodon.n.01",
         "opacity": 0.4,
         "text": [
          "hyperoodon.n.01"
         ],
         "type": "scatter",
         "x": [
          3.3478660583496094
         ],
         "y": [
          0.41214460134506226
         ]
        },
        {
         "marker": {
          "color": "yellow",
          "size": 5
         },
         "mode": "markers",
         "name": "hemigalus.n.01",
         "opacity": 0.4,
         "text": [
          "hemigalus.n.01"
         ],
         "type": "scatter",
         "x": [
          3.2341415882110596
         ],
         "y": [
          0.5373978614807129
         ]
        },
        {
         "marker": {
          "color": "yellow",
          "size": 5
         },
         "mode": "markers",
         "name": "bettongia.n.01",
         "opacity": 0.4,
         "text": [
          "bettongia.n.01"
         ],
         "type": "scatter",
         "x": [
          2.7404801845550537
         ],
         "y": [
          0.5517615079879761
         ]
        },
        {
         "marker": {
          "color": "yellow",
          "size": 5
         },
         "mode": "markers",
         "name": "genus_grison.n.01",
         "opacity": 0.4,
         "text": [
          "genus_grison.n.01"
         ],
         "type": "scatter",
         "x": [
          3.633249521255493
         ],
         "y": [
          -0.11061087995767593
         ]
        },
        {
         "marker": {
          "color": "yellow",
          "size": 5
         },
         "mode": "markers",
         "name": "leontocebus.n.01",
         "opacity": 0.4,
         "text": [
          "leontocebus.n.01"
         ],
         "type": "scatter",
         "x": [
          3.389991521835327
         ],
         "y": [
          -0.4635685086250305
         ]
        },
        {
         "marker": {
          "color": "yellow",
          "size": 5
         },
         "mode": "markers",
         "name": "hydrodamalis.n.01",
         "opacity": 0.4,
         "text": [
          "hydrodamalis.n.01"
         ],
         "type": "scatter",
         "x": [
          2.929285764694214
         ],
         "y": [
          -0.8419238924980164
         ]
        },
        {
         "marker": {
          "color": "yellow",
          "size": 5
         },
         "mode": "markers",
         "name": "hyemoschus.n.01",
         "opacity": 0.4,
         "text": [
          "hyemoschus.n.01"
         ],
         "type": "scatter",
         "x": [
          3.233785629272461
         ],
         "y": [
          -0.3911422789096832
         ]
        },
        {
         "marker": {
          "color": "yellow",
          "size": 5
         },
         "mode": "markers",
         "name": "vulpes.n.01",
         "opacity": 0.4,
         "text": [
          "vulpes.n.01"
         ],
         "type": "scatter",
         "x": [
          3.4798970222473145
         ],
         "y": [
          0.7394847869873047
         ]
        },
        {
         "marker": {
          "color": "yellow",
          "size": 5
         },
         "mode": "markers",
         "name": "tragulus.n.01",
         "opacity": 0.4,
         "text": [
          "tragulus.n.01"
         ],
         "type": "scatter",
         "x": [
          3.261166572570801
         ],
         "y": [
          0.17951564490795135
         ]
        },
        {
         "marker": {
          "color": "yellow",
          "size": 5
         },
         "mode": "markers",
         "name": "alces.n.01",
         "opacity": 0.4,
         "text": [
          "alces.n.01"
         ],
         "type": "scatter",
         "x": [
          3.6539554595947266
         ],
         "y": [
          0.5545452237129211
         ]
        },
        {
         "marker": {
          "color": "yellow",
          "size": 5
         },
         "mode": "markers",
         "name": "eptesicus.n.01",
         "opacity": 0.4,
         "text": [
          "eptesicus.n.01"
         ],
         "type": "scatter",
         "x": [
          3.4072344303131104
         ],
         "y": [
          0.17568959295749664
         ]
        },
        {
         "marker": {
          "color": "yellow",
          "size": 5
         },
         "mode": "markers",
         "name": "ochotona.n.01",
         "opacity": 0.4,
         "text": [
          "ochotona.n.01"
         ],
         "type": "scatter",
         "x": [
          3.221421003341675
         ],
         "y": [
          -0.18812809884548187
         ]
        },
        {
         "marker": {
          "color": "yellow",
          "size": 5
         },
         "mode": "markers",
         "name": "dolichotis.n.01",
         "opacity": 0.4,
         "text": [
          "dolichotis.n.01"
         ],
         "type": "scatter",
         "x": [
          2.6698079109191895
         ],
         "y": [
          0.7159184813499451
         ]
        },
        {
         "marker": {
          "color": "yellow",
          "size": 5
         },
         "mode": "markers",
         "name": "aotus.n.01",
         "opacity": 0.4,
         "text": [
          "aotus.n.01"
         ],
         "type": "scatter",
         "x": [
          3.040046453475952
         ],
         "y": [
          1.3880810737609863
         ]
        },
        {
         "marker": {
          "color": "yellow",
          "size": 5
         },
         "mode": "markers",
         "name": "connochaetes.n.01",
         "opacity": 0.4,
         "text": [
          "connochaetes.n.01"
         ],
         "type": "scatter",
         "x": [
          3.617455005645752
         ],
         "y": [
          -0.11423254013061523
         ]
        },
        {
         "marker": {
          "color": "yellow",
          "size": 5
         },
         "mode": "markers",
         "name": "lasiurus.n.01",
         "opacity": 0.4,
         "text": [
          "lasiurus.n.01"
         ],
         "type": "scatter",
         "x": [
          3.3928587436676025
         ],
         "y": [
          0.08874048292636871
         ]
        },
        {
         "marker": {
          "color": "yellow",
          "size": 5
         },
         "mode": "markers",
         "name": "hippotragus.n.01",
         "opacity": 0.4,
         "text": [
          "hippotragus.n.01"
         ],
         "type": "scatter",
         "x": [
          3.658202648162842
         ],
         "y": [
          -0.2379538118839264
         ]
        },
        {
         "marker": {
          "color": "yellow",
          "size": 5
         },
         "mode": "markers",
         "name": "thylogale.n.01",
         "opacity": 0.4,
         "text": [
          "thylogale.n.01"
         ],
         "type": "scatter",
         "x": [
          3.0903334617614746
         ],
         "y": [
          1.0841397047042847
         ]
        },
        {
         "marker": {
          "color": "yellow",
          "size": 5
         },
         "mode": "markers",
         "name": "ateles.n.01",
         "opacity": 0.4,
         "text": [
          "ateles.n.01"
         ],
         "type": "scatter",
         "x": [
          3.394644260406494
         ],
         "y": [
          -0.33017367124557495
         ]
        },
        {
         "marker": {
          "color": "yellow",
          "size": 5
         },
         "mode": "markers",
         "name": "tragelaphus.n.01",
         "opacity": 0.4,
         "text": [
          "tragelaphus.n.01"
         ],
         "type": "scatter",
         "x": [
          3.509882688522339
         ],
         "y": [
          -0.45451635122299194
         ]
        },
        {
         "marker": {
          "color": "yellow",
          "size": 5
         },
         "mode": "markers",
         "name": "capra.n.02",
         "opacity": 0.4,
         "text": [
          "capra.n.02"
         ],
         "type": "scatter",
         "x": [
          4.615140438079834
         ],
         "y": [
          0.2526211142539978
         ]
        },
        {
         "marker": {
          "color": "yellow",
          "size": 5
         },
         "mode": "markers",
         "name": "petrogale.n.01",
         "opacity": 0.4,
         "text": [
          "petrogale.n.01"
         ],
         "type": "scatter",
         "x": [
          2.1309008598327637
         ],
         "y": [
          0.3988889455795288
         ]
        },
        {
         "marker": {
          "color": "yellow",
          "size": 5
         },
         "mode": "markers",
         "name": "urocyon.n.01",
         "opacity": 0.4,
         "text": [
          "urocyon.n.01"
         ],
         "type": "scatter",
         "x": [
          3.618783950805664
         ],
         "y": [
          0.8120425343513489
         ]
        },
        {
         "marker": {
          "color": "yellow",
          "size": 5
         },
         "mode": "markers",
         "name": "genus_hippopotamus.n.01",
         "opacity": 0.4,
         "text": [
          "genus_hippopotamus.n.01"
         ],
         "type": "scatter",
         "x": [
          3.8192760944366455
         ],
         "y": [
          0.30158907175064087
         ]
        },
        {
         "marker": {
          "color": "yellow",
          "size": 5
         },
         "mode": "markers",
         "name": "mammut.n.01",
         "opacity": 0.4,
         "text": [
          "mammut.n.01"
         ],
         "type": "scatter",
         "x": [
          3.270426034927368
         ],
         "y": [
          0.372153103351593
         ]
        },
        {
         "marker": {
          "color": "yellow",
          "size": 5
         },
         "mode": "markers",
         "name": "neofiber.n.01",
         "opacity": 0.4,
         "text": [
          "neofiber.n.01"
         ],
         "type": "scatter",
         "x": [
          3.584264039993286
         ],
         "y": [
          -0.44207096099853516
         ]
        },
        {
         "marker": {
          "color": "yellow",
          "size": 5
         },
         "mode": "markers",
         "name": "macropus.n.01",
         "opacity": 0.4,
         "text": [
          "macropus.n.01"
         ],
         "type": "scatter",
         "x": [
          2.062051296234131
         ],
         "y": [
          0.7447609305381775
         ]
        },
        {
         "marker": {
          "color": "yellow",
          "size": 5
         },
         "mode": "markers",
         "name": "petaurus.n.01",
         "opacity": 0.4,
         "text": [
          "petaurus.n.01"
         ],
         "type": "scatter",
         "x": [
          3.236870527267456
         ],
         "y": [
          0.38331663608551025
         ]
        },
        {
         "marker": {
          "color": "yellow",
          "size": 5
         },
         "mode": "markers",
         "name": "trichechus.n.01",
         "opacity": 0.4,
         "text": [
          "trichechus.n.01"
         ],
         "type": "scatter",
         "x": [
          2.9697153568267822
         ],
         "y": [
          -0.5013704299926758
         ]
        },
        {
         "marker": {
          "color": "yellow",
          "size": 5
         },
         "mode": "markers",
         "name": "nycticebus.n.01",
         "opacity": 0.4,
         "text": [
          "nycticebus.n.01"
         ],
         "type": "scatter",
         "x": [
          3.0365872383117676
         ],
         "y": [
          0.0438137911260128
         ]
        },
        {
         "marker": {
          "color": "yellow",
          "size": 5
         },
         "mode": "markers",
         "name": "phyllostomus.n.01",
         "opacity": 0.4,
         "text": [
          "phyllostomus.n.01"
         ],
         "type": "scatter",
         "x": [
          2.8258769512176514
         ],
         "y": [
          0.4527615010738373
         ]
        },
        {
         "marker": {
          "color": "yellow",
          "size": 5
         },
         "mode": "markers",
         "name": "elephas.n.01",
         "opacity": 0.4,
         "text": [
          "elephas.n.01"
         ],
         "type": "scatter",
         "x": [
          3.4512462615966797
         ],
         "y": [
          -0.3133842945098877
         ]
        },
        {
         "marker": {
          "color": "yellow",
          "size": 5
         },
         "mode": "markers",
         "name": "diceros.n.01",
         "opacity": 0.4,
         "text": [
          "diceros.n.01"
         ],
         "type": "scatter",
         "x": [
          3.4380433559417725
         ],
         "y": [
          -0.2768327295780182
         ]
        },
        {
         "marker": {
          "color": "yellow",
          "size": 5
         },
         "mode": "markers",
         "name": "reithrodontomys.n.01",
         "opacity": 0.4,
         "text": [
          "reithrodontomys.n.01"
         ],
         "type": "scatter",
         "x": [
          3.2952656745910645
         ],
         "y": [
          -0.8777151703834534
         ]
        },
        {
         "marker": {
          "color": "yellow",
          "size": 5
         },
         "mode": "markers",
         "name": "muntiacus.n.01",
         "opacity": 0.4,
         "text": [
          "muntiacus.n.01"
         ],
         "type": "scatter",
         "x": [
          3.69649338722229
         ],
         "y": [
          -0.18817110359668732
         ]
        },
        {
         "marker": {
          "color": "yellow",
          "size": 5
         },
         "mode": "markers",
         "name": "dasyurus.n.01",
         "opacity": 0.4,
         "text": [
          "dasyurus.n.01"
         ],
         "type": "scatter",
         "x": [
          3.315242052078247
         ],
         "y": [
          0.44179290533065796
         ]
        },
        {
         "marker": {
          "color": "yellow",
          "size": 5
         },
         "mode": "markers",
         "name": "zalophus.n.01",
         "opacity": 0.4,
         "text": [
          "zalophus.n.01"
         ],
         "type": "scatter",
         "x": [
          3.1625924110412598
         ],
         "y": [
          0.2211013287305832
         ]
        },
        {
         "marker": {
          "color": "yellow",
          "size": 5
         },
         "mode": "markers",
         "name": "microdipodops.n.01",
         "opacity": 0.4,
         "text": [
          "microdipodops.n.01"
         ],
         "type": "scatter",
         "x": [
          2.8645260334014893
         ],
         "y": [
          0.31765463948249817
         ]
        },
        {
         "marker": {
          "color": "yellow",
          "size": 5
         },
         "mode": "markers",
         "name": "hypsiprymnodon.n.01",
         "opacity": 0.4,
         "text": [
          "hypsiprymnodon.n.01"
         ],
         "type": "scatter",
         "x": [
          3.174027681350708
         ],
         "y": [
          0.8260979652404785
         ]
        },
        {
         "marker": {
          "color": "yellow",
          "size": 5
         },
         "mode": "markers",
         "name": "zaglossus.n.01",
         "opacity": 0.4,
         "text": [
          "zaglossus.n.01"
         ],
         "type": "scatter",
         "x": [
          2.872417449951172
         ],
         "y": [
          0.10594237595796585
         ]
        },
        {
         "marker": {
          "color": "yellow",
          "size": 5
         },
         "mode": "markers",
         "name": "pagophilus.n.01",
         "opacity": 0.4,
         "text": [
          "pagophilus.n.01"
         ],
         "type": "scatter",
         "x": [
          3.3470683097839355
         ],
         "y": [
          -0.5671430230140686
         ]
        },
        {
         "marker": {
          "color": "yellow",
          "size": 5
         },
         "mode": "markers",
         "name": "cynocephalus.n.01",
         "opacity": 0.4,
         "text": [
          "cynocephalus.n.01"
         ],
         "type": "scatter",
         "x": [
          3.227212905883789
         ],
         "y": [
          -0.49421221017837524
         ]
        },
        {
         "marker": {
          "color": "yellow",
          "size": 5
         },
         "mode": "markers",
         "name": "tolypeutes.n.01",
         "opacity": 0.4,
         "text": [
          "tolypeutes.n.01"
         ],
         "type": "scatter",
         "x": [
          3.111584424972534
         ],
         "y": [
          0.4752179980278015
         ]
        },
        {
         "marker": {
          "color": "yellow",
          "size": 5
         },
         "mode": "markers",
         "name": "dendrolagus.n.01",
         "opacity": 0.4,
         "text": [
          "dendrolagus.n.01"
         ],
         "type": "scatter",
         "x": [
          3.1895132064819336
         ],
         "y": [
          -0.7601063847541809
         ]
        },
        {
         "marker": {
          "color": "yellow",
          "size": 5
         },
         "mode": "markers",
         "name": "oryzomys.n.01",
         "opacity": 0.4,
         "text": [
          "oryzomys.n.01"
         ],
         "type": "scatter",
         "x": [
          3.3877947330474854
         ],
         "y": [
          0.15502400696277618
         ]
        },
        {
         "marker": {
          "color": "yellow",
          "size": 5
         },
         "mode": "markers",
         "name": "balaena.n.01",
         "opacity": 0.4,
         "text": [
          "balaena.n.01"
         ],
         "type": "scatter",
         "x": [
          3.1469483375549316
         ],
         "y": [
          0.3287683129310608
         ]
        },
        {
         "marker": {
          "color": "yellow",
          "size": 5
         },
         "mode": "markers",
         "name": "aepyceros.n.01",
         "opacity": 0.4,
         "text": [
          "aepyceros.n.01"
         ],
         "type": "scatter",
         "x": [
          3.576275587081909
         ],
         "y": [
          -0.7542543411254883
         ]
        },
        {
         "marker": {
          "color": "yellow",
          "size": 5
         },
         "mode": "markers",
         "name": "babyrousa.n.01",
         "opacity": 0.4,
         "text": [
          "babyrousa.n.01"
         ],
         "type": "scatter",
         "x": [
          3.841533899307251
         ],
         "y": [
          0.7065997123718262
         ]
        },
        {
         "marker": {
          "color": "yellow",
          "size": 5
         },
         "mode": "markers",
         "name": "ovibos.n.01",
         "opacity": 0.4,
         "text": [
          "ovibos.n.01"
         ],
         "type": "scatter",
         "x": [
          3.7360012531280518
         ],
         "y": [
          0.48773136734962463
         ]
        },
        {
         "marker": {
          "color": "yellow",
          "size": 5
         },
         "mode": "markers",
         "name": "genus_anoa.n.01",
         "opacity": 0.4,
         "text": [
          "genus_anoa.n.01"
         ],
         "type": "scatter",
         "x": [
          3.605004072189331
         ],
         "y": [
          0.5186986923217773
         ]
        },
        {
         "marker": {
          "color": "yellow",
          "size": 5
         },
         "mode": "markers",
         "name": "ailurus.n.01",
         "opacity": 0.4,
         "text": [
          "ailurus.n.01"
         ],
         "type": "scatter",
         "x": [
          3.3893377780914307
         ],
         "y": [
          0.30775904655456543
         ]
        },
        {
         "marker": {
          "color": "yellow",
          "size": 5
         },
         "mode": "markers",
         "name": "perognathus.n.01",
         "opacity": 0.4,
         "text": [
          "perognathus.n.01"
         ],
         "type": "scatter",
         "x": [
          2.811497449874878
         ],
         "y": [
          -0.6377037763595581
         ]
        },
        {
         "marker": {
          "color": "yellow",
          "size": 5
         },
         "mode": "markers",
         "name": "glis.n.01",
         "opacity": 0.4,
         "text": [
          "glis.n.01"
         ],
         "type": "scatter",
         "x": [
          2.8874106407165527
         ],
         "y": [
          -0.5559325218200684
         ]
        },
        {
         "marker": {
          "color": "yellow",
          "size": 5
         },
         "mode": "markers",
         "name": "citellus.n.01",
         "opacity": 0.4,
         "text": [
          "citellus.n.01"
         ],
         "type": "scatter",
         "x": [
          3.7374980449676514
         ],
         "y": [
          -0.16796348989009857
         ]
        },
        {
         "marker": {
          "color": "yellow",
          "size": 5
         },
         "mode": "markers",
         "name": "adenota.n.01",
         "opacity": 0.4,
         "text": [
          "adenota.n.01"
         ],
         "type": "scatter",
         "x": [
          3.441504716873169
         ],
         "y": [
          1.1179076433181763
         ]
        },
        {
         "marker": {
          "color": "yellow",
          "size": 5
         },
         "mode": "markers",
         "name": "viverricula.n.01",
         "opacity": 0.4,
         "text": [
          "viverricula.n.01"
         ],
         "type": "scatter",
         "x": [
          3.259028434753418
         ],
         "y": [
          0.265302836894989
         ]
        },
        {
         "marker": {
          "color": "yellow",
          "size": 5
         },
         "mode": "markers",
         "name": "elaphurus.n.01",
         "opacity": 0.4,
         "text": [
          "elaphurus.n.01"
         ],
         "type": "scatter",
         "x": [
          3.379150867462158
         ],
         "y": [
          -0.17215240001678467
         ]
        },
        {
         "marker": {
          "color": "yellow",
          "size": 5
         },
         "mode": "markers",
         "name": "dasypus.n.01",
         "opacity": 0.4,
         "text": [
          "dasypus.n.01"
         ],
         "type": "scatter",
         "x": [
          3.177311658859253
         ],
         "y": [
          0.7179352045059204
         ]
        },
        {
         "marker": {
          "color": "yellow",
          "size": 5
         },
         "mode": "markers",
         "name": "conepatus.n.01",
         "opacity": 0.4,
         "text": [
          "conepatus.n.01"
         ],
         "type": "scatter",
         "x": [
          3.670839309692383
         ],
         "y": [
          -0.3792557716369629
         ]
        },
        {
         "marker": {
          "color": "yellow",
          "size": 5
         },
         "mode": "markers",
         "name": "uropsilus.n.01",
         "opacity": 0.4,
         "text": [
          "uropsilus.n.01"
         ],
         "type": "scatter",
         "x": [
          3.260383129119873
         ],
         "y": [
          0.12493754923343658
         ]
        },
        {
         "marker": {
          "color": "yellow",
          "size": 5
         },
         "mode": "markers",
         "name": "thylacinus.n.01",
         "opacity": 0.4,
         "text": [
          "thylacinus.n.01"
         ],
         "type": "scatter",
         "x": [
          3.3680214881896973
         ],
         "y": [
          0.2730610966682434
         ]
        },
        {
         "marker": {
          "color": "yellow",
          "size": 5
         },
         "mode": "markers",
         "name": "phoca.n.01",
         "opacity": 0.4,
         "text": [
          "phoca.n.01"
         ],
         "type": "scatter",
         "x": [
          3.3853776454925537
         ],
         "y": [
          -0.29898035526275635
         ]
        },
        {
         "marker": {
          "color": "yellow",
          "size": 5
         },
         "mode": "markers",
         "name": "myotis.n.01",
         "opacity": 0.4,
         "text": [
          "myotis.n.01"
         ],
         "type": "scatter",
         "x": [
          3.1969587802886963
         ],
         "y": [
          1.0699204206466675
         ]
        },
        {
         "marker": {
          "color": "yellow",
          "size": 5
         },
         "mode": "markers",
         "name": "lagorchestes.n.01",
         "opacity": 0.4,
         "text": [
          "lagorchestes.n.01"
         ],
         "type": "scatter",
         "x": [
          3.201347589492798
         ],
         "y": [
          -0.6553323268890381
         ]
        },
        {
         "marker": {
          "color": "yellow",
          "size": 5
         },
         "mode": "markers",
         "name": "muscardinus.n.01",
         "opacity": 0.4,
         "text": [
          "muscardinus.n.01"
         ],
         "type": "scatter",
         "x": [
          2.9398744106292725
         ],
         "y": [
          -0.04008016362786293
         ]
        },
        {
         "marker": {
          "color": "yellow",
          "size": 5
         },
         "mode": "markers",
         "name": "atherurus.n.01",
         "opacity": 0.4,
         "text": [
          "atherurus.n.01"
         ],
         "type": "scatter",
         "x": [
          2.788158416748047
         ],
         "y": [
          0.8730586767196655
         ]
        },
        {
         "marker": {
          "color": "yellow",
          "size": 5
         },
         "mode": "markers",
         "name": "lama.n.02",
         "opacity": 0.4,
         "text": [
          "lama.n.02"
         ],
         "type": "scatter",
         "x": [
          3.3387463092803955
         ],
         "y": [
          0.08788781613111496
         ]
        },
        {
         "marker": {
          "color": "yellow",
          "size": 5
         },
         "mode": "markers",
         "name": "mephitis.n.03",
         "opacity": 0.4,
         "text": [
          "mephitis.n.03"
         ],
         "type": "scatter",
         "x": [
          3.3839659690856934
         ],
         "y": [
          -0.8851462602615356
         ]
        },
        {
         "marker": {
          "color": "yellow",
          "size": 5
         },
         "mode": "markers",
         "name": "taxidea.n.01",
         "opacity": 0.4,
         "text": [
          "taxidea.n.01"
         ],
         "type": "scatter",
         "x": [
          1.6843994855880737
         ],
         "y": [
          1.389660358428955
         ]
        },
        {
         "marker": {
          "color": "yellow",
          "size": 5
         },
         "mode": "markers",
         "name": "dipodomys.n.01",
         "opacity": 0.4,
         "text": [
          "dipodomys.n.01"
         ],
         "type": "scatter",
         "x": [
          2.8652725219726562
         ],
         "y": [
          0.2659399211406708
         ]
        },
        {
         "marker": {
          "color": "yellow",
          "size": 5
         },
         "mode": "markers",
         "name": "oreamnos.n.01",
         "opacity": 0.4,
         "text": [
          "oreamnos.n.01"
         ],
         "type": "scatter",
         "x": [
          3.549386739730835
         ],
         "y": [
          -0.26626113057136536
         ]
        },
        {
         "marker": {
          "color": "yellow",
          "size": 5
         },
         "mode": "markers",
         "name": "raphicerus.n.01",
         "opacity": 0.4,
         "text": [
          "raphicerus.n.01"
         ],
         "type": "scatter",
         "x": [
          2.188249349594116
         ],
         "y": [
          0.10078518837690353
         ]
        },
        {
         "marker": {
          "color": "yellow",
          "size": 5
         },
         "mode": "markers",
         "name": "fossa.n.02",
         "opacity": 0.4,
         "text": [
          "fossa.n.02"
         ],
         "type": "scatter",
         "x": [
          2.1863205432891846
         ],
         "y": [
          0.1886092871427536
         ]
        },
        {
         "marker": {
          "color": "yellow",
          "size": 5
         },
         "mode": "markers",
         "name": "archidiskidon.n.01",
         "opacity": 0.4,
         "text": [
          "archidiskidon.n.01"
         ],
         "type": "scatter",
         "x": [
          3.3728713989257812
         ],
         "y": [
          -0.8296952843666077
         ]
        },
        {
         "marker": {
          "color": "yellow",
          "size": 5
         },
         "mode": "markers",
         "name": "burmeisteria.n.01",
         "opacity": 0.4,
         "text": [
          "burmeisteria.n.01"
         ],
         "type": "scatter",
         "x": [
          3.1264846324920654
         ],
         "y": [
          0.27567431330680847
         ]
        },
        {
         "marker": {
          "color": "yellow",
          "size": 5
         },
         "mode": "markers",
         "name": "cynomys.n.01",
         "opacity": 0.4,
         "text": [
          "cynomys.n.01"
         ],
         "type": "scatter",
         "x": [
          3.362677812576294
         ],
         "y": [
          0.590275228023529
         ]
        },
        {
         "marker": {
          "color": "yellow",
          "size": 5
         },
         "mode": "markers",
         "name": "genus_macrotus.n.01",
         "opacity": 0.4,
         "text": [
          "genus_macrotus.n.01"
         ],
         "type": "scatter",
         "x": [
          2.690021276473999
         ],
         "y": [
          0.9783236384391785
         ]
        },
        {
         "marker": {
          "color": "yellow",
          "size": 5
         },
         "mode": "markers",
         "name": "mandrillus.n.01",
         "opacity": 0.4,
         "text": [
          "mandrillus.n.01"
         ],
         "type": "scatter",
         "x": [
          3.387819766998291
         ],
         "y": [
          0.39264601469039917
         ]
        },
        {
         "marker": {
          "color": "yellow",
          "size": 5
         },
         "mode": "markers",
         "name": "nesokia.n.01",
         "opacity": 0.4,
         "text": [
          "nesokia.n.01"
         ],
         "type": "scatter",
         "x": [
          2.1519596576690674
         ],
         "y": [
          0.361272931098938
         ]
        },
        {
         "marker": {
          "color": "yellow",
          "size": 5
         },
         "mode": "markers",
         "name": "baiomys.n.01",
         "opacity": 0.4,
         "text": [
          "baiomys.n.01"
         ],
         "type": "scatter",
         "x": [
          3.364896774291992
         ],
         "y": [
          0.04656529799103737
         ]
        },
        {
         "marker": {
          "color": "yellow",
          "size": 5
         },
         "mode": "markers",
         "name": "antilope.n.01",
         "opacity": 0.4,
         "text": [
          "antilope.n.01"
         ],
         "type": "scatter",
         "x": [
          2.18082332611084
         ],
         "y": [
          -0.07797128707170486
         ]
        },
        {
         "marker": {
          "color": "purple",
          "size": 5
         },
         "mode": "markers",
         "name": "icteria.n.01",
         "opacity": 0.4,
         "text": [
          "icteria.n.01"
         ],
         "type": "scatter",
         "x": [
          3.596195936203003
         ],
         "y": [
          0.3215886950492859
         ]
        },
        {
         "marker": {
          "color": "purple",
          "size": 5
         },
         "mode": "markers",
         "name": "zenaidura.n.01",
         "opacity": 0.4,
         "text": [
          "zenaidura.n.01"
         ],
         "type": "scatter",
         "x": [
          3.2037744522094727
         ],
         "y": [
          0.30594563484191895
         ]
        },
        {
         "marker": {
          "color": "purple",
          "size": 5
         },
         "mode": "markers",
         "name": "plectrophenax.n.01",
         "opacity": 0.4,
         "text": [
          "plectrophenax.n.01"
         ],
         "type": "scatter",
         "x": [
          3.2532434463500977
         ],
         "y": [
          0.04304330796003342
         ]
        },
        {
         "marker": {
          "color": "purple",
          "size": 5
         },
         "mode": "markers",
         "name": "porzana.n.01",
         "opacity": 0.4,
         "text": [
          "porzana.n.01"
         ],
         "type": "scatter",
         "x": [
          3.1365702152252197
         ],
         "y": [
          -1.1678088903427124
         ]
        },
        {
         "marker": {
          "color": "purple",
          "size": 5
         },
         "mode": "markers",
         "name": "elanoides.n.01",
         "opacity": 0.4,
         "text": [
          "elanoides.n.01"
         ],
         "type": "scatter",
         "x": [
          3.0520999431610107
         ],
         "y": [
          1.5846668481826782
         ]
        },
        {
         "marker": {
          "color": "purple",
          "size": 5
         },
         "mode": "markers",
         "name": "irena.n.01",
         "opacity": 0.4,
         "text": [
          "irena.n.01"
         ],
         "type": "scatter",
         "x": [
          2.8116495609283447
         ],
         "y": [
          0.2850099802017212
         ]
        },
        {
         "marker": {
          "color": "purple",
          "size": 5
         },
         "mode": "markers",
         "name": "actitis.n.01",
         "opacity": 0.4,
         "text": [
          "actitis.n.01"
         ],
         "type": "scatter",
         "x": [
          3.3890247344970703
         ],
         "y": [
          0.1502685248851776
         ]
        },
        {
         "marker": {
          "color": "purple",
          "size": 5
         },
         "mode": "markers",
         "name": "dendroica.n.01",
         "opacity": 0.4,
         "text": [
          "dendroica.n.01"
         ],
         "type": "scatter",
         "x": [
          4.4112420082092285
         ],
         "y": [
          0.42361584305763245
         ]
        },
        {
         "marker": {
          "color": "purple",
          "size": 5
         },
         "mode": "markers",
         "name": "phalacrocorax.n.01",
         "opacity": 0.4,
         "text": [
          "phalacrocorax.n.01"
         ],
         "type": "scatter",
         "x": [
          2.5369532108306885
         ],
         "y": [
          0.7314054369926453
         ]
        },
        {
         "marker": {
          "color": "purple",
          "size": 5
         },
         "mode": "markers",
         "name": "passer.n.05",
         "opacity": 0.4,
         "text": [
          "passer.n.05"
         ],
         "type": "scatter",
         "x": [
          3.203434944152832
         ],
         "y": [
          -0.7230446934700012
         ]
        },
        {
         "marker": {
          "color": "purple",
          "size": 5
         },
         "mode": "markers",
         "name": "numida.n.01",
         "opacity": 0.4,
         "text": [
          "numida.n.01"
         ],
         "type": "scatter",
         "x": [
          3.6402382850646973
         ],
         "y": [
          -0.504646897315979
         ]
        },
        {
         "marker": {
          "color": "purple",
          "size": 5
         },
         "mode": "markers",
         "name": "saxicola.n.01",
         "opacity": 0.4,
         "text": [
          "saxicola.n.01"
         ],
         "type": "scatter",
         "x": [
          3.3121564388275146
         ],
         "y": [
          -0.5240950584411621
         ]
        },
        {
         "marker": {
          "color": "purple",
          "size": 5
         },
         "mode": "markers",
         "name": "branta.n.01",
         "opacity": 0.4,
         "text": [
          "branta.n.01"
         ],
         "type": "scatter",
         "x": [
          3.8310797214508057
         ],
         "y": [
          0.12904755771160126
         ]
        },
        {
         "marker": {
          "color": "purple",
          "size": 5
         },
         "mode": "markers",
         "name": "sagittarius.n.04",
         "opacity": 0.4,
         "text": [
          "sagittarius.n.04"
         ],
         "type": "scatter",
         "x": [
          2.745995044708252
         ],
         "y": [
          1.0788617134094238
         ]
        },
        {
         "marker": {
          "color": "purple",
          "size": 5
         },
         "mode": "markers",
         "name": "limnocryptes.n.01",
         "opacity": 0.4,
         "text": [
          "limnocryptes.n.01"
         ],
         "type": "scatter",
         "x": [
          3.357116937637329
         ],
         "y": [
          0.30717170238494873
         ]
        },
        {
         "marker": {
          "color": "purple",
          "size": 5
         },
         "mode": "markers",
         "name": "polyborus.n.01",
         "opacity": 0.4,
         "text": [
          "polyborus.n.01"
         ],
         "type": "scatter",
         "x": [
          3.449867010116577
         ],
         "y": [
          -0.3300604522228241
         ]
        },
        {
         "marker": {
          "color": "purple",
          "size": 5
         },
         "mode": "markers",
         "name": "athene.n.02",
         "opacity": 0.4,
         "text": [
          "athene.n.02"
         ],
         "type": "scatter",
         "x": [
          3.371141195297241
         ],
         "y": [
          0.41874998807907104
         ]
        },
        {
         "marker": {
          "color": "purple",
          "size": 5
         },
         "mode": "markers",
         "name": "bonasa.n.01",
         "opacity": 0.4,
         "text": [
          "bonasa.n.01"
         ],
         "type": "scatter",
         "x": [
          3.1936349868774414
         ],
         "y": [
          1.275395154953003
         ]
        },
        {
         "marker": {
          "color": "purple",
          "size": 5
         },
         "mode": "markers",
         "name": "acanthisitta.n.01",
         "opacity": 0.4,
         "text": [
          "acanthisitta.n.01"
         ],
         "type": "scatter",
         "x": [
          3.746854066848755
         ],
         "y": [
          0.17532970011234283
         ]
        },
        {
         "marker": {
          "color": "purple",
          "size": 5
         },
         "mode": "markers",
         "name": "certhia.n.01",
         "opacity": 0.4,
         "text": [
          "certhia.n.01"
         ],
         "type": "scatter",
         "x": [
          2.9744160175323486
         ],
         "y": [
          -0.45910272002220154
         ]
        },
        {
         "marker": {
          "color": "purple",
          "size": 5
         },
         "mode": "markers",
         "name": "genus_leipoa.n.01",
         "opacity": 0.4,
         "text": [
          "genus_leipoa.n.01"
         ],
         "type": "scatter",
         "x": [
          3.468125104904175
         ],
         "y": [
          -0.046282779425382614
         ]
        },
        {
         "marker": {
          "color": "purple",
          "size": 5
         },
         "mode": "markers",
         "name": "passerina.n.01",
         "opacity": 0.4,
         "text": [
          "passerina.n.01"
         ],
         "type": "scatter",
         "x": [
          3.2601943016052246
         ],
         "y": [
          0.12818218767642975
         ]
        },
        {
         "marker": {
          "color": "purple",
          "size": 5
         },
         "mode": "markers",
         "name": "ortalis.n.01",
         "opacity": 0.4,
         "text": [
          "ortalis.n.01"
         ],
         "type": "scatter",
         "x": [
          3.8483197689056396
         ],
         "y": [
          -0.08137978613376617
         ]
        },
        {
         "marker": {
          "color": "purple",
          "size": 5
         },
         "mode": "markers",
         "name": "pandion.n.01",
         "opacity": 0.4,
         "text": [
          "pandion.n.01"
         ],
         "type": "scatter",
         "x": [
          3.3067355155944824
         ],
         "y": [
          -0.1176048144698143
         ]
        },
        {
         "marker": {
          "color": "purple",
          "size": 5
         },
         "mode": "markers",
         "name": "nyctanassa.n.01",
         "opacity": 0.4,
         "text": [
          "nyctanassa.n.01"
         ],
         "type": "scatter",
         "x": [
          3.223309278488159
         ],
         "y": [
          0.7555042505264282
         ]
        },
        {
         "marker": {
          "color": "purple",
          "size": 5
         },
         "mode": "markers",
         "name": "cochlearius.n.01",
         "opacity": 0.4,
         "text": [
          "cochlearius.n.01"
         ],
         "type": "scatter",
         "x": [
          3.2563581466674805
         ],
         "y": [
          -0.810972273349762
         ]
        },
        {
         "marker": {
          "color": "purple",
          "size": 5
         },
         "mode": "markers",
         "name": "botaurus.n.01",
         "opacity": 0.4,
         "text": [
          "botaurus.n.01"
         ],
         "type": "scatter",
         "x": [
          3.3099985122680664
         ],
         "y": [
          0.0018838950200006366
         ]
        },
        {
         "marker": {
          "color": "purple",
          "size": 5
         },
         "mode": "markers",
         "name": "tetrao.n.01",
         "opacity": 0.4,
         "text": [
          "tetrao.n.01"
         ],
         "type": "scatter",
         "x": [
          3.4822821617126465
         ],
         "y": [
          -0.2376386523246765
         ]
        },
        {
         "marker": {
          "color": "purple",
          "size": 5
         },
         "mode": "markers",
         "name": "gallinula.n.01",
         "opacity": 0.4,
         "text": [
          "gallinula.n.01"
         ],
         "type": "scatter",
         "x": [
          3.8944272994995117
         ],
         "y": [
          0.19179794192314148
         ]
        },
        {
         "marker": {
          "color": "purple",
          "size": 5
         },
         "mode": "markers",
         "name": "threskiornis.n.01",
         "opacity": 0.4,
         "text": [
          "threskiornis.n.01"
         ],
         "type": "scatter",
         "x": [
          2.9474258422851562
         ],
         "y": [
          0.073062963783741
         ]
        },
        {
         "marker": {
          "color": "purple",
          "size": 5
         },
         "mode": "markers",
         "name": "burhinus.n.01",
         "opacity": 0.4,
         "text": [
          "burhinus.n.01"
         ],
         "type": "scatter",
         "x": [
          3.1564934253692627
         ],
         "y": [
          0.61009681224823
         ]
        },
        {
         "marker": {
          "color": "purple",
          "size": 5
         },
         "mode": "markers",
         "name": "mergus.n.01",
         "opacity": 0.4,
         "text": [
          "mergus.n.01"
         ],
         "type": "scatter",
         "x": [
          3.8517067432403564
         ],
         "y": [
          0.4242378771305084
         ]
        },
        {
         "marker": {
          "color": "purple",
          "size": 5
         },
         "mode": "markers",
         "name": "sayornis.n.01",
         "opacity": 0.4,
         "text": [
          "sayornis.n.01"
         ],
         "type": "scatter",
         "x": [
          3.3954975605010986
         ],
         "y": [
          -0.5109633803367615
         ]
        },
        {
         "marker": {
          "color": "purple",
          "size": 5
         },
         "mode": "markers",
         "name": "charadrius.n.01",
         "opacity": 0.4,
         "text": [
          "charadrius.n.01"
         ],
         "type": "scatter",
         "x": [
          4.772851943969727
         ],
         "y": [
          -1.6544417142868042
         ]
        },
        {
         "marker": {
          "color": "purple",
          "size": 5
         },
         "mode": "markers",
         "name": "choriotis.n.01",
         "opacity": 0.4,
         "text": [
          "choriotis.n.01"
         ],
         "type": "scatter",
         "x": [
          2.662235736846924
         ],
         "y": [
          0.9870903491973877
         ]
        },
        {
         "marker": {
          "color": "purple",
          "size": 5
         },
         "mode": "markers",
         "name": "erithacus.n.01",
         "opacity": 0.4,
         "text": [
          "erithacus.n.01"
         ],
         "type": "scatter",
         "x": [
          3.263035535812378
         ],
         "y": [
          -0.3743591010570526
         ]
        },
        {
         "marker": {
          "color": "purple",
          "size": 5
         },
         "mode": "markers",
         "name": "xenicus.n.01",
         "opacity": 0.4,
         "text": [
          "xenicus.n.01"
         ],
         "type": "scatter",
         "x": [
          3.7200629711151123
         ],
         "y": [
          0.3665759861469269
         ]
        },
        {
         "marker": {
          "color": "purple",
          "size": 5
         },
         "mode": "markers",
         "name": "elanus.n.01",
         "opacity": 0.4,
         "text": [
          "elanus.n.01"
         ],
         "type": "scatter",
         "x": [
          3.4565975666046143
         ],
         "y": [
          -0.14385882019996643
         ]
        },
        {
         "marker": {
          "color": "purple",
          "size": 5
         },
         "mode": "markers",
         "name": "chateura.n.01",
         "opacity": 0.4,
         "text": [
          "chateura.n.01"
         ],
         "type": "scatter",
         "x": [
          2.8362808227539062
         ],
         "y": [
          -0.16569416224956512
         ]
        },
        {
         "marker": {
          "color": "purple",
          "size": 5
         },
         "mode": "markers",
         "name": "richmondena.n.01",
         "opacity": 0.4,
         "text": [
          "richmondena.n.01"
         ],
         "type": "scatter",
         "x": [
          3.3643782138824463
         ],
         "y": [
          -0.2634742259979248
         ]
        },
        {
         "marker": {
          "color": "purple",
          "size": 5
         },
         "mode": "markers",
         "name": "tichodroma.n.01",
         "opacity": 0.4,
         "text": [
          "tichodroma.n.01"
         ],
         "type": "scatter",
         "x": [
          3.1018407344818115
         ],
         "y": [
          -0.016348522156476974
         ]
        },
        {
         "marker": {
          "color": "purple",
          "size": 5
         },
         "mode": "markers",
         "name": "muscicapa.n.01",
         "opacity": 0.4,
         "text": [
          "muscicapa.n.01"
         ],
         "type": "scatter",
         "x": [
          3.1124799251556396
         ],
         "y": [
          -0.44815370440483093
         ]
        },
        {
         "marker": {
          "color": "purple",
          "size": 5
         },
         "mode": "markers",
         "name": "anas.n.01",
         "opacity": 0.4,
         "text": [
          "anas.n.01"
         ],
         "type": "scatter",
         "x": [
          3.4189279079437256
         ],
         "y": [
          0.22121992707252502
         ]
        },
        {
         "marker": {
          "color": "purple",
          "size": 5
         },
         "mode": "markers",
         "name": "sterna.n.01",
         "opacity": 0.4,
         "text": [
          "sterna.n.01"
         ],
         "type": "scatter",
         "x": [
          3.1444172859191895
         ],
         "y": [
          -0.7066568732261658
         ]
        },
        {
         "marker": {
          "color": "purple",
          "size": 5
         },
         "mode": "markers",
         "name": "ciconia.n.01",
         "opacity": 0.4,
         "text": [
          "ciconia.n.01"
         ],
         "type": "scatter",
         "x": [
          3.3602919578552246
         ],
         "y": [
          -0.6366361975669861
         ]
        },
        {
         "marker": {
          "color": "purple",
          "size": 5
         },
         "mode": "markers",
         "name": "seiurus.n.01",
         "opacity": 0.4,
         "text": [
          "seiurus.n.01"
         ],
         "type": "scatter",
         "x": [
          3.759042263031006
         ],
         "y": [
          0.630980372428894
         ]
        },
        {
         "marker": {
          "color": "purple",
          "size": 5
         },
         "mode": "markers",
         "name": "casmerodius.n.01",
         "opacity": 0.4,
         "text": [
          "casmerodius.n.01"
         ],
         "type": "scatter",
         "x": [
          3.1938445568084717
         ],
         "y": [
          -0.08030163496732712
         ]
        },
        {
         "marker": {
          "color": "purple",
          "size": 5
         },
         "mode": "markers",
         "name": "psittacus.n.01",
         "opacity": 0.4,
         "text": [
          "psittacus.n.01"
         ],
         "type": "scatter",
         "x": [
          3.1240522861480713
         ],
         "y": [
          0.4760620594024658
         ]
        },
        {
         "marker": {
          "color": "purple",
          "size": 5
         },
         "mode": "markers",
         "name": "pipilo.n.01",
         "opacity": 0.4,
         "text": [
          "pipilo.n.01"
         ],
         "type": "scatter",
         "x": [
          3.354562997817993
         ],
         "y": [
          0.46344059705734253
         ]
        },
        {
         "marker": {
          "color": "purple",
          "size": 5
         },
         "mode": "markers",
         "name": "alectura.n.01",
         "opacity": 0.4,
         "text": [
          "alectura.n.01"
         ],
         "type": "scatter",
         "x": [
          3.4038093090057373
         ],
         "y": [
          -0.5919753909111023
         ]
        },
        {
         "marker": {
          "color": "purple",
          "size": 5
         },
         "mode": "markers",
         "name": "caprimulgus.n.01",
         "opacity": 0.4,
         "text": [
          "caprimulgus.n.01"
         ],
         "type": "scatter",
         "x": [
          3.067030191421509
         ],
         "y": [
          -2.113176107406616
         ]
        },
        {
         "marker": {
          "color": "purple",
          "size": 5
         },
         "mode": "markers",
         "name": "chlorophoneus.n.01",
         "opacity": 0.4,
         "text": [
          "chlorophoneus.n.01"
         ],
         "type": "scatter",
         "x": [
          2.7828848361968994
         ],
         "y": [
          0.2442241758108139
         ]
        },
        {
         "marker": {
          "color": "purple",
          "size": 5
         },
         "mode": "markers",
         "name": "cygnus.n.02",
         "opacity": 0.4,
         "text": [
          "cygnus.n.02"
         ],
         "type": "scatter",
         "x": [
          3.614628791809082
         ],
         "y": [
          -0.9961744546890259
         ]
        },
        {
         "marker": {
          "color": "purple",
          "size": 5
         },
         "mode": "markers",
         "name": "rupicola.n.01",
         "opacity": 0.4,
         "text": [
          "rupicola.n.01"
         ],
         "type": "scatter",
         "x": [
          2.9765501022338867
         ],
         "y": [
          -1.0015394687652588
         ]
        },
        {
         "marker": {
          "color": "purple",
          "size": 5
         },
         "mode": "markers",
         "name": "pagophila.n.01",
         "opacity": 0.4,
         "text": [
          "pagophila.n.01"
         ],
         "type": "scatter",
         "x": [
          3.3525166511535645
         ],
         "y": [
          1.0574637651443481
         ]
        },
        {
         "marker": {
          "color": "purple",
          "size": 5
         },
         "mode": "markers",
         "name": "timalia.n.01",
         "opacity": 0.4,
         "text": [
          "timalia.n.01"
         ],
         "type": "scatter",
         "x": [
          3.9420042037963867
         ],
         "y": [
          0.29471901059150696
         ]
        },
        {
         "marker": {
          "color": "purple",
          "size": 5
         },
         "mode": "markers",
         "name": "agriocharis.n.01",
         "opacity": 0.4,
         "text": [
          "agriocharis.n.01"
         ],
         "type": "scatter",
         "x": [
          3.463122606277466
         ],
         "y": [
          0.9992333650588989
         ]
        },
        {
         "marker": {
          "color": "purple",
          "size": 5
         },
         "mode": "markers",
         "name": "pavo.n.02",
         "opacity": 0.4,
         "text": [
          "pavo.n.02"
         ],
         "type": "scatter",
         "x": [
          3.832895278930664
         ],
         "y": [
          0.5837662816047668
         ]
        },
        {
         "marker": {
          "color": "purple",
          "size": 5
         },
         "mode": "markers",
         "name": "otus.n.01",
         "opacity": 0.4,
         "text": [
          "otus.n.01"
         ],
         "type": "scatter",
         "x": [
          3.4135780334472656
         ],
         "y": [
          -0.5778913497924805
         ]
        },
        {
         "marker": {
          "color": "purple",
          "size": 5
         },
         "mode": "markers",
         "name": "pterocles.n.01",
         "opacity": 0.4,
         "text": [
          "pterocles.n.01"
         ],
         "type": "scatter",
         "x": [
          3.1817991733551025
         ],
         "y": [
          0.24078701436519623
         ]
        },
        {
         "marker": {
          "color": "purple",
          "size": 5
         },
         "mode": "markers",
         "name": "nymphicus.n.01",
         "opacity": 0.4,
         "text": [
          "nymphicus.n.01"
         ],
         "type": "scatter",
         "x": [
          3.0167958736419678
         ],
         "y": [
          0.9490453004837036
         ]
        },
        {
         "marker": {
          "color": "purple",
          "size": 5
         },
         "mode": "markers",
         "name": "vanellus.n.01",
         "opacity": 0.4,
         "text": [
          "vanellus.n.01"
         ],
         "type": "scatter",
         "x": [
          3.5992846488952637
         ],
         "y": [
          -1.3726153373718262
         ]
        },
        {
         "marker": {
          "color": "purple",
          "size": 5
         },
         "mode": "markers",
         "name": "ephippiorhynchus.n.01",
         "opacity": 0.4,
         "text": [
          "ephippiorhynchus.n.01"
         ],
         "type": "scatter",
         "x": [
          2.9437122344970703
         ],
         "y": [
          -1.8072067499160767
         ]
        },
        {
         "marker": {
          "color": "purple",
          "size": 5
         },
         "mode": "markers",
         "name": "melanerpes.n.01",
         "opacity": 0.4,
         "text": [
          "melanerpes.n.01"
         ],
         "type": "scatter",
         "x": [
          3.177262783050537
         ],
         "y": [
          0.757003664970398
         ]
        },
        {
         "marker": {
          "color": "purple",
          "size": 5
         },
         "mode": "markers",
         "name": "spizella.n.01",
         "opacity": 0.4,
         "text": [
          "spizella.n.01"
         ],
         "type": "scatter",
         "x": [
          3.272240161895752
         ],
         "y": [
          -0.9333032965660095
         ]
        },
        {
         "marker": {
          "color": "purple",
          "size": 5
         },
         "mode": "markers",
         "name": "tyto.n.01",
         "opacity": 0.4,
         "text": [
          "tyto.n.01"
         ],
         "type": "scatter",
         "x": [
          3.1526198387145996
         ],
         "y": [
          -0.11396703124046326
         ]
        },
        {
         "marker": {
          "color": "purple",
          "size": 5
         },
         "mode": "markers",
         "name": "gallus.n.02",
         "opacity": 0.4,
         "text": [
          "gallus.n.02"
         ],
         "type": "scatter",
         "x": [
          4.6171112060546875
         ],
         "y": [
          0.10076012462377548
         ]
        },
        {
         "marker": {
          "color": "purple",
          "size": 5
         },
         "mode": "markers",
         "name": "dacelo.n.01",
         "opacity": 0.4,
         "text": [
          "dacelo.n.01"
         ],
         "type": "scatter",
         "x": [
          2.9579453468322754
         ],
         "y": [
          -0.2724131941795349
         ]
        },
        {
         "marker": {
          "color": "purple",
          "size": 5
         },
         "mode": "markers",
         "name": "pterocnemia.n.01",
         "opacity": 0.4,
         "text": [
          "pterocnemia.n.01"
         ],
         "type": "scatter",
         "x": [
          3.102616548538208
         ],
         "y": [
          -0.7593572735786438
         ]
        },
        {
         "marker": {
          "color": "purple",
          "size": 5
         },
         "mode": "markers",
         "name": "philomachus.n.01",
         "opacity": 0.4,
         "text": [
          "philomachus.n.01"
         ],
         "type": "scatter",
         "x": [
          3.3213181495666504
         ],
         "y": [
          -0.05657393857836723
         ]
        },
        {
         "marker": {
          "color": "purple",
          "size": 5
         },
         "mode": "markers",
         "name": "mimus.n.01",
         "opacity": 0.4,
         "text": [
          "mimus.n.01"
         ],
         "type": "scatter",
         "x": [
          3.0312728881835938
         ],
         "y": [
          1.5687851905822754
         ]
        },
        {
         "marker": {
          "color": "purple",
          "size": 5
         },
         "mode": "markers",
         "name": "genus_archaeopteryx.n.01",
         "opacity": 0.4,
         "text": [
          "genus_archaeopteryx.n.01"
         ],
         "type": "scatter",
         "x": [
          4.264906406402588
         ],
         "y": [
          0.46421533823013306
         ]
        },
        {
         "marker": {
          "color": "purple",
          "size": 5
         },
         "mode": "markers",
         "name": "melanitta.n.01",
         "opacity": 0.4,
         "text": [
          "melanitta.n.01"
         ],
         "type": "scatter",
         "x": [
          3.2037856578826904
         ],
         "y": [
          -1.6953226327896118
         ]
        },
        {
         "marker": {
          "color": "purple",
          "size": 5
         },
         "mode": "markers",
         "name": "perisoreus.n.01",
         "opacity": 0.4,
         "text": [
          "perisoreus.n.01"
         ],
         "type": "scatter",
         "x": [
          3.6364567279815674
         ],
         "y": [
          0.049149978905916214
         ]
        },
        {
         "marker": {
          "color": "purple",
          "size": 5
         },
         "mode": "markers",
         "name": "lobipes.n.01",
         "opacity": 0.4,
         "text": [
          "lobipes.n.01"
         ],
         "type": "scatter",
         "x": [
          2.900373697280884
         ],
         "y": [
          1.0402922630310059
         ]
        },
        {
         "marker": {
          "color": "purple",
          "size": 5
         },
         "mode": "markers",
         "name": "bubulcus.n.01",
         "opacity": 0.4,
         "text": [
          "bubulcus.n.01"
         ],
         "type": "scatter",
         "x": [
          3.2421915531158447
         ],
         "y": [
          -0.4276700019836426
         ]
        },
        {
         "marker": {
          "color": "purple",
          "size": 5
         },
         "mode": "markers",
         "name": "fregata.n.01",
         "opacity": 0.4,
         "text": [
          "fregata.n.01"
         ],
         "type": "scatter",
         "x": [
          2.59527850151062
         ],
         "y": [
          0.513221263885498
         ]
        },
        {
         "marker": {
          "color": "purple",
          "size": 5
         },
         "mode": "markers",
         "name": "euphagus.n.01",
         "opacity": 0.4,
         "text": [
          "euphagus.n.01"
         ],
         "type": "scatter",
         "x": [
          3.309420585632324
         ],
         "y": [
          0.2736000418663025
         ]
        },
        {
         "marker": {
          "color": "purple",
          "size": 5
         },
         "mode": "markers",
         "name": "alcedo.n.01",
         "opacity": 0.4,
         "text": [
          "alcedo.n.01"
         ],
         "type": "scatter",
         "x": [
          2.971442222595215
         ],
         "y": [
          -0.0673844963312149
         ]
        },
        {
         "marker": {
          "color": "purple",
          "size": 5
         },
         "mode": "markers",
         "name": "picus.n.01",
         "opacity": 0.4,
         "text": [
          "picus.n.01"
         ],
         "type": "scatter",
         "x": [
          3.154942035675049
         ],
         "y": [
          0.8215351104736328
         ]
        },
        {
         "marker": {
          "color": "purple",
          "size": 5
         },
         "mode": "markers",
         "name": "ceryle.n.01",
         "opacity": 0.4,
         "text": [
          "ceryle.n.01"
         ],
         "type": "scatter",
         "x": [
          2.9511313438415527
         ],
         "y": [
          0.4266647398471832
         ]
        },
        {
         "marker": {
          "color": "purple",
          "size": 5
         },
         "mode": "markers",
         "name": "canachites.n.01",
         "opacity": 0.4,
         "text": [
          "canachites.n.01"
         ],
         "type": "scatter",
         "x": [
          3.448530912399292
         ],
         "y": [
          0.1640463024377823
         ]
        },
        {
         "marker": {
          "color": "purple",
          "size": 5
         },
         "mode": "markers",
         "name": "pyrocephalus.n.01",
         "opacity": 0.4,
         "text": [
          "pyrocephalus.n.01"
         ],
         "type": "scatter",
         "x": [
          3.449780225753784
         ],
         "y": [
          -0.4374702572822571
         ]
        },
        {
         "marker": {
          "color": "purple",
          "size": 5
         },
         "mode": "markers",
         "name": "columba.n.02",
         "opacity": 0.4,
         "text": [
          "columba.n.02"
         ],
         "type": "scatter",
         "x": [
          3.1607625484466553
         ],
         "y": [
          0.3239048421382904
         ]
        },
        {
         "marker": {
          "color": "purple",
          "size": 5
         },
         "mode": "markers",
         "name": "balaeniceps.n.01",
         "opacity": 0.4,
         "text": [
          "balaeniceps.n.01"
         ],
         "type": "scatter",
         "x": [
          2.892815113067627
         ],
         "y": [
          -0.005515516735613346
         ]
        },
        {
         "marker": {
          "color": "purple",
          "size": 5
         },
         "mode": "markers",
         "name": "coereba.n.01",
         "opacity": 0.4,
         "text": [
          "coereba.n.01"
         ],
         "type": "scatter",
         "x": [
          2.645996570587158
         ],
         "y": [
          0.38814398646354675
         ]
        },
        {
         "marker": {
          "color": "purple",
          "size": 5
         },
         "mode": "markers",
         "name": "grus.n.02",
         "opacity": 0.4,
         "text": [
          "grus.n.02"
         ],
         "type": "scatter",
         "x": [
          2.8686470985412598
         ],
         "y": [
          -0.47251659631729126
         ]
        },
        {
         "marker": {
          "color": "purple",
          "size": 5
         },
         "mode": "markers",
         "name": "conuropsis.n.01",
         "opacity": 0.4,
         "text": [
          "conuropsis.n.01"
         ],
         "type": "scatter",
         "x": [
          3.235804557800293
         ],
         "y": [
          0.3218986690044403
         ]
        },
        {
         "marker": {
          "color": "purple",
          "size": 5
         },
         "mode": "markers",
         "name": "aix.n.01",
         "opacity": 0.4,
         "text": [
          "aix.n.01"
         ],
         "type": "scatter",
         "x": [
          3.55995512008667
         ],
         "y": [
          -0.33660903573036194
         ]
        },
        {
         "marker": {
          "color": "purple",
          "size": 5
         },
         "mode": "markers",
         "name": "genus_diomedea.n.01",
         "opacity": 0.4,
         "text": [
          "genus_diomedea.n.01"
         ],
         "type": "scatter",
         "x": [
          3.1839439868927
         ],
         "y": [
          -0.4606431722640991
         ]
        },
        {
         "marker": {
          "color": "purple",
          "size": 5
         },
         "mode": "markers",
         "name": "hesperiphona.n.01",
         "opacity": 0.4,
         "text": [
          "hesperiphona.n.01"
         ],
         "type": "scatter",
         "x": [
          3.4097304344177246
         ],
         "y": [
          -0.022866999730467796
         ]
        },
        {
         "marker": {
          "color": "purple",
          "size": 5
         },
         "mode": "markers",
         "name": "crex.n.01",
         "opacity": 0.4,
         "text": [
          "crex.n.01"
         ],
         "type": "scatter",
         "x": [
          3.389268159866333
         ],
         "y": [
          -0.20789413154125214
         ]
        },
        {
         "marker": {
          "color": "purple",
          "size": 5
         },
         "mode": "markers",
         "name": "toxostoma.n.01",
         "opacity": 0.4,
         "text": [
          "toxostoma.n.01"
         ],
         "type": "scatter",
         "x": [
          3.3821592330932617
         ],
         "y": [
          0.248086079955101
         ]
        },
        {
         "marker": {
          "color": "purple",
          "size": 5
         },
         "mode": "markers",
         "name": "genus_ibis.n.01",
         "opacity": 0.4,
         "text": [
          "genus_ibis.n.01"
         ],
         "type": "scatter",
         "x": [
          2.9458885192871094
         ],
         "y": [
          -0.1438281238079071
         ]
        },
        {
         "marker": {
          "color": "purple",
          "size": 5
         },
         "mode": "markers",
         "name": "orthotomus.n.01",
         "opacity": 0.4,
         "text": [
          "orthotomus.n.01"
         ],
         "type": "scatter",
         "x": [
          3.0528628826141357
         ],
         "y": [
          0.5588579177856445
         ]
        },
        {
         "marker": {
          "color": "purple",
          "size": 5
         },
         "mode": "markers",
         "name": "vidua.n.01",
         "opacity": 0.4,
         "text": [
          "vidua.n.01"
         ],
         "type": "scatter",
         "x": [
          3.1672215461730957
         ],
         "y": [
          -0.9897957444190979
         ]
        },
        {
         "marker": {
          "color": "purple",
          "size": 5
         },
         "mode": "markers",
         "name": "strix.n.01",
         "opacity": 0.4,
         "text": [
          "strix.n.01"
         ],
         "type": "scatter",
         "x": [
          3.4395878314971924
         ],
         "y": [
          -0.32140621542930603
         ]
        },
        {
         "marker": {
          "color": "purple",
          "size": 5
         },
         "mode": "markers",
         "name": "auriparus.n.01",
         "opacity": 0.4,
         "text": [
          "auriparus.n.01"
         ],
         "type": "scatter",
         "x": [
          3.0555360317230225
         ],
         "y": [
          0.757691502571106
         ]
        },
        {
         "marker": {
          "color": "purple",
          "size": 5
         },
         "mode": "markers",
         "name": "spinus.n.01",
         "opacity": 0.4,
         "text": [
          "spinus.n.01"
         ],
         "type": "scatter",
         "x": [
          3.2723891735076904
         ],
         "y": [
          -1.059510588645935
         ]
        },
        {
         "marker": {
          "color": "purple",
          "size": 5
         },
         "mode": "markers",
         "name": "spheniscus.n.01",
         "opacity": 0.4,
         "text": [
          "spheniscus.n.01"
         ],
         "type": "scatter",
         "x": [
          2.8523614406585693
         ],
         "y": [
          0.3068033754825592
         ]
        },
        {
         "marker": {
          "color": "purple",
          "size": 5
         },
         "mode": "markers",
         "name": "aythya.n.01",
         "opacity": 0.4,
         "text": [
          "aythya.n.01"
         ],
         "type": "scatter",
         "x": [
          3.661860466003418
         ],
         "y": [
          0.2012200653553009
         ]
        },
        {
         "marker": {
          "color": "purple",
          "size": 5
         },
         "mode": "markers",
         "name": "nycticorax.n.01",
         "opacity": 0.4,
         "text": [
          "nycticorax.n.01"
         ],
         "type": "scatter",
         "x": [
          3.3468480110168457
         ],
         "y": [
          -0.025522125884890556
         ]
        },
        {
         "marker": {
          "color": "purple",
          "size": 5
         },
         "mode": "markers",
         "name": "psittacula.n.01",
         "opacity": 0.4,
         "text": [
          "psittacula.n.01"
         ],
         "type": "scatter",
         "x": [
          3.0824649333953857
         ],
         "y": [
          1.162274718284607
         ]
        },
        {
         "marker": {
          "color": "purple",
          "size": 5
         },
         "mode": "markers",
         "name": "loxia.n.01",
         "opacity": 0.4,
         "text": [
          "loxia.n.01"
         ],
         "type": "scatter",
         "x": [
          3.376316785812378
         ],
         "y": [
          0.6008455753326416
         ]
        },
        {
         "marker": {
          "color": "purple",
          "size": 5
         },
         "mode": "markers",
         "name": "serinus.n.01",
         "opacity": 0.4,
         "text": [
          "serinus.n.01"
         ],
         "type": "scatter",
         "x": [
          3.3936800956726074
         ],
         "y": [
          -0.21257883310317993
         ]
        },
        {
         "marker": {
          "color": "purple",
          "size": 5
         },
         "mode": "markers",
         "name": "plautus.n.02",
         "opacity": 0.4,
         "text": [
          "plautus.n.02"
         ],
         "type": "scatter",
         "x": [
          3.2227377891540527
         ],
         "y": [
          0.4374268054962158
         ]
        },
        {
         "marker": {
          "color": "purple",
          "size": 5
         },
         "mode": "markers",
         "name": "upupa.n.01",
         "opacity": 0.4,
         "text": [
          "upupa.n.01"
         ],
         "type": "scatter",
         "x": [
          3.9260683059692383
         ],
         "y": [
          0.4055522084236145
         ]
        },
        {
         "marker": {
          "color": "purple",
          "size": 5
         },
         "mode": "markers",
         "name": "melanotis.n.01",
         "opacity": 0.4,
         "text": [
          "melanotis.n.01"
         ],
         "type": "scatter",
         "x": [
          2.9971413612365723
         ],
         "y": [
          1.2681818008422852
         ]
        },
        {
         "marker": {
          "color": "purple",
          "size": 5
         },
         "mode": "markers",
         "name": "lunda.n.01",
         "opacity": 0.4,
         "text": [
          "lunda.n.01"
         ],
         "type": "scatter",
         "x": [
          3.0203187465667725
         ],
         "y": [
          1.1987802982330322
         ]
        },
        {
         "marker": {
          "color": "purple",
          "size": 5
         },
         "mode": "markers",
         "name": "parus.n.01",
         "opacity": 0.4,
         "text": [
          "parus.n.01"
         ],
         "type": "scatter",
         "x": [
          3.1266696453094482
         ],
         "y": [
          0.3498516380786896
         ]
        },
        {
         "marker": {
          "color": "purple",
          "size": 5
         },
         "mode": "markers",
         "name": "calidris.n.01",
         "opacity": 0.4,
         "text": [
          "calidris.n.01"
         ],
         "type": "scatter",
         "x": [
          3.318591833114624
         ],
         "y": [
          0.2795478105545044
         ]
        },
        {
         "marker": {
          "color": "purple",
          "size": 5
         },
         "mode": "markers",
         "name": "geococcyx.n.01",
         "opacity": 0.4,
         "text": [
          "geococcyx.n.01"
         ],
         "type": "scatter",
         "x": [
          3.0755934715270996
         ],
         "y": [
          -0.28702014684677124
         ]
        },
        {
         "marker": {
          "color": "purple",
          "size": 5
         },
         "mode": "markers",
         "name": "macronectes.n.01",
         "opacity": 0.4,
         "text": [
          "macronectes.n.01"
         ],
         "type": "scatter",
         "x": [
          2.9827733039855957
         ],
         "y": [
          -0.3221372961997986
         ]
        },
        {
         "marker": {
          "color": "purple",
          "size": 5
         },
         "mode": "markers",
         "name": "hylocichla.n.01",
         "opacity": 0.4,
         "text": [
          "hylocichla.n.01"
         ],
         "type": "scatter",
         "x": [
          3.3857805728912354
         ],
         "y": [
          0.6094489097595215
         ]
        },
        {
         "marker": {
          "color": "purple",
          "size": 5
         },
         "mode": "markers",
         "name": "acridotheres.n.01",
         "opacity": 0.4,
         "text": [
          "acridotheres.n.01"
         ],
         "type": "scatter",
         "x": [
          3.4120733737945557
         ],
         "y": [
          0.0663151890039444
         ]
        },
        {
         "marker": {
          "color": "purple",
          "size": 5
         },
         "mode": "markers",
         "name": "cacicus.n.01",
         "opacity": 0.4,
         "text": [
          "cacicus.n.01"
         ],
         "type": "scatter",
         "x": [
          3.4277265071868896
         ],
         "y": [
          0.20606102049350739
         ]
        },
        {
         "marker": {
          "color": "purple",
          "size": 5
         },
         "mode": "markers",
         "name": "pooecetes.n.01",
         "opacity": 0.4,
         "text": [
          "pooecetes.n.01"
         ],
         "type": "scatter",
         "x": [
          3.2790110111236572
         ],
         "y": [
          0.8566688299179077
         ]
        },
        {
         "marker": {
          "color": "purple",
          "size": 5
         },
         "mode": "markers",
         "name": "larus.n.01",
         "opacity": 0.4,
         "text": [
          "larus.n.01"
         ],
         "type": "scatter",
         "x": [
          3.636082649230957
         ],
         "y": [
          -0.6323714256286621
         ]
        },
        {
         "marker": {
          "color": "purple",
          "size": 5
         },
         "mode": "markers",
         "name": "aquila.n.03",
         "opacity": 0.4,
         "text": [
          "aquila.n.03"
         ],
         "type": "scatter",
         "x": [
          3.3446388244628906
         ],
         "y": [
          0.8257223963737488
         ]
        },
        {
         "marker": {
          "color": "purple",
          "size": 5
         },
         "mode": "markers",
         "name": "phoenicurus.n.01",
         "opacity": 0.4,
         "text": [
          "phoenicurus.n.01"
         ],
         "type": "scatter",
         "x": [
          3.2968945503234863
         ],
         "y": [
          0.7114933133125305
         ]
        },
        {
         "marker": {
          "color": "purple",
          "size": 5
         },
         "mode": "markers",
         "name": "phalaenoptilus.n.01",
         "opacity": 0.4,
         "text": [
          "phalaenoptilus.n.01"
         ],
         "type": "scatter",
         "x": [
          3.897428274154663
         ],
         "y": [
          -0.07282545417547226
         ]
        },
        {
         "marker": {
          "color": "purple",
          "size": 5
         },
         "mode": "markers",
         "name": "pipile.n.01",
         "opacity": 0.4,
         "text": [
          "pipile.n.01"
         ],
         "type": "scatter",
         "x": [
          4.253498077392578
         ],
         "y": [
          -0.36595937609672546
         ]
        },
        {
         "marker": {
          "color": "purple",
          "size": 5
         },
         "mode": "markers",
         "name": "pachycephala.n.01",
         "opacity": 0.4,
         "text": [
          "pachycephala.n.01"
         ],
         "type": "scatter",
         "x": [
          3.008840560913086
         ],
         "y": [
          -0.8898990750312805
         ]
        },
        {
         "marker": {
          "color": "purple",
          "size": 5
         },
         "mode": "markers",
         "name": "macrocephalon.n.01",
         "opacity": 0.4,
         "text": [
          "macrocephalon.n.01"
         ],
         "type": "scatter",
         "x": [
          3.122837781906128
         ],
         "y": [
          1.5644512176513672
         ]
        },
        {
         "marker": {
          "color": "purple",
          "size": 5
         },
         "mode": "markers",
         "name": "emberiza.n.01",
         "opacity": 0.4,
         "text": [
          "emberiza.n.01"
         ],
         "type": "scatter",
         "x": [
          3.029275417327881
         ],
         "y": [
          1.132039189338684
         ]
        },
        {
         "marker": {
          "color": "purple",
          "size": 5
         },
         "mode": "markers",
         "name": "mycteria.n.01",
         "opacity": 0.4,
         "text": [
          "mycteria.n.01"
         ],
         "type": "scatter",
         "x": [
          3.248353958129883
         ],
         "y": [
          0.891769528388977
         ]
        },
        {
         "marker": {
          "color": "purple",
          "size": 5
         },
         "mode": "markers",
         "name": "raphus.n.01",
         "opacity": 0.4,
         "text": [
          "raphus.n.01"
         ],
         "type": "scatter",
         "x": [
          2.679316997528076
         ],
         "y": [
          0.7995025515556335
         ]
        },
        {
         "marker": {
          "color": "purple",
          "size": 5
         },
         "mode": "markers",
         "name": "troglodytes.n.01",
         "opacity": 0.4,
         "text": [
          "troglodytes.n.01"
         ],
         "type": "scatter",
         "x": [
          3.15322208404541
         ],
         "y": [
          -0.6877029538154602
         ]
        },
        {
         "marker": {
          "color": "purple",
          "size": 5
         },
         "mode": "markers",
         "name": "meleagris.n.01",
         "opacity": 0.4,
         "text": [
          "meleagris.n.01"
         ],
         "type": "scatter",
         "x": [
          4.218034744262695
         ],
         "y": [
          -0.27655550837516785
         ]
        },
        {
         "marker": {
          "color": "purple",
          "size": 5
         },
         "mode": "markers",
         "name": "chrysolophus.n.01",
         "opacity": 0.4,
         "text": [
          "chrysolophus.n.01"
         ],
         "type": "scatter",
         "x": [
          3.6135826110839844
         ],
         "y": [
          1.035207986831665
         ]
        },
        {
         "marker": {
          "color": "purple",
          "size": 5
         },
         "mode": "markers",
         "name": "alca.n.01",
         "opacity": 0.4,
         "text": [
          "alca.n.01"
         ],
         "type": "scatter",
         "x": [
          2.668193817138672
         ],
         "y": [
          1.8375988006591797
         ]
        },
        {
         "marker": {
          "color": "purple",
          "size": 5
         },
         "mode": "markers",
         "name": "harpia.n.01",
         "opacity": 0.4,
         "text": [
          "harpia.n.01"
         ],
         "type": "scatter",
         "x": [
          3.3129141330718994
         ],
         "y": [
          0.7989702224731445
         ]
        },
        {
         "marker": {
          "color": "purple",
          "size": 5
         },
         "mode": "markers",
         "name": "estrilda.n.01",
         "opacity": 0.4,
         "text": [
          "estrilda.n.01"
         ],
         "type": "scatter",
         "x": [
          3.1960649490356445
         ],
         "y": [
          -0.920181155204773
         ]
        },
        {
         "marker": {
          "color": "purple",
          "size": 5
         },
         "mode": "markers",
         "name": "agelaius.n.01",
         "opacity": 0.4,
         "text": [
          "agelaius.n.01"
         ],
         "type": "scatter",
         "x": [
          3.297001361846924
         ],
         "y": [
          -0.2697674632072449
         ]
        },
        {
         "marker": {
          "color": "purple",
          "size": 5
         },
         "mode": "markers",
         "name": "sula.n.01",
         "opacity": 0.4,
         "text": [
          "sula.n.01"
         ],
         "type": "scatter",
         "x": [
          3.1752827167510986
         ],
         "y": [
          0.44119906425476074
         ]
        },
        {
         "marker": {
          "color": "purple",
          "size": 5
         },
         "mode": "markers",
         "name": "genus_chunga.n.01",
         "opacity": 0.4,
         "text": [
          "genus_chunga.n.01"
         ],
         "type": "scatter",
         "x": [
          3.042245864868164
         ],
         "y": [
          0.4464883506298065
         ]
        },
        {
         "marker": {
          "color": "purple",
          "size": 5
         },
         "mode": "markers",
         "name": "podilymbus.n.01",
         "opacity": 0.4,
         "text": [
          "podilymbus.n.01"
         ],
         "type": "scatter",
         "x": [
          2.527744770050049
         ],
         "y": [
          0.9401784539222717
         ]
        },
        {
         "marker": {
          "color": "purple",
          "size": 5
         },
         "mode": "markers",
         "name": "fratercula.n.01",
         "opacity": 0.4,
         "text": [
          "fratercula.n.01"
         ],
         "type": "scatter",
         "x": [
          3.1428382396698
         ],
         "y": [
          0.8759111762046814
         ]
        },
        {
         "marker": {
          "color": "purple",
          "size": 5
         },
         "mode": "markers",
         "name": "carpodacus.n.01",
         "opacity": 0.4,
         "text": [
          "carpodacus.n.01"
         ],
         "type": "scatter",
         "x": [
          2.147007465362549
         ],
         "y": [
          0.12401050329208374
         ]
        },
        {
         "marker": {
          "color": "purple",
          "size": 5
         },
         "mode": "markers",
         "name": "centrocercus.n.01",
         "opacity": 0.4,
         "text": [
          "centrocercus.n.01"
         ],
         "type": "scatter",
         "x": [
          3.4291484355926514
         ],
         "y": [
          0.3904417157173157
         ]
        },
        {
         "marker": {
          "color": "purple",
          "size": 5
         },
         "mode": "markers",
         "name": "himantopus.n.01",
         "opacity": 0.4,
         "text": [
          "himantopus.n.01"
         ],
         "type": "scatter",
         "x": [
          3.8102283477783203
         ],
         "y": [
          -0.581362247467041
         ]
        },
        {
         "marker": {
          "color": "purple",
          "size": 5
         },
         "mode": "markers",
         "name": "falco.n.01",
         "opacity": 0.4,
         "text": [
          "falco.n.01"
         ],
         "type": "scatter",
         "x": [
          3.0457167625427246
         ],
         "y": [
          1.1880604028701782
         ]
        },
        {
         "marker": {
          "color": "purple",
          "size": 5
         },
         "mode": "markers",
         "name": "cairina.n.01",
         "opacity": 0.4,
         "text": [
          "cairina.n.01"
         ],
         "type": "scatter",
         "x": [
          3.5263288021087646
         ],
         "y": [
          0.03036201372742653
         ]
        },
        {
         "marker": {
          "color": "purple",
          "size": 5
         },
         "mode": "markers",
         "name": "apus.n.02",
         "opacity": 0.4,
         "text": [
          "apus.n.02"
         ],
         "type": "scatter",
         "x": [
          2.848146915435791
         ],
         "y": [
          0.3050044775009155
         ]
        },
        {
         "marker": {
          "color": "purple",
          "size": 5
         },
         "mode": "markers",
         "name": "bucephala.n.01",
         "opacity": 0.4,
         "text": [
          "bucephala.n.01"
         ],
         "type": "scatter",
         "x": [
          3.4134626388549805
         ],
         "y": [
          0.4999745488166809
         ]
        },
        {
         "marker": {
          "color": "purple",
          "size": 5
         },
         "mode": "markers",
         "name": "philohela.n.01",
         "opacity": 0.4,
         "text": [
          "philohela.n.01"
         ],
         "type": "scatter",
         "x": [
          3.3515634536743164
         ],
         "y": [
          0.2152196615934372
         ]
        },
        {
         "marker": {
          "color": "purple",
          "size": 5
         },
         "mode": "markers",
         "name": "aegypius.n.01",
         "opacity": 0.4,
         "text": [
          "aegypius.n.01"
         ],
         "type": "scatter",
         "x": [
          3.499300003051758
         ],
         "y": [
          -0.0992521271109581
         ]
        },
        {
         "marker": {
          "color": "purple",
          "size": 5
         },
         "mode": "markers",
         "name": "carduelis.n.01",
         "opacity": 0.4,
         "text": [
          "carduelis.n.01"
         ],
         "type": "scatter",
         "x": [
          3.3853607177734375
         ],
         "y": [
          -0.1609073281288147
         ]
        },
        {
         "marker": {
          "color": "purple",
          "size": 5
         },
         "mode": "markers",
         "name": "poephila.n.01",
         "opacity": 0.4,
         "text": [
          "poephila.n.01"
         ],
         "type": "scatter",
         "x": [
          3.188504934310913
         ],
         "y": [
          -0.856845498085022
         ]
        },
        {
         "marker": {
          "color": "purple",
          "size": 5
         },
         "mode": "markers",
         "name": "campylorhynchus.n.01",
         "opacity": 0.4,
         "text": [
          "campylorhynchus.n.01"
         ],
         "type": "scatter",
         "x": [
          3.2017624378204346
         ],
         "y": [
          -0.538249671459198
         ]
        },
        {
         "marker": {
          "color": "purple",
          "size": 5
         },
         "mode": "markers",
         "name": "hylophylax.n.01",
         "opacity": 0.4,
         "text": [
          "hylophylax.n.01"
         ],
         "type": "scatter",
         "x": [
          3.00242018699646
         ],
         "y": [
          -0.011383422650396824
         ]
        },
        {
         "marker": {
          "color": "purple",
          "size": 5
         },
         "mode": "markers",
         "name": "ectopistes.n.01",
         "opacity": 0.4,
         "text": [
          "ectopistes.n.01"
         ],
         "type": "scatter",
         "x": [
          3.093196392059326
         ],
         "y": [
          -0.8946375846862793
         ]
        },
        {
         "marker": {
          "color": "purple",
          "size": 5
         },
         "mode": "markers",
         "name": "gallinago.n.01",
         "opacity": 0.4,
         "text": [
          "gallinago.n.01"
         ],
         "type": "scatter",
         "x": [
          3.3320040702819824
         ],
         "y": [
          -0.11172935366630554
         ]
        },
        {
         "marker": {
          "color": "purple",
          "size": 5
         },
         "mode": "markers",
         "name": "cladorhyncus.n.01",
         "opacity": 0.4,
         "text": [
          "cladorhyncus.n.01"
         ],
         "type": "scatter",
         "x": [
          3.718191623687744
         ],
         "y": [
          0.24726226925849915
         ]
        },
        {
         "marker": {
          "color": "purple",
          "size": 5
         },
         "mode": "markers",
         "name": "accipiter.n.01",
         "opacity": 0.4,
         "text": [
          "accipiter.n.01"
         ],
         "type": "scatter",
         "x": [
          3.423483371734619
         ],
         "y": [
          0.08080756664276123
         ]
        },
        {
         "marker": {
          "color": "purple",
          "size": 5
         },
         "mode": "markers",
         "name": "gavia.n.01",
         "opacity": 0.4,
         "text": [
          "gavia.n.01"
         ],
         "type": "scatter",
         "x": [
          2.6069276332855225
         ],
         "y": [
          0.18809334933757782
         ]
        },
        {
         "marker": {
          "color": "purple",
          "size": 5
         },
         "mode": "markers",
         "name": "syrrhaptes.n.01",
         "opacity": 0.4,
         "text": [
          "syrrhaptes.n.01"
         ],
         "type": "scatter",
         "x": [
          3.140073299407959
         ],
         "y": [
          -0.5423458814620972
         ]
        },
        {
         "marker": {
          "color": "purple",
          "size": 5
         },
         "mode": "markers",
         "name": "otis.n.02",
         "opacity": 0.4,
         "text": [
          "otis.n.02"
         ],
         "type": "scatter",
         "x": [
          2.837312698364258
         ],
         "y": [
          -0.08965735882520676
         ]
        },
        {
         "marker": {
          "color": "purple",
          "size": 5
         },
         "mode": "markers",
         "name": "fringilla.n.01",
         "opacity": 0.4,
         "text": [
          "fringilla.n.01"
         ],
         "type": "scatter",
         "x": [
          3.413879632949829
         ],
         "y": [
          -0.49901625514030457
         ]
        },
        {
         "marker": {
          "color": "purple",
          "size": 5
         },
         "mode": "markers",
         "name": "chen.n.01",
         "opacity": 0.4,
         "text": [
          "chen.n.01"
         ],
         "type": "scatter",
         "x": [
          3.0190720558166504
         ],
         "y": [
          -0.2486361265182495
         ]
        },
        {
         "marker": {
          "color": "purple",
          "size": 5
         },
         "mode": "markers",
         "name": "ladle.v.02",
         "opacity": 0.4,
         "text": [
          "ladle.v.02"
         ],
         "type": "scatter",
         "x": [
          3.9767754077911377
         ],
         "y": [
          -0.07507754117250443
         ]
        },
        {
         "marker": {
          "color": "purple",
          "size": 5
         },
         "mode": "markers",
         "name": "lophodytes.n.01",
         "opacity": 0.4,
         "text": [
          "lophodytes.n.01"
         ],
         "type": "scatter",
         "x": [
          3.3811237812042236
         ],
         "y": [
          0.7473922967910767
         ]
        },
        {
         "marker": {
          "color": "purple",
          "size": 5
         },
         "mode": "markers",
         "name": "tringa.n.01",
         "opacity": 0.4,
         "text": [
          "tringa.n.01"
         ],
         "type": "scatter",
         "x": [
          3.3229846954345703
         ],
         "y": [
          -0.14257431030273438
         ]
        },
        {
         "marker": {
          "color": "purple",
          "size": 5
         },
         "mode": "markers",
         "name": "hirundo.n.01",
         "opacity": 0.4,
         "text": [
          "hirundo.n.01"
         ],
         "type": "scatter",
         "x": [
          3.0393178462982178
         ],
         "y": [
          0.44721394777297974
         ]
        },
        {
         "marker": {
          "color": "purple",
          "size": 5
         },
         "mode": "markers",
         "name": "perdix.n.01",
         "opacity": 0.4,
         "text": [
          "perdix.n.01"
         ],
         "type": "scatter",
         "x": [
          3.4044737815856934
         ],
         "y": [
          0.043198082596063614
         ]
        },
        {
         "marker": {
          "color": "purple",
          "size": 5
         },
         "mode": "markers",
         "name": "hydrobates.n.01",
         "opacity": 0.4,
         "text": [
          "hydrobates.n.01"
         ],
         "type": "scatter",
         "x": [
          2.1583750247955322
         ],
         "y": [
          -0.007071473635733128
         ]
        },
        {
         "marker": {
          "color": "purple",
          "size": 5
         },
         "mode": "markers",
         "name": "colinus.n.01",
         "opacity": 0.4,
         "text": [
          "colinus.n.01"
         ],
         "type": "scatter",
         "x": [
          3.3731179237365723
         ],
         "y": [
          1.1307718753814697
         ]
        },
        {
         "marker": {
          "color": "purple",
          "size": 5
         },
         "mode": "markers",
         "name": "parula.n.01",
         "opacity": 0.4,
         "text": [
          "parula.n.01"
         ],
         "type": "scatter",
         "x": [
          3.573866128921509
         ],
         "y": [
          -0.17877516150474548
         ]
        },
        {
         "marker": {
          "color": "purple",
          "size": 5
         },
         "mode": "markers",
         "name": "padda.n.01",
         "opacity": 0.4,
         "text": [
          "padda.n.01"
         ],
         "type": "scatter",
         "x": [
          3.349837303161621
         ],
         "y": [
          0.09394879639148712
         ]
        },
        {
         "marker": {
          "color": "purple",
          "size": 5
         },
         "mode": "markers",
         "name": "struthio.n.01",
         "opacity": 0.4,
         "text": [
          "struthio.n.01"
         ],
         "type": "scatter",
         "x": [
          3.0498318672180176
         ],
         "y": [
          -0.7001466751098633
         ]
        },
        {
         "marker": {
          "color": "purple",
          "size": 5
         },
         "mode": "markers",
         "name": "somateria.n.01",
         "opacity": 0.4,
         "text": [
          "somateria.n.01"
         ],
         "type": "scatter",
         "x": [
          3.533970594406128
         ],
         "y": [
          -0.432385116815567
         ]
        },
        {
         "marker": {
          "color": "purple",
          "size": 5
         },
         "mode": "markers",
         "name": "dolichonyx.n.01",
         "opacity": 0.4,
         "text": [
          "dolichonyx.n.01"
         ],
         "type": "scatter",
         "x": [
          3.378798484802246
         ],
         "y": [
          0.21227344870567322
         ]
        },
        {
         "marker": {
          "color": "purple",
          "size": 5
         },
         "mode": "markers",
         "name": "glossopsitta.n.01",
         "opacity": 0.4,
         "text": [
          "glossopsitta.n.01"
         ],
         "type": "scatter",
         "x": [
          2.804858684539795
         ],
         "y": [
          0.5405437350273132
         ]
        },
        {
         "marker": {
          "color": "purple",
          "size": 5
         },
         "mode": "markers",
         "name": "ixobrychus.n.01",
         "opacity": 0.4,
         "text": [
          "ixobrychus.n.01"
         ],
         "type": "scatter",
         "x": [
          3.297886610031128
         ],
         "y": [
          -0.12498506158590317
         ]
        },
        {
         "marker": {
          "color": "purple",
          "size": 5
         },
         "mode": "markers",
         "name": "sturnus.n.01",
         "opacity": 0.4,
         "text": [
          "sturnus.n.01"
         ],
         "type": "scatter",
         "x": [
          3.684706449508667
         ],
         "y": [
          -0.008524356409907341
         ]
        },
        {
         "marker": {
          "color": "purple",
          "size": 5
         },
         "mode": "markers",
         "name": "asio.n.01",
         "opacity": 0.4,
         "text": [
          "asio.n.01"
         ],
         "type": "scatter",
         "x": [
          3.4765031337738037
         ],
         "y": [
          -0.010652580298483372
         ]
        },
        {
         "marker": {
          "color": "purple",
          "size": 5
         },
         "mode": "markers",
         "name": "anthus.n.01",
         "opacity": 0.4,
         "text": [
          "anthus.n.01"
         ],
         "type": "scatter",
         "x": [
          3.167769432067871
         ],
         "y": [
          -0.09807490557432175
         ]
        },
        {
         "marker": {
          "color": "purple",
          "size": 5
         },
         "mode": "markers",
         "name": "icterus.n.02",
         "opacity": 0.4,
         "text": [
          "icterus.n.02"
         ],
         "type": "scatter",
         "x": [
          3.6316726207733154
         ],
         "y": [
          -0.3649149537086487
         ]
        },
        {
         "marker": {
          "color": "purple",
          "size": 5
         },
         "mode": "markers",
         "name": "pastor.n.02",
         "opacity": 0.4,
         "text": [
          "pastor.n.02"
         ],
         "type": "scatter",
         "x": [
          3.048100709915161
         ],
         "y": [
          0.8541237115859985
         ]
        },
        {
         "marker": {
          "color": "purple",
          "size": 5
         },
         "mode": "markers",
         "name": "pinicola.n.01",
         "opacity": 0.4,
         "text": [
          "pinicola.n.01"
         ],
         "type": "scatter",
         "x": [
          3.2779414653778076
         ],
         "y": [
          -0.3094961643218994
         ]
        },
        {
         "marker": {
          "color": "purple",
          "size": 5
         },
         "mode": "markers",
         "name": "leptoptilus.n.01",
         "opacity": 0.4,
         "text": [
          "leptoptilus.n.01"
         ],
         "type": "scatter",
         "x": [
          3.752257823944092
         ],
         "y": [
          -0.12634532153606415
         ]
        },
        {
         "marker": {
          "color": "purple",
          "size": 5
         },
         "mode": "markers",
         "name": "piranga.n.01",
         "opacity": 0.4,
         "text": [
          "piranga.n.01"
         ],
         "type": "scatter",
         "x": [
          3.2658889293670654
         ],
         "y": [
          -0.08099425584077835
         ]
        },
        {
         "marker": {
          "color": "purple",
          "size": 5
         },
         "mode": "markers",
         "name": "sarcorhamphus.n.01",
         "opacity": 0.4,
         "text": [
          "sarcorhamphus.n.01"
         ],
         "type": "scatter",
         "x": [
          3.2844440937042236
         ],
         "y": [
          -0.4708324074745178
         ]
        },
        {
         "marker": {
          "color": "purple",
          "size": 5
         },
         "mode": "markers",
         "name": "campephilus.n.01",
         "opacity": 0.4,
         "text": [
          "campephilus.n.01"
         ],
         "type": "scatter",
         "x": [
          3.2954108715057373
         ],
         "y": [
          -0.19688595831394196
         ]
        },
        {
         "marker": {
          "color": "purple",
          "size": 5
         },
         "mode": "markers",
         "name": "tympanuchus.n.01",
         "opacity": 0.4,
         "text": [
          "tympanuchus.n.01"
         ],
         "type": "scatter",
         "x": [
          3.3661460876464844
         ],
         "y": [
          -1.0375126600265503
         ]
        },
        {
         "marker": {
          "color": "purple",
          "size": 5
         },
         "mode": "markers",
         "name": "stercorarius.n.01",
         "opacity": 0.4,
         "text": [
          "stercorarius.n.01"
         ],
         "type": "scatter",
         "x": [
          3.218867301940918
         ],
         "y": [
          0.13117486238479614
         ]
        },
        {
         "marker": {
          "color": "purple",
          "size": 5
         },
         "mode": "markers",
         "name": "procellaria.n.01",
         "opacity": 0.4,
         "text": [
          "procellaria.n.01"
         ],
         "type": "scatter",
         "x": [
          2.99530291557312
         ],
         "y": [
          -0.1502571851015091
         ]
        },
        {
         "marker": {
          "color": "purple",
          "size": 5
         },
         "mode": "markers",
         "name": "scolopax.n.01",
         "opacity": 0.4,
         "text": [
          "scolopax.n.01"
         ],
         "type": "scatter",
         "x": [
          3.3037056922912598
         ],
         "y": [
          -0.2782498300075531
         ]
        },
        {
         "marker": {
          "color": "purple",
          "size": 5
         },
         "mode": "markers",
         "name": "kakatoe.n.01",
         "opacity": 0.4,
         "text": [
          "kakatoe.n.01"
         ],
         "type": "scatter",
         "x": [
          3.185702323913574
         ],
         "y": [
          -0.2716565728187561
         ]
        },
        {
         "marker": {
          "color": "purple",
          "size": 5
         },
         "mode": "markers",
         "name": "contopus.n.01",
         "opacity": 0.4,
         "text": [
          "contopus.n.01"
         ],
         "type": "scatter",
         "x": [
          3.668006420135498
         ],
         "y": [
          0.5493552088737488
         ]
        },
        {
         "marker": {
          "color": "purple",
          "size": 5
         },
         "mode": "markers",
         "name": "chlamydera.n.01",
         "opacity": 0.4,
         "text": [
          "chlamydera.n.01"
         ],
         "type": "scatter",
         "x": [
          3.122748613357544
         ],
         "y": [
          -0.6683905124664307
         ]
        },
        {
         "marker": {
          "color": "purple",
          "size": 5
         },
         "mode": "markers",
         "name": "oreortyx.n.01",
         "opacity": 0.4,
         "text": [
          "oreortyx.n.01"
         ],
         "type": "scatter",
         "x": [
          3.261458158493042
         ],
         "y": [
          1.0466398000717163
         ]
        },
        {
         "marker": {
          "color": "purple",
          "size": 5
         },
         "mode": "markers",
         "name": "melopsittacus.n.01",
         "opacity": 0.4,
         "text": [
          "melopsittacus.n.01"
         ],
         "type": "scatter",
         "x": [
          3.07190203666687
         ],
         "y": [
          0.7336137294769287
         ]
        },
        {
         "marker": {
          "color": "purple",
          "size": 5
         },
         "mode": "markers",
         "name": "egretta.n.01",
         "opacity": 0.4,
         "text": [
          "egretta.n.01"
         ],
         "type": "scatter",
         "x": [
          3.179903745651245
         ],
         "y": [
          -0.2937930226325989
         ]
        },
        {
         "marker": {
          "color": "purple",
          "size": 5
         },
         "mode": "markers",
         "name": "pelecanus.n.01",
         "opacity": 0.4,
         "text": [
          "pelecanus.n.01"
         ],
         "type": "scatter",
         "x": [
          2.841029644012451
         ],
         "y": [
          0.04740779846906662
         ]
        },
        {
         "marker": {
          "color": "purple",
          "size": 5
         },
         "mode": "markers",
         "name": "pezophaps.n.01",
         "opacity": 0.4,
         "text": [
          "pezophaps.n.01"
         ],
         "type": "scatter",
         "x": [
          2.7849385738372803
         ],
         "y": [
          -0.26419979333877563
         ]
        },
        {
         "marker": {
          "color": "purple",
          "size": 5
         },
         "mode": "markers",
         "name": "surnia.n.01",
         "opacity": 0.4,
         "text": [
          "surnia.n.01"
         ],
         "type": "scatter",
         "x": [
          3.392096757888794
         ],
         "y": [
          0.20606155693531036
         ]
        },
        {
         "marker": {
          "color": "purple",
          "size": 5
         },
         "mode": "markers",
         "name": "delichon.n.01",
         "opacity": 0.4,
         "text": [
          "delichon.n.01"
         ],
         "type": "scatter",
         "x": [
          3.0744144916534424
         ],
         "y": [
          0.22093215584754944
         ]
        },
        {
         "marker": {
          "color": "purple",
          "size": 5
         },
         "mode": "markers",
         "name": "catoptrophorus.n.01",
         "opacity": 0.4,
         "text": [
          "catoptrophorus.n.01"
         ],
         "type": "scatter",
         "x": [
          3.347320079803467
         ],
         "y": [
          0.1470135599374771
         ]
        },
        {
         "marker": {
          "color": "purple",
          "size": 5
         },
         "mode": "markers",
         "name": "oxyura.n.01",
         "opacity": 0.4,
         "text": [
          "oxyura.n.01"
         ],
         "type": "scatter",
         "x": [
          3.4441137313842773
         ],
         "y": [
          -0.6916816234588623
         ]
        },
        {
         "marker": {
          "color": "purple",
          "size": 5
         },
         "mode": "markers",
         "name": "pharomacrus.n.01",
         "opacity": 0.4,
         "text": [
          "pharomacrus.n.01"
         ],
         "type": "scatter",
         "x": [
          2.563086748123169
         ],
         "y": [
          -0.9655156135559082
         ]
        },
        {
         "marker": {
          "color": "purple",
          "size": 5
         },
         "mode": "markers",
         "name": "oriolus.n.01",
         "opacity": 0.4,
         "text": [
          "oriolus.n.01"
         ],
         "type": "scatter",
         "x": [
          2.8576951026916504
         ],
         "y": [
          -0.2425198256969452
         ]
        },
        {
         "marker": {
          "color": "purple",
          "size": 5
         },
         "mode": "markers",
         "name": "genus_notornis.n.01",
         "opacity": 0.4,
         "text": [
          "genus_notornis.n.01"
         ],
         "type": "scatter",
         "x": [
          3.388418436050415
         ],
         "y": [
          -0.21894106268882751
         ]
        },
        {
         "marker": {
          "color": "purple",
          "size": 5
         },
         "mode": "markers",
         "name": "riparia.n.01",
         "opacity": 0.4,
         "text": [
          "riparia.n.01"
         ],
         "type": "scatter",
         "x": [
          3.1100053787231445
         ],
         "y": [
          -0.26854652166366577
         ]
        },
        {
         "marker": {
          "color": "purple",
          "size": 5
         },
         "mode": "markers",
         "name": "cinclus.n.01",
         "opacity": 0.4,
         "text": [
          "cinclus.n.01"
         ],
         "type": "scatter",
         "x": [
          2.7626845836639404
         ],
         "y": [
          -0.7434960603713989
         ]
        },
        {
         "marker": {
          "color": "purple",
          "size": 5
         },
         "mode": "markers",
         "name": "atrichornis.n.01",
         "opacity": 0.4,
         "text": [
          "atrichornis.n.01"
         ],
         "type": "scatter",
         "x": [
          3.2385683059692383
         ],
         "y": [
          -0.6424683928489685
         ]
        },
        {
         "marker": {
          "color": "purple",
          "size": 5
         },
         "mode": "markers",
         "name": "steganopus.n.01",
         "opacity": 0.4,
         "text": [
          "steganopus.n.01"
         ],
         "type": "scatter",
         "x": [
          2.8650572299957275
         ],
         "y": [
          1.0817251205444336
         ]
        },
        {
         "marker": {
          "color": "purple",
          "size": 5
         },
         "mode": "markers",
         "name": "phasianus.n.01",
         "opacity": 0.4,
         "text": [
          "phasianus.n.01"
         ],
         "type": "scatter",
         "x": [
          4.878809928894043
         ],
         "y": [
          0.8925550580024719
         ]
        },
        {
         "marker": {
          "color": "purple",
          "size": 5
         },
         "mode": "markers",
         "name": "dumetella.n.01",
         "opacity": 0.4,
         "text": [
          "dumetella.n.01"
         ],
         "type": "scatter",
         "x": [
          3.3932063579559326
         ],
         "y": [
          0.07211504131555557
         ]
        },
        {
         "marker": {
          "color": "purple",
          "size": 5
         },
         "mode": "markers",
         "name": "cephalopterus.n.01",
         "opacity": 0.4,
         "text": [
          "cephalopterus.n.01"
         ],
         "type": "scatter",
         "x": [
          3.0502355098724365
         ],
         "y": [
          0.3587118983268738
         ]
        },
        {
         "marker": {
          "color": "purple",
          "size": 5
         },
         "mode": "markers",
         "name": "sturnella.n.01",
         "opacity": 0.4,
         "text": [
          "sturnella.n.01"
         ],
         "type": "scatter",
         "x": [
          3.341855764389038
         ],
         "y": [
          -0.12673451006412506
         ]
        },
        {
         "marker": {
          "color": "purple",
          "size": 5
         },
         "mode": "markers",
         "name": "vultur.n.01",
         "opacity": 0.4,
         "text": [
          "vultur.n.01"
         ],
         "type": "scatter",
         "x": [
          3.2431976795196533
         ],
         "y": [
          -0.7399397492408752
         ]
        },
        {
         "marker": {
          "color": "purple",
          "size": 5
         },
         "mode": "markers",
         "name": "lophophorus.n.01",
         "opacity": 0.4,
         "text": [
          "lophophorus.n.01"
         ],
         "type": "scatter",
         "x": [
          3.798849105834961
         ],
         "y": [
          0.12063828855752945
         ]
        },
        {
         "marker": {
          "color": "purple",
          "size": 5
         },
         "mode": "markers",
         "name": "porphyrula.n.01",
         "opacity": 0.4,
         "text": [
          "porphyrula.n.01"
         ],
         "type": "scatter",
         "x": [
          3.326396942138672
         ],
         "y": [
          -0.6395611763000488
         ]
        },
        {
         "marker": {
          "color": "purple",
          "size": 5
         },
         "mode": "markers",
         "name": "turnix.n.01",
         "opacity": 0.4,
         "text": [
          "turnix.n.01"
         ],
         "type": "scatter",
         "x": [
          3.2575926780700684
         ],
         "y": [
          -0.06292173266410828
         ]
        },
        {
         "marker": {
          "color": "purple",
          "size": 5
         },
         "mode": "markers",
         "name": "thryothorus.n.01",
         "opacity": 0.4,
         "text": [
          "thryothorus.n.01"
         ],
         "type": "scatter",
         "x": [
          3.181881904602051
         ],
         "y": [
          -0.6331662535667419
         ]
        },
        {
         "marker": {
          "color": "purple",
          "size": 5
         },
         "mode": "markers",
         "name": "circaetus.n.01",
         "opacity": 0.4,
         "text": [
          "circaetus.n.01"
         ],
         "type": "scatter",
         "x": [
          3.405205011367798
         ],
         "y": [
          0.3018331527709961
         ]
        },
        {
         "marker": {
          "color": "purple",
          "size": 5
         },
         "mode": "markers",
         "name": "salpinctes.n.01",
         "opacity": 0.4,
         "text": [
          "salpinctes.n.01"
         ],
         "type": "scatter",
         "x": [
          3.2272603511810303
         ],
         "y": [
          0.0018285560654476285
         ]
        },
        {
         "marker": {
          "color": "purple",
          "size": 5
         },
         "mode": "markers",
         "name": "circus.n.06",
         "opacity": 0.4,
         "text": [
          "circus.n.06"
         ],
         "type": "scatter",
         "x": [
          3.8653879165649414
         ],
         "y": [
          0.38359180092811584
         ]
        },
        {
         "marker": {
          "color": "purple",
          "size": 5
         },
         "mode": "markers",
         "name": "quiscalus.n.01",
         "opacity": 0.4,
         "text": [
          "quiscalus.n.01"
         ],
         "type": "scatter",
         "x": [
          3.402972936630249
         ],
         "y": [
          0.5820043087005615
         ]
        },
        {
         "marker": {
          "color": "purple",
          "size": 5
         },
         "mode": "markers",
         "name": "tyrannus.n.01",
         "opacity": 0.4,
         "text": [
          "tyrannus.n.01"
         ],
         "type": "scatter",
         "x": [
          3.3416364192962646
         ],
         "y": [
          -0.4813637137413025
         ]
        },
        {
         "marker": {
          "color": "purple",
          "size": 5
         },
         "mode": "markers",
         "name": "chamaea.n.01",
         "opacity": 0.4,
         "text": [
          "chamaea.n.01"
         ],
         "type": "scatter",
         "x": [
          3.0628974437713623
         ],
         "y": [
          0.711576521396637
         ]
        },
        {
         "marker": {
          "color": "purple",
          "size": 5
         },
         "mode": "markers",
         "name": "artamus.n.01",
         "opacity": 0.4,
         "text": [
          "artamus.n.01"
         ],
         "type": "scatter",
         "x": [
          2.7036688327789307
         ],
         "y": [
          -0.5147372484207153
         ]
        },
        {
         "marker": {
          "color": "purple",
          "size": 5
         },
         "mode": "markers",
         "name": "xenorhyncus.n.01",
         "opacity": 0.4,
         "text": [
          "xenorhyncus.n.01"
         ],
         "type": "scatter",
         "x": [
          3.368734121322632
         ],
         "y": [
          0.010970771312713623
         ]
        },
        {
         "marker": {
          "color": "purple",
          "size": 5
         },
         "mode": "markers",
         "name": "oceanites.n.01",
         "opacity": 0.4,
         "text": [
          "oceanites.n.01"
         ],
         "type": "scatter",
         "x": [
          2.6222753524780273
         ],
         "y": [
          -0.5484446883201599
         ]
        },
        {
         "marker": {
          "color": "purple",
          "size": 5
         },
         "mode": "markers",
         "name": "catharacta.n.01",
         "opacity": 0.4,
         "text": [
          "catharacta.n.01"
         ],
         "type": "scatter",
         "x": [
          3.1307132244110107
         ],
         "y": [
          0.8091921210289001
         ]
        },
        {
         "marker": {
          "color": "purple",
          "size": 5
         },
         "mode": "markers",
         "name": "erolia.n.01",
         "opacity": 0.4,
         "text": [
          "erolia.n.01"
         ],
         "type": "scatter",
         "x": [
          3.336721420288086
         ],
         "y": [
          -0.29324114322662354
         ]
        },
        {
         "marker": {
          "color": "purple",
          "size": 5
         },
         "mode": "markers",
         "name": "cursorius.n.01",
         "opacity": 0.4,
         "text": [
          "cursorius.n.01"
         ],
         "type": "scatter",
         "x": [
          2.72805118560791
         ],
         "y": [
          1.5165739059448242
         ]
        },
        {
         "marker": {
          "color": "purple",
          "size": 5
         },
         "mode": "markers",
         "name": "collocalia.n.01",
         "opacity": 0.4,
         "text": [
          "collocalia.n.01"
         ],
         "type": "scatter",
         "x": [
          2.7760190963745117
         ],
         "y": [
          -0.5995957851409912
         ]
        },
        {
         "marker": {
          "color": "purple",
          "size": 5
         },
         "mode": "markers",
         "name": "genus_anhinga.n.01",
         "opacity": 0.4,
         "text": [
          "genus_anhinga.n.01"
         ],
         "type": "scatter",
         "x": [
          3.4383444786071777
         ],
         "y": [
          -0.2651132643222809
         ]
        },
        {
         "marker": {
          "color": "purple",
          "size": 5
         },
         "mode": "markers",
         "name": "dromaius.n.01",
         "opacity": 0.4,
         "text": [
          "dromaius.n.01"
         ],
         "type": "scatter",
         "x": [
          3.3858208656311035
         ],
         "y": [
          0.01578771322965622
         ]
        },
        {
         "marker": {
          "color": "purple",
          "size": 5
         },
         "mode": "markers",
         "name": "gyps.n.01",
         "opacity": 0.4,
         "text": [
          "gyps.n.01"
         ],
         "type": "scatter",
         "x": [
          2.1592330932617188
         ],
         "y": [
          0.08184505999088287
         ]
        },
        {
         "marker": {
          "color": "purple",
          "size": 5
         },
         "mode": "markers",
         "name": "psophia.n.01",
         "opacity": 0.4,
         "text": [
          "psophia.n.01"
         ],
         "type": "scatter",
         "x": [
          4.510617256164551
         ],
         "y": [
          -0.3382740914821625
         ]
        },
        {
         "marker": {
          "color": "purple",
          "size": 5
         },
         "mode": "markers",
         "name": "platalea.n.01",
         "opacity": 0.4,
         "text": [
          "platalea.n.01"
         ],
         "type": "scatter",
         "x": [
          3.2980103492736816
         ],
         "y": [
          0.7240462899208069
         ]
        },
        {
         "marker": {
          "color": "purple",
          "size": 5
         },
         "mode": "markers",
         "name": "chordeiles.n.01",
         "opacity": 0.4,
         "text": [
          "chordeiles.n.01"
         ],
         "type": "scatter",
         "x": [
          3.9210638999938965
         ],
         "y": [
          -0.15875041484832764
         ]
        },
        {
         "marker": {
          "color": "purple",
          "size": 5
         },
         "mode": "markers",
         "name": "strepera.n.01",
         "opacity": 0.4,
         "text": [
          "strepera.n.01"
         ],
         "type": "scatter",
         "x": [
          2.829519271850586
         ],
         "y": [
          0.6968326568603516
         ]
        },
        {
         "marker": {
          "color": "purple",
          "size": 5
         },
         "mode": "markers",
         "name": "chlorura.n.01",
         "opacity": 0.4,
         "text": [
          "chlorura.n.01"
         ],
         "type": "scatter",
         "x": [
          3.27907133102417
         ],
         "y": [
          0.8181490302085876
         ]
        },
        {
         "marker": {
          "color": "purple",
          "size": 5
         },
         "mode": "markers",
         "name": "nestor.n.02",
         "opacity": 0.4,
         "text": [
          "nestor.n.02"
         ],
         "type": "scatter",
         "x": [
          3.180419445037842
         ],
         "y": [
          -0.10174150764942169
         ]
        },
        {
         "marker": {
          "color": "purple",
          "size": 5
         },
         "mode": "markers",
         "name": "aphriza.n.01",
         "opacity": 0.4,
         "text": [
          "aphriza.n.01"
         ],
         "type": "scatter",
         "x": [
          2.9836807250976562
         ],
         "y": [
          -1.517188310623169
         ]
        },
        {
         "marker": {
          "color": "purple",
          "size": 5
         },
         "mode": "markers",
         "name": "neophron.n.01",
         "opacity": 0.4,
         "text": [
          "neophron.n.01"
         ],
         "type": "scatter",
         "x": [
          3.3105204105377197
         ],
         "y": [
          0.8540717959403992
         ]
        },
        {
         "marker": {
          "color": "purple",
          "size": 5
         },
         "mode": "markers",
         "name": "cathartes.n.01",
         "opacity": 0.4,
         "text": [
          "cathartes.n.01"
         ],
         "type": "scatter",
         "x": [
          3.3281333446502686
         ],
         "y": [
          0.018111223354935646
         ]
        },
        {
         "marker": {
          "color": "purple",
          "size": 5
         },
         "mode": "markers",
         "name": "pluvianus.n.01",
         "opacity": 0.4,
         "text": [
          "pluvianus.n.01"
         ],
         "type": "scatter",
         "x": [
          3.0684750080108643
         ],
         "y": [
          0.5636916160583496
         ]
        },
        {
         "marker": {
          "color": "purple",
          "size": 5
         },
         "mode": "markers",
         "name": "muscivora.n.01",
         "opacity": 0.4,
         "text": [
          "muscivora.n.01"
         ],
         "type": "scatter",
         "x": [
          3.31231427192688
         ],
         "y": [
          -0.8823347091674805
         ]
        },
        {
         "marker": {
          "color": "purple",
          "size": 5
         },
         "mode": "markers",
         "name": "argusianus.n.01",
         "opacity": 0.4,
         "text": [
          "argusianus.n.01"
         ],
         "type": "scatter",
         "x": [
          3.765421152114868
         ],
         "y": [
          0.3640713691711426
         ]
        },
        {
         "marker": {
          "color": "purple",
          "size": 5
         },
         "mode": "markers",
         "name": "gymnorhina.n.01",
         "opacity": 0.4,
         "text": [
          "gymnorhina.n.01"
         ],
         "type": "scatter",
         "x": [
          2.898594617843628
         ],
         "y": [
          -0.3334544599056244
         ]
        },
        {
         "marker": {
          "color": "purple",
          "size": 5
         },
         "mode": "markers",
         "name": "heteroscelus.n.01",
         "opacity": 0.4,
         "text": [
          "heteroscelus.n.01"
         ],
         "type": "scatter",
         "x": [
          3.2758357524871826
         ],
         "y": [
          -0.5627290606498718
         ]
        },
        {
         "marker": {
          "color": "purple",
          "size": 5
         },
         "mode": "markers",
         "name": "phaethon.n.02",
         "opacity": 0.4,
         "text": [
          "phaethon.n.02"
         ],
         "type": "scatter",
         "x": [
          2.08886981010437
         ],
         "y": [
          0.5066145658493042
         ]
        },
        {
         "marker": {
          "color": "purple",
          "size": 5
         },
         "mode": "markers",
         "name": "phalaropus.n.01",
         "opacity": 0.4,
         "text": [
          "phalaropus.n.01"
         ],
         "type": "scatter",
         "x": [
          3.0008020401000977
         ],
         "y": [
          -0.7539045810699463
         ]
        },
        {
         "marker": {
          "color": "purple",
          "size": 5
         },
         "mode": "markers",
         "name": "anhima.n.01",
         "opacity": 0.4,
         "text": [
          "anhima.n.01"
         ],
         "type": "scatter",
         "x": [
          3.674142360687256
         ],
         "y": [
          -1.0085736513137817
         ]
        },
        {
         "marker": {
          "color": "purple",
          "size": 5
         },
         "mode": "markers",
         "name": "alectoris.n.01",
         "opacity": 0.4,
         "text": [
          "alectoris.n.01"
         ],
         "type": "scatter",
         "x": [
          3.423300266265869
         ],
         "y": [
          0.14881926774978638
         ]
        },
        {
         "marker": {
          "color": "purple",
          "size": 5
         },
         "mode": "markers",
         "name": "coracias.n.01",
         "opacity": 0.4,
         "text": [
          "coracias.n.01"
         ],
         "type": "scatter",
         "x": [
          3.028625726699829
         ],
         "y": [
          -0.5094720721244812
         ]
        },
        {
         "marker": {
          "color": "purple",
          "size": 5
         },
         "mode": "markers",
         "name": "sitta.n.01",
         "opacity": 0.4,
         "text": [
          "sitta.n.01"
         ],
         "type": "scatter",
         "x": [
          2.8525571823120117
         ],
         "y": [
          0.29613661766052246
         ]
        },
        {
         "marker": {
          "color": "purple",
          "size": 5
         },
         "mode": "markers",
         "name": "gallirallus.n.01",
         "opacity": 0.4,
         "text": [
          "gallirallus.n.01"
         ],
         "type": "scatter",
         "x": [
          3.2671399116516113
         ],
         "y": [
          0.8730627298355103
         ]
        },
        {
         "marker": {
          "color": "purple",
          "size": 5
         },
         "mode": "markers",
         "name": "crocethia.n.01",
         "opacity": 0.4,
         "text": [
          "crocethia.n.01"
         ],
         "type": "scatter",
         "x": [
          3.3387649059295654
         ],
         "y": [
          -0.3978935182094574
         ]
        },
        {
         "marker": {
          "color": "purple",
          "size": 5
         },
         "mode": "markers",
         "name": "luscinia.n.01",
         "opacity": 0.4,
         "text": [
          "luscinia.n.01"
         ],
         "type": "scatter",
         "x": [
          2.177151918411255
         ],
         "y": [
          0.038424767553806305
         ]
        },
        {
         "marker": {
          "color": "purple",
          "size": 5
         },
         "mode": "markers",
         "name": "cyanocitta.n.01",
         "opacity": 0.4,
         "text": [
          "cyanocitta.n.01"
         ],
         "type": "scatter",
         "x": [
          3.317089796066284
         ],
         "y": [
          -0.24136219918727875
         ]
        },
        {
         "marker": {
          "color": "purple",
          "size": 5
         },
         "mode": "markers",
         "name": "aptenodytes.n.01",
         "opacity": 0.4,
         "text": [
          "aptenodytes.n.01"
         ],
         "type": "scatter",
         "x": [
          2.8294131755828857
         ],
         "y": [
          -0.24212618172168732
         ]
        },
        {
         "marker": {
          "color": "purple",
          "size": 5
         },
         "mode": "markers",
         "name": "coragyps.n.01",
         "opacity": 0.4,
         "text": [
          "coragyps.n.01"
         ],
         "type": "scatter",
         "x": [
          3.297262191772461
         ],
         "y": [
          -0.18017549812793732
         ]
        },
        {
         "marker": {
          "color": "purple",
          "size": 5
         },
         "mode": "markers",
         "name": "melospiza.n.01",
         "opacity": 0.4,
         "text": [
          "melospiza.n.01"
         ],
         "type": "scatter",
         "x": [
          3.364492893218994
         ],
         "y": [
          -0.051514532417058945
         ]
        },
        {
         "marker": {
          "color": "purple",
          "size": 5
         },
         "mode": "markers",
         "name": "pernis.n.01",
         "opacity": 0.4,
         "text": [
          "pernis.n.01"
         ],
         "type": "scatter",
         "x": [
          3.3887882232666016
         ],
         "y": [
          0.4943930208683014
         ]
        },
        {
         "marker": {
          "color": "purple",
          "size": 5
         },
         "mode": "markers",
         "name": "glareola.n.01",
         "opacity": 0.4,
         "text": [
          "glareola.n.01"
         ],
         "type": "scatter",
         "x": [
          3.3827648162841797
         ],
         "y": [
          -0.51483553647995
         ]
        },
        {
         "marker": {
          "color": "purple",
          "size": 5
         },
         "mode": "markers",
         "name": "pedionomus.n.01",
         "opacity": 0.4,
         "text": [
          "pedionomus.n.01"
         ],
         "type": "scatter",
         "x": [
          2.1697990894317627
         ],
         "y": [
          -0.006196091417223215
         ]
        },
        {
         "marker": {
          "color": "purple",
          "size": 5
         },
         "mode": "markers",
         "name": "coccothraustes.n.01",
         "opacity": 0.4,
         "text": [
          "coccothraustes.n.01"
         ],
         "type": "scatter",
         "x": [
          3.2807326316833496
         ],
         "y": [
          -0.8733779788017273
         ]
        },
        {
         "marker": {
          "color": "purple",
          "size": 5
         },
         "mode": "markers",
         "name": "fulmarus.n.01",
         "opacity": 0.4,
         "text": [
          "fulmarus.n.01"
         ],
         "type": "scatter",
         "x": [
          2.997432231903076
         ],
         "y": [
          0.07554585486650467
         ]
        },
        {
         "marker": {
          "color": "purple",
          "size": 5
         },
         "mode": "markers",
         "name": "cariama.n.01",
         "opacity": 0.4,
         "text": [
          "cariama.n.01"
         ],
         "type": "scatter",
         "x": [
          3.2785911560058594
         ],
         "y": [
          -0.08685139566659927
         ]
        },
        {
         "marker": {
          "color": "purple",
          "size": 5
         },
         "mode": "markers",
         "name": "ajaia.n.01",
         "opacity": 0.4,
         "text": [
          "ajaia.n.01"
         ],
         "type": "scatter",
         "x": [
          2.77988862991333
         ],
         "y": [
          0.6570941209793091
         ]
        },
        {
         "marker": {
          "color": "purple",
          "size": 5
         },
         "mode": "markers",
         "name": "dinornis.n.01",
         "opacity": 0.4,
         "text": [
          "dinornis.n.01"
         ],
         "type": "scatter",
         "x": [
          3.5467400550842285
         ],
         "y": [
          -0.10151349753141403
         ]
        },
        {
         "marker": {
          "color": "purple",
          "size": 5
         },
         "mode": "markers",
         "name": "alauda.n.01",
         "opacity": 0.4,
         "text": [
          "alauda.n.01"
         ],
         "type": "scatter",
         "x": [
          2.1685001850128174
         ],
         "y": [
          -0.2220713347196579
         ]
        },
        {
         "marker": {
          "color": "purple",
          "size": 5
         },
         "mode": "markers",
         "name": "pyrrhula.n.01",
         "opacity": 0.4,
         "text": [
          "pyrrhula.n.01"
         ],
         "type": "scatter",
         "x": [
          3.3320469856262207
         ],
         "y": [
          -0.1682266891002655
         ]
        },
        {
         "marker": {
          "color": "purple",
          "size": 5
         },
         "mode": "markers",
         "name": "silvia.n.01",
         "opacity": 0.4,
         "text": [
          "silvia.n.01"
         ],
         "type": "scatter",
         "x": [
          3.097944498062134
         ],
         "y": [
          -0.10932030528783798
         ]
        },
        {
         "marker": {
          "color": "purple",
          "size": 5
         },
         "mode": "markers",
         "name": "psaltriparus.n.01",
         "opacity": 0.4,
         "text": [
          "psaltriparus.n.01"
         ],
         "type": "scatter",
         "x": [
          3.08961820602417
         ],
         "y": [
          -0.3774196207523346
         ]
        },
        {
         "marker": {
          "color": "purple",
          "size": 5
         },
         "mode": "markers",
         "name": "haematopus.n.01",
         "opacity": 0.4,
         "text": [
          "haematopus.n.01"
         ],
         "type": "scatter",
         "x": [
          4.355442047119141
         ],
         "y": [
          -0.08939408510923386
         ]
        },
        {
         "marker": {
          "color": "purple",
          "size": 5
         },
         "mode": "markers",
         "name": "pinguinus.n.01",
         "opacity": 0.4,
         "text": [
          "pinguinus.n.01"
         ],
         "type": "scatter",
         "x": [
          2.1698524951934814
         ],
         "y": [
          -0.008804909884929657
         ]
        },
        {
         "marker": {
          "color": "purple",
          "size": 5
         },
         "mode": "markers",
         "name": "buteo.n.01",
         "opacity": 0.4,
         "text": [
          "buteo.n.01"
         ],
         "type": "scatter",
         "x": [
          3.370680570602417
         ],
         "y": [
          1.0540117025375366
         ]
        },
        {
         "marker": {
          "color": "purple",
          "size": 5
         },
         "mode": "markers",
         "name": "lanius.n.01",
         "opacity": 0.4,
         "text": [
          "lanius.n.01"
         ],
         "type": "scatter",
         "x": [
          3.2369580268859863
         ],
         "y": [
          0.44893738627433777
         ]
        },
        {
         "marker": {
          "color": "purple",
          "size": 5
         },
         "mode": "markers",
         "name": "pygoscelis.n.01",
         "opacity": 0.4,
         "text": [
          "pygoscelis.n.01"
         ],
         "type": "scatter",
         "x": [
          2.8335506916046143
         ],
         "y": [
          -0.3368489742279053
         ]
        },
        {
         "marker": {
          "color": "gray",
          "size": 5
         },
         "mode": "markers",
         "name": "garden_centipede.n.01",
         "opacity": 0.4,
         "text": [
          "garden_centipede.n.01"
         ],
         "type": "scatter",
         "x": [
          3.255502939224243
         ],
         "y": [
          0.6838683485984802
         ]
        },
        {
         "marker": {
          "color": "gray",
          "size": 5
         },
         "mode": "markers",
         "name": "crustacean.n.01",
         "opacity": 0.4,
         "text": [
          "crustacean.n.01"
         ],
         "type": "scatter",
         "x": [
          5.340787887573242
         ],
         "y": [
          -0.25633642077445984
         ]
        },
        {
         "marker": {
          "color": "gray",
          "size": 5
         },
         "mode": "markers",
         "name": "insect.n.01",
         "opacity": 0.4,
         "text": [
          "insect.n.01"
         ],
         "type": "scatter",
         "x": [
          5.7302165031433105
         ],
         "y": [
          -0.578871488571167
         ]
        },
        {
         "marker": {
          "color": "gray",
          "size": 5
         },
         "mode": "markers",
         "name": "arachnid.n.01",
         "opacity": 0.4,
         "text": [
          "arachnid.n.01"
         ],
         "type": "scatter",
         "x": [
          4.3923187255859375
         ],
         "y": [
          -0.3223704397678375
         ]
        },
        {
         "marker": {
          "color": "gray",
          "size": 5
         },
         "mode": "markers",
         "name": "merostomata.n.01",
         "opacity": 0.4,
         "text": [
          "merostomata.n.01"
         ],
         "type": "scatter",
         "x": [
          4.234086513519287
         ],
         "y": [
          0.5740060806274414
         ]
        },
        {
         "marker": {
          "color": "gray",
          "size": 5
         },
         "mode": "markers",
         "name": "millipede.n.01",
         "opacity": 0.4,
         "text": [
          "millipede.n.01"
         ],
         "type": "scatter",
         "x": [
          3.5896756649017334
         ],
         "y": [
          -0.7446202039718628
         ]
        },
        {
         "marker": {
          "color": "gray",
          "size": 5
         },
         "mode": "markers",
         "name": "onychophoran.n.01",
         "opacity": 0.4,
         "text": [
          "onychophoran.n.01"
         ],
         "type": "scatter",
         "x": [
          2.778817892074585
         ],
         "y": [
          0.0031445843633264303
         ]
        }
       ],
       "layout": {
        "annotations": [
         {
          "font": {
           "color": "red",
           "size": 12
          },
          "showarrow": false,
          "text": "_hypernym\tgenus.n.02",
          "x": 0.95,
          "xref": "paper",
          "y": 0.95,
          "yref": "paper"
         },
         {
          "font": {
           "color": "blue",
           "size": 12
          },
          "showarrow": false,
          "text": "_hypernym\tdog.n.01",
          "x": 0.95,
          "xref": "paper",
          "y": 0.8999999999999999,
          "yref": "paper"
         },
         {
          "font": {
           "color": "orange",
           "size": 12
          },
          "showarrow": false,
          "text": "_hypernym\tclothing.n.01",
          "x": 0.95,
          "xref": "paper",
          "y": 0.85,
          "yref": "paper"
         },
         {
          "font": {
           "color": "green",
           "size": 12
          },
          "showarrow": false,
          "text": "_hypernym\tplant_genus.n.01",
          "x": 0.95,
          "xref": "paper",
          "y": 0.7999999999999999,
          "yref": "paper"
         },
         {
          "font": {
           "color": "yellow",
           "size": 12
          },
          "showarrow": false,
          "text": "_hypernym\tmammal_genus.n.01",
          "x": 0.95,
          "xref": "paper",
          "y": 0.75,
          "yref": "paper"
         },
         {
          "font": {
           "color": "purple",
           "size": 12
          },
          "showarrow": false,
          "text": "_hypernym\tbird_genus.n.01",
          "x": 0.95,
          "xref": "paper",
          "y": 0.7,
          "yref": "paper"
         },
         {
          "font": {
           "color": "gray",
           "size": 12
          },
          "showarrow": false,
          "text": "_hypernym\tarthropod.n.01",
          "x": 0.95,
          "xref": "paper",
          "y": 0.6499999999999999,
          "yref": "paper"
         },
         {
          "font": {
           "size": 20
          },
          "showarrow": false,
          "text": "HAKE",
          "x": 0.5,
          "xref": "paper",
          "y": 1.1,
          "yref": "paper"
         }
        ],
        "height": 500,
        "showlegend": false,
        "template": {
         "data": {
          "bar": [
           {
            "error_x": {
             "color": "#2a3f5f"
            },
            "error_y": {
             "color": "#2a3f5f"
            },
            "marker": {
             "line": {
              "color": "#E5ECF6",
              "width": 0.5
             },
             "pattern": {
              "fillmode": "overlay",
              "size": 10,
              "solidity": 0.2
             }
            },
            "type": "bar"
           }
          ],
          "barpolar": [
           {
            "marker": {
             "line": {
              "color": "#E5ECF6",
              "width": 0.5
             },
             "pattern": {
              "fillmode": "overlay",
              "size": 10,
              "solidity": 0.2
             }
            },
            "type": "barpolar"
           }
          ],
          "carpet": [
           {
            "aaxis": {
             "endlinecolor": "#2a3f5f",
             "gridcolor": "white",
             "linecolor": "white",
             "minorgridcolor": "white",
             "startlinecolor": "#2a3f5f"
            },
            "baxis": {
             "endlinecolor": "#2a3f5f",
             "gridcolor": "white",
             "linecolor": "white",
             "minorgridcolor": "white",
             "startlinecolor": "#2a3f5f"
            },
            "type": "carpet"
           }
          ],
          "choropleth": [
           {
            "colorbar": {
             "outlinewidth": 0,
             "ticks": ""
            },
            "type": "choropleth"
           }
          ],
          "contour": [
           {
            "colorbar": {
             "outlinewidth": 0,
             "ticks": ""
            },
            "colorscale": [
             [
              0,
              "#0d0887"
             ],
             [
              0.1111111111111111,
              "#46039f"
             ],
             [
              0.2222222222222222,
              "#7201a8"
             ],
             [
              0.3333333333333333,
              "#9c179e"
             ],
             [
              0.4444444444444444,
              "#bd3786"
             ],
             [
              0.5555555555555556,
              "#d8576b"
             ],
             [
              0.6666666666666666,
              "#ed7953"
             ],
             [
              0.7777777777777778,
              "#fb9f3a"
             ],
             [
              0.8888888888888888,
              "#fdca26"
             ],
             [
              1,
              "#f0f921"
             ]
            ],
            "type": "contour"
           }
          ],
          "contourcarpet": [
           {
            "colorbar": {
             "outlinewidth": 0,
             "ticks": ""
            },
            "type": "contourcarpet"
           }
          ],
          "heatmap": [
           {
            "colorbar": {
             "outlinewidth": 0,
             "ticks": ""
            },
            "colorscale": [
             [
              0,
              "#0d0887"
             ],
             [
              0.1111111111111111,
              "#46039f"
             ],
             [
              0.2222222222222222,
              "#7201a8"
             ],
             [
              0.3333333333333333,
              "#9c179e"
             ],
             [
              0.4444444444444444,
              "#bd3786"
             ],
             [
              0.5555555555555556,
              "#d8576b"
             ],
             [
              0.6666666666666666,
              "#ed7953"
             ],
             [
              0.7777777777777778,
              "#fb9f3a"
             ],
             [
              0.8888888888888888,
              "#fdca26"
             ],
             [
              1,
              "#f0f921"
             ]
            ],
            "type": "heatmap"
           }
          ],
          "heatmapgl": [
           {
            "colorbar": {
             "outlinewidth": 0,
             "ticks": ""
            },
            "colorscale": [
             [
              0,
              "#0d0887"
             ],
             [
              0.1111111111111111,
              "#46039f"
             ],
             [
              0.2222222222222222,
              "#7201a8"
             ],
             [
              0.3333333333333333,
              "#9c179e"
             ],
             [
              0.4444444444444444,
              "#bd3786"
             ],
             [
              0.5555555555555556,
              "#d8576b"
             ],
             [
              0.6666666666666666,
              "#ed7953"
             ],
             [
              0.7777777777777778,
              "#fb9f3a"
             ],
             [
              0.8888888888888888,
              "#fdca26"
             ],
             [
              1,
              "#f0f921"
             ]
            ],
            "type": "heatmapgl"
           }
          ],
          "histogram": [
           {
            "marker": {
             "pattern": {
              "fillmode": "overlay",
              "size": 10,
              "solidity": 0.2
             }
            },
            "type": "histogram"
           }
          ],
          "histogram2d": [
           {
            "colorbar": {
             "outlinewidth": 0,
             "ticks": ""
            },
            "colorscale": [
             [
              0,
              "#0d0887"
             ],
             [
              0.1111111111111111,
              "#46039f"
             ],
             [
              0.2222222222222222,
              "#7201a8"
             ],
             [
              0.3333333333333333,
              "#9c179e"
             ],
             [
              0.4444444444444444,
              "#bd3786"
             ],
             [
              0.5555555555555556,
              "#d8576b"
             ],
             [
              0.6666666666666666,
              "#ed7953"
             ],
             [
              0.7777777777777778,
              "#fb9f3a"
             ],
             [
              0.8888888888888888,
              "#fdca26"
             ],
             [
              1,
              "#f0f921"
             ]
            ],
            "type": "histogram2d"
           }
          ],
          "histogram2dcontour": [
           {
            "colorbar": {
             "outlinewidth": 0,
             "ticks": ""
            },
            "colorscale": [
             [
              0,
              "#0d0887"
             ],
             [
              0.1111111111111111,
              "#46039f"
             ],
             [
              0.2222222222222222,
              "#7201a8"
             ],
             [
              0.3333333333333333,
              "#9c179e"
             ],
             [
              0.4444444444444444,
              "#bd3786"
             ],
             [
              0.5555555555555556,
              "#d8576b"
             ],
             [
              0.6666666666666666,
              "#ed7953"
             ],
             [
              0.7777777777777778,
              "#fb9f3a"
             ],
             [
              0.8888888888888888,
              "#fdca26"
             ],
             [
              1,
              "#f0f921"
             ]
            ],
            "type": "histogram2dcontour"
           }
          ],
          "mesh3d": [
           {
            "colorbar": {
             "outlinewidth": 0,
             "ticks": ""
            },
            "type": "mesh3d"
           }
          ],
          "parcoords": [
           {
            "line": {
             "colorbar": {
              "outlinewidth": 0,
              "ticks": ""
             }
            },
            "type": "parcoords"
           }
          ],
          "pie": [
           {
            "automargin": true,
            "type": "pie"
           }
          ],
          "scatter": [
           {
            "fillpattern": {
             "fillmode": "overlay",
             "size": 10,
             "solidity": 0.2
            },
            "type": "scatter"
           }
          ],
          "scatter3d": [
           {
            "line": {
             "colorbar": {
              "outlinewidth": 0,
              "ticks": ""
             }
            },
            "marker": {
             "colorbar": {
              "outlinewidth": 0,
              "ticks": ""
             }
            },
            "type": "scatter3d"
           }
          ],
          "scattercarpet": [
           {
            "marker": {
             "colorbar": {
              "outlinewidth": 0,
              "ticks": ""
             }
            },
            "type": "scattercarpet"
           }
          ],
          "scattergeo": [
           {
            "marker": {
             "colorbar": {
              "outlinewidth": 0,
              "ticks": ""
             }
            },
            "type": "scattergeo"
           }
          ],
          "scattergl": [
           {
            "marker": {
             "colorbar": {
              "outlinewidth": 0,
              "ticks": ""
             }
            },
            "type": "scattergl"
           }
          ],
          "scattermapbox": [
           {
            "marker": {
             "colorbar": {
              "outlinewidth": 0,
              "ticks": ""
             }
            },
            "type": "scattermapbox"
           }
          ],
          "scatterpolar": [
           {
            "marker": {
             "colorbar": {
              "outlinewidth": 0,
              "ticks": ""
             }
            },
            "type": "scatterpolar"
           }
          ],
          "scatterpolargl": [
           {
            "marker": {
             "colorbar": {
              "outlinewidth": 0,
              "ticks": ""
             }
            },
            "type": "scatterpolargl"
           }
          ],
          "scatterternary": [
           {
            "marker": {
             "colorbar": {
              "outlinewidth": 0,
              "ticks": ""
             }
            },
            "type": "scatterternary"
           }
          ],
          "surface": [
           {
            "colorbar": {
             "outlinewidth": 0,
             "ticks": ""
            },
            "colorscale": [
             [
              0,
              "#0d0887"
             ],
             [
              0.1111111111111111,
              "#46039f"
             ],
             [
              0.2222222222222222,
              "#7201a8"
             ],
             [
              0.3333333333333333,
              "#9c179e"
             ],
             [
              0.4444444444444444,
              "#bd3786"
             ],
             [
              0.5555555555555556,
              "#d8576b"
             ],
             [
              0.6666666666666666,
              "#ed7953"
             ],
             [
              0.7777777777777778,
              "#fb9f3a"
             ],
             [
              0.8888888888888888,
              "#fdca26"
             ],
             [
              1,
              "#f0f921"
             ]
            ],
            "type": "surface"
           }
          ],
          "table": [
           {
            "cells": {
             "fill": {
              "color": "#EBF0F8"
             },
             "line": {
              "color": "white"
             }
            },
            "header": {
             "fill": {
              "color": "#C8D4E3"
             },
             "line": {
              "color": "white"
             }
            },
            "type": "table"
           }
          ]
         },
         "layout": {
          "annotationdefaults": {
           "arrowcolor": "#2a3f5f",
           "arrowhead": 0,
           "arrowwidth": 1
          },
          "autotypenumbers": "strict",
          "coloraxis": {
           "colorbar": {
            "outlinewidth": 0,
            "ticks": ""
           }
          },
          "colorscale": {
           "diverging": [
            [
             0,
             "#8e0152"
            ],
            [
             0.1,
             "#c51b7d"
            ],
            [
             0.2,
             "#de77ae"
            ],
            [
             0.3,
             "#f1b6da"
            ],
            [
             0.4,
             "#fde0ef"
            ],
            [
             0.5,
             "#f7f7f7"
            ],
            [
             0.6,
             "#e6f5d0"
            ],
            [
             0.7,
             "#b8e186"
            ],
            [
             0.8,
             "#7fbc41"
            ],
            [
             0.9,
             "#4d9221"
            ],
            [
             1,
             "#276419"
            ]
           ],
           "sequential": [
            [
             0,
             "#0d0887"
            ],
            [
             0.1111111111111111,
             "#46039f"
            ],
            [
             0.2222222222222222,
             "#7201a8"
            ],
            [
             0.3333333333333333,
             "#9c179e"
            ],
            [
             0.4444444444444444,
             "#bd3786"
            ],
            [
             0.5555555555555556,
             "#d8576b"
            ],
            [
             0.6666666666666666,
             "#ed7953"
            ],
            [
             0.7777777777777778,
             "#fb9f3a"
            ],
            [
             0.8888888888888888,
             "#fdca26"
            ],
            [
             1,
             "#f0f921"
            ]
           ],
           "sequentialminus": [
            [
             0,
             "#0d0887"
            ],
            [
             0.1111111111111111,
             "#46039f"
            ],
            [
             0.2222222222222222,
             "#7201a8"
            ],
            [
             0.3333333333333333,
             "#9c179e"
            ],
            [
             0.4444444444444444,
             "#bd3786"
            ],
            [
             0.5555555555555556,
             "#d8576b"
            ],
            [
             0.6666666666666666,
             "#ed7953"
            ],
            [
             0.7777777777777778,
             "#fb9f3a"
            ],
            [
             0.8888888888888888,
             "#fdca26"
            ],
            [
             1,
             "#f0f921"
            ]
           ]
          },
          "colorway": [
           "#636efa",
           "#EF553B",
           "#00cc96",
           "#ab63fa",
           "#FFA15A",
           "#19d3f3",
           "#FF6692",
           "#B6E880",
           "#FF97FF",
           "#FECB52"
          ],
          "font": {
           "color": "#2a3f5f"
          },
          "geo": {
           "bgcolor": "white",
           "lakecolor": "white",
           "landcolor": "#E5ECF6",
           "showlakes": true,
           "showland": true,
           "subunitcolor": "white"
          },
          "hoverlabel": {
           "align": "left"
          },
          "hovermode": "closest",
          "mapbox": {
           "style": "light"
          },
          "paper_bgcolor": "white",
          "plot_bgcolor": "#E5ECF6",
          "polar": {
           "angularaxis": {
            "gridcolor": "white",
            "linecolor": "white",
            "ticks": ""
           },
           "bgcolor": "#E5ECF6",
           "radialaxis": {
            "gridcolor": "white",
            "linecolor": "white",
            "ticks": ""
           }
          },
          "scene": {
           "xaxis": {
            "backgroundcolor": "#E5ECF6",
            "gridcolor": "white",
            "gridwidth": 2,
            "linecolor": "white",
            "showbackground": true,
            "ticks": "",
            "zerolinecolor": "white"
           },
           "yaxis": {
            "backgroundcolor": "#E5ECF6",
            "gridcolor": "white",
            "gridwidth": 2,
            "linecolor": "white",
            "showbackground": true,
            "ticks": "",
            "zerolinecolor": "white"
           },
           "zaxis": {
            "backgroundcolor": "#E5ECF6",
            "gridcolor": "white",
            "gridwidth": 2,
            "linecolor": "white",
            "showbackground": true,
            "ticks": "",
            "zerolinecolor": "white"
           }
          },
          "shapedefaults": {
           "line": {
            "color": "#2a3f5f"
           }
          },
          "ternary": {
           "aaxis": {
            "gridcolor": "white",
            "linecolor": "white",
            "ticks": ""
           },
           "baxis": {
            "gridcolor": "white",
            "linecolor": "white",
            "ticks": ""
           },
           "bgcolor": "#E5ECF6",
           "caxis": {
            "gridcolor": "white",
            "linecolor": "white",
            "ticks": ""
           }
          },
          "title": {
           "x": 0.05
          },
          "xaxis": {
           "automargin": true,
           "gridcolor": "white",
           "linecolor": "white",
           "ticks": "",
           "title": {
            "standoff": 15
           },
           "zerolinecolor": "white",
           "zerolinewidth": 2
          },
          "yaxis": {
           "automargin": true,
           "gridcolor": "white",
           "linecolor": "white",
           "ticks": "",
           "title": {
            "standoff": 15
           },
           "zerolinecolor": "white",
           "zerolinewidth": 2
          }
         }
        },
        "title": {
         "text": ""
        },
        "width": 550,
        "xaxis": {
         "scaleanchor": "y",
         "scaleratio": 1
        },
        "yaxis": {
         "scaleanchor": "x",
         "scaleratio": 1,
         "title": {
          "text": " "
         }
        }
       }
      },
      "text/html": [
       "<div>                            <div id=\"99e93764-45ee-4e1f-94db-208056c43c9a\" class=\"plotly-graph-div\" style=\"height:500px; width:550px;\"></div>            <script type=\"text/javascript\">                require([\"plotly\"], function(Plotly) {                    window.PLOTLYENV=window.PLOTLYENV || {};                                    if (document.getElementById(\"99e93764-45ee-4e1f-94db-208056c43c9a\")) {                    Plotly.newPlot(                        \"99e93764-45ee-4e1f-94db-208056c43c9a\",                        [{\"marker\":{\"color\":\"red\",\"size\":5},\"mode\":\"markers\",\"name\":\"fern_genus.n.01\",\"opacity\":0.4,\"text\":[\"fern_genus.n.01\"],\"x\":[4.6193318367004395],\"y\":[0.4194396436214447],\"type\":\"scatter\"},{\"marker\":{\"color\":\"red\",\"size\":5},\"mode\":\"markers\",\"name\":\"gymnosperm_genus.n.01\",\"opacity\":0.4,\"text\":[\"gymnosperm_genus.n.01\"],\"x\":[4.830246448516846],\"y\":[-0.1730724424123764],\"type\":\"scatter\"},{\"marker\":{\"color\":\"red\",\"size\":5},\"mode\":\"markers\",\"name\":\"mammal_genus.n.01\",\"opacity\":0.4,\"text\":[\"mammal_genus.n.01\"],\"x\":[6.198640823364258],\"y\":[0.6886889338493347],\"type\":\"scatter\"},{\"marker\":{\"color\":\"red\",\"size\":5},\"mode\":\"markers\",\"name\":\"monocot_genus.n.01\",\"opacity\":0.4,\"text\":[\"monocot_genus.n.01\"],\"x\":[5.355434417724609],\"y\":[-0.27850326895713806],\"type\":\"scatter\"},{\"marker\":{\"color\":\"red\",\"size\":5},\"mode\":\"markers\",\"name\":\"fungus_genus.n.01\",\"opacity\":0.4,\"text\":[\"fungus_genus.n.01\"],\"x\":[4.732311248779297],\"y\":[-1.0651057958602905],\"type\":\"scatter\"},{\"marker\":{\"color\":\"red\",\"size\":5},\"mode\":\"markers\",\"name\":\"protoctist_genus.n.01\",\"opacity\":0.4,\"text\":[\"protoctist_genus.n.01\"],\"x\":[3.9138989448547363],\"y\":[1.34881591796875],\"type\":\"scatter\"},{\"marker\":{\"color\":\"red\",\"size\":5},\"mode\":\"markers\",\"name\":\"mollusk_genus.n.01\",\"opacity\":0.4,\"text\":[\"mollusk_genus.n.01\"],\"x\":[4.7417826652526855],\"y\":[-1.8245872259140015],\"type\":\"scatter\"},{\"marker\":{\"color\":\"red\",\"size\":5},\"mode\":\"markers\",\"name\":\"amphibian_genus.n.01\",\"opacity\":0.4,\"text\":[\"amphibian_genus.n.01\"],\"x\":[4.917216777801514],\"y\":[-0.19753576815128326],\"type\":\"scatter\"},{\"marker\":{\"color\":\"red\",\"size\":5},\"mode\":\"markers\",\"name\":\"fish_genus.n.01\",\"opacity\":0.4,\"text\":[\"fish_genus.n.01\"],\"x\":[5.788489818572998],\"y\":[0.40829044580459595],\"type\":\"scatter\"},{\"marker\":{\"color\":\"red\",\"size\":5},\"mode\":\"markers\",\"name\":\"bird_genus.n.01\",\"opacity\":0.4,\"text\":[\"bird_genus.n.01\"],\"x\":[6.055827617645264],\"y\":[-0.5912803411483765],\"type\":\"scatter\"},{\"marker\":{\"color\":\"red\",\"size\":5},\"mode\":\"markers\",\"name\":\"dicot_genus.n.01\",\"opacity\":0.4,\"text\":[\"dicot_genus.n.01\"],\"x\":[6.553848743438721],\"y\":[1.2411715984344482],\"type\":\"scatter\"},{\"marker\":{\"color\":\"red\",\"size\":5},\"mode\":\"markers\",\"name\":\"arthropod_genus.n.01\",\"opacity\":0.4,\"text\":[\"arthropod_genus.n.01\"],\"x\":[5.64391565322876],\"y\":[-0.7238948941230774],\"type\":\"scatter\"},{\"marker\":{\"color\":\"red\",\"size\":5},\"mode\":\"markers\",\"name\":\"reptile_genus.n.01\",\"opacity\":0.4,\"text\":[\"reptile_genus.n.01\"],\"x\":[5.274801731109619],\"y\":[-0.7320050597190857],\"type\":\"scatter\"},{\"marker\":{\"color\":\"red\",\"size\":5},\"mode\":\"markers\",\"name\":\"echinoderm_genus.n.01\",\"opacity\":0.4,\"text\":[\"echinoderm_genus.n.01\"],\"x\":[3.797030448913574],\"y\":[-0.842170000076294],\"type\":\"scatter\"},{\"marker\":{\"color\":\"red\",\"size\":5},\"mode\":\"markers\",\"name\":\"coelenterate_genus.n.01\",\"opacity\":0.4,\"text\":[\"coelenterate_genus.n.01\"],\"x\":[4.263830184936523],\"y\":[0.03676137700676918],\"type\":\"scatter\"},{\"marker\":{\"color\":\"red\",\"size\":5},\"mode\":\"markers\",\"name\":\"worm_genus.n.01\",\"opacity\":0.4,\"text\":[\"worm_genus.n.01\"],\"x\":[4.45510721206665],\"y\":[0.5508966445922852],\"type\":\"scatter\"},{\"marker\":{\"color\":\"red\",\"size\":5},\"mode\":\"markers\",\"name\":\"bacteria_genus.n.01\",\"opacity\":0.4,\"text\":[\"bacteria_genus.n.01\"],\"x\":[4.518492698669434],\"y\":[0.13542672991752625],\"type\":\"scatter\"},{\"marker\":{\"color\":\"red\",\"size\":5},\"mode\":\"markers\",\"name\":\"chordate_genus.n.01\",\"opacity\":0.4,\"text\":[\"chordate_genus.n.01\"],\"x\":[4.06186056137085],\"y\":[0.6011813879013062],\"type\":\"scatter\"},{\"marker\":{\"color\":\"red\",\"size\":5},\"mode\":\"markers\",\"name\":\"ctenophore_genus.n.01\",\"opacity\":0.4,\"text\":[\"ctenophore_genus.n.01\"],\"x\":[3.896160364151001],\"y\":[0.0913359597325325],\"type\":\"scatter\"},{\"marker\":{\"color\":\"blue\",\"size\":5},\"mode\":\"markers\",\"name\":\"working_dog.n.01\",\"opacity\":0.4,\"text\":[\"working_dog.n.01\"],\"x\":[3.4367194175720215],\"y\":[1.2038847208023071],\"type\":\"scatter\"},{\"marker\":{\"color\":\"blue\",\"size\":5},\"mode\":\"markers\",\"name\":\"hunting_dog.n.01\",\"opacity\":0.4,\"text\":[\"hunting_dog.n.01\"],\"x\":[5.3864288330078125],\"y\":[0.9049273729324341],\"type\":\"scatter\"},{\"marker\":{\"color\":\"blue\",\"size\":5},\"mode\":\"markers\",\"name\":\"griffon.n.02\",\"opacity\":0.4,\"text\":[\"griffon.n.02\"],\"x\":[2.876943349838257],\"y\":[0.7432229518890381],\"type\":\"scatter\"},{\"marker\":{\"color\":\"blue\",\"size\":5},\"mode\":\"markers\",\"name\":\"toy_dog.n.01\",\"opacity\":0.4,\"text\":[\"toy_dog.n.01\"],\"x\":[2.87754487991333],\"y\":[-0.3149154782295227],\"type\":\"scatter\"},{\"marker\":{\"color\":\"blue\",\"size\":5},\"mode\":\"markers\",\"name\":\"cur.n.01\",\"opacity\":0.4,\"text\":[\"cur.n.01\"],\"x\":[3.416640281677246],\"y\":[0.3609273433685303],\"type\":\"scatter\"},{\"marker\":{\"color\":\"blue\",\"size\":5},\"mode\":\"markers\",\"name\":\"pooch.n.01\",\"opacity\":0.4,\"text\":[\"pooch.n.01\"],\"x\":[3.7309889793395996],\"y\":[1.1344010829925537],\"type\":\"scatter\"},{\"marker\":{\"color\":\"blue\",\"size\":5},\"mode\":\"markers\",\"name\":\"corgi.n.01\",\"opacity\":0.4,\"text\":[\"corgi.n.01\"],\"x\":[2.821420669555664],\"y\":[-0.5445311069488525],\"type\":\"scatter\"},{\"marker\":{\"color\":\"blue\",\"size\":5},\"mode\":\"markers\",\"name\":\"dalmatian.n.02\",\"opacity\":0.4,\"text\":[\"dalmatian.n.02\"],\"x\":[2.8438804149627686],\"y\":[0.1461338847875595],\"type\":\"scatter\"},{\"marker\":{\"color\":\"blue\",\"size\":5},\"mode\":\"markers\",\"name\":\"poodle.n.01\",\"opacity\":0.4,\"text\":[\"poodle.n.01\"],\"x\":[2.7979187965393066],\"y\":[0.6049323081970215],\"type\":\"scatter\"},{\"marker\":{\"color\":\"blue\",\"size\":5},\"mode\":\"markers\",\"name\":\"spitz.n.01\",\"opacity\":0.4,\"text\":[\"spitz.n.01\"],\"x\":[2.976341724395752],\"y\":[-0.32197046279907227],\"type\":\"scatter\"},{\"marker\":{\"color\":\"orange\",\"size\":5},\"mode\":\"markers\",\"name\":\"protective_garment.n.01\",\"opacity\":0.4,\"text\":[\"protective_garment.n.01\"],\"x\":[4.006371974945068],\"y\":[0.367766410112381],\"type\":\"scatter\"},{\"marker\":{\"color\":\"orange\",\"size\":5},\"mode\":\"markers\",\"name\":\"attire.n.01\",\"opacity\":0.4,\"text\":[\"attire.n.01\"],\"x\":[5.15187931060791],\"y\":[-0.19329415261745453],\"type\":\"scatter\"},{\"marker\":{\"color\":\"orange\",\"size\":5},\"mode\":\"markers\",\"name\":\"headdress.n.01\",\"opacity\":0.4,\"text\":[\"headdress.n.01\"],\"x\":[4.545641899108887],\"y\":[1.7165262699127197],\"type\":\"scatter\"},{\"marker\":{\"color\":\"orange\",\"size\":5},\"mode\":\"markers\",\"name\":\"garment.n.01\",\"opacity\":0.4,\"text\":[\"garment.n.01\"],\"x\":[4.846829891204834],\"y\":[1.5530335903167725],\"type\":\"scatter\"},{\"marker\":{\"color\":\"orange\",\"size\":5},\"mode\":\"markers\",\"name\":\"ready-to-wear.n.01\",\"opacity\":0.4,\"text\":[\"ready-to-wear.n.01\"],\"x\":[2.6035587787628174],\"y\":[0.057243432849645615],\"type\":\"scatter\"},{\"marker\":{\"color\":\"orange\",\"size\":5},\"mode\":\"markers\",\"name\":\"apparel.n.01\",\"opacity\":0.4,\"text\":[\"apparel.n.01\"],\"x\":[5.136193752288818],\"y\":[0.3720763623714447],\"type\":\"scatter\"},{\"marker\":{\"color\":\"orange\",\"size\":5},\"mode\":\"markers\",\"name\":\"change.n.07\",\"opacity\":0.4,\"text\":[\"change.n.07\"],\"x\":[4.045510768890381],\"y\":[0.7507399916648865],\"type\":\"scatter\"},{\"marker\":{\"color\":\"orange\",\"size\":5},\"mode\":\"markers\",\"name\":\"array.n.03\",\"opacity\":0.4,\"text\":[\"array.n.03\"],\"x\":[4.173712730407715],\"y\":[-0.385390967130661],\"type\":\"scatter\"},{\"marker\":{\"color\":\"orange\",\"size\":5},\"mode\":\"markers\",\"name\":\"man's_clothing.n.01\",\"opacity\":0.4,\"text\":[\"man's_clothing.n.01\"],\"x\":[3.8257133960723877],\"y\":[-1.8217780590057373],\"type\":\"scatter\"},{\"marker\":{\"color\":\"orange\",\"size\":5},\"mode\":\"markers\",\"name\":\"nightwear.n.01\",\"opacity\":0.4,\"text\":[\"nightwear.n.01\"],\"x\":[4.023809432983398],\"y\":[0.16905125975608826],\"type\":\"scatter\"},{\"marker\":{\"color\":\"orange\",\"size\":5},\"mode\":\"markers\",\"name\":\"handwear.n.01\",\"opacity\":0.4,\"text\":[\"handwear.n.01\"],\"x\":[4.17677640914917],\"y\":[1.2043946981430054],\"type\":\"scatter\"},{\"marker\":{\"color\":\"orange\",\"size\":5},\"mode\":\"markers\",\"name\":\"black.n.07\",\"opacity\":0.4,\"text\":[\"black.n.07\"],\"x\":[2.561368465423584],\"y\":[-0.15408770740032196],\"type\":\"scatter\"},{\"marker\":{\"color\":\"orange\",\"size\":5},\"mode\":\"markers\",\"name\":\"footwear.n.01\",\"opacity\":0.4,\"text\":[\"footwear.n.01\"],\"x\":[4.763676643371582],\"y\":[0.35177919268608093],\"type\":\"scatter\"},{\"marker\":{\"color\":\"orange\",\"size\":5},\"mode\":\"markers\",\"name\":\"tailor-made.n.01\",\"opacity\":0.4,\"text\":[\"tailor-made.n.01\"],\"x\":[2.5705885887145996],\"y\":[0.474793016910553],\"type\":\"scatter\"},{\"marker\":{\"color\":\"orange\",\"size\":5},\"mode\":\"markers\",\"name\":\"outerwear.n.01\",\"opacity\":0.4,\"text\":[\"outerwear.n.01\"],\"x\":[3.8804309368133545],\"y\":[0.3697245419025421],\"type\":\"scatter\"},{\"marker\":{\"color\":\"orange\",\"size\":5},\"mode\":\"markers\",\"name\":\"woman's_clothing.n.01\",\"opacity\":0.4,\"text\":[\"woman's_clothing.n.01\"],\"x\":[4.436648845672607],\"y\":[-1.5200226306915283],\"type\":\"scatter\"},{\"marker\":{\"color\":\"orange\",\"size\":5},\"mode\":\"markers\",\"name\":\"street_clothes.n.01\",\"opacity\":0.4,\"text\":[\"street_clothes.n.01\"],\"x\":[3.7975032329559326],\"y\":[-0.5779514908790588],\"type\":\"scatter\"},{\"marker\":{\"color\":\"orange\",\"size\":5},\"mode\":\"markers\",\"name\":\"drag.n.04\",\"opacity\":0.4,\"text\":[\"drag.n.04\"],\"x\":[2.558922529220581],\"y\":[-0.20508119463920593],\"type\":\"scatter\"},{\"marker\":{\"color\":\"orange\",\"size\":5},\"mode\":\"markers\",\"name\":\"vestiture.n.01\",\"opacity\":0.4,\"text\":[\"vestiture.n.01\"],\"x\":[2.5396015644073486],\"y\":[0.15521648526191711],\"type\":\"scatter\"},{\"marker\":{\"color\":\"orange\",\"size\":5},\"mode\":\"markers\",\"name\":\"civilian_clothing.n.01\",\"opacity\":0.4,\"text\":[\"civilian_clothing.n.01\"],\"x\":[3.4671220779418945],\"y\":[0.430165559053421],\"type\":\"scatter\"},{\"marker\":{\"color\":\"orange\",\"size\":5},\"mode\":\"markers\",\"name\":\"slip-on.n.01\",\"opacity\":0.4,\"text\":[\"slip-on.n.01\"],\"x\":[2.8962297439575195],\"y\":[0.5920319557189941],\"type\":\"scatter\"},{\"marker\":{\"color\":\"orange\",\"size\":5},\"mode\":\"markers\",\"name\":\"grey.n.06\",\"opacity\":0.4,\"text\":[\"grey.n.06\"],\"x\":[2.676053762435913],\"y\":[0.16651950776576996],\"type\":\"scatter\"},{\"marker\":{\"color\":\"orange\",\"size\":5},\"mode\":\"markers\",\"name\":\"accessory.n.01\",\"opacity\":0.4,\"text\":[\"accessory.n.01\"],\"x\":[4.249513626098633],\"y\":[-0.06972678750753403],\"type\":\"scatter\"},{\"marker\":{\"color\":\"orange\",\"size\":5},\"mode\":\"markers\",\"name\":\"leisure_wear.n.01\",\"opacity\":0.4,\"text\":[\"leisure_wear.n.01\"],\"x\":[2.5165884494781494],\"y\":[0.7296229600906372],\"type\":\"scatter\"},{\"marker\":{\"color\":\"orange\",\"size\":5},\"mode\":\"markers\",\"name\":\"blue.n.02\",\"opacity\":0.4,\"text\":[\"blue.n.02\"],\"x\":[2.582063913345337],\"y\":[0.36795634031295776],\"type\":\"scatter\"},{\"marker\":{\"color\":\"orange\",\"size\":5},\"mode\":\"markers\",\"name\":\"slops.n.02\",\"opacity\":0.4,\"text\":[\"slops.n.02\"],\"x\":[2.539350986480713],\"y\":[0.3118949830532074],\"type\":\"scatter\"},{\"marker\":{\"color\":\"orange\",\"size\":5},\"mode\":\"markers\",\"name\":\"beachwear.n.01\",\"opacity\":0.4,\"text\":[\"beachwear.n.01\"],\"x\":[2.529306650161743],\"y\":[0.1020541787147522],\"type\":\"scatter\"},{\"marker\":{\"color\":\"orange\",\"size\":5},\"mode\":\"markers\",\"name\":\"neckpiece.n.01\",\"opacity\":0.4,\"text\":[\"neckpiece.n.01\"],\"x\":[2.611482858657837],\"y\":[0.2117384374141693],\"type\":\"scatter\"},{\"marker\":{\"color\":\"green\",\"size\":5},\"mode\":\"markers\",\"name\":\"arrhenatherum.n.01\",\"opacity\":0.4,\"text\":[\"arrhenatherum.n.01\"],\"x\":[3.805551290512085],\"y\":[0.463646799325943],\"type\":\"scatter\"},{\"marker\":{\"color\":\"green\",\"size\":5},\"mode\":\"markers\",\"name\":\"erythroxylon.n.01\",\"opacity\":0.4,\"text\":[\"erythroxylon.n.01\"],\"x\":[3.4214847087860107],\"y\":[-0.17398542165756226],\"type\":\"scatter\"},{\"marker\":{\"color\":\"green\",\"size\":5},\"mode\":\"markers\",\"name\":\"cynoglossum.n.01\",\"opacity\":0.4,\"text\":[\"cynoglossum.n.01\"],\"x\":[3.3175880908966064],\"y\":[0.16004332900047302],\"type\":\"scatter\"},{\"marker\":{\"color\":\"green\",\"size\":5},\"mode\":\"markers\",\"name\":\"linum.n.01\",\"opacity\":0.4,\"text\":[\"linum.n.01\"],\"x\":[2.7531938552856445],\"y\":[-0.20920014381408691],\"type\":\"scatter\"},{\"marker\":{\"color\":\"green\",\"size\":5},\"mode\":\"markers\",\"name\":\"tamus.n.01\",\"opacity\":0.4,\"text\":[\"tamus.n.01\"],\"x\":[3.384422540664673],\"y\":[-0.9105765223503113],\"type\":\"scatter\"},{\"marker\":{\"color\":\"green\",\"size\":5},\"mode\":\"markers\",\"name\":\"ribes.n.01\",\"opacity\":0.4,\"text\":[\"ribes.n.01\"],\"x\":[3.7089591026306152],\"y\":[-0.4201643168926239],\"type\":\"scatter\"},{\"marker\":{\"color\":\"green\",\"size\":5},\"mode\":\"markers\",\"name\":\"linanthus.n.01\",\"opacity\":0.4,\"text\":[\"linanthus.n.01\"],\"x\":[3.202021360397339],\"y\":[-0.5842066407203674],\"type\":\"scatter\"},{\"marker\":{\"color\":\"green\",\"size\":5},\"mode\":\"markers\",\"name\":\"genus_geranium.n.01\",\"opacity\":0.4,\"text\":[\"genus_geranium.n.01\"],\"x\":[3.241417407989502],\"y\":[-0.6396193504333496],\"type\":\"scatter\"},{\"marker\":{\"color\":\"green\",\"size\":5},\"mode\":\"markers\",\"name\":\"arenga.n.01\",\"opacity\":0.4,\"text\":[\"arenga.n.01\"],\"x\":[3.6621487140655518],\"y\":[-0.30664682388305664],\"type\":\"scatter\"},{\"marker\":{\"color\":\"green\",\"size\":5},\"mode\":\"markers\",\"name\":\"corylopsis.n.01\",\"opacity\":0.4,\"text\":[\"corylopsis.n.01\"],\"x\":[3.549074172973633],\"y\":[-0.9525002241134644],\"type\":\"scatter\"},{\"marker\":{\"color\":\"green\",\"size\":5},\"mode\":\"markers\",\"name\":\"myosotis.n.01\",\"opacity\":0.4,\"text\":[\"myosotis.n.01\"],\"x\":[3.2689950466156006],\"y\":[-0.5587253570556641],\"type\":\"scatter\"},{\"marker\":{\"color\":\"green\",\"size\":5},\"mode\":\"markers\",\"name\":\"aeonium.n.01\",\"opacity\":0.4,\"text\":[\"aeonium.n.01\"],\"x\":[3.2669849395751953],\"y\":[-0.39255771040916443],\"type\":\"scatter\"},{\"marker\":{\"color\":\"green\",\"size\":5},\"mode\":\"markers\",\"name\":\"pinguicula.n.01\",\"opacity\":0.4,\"text\":[\"pinguicula.n.01\"],\"x\":[3.2465453147888184],\"y\":[-0.13298867642879486],\"type\":\"scatter\"},{\"marker\":{\"color\":\"green\",\"size\":5},\"mode\":\"markers\",\"name\":\"genus_sedum.n.01\",\"opacity\":0.4,\"text\":[\"genus_sedum.n.01\"],\"x\":[3.6465137004852295],\"y\":[-0.6409701108932495],\"type\":\"scatter\"},{\"marker\":{\"color\":\"green\",\"size\":5},\"mode\":\"markers\",\"name\":\"sequoiadendron.n.01\",\"opacity\":0.4,\"text\":[\"sequoiadendron.n.01\"],\"x\":[3.3734700679779053],\"y\":[-1.220831036567688],\"type\":\"scatter\"},{\"marker\":{\"color\":\"green\",\"size\":5},\"mode\":\"markers\",\"name\":\"hamamelis.n.01\",\"opacity\":0.4,\"text\":[\"hamamelis.n.01\"],\"x\":[3.6181280612945557],\"y\":[-0.7460965514183044],\"type\":\"scatter\"},{\"marker\":{\"color\":\"green\",\"size\":5},\"mode\":\"markers\",\"name\":\"borago.n.01\",\"opacity\":0.4,\"text\":[\"borago.n.01\"],\"x\":[3.3551442623138428],\"y\":[0.5152531862258911],\"type\":\"scatter\"},{\"marker\":{\"color\":\"green\",\"size\":5},\"mode\":\"markers\",\"name\":\"alpinia.n.01\",\"opacity\":0.4,\"text\":[\"alpinia.n.01\"],\"x\":[3.2624905109405518],\"y\":[-0.18410055339336395],\"type\":\"scatter\"},{\"marker\":{\"color\":\"green\",\"size\":5},\"mode\":\"markers\",\"name\":\"proboscidea.n.01\",\"opacity\":0.4,\"text\":[\"proboscidea.n.01\"],\"x\":[3.3269999027252197],\"y\":[-0.49836277961730957],\"type\":\"scatter\"},{\"marker\":{\"color\":\"green\",\"size\":5},\"mode\":\"markers\",\"name\":\"avena.n.01\",\"opacity\":0.4,\"text\":[\"avena.n.01\"],\"x\":[3.7967662811279297],\"y\":[-1.1142945289611816],\"type\":\"scatter\"},{\"marker\":{\"color\":\"green\",\"size\":5},\"mode\":\"markers\",\"name\":\"lithospermum.n.01\",\"opacity\":0.4,\"text\":[\"lithospermum.n.01\"],\"x\":[3.356797456741333],\"y\":[-0.03790469467639923],\"type\":\"scatter\"},{\"marker\":{\"color\":\"green\",\"size\":5},\"mode\":\"markers\",\"name\":\"livistona.n.01\",\"opacity\":0.4,\"text\":[\"livistona.n.01\"],\"x\":[3.833162784576416],\"y\":[-0.19667641818523407],\"type\":\"scatter\"},{\"marker\":{\"color\":\"green\",\"size\":5},\"mode\":\"markers\",\"name\":\"parrotia.n.01\",\"opacity\":0.4,\"text\":[\"parrotia.n.01\"],\"x\":[3.6156251430511475],\"y\":[-0.754683256149292],\"type\":\"scatter\"},{\"marker\":{\"color\":\"green\",\"size\":5},\"mode\":\"markers\",\"name\":\"dioscorea.n.01\",\"opacity\":0.4,\"text\":[\"dioscorea.n.01\"],\"x\":[3.9266488552093506],\"y\":[0.2124774008989334],\"type\":\"scatter\"},{\"marker\":{\"color\":\"green\",\"size\":5},\"mode\":\"markers\",\"name\":\"sesamum.n.01\",\"opacity\":0.4,\"text\":[\"sesamum.n.01\"],\"x\":[3.8107657432556152],\"y\":[-0.4882987439632416],\"type\":\"scatter\"},{\"marker\":{\"color\":\"green\",\"size\":5},\"mode\":\"markers\",\"name\":\"symphytum.n.01\",\"opacity\":0.4,\"text\":[\"symphytum.n.01\"],\"x\":[3.532904863357544],\"y\":[-0.25111696124076843],\"type\":\"scatter\"},{\"marker\":{\"color\":\"green\",\"size\":5},\"mode\":\"markers\",\"name\":\"genus_phlox.n.01\",\"opacity\":0.4,\"text\":[\"genus_phlox.n.01\"],\"x\":[3.309284210205078],\"y\":[-1.4140816926956177],\"type\":\"scatter\"},{\"marker\":{\"color\":\"green\",\"size\":5},\"mode\":\"markers\",\"name\":\"phytelephas.n.01\",\"opacity\":0.4,\"text\":[\"phytelephas.n.01\"],\"x\":[3.8818154335021973],\"y\":[-0.28375235199928284],\"type\":\"scatter\"},{\"marker\":{\"color\":\"green\",\"size\":5},\"mode\":\"markers\",\"name\":\"paris.n.02\",\"opacity\":0.4,\"text\":[\"paris.n.02\"],\"x\":[3.6136462688446045],\"y\":[-1.9751895666122437],\"type\":\"scatter\"},{\"marker\":{\"color\":\"green\",\"size\":5},\"mode\":\"markers\",\"name\":\"genus_martynia.n.01\",\"opacity\":0.4,\"text\":[\"genus_martynia.n.01\"],\"x\":[3.269318103790283],\"y\":[-0.9719463586807251],\"type\":\"scatter\"},{\"marker\":{\"color\":\"green\",\"size\":5},\"mode\":\"markers\",\"name\":\"hackelia.n.01\",\"opacity\":0.4,\"text\":[\"hackelia.n.01\"],\"x\":[3.259568452835083],\"y\":[0.26644501090049744],\"type\":\"scatter\"},{\"marker\":{\"color\":\"green\",\"size\":5},\"mode\":\"markers\",\"name\":\"echium.n.01\",\"opacity\":0.4,\"text\":[\"echium.n.01\"],\"x\":[3.2815775871276855],\"y\":[0.6908915638923645],\"type\":\"scatter\"},{\"marker\":{\"color\":\"green\",\"size\":5},\"mode\":\"markers\",\"name\":\"aframomum.n.01\",\"opacity\":0.4,\"text\":[\"aframomum.n.01\"],\"x\":[3.5205814838409424],\"y\":[-0.5179189443588257],\"type\":\"scatter\"},{\"marker\":{\"color\":\"green\",\"size\":5},\"mode\":\"markers\",\"name\":\"genus_campanula.n.01\",\"opacity\":0.4,\"text\":[\"genus_campanula.n.01\"],\"x\":[3.4595372676849365],\"y\":[0.4535222351551056],\"type\":\"scatter\"},{\"marker\":{\"color\":\"green\",\"size\":5},\"mode\":\"markers\",\"name\":\"mertensia.n.01\",\"opacity\":0.4,\"text\":[\"mertensia.n.01\"],\"x\":[3.3674700260162354],\"y\":[0.49889278411865234],\"type\":\"scatter\"},{\"marker\":{\"color\":\"green\",\"size\":5},\"mode\":\"markers\",\"name\":\"genus_fothergilla.n.01\",\"opacity\":0.4,\"text\":[\"genus_fothergilla.n.01\"],\"x\":[3.5694327354431152],\"y\":[-0.8069212436676025],\"type\":\"scatter\"},{\"marker\":{\"color\":\"green\",\"size\":5},\"mode\":\"markers\",\"name\":\"genus_liquidambar.n.01\",\"opacity\":0.4,\"text\":[\"genus_liquidambar.n.01\"],\"x\":[3.6611697673797607],\"y\":[-0.3028242886066437],\"type\":\"scatter\"},{\"marker\":{\"color\":\"green\",\"size\":5},\"mode\":\"markers\",\"name\":\"physostigma.n.01\",\"opacity\":0.4,\"text\":[\"physostigma.n.01\"],\"x\":[3.4481348991394043],\"y\":[-0.4424384832382202],\"type\":\"scatter\"},{\"marker\":{\"color\":\"green\",\"size\":5},\"mode\":\"markers\",\"name\":\"amsinckia.n.01\",\"opacity\":0.4,\"text\":[\"amsinckia.n.01\"],\"x\":[3.3033814430236816],\"y\":[-0.359680712223053],\"type\":\"scatter\"},{\"marker\":{\"color\":\"green\",\"size\":5},\"mode\":\"markers\",\"name\":\"laguncularia.n.01\",\"opacity\":0.4,\"text\":[\"laguncularia.n.01\"],\"x\":[2.9841041564941406],\"y\":[0.5840036273002625],\"type\":\"scatter\"},{\"marker\":{\"color\":\"green\",\"size\":5},\"mode\":\"markers\",\"name\":\"utricularia.n.01\",\"opacity\":0.4,\"text\":[\"utricularia.n.01\"],\"x\":[3.2488698959350586],\"y\":[-0.26204416155815125],\"type\":\"scatter\"},{\"marker\":{\"color\":\"green\",\"size\":5},\"mode\":\"markers\",\"name\":\"lagerstroemia.n.01\",\"opacity\":0.4,\"text\":[\"lagerstroemia.n.01\"],\"x\":[3.452115774154663],\"y\":[0.06977301836013794],\"type\":\"scatter\"},{\"marker\":{\"color\":\"green\",\"size\":5},\"mode\":\"markers\",\"name\":\"agrostis.n.01\",\"opacity\":0.4,\"text\":[\"agrostis.n.01\"],\"x\":[4.045094966888428],\"y\":[-0.44427281618118286],\"type\":\"scatter\"},{\"marker\":{\"color\":\"yellow\",\"size\":5},\"mode\":\"markers\",\"name\":\"genus_tamandua.n.01\",\"opacity\":0.4,\"text\":[\"genus_tamandua.n.01\"],\"x\":[3.3169569969177246],\"y\":[0.5016133189201355],\"type\":\"scatter\"},{\"marker\":{\"color\":\"yellow\",\"size\":5},\"mode\":\"markers\",\"name\":\"antidorcas.n.01\",\"opacity\":0.4,\"text\":[\"antidorcas.n.01\"],\"x\":[3.5469486713409424],\"y\":[0.3053997755050659],\"type\":\"scatter\"},{\"marker\":{\"color\":\"yellow\",\"size\":5},\"mode\":\"markers\",\"name\":\"felis.n.01\",\"opacity\":0.4,\"text\":[\"felis.n.01\"],\"x\":[3.9134416580200195],\"y\":[-1.0061218738555908],\"type\":\"scatter\"},{\"marker\":{\"color\":\"yellow\",\"size\":5},\"mode\":\"markers\",\"name\":\"bos.n.01\",\"opacity\":0.4,\"text\":[\"bos.n.01\"],\"x\":[4.624337196350098],\"y\":[0.3201042413711548],\"type\":\"scatter\"},{\"marker\":{\"color\":\"yellow\",\"size\":5},\"mode\":\"markers\",\"name\":\"lagidium.n.01\",\"opacity\":0.4,\"text\":[\"lagidium.n.01\"],\"x\":[3.2110555171966553],\"y\":[0.020943792536854744],\"type\":\"scatter\"},{\"marker\":{\"color\":\"yellow\",\"size\":5},\"mode\":\"markers\",\"name\":\"abrocoma.n.01\",\"opacity\":0.4,\"text\":[\"abrocoma.n.01\"],\"x\":[3.3401081562042236],\"y\":[0.21012583374977112],\"type\":\"scatter\"},{\"marker\":{\"color\":\"yellow\",\"size\":5},\"mode\":\"markers\",\"name\":\"trichosurus.n.01\",\"opacity\":0.4,\"text\":[\"trichosurus.n.01\"],\"x\":[3.2721853256225586],\"y\":[0.2581186294555664],\"type\":\"scatter\"},{\"marker\":{\"color\":\"yellow\",\"size\":5},\"mode\":\"markers\",\"name\":\"tamias.n.01\",\"opacity\":0.4,\"text\":[\"tamias.n.01\"],\"x\":[3.4388012886047363],\"y\":[0.7568564414978027],\"type\":\"scatter\"},{\"marker\":{\"color\":\"yellow\",\"size\":5},\"mode\":\"markers\",\"name\":\"panthera.n.01\",\"opacity\":0.4,\"text\":[\"panthera.n.01\"],\"x\":[3.270742654800415],\"y\":[0.10269521921873093],\"type\":\"scatter\"},{\"marker\":{\"color\":\"yellow\",\"size\":5},\"mode\":\"markers\",\"name\":\"blarina.n.01\",\"opacity\":0.4,\"text\":[\"blarina.n.01\"],\"x\":[3.048877239227295],\"y\":[0.37346991896629333],\"type\":\"scatter\"},{\"marker\":{\"color\":\"yellow\",\"size\":5},\"mode\":\"markers\",\"name\":\"globicephala.n.01\",\"opacity\":0.4,\"text\":[\"globicephala.n.01\"],\"x\":[3.3336150646209717],\"y\":[0.3573518395423889],\"type\":\"scatter\"},{\"marker\":{\"color\":\"yellow\",\"size\":5},\"mode\":\"markers\",\"name\":\"herpestes.n.01\",\"opacity\":0.4,\"text\":[\"herpestes.n.01\"],\"x\":[3.4939889907836914],\"y\":[-0.20265361666679382],\"type\":\"scatter\"},{\"marker\":{\"color\":\"yellow\",\"size\":5},\"mode\":\"markers\",\"name\":\"mirounga.n.01\",\"opacity\":0.4,\"text\":[\"mirounga.n.01\"],\"x\":[3.4697458744049072],\"y\":[-0.11751510202884674],\"type\":\"scatter\"},{\"marker\":{\"color\":\"yellow\",\"size\":5},\"mode\":\"markers\",\"name\":\"choloepus.n.01\",\"opacity\":0.4,\"text\":[\"choloepus.n.01\"],\"x\":[3.0064399242401123],\"y\":[-0.048374615609645844],\"type\":\"scatter\"},{\"marker\":{\"color\":\"yellow\",\"size\":5},\"mode\":\"markers\",\"name\":\"pan.n.04\",\"opacity\":0.4,\"text\":[\"pan.n.04\"],\"x\":[3.7999095916748047],\"y\":[-0.40033799409866333],\"type\":\"scatter\"},{\"marker\":{\"color\":\"yellow\",\"size\":5},\"mode\":\"markers\",\"name\":\"budorcas.n.01\",\"opacity\":0.4,\"text\":[\"budorcas.n.01\"],\"x\":[3.526732921600342],\"y\":[0.9761546850204468],\"type\":\"scatter\"},{\"marker\":{\"color\":\"yellow\",\"size\":5},\"mode\":\"markers\",\"name\":\"genus_potamogale.n.01\",\"opacity\":0.4,\"text\":[\"genus_potamogale.n.01\"],\"x\":[2.9145565032958984],\"y\":[0.26526036858558655],\"type\":\"scatter\"},{\"marker\":{\"color\":\"yellow\",\"size\":5},\"mode\":\"markers\",\"name\":\"uintatherium.n.01\",\"opacity\":0.4,\"text\":[\"uintatherium.n.01\"],\"x\":[2.6315948963165283],\"y\":[0.28856799006462097],\"type\":\"scatter\"},{\"marker\":{\"color\":\"yellow\",\"size\":5},\"mode\":\"markers\",\"name\":\"canis.n.01\",\"opacity\":0.4,\"text\":[\"canis.n.01\"],\"x\":[4.583456039428711],\"y\":[0.020086579024791718],\"type\":\"scatter\"},{\"marker\":{\"color\":\"yellow\",\"size\":5},\"mode\":\"markers\",\"name\":\"ornithorhynchus.n.01\",\"opacity\":0.4,\"text\":[\"ornithorhynchus.n.01\"],\"x\":[2.7022666931152344],\"y\":[0.9956080913543701],\"type\":\"scatter\"},{\"marker\":{\"color\":\"yellow\",\"size\":5},\"mode\":\"markers\",\"name\":\"loxodonta.n.01\",\"opacity\":0.4,\"text\":[\"loxodonta.n.01\"],\"x\":[3.4556188583374023],\"y\":[0.0955977663397789],\"type\":\"scatter\"},{\"marker\":{\"color\":\"yellow\",\"size\":5},\"mode\":\"markers\",\"name\":\"dama.n.01\",\"opacity\":0.4,\"text\":[\"dama.n.01\"],\"x\":[3.6626036167144775],\"y\":[-0.9116687178611755],\"type\":\"scatter\"},{\"marker\":{\"color\":\"yellow\",\"size\":5},\"mode\":\"markers\",\"name\":\"bradypus.n.01\",\"opacity\":0.4,\"text\":[\"bradypus.n.01\"],\"x\":[3.3375155925750732],\"y\":[-0.41412678360939026],\"type\":\"scatter\"},{\"marker\":{\"color\":\"yellow\",\"size\":5},\"mode\":\"markers\",\"name\":\"hylobates.n.01\",\"opacity\":0.4,\"text\":[\"hylobates.n.01\"],\"x\":[3.546022891998291],\"y\":[-0.07801536470651627],\"type\":\"scatter\"},{\"marker\":{\"color\":\"yellow\",\"size\":5},\"mode\":\"markers\",\"name\":\"vespertilio.n.01\",\"opacity\":0.4,\"text\":[\"vespertilio.n.01\"],\"x\":[3.350534200668335],\"y\":[0.4472719728946686],\"type\":\"scatter\"},{\"marker\":{\"color\":\"yellow\",\"size\":5},\"mode\":\"markers\",\"name\":\"choeronycteris.n.01\",\"opacity\":0.4,\"text\":[\"choeronycteris.n.01\"],\"x\":[2.709787130355835],\"y\":[0.9208219051361084],\"type\":\"scatter\"},{\"marker\":{\"color\":\"yellow\",\"size\":5},\"mode\":\"markers\",\"name\":\"paradoxurus.n.01\",\"opacity\":0.4,\"text\":[\"paradoxurus.n.01\"],\"x\":[3.1179661750793457],\"y\":[-0.9202042818069458],\"type\":\"scatter\"},{\"marker\":{\"color\":\"yellow\",\"size\":5},\"mode\":\"markers\",\"name\":\"ursus.n.01\",\"opacity\":0.4,\"text\":[\"ursus.n.01\"],\"x\":[3.7067549228668213],\"y\":[0.31524136662483215],\"type\":\"scatter\"},{\"marker\":{\"color\":\"yellow\",\"size\":5},\"mode\":\"markers\",\"name\":\"potos.n.01\",\"opacity\":0.4,\"text\":[\"potos.n.01\"],\"x\":[3.363201379776001],\"y\":[0.8853761553764343],\"type\":\"scatter\"},{\"marker\":{\"color\":\"yellow\",\"size\":5},\"mode\":\"markers\",\"name\":\"gulo.n.01\",\"opacity\":0.4,\"text\":[\"gulo.n.01\"],\"x\":[4.798586845397949],\"y\":[-1.0749742984771729],\"type\":\"scatter\"},{\"marker\":{\"color\":\"yellow\",\"size\":5},\"mode\":\"markers\",\"name\":\"megaderma.n.01\",\"opacity\":0.4,\"text\":[\"megaderma.n.01\"],\"x\":[2.6789052486419678],\"y\":[0.9197270274162292],\"type\":\"scatter\"},{\"marker\":{\"color\":\"yellow\",\"size\":5},\"mode\":\"markers\",\"name\":\"micromyx.n.01\",\"opacity\":0.4,\"text\":[\"micromyx.n.01\"],\"x\":[3.160827159881592],\"y\":[-0.3551533818244934],\"type\":\"scatter\"},{\"marker\":{\"color\":\"yellow\",\"size\":5},\"mode\":\"markers\",\"name\":\"charronia.n.01\",\"opacity\":0.4,\"text\":[\"charronia.n.01\"],\"x\":[3.5436737537384033],\"y\":[-0.7404806017875671],\"type\":\"scatter\"},{\"marker\":{\"color\":\"yellow\",\"size\":5},\"mode\":\"markers\",\"name\":\"erignathus.n.01\",\"opacity\":0.4,\"text\":[\"erignathus.n.01\"],\"x\":[3.3182613849639893],\"y\":[-0.8621050715446472],\"type\":\"scatter\"},{\"marker\":{\"color\":\"yellow\",\"size\":5},\"mode\":\"markers\",\"name\":\"sarcophilus.n.01\",\"opacity\":0.4,\"text\":[\"sarcophilus.n.01\"],\"x\":[3.3909554481506348],\"y\":[-0.3406525254249573],\"type\":\"scatter\"},{\"marker\":{\"color\":\"yellow\",\"size\":5},\"mode\":\"markers\",\"name\":\"ovis.n.01\",\"opacity\":0.4,\"text\":[\"ovis.n.01\"],\"x\":[4.385476112365723],\"y\":[-0.5136969685554504],\"type\":\"scatter\"},{\"marker\":{\"color\":\"yellow\",\"size\":5},\"mode\":\"markers\",\"name\":\"equus.n.01\",\"opacity\":0.4,\"text\":[\"equus.n.01\"],\"x\":[5.135104656219482],\"y\":[0.19323883950710297],\"type\":\"scatter\"},{\"marker\":{\"color\":\"yellow\",\"size\":5},\"mode\":\"markers\",\"name\":\"eira.n.01\",\"opacity\":0.4,\"text\":[\"eira.n.01\"],\"x\":[3.463618755340576],\"y\":[1.0104467868804932],\"type\":\"scatter\"},{\"marker\":{\"color\":\"yellow\",\"size\":5},\"mode\":\"markers\",\"name\":\"balaenoptera.n.01\",\"opacity\":0.4,\"text\":[\"balaenoptera.n.01\"],\"x\":[3.226867198944092],\"y\":[-0.8646525740623474],\"type\":\"scatter\"},{\"marker\":{\"color\":\"yellow\",\"size\":5},\"mode\":\"markers\",\"name\":\"pitymys.n.01\",\"opacity\":0.4,\"text\":[\"pitymys.n.01\"],\"x\":[3.225142002105713],\"y\":[-0.8650258183479309],\"type\":\"scatter\"},{\"marker\":{\"color\":\"yellow\",\"size\":5},\"mode\":\"markers\",\"name\":\"alouatta.n.01\",\"opacity\":0.4,\"text\":[\"alouatta.n.01\"],\"x\":[3.7319259643554688],\"y\":[1.6769407987594604],\"type\":\"scatter\"},{\"marker\":{\"color\":\"yellow\",\"size\":5},\"mode\":\"markers\",\"name\":\"otaria.n.01\",\"opacity\":0.4,\"text\":[\"otaria.n.01\"],\"x\":[2.948188304901123],\"y\":[1.220406174659729],\"type\":\"scatter\"},{\"marker\":{\"color\":\"yellow\",\"size\":5},\"mode\":\"markers\",\"name\":\"odobenus.n.01\",\"opacity\":0.4,\"text\":[\"odobenus.n.01\"],\"x\":[3.221198320388794],\"y\":[-0.8549988865852356],\"type\":\"scatter\"},{\"marker\":{\"color\":\"yellow\",\"size\":5},\"mode\":\"markers\",\"name\":\"ammotragus.n.01\",\"opacity\":0.4,\"text\":[\"ammotragus.n.01\"],\"x\":[3.543938636779785],\"y\":[0.2625763714313507],\"type\":\"scatter\"},{\"marker\":{\"color\":\"yellow\",\"size\":5},\"mode\":\"markers\",\"name\":\"cebuella.n.01\",\"opacity\":0.4,\"text\":[\"cebuella.n.01\"],\"x\":[3.1405978202819824],\"y\":[0.5824450254440308],\"type\":\"scatter\"},{\"marker\":{\"color\":\"yellow\",\"size\":5},\"mode\":\"markers\",\"name\":\"arvicola.n.01\",\"opacity\":0.4,\"text\":[\"arvicola.n.01\"],\"x\":[3.1389389038085938],\"y\":[0.966707170009613],\"type\":\"scatter\"},{\"marker\":{\"color\":\"yellow\",\"size\":5},\"mode\":\"markers\",\"name\":\"megaptera.n.01\",\"opacity\":0.4,\"text\":[\"megaptera.n.01\"],\"x\":[3.386645555496216],\"y\":[0.11126461625099182],\"type\":\"scatter\"},{\"marker\":{\"color\":\"yellow\",\"size\":5},\"mode\":\"markers\",\"name\":\"aplodontia.n.01\",\"opacity\":0.4,\"text\":[\"aplodontia.n.01\"],\"x\":[3.071275234222412],\"y\":[-0.9198991060256958],\"type\":\"scatter\"},{\"marker\":{\"color\":\"yellow\",\"size\":5},\"mode\":\"markers\",\"name\":\"diphylla.n.01\",\"opacity\":0.4,\"text\":[\"diphylla.n.01\"],\"x\":[3.1041324138641357],\"y\":[-0.08592873811721802],\"type\":\"scatter\"},{\"marker\":{\"color\":\"yellow\",\"size\":5},\"mode\":\"markers\",\"name\":\"delphinapterus.n.01\",\"opacity\":0.4,\"text\":[\"delphinapterus.n.01\"],\"x\":[2.1730692386627197],\"y\":[-0.20950794219970703],\"type\":\"scatter\"},{\"marker\":{\"color\":\"yellow\",\"size\":5},\"mode\":\"markers\",\"name\":\"antrozous.n.01\",\"opacity\":0.4,\"text\":[\"antrozous.n.01\"],\"x\":[3.348695755004883],\"y\":[0.38045987486839294],\"type\":\"scatter\"},{\"marker\":{\"color\":\"yellow\",\"size\":5},\"mode\":\"markers\",\"name\":\"sorex.n.01\",\"opacity\":0.4,\"text\":[\"sorex.n.01\"],\"x\":[2.899158239364624],\"y\":[0.9821083545684814],\"type\":\"scatter\"},{\"marker\":{\"color\":\"yellow\",\"size\":5},\"mode\":\"markers\",\"name\":\"tachyglossus.n.01\",\"opacity\":0.4,\"text\":[\"tachyglossus.n.01\"],\"x\":[3.035609483718872],\"y\":[-0.020613498985767365],\"type\":\"scatter\"},{\"marker\":{\"color\":\"yellow\",\"size\":5},\"mode\":\"markers\",\"name\":\"myocastor.n.01\",\"opacity\":0.4,\"text\":[\"myocastor.n.01\"],\"x\":[3.174278974533081],\"y\":[-0.10678686201572418],\"type\":\"scatter\"},{\"marker\":{\"color\":\"yellow\",\"size\":5},\"mode\":\"markers\",\"name\":\"pipistrellus.n.01\",\"opacity\":0.4,\"text\":[\"pipistrellus.n.01\"],\"x\":[3.340111494064331],\"y\":[0.9009461402893066],\"type\":\"scatter\"},{\"marker\":{\"color\":\"yellow\",\"size\":5},\"mode\":\"markers\",\"name\":\"bibos.n.01\",\"opacity\":0.4,\"text\":[\"bibos.n.01\"],\"x\":[4.236819267272949],\"y\":[0.05968717485666275],\"type\":\"scatter\"},{\"marker\":{\"color\":\"yellow\",\"size\":5},\"mode\":\"markers\",\"name\":\"petaurista.n.01\",\"opacity\":0.4,\"text\":[\"petaurista.n.01\"],\"x\":[3.2443816661834717],\"y\":[1.0670863389968872],\"type\":\"scatter\"},{\"marker\":{\"color\":\"yellow\",\"size\":5},\"mode\":\"markers\",\"name\":\"euarctos.n.01\",\"opacity\":0.4,\"text\":[\"euarctos.n.01\"],\"x\":[3.365546941757202],\"y\":[-0.39978665113449097],\"type\":\"scatter\"},{\"marker\":{\"color\":\"yellow\",\"size\":5},\"mode\":\"markers\",\"name\":\"viverra.n.01\",\"opacity\":0.4,\"text\":[\"viverra.n.01\"],\"x\":[3.1372201442718506],\"y\":[0.7004675269126892],\"type\":\"scatter\"},{\"marker\":{\"color\":\"yellow\",\"size\":5},\"mode\":\"markers\",\"name\":\"rupicapra.n.01\",\"opacity\":0.4,\"text\":[\"rupicapra.n.01\"],\"x\":[3.5940890312194824],\"y\":[0.31439122557640076],\"type\":\"scatter\"},{\"marker\":{\"color\":\"yellow\",\"size\":5},\"mode\":\"markers\",\"name\":\"spilogale.n.01\",\"opacity\":0.4,\"text\":[\"spilogale.n.01\"],\"x\":[3.416701078414917],\"y\":[0.5212365388870239],\"type\":\"scatter\"},{\"marker\":{\"color\":\"yellow\",\"size\":5},\"mode\":\"markers\",\"name\":\"enhydra.n.01\",\"opacity\":0.4,\"text\":[\"enhydra.n.01\"],\"x\":[3.6532814502716064],\"y\":[0.5965474843978882],\"type\":\"scatter\"},{\"marker\":{\"color\":\"yellow\",\"size\":5},\"mode\":\"markers\",\"name\":\"meriones.n.01\",\"opacity\":0.4,\"text\":[\"meriones.n.01\"],\"x\":[3.226881742477417],\"y\":[-0.8979082703590393],\"type\":\"scatter\"},{\"marker\":{\"color\":\"yellow\",\"size\":5},\"mode\":\"markers\",\"name\":\"neotoma.n.01\",\"opacity\":0.4,\"text\":[\"neotoma.n.01\"],\"x\":[3.547145128250122],\"y\":[-1.305160641670227],\"type\":\"scatter\"},{\"marker\":{\"color\":\"yellow\",\"size\":5},\"mode\":\"markers\",\"name\":\"draw.v.23\",\"opacity\":0.4,\"text\":[\"draw.v.23\"],\"x\":[3.7258481979370117],\"y\":[-0.523988664150238],\"type\":\"scatter\"},{\"marker\":{\"color\":\"yellow\",\"size\":5},\"mode\":\"markers\",\"name\":\"thomomys.n.01\",\"opacity\":0.4,\"text\":[\"thomomys.n.01\"],\"x\":[3.2186498641967773],\"y\":[0.34427544474601746],\"type\":\"scatter\"},{\"marker\":{\"color\":\"yellow\",\"size\":5},\"mode\":\"markers\",\"name\":\"neomys.n.01\",\"opacity\":0.4,\"text\":[\"neomys.n.01\"],\"x\":[3.0111937522888184],\"y\":[0.5107120871543884],\"type\":\"scatter\"},{\"marker\":{\"color\":\"yellow\",\"size\":5},\"mode\":\"markers\",\"name\":\"cercopithecus.n.01\",\"opacity\":0.4,\"text\":[\"cercopithecus.n.01\"],\"x\":[3.375232219696045],\"y\":[-0.3534485697746277],\"type\":\"scatter\"},{\"marker\":{\"color\":\"yellow\",\"size\":5},\"mode\":\"markers\",\"name\":\"erethizon.n.01\",\"opacity\":0.4,\"text\":[\"erethizon.n.01\"],\"x\":[2.9318675994873047],\"y\":[0.5501282811164856],\"type\":\"scatter\"},{\"marker\":{\"color\":\"yellow\",\"size\":5},\"mode\":\"markers\",\"name\":\"zapus.n.01\",\"opacity\":0.4,\"text\":[\"zapus.n.01\"],\"x\":[2.7055821418762207],\"y\":[-0.11059408634901047],\"type\":\"scatter\"},{\"marker\":{\"color\":\"yellow\",\"size\":5},\"mode\":\"markers\",\"name\":\"tursiops.n.01\",\"opacity\":0.4,\"text\":[\"tursiops.n.01\"],\"x\":[3.3942244052886963],\"y\":[0.41422316431999207],\"type\":\"scatter\"},{\"marker\":{\"color\":\"yellow\",\"size\":5},\"mode\":\"markers\",\"name\":\"mustela.n.01\",\"opacity\":0.4,\"text\":[\"mustela.n.01\"],\"x\":[3.894425868988037],\"y\":[-0.36874404549598694],\"type\":\"scatter\"},{\"marker\":{\"color\":\"yellow\",\"size\":5},\"mode\":\"markers\",\"name\":\"geomys.n.01\",\"opacity\":0.4,\"text\":[\"geomys.n.01\"],\"x\":[3.215867757797241],\"y\":[0.10792525857686996],\"type\":\"scatter\"},{\"marker\":{\"color\":\"yellow\",\"size\":5},\"mode\":\"markers\",\"name\":\"sus.n.01\",\"opacity\":0.4,\"text\":[\"sus.n.01\"],\"x\":[4.4949870109558105],\"y\":[1.3095778226852417],\"type\":\"scatter\"},{\"marker\":{\"color\":\"yellow\",\"size\":5},\"mode\":\"markers\",\"name\":\"ailuropoda.n.01\",\"opacity\":0.4,\"text\":[\"ailuropoda.n.01\"],\"x\":[3.5009889602661133],\"y\":[0.1618589609861374],\"type\":\"scatter\"},{\"marker\":{\"color\":\"yellow\",\"size\":5},\"mode\":\"markers\",\"name\":\"notoryctus.n.01\",\"opacity\":0.4,\"text\":[\"notoryctus.n.01\"],\"x\":[3.483773708343506],\"y\":[-0.10854732245206833],\"type\":\"scatter\"},{\"marker\":{\"color\":\"yellow\",\"size\":5},\"mode\":\"markers\",\"name\":\"giraffa.n.01\",\"opacity\":0.4,\"text\":[\"giraffa.n.01\"],\"x\":[3.4176385402679443],\"y\":[1.0774385929107666],\"type\":\"scatter\"},{\"marker\":{\"color\":\"yellow\",\"size\":5},\"mode\":\"markers\",\"name\":\"dasyprocta.n.01\",\"opacity\":0.4,\"text\":[\"dasyprocta.n.01\"],\"x\":[2.7526426315307617],\"y\":[0.34715306758880615],\"type\":\"scatter\"},{\"marker\":{\"color\":\"yellow\",\"size\":5},\"mode\":\"markers\",\"name\":\"arctocebus.n.01\",\"opacity\":0.4,\"text\":[\"arctocebus.n.01\"],\"x\":[3.031538486480713],\"y\":[0.1205332800745964],\"type\":\"scatter\"},{\"marker\":{\"color\":\"yellow\",\"size\":5},\"mode\":\"markers\",\"name\":\"myrmecobius.n.01\",\"opacity\":0.4,\"text\":[\"myrmecobius.n.01\"],\"x\":[3.1931934356689453],\"y\":[1.2127690315246582],\"type\":\"scatter\"},{\"marker\":{\"color\":\"yellow\",\"size\":5},\"mode\":\"markers\",\"name\":\"microtus.n.01\",\"opacity\":0.4,\"text\":[\"microtus.n.01\"],\"x\":[3.2380170822143555],\"y\":[0.18861718475818634],\"type\":\"scatter\"},{\"marker\":{\"color\":\"yellow\",\"size\":5},\"mode\":\"markers\",\"name\":\"myopus.n.01\",\"opacity\":0.4,\"text\":[\"myopus.n.01\"],\"x\":[3.381852865219116],\"y\":[-0.47802892327308655],\"type\":\"scatter\"},{\"marker\":{\"color\":\"yellow\",\"size\":5},\"mode\":\"markers\",\"name\":\"genus_galago.n.01\",\"opacity\":0.4,\"text\":[\"genus_galago.n.01\"],\"x\":[2.9991142749786377],\"y\":[0.4700374901294708],\"type\":\"scatter\"},{\"marker\":{\"color\":\"yellow\",\"size\":5},\"mode\":\"markers\",\"name\":\"neurotrichus.n.01\",\"opacity\":0.4,\"text\":[\"neurotrichus.n.01\"],\"x\":[3.23648738861084],\"y\":[0.21700023114681244],\"type\":\"scatter\"},{\"marker\":{\"color\":\"yellow\",\"size\":5},\"mode\":\"markers\",\"name\":\"pongo.n.01\",\"opacity\":0.4,\"text\":[\"pongo.n.01\"],\"x\":[3.3798227310180664],\"y\":[-0.5605689287185669],\"type\":\"scatter\"},{\"marker\":{\"color\":\"yellow\",\"size\":5},\"mode\":\"markers\",\"name\":\"synercus.n.01\",\"opacity\":0.4,\"text\":[\"synercus.n.01\"],\"x\":[3.590864896774292],\"y\":[-0.6157292127609253],\"type\":\"scatter\"},{\"marker\":{\"color\":\"yellow\",\"size\":5},\"mode\":\"markers\",\"name\":\"genus_australopithecus.n.01\",\"opacity\":0.4,\"text\":[\"genus_australopithecus.n.01\"],\"x\":[4.58803129196167],\"y\":[-1.294950246810913],\"type\":\"scatter\"},{\"marker\":{\"color\":\"yellow\",\"size\":5},\"mode\":\"markers\",\"name\":\"mellivora.n.01\",\"opacity\":0.4,\"text\":[\"mellivora.n.01\"],\"x\":[3.4366931915283203],\"y\":[-0.30488744378089905],\"type\":\"scatter\"},{\"marker\":{\"color\":\"yellow\",\"size\":5},\"mode\":\"markers\",\"name\":\"gazella.n.01\",\"opacity\":0.4,\"text\":[\"gazella.n.01\"],\"x\":[4.034573554992676],\"y\":[0.3397614359855652],\"type\":\"scatter\"},{\"marker\":{\"color\":\"yellow\",\"size\":5},\"mode\":\"markers\",\"name\":\"physeter.n.01\",\"opacity\":0.4,\"text\":[\"physeter.n.01\"],\"x\":[2.8203177452087402],\"y\":[1.0880643129348755],\"type\":\"scatter\"},{\"marker\":{\"color\":\"yellow\",\"size\":5},\"mode\":\"markers\",\"name\":\"crocuta.n.01\",\"opacity\":0.4,\"text\":[\"crocuta.n.01\"],\"x\":[3.307541847229004],\"y\":[-0.3970416486263275],\"type\":\"scatter\"},{\"marker\":{\"color\":\"yellow\",\"size\":5},\"mode\":\"markers\",\"name\":\"genus_lemur.n.01\",\"opacity\":0.4,\"text\":[\"genus_lemur.n.01\"],\"x\":[2.1724679470062256],\"y\":[0.09893195331096649],\"type\":\"scatter\"},{\"marker\":{\"color\":\"yellow\",\"size\":5},\"mode\":\"markers\",\"name\":\"arctictis.n.01\",\"opacity\":0.4,\"text\":[\"arctictis.n.01\"],\"x\":[3.272622585296631],\"y\":[-0.41325679421424866],\"type\":\"scatter\"},{\"marker\":{\"color\":\"yellow\",\"size\":5},\"mode\":\"markers\",\"name\":\"myrmecophaga.n.01\",\"opacity\":0.4,\"text\":[\"myrmecophaga.n.01\"],\"x\":[3.3457303047180176],\"y\":[0.31878578662872314],\"type\":\"scatter\"},{\"marker\":{\"color\":\"yellow\",\"size\":5},\"mode\":\"markers\",\"name\":\"hyracotherium.n.01\",\"opacity\":0.4,\"text\":[\"hyracotherium.n.01\"],\"x\":[4.130280494689941],\"y\":[0.6001014709472656],\"type\":\"scatter\"},{\"marker\":{\"color\":\"yellow\",\"size\":5},\"mode\":\"markers\",\"name\":\"genus_gorilla.n.01\",\"opacity\":0.4,\"text\":[\"genus_gorilla.n.01\"],\"x\":[3.356740713119507],\"y\":[-0.7714883685112],\"type\":\"scatter\"},{\"marker\":{\"color\":\"yellow\",\"size\":5},\"mode\":\"markers\",\"name\":\"euphractus.n.01\",\"opacity\":0.4,\"text\":[\"euphractus.n.01\"],\"x\":[3.073322057723999],\"y\":[0.6085457801818848],\"type\":\"scatter\"},{\"marker\":{\"color\":\"yellow\",\"size\":5},\"mode\":\"markers\",\"name\":\"eumetopias.n.01\",\"opacity\":0.4,\"text\":[\"eumetopias.n.01\"],\"x\":[2.9178013801574707],\"y\":[1.2562307119369507],\"type\":\"scatter\"},{\"marker\":{\"color\":\"yellow\",\"size\":5},\"mode\":\"markers\",\"name\":\"cebus.n.01\",\"opacity\":0.4,\"text\":[\"cebus.n.01\"],\"x\":[3.2303411960601807],\"y\":[-0.7546370625495911],\"type\":\"scatter\"},{\"marker\":{\"color\":\"yellow\",\"size\":5},\"mode\":\"markers\",\"name\":\"taurotragus.n.01\",\"opacity\":0.4,\"text\":[\"taurotragus.n.01\"],\"x\":[3.5882601737976074],\"y\":[0.18175557255744934],\"type\":\"scatter\"},{\"marker\":{\"color\":\"yellow\",\"size\":5},\"mode\":\"markers\",\"name\":\"sigmodon.n.01\",\"opacity\":0.4,\"text\":[\"sigmodon.n.01\"],\"x\":[3.3540492057800293],\"y\":[-0.1530105024576187],\"type\":\"scatter\"},{\"marker\":{\"color\":\"yellow\",\"size\":5},\"mode\":\"markers\",\"name\":\"apodemus.n.01\",\"opacity\":0.4,\"text\":[\"apodemus.n.01\"],\"x\":[3.250223159790039],\"y\":[0.7326478958129883],\"type\":\"scatter\"},{\"marker\":{\"color\":\"yellow\",\"size\":5},\"mode\":\"markers\",\"name\":\"erythrocebus.n.01\",\"opacity\":0.4,\"text\":[\"erythrocebus.n.01\"],\"x\":[3.2119202613830566],\"y\":[0.9453312158584595],\"type\":\"scatter\"},{\"marker\":{\"color\":\"yellow\",\"size\":5},\"mode\":\"markers\",\"name\":\"antilocapra.n.01\",\"opacity\":0.4,\"text\":[\"antilocapra.n.01\"],\"x\":[3.548022508621216],\"y\":[-0.4163491129875183],\"type\":\"scatter\"},{\"marker\":{\"color\":\"yellow\",\"size\":5},\"mode\":\"markers\",\"name\":\"delphinus.n.02\",\"opacity\":0.4,\"text\":[\"delphinus.n.02\"],\"x\":[3.3470661640167236],\"y\":[0.019419953227043152],\"type\":\"scatter\"},{\"marker\":{\"color\":\"yellow\",\"size\":5},\"mode\":\"markers\",\"name\":\"pseudoryx.n.01\",\"opacity\":0.4,\"text\":[\"pseudoryx.n.01\"],\"x\":[3.5516741275787354],\"y\":[0.02321680635213852],\"type\":\"scatter\"},{\"marker\":{\"color\":\"yellow\",\"size\":5},\"mode\":\"markers\",\"name\":\"mesocricetus.n.01\",\"opacity\":0.4,\"text\":[\"mesocricetus.n.01\"],\"x\":[3.254260778427124],\"y\":[-0.5226607322692871],\"type\":\"scatter\"},{\"marker\":{\"color\":\"yellow\",\"size\":5},\"mode\":\"markers\",\"name\":\"selenarctos.n.01\",\"opacity\":0.4,\"text\":[\"selenarctos.n.01\"],\"x\":[3.228041887283325],\"y\":[-0.8806520700454712],\"type\":\"scatter\"},{\"marker\":{\"color\":\"yellow\",\"size\":5},\"mode\":\"markers\",\"name\":\"meles.n.01\",\"opacity\":0.4,\"text\":[\"meles.n.01\"],\"x\":[3.437708616256714],\"y\":[-0.930095911026001],\"type\":\"scatter\"},{\"marker\":{\"color\":\"yellow\",\"size\":5},\"mode\":\"markers\",\"name\":\"thalarctos.n.01\",\"opacity\":0.4,\"text\":[\"thalarctos.n.01\"],\"x\":[3.3389124870300293],\"y\":[-0.30071911215782166],\"type\":\"scatter\"},{\"marker\":{\"color\":\"yellow\",\"size\":5},\"mode\":\"markers\",\"name\":\"capreolus.n.01\",\"opacity\":0.4,\"text\":[\"capreolus.n.01\"],\"x\":[3.6091232299804688],\"y\":[0.513943076133728],\"type\":\"scatter\"},{\"marker\":{\"color\":\"yellow\",\"size\":5},\"mode\":\"markers\",\"name\":\"megatherium.n.01\",\"opacity\":0.4,\"text\":[\"megatherium.n.01\"],\"x\":[3.125274896621704],\"y\":[-0.7078964114189148],\"type\":\"scatter\"},{\"marker\":{\"color\":\"yellow\",\"size\":5},\"mode\":\"markers\",\"name\":\"nasua.n.01\",\"opacity\":0.4,\"text\":[\"nasua.n.01\"],\"x\":[3.431131601333618],\"y\":[-0.4886266887187958],\"type\":\"scatter\"},{\"marker\":{\"color\":\"yellow\",\"size\":5},\"mode\":\"markers\",\"name\":\"proteles.n.01\",\"opacity\":0.4,\"text\":[\"proteles.n.01\"],\"x\":[3.330785036087036],\"y\":[-0.06400866061449051],\"type\":\"scatter\"},{\"marker\":{\"color\":\"yellow\",\"size\":5},\"mode\":\"markers\",\"name\":\"odocoileus.n.01\",\"opacity\":0.4,\"text\":[\"odocoileus.n.01\"],\"x\":[3.7997241020202637],\"y\":[0.3312014639377594],\"type\":\"scatter\"},{\"marker\":{\"color\":\"yellow\",\"size\":5},\"mode\":\"markers\",\"name\":\"monodon.n.01\",\"opacity\":0.4,\"text\":[\"monodon.n.01\"],\"x\":[3.4000918865203857],\"y\":[-1.0670160055160522],\"type\":\"scatter\"},{\"marker\":{\"color\":\"yellow\",\"size\":5},\"mode\":\"markers\",\"name\":\"orcinus.n.01\",\"opacity\":0.4,\"text\":[\"orcinus.n.01\"],\"x\":[3.279041051864624],\"y\":[-0.5868756771087646],\"type\":\"scatter\"},{\"marker\":{\"color\":\"yellow\",\"size\":5},\"mode\":\"markers\",\"name\":\"bubalus.n.01\",\"opacity\":0.4,\"text\":[\"bubalus.n.01\"],\"x\":[3.478975296020508],\"y\":[-0.7303179502487183],\"type\":\"scatter\"},{\"marker\":{\"color\":\"yellow\",\"size\":5},\"mode\":\"markers\",\"name\":\"genetta.n.01\",\"opacity\":0.4,\"text\":[\"genetta.n.01\"],\"x\":[3.264634847640991],\"y\":[0.1779453307390213],\"type\":\"scatter\"},{\"marker\":{\"color\":\"yellow\",\"size\":5},\"mode\":\"markers\",\"name\":\"chlamyphorus.n.01\",\"opacity\":0.4,\"text\":[\"chlamyphorus.n.01\"],\"x\":[3.150988817214966],\"y\":[-0.10982003808021545],\"type\":\"scatter\"},{\"marker\":{\"color\":\"yellow\",\"size\":5},\"mode\":\"markers\",\"name\":\"kogia.n.01\",\"opacity\":0.4,\"text\":[\"kogia.n.01\"],\"x\":[2.73909854888916],\"y\":[1.2830219268798828],\"type\":\"scatter\"},{\"marker\":{\"color\":\"yellow\",\"size\":5},\"mode\":\"markers\",\"name\":\"genus_cabassous.n.01\",\"opacity\":0.4,\"text\":[\"genus_cabassous.n.01\"],\"x\":[2.16310977935791],\"y\":[0.18430906534194946],\"type\":\"scatter\"},{\"marker\":{\"color\":\"yellow\",\"size\":5},\"mode\":\"markers\",\"name\":\"phascogale.n.01\",\"opacity\":0.4,\"text\":[\"phascogale.n.01\"],\"x\":[3.3465700149536133],\"y\":[0.32068222761154175],\"type\":\"scatter\"},{\"marker\":{\"color\":\"yellow\",\"size\":5},\"mode\":\"markers\",\"name\":\"avahi.n.01\",\"opacity\":0.4,\"text\":[\"avahi.n.01\"],\"x\":[3.4512743949890137],\"y\":[-0.6738484501838684],\"type\":\"scatter\"},{\"marker\":{\"color\":\"yellow\",\"size\":5},\"mode\":\"markers\",\"name\":\"ondatra.n.01\",\"opacity\":0.4,\"text\":[\"ondatra.n.01\"],\"x\":[3.545994758605957],\"y\":[-0.6419339776039124],\"type\":\"scatter\"},{\"marker\":{\"color\":\"yellow\",\"size\":5},\"mode\":\"markers\",\"name\":\"lagostomus.n.01\",\"opacity\":0.4,\"text\":[\"lagostomus.n.01\"],\"x\":[3.351119041442871],\"y\":[-0.29866039752960205],\"type\":\"scatter\"},{\"marker\":{\"color\":\"yellow\",\"size\":5},\"mode\":\"markers\",\"name\":\"presbytes.n.01\",\"opacity\":0.4,\"text\":[\"presbytes.n.01\"],\"x\":[3.392259359359741],\"y\":[0.30553755164146423],\"type\":\"scatter\"},{\"marker\":{\"color\":\"yellow\",\"size\":5},\"mode\":\"markers\",\"name\":\"genus_homo.n.01\",\"opacity\":0.4,\"text\":[\"genus_homo.n.01\"],\"x\":[4.9244303703308105],\"y\":[-0.23071278631687164],\"type\":\"scatter\"},{\"marker\":{\"color\":\"yellow\",\"size\":5},\"mode\":\"markers\",\"name\":\"martes.n.01\",\"opacity\":0.4,\"text\":[\"martes.n.01\"],\"x\":[3.6969356536865234],\"y\":[-0.3006170988082886],\"type\":\"scatter\"},{\"marker\":{\"color\":\"yellow\",\"size\":5},\"mode\":\"markers\",\"name\":\"trichys.n.01\",\"opacity\":0.4,\"text\":[\"trichys.n.01\"],\"x\":[2.9134535789489746],\"y\":[-0.3215361535549164],\"type\":\"scatter\"},{\"marker\":{\"color\":\"yellow\",\"size\":5},\"mode\":\"markers\",\"name\":\"procavia.n.01\",\"opacity\":0.4,\"text\":[\"procavia.n.01\"],\"x\":[3.152879238128662],\"y\":[0.07163900882005692],\"type\":\"scatter\"},{\"marker\":{\"color\":\"yellow\",\"size\":5},\"mode\":\"markers\",\"name\":\"melursus.n.01\",\"opacity\":0.4,\"text\":[\"melursus.n.01\"],\"x\":[3.3455798625946045],\"y\":[0.5019637942314148],\"type\":\"scatter\"},{\"marker\":{\"color\":\"yellow\",\"size\":5},\"mode\":\"markers\",\"name\":\"cystophora.n.01\",\"opacity\":0.4,\"text\":[\"cystophora.n.01\"],\"x\":[3.452821969985962],\"y\":[0.12444008886814117],\"type\":\"scatter\"},{\"marker\":{\"color\":\"yellow\",\"size\":5},\"mode\":\"markers\",\"name\":\"peromyscus.n.01\",\"opacity\":0.4,\"text\":[\"peromyscus.n.01\"],\"x\":[3.3988656997680664],\"y\":[0.29328951239585876],\"type\":\"scatter\"},{\"marker\":{\"color\":\"yellow\",\"size\":5},\"mode\":\"markers\",\"name\":\"naemorhedus.n.01\",\"opacity\":0.4,\"text\":[\"naemorhedus.n.01\"],\"x\":[3.5260188579559326],\"y\":[-0.48527398705482483],\"type\":\"scatter\"},{\"marker\":{\"color\":\"yellow\",\"size\":5},\"mode\":\"markers\",\"name\":\"bassariscus.n.01\",\"opacity\":0.4,\"text\":[\"bassariscus.n.01\"],\"x\":[3.411027193069458],\"y\":[-0.23025071620941162],\"type\":\"scatter\"},{\"marker\":{\"color\":\"yellow\",\"size\":5},\"mode\":\"markers\",\"name\":\"mus.n.01\",\"opacity\":0.4,\"text\":[\"mus.n.01\"],\"x\":[3.1321327686309814],\"y\":[-0.5648764967918396],\"type\":\"scatter\"},{\"marker\":{\"color\":\"yellow\",\"size\":5},\"mode\":\"markers\",\"name\":\"callicebus.n.01\",\"opacity\":0.4,\"text\":[\"callicebus.n.01\"],\"x\":[3.4127769470214844],\"y\":[0.37086501717567444],\"type\":\"scatter\"},{\"marker\":{\"color\":\"yellow\",\"size\":5},\"mode\":\"markers\",\"name\":\"dryopithecus.n.01\",\"opacity\":0.4,\"text\":[\"dryopithecus.n.01\"],\"x\":[3.9185495376586914],\"y\":[0.31424015760421753],\"type\":\"scatter\"},{\"marker\":{\"color\":\"yellow\",\"size\":5},\"mode\":\"markers\",\"name\":\"vicugna.n.01\",\"opacity\":0.4,\"text\":[\"vicugna.n.01\"],\"x\":[3.4218177795410156],\"y\":[-0.5425294041633606],\"type\":\"scatter\"},{\"marker\":{\"color\":\"yellow\",\"size\":5},\"mode\":\"markers\",\"name\":\"daubentonia.n.01\",\"opacity\":0.4,\"text\":[\"daubentonia.n.01\"],\"x\":[2.9501454830169678],\"y\":[-1.0761135816574097],\"type\":\"scatter\"},{\"marker\":{\"color\":\"yellow\",\"size\":5},\"mode\":\"markers\",\"name\":\"okapia.n.01\",\"opacity\":0.4,\"text\":[\"okapia.n.01\"],\"x\":[2.819687604904175],\"y\":[-1.300734043121338],\"type\":\"scatter\"},{\"marker\":{\"color\":\"yellow\",\"size\":5},\"mode\":\"markers\",\"name\":\"lepus.n.02\",\"opacity\":0.4,\"text\":[\"lepus.n.02\"],\"x\":[3.9809837341308594],\"y\":[0.31578925251960754],\"type\":\"scatter\"},{\"marker\":{\"color\":\"yellow\",\"size\":5},\"mode\":\"markers\",\"name\":\"eschrichtius.n.01\",\"opacity\":0.4,\"text\":[\"eschrichtius.n.01\"],\"x\":[3.1843276023864746],\"y\":[0.14012610912322998],\"type\":\"scatter\"},{\"marker\":{\"color\":\"yellow\",\"size\":5},\"mode\":\"markers\",\"name\":\"sylvilagus.n.01\",\"opacity\":0.4,\"text\":[\"sylvilagus.n.01\"],\"x\":[3.9254140853881836],\"y\":[-0.7120393514633179],\"type\":\"scatter\"},{\"marker\":{\"color\":\"yellow\",\"size\":5},\"mode\":\"markers\",\"name\":\"liomys.n.01\",\"opacity\":0.4,\"text\":[\"liomys.n.01\"],\"x\":[2.8549604415893555],\"y\":[0.41412580013275146],\"type\":\"scatter\"},{\"marker\":{\"color\":\"yellow\",\"size\":5},\"mode\":\"markers\",\"name\":\"arctonyx.n.01\",\"opacity\":0.4,\"text\":[\"arctonyx.n.01\"],\"x\":[3.125272512435913],\"y\":[-0.36024293303489685],\"type\":\"scatter\"},{\"marker\":{\"color\":\"yellow\",\"size\":5},\"mode\":\"markers\",\"name\":\"onychogalea.n.01\",\"opacity\":0.4,\"text\":[\"onychogalea.n.01\"],\"x\":[3.0642812252044678],\"y\":[1.1622885465621948],\"type\":\"scatter\"},{\"marker\":{\"color\":\"yellow\",\"size\":5},\"mode\":\"markers\",\"name\":\"macrotis.n.01\",\"opacity\":0.4,\"text\":[\"macrotis.n.01\"],\"x\":[2.983651638031006],\"y\":[-0.09336008131504059],\"type\":\"scatter\"},{\"marker\":{\"color\":\"yellow\",\"size\":5},\"mode\":\"markers\",\"name\":\"nyctereutes.n.01\",\"opacity\":0.4,\"text\":[\"nyctereutes.n.01\"],\"x\":[3.5178415775299072],\"y\":[-1.2711299657821655],\"type\":\"scatter\"},{\"marker\":{\"color\":\"yellow\",\"size\":5},\"mode\":\"markers\",\"name\":\"procyon.n.02\",\"opacity\":0.4,\"text\":[\"procyon.n.02\"],\"x\":[3.6470043659210205],\"y\":[-0.2743774354457855],\"type\":\"scatter\"},{\"marker\":{\"color\":\"yellow\",\"size\":5},\"mode\":\"markers\",\"name\":\"lemmus.n.01\",\"opacity\":0.4,\"text\":[\"lemmus.n.01\"],\"x\":[3.29550838470459],\"y\":[0.2351030558347702],\"type\":\"scatter\"},{\"marker\":{\"color\":\"yellow\",\"size\":5},\"mode\":\"markers\",\"name\":\"sciurus.n.01\",\"opacity\":0.4,\"text\":[\"sciurus.n.01\"],\"x\":[3.8294029235839844],\"y\":[-0.6518678665161133],\"type\":\"scatter\"},{\"marker\":{\"color\":\"yellow\",\"size\":5},\"mode\":\"markers\",\"name\":\"suricata.n.01\",\"opacity\":0.4,\"text\":[\"suricata.n.01\"],\"x\":[3.461989641189575],\"y\":[-0.06185195595026016],\"type\":\"scatter\"},{\"marker\":{\"color\":\"yellow\",\"size\":5},\"mode\":\"markers\",\"name\":\"boselaphus.n.01\",\"opacity\":0.4,\"text\":[\"boselaphus.n.01\"],\"x\":[3.5448763370513916],\"y\":[0.6622871160507202],\"type\":\"scatter\"},{\"marker\":{\"color\":\"yellow\",\"size\":5},\"mode\":\"markers\",\"name\":\"rangifer.n.01\",\"opacity\":0.4,\"text\":[\"rangifer.n.01\"],\"x\":[3.7116987705230713],\"y\":[0.34242111444473267],\"type\":\"scatter\"},{\"marker\":{\"color\":\"yellow\",\"size\":5},\"mode\":\"markers\",\"name\":\"cervus.n.01\",\"opacity\":0.4,\"text\":[\"cervus.n.01\"],\"x\":[3.566856622695923],\"y\":[0.6336096525192261],\"type\":\"scatter\"},{\"marker\":{\"color\":\"yellow\",\"size\":5},\"mode\":\"markers\",\"name\":\"rhinonicteris.n.01\",\"opacity\":0.4,\"text\":[\"rhinonicteris.n.01\"],\"x\":[2.846407890319824],\"y\":[0.9461962580680847],\"type\":\"scatter\"},{\"marker\":{\"color\":\"yellow\",\"size\":5},\"mode\":\"markers\",\"name\":\"castigate.v.02\",\"opacity\":0.4,\"text\":[\"castigate.v.02\"],\"x\":[3.8035311698913574],\"y\":[0.15880459547042847],\"type\":\"scatter\"},{\"marker\":{\"color\":\"yellow\",\"size\":5},\"mode\":\"markers\",\"name\":\"nyctimene.n.01\",\"opacity\":0.4,\"text\":[\"nyctimene.n.01\"],\"x\":[3.418365955352783],\"y\":[0.8687795400619507],\"type\":\"scatter\"},{\"marker\":{\"color\":\"yellow\",\"size\":5},\"mode\":\"markers\",\"name\":\"orycteropus.n.01\",\"opacity\":0.4,\"text\":[\"orycteropus.n.01\"],\"x\":[3.2496516704559326],\"y\":[-0.43950116634368896],\"type\":\"scatter\"},{\"marker\":{\"color\":\"yellow\",\"size\":5},\"mode\":\"markers\",\"name\":\"genus_bison.n.01\",\"opacity\":0.4,\"text\":[\"genus_bison.n.01\"],\"x\":[3.8420469760894775],\"y\":[-0.32852983474731445],\"type\":\"scatter\"},{\"marker\":{\"color\":\"yellow\",\"size\":5},\"mode\":\"markers\",\"name\":\"ptilocercus.n.01\",\"opacity\":0.4,\"text\":[\"ptilocercus.n.01\"],\"x\":[2.868332624435425],\"y\":[-0.2260892540216446],\"type\":\"scatter\"},{\"marker\":{\"color\":\"yellow\",\"size\":5},\"mode\":\"markers\",\"name\":\"tayassu.n.01\",\"opacity\":0.4,\"text\":[\"tayassu.n.01\"],\"x\":[3.184063673019409],\"y\":[1.000340461730957],\"type\":\"scatter\"},{\"marker\":{\"color\":\"yellow\",\"size\":5},\"mode\":\"markers\",\"name\":\"alopex.n.01\",\"opacity\":0.4,\"text\":[\"alopex.n.01\"],\"x\":[3.5017266273498535],\"y\":[-0.34728196263313293],\"type\":\"scatter\"},{\"marker\":{\"color\":\"yellow\",\"size\":5},\"mode\":\"markers\",\"name\":\"ictonyx.n.01\",\"opacity\":0.4,\"text\":[\"ictonyx.n.01\"],\"x\":[3.5205724239349365],\"y\":[-0.631169855594635],\"type\":\"scatter\"},{\"marker\":{\"color\":\"yellow\",\"size\":5},\"mode\":\"markers\",\"name\":\"erinaceus.n.01\",\"opacity\":0.4,\"text\":[\"erinaceus.n.01\"],\"x\":[3.9208669662475586],\"y\":[0.5441088676452637],\"type\":\"scatter\"},{\"marker\":{\"color\":\"yellow\",\"size\":5},\"mode\":\"markers\",\"name\":\"clethrionomys.n.01\",\"opacity\":0.4,\"text\":[\"clethrionomys.n.01\"],\"x\":[3.3598344326019287],\"y\":[0.6143938899040222],\"type\":\"scatter\"},{\"marker\":{\"color\":\"yellow\",\"size\":5},\"mode\":\"markers\",\"name\":\"hyperoodon.n.01\",\"opacity\":0.4,\"text\":[\"hyperoodon.n.01\"],\"x\":[3.3478660583496094],\"y\":[0.41214460134506226],\"type\":\"scatter\"},{\"marker\":{\"color\":\"yellow\",\"size\":5},\"mode\":\"markers\",\"name\":\"hemigalus.n.01\",\"opacity\":0.4,\"text\":[\"hemigalus.n.01\"],\"x\":[3.2341415882110596],\"y\":[0.5373978614807129],\"type\":\"scatter\"},{\"marker\":{\"color\":\"yellow\",\"size\":5},\"mode\":\"markers\",\"name\":\"bettongia.n.01\",\"opacity\":0.4,\"text\":[\"bettongia.n.01\"],\"x\":[2.7404801845550537],\"y\":[0.5517615079879761],\"type\":\"scatter\"},{\"marker\":{\"color\":\"yellow\",\"size\":5},\"mode\":\"markers\",\"name\":\"genus_grison.n.01\",\"opacity\":0.4,\"text\":[\"genus_grison.n.01\"],\"x\":[3.633249521255493],\"y\":[-0.11061087995767593],\"type\":\"scatter\"},{\"marker\":{\"color\":\"yellow\",\"size\":5},\"mode\":\"markers\",\"name\":\"leontocebus.n.01\",\"opacity\":0.4,\"text\":[\"leontocebus.n.01\"],\"x\":[3.389991521835327],\"y\":[-0.4635685086250305],\"type\":\"scatter\"},{\"marker\":{\"color\":\"yellow\",\"size\":5},\"mode\":\"markers\",\"name\":\"hydrodamalis.n.01\",\"opacity\":0.4,\"text\":[\"hydrodamalis.n.01\"],\"x\":[2.929285764694214],\"y\":[-0.8419238924980164],\"type\":\"scatter\"},{\"marker\":{\"color\":\"yellow\",\"size\":5},\"mode\":\"markers\",\"name\":\"hyemoschus.n.01\",\"opacity\":0.4,\"text\":[\"hyemoschus.n.01\"],\"x\":[3.233785629272461],\"y\":[-0.3911422789096832],\"type\":\"scatter\"},{\"marker\":{\"color\":\"yellow\",\"size\":5},\"mode\":\"markers\",\"name\":\"vulpes.n.01\",\"opacity\":0.4,\"text\":[\"vulpes.n.01\"],\"x\":[3.4798970222473145],\"y\":[0.7394847869873047],\"type\":\"scatter\"},{\"marker\":{\"color\":\"yellow\",\"size\":5},\"mode\":\"markers\",\"name\":\"tragulus.n.01\",\"opacity\":0.4,\"text\":[\"tragulus.n.01\"],\"x\":[3.261166572570801],\"y\":[0.17951564490795135],\"type\":\"scatter\"},{\"marker\":{\"color\":\"yellow\",\"size\":5},\"mode\":\"markers\",\"name\":\"alces.n.01\",\"opacity\":0.4,\"text\":[\"alces.n.01\"],\"x\":[3.6539554595947266],\"y\":[0.5545452237129211],\"type\":\"scatter\"},{\"marker\":{\"color\":\"yellow\",\"size\":5},\"mode\":\"markers\",\"name\":\"eptesicus.n.01\",\"opacity\":0.4,\"text\":[\"eptesicus.n.01\"],\"x\":[3.4072344303131104],\"y\":[0.17568959295749664],\"type\":\"scatter\"},{\"marker\":{\"color\":\"yellow\",\"size\":5},\"mode\":\"markers\",\"name\":\"ochotona.n.01\",\"opacity\":0.4,\"text\":[\"ochotona.n.01\"],\"x\":[3.221421003341675],\"y\":[-0.18812809884548187],\"type\":\"scatter\"},{\"marker\":{\"color\":\"yellow\",\"size\":5},\"mode\":\"markers\",\"name\":\"dolichotis.n.01\",\"opacity\":0.4,\"text\":[\"dolichotis.n.01\"],\"x\":[2.6698079109191895],\"y\":[0.7159184813499451],\"type\":\"scatter\"},{\"marker\":{\"color\":\"yellow\",\"size\":5},\"mode\":\"markers\",\"name\":\"aotus.n.01\",\"opacity\":0.4,\"text\":[\"aotus.n.01\"],\"x\":[3.040046453475952],\"y\":[1.3880810737609863],\"type\":\"scatter\"},{\"marker\":{\"color\":\"yellow\",\"size\":5},\"mode\":\"markers\",\"name\":\"connochaetes.n.01\",\"opacity\":0.4,\"text\":[\"connochaetes.n.01\"],\"x\":[3.617455005645752],\"y\":[-0.11423254013061523],\"type\":\"scatter\"},{\"marker\":{\"color\":\"yellow\",\"size\":5},\"mode\":\"markers\",\"name\":\"lasiurus.n.01\",\"opacity\":0.4,\"text\":[\"lasiurus.n.01\"],\"x\":[3.3928587436676025],\"y\":[0.08874048292636871],\"type\":\"scatter\"},{\"marker\":{\"color\":\"yellow\",\"size\":5},\"mode\":\"markers\",\"name\":\"hippotragus.n.01\",\"opacity\":0.4,\"text\":[\"hippotragus.n.01\"],\"x\":[3.658202648162842],\"y\":[-0.2379538118839264],\"type\":\"scatter\"},{\"marker\":{\"color\":\"yellow\",\"size\":5},\"mode\":\"markers\",\"name\":\"thylogale.n.01\",\"opacity\":0.4,\"text\":[\"thylogale.n.01\"],\"x\":[3.0903334617614746],\"y\":[1.0841397047042847],\"type\":\"scatter\"},{\"marker\":{\"color\":\"yellow\",\"size\":5},\"mode\":\"markers\",\"name\":\"ateles.n.01\",\"opacity\":0.4,\"text\":[\"ateles.n.01\"],\"x\":[3.394644260406494],\"y\":[-0.33017367124557495],\"type\":\"scatter\"},{\"marker\":{\"color\":\"yellow\",\"size\":5},\"mode\":\"markers\",\"name\":\"tragelaphus.n.01\",\"opacity\":0.4,\"text\":[\"tragelaphus.n.01\"],\"x\":[3.509882688522339],\"y\":[-0.45451635122299194],\"type\":\"scatter\"},{\"marker\":{\"color\":\"yellow\",\"size\":5},\"mode\":\"markers\",\"name\":\"capra.n.02\",\"opacity\":0.4,\"text\":[\"capra.n.02\"],\"x\":[4.615140438079834],\"y\":[0.2526211142539978],\"type\":\"scatter\"},{\"marker\":{\"color\":\"yellow\",\"size\":5},\"mode\":\"markers\",\"name\":\"petrogale.n.01\",\"opacity\":0.4,\"text\":[\"petrogale.n.01\"],\"x\":[2.1309008598327637],\"y\":[0.3988889455795288],\"type\":\"scatter\"},{\"marker\":{\"color\":\"yellow\",\"size\":5},\"mode\":\"markers\",\"name\":\"urocyon.n.01\",\"opacity\":0.4,\"text\":[\"urocyon.n.01\"],\"x\":[3.618783950805664],\"y\":[0.8120425343513489],\"type\":\"scatter\"},{\"marker\":{\"color\":\"yellow\",\"size\":5},\"mode\":\"markers\",\"name\":\"genus_hippopotamus.n.01\",\"opacity\":0.4,\"text\":[\"genus_hippopotamus.n.01\"],\"x\":[3.8192760944366455],\"y\":[0.30158907175064087],\"type\":\"scatter\"},{\"marker\":{\"color\":\"yellow\",\"size\":5},\"mode\":\"markers\",\"name\":\"mammut.n.01\",\"opacity\":0.4,\"text\":[\"mammut.n.01\"],\"x\":[3.270426034927368],\"y\":[0.372153103351593],\"type\":\"scatter\"},{\"marker\":{\"color\":\"yellow\",\"size\":5},\"mode\":\"markers\",\"name\":\"neofiber.n.01\",\"opacity\":0.4,\"text\":[\"neofiber.n.01\"],\"x\":[3.584264039993286],\"y\":[-0.44207096099853516],\"type\":\"scatter\"},{\"marker\":{\"color\":\"yellow\",\"size\":5},\"mode\":\"markers\",\"name\":\"macropus.n.01\",\"opacity\":0.4,\"text\":[\"macropus.n.01\"],\"x\":[2.062051296234131],\"y\":[0.7447609305381775],\"type\":\"scatter\"},{\"marker\":{\"color\":\"yellow\",\"size\":5},\"mode\":\"markers\",\"name\":\"petaurus.n.01\",\"opacity\":0.4,\"text\":[\"petaurus.n.01\"],\"x\":[3.236870527267456],\"y\":[0.38331663608551025],\"type\":\"scatter\"},{\"marker\":{\"color\":\"yellow\",\"size\":5},\"mode\":\"markers\",\"name\":\"trichechus.n.01\",\"opacity\":0.4,\"text\":[\"trichechus.n.01\"],\"x\":[2.9697153568267822],\"y\":[-0.5013704299926758],\"type\":\"scatter\"},{\"marker\":{\"color\":\"yellow\",\"size\":5},\"mode\":\"markers\",\"name\":\"nycticebus.n.01\",\"opacity\":0.4,\"text\":[\"nycticebus.n.01\"],\"x\":[3.0365872383117676],\"y\":[0.0438137911260128],\"type\":\"scatter\"},{\"marker\":{\"color\":\"yellow\",\"size\":5},\"mode\":\"markers\",\"name\":\"phyllostomus.n.01\",\"opacity\":0.4,\"text\":[\"phyllostomus.n.01\"],\"x\":[2.8258769512176514],\"y\":[0.4527615010738373],\"type\":\"scatter\"},{\"marker\":{\"color\":\"yellow\",\"size\":5},\"mode\":\"markers\",\"name\":\"elephas.n.01\",\"opacity\":0.4,\"text\":[\"elephas.n.01\"],\"x\":[3.4512462615966797],\"y\":[-0.3133842945098877],\"type\":\"scatter\"},{\"marker\":{\"color\":\"yellow\",\"size\":5},\"mode\":\"markers\",\"name\":\"diceros.n.01\",\"opacity\":0.4,\"text\":[\"diceros.n.01\"],\"x\":[3.4380433559417725],\"y\":[-0.2768327295780182],\"type\":\"scatter\"},{\"marker\":{\"color\":\"yellow\",\"size\":5},\"mode\":\"markers\",\"name\":\"reithrodontomys.n.01\",\"opacity\":0.4,\"text\":[\"reithrodontomys.n.01\"],\"x\":[3.2952656745910645],\"y\":[-0.8777151703834534],\"type\":\"scatter\"},{\"marker\":{\"color\":\"yellow\",\"size\":5},\"mode\":\"markers\",\"name\":\"muntiacus.n.01\",\"opacity\":0.4,\"text\":[\"muntiacus.n.01\"],\"x\":[3.69649338722229],\"y\":[-0.18817110359668732],\"type\":\"scatter\"},{\"marker\":{\"color\":\"yellow\",\"size\":5},\"mode\":\"markers\",\"name\":\"dasyurus.n.01\",\"opacity\":0.4,\"text\":[\"dasyurus.n.01\"],\"x\":[3.315242052078247],\"y\":[0.44179290533065796],\"type\":\"scatter\"},{\"marker\":{\"color\":\"yellow\",\"size\":5},\"mode\":\"markers\",\"name\":\"zalophus.n.01\",\"opacity\":0.4,\"text\":[\"zalophus.n.01\"],\"x\":[3.1625924110412598],\"y\":[0.2211013287305832],\"type\":\"scatter\"},{\"marker\":{\"color\":\"yellow\",\"size\":5},\"mode\":\"markers\",\"name\":\"microdipodops.n.01\",\"opacity\":0.4,\"text\":[\"microdipodops.n.01\"],\"x\":[2.8645260334014893],\"y\":[0.31765463948249817],\"type\":\"scatter\"},{\"marker\":{\"color\":\"yellow\",\"size\":5},\"mode\":\"markers\",\"name\":\"hypsiprymnodon.n.01\",\"opacity\":0.4,\"text\":[\"hypsiprymnodon.n.01\"],\"x\":[3.174027681350708],\"y\":[0.8260979652404785],\"type\":\"scatter\"},{\"marker\":{\"color\":\"yellow\",\"size\":5},\"mode\":\"markers\",\"name\":\"zaglossus.n.01\",\"opacity\":0.4,\"text\":[\"zaglossus.n.01\"],\"x\":[2.872417449951172],\"y\":[0.10594237595796585],\"type\":\"scatter\"},{\"marker\":{\"color\":\"yellow\",\"size\":5},\"mode\":\"markers\",\"name\":\"pagophilus.n.01\",\"opacity\":0.4,\"text\":[\"pagophilus.n.01\"],\"x\":[3.3470683097839355],\"y\":[-0.5671430230140686],\"type\":\"scatter\"},{\"marker\":{\"color\":\"yellow\",\"size\":5},\"mode\":\"markers\",\"name\":\"cynocephalus.n.01\",\"opacity\":0.4,\"text\":[\"cynocephalus.n.01\"],\"x\":[3.227212905883789],\"y\":[-0.49421221017837524],\"type\":\"scatter\"},{\"marker\":{\"color\":\"yellow\",\"size\":5},\"mode\":\"markers\",\"name\":\"tolypeutes.n.01\",\"opacity\":0.4,\"text\":[\"tolypeutes.n.01\"],\"x\":[3.111584424972534],\"y\":[0.4752179980278015],\"type\":\"scatter\"},{\"marker\":{\"color\":\"yellow\",\"size\":5},\"mode\":\"markers\",\"name\":\"dendrolagus.n.01\",\"opacity\":0.4,\"text\":[\"dendrolagus.n.01\"],\"x\":[3.1895132064819336],\"y\":[-0.7601063847541809],\"type\":\"scatter\"},{\"marker\":{\"color\":\"yellow\",\"size\":5},\"mode\":\"markers\",\"name\":\"oryzomys.n.01\",\"opacity\":0.4,\"text\":[\"oryzomys.n.01\"],\"x\":[3.3877947330474854],\"y\":[0.15502400696277618],\"type\":\"scatter\"},{\"marker\":{\"color\":\"yellow\",\"size\":5},\"mode\":\"markers\",\"name\":\"balaena.n.01\",\"opacity\":0.4,\"text\":[\"balaena.n.01\"],\"x\":[3.1469483375549316],\"y\":[0.3287683129310608],\"type\":\"scatter\"},{\"marker\":{\"color\":\"yellow\",\"size\":5},\"mode\":\"markers\",\"name\":\"aepyceros.n.01\",\"opacity\":0.4,\"text\":[\"aepyceros.n.01\"],\"x\":[3.576275587081909],\"y\":[-0.7542543411254883],\"type\":\"scatter\"},{\"marker\":{\"color\":\"yellow\",\"size\":5},\"mode\":\"markers\",\"name\":\"babyrousa.n.01\",\"opacity\":0.4,\"text\":[\"babyrousa.n.01\"],\"x\":[3.841533899307251],\"y\":[0.7065997123718262],\"type\":\"scatter\"},{\"marker\":{\"color\":\"yellow\",\"size\":5},\"mode\":\"markers\",\"name\":\"ovibos.n.01\",\"opacity\":0.4,\"text\":[\"ovibos.n.01\"],\"x\":[3.7360012531280518],\"y\":[0.48773136734962463],\"type\":\"scatter\"},{\"marker\":{\"color\":\"yellow\",\"size\":5},\"mode\":\"markers\",\"name\":\"genus_anoa.n.01\",\"opacity\":0.4,\"text\":[\"genus_anoa.n.01\"],\"x\":[3.605004072189331],\"y\":[0.5186986923217773],\"type\":\"scatter\"},{\"marker\":{\"color\":\"yellow\",\"size\":5},\"mode\":\"markers\",\"name\":\"ailurus.n.01\",\"opacity\":0.4,\"text\":[\"ailurus.n.01\"],\"x\":[3.3893377780914307],\"y\":[0.30775904655456543],\"type\":\"scatter\"},{\"marker\":{\"color\":\"yellow\",\"size\":5},\"mode\":\"markers\",\"name\":\"perognathus.n.01\",\"opacity\":0.4,\"text\":[\"perognathus.n.01\"],\"x\":[2.811497449874878],\"y\":[-0.6377037763595581],\"type\":\"scatter\"},{\"marker\":{\"color\":\"yellow\",\"size\":5},\"mode\":\"markers\",\"name\":\"glis.n.01\",\"opacity\":0.4,\"text\":[\"glis.n.01\"],\"x\":[2.8874106407165527],\"y\":[-0.5559325218200684],\"type\":\"scatter\"},{\"marker\":{\"color\":\"yellow\",\"size\":5},\"mode\":\"markers\",\"name\":\"citellus.n.01\",\"opacity\":0.4,\"text\":[\"citellus.n.01\"],\"x\":[3.7374980449676514],\"y\":[-0.16796348989009857],\"type\":\"scatter\"},{\"marker\":{\"color\":\"yellow\",\"size\":5},\"mode\":\"markers\",\"name\":\"adenota.n.01\",\"opacity\":0.4,\"text\":[\"adenota.n.01\"],\"x\":[3.441504716873169],\"y\":[1.1179076433181763],\"type\":\"scatter\"},{\"marker\":{\"color\":\"yellow\",\"size\":5},\"mode\":\"markers\",\"name\":\"viverricula.n.01\",\"opacity\":0.4,\"text\":[\"viverricula.n.01\"],\"x\":[3.259028434753418],\"y\":[0.265302836894989],\"type\":\"scatter\"},{\"marker\":{\"color\":\"yellow\",\"size\":5},\"mode\":\"markers\",\"name\":\"elaphurus.n.01\",\"opacity\":0.4,\"text\":[\"elaphurus.n.01\"],\"x\":[3.379150867462158],\"y\":[-0.17215240001678467],\"type\":\"scatter\"},{\"marker\":{\"color\":\"yellow\",\"size\":5},\"mode\":\"markers\",\"name\":\"dasypus.n.01\",\"opacity\":0.4,\"text\":[\"dasypus.n.01\"],\"x\":[3.177311658859253],\"y\":[0.7179352045059204],\"type\":\"scatter\"},{\"marker\":{\"color\":\"yellow\",\"size\":5},\"mode\":\"markers\",\"name\":\"conepatus.n.01\",\"opacity\":0.4,\"text\":[\"conepatus.n.01\"],\"x\":[3.670839309692383],\"y\":[-0.3792557716369629],\"type\":\"scatter\"},{\"marker\":{\"color\":\"yellow\",\"size\":5},\"mode\":\"markers\",\"name\":\"uropsilus.n.01\",\"opacity\":0.4,\"text\":[\"uropsilus.n.01\"],\"x\":[3.260383129119873],\"y\":[0.12493754923343658],\"type\":\"scatter\"},{\"marker\":{\"color\":\"yellow\",\"size\":5},\"mode\":\"markers\",\"name\":\"thylacinus.n.01\",\"opacity\":0.4,\"text\":[\"thylacinus.n.01\"],\"x\":[3.3680214881896973],\"y\":[0.2730610966682434],\"type\":\"scatter\"},{\"marker\":{\"color\":\"yellow\",\"size\":5},\"mode\":\"markers\",\"name\":\"phoca.n.01\",\"opacity\":0.4,\"text\":[\"phoca.n.01\"],\"x\":[3.3853776454925537],\"y\":[-0.29898035526275635],\"type\":\"scatter\"},{\"marker\":{\"color\":\"yellow\",\"size\":5},\"mode\":\"markers\",\"name\":\"myotis.n.01\",\"opacity\":0.4,\"text\":[\"myotis.n.01\"],\"x\":[3.1969587802886963],\"y\":[1.0699204206466675],\"type\":\"scatter\"},{\"marker\":{\"color\":\"yellow\",\"size\":5},\"mode\":\"markers\",\"name\":\"lagorchestes.n.01\",\"opacity\":0.4,\"text\":[\"lagorchestes.n.01\"],\"x\":[3.201347589492798],\"y\":[-0.6553323268890381],\"type\":\"scatter\"},{\"marker\":{\"color\":\"yellow\",\"size\":5},\"mode\":\"markers\",\"name\":\"muscardinus.n.01\",\"opacity\":0.4,\"text\":[\"muscardinus.n.01\"],\"x\":[2.9398744106292725],\"y\":[-0.04008016362786293],\"type\":\"scatter\"},{\"marker\":{\"color\":\"yellow\",\"size\":5},\"mode\":\"markers\",\"name\":\"atherurus.n.01\",\"opacity\":0.4,\"text\":[\"atherurus.n.01\"],\"x\":[2.788158416748047],\"y\":[0.8730586767196655],\"type\":\"scatter\"},{\"marker\":{\"color\":\"yellow\",\"size\":5},\"mode\":\"markers\",\"name\":\"lama.n.02\",\"opacity\":0.4,\"text\":[\"lama.n.02\"],\"x\":[3.3387463092803955],\"y\":[0.08788781613111496],\"type\":\"scatter\"},{\"marker\":{\"color\":\"yellow\",\"size\":5},\"mode\":\"markers\",\"name\":\"mephitis.n.03\",\"opacity\":0.4,\"text\":[\"mephitis.n.03\"],\"x\":[3.3839659690856934],\"y\":[-0.8851462602615356],\"type\":\"scatter\"},{\"marker\":{\"color\":\"yellow\",\"size\":5},\"mode\":\"markers\",\"name\":\"taxidea.n.01\",\"opacity\":0.4,\"text\":[\"taxidea.n.01\"],\"x\":[1.6843994855880737],\"y\":[1.389660358428955],\"type\":\"scatter\"},{\"marker\":{\"color\":\"yellow\",\"size\":5},\"mode\":\"markers\",\"name\":\"dipodomys.n.01\",\"opacity\":0.4,\"text\":[\"dipodomys.n.01\"],\"x\":[2.8652725219726562],\"y\":[0.2659399211406708],\"type\":\"scatter\"},{\"marker\":{\"color\":\"yellow\",\"size\":5},\"mode\":\"markers\",\"name\":\"oreamnos.n.01\",\"opacity\":0.4,\"text\":[\"oreamnos.n.01\"],\"x\":[3.549386739730835],\"y\":[-0.26626113057136536],\"type\":\"scatter\"},{\"marker\":{\"color\":\"yellow\",\"size\":5},\"mode\":\"markers\",\"name\":\"raphicerus.n.01\",\"opacity\":0.4,\"text\":[\"raphicerus.n.01\"],\"x\":[2.188249349594116],\"y\":[0.10078518837690353],\"type\":\"scatter\"},{\"marker\":{\"color\":\"yellow\",\"size\":5},\"mode\":\"markers\",\"name\":\"fossa.n.02\",\"opacity\":0.4,\"text\":[\"fossa.n.02\"],\"x\":[2.1863205432891846],\"y\":[0.1886092871427536],\"type\":\"scatter\"},{\"marker\":{\"color\":\"yellow\",\"size\":5},\"mode\":\"markers\",\"name\":\"archidiskidon.n.01\",\"opacity\":0.4,\"text\":[\"archidiskidon.n.01\"],\"x\":[3.3728713989257812],\"y\":[-0.8296952843666077],\"type\":\"scatter\"},{\"marker\":{\"color\":\"yellow\",\"size\":5},\"mode\":\"markers\",\"name\":\"burmeisteria.n.01\",\"opacity\":0.4,\"text\":[\"burmeisteria.n.01\"],\"x\":[3.1264846324920654],\"y\":[0.27567431330680847],\"type\":\"scatter\"},{\"marker\":{\"color\":\"yellow\",\"size\":5},\"mode\":\"markers\",\"name\":\"cynomys.n.01\",\"opacity\":0.4,\"text\":[\"cynomys.n.01\"],\"x\":[3.362677812576294],\"y\":[0.590275228023529],\"type\":\"scatter\"},{\"marker\":{\"color\":\"yellow\",\"size\":5},\"mode\":\"markers\",\"name\":\"genus_macrotus.n.01\",\"opacity\":0.4,\"text\":[\"genus_macrotus.n.01\"],\"x\":[2.690021276473999],\"y\":[0.9783236384391785],\"type\":\"scatter\"},{\"marker\":{\"color\":\"yellow\",\"size\":5},\"mode\":\"markers\",\"name\":\"mandrillus.n.01\",\"opacity\":0.4,\"text\":[\"mandrillus.n.01\"],\"x\":[3.387819766998291],\"y\":[0.39264601469039917],\"type\":\"scatter\"},{\"marker\":{\"color\":\"yellow\",\"size\":5},\"mode\":\"markers\",\"name\":\"nesokia.n.01\",\"opacity\":0.4,\"text\":[\"nesokia.n.01\"],\"x\":[2.1519596576690674],\"y\":[0.361272931098938],\"type\":\"scatter\"},{\"marker\":{\"color\":\"yellow\",\"size\":5},\"mode\":\"markers\",\"name\":\"baiomys.n.01\",\"opacity\":0.4,\"text\":[\"baiomys.n.01\"],\"x\":[3.364896774291992],\"y\":[0.04656529799103737],\"type\":\"scatter\"},{\"marker\":{\"color\":\"yellow\",\"size\":5},\"mode\":\"markers\",\"name\":\"antilope.n.01\",\"opacity\":0.4,\"text\":[\"antilope.n.01\"],\"x\":[2.18082332611084],\"y\":[-0.07797128707170486],\"type\":\"scatter\"},{\"marker\":{\"color\":\"purple\",\"size\":5},\"mode\":\"markers\",\"name\":\"icteria.n.01\",\"opacity\":0.4,\"text\":[\"icteria.n.01\"],\"x\":[3.596195936203003],\"y\":[0.3215886950492859],\"type\":\"scatter\"},{\"marker\":{\"color\":\"purple\",\"size\":5},\"mode\":\"markers\",\"name\":\"zenaidura.n.01\",\"opacity\":0.4,\"text\":[\"zenaidura.n.01\"],\"x\":[3.2037744522094727],\"y\":[0.30594563484191895],\"type\":\"scatter\"},{\"marker\":{\"color\":\"purple\",\"size\":5},\"mode\":\"markers\",\"name\":\"plectrophenax.n.01\",\"opacity\":0.4,\"text\":[\"plectrophenax.n.01\"],\"x\":[3.2532434463500977],\"y\":[0.04304330796003342],\"type\":\"scatter\"},{\"marker\":{\"color\":\"purple\",\"size\":5},\"mode\":\"markers\",\"name\":\"porzana.n.01\",\"opacity\":0.4,\"text\":[\"porzana.n.01\"],\"x\":[3.1365702152252197],\"y\":[-1.1678088903427124],\"type\":\"scatter\"},{\"marker\":{\"color\":\"purple\",\"size\":5},\"mode\":\"markers\",\"name\":\"elanoides.n.01\",\"opacity\":0.4,\"text\":[\"elanoides.n.01\"],\"x\":[3.0520999431610107],\"y\":[1.5846668481826782],\"type\":\"scatter\"},{\"marker\":{\"color\":\"purple\",\"size\":5},\"mode\":\"markers\",\"name\":\"irena.n.01\",\"opacity\":0.4,\"text\":[\"irena.n.01\"],\"x\":[2.8116495609283447],\"y\":[0.2850099802017212],\"type\":\"scatter\"},{\"marker\":{\"color\":\"purple\",\"size\":5},\"mode\":\"markers\",\"name\":\"actitis.n.01\",\"opacity\":0.4,\"text\":[\"actitis.n.01\"],\"x\":[3.3890247344970703],\"y\":[0.1502685248851776],\"type\":\"scatter\"},{\"marker\":{\"color\":\"purple\",\"size\":5},\"mode\":\"markers\",\"name\":\"dendroica.n.01\",\"opacity\":0.4,\"text\":[\"dendroica.n.01\"],\"x\":[4.4112420082092285],\"y\":[0.42361584305763245],\"type\":\"scatter\"},{\"marker\":{\"color\":\"purple\",\"size\":5},\"mode\":\"markers\",\"name\":\"phalacrocorax.n.01\",\"opacity\":0.4,\"text\":[\"phalacrocorax.n.01\"],\"x\":[2.5369532108306885],\"y\":[0.7314054369926453],\"type\":\"scatter\"},{\"marker\":{\"color\":\"purple\",\"size\":5},\"mode\":\"markers\",\"name\":\"passer.n.05\",\"opacity\":0.4,\"text\":[\"passer.n.05\"],\"x\":[3.203434944152832],\"y\":[-0.7230446934700012],\"type\":\"scatter\"},{\"marker\":{\"color\":\"purple\",\"size\":5},\"mode\":\"markers\",\"name\":\"numida.n.01\",\"opacity\":0.4,\"text\":[\"numida.n.01\"],\"x\":[3.6402382850646973],\"y\":[-0.504646897315979],\"type\":\"scatter\"},{\"marker\":{\"color\":\"purple\",\"size\":5},\"mode\":\"markers\",\"name\":\"saxicola.n.01\",\"opacity\":0.4,\"text\":[\"saxicola.n.01\"],\"x\":[3.3121564388275146],\"y\":[-0.5240950584411621],\"type\":\"scatter\"},{\"marker\":{\"color\":\"purple\",\"size\":5},\"mode\":\"markers\",\"name\":\"branta.n.01\",\"opacity\":0.4,\"text\":[\"branta.n.01\"],\"x\":[3.8310797214508057],\"y\":[0.12904755771160126],\"type\":\"scatter\"},{\"marker\":{\"color\":\"purple\",\"size\":5},\"mode\":\"markers\",\"name\":\"sagittarius.n.04\",\"opacity\":0.4,\"text\":[\"sagittarius.n.04\"],\"x\":[2.745995044708252],\"y\":[1.0788617134094238],\"type\":\"scatter\"},{\"marker\":{\"color\":\"purple\",\"size\":5},\"mode\":\"markers\",\"name\":\"limnocryptes.n.01\",\"opacity\":0.4,\"text\":[\"limnocryptes.n.01\"],\"x\":[3.357116937637329],\"y\":[0.30717170238494873],\"type\":\"scatter\"},{\"marker\":{\"color\":\"purple\",\"size\":5},\"mode\":\"markers\",\"name\":\"polyborus.n.01\",\"opacity\":0.4,\"text\":[\"polyborus.n.01\"],\"x\":[3.449867010116577],\"y\":[-0.3300604522228241],\"type\":\"scatter\"},{\"marker\":{\"color\":\"purple\",\"size\":5},\"mode\":\"markers\",\"name\":\"athene.n.02\",\"opacity\":0.4,\"text\":[\"athene.n.02\"],\"x\":[3.371141195297241],\"y\":[0.41874998807907104],\"type\":\"scatter\"},{\"marker\":{\"color\":\"purple\",\"size\":5},\"mode\":\"markers\",\"name\":\"bonasa.n.01\",\"opacity\":0.4,\"text\":[\"bonasa.n.01\"],\"x\":[3.1936349868774414],\"y\":[1.275395154953003],\"type\":\"scatter\"},{\"marker\":{\"color\":\"purple\",\"size\":5},\"mode\":\"markers\",\"name\":\"acanthisitta.n.01\",\"opacity\":0.4,\"text\":[\"acanthisitta.n.01\"],\"x\":[3.746854066848755],\"y\":[0.17532970011234283],\"type\":\"scatter\"},{\"marker\":{\"color\":\"purple\",\"size\":5},\"mode\":\"markers\",\"name\":\"certhia.n.01\",\"opacity\":0.4,\"text\":[\"certhia.n.01\"],\"x\":[2.9744160175323486],\"y\":[-0.45910272002220154],\"type\":\"scatter\"},{\"marker\":{\"color\":\"purple\",\"size\":5},\"mode\":\"markers\",\"name\":\"genus_leipoa.n.01\",\"opacity\":0.4,\"text\":[\"genus_leipoa.n.01\"],\"x\":[3.468125104904175],\"y\":[-0.046282779425382614],\"type\":\"scatter\"},{\"marker\":{\"color\":\"purple\",\"size\":5},\"mode\":\"markers\",\"name\":\"passerina.n.01\",\"opacity\":0.4,\"text\":[\"passerina.n.01\"],\"x\":[3.2601943016052246],\"y\":[0.12818218767642975],\"type\":\"scatter\"},{\"marker\":{\"color\":\"purple\",\"size\":5},\"mode\":\"markers\",\"name\":\"ortalis.n.01\",\"opacity\":0.4,\"text\":[\"ortalis.n.01\"],\"x\":[3.8483197689056396],\"y\":[-0.08137978613376617],\"type\":\"scatter\"},{\"marker\":{\"color\":\"purple\",\"size\":5},\"mode\":\"markers\",\"name\":\"pandion.n.01\",\"opacity\":0.4,\"text\":[\"pandion.n.01\"],\"x\":[3.3067355155944824],\"y\":[-0.1176048144698143],\"type\":\"scatter\"},{\"marker\":{\"color\":\"purple\",\"size\":5},\"mode\":\"markers\",\"name\":\"nyctanassa.n.01\",\"opacity\":0.4,\"text\":[\"nyctanassa.n.01\"],\"x\":[3.223309278488159],\"y\":[0.7555042505264282],\"type\":\"scatter\"},{\"marker\":{\"color\":\"purple\",\"size\":5},\"mode\":\"markers\",\"name\":\"cochlearius.n.01\",\"opacity\":0.4,\"text\":[\"cochlearius.n.01\"],\"x\":[3.2563581466674805],\"y\":[-0.810972273349762],\"type\":\"scatter\"},{\"marker\":{\"color\":\"purple\",\"size\":5},\"mode\":\"markers\",\"name\":\"botaurus.n.01\",\"opacity\":0.4,\"text\":[\"botaurus.n.01\"],\"x\":[3.3099985122680664],\"y\":[0.0018838950200006366],\"type\":\"scatter\"},{\"marker\":{\"color\":\"purple\",\"size\":5},\"mode\":\"markers\",\"name\":\"tetrao.n.01\",\"opacity\":0.4,\"text\":[\"tetrao.n.01\"],\"x\":[3.4822821617126465],\"y\":[-0.2376386523246765],\"type\":\"scatter\"},{\"marker\":{\"color\":\"purple\",\"size\":5},\"mode\":\"markers\",\"name\":\"gallinula.n.01\",\"opacity\":0.4,\"text\":[\"gallinula.n.01\"],\"x\":[3.8944272994995117],\"y\":[0.19179794192314148],\"type\":\"scatter\"},{\"marker\":{\"color\":\"purple\",\"size\":5},\"mode\":\"markers\",\"name\":\"threskiornis.n.01\",\"opacity\":0.4,\"text\":[\"threskiornis.n.01\"],\"x\":[2.9474258422851562],\"y\":[0.073062963783741],\"type\":\"scatter\"},{\"marker\":{\"color\":\"purple\",\"size\":5},\"mode\":\"markers\",\"name\":\"burhinus.n.01\",\"opacity\":0.4,\"text\":[\"burhinus.n.01\"],\"x\":[3.1564934253692627],\"y\":[0.61009681224823],\"type\":\"scatter\"},{\"marker\":{\"color\":\"purple\",\"size\":5},\"mode\":\"markers\",\"name\":\"mergus.n.01\",\"opacity\":0.4,\"text\":[\"mergus.n.01\"],\"x\":[3.8517067432403564],\"y\":[0.4242378771305084],\"type\":\"scatter\"},{\"marker\":{\"color\":\"purple\",\"size\":5},\"mode\":\"markers\",\"name\":\"sayornis.n.01\",\"opacity\":0.4,\"text\":[\"sayornis.n.01\"],\"x\":[3.3954975605010986],\"y\":[-0.5109633803367615],\"type\":\"scatter\"},{\"marker\":{\"color\":\"purple\",\"size\":5},\"mode\":\"markers\",\"name\":\"charadrius.n.01\",\"opacity\":0.4,\"text\":[\"charadrius.n.01\"],\"x\":[4.772851943969727],\"y\":[-1.6544417142868042],\"type\":\"scatter\"},{\"marker\":{\"color\":\"purple\",\"size\":5},\"mode\":\"markers\",\"name\":\"choriotis.n.01\",\"opacity\":0.4,\"text\":[\"choriotis.n.01\"],\"x\":[2.662235736846924],\"y\":[0.9870903491973877],\"type\":\"scatter\"},{\"marker\":{\"color\":\"purple\",\"size\":5},\"mode\":\"markers\",\"name\":\"erithacus.n.01\",\"opacity\":0.4,\"text\":[\"erithacus.n.01\"],\"x\":[3.263035535812378],\"y\":[-0.3743591010570526],\"type\":\"scatter\"},{\"marker\":{\"color\":\"purple\",\"size\":5},\"mode\":\"markers\",\"name\":\"xenicus.n.01\",\"opacity\":0.4,\"text\":[\"xenicus.n.01\"],\"x\":[3.7200629711151123],\"y\":[0.3665759861469269],\"type\":\"scatter\"},{\"marker\":{\"color\":\"purple\",\"size\":5},\"mode\":\"markers\",\"name\":\"elanus.n.01\",\"opacity\":0.4,\"text\":[\"elanus.n.01\"],\"x\":[3.4565975666046143],\"y\":[-0.14385882019996643],\"type\":\"scatter\"},{\"marker\":{\"color\":\"purple\",\"size\":5},\"mode\":\"markers\",\"name\":\"chateura.n.01\",\"opacity\":0.4,\"text\":[\"chateura.n.01\"],\"x\":[2.8362808227539062],\"y\":[-0.16569416224956512],\"type\":\"scatter\"},{\"marker\":{\"color\":\"purple\",\"size\":5},\"mode\":\"markers\",\"name\":\"richmondena.n.01\",\"opacity\":0.4,\"text\":[\"richmondena.n.01\"],\"x\":[3.3643782138824463],\"y\":[-0.2634742259979248],\"type\":\"scatter\"},{\"marker\":{\"color\":\"purple\",\"size\":5},\"mode\":\"markers\",\"name\":\"tichodroma.n.01\",\"opacity\":0.4,\"text\":[\"tichodroma.n.01\"],\"x\":[3.1018407344818115],\"y\":[-0.016348522156476974],\"type\":\"scatter\"},{\"marker\":{\"color\":\"purple\",\"size\":5},\"mode\":\"markers\",\"name\":\"muscicapa.n.01\",\"opacity\":0.4,\"text\":[\"muscicapa.n.01\"],\"x\":[3.1124799251556396],\"y\":[-0.44815370440483093],\"type\":\"scatter\"},{\"marker\":{\"color\":\"purple\",\"size\":5},\"mode\":\"markers\",\"name\":\"anas.n.01\",\"opacity\":0.4,\"text\":[\"anas.n.01\"],\"x\":[3.4189279079437256],\"y\":[0.22121992707252502],\"type\":\"scatter\"},{\"marker\":{\"color\":\"purple\",\"size\":5},\"mode\":\"markers\",\"name\":\"sterna.n.01\",\"opacity\":0.4,\"text\":[\"sterna.n.01\"],\"x\":[3.1444172859191895],\"y\":[-0.7066568732261658],\"type\":\"scatter\"},{\"marker\":{\"color\":\"purple\",\"size\":5},\"mode\":\"markers\",\"name\":\"ciconia.n.01\",\"opacity\":0.4,\"text\":[\"ciconia.n.01\"],\"x\":[3.3602919578552246],\"y\":[-0.6366361975669861],\"type\":\"scatter\"},{\"marker\":{\"color\":\"purple\",\"size\":5},\"mode\":\"markers\",\"name\":\"seiurus.n.01\",\"opacity\":0.4,\"text\":[\"seiurus.n.01\"],\"x\":[3.759042263031006],\"y\":[0.630980372428894],\"type\":\"scatter\"},{\"marker\":{\"color\":\"purple\",\"size\":5},\"mode\":\"markers\",\"name\":\"casmerodius.n.01\",\"opacity\":0.4,\"text\":[\"casmerodius.n.01\"],\"x\":[3.1938445568084717],\"y\":[-0.08030163496732712],\"type\":\"scatter\"},{\"marker\":{\"color\":\"purple\",\"size\":5},\"mode\":\"markers\",\"name\":\"psittacus.n.01\",\"opacity\":0.4,\"text\":[\"psittacus.n.01\"],\"x\":[3.1240522861480713],\"y\":[0.4760620594024658],\"type\":\"scatter\"},{\"marker\":{\"color\":\"purple\",\"size\":5},\"mode\":\"markers\",\"name\":\"pipilo.n.01\",\"opacity\":0.4,\"text\":[\"pipilo.n.01\"],\"x\":[3.354562997817993],\"y\":[0.46344059705734253],\"type\":\"scatter\"},{\"marker\":{\"color\":\"purple\",\"size\":5},\"mode\":\"markers\",\"name\":\"alectura.n.01\",\"opacity\":0.4,\"text\":[\"alectura.n.01\"],\"x\":[3.4038093090057373],\"y\":[-0.5919753909111023],\"type\":\"scatter\"},{\"marker\":{\"color\":\"purple\",\"size\":5},\"mode\":\"markers\",\"name\":\"caprimulgus.n.01\",\"opacity\":0.4,\"text\":[\"caprimulgus.n.01\"],\"x\":[3.067030191421509],\"y\":[-2.113176107406616],\"type\":\"scatter\"},{\"marker\":{\"color\":\"purple\",\"size\":5},\"mode\":\"markers\",\"name\":\"chlorophoneus.n.01\",\"opacity\":0.4,\"text\":[\"chlorophoneus.n.01\"],\"x\":[2.7828848361968994],\"y\":[0.2442241758108139],\"type\":\"scatter\"},{\"marker\":{\"color\":\"purple\",\"size\":5},\"mode\":\"markers\",\"name\":\"cygnus.n.02\",\"opacity\":0.4,\"text\":[\"cygnus.n.02\"],\"x\":[3.614628791809082],\"y\":[-0.9961744546890259],\"type\":\"scatter\"},{\"marker\":{\"color\":\"purple\",\"size\":5},\"mode\":\"markers\",\"name\":\"rupicola.n.01\",\"opacity\":0.4,\"text\":[\"rupicola.n.01\"],\"x\":[2.9765501022338867],\"y\":[-1.0015394687652588],\"type\":\"scatter\"},{\"marker\":{\"color\":\"purple\",\"size\":5},\"mode\":\"markers\",\"name\":\"pagophila.n.01\",\"opacity\":0.4,\"text\":[\"pagophila.n.01\"],\"x\":[3.3525166511535645],\"y\":[1.0574637651443481],\"type\":\"scatter\"},{\"marker\":{\"color\":\"purple\",\"size\":5},\"mode\":\"markers\",\"name\":\"timalia.n.01\",\"opacity\":0.4,\"text\":[\"timalia.n.01\"],\"x\":[3.9420042037963867],\"y\":[0.29471901059150696],\"type\":\"scatter\"},{\"marker\":{\"color\":\"purple\",\"size\":5},\"mode\":\"markers\",\"name\":\"agriocharis.n.01\",\"opacity\":0.4,\"text\":[\"agriocharis.n.01\"],\"x\":[3.463122606277466],\"y\":[0.9992333650588989],\"type\":\"scatter\"},{\"marker\":{\"color\":\"purple\",\"size\":5},\"mode\":\"markers\",\"name\":\"pavo.n.02\",\"opacity\":0.4,\"text\":[\"pavo.n.02\"],\"x\":[3.832895278930664],\"y\":[0.5837662816047668],\"type\":\"scatter\"},{\"marker\":{\"color\":\"purple\",\"size\":5},\"mode\":\"markers\",\"name\":\"otus.n.01\",\"opacity\":0.4,\"text\":[\"otus.n.01\"],\"x\":[3.4135780334472656],\"y\":[-0.5778913497924805],\"type\":\"scatter\"},{\"marker\":{\"color\":\"purple\",\"size\":5},\"mode\":\"markers\",\"name\":\"pterocles.n.01\",\"opacity\":0.4,\"text\":[\"pterocles.n.01\"],\"x\":[3.1817991733551025],\"y\":[0.24078701436519623],\"type\":\"scatter\"},{\"marker\":{\"color\":\"purple\",\"size\":5},\"mode\":\"markers\",\"name\":\"nymphicus.n.01\",\"opacity\":0.4,\"text\":[\"nymphicus.n.01\"],\"x\":[3.0167958736419678],\"y\":[0.9490453004837036],\"type\":\"scatter\"},{\"marker\":{\"color\":\"purple\",\"size\":5},\"mode\":\"markers\",\"name\":\"vanellus.n.01\",\"opacity\":0.4,\"text\":[\"vanellus.n.01\"],\"x\":[3.5992846488952637],\"y\":[-1.3726153373718262],\"type\":\"scatter\"},{\"marker\":{\"color\":\"purple\",\"size\":5},\"mode\":\"markers\",\"name\":\"ephippiorhynchus.n.01\",\"opacity\":0.4,\"text\":[\"ephippiorhynchus.n.01\"],\"x\":[2.9437122344970703],\"y\":[-1.8072067499160767],\"type\":\"scatter\"},{\"marker\":{\"color\":\"purple\",\"size\":5},\"mode\":\"markers\",\"name\":\"melanerpes.n.01\",\"opacity\":0.4,\"text\":[\"melanerpes.n.01\"],\"x\":[3.177262783050537],\"y\":[0.757003664970398],\"type\":\"scatter\"},{\"marker\":{\"color\":\"purple\",\"size\":5},\"mode\":\"markers\",\"name\":\"spizella.n.01\",\"opacity\":0.4,\"text\":[\"spizella.n.01\"],\"x\":[3.272240161895752],\"y\":[-0.9333032965660095],\"type\":\"scatter\"},{\"marker\":{\"color\":\"purple\",\"size\":5},\"mode\":\"markers\",\"name\":\"tyto.n.01\",\"opacity\":0.4,\"text\":[\"tyto.n.01\"],\"x\":[3.1526198387145996],\"y\":[-0.11396703124046326],\"type\":\"scatter\"},{\"marker\":{\"color\":\"purple\",\"size\":5},\"mode\":\"markers\",\"name\":\"gallus.n.02\",\"opacity\":0.4,\"text\":[\"gallus.n.02\"],\"x\":[4.6171112060546875],\"y\":[0.10076012462377548],\"type\":\"scatter\"},{\"marker\":{\"color\":\"purple\",\"size\":5},\"mode\":\"markers\",\"name\":\"dacelo.n.01\",\"opacity\":0.4,\"text\":[\"dacelo.n.01\"],\"x\":[2.9579453468322754],\"y\":[-0.2724131941795349],\"type\":\"scatter\"},{\"marker\":{\"color\":\"purple\",\"size\":5},\"mode\":\"markers\",\"name\":\"pterocnemia.n.01\",\"opacity\":0.4,\"text\":[\"pterocnemia.n.01\"],\"x\":[3.102616548538208],\"y\":[-0.7593572735786438],\"type\":\"scatter\"},{\"marker\":{\"color\":\"purple\",\"size\":5},\"mode\":\"markers\",\"name\":\"philomachus.n.01\",\"opacity\":0.4,\"text\":[\"philomachus.n.01\"],\"x\":[3.3213181495666504],\"y\":[-0.05657393857836723],\"type\":\"scatter\"},{\"marker\":{\"color\":\"purple\",\"size\":5},\"mode\":\"markers\",\"name\":\"mimus.n.01\",\"opacity\":0.4,\"text\":[\"mimus.n.01\"],\"x\":[3.0312728881835938],\"y\":[1.5687851905822754],\"type\":\"scatter\"},{\"marker\":{\"color\":\"purple\",\"size\":5},\"mode\":\"markers\",\"name\":\"genus_archaeopteryx.n.01\",\"opacity\":0.4,\"text\":[\"genus_archaeopteryx.n.01\"],\"x\":[4.264906406402588],\"y\":[0.46421533823013306],\"type\":\"scatter\"},{\"marker\":{\"color\":\"purple\",\"size\":5},\"mode\":\"markers\",\"name\":\"melanitta.n.01\",\"opacity\":0.4,\"text\":[\"melanitta.n.01\"],\"x\":[3.2037856578826904],\"y\":[-1.6953226327896118],\"type\":\"scatter\"},{\"marker\":{\"color\":\"purple\",\"size\":5},\"mode\":\"markers\",\"name\":\"perisoreus.n.01\",\"opacity\":0.4,\"text\":[\"perisoreus.n.01\"],\"x\":[3.6364567279815674],\"y\":[0.049149978905916214],\"type\":\"scatter\"},{\"marker\":{\"color\":\"purple\",\"size\":5},\"mode\":\"markers\",\"name\":\"lobipes.n.01\",\"opacity\":0.4,\"text\":[\"lobipes.n.01\"],\"x\":[2.900373697280884],\"y\":[1.0402922630310059],\"type\":\"scatter\"},{\"marker\":{\"color\":\"purple\",\"size\":5},\"mode\":\"markers\",\"name\":\"bubulcus.n.01\",\"opacity\":0.4,\"text\":[\"bubulcus.n.01\"],\"x\":[3.2421915531158447],\"y\":[-0.4276700019836426],\"type\":\"scatter\"},{\"marker\":{\"color\":\"purple\",\"size\":5},\"mode\":\"markers\",\"name\":\"fregata.n.01\",\"opacity\":0.4,\"text\":[\"fregata.n.01\"],\"x\":[2.59527850151062],\"y\":[0.513221263885498],\"type\":\"scatter\"},{\"marker\":{\"color\":\"purple\",\"size\":5},\"mode\":\"markers\",\"name\":\"euphagus.n.01\",\"opacity\":0.4,\"text\":[\"euphagus.n.01\"],\"x\":[3.309420585632324],\"y\":[0.2736000418663025],\"type\":\"scatter\"},{\"marker\":{\"color\":\"purple\",\"size\":5},\"mode\":\"markers\",\"name\":\"alcedo.n.01\",\"opacity\":0.4,\"text\":[\"alcedo.n.01\"],\"x\":[2.971442222595215],\"y\":[-0.0673844963312149],\"type\":\"scatter\"},{\"marker\":{\"color\":\"purple\",\"size\":5},\"mode\":\"markers\",\"name\":\"picus.n.01\",\"opacity\":0.4,\"text\":[\"picus.n.01\"],\"x\":[3.154942035675049],\"y\":[0.8215351104736328],\"type\":\"scatter\"},{\"marker\":{\"color\":\"purple\",\"size\":5},\"mode\":\"markers\",\"name\":\"ceryle.n.01\",\"opacity\":0.4,\"text\":[\"ceryle.n.01\"],\"x\":[2.9511313438415527],\"y\":[0.4266647398471832],\"type\":\"scatter\"},{\"marker\":{\"color\":\"purple\",\"size\":5},\"mode\":\"markers\",\"name\":\"canachites.n.01\",\"opacity\":0.4,\"text\":[\"canachites.n.01\"],\"x\":[3.448530912399292],\"y\":[0.1640463024377823],\"type\":\"scatter\"},{\"marker\":{\"color\":\"purple\",\"size\":5},\"mode\":\"markers\",\"name\":\"pyrocephalus.n.01\",\"opacity\":0.4,\"text\":[\"pyrocephalus.n.01\"],\"x\":[3.449780225753784],\"y\":[-0.4374702572822571],\"type\":\"scatter\"},{\"marker\":{\"color\":\"purple\",\"size\":5},\"mode\":\"markers\",\"name\":\"columba.n.02\",\"opacity\":0.4,\"text\":[\"columba.n.02\"],\"x\":[3.1607625484466553],\"y\":[0.3239048421382904],\"type\":\"scatter\"},{\"marker\":{\"color\":\"purple\",\"size\":5},\"mode\":\"markers\",\"name\":\"balaeniceps.n.01\",\"opacity\":0.4,\"text\":[\"balaeniceps.n.01\"],\"x\":[2.892815113067627],\"y\":[-0.005515516735613346],\"type\":\"scatter\"},{\"marker\":{\"color\":\"purple\",\"size\":5},\"mode\":\"markers\",\"name\":\"coereba.n.01\",\"opacity\":0.4,\"text\":[\"coereba.n.01\"],\"x\":[2.645996570587158],\"y\":[0.38814398646354675],\"type\":\"scatter\"},{\"marker\":{\"color\":\"purple\",\"size\":5},\"mode\":\"markers\",\"name\":\"grus.n.02\",\"opacity\":0.4,\"text\":[\"grus.n.02\"],\"x\":[2.8686470985412598],\"y\":[-0.47251659631729126],\"type\":\"scatter\"},{\"marker\":{\"color\":\"purple\",\"size\":5},\"mode\":\"markers\",\"name\":\"conuropsis.n.01\",\"opacity\":0.4,\"text\":[\"conuropsis.n.01\"],\"x\":[3.235804557800293],\"y\":[0.3218986690044403],\"type\":\"scatter\"},{\"marker\":{\"color\":\"purple\",\"size\":5},\"mode\":\"markers\",\"name\":\"aix.n.01\",\"opacity\":0.4,\"text\":[\"aix.n.01\"],\"x\":[3.55995512008667],\"y\":[-0.33660903573036194],\"type\":\"scatter\"},{\"marker\":{\"color\":\"purple\",\"size\":5},\"mode\":\"markers\",\"name\":\"genus_diomedea.n.01\",\"opacity\":0.4,\"text\":[\"genus_diomedea.n.01\"],\"x\":[3.1839439868927],\"y\":[-0.4606431722640991],\"type\":\"scatter\"},{\"marker\":{\"color\":\"purple\",\"size\":5},\"mode\":\"markers\",\"name\":\"hesperiphona.n.01\",\"opacity\":0.4,\"text\":[\"hesperiphona.n.01\"],\"x\":[3.4097304344177246],\"y\":[-0.022866999730467796],\"type\":\"scatter\"},{\"marker\":{\"color\":\"purple\",\"size\":5},\"mode\":\"markers\",\"name\":\"crex.n.01\",\"opacity\":0.4,\"text\":[\"crex.n.01\"],\"x\":[3.389268159866333],\"y\":[-0.20789413154125214],\"type\":\"scatter\"},{\"marker\":{\"color\":\"purple\",\"size\":5},\"mode\":\"markers\",\"name\":\"toxostoma.n.01\",\"opacity\":0.4,\"text\":[\"toxostoma.n.01\"],\"x\":[3.3821592330932617],\"y\":[0.248086079955101],\"type\":\"scatter\"},{\"marker\":{\"color\":\"purple\",\"size\":5},\"mode\":\"markers\",\"name\":\"genus_ibis.n.01\",\"opacity\":0.4,\"text\":[\"genus_ibis.n.01\"],\"x\":[2.9458885192871094],\"y\":[-0.1438281238079071],\"type\":\"scatter\"},{\"marker\":{\"color\":\"purple\",\"size\":5},\"mode\":\"markers\",\"name\":\"orthotomus.n.01\",\"opacity\":0.4,\"text\":[\"orthotomus.n.01\"],\"x\":[3.0528628826141357],\"y\":[0.5588579177856445],\"type\":\"scatter\"},{\"marker\":{\"color\":\"purple\",\"size\":5},\"mode\":\"markers\",\"name\":\"vidua.n.01\",\"opacity\":0.4,\"text\":[\"vidua.n.01\"],\"x\":[3.1672215461730957],\"y\":[-0.9897957444190979],\"type\":\"scatter\"},{\"marker\":{\"color\":\"purple\",\"size\":5},\"mode\":\"markers\",\"name\":\"strix.n.01\",\"opacity\":0.4,\"text\":[\"strix.n.01\"],\"x\":[3.4395878314971924],\"y\":[-0.32140621542930603],\"type\":\"scatter\"},{\"marker\":{\"color\":\"purple\",\"size\":5},\"mode\":\"markers\",\"name\":\"auriparus.n.01\",\"opacity\":0.4,\"text\":[\"auriparus.n.01\"],\"x\":[3.0555360317230225],\"y\":[0.757691502571106],\"type\":\"scatter\"},{\"marker\":{\"color\":\"purple\",\"size\":5},\"mode\":\"markers\",\"name\":\"spinus.n.01\",\"opacity\":0.4,\"text\":[\"spinus.n.01\"],\"x\":[3.2723891735076904],\"y\":[-1.059510588645935],\"type\":\"scatter\"},{\"marker\":{\"color\":\"purple\",\"size\":5},\"mode\":\"markers\",\"name\":\"spheniscus.n.01\",\"opacity\":0.4,\"text\":[\"spheniscus.n.01\"],\"x\":[2.8523614406585693],\"y\":[0.3068033754825592],\"type\":\"scatter\"},{\"marker\":{\"color\":\"purple\",\"size\":5},\"mode\":\"markers\",\"name\":\"aythya.n.01\",\"opacity\":0.4,\"text\":[\"aythya.n.01\"],\"x\":[3.661860466003418],\"y\":[0.2012200653553009],\"type\":\"scatter\"},{\"marker\":{\"color\":\"purple\",\"size\":5},\"mode\":\"markers\",\"name\":\"nycticorax.n.01\",\"opacity\":0.4,\"text\":[\"nycticorax.n.01\"],\"x\":[3.3468480110168457],\"y\":[-0.025522125884890556],\"type\":\"scatter\"},{\"marker\":{\"color\":\"purple\",\"size\":5},\"mode\":\"markers\",\"name\":\"psittacula.n.01\",\"opacity\":0.4,\"text\":[\"psittacula.n.01\"],\"x\":[3.0824649333953857],\"y\":[1.162274718284607],\"type\":\"scatter\"},{\"marker\":{\"color\":\"purple\",\"size\":5},\"mode\":\"markers\",\"name\":\"loxia.n.01\",\"opacity\":0.4,\"text\":[\"loxia.n.01\"],\"x\":[3.376316785812378],\"y\":[0.6008455753326416],\"type\":\"scatter\"},{\"marker\":{\"color\":\"purple\",\"size\":5},\"mode\":\"markers\",\"name\":\"serinus.n.01\",\"opacity\":0.4,\"text\":[\"serinus.n.01\"],\"x\":[3.3936800956726074],\"y\":[-0.21257883310317993],\"type\":\"scatter\"},{\"marker\":{\"color\":\"purple\",\"size\":5},\"mode\":\"markers\",\"name\":\"plautus.n.02\",\"opacity\":0.4,\"text\":[\"plautus.n.02\"],\"x\":[3.2227377891540527],\"y\":[0.4374268054962158],\"type\":\"scatter\"},{\"marker\":{\"color\":\"purple\",\"size\":5},\"mode\":\"markers\",\"name\":\"upupa.n.01\",\"opacity\":0.4,\"text\":[\"upupa.n.01\"],\"x\":[3.9260683059692383],\"y\":[0.4055522084236145],\"type\":\"scatter\"},{\"marker\":{\"color\":\"purple\",\"size\":5},\"mode\":\"markers\",\"name\":\"melanotis.n.01\",\"opacity\":0.4,\"text\":[\"melanotis.n.01\"],\"x\":[2.9971413612365723],\"y\":[1.2681818008422852],\"type\":\"scatter\"},{\"marker\":{\"color\":\"purple\",\"size\":5},\"mode\":\"markers\",\"name\":\"lunda.n.01\",\"opacity\":0.4,\"text\":[\"lunda.n.01\"],\"x\":[3.0203187465667725],\"y\":[1.1987802982330322],\"type\":\"scatter\"},{\"marker\":{\"color\":\"purple\",\"size\":5},\"mode\":\"markers\",\"name\":\"parus.n.01\",\"opacity\":0.4,\"text\":[\"parus.n.01\"],\"x\":[3.1266696453094482],\"y\":[0.3498516380786896],\"type\":\"scatter\"},{\"marker\":{\"color\":\"purple\",\"size\":5},\"mode\":\"markers\",\"name\":\"calidris.n.01\",\"opacity\":0.4,\"text\":[\"calidris.n.01\"],\"x\":[3.318591833114624],\"y\":[0.2795478105545044],\"type\":\"scatter\"},{\"marker\":{\"color\":\"purple\",\"size\":5},\"mode\":\"markers\",\"name\":\"geococcyx.n.01\",\"opacity\":0.4,\"text\":[\"geococcyx.n.01\"],\"x\":[3.0755934715270996],\"y\":[-0.28702014684677124],\"type\":\"scatter\"},{\"marker\":{\"color\":\"purple\",\"size\":5},\"mode\":\"markers\",\"name\":\"macronectes.n.01\",\"opacity\":0.4,\"text\":[\"macronectes.n.01\"],\"x\":[2.9827733039855957],\"y\":[-0.3221372961997986],\"type\":\"scatter\"},{\"marker\":{\"color\":\"purple\",\"size\":5},\"mode\":\"markers\",\"name\":\"hylocichla.n.01\",\"opacity\":0.4,\"text\":[\"hylocichla.n.01\"],\"x\":[3.3857805728912354],\"y\":[0.6094489097595215],\"type\":\"scatter\"},{\"marker\":{\"color\":\"purple\",\"size\":5},\"mode\":\"markers\",\"name\":\"acridotheres.n.01\",\"opacity\":0.4,\"text\":[\"acridotheres.n.01\"],\"x\":[3.4120733737945557],\"y\":[0.0663151890039444],\"type\":\"scatter\"},{\"marker\":{\"color\":\"purple\",\"size\":5},\"mode\":\"markers\",\"name\":\"cacicus.n.01\",\"opacity\":0.4,\"text\":[\"cacicus.n.01\"],\"x\":[3.4277265071868896],\"y\":[0.20606102049350739],\"type\":\"scatter\"},{\"marker\":{\"color\":\"purple\",\"size\":5},\"mode\":\"markers\",\"name\":\"pooecetes.n.01\",\"opacity\":0.4,\"text\":[\"pooecetes.n.01\"],\"x\":[3.2790110111236572],\"y\":[0.8566688299179077],\"type\":\"scatter\"},{\"marker\":{\"color\":\"purple\",\"size\":5},\"mode\":\"markers\",\"name\":\"larus.n.01\",\"opacity\":0.4,\"text\":[\"larus.n.01\"],\"x\":[3.636082649230957],\"y\":[-0.6323714256286621],\"type\":\"scatter\"},{\"marker\":{\"color\":\"purple\",\"size\":5},\"mode\":\"markers\",\"name\":\"aquila.n.03\",\"opacity\":0.4,\"text\":[\"aquila.n.03\"],\"x\":[3.3446388244628906],\"y\":[0.8257223963737488],\"type\":\"scatter\"},{\"marker\":{\"color\":\"purple\",\"size\":5},\"mode\":\"markers\",\"name\":\"phoenicurus.n.01\",\"opacity\":0.4,\"text\":[\"phoenicurus.n.01\"],\"x\":[3.2968945503234863],\"y\":[0.7114933133125305],\"type\":\"scatter\"},{\"marker\":{\"color\":\"purple\",\"size\":5},\"mode\":\"markers\",\"name\":\"phalaenoptilus.n.01\",\"opacity\":0.4,\"text\":[\"phalaenoptilus.n.01\"],\"x\":[3.897428274154663],\"y\":[-0.07282545417547226],\"type\":\"scatter\"},{\"marker\":{\"color\":\"purple\",\"size\":5},\"mode\":\"markers\",\"name\":\"pipile.n.01\",\"opacity\":0.4,\"text\":[\"pipile.n.01\"],\"x\":[4.253498077392578],\"y\":[-0.36595937609672546],\"type\":\"scatter\"},{\"marker\":{\"color\":\"purple\",\"size\":5},\"mode\":\"markers\",\"name\":\"pachycephala.n.01\",\"opacity\":0.4,\"text\":[\"pachycephala.n.01\"],\"x\":[3.008840560913086],\"y\":[-0.8898990750312805],\"type\":\"scatter\"},{\"marker\":{\"color\":\"purple\",\"size\":5},\"mode\":\"markers\",\"name\":\"macrocephalon.n.01\",\"opacity\":0.4,\"text\":[\"macrocephalon.n.01\"],\"x\":[3.122837781906128],\"y\":[1.5644512176513672],\"type\":\"scatter\"},{\"marker\":{\"color\":\"purple\",\"size\":5},\"mode\":\"markers\",\"name\":\"emberiza.n.01\",\"opacity\":0.4,\"text\":[\"emberiza.n.01\"],\"x\":[3.029275417327881],\"y\":[1.132039189338684],\"type\":\"scatter\"},{\"marker\":{\"color\":\"purple\",\"size\":5},\"mode\":\"markers\",\"name\":\"mycteria.n.01\",\"opacity\":0.4,\"text\":[\"mycteria.n.01\"],\"x\":[3.248353958129883],\"y\":[0.891769528388977],\"type\":\"scatter\"},{\"marker\":{\"color\":\"purple\",\"size\":5},\"mode\":\"markers\",\"name\":\"raphus.n.01\",\"opacity\":0.4,\"text\":[\"raphus.n.01\"],\"x\":[2.679316997528076],\"y\":[0.7995025515556335],\"type\":\"scatter\"},{\"marker\":{\"color\":\"purple\",\"size\":5},\"mode\":\"markers\",\"name\":\"troglodytes.n.01\",\"opacity\":0.4,\"text\":[\"troglodytes.n.01\"],\"x\":[3.15322208404541],\"y\":[-0.6877029538154602],\"type\":\"scatter\"},{\"marker\":{\"color\":\"purple\",\"size\":5},\"mode\":\"markers\",\"name\":\"meleagris.n.01\",\"opacity\":0.4,\"text\":[\"meleagris.n.01\"],\"x\":[4.218034744262695],\"y\":[-0.27655550837516785],\"type\":\"scatter\"},{\"marker\":{\"color\":\"purple\",\"size\":5},\"mode\":\"markers\",\"name\":\"chrysolophus.n.01\",\"opacity\":0.4,\"text\":[\"chrysolophus.n.01\"],\"x\":[3.6135826110839844],\"y\":[1.035207986831665],\"type\":\"scatter\"},{\"marker\":{\"color\":\"purple\",\"size\":5},\"mode\":\"markers\",\"name\":\"alca.n.01\",\"opacity\":0.4,\"text\":[\"alca.n.01\"],\"x\":[2.668193817138672],\"y\":[1.8375988006591797],\"type\":\"scatter\"},{\"marker\":{\"color\":\"purple\",\"size\":5},\"mode\":\"markers\",\"name\":\"harpia.n.01\",\"opacity\":0.4,\"text\":[\"harpia.n.01\"],\"x\":[3.3129141330718994],\"y\":[0.7989702224731445],\"type\":\"scatter\"},{\"marker\":{\"color\":\"purple\",\"size\":5},\"mode\":\"markers\",\"name\":\"estrilda.n.01\",\"opacity\":0.4,\"text\":[\"estrilda.n.01\"],\"x\":[3.1960649490356445],\"y\":[-0.920181155204773],\"type\":\"scatter\"},{\"marker\":{\"color\":\"purple\",\"size\":5},\"mode\":\"markers\",\"name\":\"agelaius.n.01\",\"opacity\":0.4,\"text\":[\"agelaius.n.01\"],\"x\":[3.297001361846924],\"y\":[-0.2697674632072449],\"type\":\"scatter\"},{\"marker\":{\"color\":\"purple\",\"size\":5},\"mode\":\"markers\",\"name\":\"sula.n.01\",\"opacity\":0.4,\"text\":[\"sula.n.01\"],\"x\":[3.1752827167510986],\"y\":[0.44119906425476074],\"type\":\"scatter\"},{\"marker\":{\"color\":\"purple\",\"size\":5},\"mode\":\"markers\",\"name\":\"genus_chunga.n.01\",\"opacity\":0.4,\"text\":[\"genus_chunga.n.01\"],\"x\":[3.042245864868164],\"y\":[0.4464883506298065],\"type\":\"scatter\"},{\"marker\":{\"color\":\"purple\",\"size\":5},\"mode\":\"markers\",\"name\":\"podilymbus.n.01\",\"opacity\":0.4,\"text\":[\"podilymbus.n.01\"],\"x\":[2.527744770050049],\"y\":[0.9401784539222717],\"type\":\"scatter\"},{\"marker\":{\"color\":\"purple\",\"size\":5},\"mode\":\"markers\",\"name\":\"fratercula.n.01\",\"opacity\":0.4,\"text\":[\"fratercula.n.01\"],\"x\":[3.1428382396698],\"y\":[0.8759111762046814],\"type\":\"scatter\"},{\"marker\":{\"color\":\"purple\",\"size\":5},\"mode\":\"markers\",\"name\":\"carpodacus.n.01\",\"opacity\":0.4,\"text\":[\"carpodacus.n.01\"],\"x\":[2.147007465362549],\"y\":[0.12401050329208374],\"type\":\"scatter\"},{\"marker\":{\"color\":\"purple\",\"size\":5},\"mode\":\"markers\",\"name\":\"centrocercus.n.01\",\"opacity\":0.4,\"text\":[\"centrocercus.n.01\"],\"x\":[3.4291484355926514],\"y\":[0.3904417157173157],\"type\":\"scatter\"},{\"marker\":{\"color\":\"purple\",\"size\":5},\"mode\":\"markers\",\"name\":\"himantopus.n.01\",\"opacity\":0.4,\"text\":[\"himantopus.n.01\"],\"x\":[3.8102283477783203],\"y\":[-0.581362247467041],\"type\":\"scatter\"},{\"marker\":{\"color\":\"purple\",\"size\":5},\"mode\":\"markers\",\"name\":\"falco.n.01\",\"opacity\":0.4,\"text\":[\"falco.n.01\"],\"x\":[3.0457167625427246],\"y\":[1.1880604028701782],\"type\":\"scatter\"},{\"marker\":{\"color\":\"purple\",\"size\":5},\"mode\":\"markers\",\"name\":\"cairina.n.01\",\"opacity\":0.4,\"text\":[\"cairina.n.01\"],\"x\":[3.5263288021087646],\"y\":[0.03036201372742653],\"type\":\"scatter\"},{\"marker\":{\"color\":\"purple\",\"size\":5},\"mode\":\"markers\",\"name\":\"apus.n.02\",\"opacity\":0.4,\"text\":[\"apus.n.02\"],\"x\":[2.848146915435791],\"y\":[0.3050044775009155],\"type\":\"scatter\"},{\"marker\":{\"color\":\"purple\",\"size\":5},\"mode\":\"markers\",\"name\":\"bucephala.n.01\",\"opacity\":0.4,\"text\":[\"bucephala.n.01\"],\"x\":[3.4134626388549805],\"y\":[0.4999745488166809],\"type\":\"scatter\"},{\"marker\":{\"color\":\"purple\",\"size\":5},\"mode\":\"markers\",\"name\":\"philohela.n.01\",\"opacity\":0.4,\"text\":[\"philohela.n.01\"],\"x\":[3.3515634536743164],\"y\":[0.2152196615934372],\"type\":\"scatter\"},{\"marker\":{\"color\":\"purple\",\"size\":5},\"mode\":\"markers\",\"name\":\"aegypius.n.01\",\"opacity\":0.4,\"text\":[\"aegypius.n.01\"],\"x\":[3.499300003051758],\"y\":[-0.0992521271109581],\"type\":\"scatter\"},{\"marker\":{\"color\":\"purple\",\"size\":5},\"mode\":\"markers\",\"name\":\"carduelis.n.01\",\"opacity\":0.4,\"text\":[\"carduelis.n.01\"],\"x\":[3.3853607177734375],\"y\":[-0.1609073281288147],\"type\":\"scatter\"},{\"marker\":{\"color\":\"purple\",\"size\":5},\"mode\":\"markers\",\"name\":\"poephila.n.01\",\"opacity\":0.4,\"text\":[\"poephila.n.01\"],\"x\":[3.188504934310913],\"y\":[-0.856845498085022],\"type\":\"scatter\"},{\"marker\":{\"color\":\"purple\",\"size\":5},\"mode\":\"markers\",\"name\":\"campylorhynchus.n.01\",\"opacity\":0.4,\"text\":[\"campylorhynchus.n.01\"],\"x\":[3.2017624378204346],\"y\":[-0.538249671459198],\"type\":\"scatter\"},{\"marker\":{\"color\":\"purple\",\"size\":5},\"mode\":\"markers\",\"name\":\"hylophylax.n.01\",\"opacity\":0.4,\"text\":[\"hylophylax.n.01\"],\"x\":[3.00242018699646],\"y\":[-0.011383422650396824],\"type\":\"scatter\"},{\"marker\":{\"color\":\"purple\",\"size\":5},\"mode\":\"markers\",\"name\":\"ectopistes.n.01\",\"opacity\":0.4,\"text\":[\"ectopistes.n.01\"],\"x\":[3.093196392059326],\"y\":[-0.8946375846862793],\"type\":\"scatter\"},{\"marker\":{\"color\":\"purple\",\"size\":5},\"mode\":\"markers\",\"name\":\"gallinago.n.01\",\"opacity\":0.4,\"text\":[\"gallinago.n.01\"],\"x\":[3.3320040702819824],\"y\":[-0.11172935366630554],\"type\":\"scatter\"},{\"marker\":{\"color\":\"purple\",\"size\":5},\"mode\":\"markers\",\"name\":\"cladorhyncus.n.01\",\"opacity\":0.4,\"text\":[\"cladorhyncus.n.01\"],\"x\":[3.718191623687744],\"y\":[0.24726226925849915],\"type\":\"scatter\"},{\"marker\":{\"color\":\"purple\",\"size\":5},\"mode\":\"markers\",\"name\":\"accipiter.n.01\",\"opacity\":0.4,\"text\":[\"accipiter.n.01\"],\"x\":[3.423483371734619],\"y\":[0.08080756664276123],\"type\":\"scatter\"},{\"marker\":{\"color\":\"purple\",\"size\":5},\"mode\":\"markers\",\"name\":\"gavia.n.01\",\"opacity\":0.4,\"text\":[\"gavia.n.01\"],\"x\":[2.6069276332855225],\"y\":[0.18809334933757782],\"type\":\"scatter\"},{\"marker\":{\"color\":\"purple\",\"size\":5},\"mode\":\"markers\",\"name\":\"syrrhaptes.n.01\",\"opacity\":0.4,\"text\":[\"syrrhaptes.n.01\"],\"x\":[3.140073299407959],\"y\":[-0.5423458814620972],\"type\":\"scatter\"},{\"marker\":{\"color\":\"purple\",\"size\":5},\"mode\":\"markers\",\"name\":\"otis.n.02\",\"opacity\":0.4,\"text\":[\"otis.n.02\"],\"x\":[2.837312698364258],\"y\":[-0.08965735882520676],\"type\":\"scatter\"},{\"marker\":{\"color\":\"purple\",\"size\":5},\"mode\":\"markers\",\"name\":\"fringilla.n.01\",\"opacity\":0.4,\"text\":[\"fringilla.n.01\"],\"x\":[3.413879632949829],\"y\":[-0.49901625514030457],\"type\":\"scatter\"},{\"marker\":{\"color\":\"purple\",\"size\":5},\"mode\":\"markers\",\"name\":\"chen.n.01\",\"opacity\":0.4,\"text\":[\"chen.n.01\"],\"x\":[3.0190720558166504],\"y\":[-0.2486361265182495],\"type\":\"scatter\"},{\"marker\":{\"color\":\"purple\",\"size\":5},\"mode\":\"markers\",\"name\":\"ladle.v.02\",\"opacity\":0.4,\"text\":[\"ladle.v.02\"],\"x\":[3.9767754077911377],\"y\":[-0.07507754117250443],\"type\":\"scatter\"},{\"marker\":{\"color\":\"purple\",\"size\":5},\"mode\":\"markers\",\"name\":\"lophodytes.n.01\",\"opacity\":0.4,\"text\":[\"lophodytes.n.01\"],\"x\":[3.3811237812042236],\"y\":[0.7473922967910767],\"type\":\"scatter\"},{\"marker\":{\"color\":\"purple\",\"size\":5},\"mode\":\"markers\",\"name\":\"tringa.n.01\",\"opacity\":0.4,\"text\":[\"tringa.n.01\"],\"x\":[3.3229846954345703],\"y\":[-0.14257431030273438],\"type\":\"scatter\"},{\"marker\":{\"color\":\"purple\",\"size\":5},\"mode\":\"markers\",\"name\":\"hirundo.n.01\",\"opacity\":0.4,\"text\":[\"hirundo.n.01\"],\"x\":[3.0393178462982178],\"y\":[0.44721394777297974],\"type\":\"scatter\"},{\"marker\":{\"color\":\"purple\",\"size\":5},\"mode\":\"markers\",\"name\":\"perdix.n.01\",\"opacity\":0.4,\"text\":[\"perdix.n.01\"],\"x\":[3.4044737815856934],\"y\":[0.043198082596063614],\"type\":\"scatter\"},{\"marker\":{\"color\":\"purple\",\"size\":5},\"mode\":\"markers\",\"name\":\"hydrobates.n.01\",\"opacity\":0.4,\"text\":[\"hydrobates.n.01\"],\"x\":[2.1583750247955322],\"y\":[-0.007071473635733128],\"type\":\"scatter\"},{\"marker\":{\"color\":\"purple\",\"size\":5},\"mode\":\"markers\",\"name\":\"colinus.n.01\",\"opacity\":0.4,\"text\":[\"colinus.n.01\"],\"x\":[3.3731179237365723],\"y\":[1.1307718753814697],\"type\":\"scatter\"},{\"marker\":{\"color\":\"purple\",\"size\":5},\"mode\":\"markers\",\"name\":\"parula.n.01\",\"opacity\":0.4,\"text\":[\"parula.n.01\"],\"x\":[3.573866128921509],\"y\":[-0.17877516150474548],\"type\":\"scatter\"},{\"marker\":{\"color\":\"purple\",\"size\":5},\"mode\":\"markers\",\"name\":\"padda.n.01\",\"opacity\":0.4,\"text\":[\"padda.n.01\"],\"x\":[3.349837303161621],\"y\":[0.09394879639148712],\"type\":\"scatter\"},{\"marker\":{\"color\":\"purple\",\"size\":5},\"mode\":\"markers\",\"name\":\"struthio.n.01\",\"opacity\":0.4,\"text\":[\"struthio.n.01\"],\"x\":[3.0498318672180176],\"y\":[-0.7001466751098633],\"type\":\"scatter\"},{\"marker\":{\"color\":\"purple\",\"size\":5},\"mode\":\"markers\",\"name\":\"somateria.n.01\",\"opacity\":0.4,\"text\":[\"somateria.n.01\"],\"x\":[3.533970594406128],\"y\":[-0.432385116815567],\"type\":\"scatter\"},{\"marker\":{\"color\":\"purple\",\"size\":5},\"mode\":\"markers\",\"name\":\"dolichonyx.n.01\",\"opacity\":0.4,\"text\":[\"dolichonyx.n.01\"],\"x\":[3.378798484802246],\"y\":[0.21227344870567322],\"type\":\"scatter\"},{\"marker\":{\"color\":\"purple\",\"size\":5},\"mode\":\"markers\",\"name\":\"glossopsitta.n.01\",\"opacity\":0.4,\"text\":[\"glossopsitta.n.01\"],\"x\":[2.804858684539795],\"y\":[0.5405437350273132],\"type\":\"scatter\"},{\"marker\":{\"color\":\"purple\",\"size\":5},\"mode\":\"markers\",\"name\":\"ixobrychus.n.01\",\"opacity\":0.4,\"text\":[\"ixobrychus.n.01\"],\"x\":[3.297886610031128],\"y\":[-0.12498506158590317],\"type\":\"scatter\"},{\"marker\":{\"color\":\"purple\",\"size\":5},\"mode\":\"markers\",\"name\":\"sturnus.n.01\",\"opacity\":0.4,\"text\":[\"sturnus.n.01\"],\"x\":[3.684706449508667],\"y\":[-0.008524356409907341],\"type\":\"scatter\"},{\"marker\":{\"color\":\"purple\",\"size\":5},\"mode\":\"markers\",\"name\":\"asio.n.01\",\"opacity\":0.4,\"text\":[\"asio.n.01\"],\"x\":[3.4765031337738037],\"y\":[-0.010652580298483372],\"type\":\"scatter\"},{\"marker\":{\"color\":\"purple\",\"size\":5},\"mode\":\"markers\",\"name\":\"anthus.n.01\",\"opacity\":0.4,\"text\":[\"anthus.n.01\"],\"x\":[3.167769432067871],\"y\":[-0.09807490557432175],\"type\":\"scatter\"},{\"marker\":{\"color\":\"purple\",\"size\":5},\"mode\":\"markers\",\"name\":\"icterus.n.02\",\"opacity\":0.4,\"text\":[\"icterus.n.02\"],\"x\":[3.6316726207733154],\"y\":[-0.3649149537086487],\"type\":\"scatter\"},{\"marker\":{\"color\":\"purple\",\"size\":5},\"mode\":\"markers\",\"name\":\"pastor.n.02\",\"opacity\":0.4,\"text\":[\"pastor.n.02\"],\"x\":[3.048100709915161],\"y\":[0.8541237115859985],\"type\":\"scatter\"},{\"marker\":{\"color\":\"purple\",\"size\":5},\"mode\":\"markers\",\"name\":\"pinicola.n.01\",\"opacity\":0.4,\"text\":[\"pinicola.n.01\"],\"x\":[3.2779414653778076],\"y\":[-0.3094961643218994],\"type\":\"scatter\"},{\"marker\":{\"color\":\"purple\",\"size\":5},\"mode\":\"markers\",\"name\":\"leptoptilus.n.01\",\"opacity\":0.4,\"text\":[\"leptoptilus.n.01\"],\"x\":[3.752257823944092],\"y\":[-0.12634532153606415],\"type\":\"scatter\"},{\"marker\":{\"color\":\"purple\",\"size\":5},\"mode\":\"markers\",\"name\":\"piranga.n.01\",\"opacity\":0.4,\"text\":[\"piranga.n.01\"],\"x\":[3.2658889293670654],\"y\":[-0.08099425584077835],\"type\":\"scatter\"},{\"marker\":{\"color\":\"purple\",\"size\":5},\"mode\":\"markers\",\"name\":\"sarcorhamphus.n.01\",\"opacity\":0.4,\"text\":[\"sarcorhamphus.n.01\"],\"x\":[3.2844440937042236],\"y\":[-0.4708324074745178],\"type\":\"scatter\"},{\"marker\":{\"color\":\"purple\",\"size\":5},\"mode\":\"markers\",\"name\":\"campephilus.n.01\",\"opacity\":0.4,\"text\":[\"campephilus.n.01\"],\"x\":[3.2954108715057373],\"y\":[-0.19688595831394196],\"type\":\"scatter\"},{\"marker\":{\"color\":\"purple\",\"size\":5},\"mode\":\"markers\",\"name\":\"tympanuchus.n.01\",\"opacity\":0.4,\"text\":[\"tympanuchus.n.01\"],\"x\":[3.3661460876464844],\"y\":[-1.0375126600265503],\"type\":\"scatter\"},{\"marker\":{\"color\":\"purple\",\"size\":5},\"mode\":\"markers\",\"name\":\"stercorarius.n.01\",\"opacity\":0.4,\"text\":[\"stercorarius.n.01\"],\"x\":[3.218867301940918],\"y\":[0.13117486238479614],\"type\":\"scatter\"},{\"marker\":{\"color\":\"purple\",\"size\":5},\"mode\":\"markers\",\"name\":\"procellaria.n.01\",\"opacity\":0.4,\"text\":[\"procellaria.n.01\"],\"x\":[2.99530291557312],\"y\":[-0.1502571851015091],\"type\":\"scatter\"},{\"marker\":{\"color\":\"purple\",\"size\":5},\"mode\":\"markers\",\"name\":\"scolopax.n.01\",\"opacity\":0.4,\"text\":[\"scolopax.n.01\"],\"x\":[3.3037056922912598],\"y\":[-0.2782498300075531],\"type\":\"scatter\"},{\"marker\":{\"color\":\"purple\",\"size\":5},\"mode\":\"markers\",\"name\":\"kakatoe.n.01\",\"opacity\":0.4,\"text\":[\"kakatoe.n.01\"],\"x\":[3.185702323913574],\"y\":[-0.2716565728187561],\"type\":\"scatter\"},{\"marker\":{\"color\":\"purple\",\"size\":5},\"mode\":\"markers\",\"name\":\"contopus.n.01\",\"opacity\":0.4,\"text\":[\"contopus.n.01\"],\"x\":[3.668006420135498],\"y\":[0.5493552088737488],\"type\":\"scatter\"},{\"marker\":{\"color\":\"purple\",\"size\":5},\"mode\":\"markers\",\"name\":\"chlamydera.n.01\",\"opacity\":0.4,\"text\":[\"chlamydera.n.01\"],\"x\":[3.122748613357544],\"y\":[-0.6683905124664307],\"type\":\"scatter\"},{\"marker\":{\"color\":\"purple\",\"size\":5},\"mode\":\"markers\",\"name\":\"oreortyx.n.01\",\"opacity\":0.4,\"text\":[\"oreortyx.n.01\"],\"x\":[3.261458158493042],\"y\":[1.0466398000717163],\"type\":\"scatter\"},{\"marker\":{\"color\":\"purple\",\"size\":5},\"mode\":\"markers\",\"name\":\"melopsittacus.n.01\",\"opacity\":0.4,\"text\":[\"melopsittacus.n.01\"],\"x\":[3.07190203666687],\"y\":[0.7336137294769287],\"type\":\"scatter\"},{\"marker\":{\"color\":\"purple\",\"size\":5},\"mode\":\"markers\",\"name\":\"egretta.n.01\",\"opacity\":0.4,\"text\":[\"egretta.n.01\"],\"x\":[3.179903745651245],\"y\":[-0.2937930226325989],\"type\":\"scatter\"},{\"marker\":{\"color\":\"purple\",\"size\":5},\"mode\":\"markers\",\"name\":\"pelecanus.n.01\",\"opacity\":0.4,\"text\":[\"pelecanus.n.01\"],\"x\":[2.841029644012451],\"y\":[0.04740779846906662],\"type\":\"scatter\"},{\"marker\":{\"color\":\"purple\",\"size\":5},\"mode\":\"markers\",\"name\":\"pezophaps.n.01\",\"opacity\":0.4,\"text\":[\"pezophaps.n.01\"],\"x\":[2.7849385738372803],\"y\":[-0.26419979333877563],\"type\":\"scatter\"},{\"marker\":{\"color\":\"purple\",\"size\":5},\"mode\":\"markers\",\"name\":\"surnia.n.01\",\"opacity\":0.4,\"text\":[\"surnia.n.01\"],\"x\":[3.392096757888794],\"y\":[0.20606155693531036],\"type\":\"scatter\"},{\"marker\":{\"color\":\"purple\",\"size\":5},\"mode\":\"markers\",\"name\":\"delichon.n.01\",\"opacity\":0.4,\"text\":[\"delichon.n.01\"],\"x\":[3.0744144916534424],\"y\":[0.22093215584754944],\"type\":\"scatter\"},{\"marker\":{\"color\":\"purple\",\"size\":5},\"mode\":\"markers\",\"name\":\"catoptrophorus.n.01\",\"opacity\":0.4,\"text\":[\"catoptrophorus.n.01\"],\"x\":[3.347320079803467],\"y\":[0.1470135599374771],\"type\":\"scatter\"},{\"marker\":{\"color\":\"purple\",\"size\":5},\"mode\":\"markers\",\"name\":\"oxyura.n.01\",\"opacity\":0.4,\"text\":[\"oxyura.n.01\"],\"x\":[3.4441137313842773],\"y\":[-0.6916816234588623],\"type\":\"scatter\"},{\"marker\":{\"color\":\"purple\",\"size\":5},\"mode\":\"markers\",\"name\":\"pharomacrus.n.01\",\"opacity\":0.4,\"text\":[\"pharomacrus.n.01\"],\"x\":[2.563086748123169],\"y\":[-0.9655156135559082],\"type\":\"scatter\"},{\"marker\":{\"color\":\"purple\",\"size\":5},\"mode\":\"markers\",\"name\":\"oriolus.n.01\",\"opacity\":0.4,\"text\":[\"oriolus.n.01\"],\"x\":[2.8576951026916504],\"y\":[-0.2425198256969452],\"type\":\"scatter\"},{\"marker\":{\"color\":\"purple\",\"size\":5},\"mode\":\"markers\",\"name\":\"genus_notornis.n.01\",\"opacity\":0.4,\"text\":[\"genus_notornis.n.01\"],\"x\":[3.388418436050415],\"y\":[-0.21894106268882751],\"type\":\"scatter\"},{\"marker\":{\"color\":\"purple\",\"size\":5},\"mode\":\"markers\",\"name\":\"riparia.n.01\",\"opacity\":0.4,\"text\":[\"riparia.n.01\"],\"x\":[3.1100053787231445],\"y\":[-0.26854652166366577],\"type\":\"scatter\"},{\"marker\":{\"color\":\"purple\",\"size\":5},\"mode\":\"markers\",\"name\":\"cinclus.n.01\",\"opacity\":0.4,\"text\":[\"cinclus.n.01\"],\"x\":[2.7626845836639404],\"y\":[-0.7434960603713989],\"type\":\"scatter\"},{\"marker\":{\"color\":\"purple\",\"size\":5},\"mode\":\"markers\",\"name\":\"atrichornis.n.01\",\"opacity\":0.4,\"text\":[\"atrichornis.n.01\"],\"x\":[3.2385683059692383],\"y\":[-0.6424683928489685],\"type\":\"scatter\"},{\"marker\":{\"color\":\"purple\",\"size\":5},\"mode\":\"markers\",\"name\":\"steganopus.n.01\",\"opacity\":0.4,\"text\":[\"steganopus.n.01\"],\"x\":[2.8650572299957275],\"y\":[1.0817251205444336],\"type\":\"scatter\"},{\"marker\":{\"color\":\"purple\",\"size\":5},\"mode\":\"markers\",\"name\":\"phasianus.n.01\",\"opacity\":0.4,\"text\":[\"phasianus.n.01\"],\"x\":[4.878809928894043],\"y\":[0.8925550580024719],\"type\":\"scatter\"},{\"marker\":{\"color\":\"purple\",\"size\":5},\"mode\":\"markers\",\"name\":\"dumetella.n.01\",\"opacity\":0.4,\"text\":[\"dumetella.n.01\"],\"x\":[3.3932063579559326],\"y\":[0.07211504131555557],\"type\":\"scatter\"},{\"marker\":{\"color\":\"purple\",\"size\":5},\"mode\":\"markers\",\"name\":\"cephalopterus.n.01\",\"opacity\":0.4,\"text\":[\"cephalopterus.n.01\"],\"x\":[3.0502355098724365],\"y\":[0.3587118983268738],\"type\":\"scatter\"},{\"marker\":{\"color\":\"purple\",\"size\":5},\"mode\":\"markers\",\"name\":\"sturnella.n.01\",\"opacity\":0.4,\"text\":[\"sturnella.n.01\"],\"x\":[3.341855764389038],\"y\":[-0.12673451006412506],\"type\":\"scatter\"},{\"marker\":{\"color\":\"purple\",\"size\":5},\"mode\":\"markers\",\"name\":\"vultur.n.01\",\"opacity\":0.4,\"text\":[\"vultur.n.01\"],\"x\":[3.2431976795196533],\"y\":[-0.7399397492408752],\"type\":\"scatter\"},{\"marker\":{\"color\":\"purple\",\"size\":5},\"mode\":\"markers\",\"name\":\"lophophorus.n.01\",\"opacity\":0.4,\"text\":[\"lophophorus.n.01\"],\"x\":[3.798849105834961],\"y\":[0.12063828855752945],\"type\":\"scatter\"},{\"marker\":{\"color\":\"purple\",\"size\":5},\"mode\":\"markers\",\"name\":\"porphyrula.n.01\",\"opacity\":0.4,\"text\":[\"porphyrula.n.01\"],\"x\":[3.326396942138672],\"y\":[-0.6395611763000488],\"type\":\"scatter\"},{\"marker\":{\"color\":\"purple\",\"size\":5},\"mode\":\"markers\",\"name\":\"turnix.n.01\",\"opacity\":0.4,\"text\":[\"turnix.n.01\"],\"x\":[3.2575926780700684],\"y\":[-0.06292173266410828],\"type\":\"scatter\"},{\"marker\":{\"color\":\"purple\",\"size\":5},\"mode\":\"markers\",\"name\":\"thryothorus.n.01\",\"opacity\":0.4,\"text\":[\"thryothorus.n.01\"],\"x\":[3.181881904602051],\"y\":[-0.6331662535667419],\"type\":\"scatter\"},{\"marker\":{\"color\":\"purple\",\"size\":5},\"mode\":\"markers\",\"name\":\"circaetus.n.01\",\"opacity\":0.4,\"text\":[\"circaetus.n.01\"],\"x\":[3.405205011367798],\"y\":[0.3018331527709961],\"type\":\"scatter\"},{\"marker\":{\"color\":\"purple\",\"size\":5},\"mode\":\"markers\",\"name\":\"salpinctes.n.01\",\"opacity\":0.4,\"text\":[\"salpinctes.n.01\"],\"x\":[3.2272603511810303],\"y\":[0.0018285560654476285],\"type\":\"scatter\"},{\"marker\":{\"color\":\"purple\",\"size\":5},\"mode\":\"markers\",\"name\":\"circus.n.06\",\"opacity\":0.4,\"text\":[\"circus.n.06\"],\"x\":[3.8653879165649414],\"y\":[0.38359180092811584],\"type\":\"scatter\"},{\"marker\":{\"color\":\"purple\",\"size\":5},\"mode\":\"markers\",\"name\":\"quiscalus.n.01\",\"opacity\":0.4,\"text\":[\"quiscalus.n.01\"],\"x\":[3.402972936630249],\"y\":[0.5820043087005615],\"type\":\"scatter\"},{\"marker\":{\"color\":\"purple\",\"size\":5},\"mode\":\"markers\",\"name\":\"tyrannus.n.01\",\"opacity\":0.4,\"text\":[\"tyrannus.n.01\"],\"x\":[3.3416364192962646],\"y\":[-0.4813637137413025],\"type\":\"scatter\"},{\"marker\":{\"color\":\"purple\",\"size\":5},\"mode\":\"markers\",\"name\":\"chamaea.n.01\",\"opacity\":0.4,\"text\":[\"chamaea.n.01\"],\"x\":[3.0628974437713623],\"y\":[0.711576521396637],\"type\":\"scatter\"},{\"marker\":{\"color\":\"purple\",\"size\":5},\"mode\":\"markers\",\"name\":\"artamus.n.01\",\"opacity\":0.4,\"text\":[\"artamus.n.01\"],\"x\":[2.7036688327789307],\"y\":[-0.5147372484207153],\"type\":\"scatter\"},{\"marker\":{\"color\":\"purple\",\"size\":5},\"mode\":\"markers\",\"name\":\"xenorhyncus.n.01\",\"opacity\":0.4,\"text\":[\"xenorhyncus.n.01\"],\"x\":[3.368734121322632],\"y\":[0.010970771312713623],\"type\":\"scatter\"},{\"marker\":{\"color\":\"purple\",\"size\":5},\"mode\":\"markers\",\"name\":\"oceanites.n.01\",\"opacity\":0.4,\"text\":[\"oceanites.n.01\"],\"x\":[2.6222753524780273],\"y\":[-0.5484446883201599],\"type\":\"scatter\"},{\"marker\":{\"color\":\"purple\",\"size\":5},\"mode\":\"markers\",\"name\":\"catharacta.n.01\",\"opacity\":0.4,\"text\":[\"catharacta.n.01\"],\"x\":[3.1307132244110107],\"y\":[0.8091921210289001],\"type\":\"scatter\"},{\"marker\":{\"color\":\"purple\",\"size\":5},\"mode\":\"markers\",\"name\":\"erolia.n.01\",\"opacity\":0.4,\"text\":[\"erolia.n.01\"],\"x\":[3.336721420288086],\"y\":[-0.29324114322662354],\"type\":\"scatter\"},{\"marker\":{\"color\":\"purple\",\"size\":5},\"mode\":\"markers\",\"name\":\"cursorius.n.01\",\"opacity\":0.4,\"text\":[\"cursorius.n.01\"],\"x\":[2.72805118560791],\"y\":[1.5165739059448242],\"type\":\"scatter\"},{\"marker\":{\"color\":\"purple\",\"size\":5},\"mode\":\"markers\",\"name\":\"collocalia.n.01\",\"opacity\":0.4,\"text\":[\"collocalia.n.01\"],\"x\":[2.7760190963745117],\"y\":[-0.5995957851409912],\"type\":\"scatter\"},{\"marker\":{\"color\":\"purple\",\"size\":5},\"mode\":\"markers\",\"name\":\"genus_anhinga.n.01\",\"opacity\":0.4,\"text\":[\"genus_anhinga.n.01\"],\"x\":[3.4383444786071777],\"y\":[-0.2651132643222809],\"type\":\"scatter\"},{\"marker\":{\"color\":\"purple\",\"size\":5},\"mode\":\"markers\",\"name\":\"dromaius.n.01\",\"opacity\":0.4,\"text\":[\"dromaius.n.01\"],\"x\":[3.3858208656311035],\"y\":[0.01578771322965622],\"type\":\"scatter\"},{\"marker\":{\"color\":\"purple\",\"size\":5},\"mode\":\"markers\",\"name\":\"gyps.n.01\",\"opacity\":0.4,\"text\":[\"gyps.n.01\"],\"x\":[2.1592330932617188],\"y\":[0.08184505999088287],\"type\":\"scatter\"},{\"marker\":{\"color\":\"purple\",\"size\":5},\"mode\":\"markers\",\"name\":\"psophia.n.01\",\"opacity\":0.4,\"text\":[\"psophia.n.01\"],\"x\":[4.510617256164551],\"y\":[-0.3382740914821625],\"type\":\"scatter\"},{\"marker\":{\"color\":\"purple\",\"size\":5},\"mode\":\"markers\",\"name\":\"platalea.n.01\",\"opacity\":0.4,\"text\":[\"platalea.n.01\"],\"x\":[3.2980103492736816],\"y\":[0.7240462899208069],\"type\":\"scatter\"},{\"marker\":{\"color\":\"purple\",\"size\":5},\"mode\":\"markers\",\"name\":\"chordeiles.n.01\",\"opacity\":0.4,\"text\":[\"chordeiles.n.01\"],\"x\":[3.9210638999938965],\"y\":[-0.15875041484832764],\"type\":\"scatter\"},{\"marker\":{\"color\":\"purple\",\"size\":5},\"mode\":\"markers\",\"name\":\"strepera.n.01\",\"opacity\":0.4,\"text\":[\"strepera.n.01\"],\"x\":[2.829519271850586],\"y\":[0.6968326568603516],\"type\":\"scatter\"},{\"marker\":{\"color\":\"purple\",\"size\":5},\"mode\":\"markers\",\"name\":\"chlorura.n.01\",\"opacity\":0.4,\"text\":[\"chlorura.n.01\"],\"x\":[3.27907133102417],\"y\":[0.8181490302085876],\"type\":\"scatter\"},{\"marker\":{\"color\":\"purple\",\"size\":5},\"mode\":\"markers\",\"name\":\"nestor.n.02\",\"opacity\":0.4,\"text\":[\"nestor.n.02\"],\"x\":[3.180419445037842],\"y\":[-0.10174150764942169],\"type\":\"scatter\"},{\"marker\":{\"color\":\"purple\",\"size\":5},\"mode\":\"markers\",\"name\":\"aphriza.n.01\",\"opacity\":0.4,\"text\":[\"aphriza.n.01\"],\"x\":[2.9836807250976562],\"y\":[-1.517188310623169],\"type\":\"scatter\"},{\"marker\":{\"color\":\"purple\",\"size\":5},\"mode\":\"markers\",\"name\":\"neophron.n.01\",\"opacity\":0.4,\"text\":[\"neophron.n.01\"],\"x\":[3.3105204105377197],\"y\":[0.8540717959403992],\"type\":\"scatter\"},{\"marker\":{\"color\":\"purple\",\"size\":5},\"mode\":\"markers\",\"name\":\"cathartes.n.01\",\"opacity\":0.4,\"text\":[\"cathartes.n.01\"],\"x\":[3.3281333446502686],\"y\":[0.018111223354935646],\"type\":\"scatter\"},{\"marker\":{\"color\":\"purple\",\"size\":5},\"mode\":\"markers\",\"name\":\"pluvianus.n.01\",\"opacity\":0.4,\"text\":[\"pluvianus.n.01\"],\"x\":[3.0684750080108643],\"y\":[0.5636916160583496],\"type\":\"scatter\"},{\"marker\":{\"color\":\"purple\",\"size\":5},\"mode\":\"markers\",\"name\":\"muscivora.n.01\",\"opacity\":0.4,\"text\":[\"muscivora.n.01\"],\"x\":[3.31231427192688],\"y\":[-0.8823347091674805],\"type\":\"scatter\"},{\"marker\":{\"color\":\"purple\",\"size\":5},\"mode\":\"markers\",\"name\":\"argusianus.n.01\",\"opacity\":0.4,\"text\":[\"argusianus.n.01\"],\"x\":[3.765421152114868],\"y\":[0.3640713691711426],\"type\":\"scatter\"},{\"marker\":{\"color\":\"purple\",\"size\":5},\"mode\":\"markers\",\"name\":\"gymnorhina.n.01\",\"opacity\":0.4,\"text\":[\"gymnorhina.n.01\"],\"x\":[2.898594617843628],\"y\":[-0.3334544599056244],\"type\":\"scatter\"},{\"marker\":{\"color\":\"purple\",\"size\":5},\"mode\":\"markers\",\"name\":\"heteroscelus.n.01\",\"opacity\":0.4,\"text\":[\"heteroscelus.n.01\"],\"x\":[3.2758357524871826],\"y\":[-0.5627290606498718],\"type\":\"scatter\"},{\"marker\":{\"color\":\"purple\",\"size\":5},\"mode\":\"markers\",\"name\":\"phaethon.n.02\",\"opacity\":0.4,\"text\":[\"phaethon.n.02\"],\"x\":[2.08886981010437],\"y\":[0.5066145658493042],\"type\":\"scatter\"},{\"marker\":{\"color\":\"purple\",\"size\":5},\"mode\":\"markers\",\"name\":\"phalaropus.n.01\",\"opacity\":0.4,\"text\":[\"phalaropus.n.01\"],\"x\":[3.0008020401000977],\"y\":[-0.7539045810699463],\"type\":\"scatter\"},{\"marker\":{\"color\":\"purple\",\"size\":5},\"mode\":\"markers\",\"name\":\"anhima.n.01\",\"opacity\":0.4,\"text\":[\"anhima.n.01\"],\"x\":[3.674142360687256],\"y\":[-1.0085736513137817],\"type\":\"scatter\"},{\"marker\":{\"color\":\"purple\",\"size\":5},\"mode\":\"markers\",\"name\":\"alectoris.n.01\",\"opacity\":0.4,\"text\":[\"alectoris.n.01\"],\"x\":[3.423300266265869],\"y\":[0.14881926774978638],\"type\":\"scatter\"},{\"marker\":{\"color\":\"purple\",\"size\":5},\"mode\":\"markers\",\"name\":\"coracias.n.01\",\"opacity\":0.4,\"text\":[\"coracias.n.01\"],\"x\":[3.028625726699829],\"y\":[-0.5094720721244812],\"type\":\"scatter\"},{\"marker\":{\"color\":\"purple\",\"size\":5},\"mode\":\"markers\",\"name\":\"sitta.n.01\",\"opacity\":0.4,\"text\":[\"sitta.n.01\"],\"x\":[2.8525571823120117],\"y\":[0.29613661766052246],\"type\":\"scatter\"},{\"marker\":{\"color\":\"purple\",\"size\":5},\"mode\":\"markers\",\"name\":\"gallirallus.n.01\",\"opacity\":0.4,\"text\":[\"gallirallus.n.01\"],\"x\":[3.2671399116516113],\"y\":[0.8730627298355103],\"type\":\"scatter\"},{\"marker\":{\"color\":\"purple\",\"size\":5},\"mode\":\"markers\",\"name\":\"crocethia.n.01\",\"opacity\":0.4,\"text\":[\"crocethia.n.01\"],\"x\":[3.3387649059295654],\"y\":[-0.3978935182094574],\"type\":\"scatter\"},{\"marker\":{\"color\":\"purple\",\"size\":5},\"mode\":\"markers\",\"name\":\"luscinia.n.01\",\"opacity\":0.4,\"text\":[\"luscinia.n.01\"],\"x\":[2.177151918411255],\"y\":[0.038424767553806305],\"type\":\"scatter\"},{\"marker\":{\"color\":\"purple\",\"size\":5},\"mode\":\"markers\",\"name\":\"cyanocitta.n.01\",\"opacity\":0.4,\"text\":[\"cyanocitta.n.01\"],\"x\":[3.317089796066284],\"y\":[-0.24136219918727875],\"type\":\"scatter\"},{\"marker\":{\"color\":\"purple\",\"size\":5},\"mode\":\"markers\",\"name\":\"aptenodytes.n.01\",\"opacity\":0.4,\"text\":[\"aptenodytes.n.01\"],\"x\":[2.8294131755828857],\"y\":[-0.24212618172168732],\"type\":\"scatter\"},{\"marker\":{\"color\":\"purple\",\"size\":5},\"mode\":\"markers\",\"name\":\"coragyps.n.01\",\"opacity\":0.4,\"text\":[\"coragyps.n.01\"],\"x\":[3.297262191772461],\"y\":[-0.18017549812793732],\"type\":\"scatter\"},{\"marker\":{\"color\":\"purple\",\"size\":5},\"mode\":\"markers\",\"name\":\"melospiza.n.01\",\"opacity\":0.4,\"text\":[\"melospiza.n.01\"],\"x\":[3.364492893218994],\"y\":[-0.051514532417058945],\"type\":\"scatter\"},{\"marker\":{\"color\":\"purple\",\"size\":5},\"mode\":\"markers\",\"name\":\"pernis.n.01\",\"opacity\":0.4,\"text\":[\"pernis.n.01\"],\"x\":[3.3887882232666016],\"y\":[0.4943930208683014],\"type\":\"scatter\"},{\"marker\":{\"color\":\"purple\",\"size\":5},\"mode\":\"markers\",\"name\":\"glareola.n.01\",\"opacity\":0.4,\"text\":[\"glareola.n.01\"],\"x\":[3.3827648162841797],\"y\":[-0.51483553647995],\"type\":\"scatter\"},{\"marker\":{\"color\":\"purple\",\"size\":5},\"mode\":\"markers\",\"name\":\"pedionomus.n.01\",\"opacity\":0.4,\"text\":[\"pedionomus.n.01\"],\"x\":[2.1697990894317627],\"y\":[-0.006196091417223215],\"type\":\"scatter\"},{\"marker\":{\"color\":\"purple\",\"size\":5},\"mode\":\"markers\",\"name\":\"coccothraustes.n.01\",\"opacity\":0.4,\"text\":[\"coccothraustes.n.01\"],\"x\":[3.2807326316833496],\"y\":[-0.8733779788017273],\"type\":\"scatter\"},{\"marker\":{\"color\":\"purple\",\"size\":5},\"mode\":\"markers\",\"name\":\"fulmarus.n.01\",\"opacity\":0.4,\"text\":[\"fulmarus.n.01\"],\"x\":[2.997432231903076],\"y\":[0.07554585486650467],\"type\":\"scatter\"},{\"marker\":{\"color\":\"purple\",\"size\":5},\"mode\":\"markers\",\"name\":\"cariama.n.01\",\"opacity\":0.4,\"text\":[\"cariama.n.01\"],\"x\":[3.2785911560058594],\"y\":[-0.08685139566659927],\"type\":\"scatter\"},{\"marker\":{\"color\":\"purple\",\"size\":5},\"mode\":\"markers\",\"name\":\"ajaia.n.01\",\"opacity\":0.4,\"text\":[\"ajaia.n.01\"],\"x\":[2.77988862991333],\"y\":[0.6570941209793091],\"type\":\"scatter\"},{\"marker\":{\"color\":\"purple\",\"size\":5},\"mode\":\"markers\",\"name\":\"dinornis.n.01\",\"opacity\":0.4,\"text\":[\"dinornis.n.01\"],\"x\":[3.5467400550842285],\"y\":[-0.10151349753141403],\"type\":\"scatter\"},{\"marker\":{\"color\":\"purple\",\"size\":5},\"mode\":\"markers\",\"name\":\"alauda.n.01\",\"opacity\":0.4,\"text\":[\"alauda.n.01\"],\"x\":[2.1685001850128174],\"y\":[-0.2220713347196579],\"type\":\"scatter\"},{\"marker\":{\"color\":\"purple\",\"size\":5},\"mode\":\"markers\",\"name\":\"pyrrhula.n.01\",\"opacity\":0.4,\"text\":[\"pyrrhula.n.01\"],\"x\":[3.3320469856262207],\"y\":[-0.1682266891002655],\"type\":\"scatter\"},{\"marker\":{\"color\":\"purple\",\"size\":5},\"mode\":\"markers\",\"name\":\"silvia.n.01\",\"opacity\":0.4,\"text\":[\"silvia.n.01\"],\"x\":[3.097944498062134],\"y\":[-0.10932030528783798],\"type\":\"scatter\"},{\"marker\":{\"color\":\"purple\",\"size\":5},\"mode\":\"markers\",\"name\":\"psaltriparus.n.01\",\"opacity\":0.4,\"text\":[\"psaltriparus.n.01\"],\"x\":[3.08961820602417],\"y\":[-0.3774196207523346],\"type\":\"scatter\"},{\"marker\":{\"color\":\"purple\",\"size\":5},\"mode\":\"markers\",\"name\":\"haematopus.n.01\",\"opacity\":0.4,\"text\":[\"haematopus.n.01\"],\"x\":[4.355442047119141],\"y\":[-0.08939408510923386],\"type\":\"scatter\"},{\"marker\":{\"color\":\"purple\",\"size\":5},\"mode\":\"markers\",\"name\":\"pinguinus.n.01\",\"opacity\":0.4,\"text\":[\"pinguinus.n.01\"],\"x\":[2.1698524951934814],\"y\":[-0.008804909884929657],\"type\":\"scatter\"},{\"marker\":{\"color\":\"purple\",\"size\":5},\"mode\":\"markers\",\"name\":\"buteo.n.01\",\"opacity\":0.4,\"text\":[\"buteo.n.01\"],\"x\":[3.370680570602417],\"y\":[1.0540117025375366],\"type\":\"scatter\"},{\"marker\":{\"color\":\"purple\",\"size\":5},\"mode\":\"markers\",\"name\":\"lanius.n.01\",\"opacity\":0.4,\"text\":[\"lanius.n.01\"],\"x\":[3.2369580268859863],\"y\":[0.44893738627433777],\"type\":\"scatter\"},{\"marker\":{\"color\":\"purple\",\"size\":5},\"mode\":\"markers\",\"name\":\"pygoscelis.n.01\",\"opacity\":0.4,\"text\":[\"pygoscelis.n.01\"],\"x\":[2.8335506916046143],\"y\":[-0.3368489742279053],\"type\":\"scatter\"},{\"marker\":{\"color\":\"gray\",\"size\":5},\"mode\":\"markers\",\"name\":\"garden_centipede.n.01\",\"opacity\":0.4,\"text\":[\"garden_centipede.n.01\"],\"x\":[3.255502939224243],\"y\":[0.6838683485984802],\"type\":\"scatter\"},{\"marker\":{\"color\":\"gray\",\"size\":5},\"mode\":\"markers\",\"name\":\"crustacean.n.01\",\"opacity\":0.4,\"text\":[\"crustacean.n.01\"],\"x\":[5.340787887573242],\"y\":[-0.25633642077445984],\"type\":\"scatter\"},{\"marker\":{\"color\":\"gray\",\"size\":5},\"mode\":\"markers\",\"name\":\"insect.n.01\",\"opacity\":0.4,\"text\":[\"insect.n.01\"],\"x\":[5.7302165031433105],\"y\":[-0.578871488571167],\"type\":\"scatter\"},{\"marker\":{\"color\":\"gray\",\"size\":5},\"mode\":\"markers\",\"name\":\"arachnid.n.01\",\"opacity\":0.4,\"text\":[\"arachnid.n.01\"],\"x\":[4.3923187255859375],\"y\":[-0.3223704397678375],\"type\":\"scatter\"},{\"marker\":{\"color\":\"gray\",\"size\":5},\"mode\":\"markers\",\"name\":\"merostomata.n.01\",\"opacity\":0.4,\"text\":[\"merostomata.n.01\"],\"x\":[4.234086513519287],\"y\":[0.5740060806274414],\"type\":\"scatter\"},{\"marker\":{\"color\":\"gray\",\"size\":5},\"mode\":\"markers\",\"name\":\"millipede.n.01\",\"opacity\":0.4,\"text\":[\"millipede.n.01\"],\"x\":[3.5896756649017334],\"y\":[-0.7446202039718628],\"type\":\"scatter\"},{\"marker\":{\"color\":\"gray\",\"size\":5},\"mode\":\"markers\",\"name\":\"onychophoran.n.01\",\"opacity\":0.4,\"text\":[\"onychophoran.n.01\"],\"x\":[2.778817892074585],\"y\":[0.0031445843633264303],\"type\":\"scatter\"}],                        {\"template\":{\"data\":{\"histogram2dcontour\":[{\"type\":\"histogram2dcontour\",\"colorbar\":{\"outlinewidth\":0,\"ticks\":\"\"},\"colorscale\":[[0.0,\"#0d0887\"],[0.1111111111111111,\"#46039f\"],[0.2222222222222222,\"#7201a8\"],[0.3333333333333333,\"#9c179e\"],[0.4444444444444444,\"#bd3786\"],[0.5555555555555556,\"#d8576b\"],[0.6666666666666666,\"#ed7953\"],[0.7777777777777778,\"#fb9f3a\"],[0.8888888888888888,\"#fdca26\"],[1.0,\"#f0f921\"]]}],\"choropleth\":[{\"type\":\"choropleth\",\"colorbar\":{\"outlinewidth\":0,\"ticks\":\"\"}}],\"histogram2d\":[{\"type\":\"histogram2d\",\"colorbar\":{\"outlinewidth\":0,\"ticks\":\"\"},\"colorscale\":[[0.0,\"#0d0887\"],[0.1111111111111111,\"#46039f\"],[0.2222222222222222,\"#7201a8\"],[0.3333333333333333,\"#9c179e\"],[0.4444444444444444,\"#bd3786\"],[0.5555555555555556,\"#d8576b\"],[0.6666666666666666,\"#ed7953\"],[0.7777777777777778,\"#fb9f3a\"],[0.8888888888888888,\"#fdca26\"],[1.0,\"#f0f921\"]]}],\"heatmap\":[{\"type\":\"heatmap\",\"colorbar\":{\"outlinewidth\":0,\"ticks\":\"\"},\"colorscale\":[[0.0,\"#0d0887\"],[0.1111111111111111,\"#46039f\"],[0.2222222222222222,\"#7201a8\"],[0.3333333333333333,\"#9c179e\"],[0.4444444444444444,\"#bd3786\"],[0.5555555555555556,\"#d8576b\"],[0.6666666666666666,\"#ed7953\"],[0.7777777777777778,\"#fb9f3a\"],[0.8888888888888888,\"#fdca26\"],[1.0,\"#f0f921\"]]}],\"heatmapgl\":[{\"type\":\"heatmapgl\",\"colorbar\":{\"outlinewidth\":0,\"ticks\":\"\"},\"colorscale\":[[0.0,\"#0d0887\"],[0.1111111111111111,\"#46039f\"],[0.2222222222222222,\"#7201a8\"],[0.3333333333333333,\"#9c179e\"],[0.4444444444444444,\"#bd3786\"],[0.5555555555555556,\"#d8576b\"],[0.6666666666666666,\"#ed7953\"],[0.7777777777777778,\"#fb9f3a\"],[0.8888888888888888,\"#fdca26\"],[1.0,\"#f0f921\"]]}],\"contourcarpet\":[{\"type\":\"contourcarpet\",\"colorbar\":{\"outlinewidth\":0,\"ticks\":\"\"}}],\"contour\":[{\"type\":\"contour\",\"colorbar\":{\"outlinewidth\":0,\"ticks\":\"\"},\"colorscale\":[[0.0,\"#0d0887\"],[0.1111111111111111,\"#46039f\"],[0.2222222222222222,\"#7201a8\"],[0.3333333333333333,\"#9c179e\"],[0.4444444444444444,\"#bd3786\"],[0.5555555555555556,\"#d8576b\"],[0.6666666666666666,\"#ed7953\"],[0.7777777777777778,\"#fb9f3a\"],[0.8888888888888888,\"#fdca26\"],[1.0,\"#f0f921\"]]}],\"surface\":[{\"type\":\"surface\",\"colorbar\":{\"outlinewidth\":0,\"ticks\":\"\"},\"colorscale\":[[0.0,\"#0d0887\"],[0.1111111111111111,\"#46039f\"],[0.2222222222222222,\"#7201a8\"],[0.3333333333333333,\"#9c179e\"],[0.4444444444444444,\"#bd3786\"],[0.5555555555555556,\"#d8576b\"],[0.6666666666666666,\"#ed7953\"],[0.7777777777777778,\"#fb9f3a\"],[0.8888888888888888,\"#fdca26\"],[1.0,\"#f0f921\"]]}],\"mesh3d\":[{\"type\":\"mesh3d\",\"colorbar\":{\"outlinewidth\":0,\"ticks\":\"\"}}],\"scatter\":[{\"fillpattern\":{\"fillmode\":\"overlay\",\"size\":10,\"solidity\":0.2},\"type\":\"scatter\"}],\"parcoords\":[{\"type\":\"parcoords\",\"line\":{\"colorbar\":{\"outlinewidth\":0,\"ticks\":\"\"}}}],\"scatterpolargl\":[{\"type\":\"scatterpolargl\",\"marker\":{\"colorbar\":{\"outlinewidth\":0,\"ticks\":\"\"}}}],\"bar\":[{\"error_x\":{\"color\":\"#2a3f5f\"},\"error_y\":{\"color\":\"#2a3f5f\"},\"marker\":{\"line\":{\"color\":\"#E5ECF6\",\"width\":0.5},\"pattern\":{\"fillmode\":\"overlay\",\"size\":10,\"solidity\":0.2}},\"type\":\"bar\"}],\"scattergeo\":[{\"type\":\"scattergeo\",\"marker\":{\"colorbar\":{\"outlinewidth\":0,\"ticks\":\"\"}}}],\"scatterpolar\":[{\"type\":\"scatterpolar\",\"marker\":{\"colorbar\":{\"outlinewidth\":0,\"ticks\":\"\"}}}],\"histogram\":[{\"marker\":{\"pattern\":{\"fillmode\":\"overlay\",\"size\":10,\"solidity\":0.2}},\"type\":\"histogram\"}],\"scattergl\":[{\"type\":\"scattergl\",\"marker\":{\"colorbar\":{\"outlinewidth\":0,\"ticks\":\"\"}}}],\"scatter3d\":[{\"type\":\"scatter3d\",\"line\":{\"colorbar\":{\"outlinewidth\":0,\"ticks\":\"\"}},\"marker\":{\"colorbar\":{\"outlinewidth\":0,\"ticks\":\"\"}}}],\"scattermapbox\":[{\"type\":\"scattermapbox\",\"marker\":{\"colorbar\":{\"outlinewidth\":0,\"ticks\":\"\"}}}],\"scatterternary\":[{\"type\":\"scatterternary\",\"marker\":{\"colorbar\":{\"outlinewidth\":0,\"ticks\":\"\"}}}],\"scattercarpet\":[{\"type\":\"scattercarpet\",\"marker\":{\"colorbar\":{\"outlinewidth\":0,\"ticks\":\"\"}}}],\"carpet\":[{\"aaxis\":{\"endlinecolor\":\"#2a3f5f\",\"gridcolor\":\"white\",\"linecolor\":\"white\",\"minorgridcolor\":\"white\",\"startlinecolor\":\"#2a3f5f\"},\"baxis\":{\"endlinecolor\":\"#2a3f5f\",\"gridcolor\":\"white\",\"linecolor\":\"white\",\"minorgridcolor\":\"white\",\"startlinecolor\":\"#2a3f5f\"},\"type\":\"carpet\"}],\"table\":[{\"cells\":{\"fill\":{\"color\":\"#EBF0F8\"},\"line\":{\"color\":\"white\"}},\"header\":{\"fill\":{\"color\":\"#C8D4E3\"},\"line\":{\"color\":\"white\"}},\"type\":\"table\"}],\"barpolar\":[{\"marker\":{\"line\":{\"color\":\"#E5ECF6\",\"width\":0.5},\"pattern\":{\"fillmode\":\"overlay\",\"size\":10,\"solidity\":0.2}},\"type\":\"barpolar\"}],\"pie\":[{\"automargin\":true,\"type\":\"pie\"}]},\"layout\":{\"autotypenumbers\":\"strict\",\"colorway\":[\"#636efa\",\"#EF553B\",\"#00cc96\",\"#ab63fa\",\"#FFA15A\",\"#19d3f3\",\"#FF6692\",\"#B6E880\",\"#FF97FF\",\"#FECB52\"],\"font\":{\"color\":\"#2a3f5f\"},\"hovermode\":\"closest\",\"hoverlabel\":{\"align\":\"left\"},\"paper_bgcolor\":\"white\",\"plot_bgcolor\":\"#E5ECF6\",\"polar\":{\"bgcolor\":\"#E5ECF6\",\"angularaxis\":{\"gridcolor\":\"white\",\"linecolor\":\"white\",\"ticks\":\"\"},\"radialaxis\":{\"gridcolor\":\"white\",\"linecolor\":\"white\",\"ticks\":\"\"}},\"ternary\":{\"bgcolor\":\"#E5ECF6\",\"aaxis\":{\"gridcolor\":\"white\",\"linecolor\":\"white\",\"ticks\":\"\"},\"baxis\":{\"gridcolor\":\"white\",\"linecolor\":\"white\",\"ticks\":\"\"},\"caxis\":{\"gridcolor\":\"white\",\"linecolor\":\"white\",\"ticks\":\"\"}},\"coloraxis\":{\"colorbar\":{\"outlinewidth\":0,\"ticks\":\"\"}},\"colorscale\":{\"sequential\":[[0.0,\"#0d0887\"],[0.1111111111111111,\"#46039f\"],[0.2222222222222222,\"#7201a8\"],[0.3333333333333333,\"#9c179e\"],[0.4444444444444444,\"#bd3786\"],[0.5555555555555556,\"#d8576b\"],[0.6666666666666666,\"#ed7953\"],[0.7777777777777778,\"#fb9f3a\"],[0.8888888888888888,\"#fdca26\"],[1.0,\"#f0f921\"]],\"sequentialminus\":[[0.0,\"#0d0887\"],[0.1111111111111111,\"#46039f\"],[0.2222222222222222,\"#7201a8\"],[0.3333333333333333,\"#9c179e\"],[0.4444444444444444,\"#bd3786\"],[0.5555555555555556,\"#d8576b\"],[0.6666666666666666,\"#ed7953\"],[0.7777777777777778,\"#fb9f3a\"],[0.8888888888888888,\"#fdca26\"],[1.0,\"#f0f921\"]],\"diverging\":[[0,\"#8e0152\"],[0.1,\"#c51b7d\"],[0.2,\"#de77ae\"],[0.3,\"#f1b6da\"],[0.4,\"#fde0ef\"],[0.5,\"#f7f7f7\"],[0.6,\"#e6f5d0\"],[0.7,\"#b8e186\"],[0.8,\"#7fbc41\"],[0.9,\"#4d9221\"],[1,\"#276419\"]]},\"xaxis\":{\"gridcolor\":\"white\",\"linecolor\":\"white\",\"ticks\":\"\",\"title\":{\"standoff\":15},\"zerolinecolor\":\"white\",\"automargin\":true,\"zerolinewidth\":2},\"yaxis\":{\"gridcolor\":\"white\",\"linecolor\":\"white\",\"ticks\":\"\",\"title\":{\"standoff\":15},\"zerolinecolor\":\"white\",\"automargin\":true,\"zerolinewidth\":2},\"scene\":{\"xaxis\":{\"backgroundcolor\":\"#E5ECF6\",\"gridcolor\":\"white\",\"linecolor\":\"white\",\"showbackground\":true,\"ticks\":\"\",\"zerolinecolor\":\"white\",\"gridwidth\":2},\"yaxis\":{\"backgroundcolor\":\"#E5ECF6\",\"gridcolor\":\"white\",\"linecolor\":\"white\",\"showbackground\":true,\"ticks\":\"\",\"zerolinecolor\":\"white\",\"gridwidth\":2},\"zaxis\":{\"backgroundcolor\":\"#E5ECF6\",\"gridcolor\":\"white\",\"linecolor\":\"white\",\"showbackground\":true,\"ticks\":\"\",\"zerolinecolor\":\"white\",\"gridwidth\":2}},\"shapedefaults\":{\"line\":{\"color\":\"#2a3f5f\"}},\"annotationdefaults\":{\"arrowcolor\":\"#2a3f5f\",\"arrowhead\":0,\"arrowwidth\":1},\"geo\":{\"bgcolor\":\"white\",\"landcolor\":\"#E5ECF6\",\"subunitcolor\":\"white\",\"showland\":true,\"showlakes\":true,\"lakecolor\":\"white\"},\"title\":{\"x\":0.05},\"mapbox\":{\"style\":\"light\"}}},\"annotations\":[{\"font\":{\"color\":\"red\",\"size\":12},\"showarrow\":false,\"text\":\"_hypernym\\tgenus.n.02\",\"x\":0.95,\"xref\":\"paper\",\"y\":0.95,\"yref\":\"paper\"},{\"font\":{\"color\":\"blue\",\"size\":12},\"showarrow\":false,\"text\":\"_hypernym\\tdog.n.01\",\"x\":0.95,\"xref\":\"paper\",\"y\":0.8999999999999999,\"yref\":\"paper\"},{\"font\":{\"color\":\"orange\",\"size\":12},\"showarrow\":false,\"text\":\"_hypernym\\tclothing.n.01\",\"x\":0.95,\"xref\":\"paper\",\"y\":0.85,\"yref\":\"paper\"},{\"font\":{\"color\":\"green\",\"size\":12},\"showarrow\":false,\"text\":\"_hypernym\\tplant_genus.n.01\",\"x\":0.95,\"xref\":\"paper\",\"y\":0.7999999999999999,\"yref\":\"paper\"},{\"font\":{\"color\":\"yellow\",\"size\":12},\"showarrow\":false,\"text\":\"_hypernym\\tmammal_genus.n.01\",\"x\":0.95,\"xref\":\"paper\",\"y\":0.75,\"yref\":\"paper\"},{\"font\":{\"color\":\"purple\",\"size\":12},\"showarrow\":false,\"text\":\"_hypernym\\tbird_genus.n.01\",\"x\":0.95,\"xref\":\"paper\",\"y\":0.7,\"yref\":\"paper\"},{\"font\":{\"color\":\"gray\",\"size\":12},\"showarrow\":false,\"text\":\"_hypernym\\tarthropod.n.01\",\"x\":0.95,\"xref\":\"paper\",\"y\":0.6499999999999999,\"yref\":\"paper\"},{\"font\":{\"size\":20},\"showarrow\":false,\"text\":\"HAKE\",\"x\":0.5,\"xref\":\"paper\",\"y\":1.1,\"yref\":\"paper\"}],\"xaxis\":{\"scaleanchor\":\"y\",\"scaleratio\":1},\"yaxis\":{\"title\":{\"text\":\" \"},\"scaleanchor\":\"x\",\"scaleratio\":1},\"title\":{\"text\":\"\"},\"showlegend\":false,\"width\":550,\"height\":500},                        {\"responsive\": true}                    ).then(function(){\n",
       "                            \n",
       "var gd = document.getElementById('99e93764-45ee-4e1f-94db-208056c43c9a');\n",
       "var x = new MutationObserver(function (mutations, observer) {{\n",
       "        var display = window.getComputedStyle(gd).display;\n",
       "        if (!display || display === 'none') {{\n",
       "            console.log([gd, 'removed!']);\n",
       "            Plotly.purge(gd);\n",
       "            observer.disconnect();\n",
       "        }}\n",
       "}});\n",
       "\n",
       "// Listen for the removal of the full notebook cells\n",
       "var notebookContainer = gd.closest('#notebook-container');\n",
       "if (notebookContainer) {{\n",
       "    x.observe(notebookContainer, {childList: true});\n",
       "}}\n",
       "\n",
       "// Listen for the clearing of the current output cell\n",
       "var outputEl = gd.closest('.output');\n",
       "if (outputEl) {{\n",
       "    x.observe(outputEl, {childList: true});\n",
       "}}\n",
       "\n",
       "                        })                };                });            </script>        </div>"
      ]
     },
     "metadata": {},
     "output_type": "display_data"
    }
   ],
   "source": [
    "import plotly.graph_objects as go\n",
    "import numpy as np\n",
    "import os\n",
    "\n",
    "# モデルのパスや埋め込み範囲などのパラメータの設定\n",
    "model_path = '/home/lab/eight/KGE-HAKE/models/HAKE_wn18rr_0'\n",
    "embedding_range = 0.01\n",
    "model = 'HAKE'\n",
    "entities_dict_text_file = '/home/lab/eight/KGE-HAKE/data/wn18rr_text/entities.dict'\n",
    "entities_dict_number_file = '/home/lab/eight/KGE-HAKE/data/wn18rr/entities.dict'\n",
    "train_file = '/home/lab/eight/KGE-HAKE/data/wn18rr/train.txt'\n",
    "# 対象の値とファイルパスを指定して関数を実行\n",
    "target_values = [[\"genus.n.02\", 'red'], [\"dog.n.01\", 'blue'], [\"clothing.n.01\", 'orange'], [\"plant_genus.n.01\", 'green'],[\"mammal_genus.n.01\", 'yellow'], [\"bird_genus.n.01\", 'purple'], [\"arthropod.n.01\", 'gray']]\n",
    "\n",
    "\n",
    "fig = go.Figure()\n",
    "# エンティティの埋め込みをロード\n",
    "entity_embedding = np.load(os.path.join(model_path, 'entity_embedding.npy'))\n",
    "\n",
    "def load_entities_dict_number(file_path):\n",
    "    entities_dict_number = {}\n",
    "    with open(file_path, 'r', encoding='utf-8') as f:\n",
    "        for line in f:\n",
    "            parts = line.strip().split('\\t')\n",
    "            entities_dict_number[int(parts[0])] = parts[1]\n",
    "    return entities_dict_number\n",
    "\n",
    "# エンティティ名のtext辞書読み込み\n",
    "entities_dict_text = load_entities_dict_number(entities_dict_text_file)\n",
    "# エンティティ名のnumber辞書読み込み\n",
    "entities_dict_number = load_entities_dict_number(entities_dict_number_file)\n",
    "\n",
    "def extract_and_search_data(target_value, train_file_path, entities_dict_text_file, entities_dict_number_file):\n",
    "    # エンティティ名のtext辞書読み込み\n",
    "    def load_entities_dict(file_path):\n",
    "        entities_dict = {}\n",
    "        with open(file_path, 'r', encoding='utf-8') as f:\n",
    "            for line in f:\n",
    "                parts = line.strip().split('\\t')\n",
    "                entities_dict[int(parts[0])] = parts[1]\n",
    "        return entities_dict\n",
    "\n",
    "    entities_dict_text = load_entities_dict(entities_dict_text_file)\n",
    "    entities_dict_number = load_entities_dict(entities_dict_number_file)\n",
    "\n",
    "    # エンティティ名からインデックスを取得する関数\n",
    "    def text_to_num(target_value):\n",
    "        for index, value in entities_dict_text.items():\n",
    "            if value == target_value:\n",
    "                return entities_dict_number[index]\n",
    "\n",
    "    # 対象の値からインデックスを取得\n",
    "    num = text_to_num(target_value)\n",
    "\n",
    "    # ファイルからデータを抽出する関数\n",
    "    def extract_data(file_path, target_value):\n",
    "        target_value = \"_hypernym\\t\" + target_value\n",
    "        extracted_data = []\n",
    "        with open(file_path, 'r', encoding='utf-8') as f:\n",
    "            for line in f:\n",
    "                if target_value in line:\n",
    "                    parts = line.strip().split('\\t')\n",
    "                    extracted_data.append(parts[0])\n",
    "        return extracted_data\n",
    "\n",
    "    # ファイルからデータを検索する関数\n",
    "    def search_num(extracted_data, file_path):\n",
    "        data = []\n",
    "        with open(file_path, 'r', encoding='utf-8') as f:\n",
    "            for line in f:\n",
    "                for i in extracted_data:\n",
    "                    if i in line:\n",
    "                        parts = line.strip().split('\\t')\n",
    "                        data.append(parts[0])\n",
    "        return data\n",
    "\n",
    "    # データを抽出\n",
    "    extracted_data = extract_data(train_file_path, num)\n",
    "\n",
    "    # データを検索\n",
    "    searched_data = search_num(extracted_data, entities_dict_number_file)\n",
    "\n",
    "    return searched_data\n",
    "\n",
    "# def calculate_mean_coordinates(extracted_data, entity_embedding, embedding_range, entities_dict_text):\n",
    "#     mean_coordinates = []\n",
    "#     for entity_id_str in extracted_data:\n",
    "#         entity_id = int(entity_id_str)\n",
    "#         entity = entity_embedding[entity_id]\n",
    "#         phase, mod = np.split(entity, 2)\n",
    "#         mod = np.log(np.abs(mod)) * np.sign(mod)\n",
    "#         phase = phase / embedding_range * np.pi \n",
    "#         mod_mean = np.mean(mod)\n",
    "#         phase_mean = np.mean(phase)\n",
    "#         x, y = mod_mean * np.cos(phase_mean), mod_mean * np.sin(phase_mean)\n",
    "#         mean_coordinates.append((x, y))\n",
    "#     return mean_coordinates\n",
    "\n",
    "def calculate_mean_coordinates(extracted_data, entity_embedding, embedding_range, entities_dict_text):\n",
    "    mean_coordinates = []\n",
    "    for entity_id_str in extracted_data:\n",
    "        entity_id = int(entity_id_str)\n",
    "        entity = entity_embedding[entity_id]\n",
    "        phase, mod = np.split(entity, 2)\n",
    "        mod = np.log(np.abs(mod))\n",
    "        phase = phase / embedding_range * np.pi\n",
    "        \n",
    "        mod_mean = np.mean(mod)\n",
    "        phase_mean = np.mean(phase)\n",
    "        \n",
    "        x, y = mod_mean * np.cos(phase_mean) * (-1), mod_mean * np.sin(phase_mean)\n",
    "        mean_coordinates.append((x, y))\n",
    "    \n",
    "    return mean_coordinates\n",
    "\n",
    "\n",
    "for i in target_values:\n",
    "    target_value, target_color = i[0], i[1]\n",
    "    extracted_data = extract_and_search_data(target_value, train_file, entities_dict_text_file, entities_dict_number_file)\n",
    "    print(target_value, 'num:',len(extracted_data), extracted_data)\n",
    "\n",
    "    mean_coordinates = calculate_mean_coordinates(extracted_data, entity_embedding, embedding_range, entities_dict_text)\n",
    "\n",
    "    # 平均座標のプロット\n",
    "    for entity_id_str, (x, y) in zip(extracted_data, mean_coordinates):\n",
    "        # entity_id_strを整数に変換\n",
    "        entity_id = int(entity_id_str)\n",
    "        fig.add_trace(go.Scatter(x=[x], y=[y], mode='markers', name=entities_dict_text[entity_id], marker=dict(color=target_color, size=5), text=[entities_dict_text[entity_id]], opacity=0.4))\n",
    "\n",
    "# 色と対応するエンティティの説明を右上に追加\n",
    "for i, (target_value, target_color) in enumerate(target_values):\n",
    "    fig.add_annotation(\n",
    "        text=\"_hypernym\t\" + target_value,\n",
    "        x=0.95,  # テキストのx座標 (0.95は図の右端から5%左)\n",
    "        y=0.95 - i * 0.05,  # テキストのy座標 (0.95は図の上端から5%下)\n",
    "        xref=\"paper\",  # x座標の参照元 (paperは図の左端、dataはデータ座標)\n",
    "        yref=\"paper\",  # y座標の参照元 (paperは図の下端、dataはデータ座標)\n",
    "        showarrow=False,  # 矢印を非表示にする\n",
    "        font=dict(size=12, color=target_color),  # テキストのフォントサイズと色\n",
    "    )\n",
    "\n",
    "# HAKEテキストの追加\n",
    "fig.add_annotation(\n",
    "    text=model,  # 表示するテキスト\n",
    "    xref=\"paper\",  # x座標の参照元 (paperは図の左端、dataはデータ座標)\n",
    "    yref=\"paper\",  # y座標の参照元 (paperは図の下端、dataはデータ座標)\n",
    "    x=0.5,  # x座標 (0.5は図の中央)\n",
    "    y=1.1,  # y座標 (1.05は図の上端から5%上)\n",
    "    showarrow=False,  # 矢印を非表示にする\n",
    "    font=dict(size=20),  # テキストのフォントサイズ\n",
    ")\n",
    "# レイアウトの設定\n",
    "fig.update_layout(\n",
    "    title=\"\",\n",
    "    yaxis_title=\" \",\n",
    "    showlegend=False,\n",
    "    width=550,  # 幅\n",
    "    height=500,  # 高さ\n",
    "    xaxis=dict(scaleanchor=\"y\", scaleratio=1),  # x軸のアスペクト比を1:1に設定\n",
    "    yaxis=dict(scaleanchor=\"x\", scaleratio=1),  # y軸のアスペクト比を1:1に設定\n",
    ")\n",
    "\n",
    "# プロットの表示\n",
    "fig.show()"
   ]
  }
 ],
 "metadata": {
  "kernelspec": {
   "display_name": "Python 3",
   "language": "python",
   "name": "python3"
  },
  "language_info": {
   "codemirror_mode": {
    "name": "ipython",
    "version": 3
   },
   "file_extension": ".py",
   "mimetype": "text/x-python",
   "name": "python",
   "nbconvert_exporter": "python",
   "pygments_lexer": "ipython3",
   "version": "3.6.15"
  }
 },
 "nbformat": 4,
 "nbformat_minor": 2
}
